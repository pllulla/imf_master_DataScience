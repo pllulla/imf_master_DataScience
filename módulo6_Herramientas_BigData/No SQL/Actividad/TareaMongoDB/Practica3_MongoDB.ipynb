{
 "cells": [
  {
   "cell_type": "code",
   "execution_count": 40,
   "id": "1c7abc67",
   "metadata": {},
   "outputs": [],
   "source": [
    "from pymongo import MongoClient\n",
    "import json\n",
    "\n",
    "# Conexión a MongoDB\n",
    "client = MongoClient('localhost', 27017)\n",
    "db = client['imf']\n",
    "collection = db['cities']\n",
    "\n",
    "# Eliminar todos los documentos de la colección (por si existen anteriormente)\n",
    "collection.delete_many({})\n",
    "\n",
    "# Leer línea por línea\n",
    "with open('cities.json', 'r', encoding='utf-8') as file:\n",
    "    for line in file:\n",
    "        if line.strip() == \"\":\n",
    "            continue\n",
    "        \n",
    "        # Cargar la línea como JSON\n",
    "        record = json.loads(line)\n",
    "        \n",
    "        # Insertar en MongoDB\n",
    "        collection.insert_one(record)\n"
   ]
  },
  {
   "cell_type": "code",
   "execution_count": 41,
   "id": "0a7dedde",
   "metadata": {},
   "outputs": [
    {
     "name": "stdout",
     "output_type": "stream",
     "text": [
      "Base de datos: admin\n",
      "Base de datos: config\n",
      "Base de datos: imf\n",
      "Base de datos: local\n",
      "Base de datos: test\n"
     ]
    }
   ],
   "source": [
    "# Crea la base de datos \"imf\"\n",
    "db = client['imf']\n",
    "collection = db[\"cities\"]\n",
    "\n",
    "# Lista de las bases de datos\n",
    "db_list = client.list_database_names()\n",
    "\n",
    "# Imprime las bases de datos\n",
    "for db_name in db_list:\n",
    "    print(f\"Base de datos: {db_name}\")\n"
   ]
  },
  {
   "cell_type": "code",
   "execution_count": 45,
   "id": "e804ec02",
   "metadata": {},
   "outputs": [
    {
     "name": "stdout",
     "output_type": "stream",
     "text": [
      "Ciudad: PROVIDENCE\n",
      "Población: 31069\n",
      "---------------------\n",
      "Ciudad: NEW YORK\n",
      "Población: 18913\n",
      "---------------------\n",
      "Ciudad: MIAMI\n",
      "Población: 47761\n",
      "---------------------\n",
      "Ciudad: CRANSTON\n",
      "Población: 25668\n",
      "---------------------\n",
      "Ciudad: AGAWAM\n",
      "Población: 15338\n",
      "---------------------\n"
     ]
    }
   ],
   "source": [
    "# Mostrar el nombre y la población de las ciudades donde la población\n",
    "# supera los 10000 habitantes\n",
    "\n",
    "collection = db[\"cities\"]\n",
    "\n",
    "# Consulta ciudades con población mayor a 10,000 habitantes\n",
    "query = {\"pop\": {\"$gt\": 10000}}\n",
    "\n",
    "# Mostrar el campo \"pop\" junto con otros campos\n",
    "projection = {\"city\": 1, \"pop\": 1}\n",
    "\n",
    "# Ejecutar la consulta\n",
    "results = collection.find(query, projection)\n",
    "\n",
    "# Mostrar los resultados\n",
    "for result in results:\n",
    "\n",
    "    # Verificar si el campo \"city\" existe\n",
    "    if \"city\" in result:\n",
    "        print(\"Ciudad:\", result[\"city\"])\n",
    "    else:\n",
    "        continue\n",
    "    \n",
    "    # Verificar si el campo \"pop\" existe\n",
    "    if \"pop\" in result:\n",
    "        print(\"Población:\", result[\"pop\"])\n",
    "    else:\n",
    "        continue\n",
    "    print(\"---------------------\")    "
   ]
  },
  {
   "cell_type": "code",
   "execution_count": 46,
   "id": "02957107",
   "metadata": {},
   "outputs": [
    {
     "name": "stdout",
     "output_type": "stream",
     "text": [
      "Ciudad: PROVIDENCE\n",
      "Estado (_id): RI\n",
      "Nombre del Estado: Rhode Island\n",
      "Población del Estado: 1060000\n",
      "---------------------\n",
      "Ciudad: NEW YORK\n",
      "Estado (_id): NY\n",
      "Nombre del Estado: New York\n",
      "Población del Estado: 28300000\n",
      "---------------------\n",
      "Ciudad: MIAMI\n",
      "Estado (_id): FL\n",
      "Nombre del Estado: Florida\n",
      "Población del Estado: 6800000\n",
      "---------------------\n",
      "Ciudad: CRANSTON\n",
      "Estado (_id): RI\n",
      "Nombre del Estado: Rhode Island\n",
      "Población del Estado: 1060000\n",
      "---------------------\n",
      "Ciudad: AGAWAM\n",
      "Estado (_id): MA\n",
      "Nombre del Estado: Massachusetts\n",
      "Población del Estado: 6868000\n",
      "---------------------\n"
     ]
    }
   ],
   "source": [
    "# Mostrar el nombre y la población del estado según las ciudades mostradas anteriormente\n",
    "collection = db[\"cities\"]\n",
    "\n",
    "# Lista de ciudades anteriores\n",
    "ciudades_con_estado = [\"PROVIDENCE\",\"AGAWAM\", \"NEW YORK\", \"MIAMI\", \"CRANSTON\"]\n",
    "\n",
    "# Consulta para encontrar el estado (_id) de las ciudades\n",
    "query_estado = {\"city\": {\"$in\": ciudades_con_estado}}\n",
    "\n",
    "# Ejecutar la consulta\n",
    "resultados_estado = collection.find(query_estado, {\"city\": 1, \"pop\": 1, \"state\": 1})\n",
    "\n",
    "# Mostrar los resultados\n",
    "for resultado_estado in resultados_estado:\n",
    "    # Verificar si los campos necesarios existen\n",
    "    if \"city\" in resultado_estado and \"pop\" in resultado_estado and \"state\" in resultado_estado:\n",
    "        print(\"Ciudad:\", resultado_estado[\"city\"])\n",
    "        print(\"Estado (_id):\", resultado_estado[\"state\"])\n",
    "        \n",
    "        # Consulta para encontrar la información del estado\n",
    "        query_info_estado = {\"_id\": resultado_estado[\"state\"]}\n",
    "        info_estado = collection.find_one(query_info_estado)\n",
    "        \n",
    "        # Verificar si se encontró la información del estado\n",
    "        if info_estado:\n",
    "            print(\"Nombre del Estado:\", info_estado[\"name\"])\n",
    "            print(\"Población del Estado:\", info_estado[\"pop\"])\n",
    "        else:\n",
    "            continue\n",
    "    print(\"---------------------\")"
   ]
  },
  {
   "cell_type": "code",
   "execution_count": 47,
   "id": "efe94a89",
   "metadata": {},
   "outputs": [
    {
     "name": "stdout",
     "output_type": "stream",
     "text": [
      "_id: 02906\n",
      "Ciudad: PROVIDENCE\n",
      "Nombre de la Ciudad Capital: Providence\n",
      "Población: 31069\n",
      "---------------------\n",
      "_id: 33125\n",
      "Ciudad: MIAMI\n",
      "Nombre de la Ciudad Capital: Tallahassee\n",
      "Población: 47761\n",
      "---------------------\n",
      "_id: 02907\n",
      "Ciudad: CRANSTON\n",
      "Nombre de la Ciudad Capital: Providence\n",
      "Población: 25668\n",
      "---------------------\n"
     ]
    }
   ],
   "source": [
    "# Muestra el _id, ciudad, nombre de la ciudad capital de cada estado\n",
    "# con una población mayor a 20,000 habitantes.\n",
    "\n",
    "collection = db[\"cities\"]\n",
    "query = {\"pop\": {\"$gt\": 20000}}\n",
    "\n",
    "projection = {\"_id\": 1, \"city\": 1, \"capital.name\": 1, \"state\": 1, \"pop\": 1}\n",
    "\n",
    "# Ejecutar la consulta\n",
    "results = collection.find(query, projection)\n",
    "\n",
    "# Mostrar los resultados\n",
    "for result in results:\n",
    "    if \"city\" in result:\n",
    "        print(\"_id:\", result[\"_id\"])\n",
    "    else:\n",
    "        continue\n",
    "    \n",
    "    # Verificar si el campo \"city\" existe antes de intentar imprimirlo\n",
    "    if \"city\" in result:\n",
    "        print(\"Ciudad:\", result[\"city\"])\n",
    "    else:\n",
    "        continue\n",
    "    \n",
    "    # Verificar si el campo \"capital\" y \"name\" existen\n",
    "    if \"capital\" in result and \"name\" in result[\"capital\"]:\n",
    "        print(\"Nombre de la Ciudad Capital:\", result[\"capital\"][\"name\"])\n",
    "    else:\n",
    "        continue\n",
    "    \n",
    "    # Verificar si el campo \"pop\" existe\n",
    "    if \"pop\" in result:\n",
    "        print(\"Población:\", result[\"pop\"])\n",
    "    else:\n",
    "        continue\n",
    "    print(\"---------------------\")"
   ]
  },
  {
   "cell_type": "code",
   "execution_count": null,
   "id": "002ec563",
   "metadata": {},
   "outputs": [],
   "source": []
  }
 ],
 "metadata": {
  "kernelspec": {
   "display_name": "Python 3 (ipykernel)",
   "language": "python",
   "name": "python3"
  },
  "language_info": {
   "codemirror_mode": {
    "name": "ipython",
    "version": 3
   },
   "file_extension": ".py",
   "mimetype": "text/x-python",
   "name": "python",
   "nbconvert_exporter": "python",
   "pygments_lexer": "ipython3",
   "version": "3.11.4"
  }
 },
 "nbformat": 4,
 "nbformat_minor": 5
}
