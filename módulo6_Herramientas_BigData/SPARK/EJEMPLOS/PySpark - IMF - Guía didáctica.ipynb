{
 "cells": [
  {
   "cell_type": "markdown",
   "metadata": {
    "id": "ETaCeH1KAcoL"
   },
   "source": [
    "# Datos\n",
    "\n",
    "En Spark hay tres formas de trabajar con los datos: RDD, DataFrames y DataSets. En Pyspark >>v 2.0 sobretodo se termina trabajando en DataFrames porque `py` no tiene una interfaz nativa de Datasets y es mucho más fácil e intuititvo que trabajar con RDD.\n",
    "\n",
    "\n",
    "\n",
    "# PySpark: RDD\n",
    "\n",
    "\n",
    "**Colección** de registros o filas (recordad, en **memoria**), que representan una entidad (por ejemplo, un vuelo, un curso, un alumno) sobre las que se puede aplicar operaciones - métodos - de *transformación* en otro RDD, o invocar *acciones* para recuperar resultados.\n",
    "\n",
    "\n",
    "\n",
    "1. Particionado: se distribuyen los datos por todos los nodos del cluster. Nº x defecto -> numero de cores disponibles\n",
    "2. Inmutables: una vez se crean, no pueden cambiar\n",
    "3. Resilentes: si un nodo cae, los datos se pueden reconstruir\n",
    "\n",
    "Otras características: RDD no tiene soporte para la ejecución optimizada, esto es, no optimiza la secuencia de acciones a realizar para obtener el resultado, y permite tipado fuerte.\n",
    "\n",
    "El procesamiento ocurre de forma distribuida en los nodos, pero en el caso de Spark los datos se almacenan en la memoria de cada nodo del cluster\n",
    "\n",
    "# Operaciones\n",
    "\n",
    "Existen dos tipos de operaciones:\n",
    "+ Transformaciones: transforman el RDD en otro RDD \n",
    "+ Acciones: obtienen el resultado (collect)\n",
    "\n",
    "Lo más importante en este punto es tener claro que las transformaciones se pueden aplicar en cadena, pero no se ejecutan hasta que se hace la llamada a la acción. De este modo se genera un Grafo Acíclico Dirigido (DAG) de transformaciones.\n",
    "\n",
    "# Dataframes\n",
    "\n",
    "Se asimilan a una tabla de BBDD.\n",
    "Se generan sobre los RDD y por tanto comparten sus características, pero te facilitan una mayor abstracción al realizar las operaciones.\n",
    "\n",
    "\n",
    "## Nota: Datasets\n",
    "\n",
    "En Py no no se suelen usar los datasets. Podéis pensar en ellos como una interfaz evolucionada de los dataframes, mezclando lo mejor de los dos mundos: tipado fuerte y optimización.\n"
   ]
  },
  {
   "cell_type": "markdown",
   "metadata": {
    "id": "BCGyEt25Hh-P"
   },
   "source": [
    "# Cargar pyspark en el sistema\n",
    "\n",
    "SparkSession es el punto de entrada de un programa Spark. En versiones anteriores, si quisiéramos trabajar con Hive o SQL, habría que declarar varios contextos. Con Spark Session nos abstraemos de los diferentes contextos y utilizamos un único punto de entrada para leer datos, gestionar los recursos del cluster o trabajar con metadatos.\n",
    "\n",
    "Para más info sobre `Spark Session` https://spark.apache.org/docs/latest/api/python/reference/api/pyspark.sql.SparkSession.html\n",
    "\n",
    "Y https://spark.apache.org/docs/2.3.0/configuration.html\n",
    "\n",
    "No todas las opciones siempre van a ser iguales. En este caso, he especificado que quiero que se use spark en local con tantos threads como me permita mi máquina ( `master(\"local[*]\")`) y dependerá, también, de la plataforma donde estés ejecutando spark.\n",
    "\n",
    "Por ejemplo, en GCP puedo tener esta configuración:\n",
    "\n",
    "`spark = SparkSession.builder \\\n",
    "    ``.appName('PySpark MyApp')`\n",
    "    `.config('spark.jars', 'gs://spark-lib/\n",
    "    `bigquery`spark-bigquery-latest_2.12.jar')`\n",
    "    `.config('spark.driver.maxResultSize', '150g')\\\n",
    "    .getOrCreate()`\n",
    "``spark.conf.set(\"spark.sql.repl.eagerEval.enabled\", True)``\n"
   ]
  },
  {
   "cell_type": "code",
   "execution_count": 1,
   "metadata": {
    "colab": {
     "base_uri": "https://localhost:8080/",
     "height": 242
    },
    "executionInfo": {
     "elapsed": 9661,
     "status": "ok",
     "timestamp": 1645549303643,
     "user": {
      "displayName": "Raul A. del Aguila",
      "photoUrl": "https://lh3.googleusercontent.com/a-/AOh14GhfFNUGPyK9gz8r-RWHTZpe0mOgynVvayaNWIW_6A=s64",
      "userId": "00351547175787129250"
     },
     "user_tz": -60
    },
    "id": "EtzN28KKIY82",
    "outputId": "b9c191d5-a837-4218-9c53-a92a6bbe614e"
   },
   "outputs": [
    {
     "name": "stderr",
     "output_type": "stream",
     "text": [
      "23/09/25 11:34:26 WARN Utils: Your hostname, EliteX2 resolves to a loopback address: 127.0.1.1; using 192.168.5.94 instead (on interface wifi0)\n",
      "23/09/25 11:34:26 WARN Utils: Set SPARK_LOCAL_IP if you need to bind to another address\n",
      "Setting default log level to \"WARN\".\n",
      "To adjust logging level use sc.setLogLevel(newLevel). For SparkR, use setLogLevel(newLevel).\n",
      "23/09/25 11:34:28 WARN NativeCodeLoader: Unable to load native-hadoop library for your platform... using builtin-java classes where applicable\n"
     ]
    },
    {
     "data": {
      "text/html": [
       "\n",
       "            <div>\n",
       "                <p><b>SparkSession - in-memory</b></p>\n",
       "                \n",
       "        <div>\n",
       "            <p><b>SparkContext</b></p>\n",
       "\n",
       "            <p><a href=\"http://192.168.5.94:4040\">Spark UI</a></p>\n",
       "\n",
       "            <dl>\n",
       "              <dt>Version</dt>\n",
       "                <dd><code>v3.4.0</code></dd>\n",
       "              <dt>Master</dt>\n",
       "                <dd><code>local[*]</code></dd>\n",
       "              <dt>AppName</dt>\n",
       "                <dd><code>Varios</code></dd>\n",
       "            </dl>\n",
       "        </div>\n",
       "        \n",
       "            </div>\n",
       "        "
      ],
      "text/plain": [
       "<pyspark.sql.session.SparkSession at 0x7f60761f7550>"
      ]
     },
     "execution_count": 1,
     "metadata": {},
     "output_type": "execute_result"
    }
   ],
   "source": [
    "from pyspark.sql import SparkSession\n",
    "from pyspark.sql import functions as F, types as T\n",
    "spark = SparkSession.builder.appName(\"Varios\").master(\"local[*]\").getOrCreate()\n",
    "spark"
   ]
  },
  {
   "cell_type": "markdown",
   "metadata": {},
   "source": [
    "# Web UI Spark\n",
    "https://medium.com/iwannabedatadriven/entenWeb UI Sparkdiendo-la-interfaz-de-usuario-de-spark-web-ui-spark-ii-5f84f05545a"
   ]
  },
  {
   "cell_type": "code",
   "execution_count": null,
   "metadata": {},
   "outputs": [],
   "source": [
    "# http://localhost:4040"
   ]
  },
  {
   "cell_type": "markdown",
   "metadata": {
    "id": "IImWwtaEKHXB"
   },
   "source": [
    "# Importación \n",
    "\n",
    "En versiones anteriores de Spark, la forma de crear un RDD a partir de textos era con las funciones `parallelize((tupla1),(tupla2),...,(tuplaN))` o leyendo los archivos de textos `textFile(ruta, particiones)` Ahora se puede utilizar la interfaz `read.` para leer los archivos y transformando los datos a un dataframe\n",
    "\n",
    "Spark permite la lectura de diferentes formatos: `json, parquet, avro, csv o accediendo mediante jdbc a datos de la bbdd`. En entornos cloud, existen interfaces para conectar con sus repositorios (por ejemplo, en Google, con BigQuery)"
   ]
  },
  {
   "cell_type": "code",
   "execution_count": 2,
   "metadata": {
    "colab": {
     "base_uri": "https://localhost:8080/"
    },
    "executionInfo": {
     "elapsed": 12089,
     "status": "ok",
     "timestamp": 1645549315727,
     "user": {
      "displayName": "Raul A. del Aguila",
      "photoUrl": "https://lh3.googleusercontent.com/a-/AOh14GhfFNUGPyK9gz8r-RWHTZpe0mOgynVvayaNWIW_6A=s64",
      "userId": "00351547175787129250"
     },
     "user_tz": -60
    },
    "id": "J-2gRfS-KQyF",
    "outputId": "0c59a386-61ed-464b-f615-34cd858a26e7"
   },
   "outputs": [
    {
     "name": "stderr",
     "output_type": "stream",
     "text": [
      "\r",
      "[Stage 0:>                                                          (0 + 1) / 1]\r",
      "\r",
      "                                                                                \r"
     ]
    },
    {
     "name": "stdout",
     "output_type": "stream",
     "text": [
      "<class 'pyspark.sql.dataframe.DataFrame'>\n"
     ]
    }
   ],
   "source": [
    "archivo = 'california_housing_train.csv'\n",
    "df_spark = spark.read.csv(archivo, inferSchema=True, header=True)\n",
    "\n",
    "# imprimir tipo de archivo\n",
    "print(type(df_spark))\n",
    "\n",
    "# RDD tradicional: spark.textFile(ruta,...)\n"
   ]
  },
  {
   "cell_type": "code",
   "execution_count": null,
   "metadata": {
    "id": "d49eiq3bkbF8"
   },
   "outputs": [],
   "source": []
  },
  {
   "cell_type": "markdown",
   "metadata": {
    "id": "gEzRHXIxBAjA"
   },
   "source": [
    "# RDD\n",
    "\n",
    "## Revisar el número de particiones que tenemos en el dataset"
   ]
  },
  {
   "cell_type": "code",
   "execution_count": 3,
   "metadata": {
    "colab": {
     "base_uri": "https://localhost:8080/"
    },
    "executionInfo": {
     "elapsed": 5,
     "status": "ok",
     "timestamp": 1645549315728,
     "user": {
      "displayName": "Raul A. del Aguila",
      "photoUrl": "https://lh3.googleusercontent.com/a-/AOh14GhfFNUGPyK9gz8r-RWHTZpe0mOgynVvayaNWIW_6A=s64",
      "userId": "00351547175787129250"
     },
     "user_tz": -60
    },
    "id": "ApfZK71OBZ6j",
    "outputId": "bc1d38e1-34a5-4360-b3f7-5aa67dd82722"
   },
   "outputs": [
    {
     "data": {
      "text/plain": [
       "pyspark.rdd.RDD"
      ]
     },
     "execution_count": 3,
     "metadata": {},
     "output_type": "execute_result"
    }
   ],
   "source": [
    "rddspark = df_spark.rdd\n",
    "type(rddspark)"
   ]
  },
  {
   "cell_type": "code",
   "execution_count": 4,
   "metadata": {
    "id": "EawyndC0l-gF"
   },
   "outputs": [],
   "source": [
    "df_spark2 = df_spark.repartition(3)"
   ]
  },
  {
   "cell_type": "code",
   "execution_count": 5,
   "metadata": {
    "colab": {
     "base_uri": "https://localhost:8080/"
    },
    "executionInfo": {
     "elapsed": 1199,
     "status": "ok",
     "timestamp": 1645549316924,
     "user": {
      "displayName": "Raul A. del Aguila",
      "photoUrl": "https://lh3.googleusercontent.com/a-/AOh14GhfFNUGPyK9gz8r-RWHTZpe0mOgynVvayaNWIW_6A=s64",
      "userId": "00351547175787129250"
     },
     "user_tz": -60
    },
    "id": "A9F91dlUmGOG",
    "outputId": "a6e47487-e956-4613-8d48-fd9a156b9047"
   },
   "outputs": [
    {
     "name": "stderr",
     "output_type": "stream",
     "text": [
      "\r",
      "[Stage 2:>                                                          (0 + 1) / 1]\r"
     ]
    },
    {
     "name": "stdout",
     "output_type": "stream",
     "text": [
      "3\n"
     ]
    }
   ],
   "source": [
    "print(df_spark2.rdd.getNumPartitions())\n"
   ]
  },
  {
   "cell_type": "code",
   "execution_count": 6,
   "metadata": {
    "colab": {
     "base_uri": "https://localhost:8080/"
    },
    "executionInfo": {
     "elapsed": 11,
     "status": "ok",
     "timestamp": 1645549316924,
     "user": {
      "displayName": "Raul A. del Aguila",
      "photoUrl": "https://lh3.googleusercontent.com/a-/AOh14GhfFNUGPyK9gz8r-RWHTZpe0mOgynVvayaNWIW_6A=s64",
      "userId": "00351547175787129250"
     },
     "user_tz": -60
    },
    "id": "3-giA-HUBhnI",
    "outputId": "f835cb84-439a-4e91-842b-1bf4170cfa03"
   },
   "outputs": [
    {
     "data": {
      "text/plain": [
       "1"
      ]
     },
     "execution_count": 6,
     "metadata": {},
     "output_type": "execute_result"
    }
   ],
   "source": [
    "rddspark.getNumPartitions()\n"
   ]
  },
  {
   "cell_type": "code",
   "execution_count": 7,
   "metadata": {
    "id": "0Tnlfj2DCpeR"
   },
   "outputs": [],
   "source": [
    "rddspark2 = rddspark.repartition(3)\n"
   ]
  },
  {
   "cell_type": "code",
   "execution_count": 8,
   "metadata": {
    "colab": {
     "base_uri": "https://localhost:8080/"
    },
    "executionInfo": {
     "elapsed": 10,
     "status": "ok",
     "timestamp": 1645549316925,
     "user": {
      "displayName": "Raul A. del Aguila",
      "photoUrl": "https://lh3.googleusercontent.com/a-/AOh14GhfFNUGPyK9gz8r-RWHTZpe0mOgynVvayaNWIW_6A=s64",
      "userId": "00351547175787129250"
     },
     "user_tz": -60
    },
    "id": "8URk5OZOCpsL",
    "outputId": "ac021c73-064c-461e-ccb3-b31900353009"
   },
   "outputs": [
    {
     "data": {
      "text/plain": [
       "3"
      ]
     },
     "execution_count": 8,
     "metadata": {},
     "output_type": "execute_result"
    }
   ],
   "source": [
    "rddspark2.getNumPartitions()"
   ]
  },
  {
   "cell_type": "markdown",
   "metadata": {
    "id": "hFnSSL6tqcb-"
   },
   "source": [
    "# Definición de datos en un RDD\n",
    "\n",
    "RDD es schemaless. Esto proporciona gran flexibilidad a la hora de trabajar con él. Permite trabajar con tuplas, listas o diccionarios a la hora de definir el RDD. Por ejemplo:\n",
    "\n",
    "\n"
   ]
  },
  {
   "cell_type": "code",
   "execution_count": 9,
   "metadata": {
    "colab": {
     "base_uri": "https://localhost:8080/",
     "height": 368
    },
    "executionInfo": {
     "elapsed": 330,
     "status": "ok",
     "timestamp": 1645549317252,
     "user": {
      "displayName": "Raul A. del Aguila",
      "photoUrl": "https://lh3.googleusercontent.com/a-/AOh14GhfFNUGPyK9gz8r-RWHTZpe0mOgynVvayaNWIW_6A=s64",
      "userId": "00351547175787129250"
     },
     "user_tz": -60
    },
    "id": "LA2kfkBT9zpo",
    "outputId": "dc4ba5c9-326e-4570-89fb-82f9efc5c9f9"
   },
   "outputs": [
    {
     "name": "stderr",
     "output_type": "stream",
     "text": [
      "\r",
      "                                                                                \r"
     ]
    },
    {
     "data": {
      "text/html": [
       "<div>\n",
       "<style scoped>\n",
       "    .dataframe tbody tr th:only-of-type {\n",
       "        vertical-align: middle;\n",
       "    }\n",
       "\n",
       "    .dataframe tbody tr th {\n",
       "        vertical-align: top;\n",
       "    }\n",
       "\n",
       "    .dataframe thead th {\n",
       "        text-align: right;\n",
       "    }\n",
       "</style>\n",
       "<table border=\"1\" class=\"dataframe\">\n",
       "  <thead>\n",
       "    <tr style=\"text-align: right;\">\n",
       "      <th></th>\n",
       "      <th>longitude</th>\n",
       "      <th>latitude</th>\n",
       "      <th>housing_median_age</th>\n",
       "      <th>total_rooms</th>\n",
       "      <th>total_bedrooms</th>\n",
       "      <th>population</th>\n",
       "      <th>households</th>\n",
       "      <th>median_income</th>\n",
       "      <th>median_house_value</th>\n",
       "    </tr>\n",
       "  </thead>\n",
       "  <tbody>\n",
       "    <tr>\n",
       "      <th>count</th>\n",
       "      <td>10.000000</td>\n",
       "      <td>10.000000</td>\n",
       "      <td>10.000000</td>\n",
       "      <td>10.000000</td>\n",
       "      <td>10.000000</td>\n",
       "      <td>10.000000</td>\n",
       "      <td>10.000000</td>\n",
       "      <td>10.000000</td>\n",
       "      <td>10.000000</td>\n",
       "    </tr>\n",
       "    <tr>\n",
       "      <th>mean</th>\n",
       "      <td>-114.542000</td>\n",
       "      <td>34.000000</td>\n",
       "      <td>26.000000</td>\n",
       "      <td>2832.900000</td>\n",
       "      <td>658.900000</td>\n",
       "      <td>1042.400000</td>\n",
       "      <td>389.700000</td>\n",
       "      <td>2.217910</td>\n",
       "      <td>68300.000000</td>\n",
       "    </tr>\n",
       "    <tr>\n",
       "      <th>std</th>\n",
       "      <td>0.089294</td>\n",
       "      <td>0.519145</td>\n",
       "      <td>11.205158</td>\n",
       "      <td>2377.174534</td>\n",
       "      <td>595.440537</td>\n",
       "      <td>858.024242</td>\n",
       "      <td>283.480766</td>\n",
       "      <td>0.647966</td>\n",
       "      <td>13363.299659</td>\n",
       "    </tr>\n",
       "    <tr>\n",
       "      <th>min</th>\n",
       "      <td>-114.600000</td>\n",
       "      <td>33.570000</td>\n",
       "      <td>14.000000</td>\n",
       "      <td>720.000000</td>\n",
       "      <td>168.000000</td>\n",
       "      <td>333.000000</td>\n",
       "      <td>117.000000</td>\n",
       "      <td>1.493600</td>\n",
       "      <td>48100.000000</td>\n",
       "    </tr>\n",
       "    <tr>\n",
       "      <th>25%</th>\n",
       "      <td>-114.587500</td>\n",
       "      <td>33.615000</td>\n",
       "      <td>17.500000</td>\n",
       "      <td>1403.750000</td>\n",
       "      <td>254.250000</td>\n",
       "      <td>542.250000</td>\n",
       "      <td>229.250000</td>\n",
       "      <td>1.736225</td>\n",
       "      <td>60175.000000</td>\n",
       "    </tr>\n",
       "    <tr>\n",
       "      <th>50%</th>\n",
       "      <td>-114.575000</td>\n",
       "      <td>33.665000</td>\n",
       "      <td>22.500000</td>\n",
       "      <td>1499.000000</td>\n",
       "      <td>331.500000</td>\n",
       "      <td>729.000000</td>\n",
       "      <td>266.500000</td>\n",
       "      <td>2.051600</td>\n",
       "      <td>70150.000000</td>\n",
       "    </tr>\n",
       "    <tr>\n",
       "      <th>75%</th>\n",
       "      <td>-114.562500</td>\n",
       "      <td>34.347500</td>\n",
       "      <td>32.750000</td>\n",
       "      <td>4318.500000</td>\n",
       "      <td>1051.250000</td>\n",
       "      <td>1100.500000</td>\n",
       "      <td>469.750000</td>\n",
       "      <td>2.555300</td>\n",
       "      <td>78575.000000</td>\n",
       "    </tr>\n",
       "    <tr>\n",
       "      <th>max</th>\n",
       "      <td>-114.310000</td>\n",
       "      <td>34.830000</td>\n",
       "      <td>46.000000</td>\n",
       "      <td>7650.000000</td>\n",
       "      <td>1901.000000</td>\n",
       "      <td>3134.000000</td>\n",
       "      <td>1056.000000</td>\n",
       "      <td>3.343800</td>\n",
       "      <td>85700.000000</td>\n",
       "    </tr>\n",
       "  </tbody>\n",
       "</table>\n",
       "</div>"
      ],
      "text/plain": [
       "        longitude   latitude  housing_median_age  total_rooms  total_bedrooms   \n",
       "count   10.000000  10.000000           10.000000    10.000000       10.000000  \\\n",
       "mean  -114.542000  34.000000           26.000000  2832.900000      658.900000   \n",
       "std      0.089294   0.519145           11.205158  2377.174534      595.440537   \n",
       "min   -114.600000  33.570000           14.000000   720.000000      168.000000   \n",
       "25%   -114.587500  33.615000           17.500000  1403.750000      254.250000   \n",
       "50%   -114.575000  33.665000           22.500000  1499.000000      331.500000   \n",
       "75%   -114.562500  34.347500           32.750000  4318.500000     1051.250000   \n",
       "max   -114.310000  34.830000           46.000000  7650.000000     1901.000000   \n",
       "\n",
       "        population   households  median_income  median_house_value  \n",
       "count    10.000000    10.000000      10.000000           10.000000  \n",
       "mean   1042.400000   389.700000       2.217910        68300.000000  \n",
       "std     858.024242   283.480766       0.647966        13363.299659  \n",
       "min     333.000000   117.000000       1.493600        48100.000000  \n",
       "25%     542.250000   229.250000       1.736225        60175.000000  \n",
       "50%     729.000000   266.500000       2.051600        70150.000000  \n",
       "75%    1100.500000   469.750000       2.555300        78575.000000  \n",
       "max    3134.000000  1056.000000       3.343800        85700.000000  "
      ]
     },
     "execution_count": 9,
     "metadata": {},
     "output_type": "execute_result"
    }
   ],
   "source": [
    "## Analizamos el dataframe \n",
    "\n",
    "df_spark.limit(10).toPandas().describe()"
   ]
  },
  {
   "cell_type": "code",
   "execution_count": 10,
   "metadata": {
    "colab": {
     "base_uri": "https://localhost:8080/"
    },
    "executionInfo": {
     "elapsed": 1752,
     "status": "ok",
     "timestamp": 1645549319001,
     "user": {
      "displayName": "Raul A. del Aguila",
      "photoUrl": "https://lh3.googleusercontent.com/a-/AOh14GhfFNUGPyK9gz8r-RWHTZpe0mOgynVvayaNWIW_6A=s64",
      "userId": "00351547175787129250"
     },
     "user_tz": -60
    },
    "id": "NUKg-wwNBh2l",
    "outputId": "3dd0c2a0-e626-4bc4-c216-a214ade7ff4b"
   },
   "outputs": [
    {
     "name": "stderr",
     "output_type": "stream",
     "text": [
      "\r",
      "[Stage 4:>                                                          (0 + 1) / 1]\r"
     ]
    },
    {
     "name": "stdout",
     "output_type": "stream",
     "text": [
      "data3 longitude: -114.31, latitude: 34.19\n",
      "data3 longitude: -114.47, latitude: 34.4\n",
      "data3 longitude: -114.56, latitude: 33.69\n"
     ]
    },
    {
     "name": "stderr",
     "output_type": "stream",
     "text": [
      "\r",
      "                                                                                \r"
     ]
    }
   ],
   "source": [
    "\n",
    "data3 = rddspark2.take(3)\n",
    "for f in data3:\n",
    "    print(\"data3 longitude: \"+ str(f[0]) +\", latitude: \"+str(f[1]))"
   ]
  },
  {
   "cell_type": "markdown",
   "metadata": {
    "id": "LhGnRrFrrIGv"
   },
   "source": [
    "En este ejemplo anterior, hemos accedido a los datos que previamente estaban formateados por un dataset. Hemos cogido 3 registros y hemos accedido a ellos por su valor.\n",
    "\n",
    "\n",
    "## Creación de RDD mediante parallelize "
   ]
  },
  {
   "cell_type": "code",
   "execution_count": 12,
   "metadata": {
    "id": "ybNcDfO8rZPy"
   },
   "outputs": [],
   "source": [
    "midata = spark.sparkContext.parallelize([('Huanito','25'),['Mercedes',25,'sport'],{'CASA':'Madrid'}])"
   ]
  },
  {
   "cell_type": "markdown",
   "metadata": {
    "id": "72Cm6fQaslm_"
   },
   "source": [
    "Este **RDD** está formado por una **tupla**, una **lista** y un **diccionario**:"
   ]
  },
  {
   "cell_type": "code",
   "execution_count": 13,
   "metadata": {
    "colab": {
     "base_uri": "https://localhost:8080/"
    },
    "executionInfo": {
     "elapsed": 341,
     "status": "ok",
     "timestamp": 1645549319339,
     "user": {
      "displayName": "Raul A. del Aguila",
      "photoUrl": "https://lh3.googleusercontent.com/a-/AOh14GhfFNUGPyK9gz8r-RWHTZpe0mOgynVvayaNWIW_6A=s64",
      "userId": "00351547175787129250"
     },
     "user_tz": -60
    },
    "id": "KkAa4SINrytx",
    "outputId": "63aabb6a-7a07-458c-f01f-f84b5e07d521"
   },
   "outputs": [
    {
     "name": "stdout",
     "output_type": "stream",
     "text": [
      "data4 Value:Huanito, Value:25\n",
      "data4 Value:Mercedes, Value:25\n"
     ]
    }
   ],
   "source": [
    "data4 = midata.take(2)\n",
    "for f in data4:\n",
    "    print(\"data4 Value:\"+ str(f[0]) +\", Value:\"+str(f[1]))"
   ]
  },
  {
   "cell_type": "markdown",
   "metadata": {
    "id": "Ht1a5BAhswa9"
   },
   "source": [
    "Si intentamos acceder ahora al diccionario del mismo modo, obtendremos un error. **Es flexible en cuanto la posibilidad de crear nuevos campos para cada registro, pero  tenemos que controlar las estructuras conforme accedamos al dato**:"
   ]
  },
  {
   "cell_type": "code",
   "execution_count": 14,
   "metadata": {
    "colab": {
     "base_uri": "https://localhost:8080/",
     "height": 259
    },
    "executionInfo": {
     "elapsed": 818,
     "status": "error",
     "timestamp": 1645549320155,
     "user": {
      "displayName": "Raul A. del Aguila",
      "photoUrl": "https://lh3.googleusercontent.com/a-/AOh14GhfFNUGPyK9gz8r-RWHTZpe0mOgynVvayaNWIW_6A=s64",
      "userId": "00351547175787129250"
     },
     "user_tz": -60
    },
    "id": "y2_hsSEYsvC6",
    "outputId": "7dd207f8-b5d1-4857-e1d9-cf4389644480"
   },
   "outputs": [
    {
     "name": "stdout",
     "output_type": "stream",
     "text": [
      "data4 Key:Huanito, Value:25\n",
      "data4 Key:Mercedes, Value:25\n"
     ]
    },
    {
     "ename": "KeyError",
     "evalue": "0",
     "output_type": "error",
     "traceback": [
      "\u001b[0;31m---------------------------------------------------------------------------\u001b[0m",
      "\u001b[0;31mKeyError\u001b[0m                                  Traceback (most recent call last)",
      "\u001b[0;32m/tmp/ipykernel_105/218770038.py\u001b[0m in \u001b[0;36m<module>\u001b[0;34m\u001b[0m\n\u001b[1;32m      1\u001b[0m \u001b[0mdata4\u001b[0m \u001b[0;34m=\u001b[0m \u001b[0mmidata\u001b[0m\u001b[0;34m.\u001b[0m\u001b[0mtake\u001b[0m\u001b[0;34m(\u001b[0m\u001b[0;36m3\u001b[0m\u001b[0;34m)\u001b[0m\u001b[0;34m\u001b[0m\u001b[0;34m\u001b[0m\u001b[0m\n\u001b[1;32m      2\u001b[0m \u001b[0;32mfor\u001b[0m \u001b[0mf\u001b[0m \u001b[0;32min\u001b[0m \u001b[0mdata4\u001b[0m\u001b[0;34m:\u001b[0m\u001b[0;34m\u001b[0m\u001b[0;34m\u001b[0m\u001b[0m\n\u001b[0;32m----> 3\u001b[0;31m     \u001b[0mprint\u001b[0m\u001b[0;34m(\u001b[0m\u001b[0;34m\"data4 Key:\"\u001b[0m\u001b[0;34m+\u001b[0m \u001b[0mstr\u001b[0m\u001b[0;34m(\u001b[0m\u001b[0mf\u001b[0m\u001b[0;34m[\u001b[0m\u001b[0;36m0\u001b[0m\u001b[0;34m]\u001b[0m\u001b[0;34m)\u001b[0m \u001b[0;34m+\u001b[0m\u001b[0;34m\", Value:\"\u001b[0m\u001b[0;34m+\u001b[0m\u001b[0mstr\u001b[0m\u001b[0;34m(\u001b[0m\u001b[0mf\u001b[0m\u001b[0;34m[\u001b[0m\u001b[0;36m1\u001b[0m\u001b[0;34m]\u001b[0m\u001b[0;34m)\u001b[0m\u001b[0;34m)\u001b[0m\u001b[0;34m\u001b[0m\u001b[0;34m\u001b[0m\u001b[0m\n\u001b[0m",
      "\u001b[0;31mKeyError\u001b[0m: 0"
     ]
    }
   ],
   "source": [
    "data4 = midata.take(3)\n",
    "for f in data4:\n",
    "    print(\"data4 Key:\"+ str(f[0]) +\", Value:\"+str(f[1]))"
   ]
  },
  {
   "cell_type": "markdown",
   "metadata": {
    "id": "VW1d0yrzqJAC"
   },
   "source": [
    "**Creación de un RDD usando el objeto ROW**\n",
    "\n",
    "Fijaos: estamos usando un objeto `Row`. `Row` define una fila en un dataframe. Sin embargo, también define un registro en un RDD."
   ]
  },
  {
   "cell_type": "code",
   "execution_count": 15,
   "metadata": {
    "id": "cwge-kNeqJad"
   },
   "outputs": [],
   "source": [
    "from pyspark.sql.types import Row\n",
    "\n",
    "data = spark.sparkContext.parallelize([Row(\n",
    "                           id=1,\n",
    "                           name=\"Cesar\",\n",
    "                           nota=50\n",
    "                        ),\n",
    "                        Row(\n",
    "                            id=2,\n",
    "                            name=\"Maria\",\n",
    "                            nota=80\n",
    "                        ),\n",
    "                        Row(\n",
    "                            id=3,\n",
    "                            name=\"Juan\",\n",
    "                            nota=75\n",
    "                        )])"
   ]
  },
  {
   "cell_type": "code",
   "execution_count": 16,
   "metadata": {
    "colab": {
     "base_uri": "https://localhost:8080/"
    },
    "executionInfo": {
     "elapsed": 2,
     "status": "ok",
     "timestamp": 1645549345456,
     "user": {
      "displayName": "Raul A. del Aguila",
      "photoUrl": "https://lh3.googleusercontent.com/a-/AOh14GhfFNUGPyK9gz8r-RWHTZpe0mOgynVvayaNWIW_6A=s64",
      "userId": "00351547175787129250"
     },
     "user_tz": -60
    },
    "id": "wPffmILm9foc",
    "outputId": "3efb467e-dcaf-439f-8274-258e8e3112d6"
   },
   "outputs": [
    {
     "data": {
      "text/plain": [
       "[Row(id=1, name='Cesar', nota=50),\n",
       " Row(id=2, name='Maria', nota=80),\n",
       " Row(id=3, name='Juan', nota=75)]"
      ]
     },
     "execution_count": 16,
     "metadata": {},
     "output_type": "execute_result"
    }
   ],
   "source": [
    "data.collect()"
   ]
  },
  {
   "cell_type": "code",
   "execution_count": 17,
   "metadata": {
    "colab": {
     "base_uri": "https://localhost:8080/"
    },
    "executionInfo": {
     "elapsed": 2,
     "status": "ok",
     "timestamp": 1645549346466,
     "user": {
      "displayName": "Raul A. del Aguila",
      "photoUrl": "https://lh3.googleusercontent.com/a-/AOh14GhfFNUGPyK9gz8r-RWHTZpe0mOgynVvayaNWIW_6A=s64",
      "userId": "00351547175787129250"
     },
     "user_tz": -60
    },
    "id": "Bi0a3-WDq4TX",
    "outputId": "ab0fdb72-0320-4bdd-9137-091b08298953"
   },
   "outputs": [
    {
     "data": {
      "text/plain": [
       "pyspark.rdd.RDD"
      ]
     },
     "execution_count": 17,
     "metadata": {},
     "output_type": "execute_result"
    }
   ],
   "source": [
    "type(data)"
   ]
  },
  {
   "cell_type": "code",
   "execution_count": 18,
   "metadata": {
    "colab": {
     "base_uri": "https://localhost:8080/"
    },
    "executionInfo": {
     "elapsed": 455,
     "status": "ok",
     "timestamp": 1645549347306,
     "user": {
      "displayName": "Raul A. del Aguila",
      "photoUrl": "https://lh3.googleusercontent.com/a-/AOh14GhfFNUGPyK9gz8r-RWHTZpe0mOgynVvayaNWIW_6A=s64",
      "userId": "00351547175787129250"
     },
     "user_tz": -60
    },
    "id": "-M2jgqB7rqcM",
    "outputId": "223f3efc-1bc1-41a6-efc2-4cdc6ab8768f"
   },
   "outputs": [
    {
     "data": {
      "text/plain": [
       "DataFrame[id: bigint, name: string, nota: bigint]"
      ]
     },
     "execution_count": 18,
     "metadata": {},
     "output_type": "execute_result"
    }
   ],
   "source": [
    "data.toDF()"
   ]
  },
  {
   "cell_type": "markdown",
   "metadata": {
    "id": "YW67ziuZrzZM"
   },
   "source": [
    "# Map y flatMap\n",
    "\n",
    "`Map` y `flatMap` permiten realizar **operaciones de tranformación sobre los campos**. \n",
    "\n",
    "Sin embargo, hasta que no se hace una operación, no podemos acceder al RDD como lo haríamos en un objeto Py normal. Las acciones collect, top, count etc, son algunas acciones con las que podemos trabajar.\n",
    "\n",
    "`map` es el método de transformación básico, realiza una transformación sobre el RDD para obtener otro RDD"
   ]
  },
  {
   "cell_type": "code",
   "execution_count": 19,
   "metadata": {
    "colab": {
     "base_uri": "https://localhost:8080/"
    },
    "executionInfo": {
     "elapsed": 4,
     "status": "ok",
     "timestamp": 1645549347823,
     "user": {
      "displayName": "Raul A. del Aguila",
      "photoUrl": "https://lh3.googleusercontent.com/a-/AOh14GhfFNUGPyK9gz8r-RWHTZpe0mOgynVvayaNWIW_6A=s64",
      "userId": "00351547175787129250"
     },
     "user_tz": -60
    },
    "id": "KtocL8ieBh7c",
    "outputId": "8fdb7b5c-7d66-43ed-96a5-8df80698eef1"
   },
   "outputs": [
    {
     "name": "stdout",
     "output_type": "stream",
     "text": [
      "Obtener housing_median_age de la RDD:\n",
      "\n",
      "PythonRDD[45] at RDD at PythonRDD.scala:53\n"
     ]
    }
   ],
   "source": [
    "print ('Obtener housing_median_age de la RDD:\\n')\n",
    "print(rddspark2.map(lambda x: x.housing_median_age))"
   ]
  },
  {
   "cell_type": "code",
   "execution_count": 20,
   "metadata": {
    "colab": {
     "base_uri": "https://localhost:8080/"
    },
    "executionInfo": {
     "elapsed": 697,
     "status": "ok",
     "timestamp": 1645549348518,
     "user": {
      "displayName": "Raul A. del Aguila",
      "photoUrl": "https://lh3.googleusercontent.com/a-/AOh14GhfFNUGPyK9gz8r-RWHTZpe0mOgynVvayaNWIW_6A=s64",
      "userId": "00351547175787129250"
     },
     "user_tz": -60
    },
    "id": "ZyAIpcMUCo3Q",
    "outputId": "47676677-afa7-499a-9a12-bd55f50ef462"
   },
   "outputs": [
    {
     "data": {
      "text/plain": [
       "[15.0,\n",
       " 19.0,\n",
       " 17.0,\n",
       " 14.0,\n",
       " 20.0,\n",
       " 29.0,\n",
       " 25.0,\n",
       " 41.0,\n",
       " 34.0,\n",
       " 46.0,\n",
       " 38.0,\n",
       " 35.0,\n",
       " 16.0,\n",
       " 19.0,\n",
       " 19.0,\n",
       " 29.0,\n",
       " 33.0,\n",
       " 21.0,\n",
       " 15.0,\n",
       " 19.0,\n",
       " 25.0,\n",
       " 35.0,\n",
       " 34.0,\n",
       " 14.0,\n",
       " 23.0,\n",
       " 17.0,\n",
       " 27.0,\n",
       " 41.0,\n",
       " 23.0,\n",
       " 33.0,\n",
       " 16.0,\n",
       " 34.0,\n",
       " 20.0,\n",
       " 15.0,\n",
       " 21.0,\n",
       " 5.0,\n",
       " 10.0,\n",
       " 14.0,\n",
       " 5.0,\n",
       " 20.0,\n",
       " 5.0,\n",
       " 12.0,\n",
       " 27.0,\n",
       " 8.0,\n",
       " 15.0,\n",
       " 16.0,\n",
       " 26.0,\n",
       " 24.0,\n",
       " 20.0,\n",
       " 8.0,\n",
       " 23.0,\n",
       " 28.0,\n",
       " 22.0,\n",
       " 28.0,\n",
       " 19.0,\n",
       " 34.0,\n",
       " 19.0,\n",
       " 14.0,\n",
       " 23.0,\n",
       " 26.0,\n",
       " 11.0,\n",
       " 7.0,\n",
       " 18.0,\n",
       " 10.0,\n",
       " 19.0,\n",
       " 13.0,\n",
       " 5.0,\n",
       " 11.0,\n",
       " 24.0,\n",
       " 9.0,\n",
       " 14.0,\n",
       " 15.0,\n",
       " 26.0,\n",
       " 17.0,\n",
       " 8.0,\n",
       " 24.0,\n",
       " 19.0,\n",
       " 18.0,\n",
       " 17.0,\n",
       " 18.0,\n",
       " 20.0,\n",
       " 15.0,\n",
       " 21.0,\n",
       " 16.0,\n",
       " 12.0,\n",
       " 21.0,\n",
       " 13.0,\n",
       " 13.0,\n",
       " 17.0,\n",
       " 21.0,\n",
       " 16.0,\n",
       " 23.0,\n",
       " 11.0,\n",
       " 14.0,\n",
       " 18.0,\n",
       " 13.0,\n",
       " 16.0,\n",
       " 21.0,\n",
       " 26.0,\n",
       " 12.0,\n",
       " 15.0,\n",
       " 6.0,\n",
       " 5.0,\n",
       " 20.0,\n",
       " 16.0,\n",
       " 26.0,\n",
       " 5.0,\n",
       " 17.0,\n",
       " 13.0,\n",
       " 11.0,\n",
       " 9.0,\n",
       " 29.0,\n",
       " 10.0,\n",
       " 2.0,\n",
       " 23.0,\n",
       " 14.0,\n",
       " 14.0,\n",
       " 16.0,\n",
       " 15.0,\n",
       " 9.0,\n",
       " 21.0,\n",
       " 16.0,\n",
       " 14.0,\n",
       " 22.0,\n",
       " 32.0,\n",
       " 15.0,\n",
       " 8.0,\n",
       " 18.0,\n",
       " 23.0,\n",
       " 16.0,\n",
       " 14.0,\n",
       " 19.0,\n",
       " 17.0,\n",
       " 24.0,\n",
       " 24.0,\n",
       " 32.0,\n",
       " 38.0,\n",
       " 35.0,\n",
       " 28.0,\n",
       " 21.0,\n",
       " 19.0,\n",
       " 33.0,\n",
       " 20.0,\n",
       " 25.0,\n",
       " 13.0,\n",
       " 17.0,\n",
       " 20.0,\n",
       " 30.0,\n",
       " 22.0,\n",
       " 21.0,\n",
       " 20.0,\n",
       " 10.0,\n",
       " 23.0,\n",
       " 15.0,\n",
       " 32.0,\n",
       " 19.0,\n",
       " 37.0,\n",
       " 35.0,\n",
       " 26.0,\n",
       " 33.0,\n",
       " 29.0,\n",
       " 25.0,\n",
       " 18.0,\n",
       " 24.0,\n",
       " 16.0,\n",
       " 16.0,\n",
       " 4.0,\n",
       " 18.0,\n",
       " 24.0,\n",
       " 23.0,\n",
       " 30.0,\n",
       " 15.0,\n",
       " 14.0,\n",
       " 13.0,\n",
       " 11.0,\n",
       " 21.0,\n",
       " 15.0,\n",
       " 15.0,\n",
       " 29.0,\n",
       " 16.0,\n",
       " 13.0,\n",
       " 8.0,\n",
       " 23.0,\n",
       " 23.0,\n",
       " 17.0,\n",
       " 26.0,\n",
       " 21.0,\n",
       " 20.0,\n",
       " 17.0,\n",
       " 17.0,\n",
       " 29.0,\n",
       " 19.0,\n",
       " 5.0,\n",
       " 10.0,\n",
       " 20.0,\n",
       " 14.0,\n",
       " 6.0,\n",
       " 7.0,\n",
       " 25.0,\n",
       " 17.0,\n",
       " 5.0,\n",
       " 19.0,\n",
       " 27.0,\n",
       " 7.0,\n",
       " 16.0,\n",
       " 26.0,\n",
       " 6.0,\n",
       " 14.0,\n",
       " 17.0,\n",
       " 25.0,\n",
       " 5.0,\n",
       " 10.0,\n",
       " 15.0,\n",
       " 14.0,\n",
       " 14.0,\n",
       " 13.0,\n",
       " 22.0,\n",
       " 37.0,\n",
       " 30.0,\n",
       " 29.0,\n",
       " 36.0,\n",
       " 5.0,\n",
       " 33.0,\n",
       " 24.0,\n",
       " 28.0,\n",
       " 9.0,\n",
       " 13.0,\n",
       " 11.0,\n",
       " 14.0,\n",
       " 22.0,\n",
       " 22.0,\n",
       " 20.0,\n",
       " 17.0,\n",
       " 18.0,\n",
       " 6.0,\n",
       " 12.0,\n",
       " 18.0,\n",
       " 19.0,\n",
       " 17.0,\n",
       " 17.0,\n",
       " 35.0,\n",
       " 8.0,\n",
       " 21.0,\n",
       " 14.0,\n",
       " 35.0,\n",
       " 19.0,\n",
       " 15.0,\n",
       " 32.0,\n",
       " 16.0,\n",
       " 31.0,\n",
       " 17.0,\n",
       " 23.0,\n",
       " 24.0,\n",
       " 17.0,\n",
       " 9.0,\n",
       " 16.0,\n",
       " 17.0,\n",
       " 17.0,\n",
       " 17.0,\n",
       " 21.0,\n",
       " 37.0,\n",
       " 29.0,\n",
       " 36.0,\n",
       " 34.0,\n",
       " 33.0,\n",
       " 25.0,\n",
       " 24.0,\n",
       " 17.0,\n",
       " 13.0,\n",
       " 11.0,\n",
       " 4.0,\n",
       " 15.0,\n",
       " 14.0,\n",
       " 17.0,\n",
       " 5.0,\n",
       " 25.0,\n",
       " 4.0,\n",
       " 4.0,\n",
       " 5.0,\n",
       " 36.0,\n",
       " 29.0,\n",
       " 28.0,\n",
       " 20.0,\n",
       " 18.0,\n",
       " 35.0,\n",
       " 28.0,\n",
       " 12.0,\n",
       " 38.0,\n",
       " 32.0,\n",
       " 30.0,\n",
       " 17.0,\n",
       " 37.0,\n",
       " 33.0,\n",
       " 31.0,\n",
       " 31.0,\n",
       " 28.0,\n",
       " 23.0,\n",
       " 23.0,\n",
       " 10.0,\n",
       " 18.0,\n",
       " 33.0,\n",
       " 26.0,\n",
       " 36.0,\n",
       " 36.0,\n",
       " 19.0,\n",
       " 27.0,\n",
       " 37.0,\n",
       " 36.0,\n",
       " 36.0,\n",
       " 31.0,\n",
       " 16.0,\n",
       " 24.0,\n",
       " 13.0,\n",
       " 13.0,\n",
       " 9.0,\n",
       " 11.0,\n",
       " 32.0,\n",
       " 21.0,\n",
       " 18.0,\n",
       " 16.0,\n",
       " 28.0,\n",
       " 24.0,\n",
       " 20.0,\n",
       " 23.0,\n",
       " 26.0,\n",
       " 39.0,\n",
       " 33.0,\n",
       " 29.0,\n",
       " 12.0,\n",
       " 22.0,\n",
       " 21.0,\n",
       " 12.0,\n",
       " 23.0,\n",
       " 17.0,\n",
       " 10.0,\n",
       " 8.0,\n",
       " 6.0,\n",
       " 22.0,\n",
       " 24.0,\n",
       " 6.0,\n",
       " 30.0,\n",
       " 14.0,\n",
       " 24.0,\n",
       " 5.0,\n",
       " 9.0,\n",
       " 25.0,\n",
       " 42.0,\n",
       " 28.0,\n",
       " 37.0,\n",
       " 35.0,\n",
       " 25.0,\n",
       " 14.0,\n",
       " 13.0,\n",
       " 17.0,\n",
       " 18.0,\n",
       " 13.0,\n",
       " 15.0,\n",
       " 14.0,\n",
       " 10.0,\n",
       " 46.0,\n",
       " 21.0,\n",
       " 19.0,\n",
       " 46.0,\n",
       " 34.0,\n",
       " 21.0,\n",
       " 20.0,\n",
       " 11.0,\n",
       " 33.0,\n",
       " 25.0,\n",
       " 25.0,\n",
       " 17.0,\n",
       " 28.0,\n",
       " 21.0,\n",
       " 17.0,\n",
       " 38.0,\n",
       " 25.0,\n",
       " 4.0,\n",
       " 11.0,\n",
       " 7.0,\n",
       " 16.0,\n",
       " 17.0,\n",
       " 37.0,\n",
       " 20.0,\n",
       " 17.0,\n",
       " 15.0,\n",
       " 13.0,\n",
       " 52.0,\n",
       " 46.0,\n",
       " 50.0,\n",
       " 36.0,\n",
       " 16.0,\n",
       " 12.0,\n",
       " 17.0,\n",
       " 10.0,\n",
       " 15.0,\n",
       " 15.0,\n",
       " 16.0,\n",
       " 17.0,\n",
       " 16.0,\n",
       " 16.0,\n",
       " 23.0,\n",
       " 20.0,\n",
       " 52.0,\n",
       " 50.0,\n",
       " 46.0,\n",
       " 52.0,\n",
       " 52.0,\n",
       " 52.0,\n",
       " 43.0,\n",
       " 9.0,\n",
       " 26.0,\n",
       " 5.0,\n",
       " 17.0,\n",
       " 11.0,\n",
       " 11.0,\n",
       " 16.0,\n",
       " 17.0,\n",
       " 16.0,\n",
       " 7.0,\n",
       " 12.0,\n",
       " 29.0,\n",
       " 27.0,\n",
       " 47.0,\n",
       " 16.0,\n",
       " 26.0,\n",
       " 43.0,\n",
       " 42.0,\n",
       " 34.0,\n",
       " 52.0,\n",
       " 52.0,\n",
       " 16.0,\n",
       " 5.0,\n",
       " 15.0,\n",
       " 4.0,\n",
       " 16.0,\n",
       " 16.0,\n",
       " 15.0,\n",
       " 10.0,\n",
       " 41.0,\n",
       " 23.0,\n",
       " 3.0,\n",
       " 2.0,\n",
       " 4.0,\n",
       " 16.0,\n",
       " 5.0,\n",
       " 5.0,\n",
       " 28.0,\n",
       " 34.0,\n",
       " 14.0,\n",
       " 37.0,\n",
       " 13.0,\n",
       " 15.0,\n",
       " 3.0,\n",
       " 2.0,\n",
       " 5.0,\n",
       " 24.0,\n",
       " 29.0,\n",
       " 24.0,\n",
       " 33.0,\n",
       " 7.0,\n",
       " 52.0,\n",
       " 52.0,\n",
       " 52.0,\n",
       " 44.0,\n",
       " 7.0,\n",
       " 39.0,\n",
       " 33.0,\n",
       " 45.0,\n",
       " 40.0,\n",
       " 19.0,\n",
       " 30.0,\n",
       " 31.0,\n",
       " 27.0,\n",
       " 25.0,\n",
       " 28.0,\n",
       " 19.0,\n",
       " 30.0,\n",
       " 10.0,\n",
       " 30.0,\n",
       " 21.0,\n",
       " 33.0,\n",
       " 33.0,\n",
       " 36.0,\n",
       " 20.0,\n",
       " 3.0,\n",
       " 24.0,\n",
       " 3.0,\n",
       " 6.0,\n",
       " 16.0,\n",
       " 15.0,\n",
       " 35.0,\n",
       " 12.0,\n",
       " 10.0,\n",
       " 7.0,\n",
       " 7.0,\n",
       " 17.0,\n",
       " 22.0,\n",
       " 18.0,\n",
       " 18.0,\n",
       " 14.0,\n",
       " 34.0,\n",
       " 16.0,\n",
       " 38.0,\n",
       " 31.0,\n",
       " 17.0,\n",
       " 16.0,\n",
       " 16.0,\n",
       " 31.0,\n",
       " 32.0,\n",
       " 27.0,\n",
       " 3.0,\n",
       " 14.0,\n",
       " 12.0,\n",
       " 26.0,\n",
       " 24.0,\n",
       " 16.0,\n",
       " 26.0,\n",
       " 34.0,\n",
       " 36.0,\n",
       " 35.0,\n",
       " 4.0,\n",
       " 3.0,\n",
       " 7.0,\n",
       " 12.0,\n",
       " 5.0,\n",
       " 16.0,\n",
       " 17.0,\n",
       " 15.0,\n",
       " 19.0,\n",
       " 31.0,\n",
       " 24.0,\n",
       " 52.0,\n",
       " 52.0,\n",
       " 41.0,\n",
       " 9.0,\n",
       " 9.0,\n",
       " 17.0,\n",
       " 16.0,\n",
       " 10.0,\n",
       " 6.0,\n",
       " 29.0,\n",
       " 22.0,\n",
       " 2.0,\n",
       " 7.0,\n",
       " 18.0,\n",
       " 17.0,\n",
       " 16.0,\n",
       " 15.0,\n",
       " 15.0,\n",
       " 25.0,\n",
       " 29.0,\n",
       " 23.0,\n",
       " 9.0,\n",
       " 5.0,\n",
       " 17.0,\n",
       " 11.0,\n",
       " 15.0,\n",
       " 8.0,\n",
       " 9.0,\n",
       " 16.0,\n",
       " 34.0,\n",
       " 33.0,\n",
       " 30.0,\n",
       " 26.0,\n",
       " 19.0,\n",
       " 18.0,\n",
       " 25.0,\n",
       " 20.0,\n",
       " 18.0,\n",
       " 18.0,\n",
       " 19.0,\n",
       " 37.0,\n",
       " 33.0,\n",
       " 17.0,\n",
       " 32.0,\n",
       " 30.0,\n",
       " 30.0,\n",
       " 21.0,\n",
       " 23.0,\n",
       " 18.0,\n",
       " 6.0,\n",
       " 16.0,\n",
       " 6.0,\n",
       " 16.0,\n",
       " 14.0,\n",
       " 10.0,\n",
       " 18.0,\n",
       " 16.0,\n",
       " 15.0,\n",
       " 30.0,\n",
       " 36.0,\n",
       " 36.0,\n",
       " 39.0,\n",
       " 38.0,\n",
       " 37.0,\n",
       " 36.0,\n",
       " 33.0,\n",
       " 10.0,\n",
       " 6.0,\n",
       " 11.0,\n",
       " 31.0,\n",
       " 12.0,\n",
       " 25.0,\n",
       " 36.0,\n",
       " 34.0,\n",
       " 22.0,\n",
       " 15.0,\n",
       " 15.0,\n",
       " 42.0,\n",
       " 24.0,\n",
       " 38.0,\n",
       " 21.0,\n",
       " 20.0,\n",
       " 34.0,\n",
       " 2.0,\n",
       " 13.0,\n",
       " 8.0,\n",
       " 4.0,\n",
       " 5.0,\n",
       " 5.0,\n",
       " 35.0,\n",
       " 42.0,\n",
       " 35.0,\n",
       " 32.0,\n",
       " 28.0,\n",
       " 10.0,\n",
       " 16.0,\n",
       " 26.0,\n",
       " 26.0,\n",
       " 35.0,\n",
       " 16.0,\n",
       " 14.0,\n",
       " 13.0,\n",
       " 12.0,\n",
       " 41.0,\n",
       " 21.0,\n",
       " 34.0,\n",
       " 20.0,\n",
       " 38.0,\n",
       " 34.0,\n",
       " 4.0,\n",
       " 15.0,\n",
       " 19.0,\n",
       " 7.0,\n",
       " 5.0,\n",
       " 16.0,\n",
       " 17.0,\n",
       " 15.0,\n",
       " 11.0,\n",
       " 4.0,\n",
       " 42.0,\n",
       " 50.0,\n",
       " 42.0,\n",
       " 34.0,\n",
       " 7.0,\n",
       " 23.0,\n",
       " 22.0,\n",
       " 13.0,\n",
       " 4.0,\n",
       " 6.0,\n",
       " 35.0,\n",
       " 37.0,\n",
       " 52.0,\n",
       " 41.0,\n",
       " 52.0,\n",
       " 34.0,\n",
       " 43.0,\n",
       " 40.0,\n",
       " 37.0,\n",
       " 40.0,\n",
       " 18.0,\n",
       " 9.0,\n",
       " 16.0,\n",
       " 7.0,\n",
       " 8.0,\n",
       " 13.0,\n",
       " 29.0,\n",
       " 6.0,\n",
       " 6.0,\n",
       " 9.0,\n",
       " 7.0,\n",
       " 7.0,\n",
       " 24.0,\n",
       " 16.0,\n",
       " 15.0,\n",
       " 15.0,\n",
       " 25.0,\n",
       " 29.0,\n",
       " 10.0,\n",
       " 13.0,\n",
       " 15.0,\n",
       " 21.0,\n",
       " 17.0,\n",
       " 11.0,\n",
       " 31.0,\n",
       " 8.0,\n",
       " 31.0,\n",
       " 37.0,\n",
       " 29.0,\n",
       " 29.0,\n",
       " 19.0,\n",
       " 17.0,\n",
       " 17.0,\n",
       " 10.0,\n",
       " 9.0,\n",
       " 5.0,\n",
       " 28.0,\n",
       " 36.0,\n",
       " 32.0,\n",
       " 22.0,\n",
       " 10.0,\n",
       " 7.0,\n",
       " 3.0,\n",
       " 18.0,\n",
       " 35.0,\n",
       " 33.0,\n",
       " 31.0,\n",
       " 4.0,\n",
       " 19.0,\n",
       " 42.0,\n",
       " 15.0,\n",
       " 41.0,\n",
       " 36.0,\n",
       " 44.0,\n",
       " 52.0,\n",
       " 27.0,\n",
       " 40.0,\n",
       " 34.0,\n",
       " 33.0,\n",
       " 32.0,\n",
       " 6.0,\n",
       " 17.0,\n",
       " 45.0,\n",
       " 52.0,\n",
       " 52.0,\n",
       " 30.0,\n",
       " 29.0,\n",
       " 30.0,\n",
       " 21.0,\n",
       " 12.0,\n",
       " 4.0,\n",
       " 14.0,\n",
       " 5.0,\n",
       " 21.0,\n",
       " 28.0,\n",
       " 17.0,\n",
       " 17.0,\n",
       " 31.0,\n",
       " 24.0,\n",
       " 41.0,\n",
       " 26.0,\n",
       " 34.0,\n",
       " 24.0,\n",
       " 32.0,\n",
       " 27.0,\n",
       " 37.0,\n",
       " 37.0,\n",
       " 33.0,\n",
       " 22.0,\n",
       " 35.0,\n",
       " 18.0,\n",
       " 33.0,\n",
       " 34.0,\n",
       " 18.0,\n",
       " 21.0,\n",
       " 28.0,\n",
       " 36.0,\n",
       " 31.0,\n",
       " 15.0,\n",
       " 15.0,\n",
       " 20.0,\n",
       " 35.0,\n",
       " 29.0,\n",
       " 7.0,\n",
       " 10.0,\n",
       " 7.0,\n",
       " 35.0,\n",
       " 8.0,\n",
       " 19.0,\n",
       " 24.0,\n",
       " 12.0,\n",
       " 29.0,\n",
       " 19.0,\n",
       " 31.0,\n",
       " 22.0,\n",
       " 14.0,\n",
       " 4.0,\n",
       " 35.0,\n",
       " 21.0,\n",
       " 21.0,\n",
       " 24.0,\n",
       " 14.0,\n",
       " 2.0,\n",
       " 20.0,\n",
       " 22.0,\n",
       " 14.0,\n",
       " 35.0,\n",
       " 5.0,\n",
       " 18.0,\n",
       " 19.0,\n",
       " 4.0,\n",
       " 6.0,\n",
       " 15.0,\n",
       " 4.0,\n",
       " 4.0,\n",
       " 6.0,\n",
       " 29.0,\n",
       " 16.0,\n",
       " 40.0,\n",
       " 25.0,\n",
       " 4.0,\n",
       " 4.0,\n",
       " 5.0,\n",
       " 10.0,\n",
       " 10.0,\n",
       " 17.0,\n",
       " 16.0,\n",
       " 16.0,\n",
       " 14.0,\n",
       " 17.0,\n",
       " 23.0,\n",
       " 29.0,\n",
       " 14.0,\n",
       " 21.0,\n",
       " 9.0,\n",
       " 23.0,\n",
       " 11.0,\n",
       " 12.0,\n",
       " 8.0,\n",
       " 8.0,\n",
       " 9.0,\n",
       " 16.0,\n",
       " 43.0,\n",
       " 2.0,\n",
       " 4.0,\n",
       " 27.0,\n",
       " 24.0,\n",
       " 23.0,\n",
       " 27.0,\n",
       " 23.0,\n",
       " 18.0,\n",
       " 16.0,\n",
       " 37.0,\n",
       " 35.0,\n",
       " 33.0,\n",
       " 52.0,\n",
       " 43.0,\n",
       " 38.0,\n",
       " 30.0,\n",
       " 50.0,\n",
       " 27.0,\n",
       " 9.0,\n",
       " 16.0,\n",
       " 24.0,\n",
       " 27.0,\n",
       " 17.0,\n",
       " 29.0,\n",
       " 28.0,\n",
       " 44.0,\n",
       " 30.0,\n",
       " 15.0,\n",
       " 13.0,\n",
       " 8.0,\n",
       " 2.0,\n",
       " 7.0,\n",
       " 16.0,\n",
       " 6.0,\n",
       " 10.0,\n",
       " 15.0,\n",
       " 25.0,\n",
       " 33.0,\n",
       " 24.0,\n",
       " 6.0,\n",
       " 36.0,\n",
       " 33.0,\n",
       " 16.0,\n",
       " 10.0,\n",
       " 14.0,\n",
       " 12.0,\n",
       " 11.0,\n",
       " 32.0,\n",
       " 10.0,\n",
       " 15.0,\n",
       " 28.0,\n",
       " 19.0,\n",
       " 17.0,\n",
       " 29.0,\n",
       " 26.0,\n",
       " 6.0,\n",
       " 16.0,\n",
       " 18.0,\n",
       " 25.0,\n",
       " 15.0,\n",
       " 9.0,\n",
       " 28.0,\n",
       " 33.0,\n",
       " 4.0,\n",
       " 24.0,\n",
       " 4.0,\n",
       " 16.0,\n",
       " 5.0,\n",
       " 5.0,\n",
       " 4.0,\n",
       " 19.0,\n",
       " 18.0,\n",
       " 17.0,\n",
       " 16.0,\n",
       " 15.0,\n",
       " 7.0,\n",
       " 25.0,\n",
       " 16.0,\n",
       " 12.0,\n",
       " 13.0,\n",
       " 5.0,\n",
       " 9.0,\n",
       " 4.0,\n",
       " 20.0,\n",
       " 17.0,\n",
       " 4.0,\n",
       " 3.0,\n",
       " 16.0,\n",
       " 19.0,\n",
       " 16.0,\n",
       " 26.0,\n",
       " 16.0,\n",
       " 11.0,\n",
       " 9.0,\n",
       " 4.0,\n",
       " 3.0,\n",
       " 2.0,\n",
       " 11.0,\n",
       " 10.0,\n",
       " 14.0,\n",
       " 16.0,\n",
       " 22.0,\n",
       " 26.0,\n",
       " 26.0,\n",
       " 8.0,\n",
       " 25.0,\n",
       " 2.0,\n",
       " 14.0,\n",
       " 16.0,\n",
       " 16.0,\n",
       " 15.0,\n",
       " 21.0,\n",
       " 19.0,\n",
       " 19.0,\n",
       " 26.0,\n",
       " 26.0,\n",
       " 13.0,\n",
       " 36.0,\n",
       " 17.0,\n",
       " 16.0,\n",
       " 3.0,\n",
       " 5.0,\n",
       " 31.0,\n",
       " 17.0,\n",
       " 15.0,\n",
       " 28.0,\n",
       " 29.0,\n",
       " 25.0,\n",
       " 21.0,\n",
       " 36.0,\n",
       " 33.0,\n",
       " 33.0,\n",
       " 52.0,\n",
       " 52.0,\n",
       " 52.0,\n",
       " 52.0,\n",
       " 52.0,\n",
       " 22.0,\n",
       " 28.0,\n",
       " 37.0,\n",
       " 51.0,\n",
       " 48.0,\n",
       " 47.0,\n",
       " 33.0,\n",
       " 36.0,\n",
       " 36.0,\n",
       " 34.0,\n",
       " 29.0,\n",
       " 13.0,\n",
       " 5.0,\n",
       " 16.0,\n",
       " 19.0,\n",
       " 10.0,\n",
       " 5.0,\n",
       " 4.0,\n",
       " 13.0,\n",
       " 4.0,\n",
       " 2.0,\n",
       " 14.0,\n",
       " 7.0,\n",
       " 16.0,\n",
       " 16.0,\n",
       " 16.0,\n",
       " 16.0,\n",
       " 12.0,\n",
       " 23.0,\n",
       " 6.0,\n",
       " ...]"
      ]
     },
     "execution_count": 20,
     "metadata": {},
     "output_type": "execute_result"
    }
   ],
   "source": [
    "rddspark2.map(lambda x: x.housing_median_age).collect()"
   ]
  },
  {
   "cell_type": "code",
   "execution_count": 21,
   "metadata": {
    "colab": {
     "base_uri": "https://localhost:8080/"
    },
    "executionInfo": {
     "elapsed": 419,
     "status": "ok",
     "timestamp": 1645549348934,
     "user": {
      "displayName": "Raul A. del Aguila",
      "photoUrl": "https://lh3.googleusercontent.com/a-/AOh14GhfFNUGPyK9gz8r-RWHTZpe0mOgynVvayaNWIW_6A=s64",
      "userId": "00351547175787129250"
     },
     "user_tz": -60
    },
    "id": "JgVWTIRpDT6S",
    "outputId": "0aa1714f-eaa2-4601-d0ee-9252d1fbe240"
   },
   "outputs": [
    {
     "name": "stdout",
     "output_type": "stream",
     "text": [
      "[15.0, 19.0, 17.0, 14.0, 20.0, 29.0, 25.0, 41.0, 34.0, 46.0]\n"
     ]
    }
   ],
   "source": [
    "print(rddspark2.map(lambda x: x.housing_median_age).collect()[0:10])"
   ]
  },
  {
   "cell_type": "code",
   "execution_count": null,
   "metadata": {
    "id": "u8dojumbC42V"
   },
   "outputs": [],
   "source": []
  },
  {
   "cell_type": "markdown",
   "metadata": {
    "id": "_2JXKq8GRO_8"
   },
   "source": [
    "OJO: top no te coge los 10 primeros datos. Take, sí. En este caso  `take` se comporta como `collect[0:x]` "
   ]
  },
  {
   "cell_type": "code",
   "execution_count": 22,
   "metadata": {
    "colab": {
     "base_uri": "https://localhost:8080/"
    },
    "executionInfo": {
     "elapsed": 427,
     "status": "ok",
     "timestamp": 1645549349358,
     "user": {
      "displayName": "Raul A. del Aguila",
      "photoUrl": "https://lh3.googleusercontent.com/a-/AOh14GhfFNUGPyK9gz8r-RWHTZpe0mOgynVvayaNWIW_6A=s64",
      "userId": "00351547175787129250"
     },
     "user_tz": -60
    },
    "id": "v9JF4iAPD-5e",
    "outputId": "56e0af2c-5228-4339-f127-4973c76d30bd"
   },
   "outputs": [
    {
     "name": "stdout",
     "output_type": "stream",
     "text": [
      "[52.0, 52.0, 52.0, 52.0, 52.0, 52.0, 52.0, 52.0, 52.0, 52.0]\n"
     ]
    }
   ],
   "source": [
    "print(rddspark2.map(lambda x: x.housing_median_age).top(10)) \n"
   ]
  },
  {
   "cell_type": "code",
   "execution_count": 23,
   "metadata": {
    "colab": {
     "base_uri": "https://localhost:8080/"
    },
    "executionInfo": {
     "elapsed": 15,
     "status": "ok",
     "timestamp": 1645549349359,
     "user": {
      "displayName": "Raul A. del Aguila",
      "photoUrl": "https://lh3.googleusercontent.com/a-/AOh14GhfFNUGPyK9gz8r-RWHTZpe0mOgynVvayaNWIW_6A=s64",
      "userId": "00351547175787129250"
     },
     "user_tz": -60
    },
    "id": "-WEwlmIgCHEz",
    "outputId": "c417cbfe-0ba7-48ab-9dbc-bbdf9049741e"
   },
   "outputs": [
    {
     "data": {
      "text/plain": [
       "PythonRDD[49] at RDD at PythonRDD.scala:53"
      ]
     },
     "execution_count": 23,
     "metadata": {},
     "output_type": "execute_result"
    }
   ],
   "source": [
    "rddspark2.map(lambda x: x.housing_median_age)"
   ]
  },
  {
   "cell_type": "code",
   "execution_count": 24,
   "metadata": {
    "colab": {
     "base_uri": "https://localhost:8080/"
    },
    "executionInfo": {
     "elapsed": 2,
     "status": "ok",
     "timestamp": 1645549349762,
     "user": {
      "displayName": "Raul A. del Aguila",
      "photoUrl": "https://lh3.googleusercontent.com/a-/AOh14GhfFNUGPyK9gz8r-RWHTZpe0mOgynVvayaNWIW_6A=s64",
      "userId": "00351547175787129250"
     },
     "user_tz": -60
    },
    "id": "nhvsqJCrRv7Z",
    "outputId": "390a2478-09bb-4322-c7ee-662d39a4cf8a"
   },
   "outputs": [
    {
     "name": "stdout",
     "output_type": "stream",
     "text": [
      "[15.0, 19.0, 17.0, 14.0, 20.0, 29.0, 25.0, 41.0, 34.0, 46.0]\n"
     ]
    }
   ],
   "source": [
    "print(rddspark2.map(lambda x: x.housing_median_age).take(10))"
   ]
  },
  {
   "cell_type": "code",
   "execution_count": 25,
   "metadata": {
    "colab": {
     "base_uri": "https://localhost:8080/"
    },
    "executionInfo": {
     "elapsed": 2,
     "status": "ok",
     "timestamp": 1645549350313,
     "user": {
      "displayName": "Raul A. del Aguila",
      "photoUrl": "https://lh3.googleusercontent.com/a-/AOh14GhfFNUGPyK9gz8r-RWHTZpe0mOgynVvayaNWIW_6A=s64",
      "userId": "00351547175787129250"
     },
     "user_tz": -60
    },
    "id": "OKhZXSTCvRSt",
    "outputId": "4ec3bbfb-b817-4631-da09-6be1c8c6104a"
   },
   "outputs": [
    {
     "name": "stdout",
     "output_type": "stream",
     "text": [
      "PythonRDD[51] at RDD at PythonRDD.scala:53\n"
     ]
    }
   ],
   "source": [
    "print(rddspark2.map(lambda x: (x[0],x[1])))"
   ]
  },
  {
   "cell_type": "code",
   "execution_count": 26,
   "metadata": {
    "colab": {
     "base_uri": "https://localhost:8080/"
    },
    "executionInfo": {
     "elapsed": 257,
     "status": "ok",
     "timestamp": 1645549350788,
     "user": {
      "displayName": "Raul A. del Aguila",
      "photoUrl": "https://lh3.googleusercontent.com/a-/AOh14GhfFNUGPyK9gz8r-RWHTZpe0mOgynVvayaNWIW_6A=s64",
      "userId": "00351547175787129250"
     },
     "user_tz": -60
    },
    "id": "PqsDHb0nDZ1I",
    "outputId": "ecfc9612-6d15-4822-e092-41249b405a33"
   },
   "outputs": [
    {
     "data": {
      "text/plain": [
       "[(-114.31, 34.19),\n",
       " (-114.47, 34.4),\n",
       " (-114.56, 33.69),\n",
       " (-114.57, 33.64),\n",
       " (-114.57, 33.57),\n",
       " (-114.58, 33.63),\n",
       " (-114.58, 33.61),\n",
       " (-114.59, 34.83),\n",
       " (-114.59, 33.61),\n",
       " (-114.6, 34.83),\n",
       " (-115.38, 32.82),\n",
       " (-115.38, 32.81),\n",
       " (-115.39, 32.76),\n",
       " (-115.4, 32.86),\n",
       " (-115.4, 32.7),\n",
       " (-115.41, 32.99),\n",
       " (-115.46, 33.19),\n",
       " (-115.48, 32.8),\n",
       " (-115.48, 32.68),\n",
       " (-115.49, 32.87),\n",
       " (-115.53, 32.99),\n",
       " (-115.53, 32.97),\n",
       " (-115.53, 32.97),\n",
       " (-115.53, 32.73),\n",
       " (-115.54, 32.99),\n",
       " (-115.54, 32.99),\n",
       " (-115.54, 32.98),\n",
       " (-115.54, 32.97),\n",
       " (-115.54, 32.79),\n",
       " (-115.55, 32.98),\n",
       " (-115.57, 32.8),\n",
       " (-115.57, 32.79),\n",
       " (-115.57, 32.78),\n",
       " (-115.57, 32.78),\n",
       " (-115.58, 33.88),\n",
       " (-115.58, 32.81),\n",
       " (-115.58, 32.81),\n",
       " (-115.58, 32.79),\n",
       " (-115.58, 32.78),\n",
       " (-115.59, 32.85),\n",
       " (-115.94, 33.38),\n",
       " (-115.95, 33.28),\n",
       " (-115.96, 33.3),\n",
       " (-115.98, 33.32),\n",
       " (-115.99, 33.4),\n",
       " (-116.0, 33.19),\n",
       " (-116.0, 32.74),\n",
       " (-116.01, 33.51),\n",
       " (-116.01, 33.41),\n",
       " (-116.02, 34.18),\n",
       " (-116.2, 33.63),\n",
       " (-116.2, 32.64),\n",
       " (-116.21, 33.75),\n",
       " (-116.21, 33.72),\n",
       " (-116.21, 33.71),\n",
       " (-116.21, 33.68),\n",
       " (-116.21, 33.66),\n",
       " (-116.22, 36.0),\n",
       " (-116.22, 34.21),\n",
       " (-116.22, 33.74),\n",
       " (-116.31, 33.67),\n",
       " (-116.31, 33.66),\n",
       " (-116.32, 34.14),\n",
       " (-116.32, 34.1),\n",
       " (-116.32, 33.28),\n",
       " (-116.33, 34.15),\n",
       " (-116.33, 33.75),\n",
       " (-116.33, 33.72),\n",
       " (-116.34, 33.36),\n",
       " (-116.35, 34.13),\n",
       " (-116.42, 33.76),\n",
       " (-116.42, 33.68),\n",
       " (-116.42, 33.51),\n",
       " (-116.43, 34.1),\n",
       " (-116.43, 33.81),\n",
       " (-116.43, 33.75),\n",
       " (-116.44, 34.16),\n",
       " (-116.44, 34.12),\n",
       " (-116.44, 33.93),\n",
       " (-116.44, 33.77),\n",
       " (-116.5, 33.69),\n",
       " (-116.51, 34.85),\n",
       " (-116.51, 34.45),\n",
       " (-116.51, 33.96),\n",
       " (-116.51, 33.94),\n",
       " (-116.51, 33.89),\n",
       " (-116.52, 33.97),\n",
       " (-116.52, 33.85),\n",
       " (-116.52, 33.84),\n",
       " (-116.52, 33.82),\n",
       " (-116.6, 33.49),\n",
       " (-116.6, 33.06),\n",
       " (-116.61, 33.04),\n",
       " (-116.62, 34.23),\n",
       " (-116.62, 32.86),\n",
       " (-116.66, 32.79),\n",
       " (-116.67, 32.97),\n",
       " (-116.68, 33.71),\n",
       " (-116.68, 33.16),\n",
       " (-116.71, 33.94),\n",
       " (-116.83, 34.25),\n",
       " (-116.83, 32.83),\n",
       " (-116.84, 33.01),\n",
       " (-116.84, 32.92),\n",
       " (-116.84, 32.86),\n",
       " (-116.85, 34.98),\n",
       " (-116.85, 34.25),\n",
       " (-116.85, 32.83),\n",
       " (-116.86, 34.23),\n",
       " (-116.86, 33.97),\n",
       " (-116.88, 32.86),\n",
       " (-116.89, 33.93),\n",
       " (-116.89, 33.92),\n",
       " (-116.89, 33.86),\n",
       " (-116.89, 33.75),\n",
       " (-116.89, 33.48),\n",
       " (-116.89, 32.99),\n",
       " (-116.89, 32.85),\n",
       " (-116.89, 32.85),\n",
       " (-116.89, 32.67),\n",
       " (-116.91, 32.85),\n",
       " (-116.91, 32.83),\n",
       " (-116.91, 32.82),\n",
       " (-116.91, 32.81),\n",
       " (-116.91, 32.8),\n",
       " (-116.91, 32.78),\n",
       " (-116.91, 32.73),\n",
       " (-116.92, 33.63),\n",
       " (-116.92, 32.85),\n",
       " (-116.92, 32.84),\n",
       " (-116.94, 33.77),\n",
       " (-116.94, 33.74),\n",
       " (-116.94, 33.73),\n",
       " (-116.94, 32.89),\n",
       " (-116.94, 32.87),\n",
       " (-116.94, 32.84),\n",
       " (-116.94, 32.83),\n",
       " (-116.94, 32.82),\n",
       " (-116.94, 32.8),\n",
       " (-116.94, 32.8),\n",
       " (-116.95, 32.79),\n",
       " (-116.95, 32.78),\n",
       " (-116.95, 32.78),\n",
       " (-116.95, 32.77),\n",
       " (-116.95, 32.76),\n",
       " (-116.95, 32.73),\n",
       " (-116.96, 34.94),\n",
       " (-116.96, 34.83),\n",
       " (-116.96, 33.94),\n",
       " (-116.96, 33.79),\n",
       " (-116.97, 33.74),\n",
       " (-116.97, 33.13),\n",
       " (-116.97, 32.83),\n",
       " (-116.97, 32.8),\n",
       " (-116.97, 32.79),\n",
       " (-116.97, 32.79),\n",
       " (-116.97, 32.78),\n",
       " (-116.97, 32.78),\n",
       " (-116.97, 32.78),\n",
       " (-116.97, 32.76),\n",
       " (-116.98, 32.77),\n",
       " (-116.98, 32.75),\n",
       " (-116.98, 32.75),\n",
       " (-116.98, 32.74),\n",
       " (-116.98, 32.74),\n",
       " (-116.98, 32.73),\n",
       " (-116.98, 32.72),\n",
       " (-116.98, 32.71),\n",
       " (-116.99, 34.89),\n",
       " (-116.99, 34.88),\n",
       " (-116.99, 32.73),\n",
       " (-116.99, 32.72),\n",
       " (-116.99, 32.72),\n",
       " (-116.99, 32.72),\n",
       " (-116.99, 32.72),\n",
       " (-116.99, 32.71),\n",
       " (-116.99, 32.7),\n",
       " (-116.99, 32.64),\n",
       " (-117.0, 34.89),\n",
       " (-117.0, 34.87),\n",
       " (-117.01, 33.04),\n",
       " (-117.01, 32.99),\n",
       " (-117.01, 32.85),\n",
       " (-117.01, 32.84),\n",
       " (-117.01, 32.83),\n",
       " (-117.01, 32.81),\n",
       " (-117.01, 32.81),\n",
       " (-117.01, 32.8),\n",
       " (-117.01, 32.8),\n",
       " (-117.01, 32.8),\n",
       " (-117.02, 34.89),\n",
       " (-117.02, 34.03),\n",
       " (-117.02, 33.95),\n",
       " (-117.02, 33.81),\n",
       " (-117.02, 33.76),\n",
       " (-117.02, 33.73),\n",
       " (-117.02, 33.71),\n",
       " (-117.02, 33.6),\n",
       " (-117.02, 32.95),\n",
       " (-117.02, 32.84),\n",
       " (-117.02, 32.64),\n",
       " (-117.02, 32.59),\n",
       " (-117.03, 34.91),\n",
       " (-117.03, 34.87),\n",
       " (-117.03, 34.07),\n",
       " (-117.03, 34.03),\n",
       " (-117.03, 33.89),\n",
       " (-117.03, 33.32),\n",
       " (-117.03, 33.18),\n",
       " (-117.03, 33.12),\n",
       " (-117.03, 32.69),\n",
       " (-117.03, 32.69),\n",
       " (-117.03, 32.67),\n",
       " (-117.03, 32.65),\n",
       " (-117.03, 32.63),\n",
       " (-117.03, 32.63),\n",
       " (-117.03, 32.61),\n",
       " (-117.04, 34.89),\n",
       " (-117.04, 34.04),\n",
       " (-117.04, 34.03),\n",
       " (-117.04, 32.75),\n",
       " (-117.04, 32.74),\n",
       " (-117.04, 32.74),\n",
       " (-117.04, 32.72),\n",
       " (-117.04, 32.71),\n",
       " (-117.04, 32.69),\n",
       " (-117.04, 32.68),\n",
       " (-117.04, 32.68),\n",
       " (-117.04, 32.67),\n",
       " (-117.04, 32.66),\n",
       " (-117.05, 33.13),\n",
       " (-117.05, 33.13),\n",
       " (-117.05, 33.13),\n",
       " (-117.05, 33.11),\n",
       " (-117.05, 33.05),\n",
       " (-117.05, 33.04),\n",
       " (-117.05, 33.02),\n",
       " (-117.05, 33.01),\n",
       " (-117.05, 33.01),\n",
       " (-117.05, 32.97),\n",
       " (-117.05, 32.72),\n",
       " (-117.05, 32.69),\n",
       " (-117.05, 32.69),\n",
       " (-117.05, 32.69),\n",
       " (-117.05, 32.68),\n",
       " (-117.05, 32.68),\n",
       " (-117.05, 32.68),\n",
       " (-117.05, 32.67),\n",
       " (-117.05, 32.67),\n",
       " (-117.05, 32.63),\n",
       " (-117.06, 33.04),\n",
       " (-117.06, 33.03),\n",
       " (-117.06, 33.02),\n",
       " (-117.06, 33.02),\n",
       " (-117.06, 33.01),\n",
       " (-117.06, 32.99),\n",
       " (-117.06, 32.97),\n",
       " (-117.06, 32.81),\n",
       " (-117.06, 32.8),\n",
       " (-117.06, 32.79),\n",
       " (-117.06, 32.63),\n",
       " (-117.06, 32.63),\n",
       " (-117.06, 32.62),\n",
       " (-117.06, 32.61),\n",
       " (-117.06, 32.6),\n",
       " (-117.06, 32.6),\n",
       " (-117.06, 32.6),\n",
       " (-117.06, 32.58),\n",
       " (-117.06, 32.58),\n",
       " (-117.06, 32.58),\n",
       " (-117.07, 33.04),\n",
       " (-117.07, 33.03),\n",
       " (-117.07, 33.03),\n",
       " (-117.07, 33.02),\n",
       " (-117.07, 33.01),\n",
       " (-117.07, 33.01),\n",
       " (-117.07, 33.0),\n",
       " (-117.07, 33.0),\n",
       " (-117.07, 32.91),\n",
       " (-117.07, 32.8),\n",
       " (-117.07, 32.69),\n",
       " (-117.07, 32.69),\n",
       " (-117.07, 32.69),\n",
       " (-117.07, 32.68),\n",
       " (-117.07, 32.67),\n",
       " (-117.07, 32.67),\n",
       " (-117.07, 32.65),\n",
       " (-117.07, 32.64),\n",
       " (-117.07, 32.64),\n",
       " (-117.07, 32.64),\n",
       " (-117.08, 33.13),\n",
       " (-117.08, 33.12),\n",
       " (-117.08, 33.12),\n",
       " (-117.08, 33.11),\n",
       " (-117.08, 33.11),\n",
       " (-117.08, 33.11),\n",
       " (-117.08, 33.09),\n",
       " (-117.08, 33.08),\n",
       " (-117.08, 33.04),\n",
       " (-117.08, 33.03),\n",
       " (-117.08, 32.74),\n",
       " (-117.08, 32.74),\n",
       " (-117.08, 32.73),\n",
       " (-117.08, 32.73),\n",
       " (-117.08, 32.73),\n",
       " (-117.08, 32.71),\n",
       " (-117.08, 32.7),\n",
       " (-117.08, 32.7),\n",
       " (-117.08, 32.69),\n",
       " (-117.08, 32.69),\n",
       " (-117.09, 34.22),\n",
       " (-117.09, 34.07),\n",
       " (-117.09, 33.71),\n",
       " (-117.09, 33.15),\n",
       " (-117.09, 33.13),\n",
       " (-117.09, 33.12),\n",
       " (-117.09, 33.11),\n",
       " (-117.09, 33.1),\n",
       " (-117.09, 32.99),\n",
       " (-117.09, 32.99),\n",
       " (-117.09, 32.75),\n",
       " (-117.09, 32.75),\n",
       " (-117.09, 32.75),\n",
       " (-117.09, 32.74),\n",
       " (-117.09, 32.73),\n",
       " (-117.09, 32.72),\n",
       " (-117.09, 32.72),\n",
       " (-117.09, 32.71),\n",
       " (-117.09, 32.71),\n",
       " (-117.09, 32.7),\n",
       " (-117.09, 32.61),\n",
       " (-117.09, 32.58),\n",
       " (-117.09, 32.57),\n",
       " (-117.09, 32.57),\n",
       " (-117.09, 32.57),\n",
       " (-117.09, 32.55),\n",
       " (-117.1, 34.57),\n",
       " (-117.1, 34.21),\n",
       " (-117.1, 34.03),\n",
       " (-117.1, 33.56),\n",
       " (-117.1, 32.74),\n",
       " (-117.1, 32.74),\n",
       " (-117.1, 32.73),\n",
       " (-117.1, 32.72),\n",
       " (-117.1, 32.71),\n",
       " (-117.1, 32.71),\n",
       " (-117.1, 32.7),\n",
       " (-117.1, 32.7),\n",
       " (-117.1, 32.69),\n",
       " (-117.1, 32.69),\n",
       " (-117.11, 33.98),\n",
       " (-117.11, 33.83),\n",
       " (-117.11, 33.78),\n",
       " (-117.11, 33.75),\n",
       " (-117.11, 33.74),\n",
       " (-117.11, 33.23),\n",
       " (-117.11, 33.19),\n",
       " (-117.11, 33.15),\n",
       " (-117.11, 33.14),\n",
       " (-117.11, 33.12),\n",
       " (-117.11, 32.76),\n",
       " (-117.11, 32.76),\n",
       " (-117.11, 32.75),\n",
       " (-117.11, 32.75),\n",
       " (-117.11, 32.75),\n",
       " (-117.11, 32.75),\n",
       " (-117.11, 32.75),\n",
       " (-117.11, 32.74),\n",
       " (-117.11, 32.74),\n",
       " (-117.11, 32.74),\n",
       " (-117.11, 32.59),\n",
       " (-117.11, 32.58),\n",
       " (-117.11, 32.58),\n",
       " (-117.12, 34.46),\n",
       " (-117.12, 34.06),\n",
       " (-117.12, 34.04),\n",
       " (-117.12, 33.52),\n",
       " (-117.12, 33.27),\n",
       " (-117.12, 33.15),\n",
       " (-117.12, 33.14),\n",
       " (-117.12, 32.76),\n",
       " (-117.12, 32.75),\n",
       " (-117.12, 32.75),\n",
       " (-117.12, 32.75),\n",
       " (-117.12, 32.75),\n",
       " (-117.12, 32.75),\n",
       " (-117.12, 32.74),\n",
       " (-117.12, 32.74),\n",
       " (-117.12, 32.73),\n",
       " (-117.12, 32.72),\n",
       " (-117.13, 33.14),\n",
       " (-117.13, 33.14),\n",
       " (-117.13, 33.13),\n",
       " (-117.13, 32.97),\n",
       " (-117.13, 32.96),\n",
       " (-117.13, 32.94),\n",
       " (-117.13, 32.93),\n",
       " (-117.13, 32.92),\n",
       " (-117.13, 32.92),\n",
       " (-117.13, 32.92),\n",
       " (-117.13, 32.75),\n",
       " (-117.13, 32.75),\n",
       " (-117.13, 32.74),\n",
       " (-117.13, 32.74),\n",
       " (-117.13, 32.74),\n",
       " (-117.13, 32.73),\n",
       " (-117.13, 32.73),\n",
       " (-117.13, 32.73),\n",
       " (-117.13, 32.73),\n",
       " (-117.13, 32.72),\n",
       " (-117.14, 34.01),\n",
       " (-117.14, 33.94),\n",
       " (-117.14, 33.39),\n",
       " (-117.14, 33.23),\n",
       " (-117.14, 33.18),\n",
       " (-117.14, 33.16),\n",
       " (-117.14, 33.15),\n",
       " (-117.14, 33.15),\n",
       " (-117.14, 33.12),\n",
       " (-117.14, 33.07),\n",
       " (-117.14, 32.75),\n",
       " (-117.14, 32.75),\n",
       " (-117.14, 32.74),\n",
       " (-117.14, 32.74),\n",
       " (-117.14, 32.73),\n",
       " (-117.14, 32.72),\n",
       " (-117.14, 32.72),\n",
       " (-117.14, 32.72),\n",
       " (-117.14, 32.71),\n",
       " (-117.14, 32.71),\n",
       " (-117.15, 33.2),\n",
       " (-117.15, 33.16),\n",
       " (-117.15, 33.14),\n",
       " (-117.15, 33.02),\n",
       " (-117.15, 32.92),\n",
       " (-117.15, 32.92),\n",
       " (-117.15, 32.91),\n",
       " (-117.15, 32.91),\n",
       " (-117.15, 32.8),\n",
       " (-117.15, 32.8),\n",
       " (-117.16, 33.61),\n",
       " (-117.16, 33.57),\n",
       " (-117.16, 33.54),\n",
       " (-117.16, 33.06),\n",
       " (-117.16, 32.91),\n",
       " (-117.16, 32.89),\n",
       " (-117.16, 32.82),\n",
       " (-117.16, 32.81),\n",
       " (-117.16, 32.81),\n",
       " (-117.16, 32.8),\n",
       " (-117.17, 34.49),\n",
       " (-117.17, 34.25),\n",
       " (-117.17, 34.12),\n",
       " (-117.17, 34.12),\n",
       " (-117.17, 34.08),\n",
       " (-117.17, 34.07),\n",
       " (-117.17, 34.05),\n",
       " (-117.17, 34.05),\n",
       " (-117.17, 34.03),\n",
       " (-117.17, 33.83),\n",
       " (-117.17, 32.73),\n",
       " (-117.17, 32.73),\n",
       " (-117.17, 32.73),\n",
       " (-117.17, 32.72),\n",
       " (-117.17, 32.71),\n",
       " (-117.17, 32.71),\n",
       " (-117.17, 32.7),\n",
       " (-117.17, 32.69),\n",
       " (-117.17, 32.69),\n",
       " (-117.17, 32.69),\n",
       " (-117.18, 32.84),\n",
       " (-117.18, 32.83),\n",
       " (-117.18, 32.83),\n",
       " (-117.18, 32.82),\n",
       " (-117.18, 32.81),\n",
       " (-117.18, 32.81),\n",
       " (-117.18, 32.8),\n",
       " (-117.18, 32.8),\n",
       " (-117.18, 32.79),\n",
       " (-117.18, 32.78),\n",
       " (-117.19, 34.05),\n",
       " (-117.19, 34.05),\n",
       " (-117.19, 34.03),\n",
       " (-117.19, 34.03),\n",
       " (-117.19, 33.9),\n",
       " (-117.19, 33.7),\n",
       " (-117.19, 33.69),\n",
       " (-117.19, 33.53),\n",
       " (-117.19, 33.41),\n",
       " (-117.19, 33.34),\n",
       " (-117.19, 32.69),\n",
       " (-117.2, 34.52),\n",
       " (-117.2, 34.5),\n",
       " (-117.2, 34.48),\n",
       " (-117.2, 34.46),\n",
       " (-117.2, 34.26),\n",
       " (-117.2, 34.24),\n",
       " (-117.2, 34.15),\n",
       " (-117.2, 34.14),\n",
       " (-117.2, 34.14),\n",
       " (-117.2, 32.79),\n",
       " (-117.2, 32.79),\n",
       " (-117.2, 32.78),\n",
       " (-117.2, 32.77),\n",
       " (-117.21, 34.51),\n",
       " (-117.21, 34.28),\n",
       " (-117.21, 34.14),\n",
       " (-117.21, 34.13),\n",
       " (-117.21, 34.12),\n",
       " (-117.21, 34.11),\n",
       " (-117.21, 32.96),\n",
       " (-117.21, 32.89),\n",
       " (-117.21, 32.87),\n",
       " (-117.21, 32.86),\n",
       " (-117.21, 32.86),\n",
       " (-117.21, 32.86),\n",
       " (-117.21, 32.85),\n",
       " (-117.21, 32.84),\n",
       " (-117.21, 32.83),\n",
       " (-117.21, 32.83),\n",
       " (-117.22, 33.81),\n",
       " (-117.22, 33.8),\n",
       " (-117.22, 33.74),\n",
       " (-117.22, 33.66),\n",
       " (-117.22, 33.48),\n",
       " (-117.22, 33.36),\n",
       " (-117.22, 33.22),\n",
       " (-117.22, 33.22),\n",
       " (-117.22, 33.21),\n",
       " (-117.22, 33.2),\n",
       " (-117.22, 32.75),\n",
       " (-117.22, 32.74),\n",
       " (-117.22, 32.74),\n",
       " (-117.22, 32.74),\n",
       " (-117.23, 34.51),\n",
       " (-117.23, 34.49),\n",
       " (-117.23, 34.15),\n",
       " (-117.23, 34.14),\n",
       " (-117.23, 34.13),\n",
       " (-117.23, 34.12),\n",
       " (-117.23, 33.2),\n",
       " (-117.23, 33.19),\n",
       " (-117.23, 33.16),\n",
       " (-117.23, 33.09),\n",
       " (-117.23, 33.01),\n",
       " (-117.23, 32.99),\n",
       " (-117.23, 32.86),\n",
       " (-117.23, 32.86),\n",
       " (-117.23, 32.86),\n",
       " (-117.23, 32.85),\n",
       " (-117.24, 34.12),\n",
       " (-117.24, 34.11),\n",
       " (-117.24, 34.06),\n",
       " (-117.24, 34.04),\n",
       " (-117.24, 34.04),\n",
       " (-117.24, 33.95),\n",
       " (-117.24, 33.94),\n",
       " (-117.24, 33.85),\n",
       " (-117.24, 33.77),\n",
       " (-117.24, 33.4),\n",
       " (-117.24, 32.81),\n",
       " (-117.24, 32.81),\n",
       " (-117.24, 32.8),\n",
       " (-117.24, 32.8),\n",
       " (-117.24, 32.8),\n",
       " (-117.24, 32.8),\n",
       " (-117.24, 32.79),\n",
       " (-117.24, 32.79),\n",
       " (-117.24, 32.79),\n",
       " (-117.24, 32.79),\n",
       " (-117.25, 34.14),\n",
       " (-117.25, 34.13),\n",
       " (-117.25, 34.13),\n",
       " (-117.25, 34.12),\n",
       " (-117.25, 34.11),\n",
       " (-117.25, 34.11),\n",
       " (-117.25, 34.08),\n",
       " (-117.25, 34.07),\n",
       " (-117.25, 34.06),\n",
       " (-117.25, 34.06),\n",
       " (-117.25, 33.06),\n",
       " (-117.25, 33.05),\n",
       " (-117.25, 33.03),\n",
       " (-117.25, 33.01),\n",
       " (-117.25, 33.0),\n",
       " (-117.25, 32.99),\n",
       " (-117.25, 32.96),\n",
       " (-117.25, 32.94),\n",
       " (-117.25, 32.94),\n",
       " (-117.25, 32.86),\n",
       " (-117.25, 32.74),\n",
       " (-117.25, 32.74),\n",
       " (-117.25, 32.73),\n",
       " (-117.25, 32.73),\n",
       " (-117.25, 32.73),\n",
       " (-117.25, 32.72),\n",
       " (-117.25, 32.72),\n",
       " (-117.26, 34.53),\n",
       " (-117.26, 34.48),\n",
       " (-117.26, 34.43),\n",
       " (-117.26, 33.0),\n",
       " (-117.26, 32.98),\n",
       " (-117.26, 32.97),\n",
       " (-117.26, 32.96),\n",
       " (-117.26, 32.95),\n",
       " (-117.26, 32.95),\n",
       " (-117.26, 32.95),\n",
       " (-117.26, 32.95),\n",
       " (-117.26, 32.85),\n",
       " (-117.26, 32.83),\n",
       " (-117.27, 34.08),\n",
       " (-117.27, 34.07),\n",
       " (-117.27, 34.06),\n",
       " (-117.27, 34.05),\n",
       " (-117.27, 33.93),\n",
       " (-117.27, 33.92),\n",
       " (-117.27, 33.68),\n",
       " (-117.27, 33.55),\n",
       " (-117.27, 33.23),\n",
       " (-117.27, 33.22),\n",
       " (-117.27, 32.83),\n",
       " (-117.27, 32.82),\n",
       " (-117.27, 32.82),\n",
       " (-117.28, 35.13),\n",
       " (-117.28, 34.68),\n",
       " (-117.28, 34.51),\n",
       " (-117.28, 34.24),\n",
       " (-117.28, 34.17),\n",
       " (-117.28, 34.17),\n",
       " (-117.28, 34.16),\n",
       " (-117.28, 33.18),\n",
       " (-117.28, 33.18),\n",
       " (-117.28, 33.1),\n",
       " (-117.28, 33.04),\n",
       " (-117.28, 32.84),\n",
       " (-117.28, 32.84),\n",
       " (-117.28, 32.83),\n",
       " (-117.28, 32.8),\n",
       " (-117.28, 32.77),\n",
       " (-117.28, 32.75),\n",
       " (-117.29, 33.97),\n",
       " (-117.29, 33.83),\n",
       " (-117.29, 33.72),\n",
       " (-117.29, 33.63),\n",
       " (-117.29, 33.24),\n",
       " (-117.29, 33.2),\n",
       " (-117.29, 33.18),\n",
       " (-117.29, 33.18),\n",
       " (-117.29, 33.15),\n",
       " (-117.29, 33.13),\n",
       " (-117.3, 34.13),\n",
       " (-117.3, 34.12),\n",
       " (-117.3, 34.11),\n",
       " (-117.3, 34.07),\n",
       " (-117.3, 34.05),\n",
       " (-117.3, 33.26),\n",
       " (-117.3, 33.25),\n",
       " (-117.3, 33.23),\n",
       " (-117.3, 33.22),\n",
       " (-117.3, 33.17),\n",
       " (-117.31, 34.13),\n",
       " (-117.31, 34.12),\n",
       " (-117.31, 34.11),\n",
       " (-117.31, 34.11),\n",
       " (-117.31, 34.1),\n",
       " (-117.31, 34.09),\n",
       " (-117.31, 34.08),\n",
       " (-117.31, 34.08),\n",
       " (-117.31, 34.08),\n",
       " (-117.31, 34.07),\n",
       " (-117.32, 34.55),\n",
       " (-117.32, 34.54),\n",
       " (-117.32, 34.51),\n",
       " (-117.32, 34.49),\n",
       " (-117.32, 34.48),\n",
       " (-117.32, 34.41),\n",
       " (-117.32, 34.24),\n",
       " (-117.32, 34.19),\n",
       " (-117.32, 34.17),\n",
       " (-117.32, 34.16),\n",
       " (-117.32, 33.25),\n",
       " (-117.32, 33.25),\n",
       " (-117.32, 33.23),\n",
       " (-117.32, 33.22),\n",
       " (-117.32, 33.22),\n",
       " (-117.32, 33.15),\n",
       " (-117.32, 33.12),\n",
       " (-117.32, 33.01),\n",
       " (-117.33, 34.53),\n",
       " (-117.33, 34.41),\n",
       " (-117.33, 33.23),\n",
       " (-117.33, 33.22),\n",
       " (-117.33, 33.21),\n",
       " (-117.33, 33.17),\n",
       " (-117.33, 33.03),\n",
       " (-117.34, 34.39),\n",
       " (-117.34, 34.16),\n",
       " (-117.34, 34.14),\n",
       " (-117.34, 34.13),\n",
       " (-117.34, 34.13),\n",
       " (-117.34, 33.15),\n",
       " (-117.34, 33.15),\n",
       " (-117.34, 33.06),\n",
       " (-117.35, 34.5),\n",
       " (-117.35, 34.44),\n",
       " (-117.35, 34.2),\n",
       " (-117.35, 34.17),\n",
       " (-117.35, 34.16),\n",
       " (-117.35, 34.15),\n",
       " (-117.35, 34.12),\n",
       " (-117.35, 33.16),\n",
       " (-117.36, 34.54),\n",
       " (-117.36, 34.48),\n",
       " (-117.36, 34.28),\n",
       " (-117.36, 34.11),\n",
       " (-117.36, 34.1),\n",
       " (-117.36, 34.1),\n",
       " (-117.36, 34.08),\n",
       " (-117.36, 34.0),\n",
       " (-117.36, 33.99),\n",
       " (-117.37, 34.01),\n",
       " (-117.37, 34.0),\n",
       " (-117.37, 34.0),\n",
       " (-117.37, 33.99),\n",
       " (-117.37, 33.98),\n",
       " (-117.37, 33.98),\n",
       " (-117.37, 33.97),\n",
       " (-117.37, 33.97),\n",
       " (-117.37, 33.96),\n",
       " (-117.37, 33.95),\n",
       " (-117.38, 34.07),\n",
       " (-117.38, 34.06),\n",
       " (-117.38, 34.0),\n",
       " (-117.38, 33.99),\n",
       " (-117.38, 33.98),\n",
       " (-117.38, 33.97),\n",
       " (-117.38, 33.97),\n",
       " (-117.38, 33.96),\n",
       " (-117.38, 33.94),\n",
       " (-117.38, 33.89),\n",
       " (-117.4, 34.15),\n",
       " (-117.4, 34.11),\n",
       " (-117.4, 34.09),\n",
       " (-117.4, 34.08),\n",
       " (-117.4, 34.07),\n",
       " (-117.4, 34.06),\n",
       " (-117.4, 34.04),\n",
       " (-117.4, 34.0),\n",
       " (-117.4, 34.0),\n",
       " (-117.4, 33.97),\n",
       " (-117.41, 34.0),\n",
       " (-117.41, 33.97),\n",
       " (-117.41, 33.97),\n",
       " (-117.41, 33.96),\n",
       " (-117.41, 33.96),\n",
       " (-117.41, 33.95),\n",
       " (-117.41, 33.95),\n",
       " (-117.41, 33.94),\n",
       " (-117.41, 33.94),\n",
       " (-117.41, 33.93),\n",
       " (-117.43, 34.07),\n",
       " (-117.43, 34.02),\n",
       " (-117.43, 34.01),\n",
       " (-117.43, 33.99),\n",
       " (-117.43, 33.98),\n",
       " (-117.43, 33.96),\n",
       " (-117.43, 33.95),\n",
       " (-117.43, 33.93),\n",
       " (-117.43, 33.93),\n",
       " (-117.43, 33.91),\n",
       " (-117.45, 33.93),\n",
       " (-117.45, 33.92),\n",
       " (-117.45, 33.91),\n",
       " (-117.46, 34.85),\n",
       " (-117.46, 34.14),\n",
       " (-117.46, 34.1),\n",
       " (-117.46, 34.1),\n",
       " (-117.46, 34.09),\n",
       " (-117.46, 34.07),\n",
       " (-117.46, 34.06),\n",
       " (-117.48, 34.0),\n",
       " (-117.48, 33.94),\n",
       " (-117.48, 33.94),\n",
       " (-117.48, 33.93),\n",
       " (-117.48, 33.91),\n",
       " (-117.48, 33.89),\n",
       " (-117.49, 34.04),\n",
       " (-117.49, 34.02),\n",
       " (-117.49, 34.02),\n",
       " (-117.49, 33.99),\n",
       " (-117.51, 33.88),\n",
       " (-117.52, 33.99),\n",
       " (-117.52, 33.89),\n",
       " (-117.52, 33.84),\n",
       " (-117.52, 33.83),\n",
       " (-117.52, 33.82),\n",
       " (-117.53, 34.28),\n",
       " (-117.53, 34.1),\n",
       " (-117.53, 34.06),\n",
       " (-117.53, 34.02),\n",
       " (-117.55, 33.85),\n",
       " (-117.55, 33.83),\n",
       " (-117.55, 33.52),\n",
       " (-117.56, 34.12),\n",
       " (-117.56, 34.12),\n",
       " (-117.56, 33.94),\n",
       " (-117.56, 33.94),\n",
       " (-117.56, 33.89),\n",
       " (-117.56, 33.88),\n",
       " (-117.56, 33.86),\n",
       " (-117.58, 33.65),\n",
       " (-117.58, 33.65),\n",
       " (-117.58, 33.6),\n",
       " (-117.59, 34.16),\n",
       " (-117.59, 34.13),\n",
       " (-117.59, 34.1),\n",
       " (-117.59, 34.09),\n",
       " (-117.59, 34.03),\n",
       " (-117.59, 34.02),\n",
       " (-117.59, 33.93),\n",
       " (-117.6, 33.42),\n",
       " (-117.6, 33.41),\n",
       " (-117.61, 34.14),\n",
       " (-117.61, 34.13),\n",
       " (-117.61, 34.1),\n",
       " (-117.61, 34.09),\n",
       " (-117.61, 34.09),\n",
       " (-117.61, 34.08),\n",
       " (-117.61, 34.04),\n",
       " (-117.61, 34.02),\n",
       " (-117.62, 34.02),\n",
       " (-117.62, 34.02),\n",
       " (-117.62, 33.77),\n",
       " (-117.62, 33.64),\n",
       " (-117.62, 33.47),\n",
       " (-117.62, 33.43),\n",
       " (-117.62, 33.43),\n",
       " (-117.62, 33.43),\n",
       " (-117.62, 33.42),\n",
       " (-117.62, 33.42),\n",
       " (-117.64, 34.12),\n",
       " (-117.64, 34.11),\n",
       " (-117.64, 34.08),\n",
       " (-117.64, 34.08),\n",
       " (-117.64, 34.08),\n",
       " (-117.64, 34.07),\n",
       " (-117.64, 34.07),\n",
       " (-117.64, 34.07),\n",
       " (-117.64, 34.07),\n",
       " (-117.64, 34.06),\n",
       " (-117.64, 33.45),\n",
       " (-117.65, 34.14),\n",
       " (-117.65, 34.14),\n",
       " (-117.65, 34.13),\n",
       " (-117.65, 34.12),\n",
       " (-117.65, 34.12),\n",
       " (-117.65, 34.11),\n",
       " (-117.65, 34.11),\n",
       " (-117.65, 34.1),\n",
       " (-117.65, 34.1),\n",
       " (-117.65, 33.6),\n",
       " (-117.65, 33.6),\n",
       " (-117.65, 33.59),\n",
       " (-117.65, 33.58),\n",
       " (-117.65, 33.53),\n",
       " (-117.65, 33.49),\n",
       " (-117.65, 33.48),\n",
       " (-117.65, 33.48),\n",
       " (-117.65, 33.45),\n",
       " (-117.65, 33.42),\n",
       " (-117.66, 34.07),\n",
       " (-117.66, 34.06),\n",
       " (-117.66, 34.05),\n",
       " (-117.66, 34.05),\n",
       " (-117.66, 34.05),\n",
       " (-117.66, 34.04),\n",
       " (-117.66, 34.04),\n",
       " (-117.66, 34.03),\n",
       " (-117.66, 34.02),\n",
       " (-117.66, 34.02),\n",
       " (-117.67, 35.63),\n",
       " (-117.67, 34.13),\n",
       " (-117.67, 34.12),\n",
       " (-117.67, 34.1),\n",
       " (-117.67, 34.1),\n",
       " (-117.67, 34.09),\n",
       " (-117.67, 34.07),\n",
       " (-117.67, 34.06),\n",
       " (-117.67, 34.05),\n",
       " (-117.67, 34.04),\n",
       " (-117.67, 33.46),\n",
       " (-117.67, 33.44),\n",
       " (-117.68, 35.64),\n",
       " (-117.68, 35.55),\n",
       " (-117.68, 35.03),\n",
       " (-117.68, 34.99),\n",
       " (-117.68, 34.15),\n",
       " (-117.68, 34.15),\n",
       " (-117.68, 34.14),\n",
       " (-117.68, 34.12),\n",
       " (-117.68, 33.54),\n",
       " (-117.68, 33.52),\n",
       " (-117.68, 33.51),\n",
       " (-117.68, 33.51),\n",
       " (-117.68, 33.49),\n",
       " (-117.68, 33.49),\n",
       " (-117.68, 33.49),\n",
       " (-117.68, 33.48),\n",
       " (-117.68, 33.47),\n",
       " (-117.69, 36.13),\n",
       " (-117.69, 33.6),\n",
       " (-117.69, 33.6),\n",
       " (-117.69, 33.59),\n",
       " (-117.69, 33.58),\n",
       " (-117.69, 33.55),\n",
       " (-117.69, 33.55),\n",
       " (-117.69, 33.54),\n",
       " (-117.69, 33.53),\n",
       " (-117.69, 33.52),\n",
       " (-117.69, 33.52),\n",
       " (-117.7, 33.63),\n",
       " (-117.7, 33.62),\n",
       " (-117.7, 33.62),\n",
       " (-117.7, 33.6),\n",
       " (-117.7, 33.6),\n",
       " (-117.7, 33.59),\n",
       " (-117.7, 33.57),\n",
       " (-117.7, 33.57),\n",
       " (-117.7, 33.56),\n",
       " (-117.7, 33.56),\n",
       " (-117.71, 34.03),\n",
       " (-117.71, 33.97),\n",
       " (-117.71, 33.64),\n",
       " (-117.71, 33.63),\n",
       " (-117.71, 33.62),\n",
       " (-117.71, 33.61),\n",
       " (-117.71, 33.61),\n",
       " (-117.71, 33.6),\n",
       " (-117.71, 33.6),\n",
       " (-117.71, 33.58),\n",
       " (-117.72, 33.99),\n",
       " (-117.72, 33.97),\n",
       " (-117.72, 33.64),\n",
       " (-117.72, 33.63),\n",
       " (-117.72, 33.62),\n",
       " (-117.72, 33.62),\n",
       " (-117.72, 33.62),\n",
       " (-117.72, 33.61),\n",
       " (-117.72, 33.61),\n",
       " (-117.72, 33.54),\n",
       " (-117.73, 34.01),\n",
       " (-117.73, 33.61),\n",
       " (-117.73, 33.61),\n",
       " (-117.73, 33.53),\n",
       " (-117.73, 33.51),\n",
       " (-117.73, 33.49),\n",
       " (-117.73, 33.49),\n",
       " (-117.74, 35.65),\n",
       " (-117.74, 34.11),\n",
       " (-117.74, 34.1),\n",
       " (-117.75, 34.12),\n",
       " (-117.75, 34.1),\n",
       " (-117.75, 34.09),\n",
       " (-117.75, 34.08),\n",
       " (-117.75, 34.08),\n",
       " (-117.75, 34.07),\n",
       " (-117.75, 34.07),\n",
       " (-117.75, 34.07),\n",
       " (-117.75, 34.06),\n",
       " (-117.75, 34.06),\n",
       " (-117.76, 34.11),\n",
       " (-117.76, 34.1),\n",
       " (-117.76, 34.08),\n",
       " (-117.76, 34.07),\n",
       " (-117.76, 34.07),\n",
       " (-117.76, 34.06),\n",
       " (-117.76, 34.06),\n",
       " (-117.76, 34.05),\n",
       " (-117.76, 34.04),\n",
       " (-117.76, 34.04),\n",
       " (-117.77, 34.07),\n",
       " (-117.77, 33.85),\n",
       " (-117.77, 33.84),\n",
       " (-117.77, 33.8),\n",
       " (-117.77, 33.76),\n",
       " (-117.77, 33.72),\n",
       " (-117.77, 33.71),\n",
       " (-117.77, 33.71),\n",
       " (-117.77, 33.71),\n",
       " (-117.77, 33.7),\n",
       " (-117.78, 33.97),\n",
       " (-117.78, 33.9),\n",
       " (-117.78, 33.89),\n",
       " (-117.78, 33.88),\n",
       " (-117.78, 33.87),\n",
       " (-117.78, 33.86),\n",
       " (-117.78, 33.85),\n",
       " (-117.78, 33.82),\n",
       " (-117.78, 33.81),\n",
       " (-117.78, 33.78),\n",
       " ...]"
      ]
     },
     "execution_count": 26,
     "metadata": {},
     "output_type": "execute_result"
    }
   ],
   "source": [
    "rddspark2.map(lambda x: (x[0],x[1])).collect()"
   ]
  },
  {
   "cell_type": "markdown",
   "metadata": {
    "id": "ua_huEiKRVda"
   },
   "source": [
    "Si queremos **filtrar** elementos, usamos `filter`"
   ]
  },
  {
   "cell_type": "code",
   "execution_count": null,
   "metadata": {
    "id": "fmgT68MfRUwh"
   },
   "outputs": [],
   "source": []
  },
  {
   "cell_type": "code",
   "execution_count": 27,
   "metadata": {
    "colab": {
     "base_uri": "https://localhost:8080/"
    },
    "executionInfo": {
     "elapsed": 502,
     "status": "ok",
     "timestamp": 1645549351552,
     "user": {
      "displayName": "Raul A. del Aguila",
      "photoUrl": "https://lh3.googleusercontent.com/a-/AOh14GhfFNUGPyK9gz8r-RWHTZpe0mOgynVvayaNWIW_6A=s64",
      "userId": "00351547175787129250"
     },
     "user_tz": -60
    },
    "id": "Z_tSRLRZDaCf",
    "outputId": "7d3e5677-3697-4051-f139-828bfd89a2c3"
   },
   "outputs": [
    {
     "data": {
      "text/plain": [
       "1617"
      ]
     },
     "execution_count": 27,
     "metadata": {},
     "output_type": "execute_result"
    }
   ],
   "source": [
    "rddspark2.filter(lambda x : x['housing_median_age']>46).count()"
   ]
  },
  {
   "cell_type": "code",
   "execution_count": 28,
   "metadata": {
    "colab": {
     "base_uri": "https://localhost:8080/"
    },
    "executionInfo": {
     "elapsed": 690,
     "status": "ok",
     "timestamp": 1645549352570,
     "user": {
      "displayName": "Raul A. del Aguila",
      "photoUrl": "https://lh3.googleusercontent.com/a-/AOh14GhfFNUGPyK9gz8r-RWHTZpe0mOgynVvayaNWIW_6A=s64",
      "userId": "00351547175787129250"
     },
     "user_tz": -60
    },
    "id": "9bnqRe6HDaRK",
    "outputId": "03b0fc01-6599-4209-a456-de035984ae3c"
   },
   "outputs": [
    {
     "name": "stderr",
     "output_type": "stream",
     "text": [
      "\r",
      "[Stage 27:===================>                                      (1 + 2) / 3]\r",
      "\r",
      "                                                                                \r"
     ]
    },
    {
     "data": {
      "text/plain": [
       "[Row(longitude=-117.14, latitude=32.71, housing_median_age=52.0, total_rooms=800.0, total_bedrooms=313.0, population=1337.0, households=282.0, median_income=1.5594, median_house_value=87500.0),\n",
       " Row(longitude=-117.17, latitude=32.73, housing_median_age=52.0, total_rooms=408.0, total_bedrooms=143.0, population=313.0, households=143.0, median_income=1.815, median_house_value=116700.0),\n",
       " Row(longitude=-117.22, latitude=32.74, housing_median_age=52.0, total_rooms=1283.0, total_bedrooms=173.0, population=436.0, households=190.0, median_income=7.4029, median_house_value=345700.0),\n",
       " Row(longitude=-117.31, latitude=34.11, housing_median_age=52.0, total_rooms=851.0, total_bedrooms=190.0, population=731.0, households=190.0, median_income=1.9044, median_house_value=64900.0),\n",
       " Row(longitude=-117.31, latitude=34.1, housing_median_age=52.0, total_rooms=1457.0, total_bedrooms=415.0, population=1238.0, households=341.0, median_income=2.0089, median_house_value=68100.0),\n",
       " Row(longitude=-117.37, latitude=33.98, housing_median_age=52.0, total_rooms=201.0, total_bedrooms=44.0, population=130.0, households=24.0, median_income=2.025, median_house_value=125000.0),\n",
       " Row(longitude=-117.38, latitude=33.98, housing_median_age=52.0, total_rooms=2274.0, total_bedrooms=571.0, population=1167.0, households=504.0, median_income=2.0284, median_house_value=101600.0),\n",
       " Row(longitude=-117.64, latitude=34.07, housing_median_age=52.0, total_rooms=1644.0, total_bedrooms=372.0, population=1269.0, households=355.0, median_income=2.6913, median_house_value=108300.0),\n",
       " Row(longitude=-117.75, latitude=34.07, housing_median_age=52.0, total_rooms=1548.0, total_bedrooms=348.0, population=1131.0, households=343.0, median_income=2.63, median_house_value=127300.0),\n",
       " Row(longitude=-117.75, latitude=34.06, housing_median_age=52.0, total_rooms=24.0, total_bedrooms=6.0, population=46.0, households=7.0, median_income=1.625, median_house_value=67500.0),\n",
       " Row(longitude=-117.76, latitude=34.06, housing_median_age=47.0, total_rooms=508.0, total_bedrooms=108.0, population=384.0, households=86.0, median_income=1.9583, median_house_value=92600.0),\n",
       " Row(longitude=-117.85, latitude=33.79, housing_median_age=52.0, total_rooms=1963.0, total_bedrooms=430.0, population=1197.0, households=415.0, median_income=3.8929, median_house_value=211000.0),\n",
       " Row(longitude=-117.91, latitude=33.87, housing_median_age=52.0, total_rooms=2031.0, total_bedrooms=506.0, population=1191.0, households=463.0, median_income=2.9076, median_house_value=177300.0),\n",
       " Row(longitude=-117.93, latitude=33.88, housing_median_age=52.0, total_rooms=2157.0, total_bedrooms=362.0, population=1001.0, households=373.0, median_income=5.1237, median_house_value=240000.0),\n",
       " Row(longitude=-117.93, latitude=33.87, housing_median_age=52.0, total_rooms=950.0, total_bedrooms=229.0, population=429.0, households=185.0, median_income=2.315, median_house_value=182100.0),\n",
       " Row(longitude=-118.04, latitude=34.07, housing_median_age=52.0, total_rooms=177.0, total_bedrooms=59.0, population=269.0, households=75.0, median_income=2.3611, median_house_value=131300.0),\n",
       " Row(longitude=-118.09, latitude=34.15, housing_median_age=49.0, total_rooms=1467.0, total_bedrooms=259.0, population=688.0, households=260.0, median_income=4.3452, median_house_value=260100.0),\n",
       " Row(longitude=-118.11, latitude=34.12, housing_median_age=52.0, total_rooms=2954.0, total_bedrooms=371.0, population=1152.0, households=347.0, median_income=11.5609, median_house_value=500001.0),\n",
       " Row(longitude=-118.11, latitude=34.11, housing_median_age=50.0, total_rooms=2131.0, total_bedrooms=294.0, population=753.0, households=284.0, median_income=6.7099, median_house_value=352200.0),\n",
       " Row(longitude=-118.12, latitude=34.17, housing_median_age=52.0, total_rooms=2948.0, total_bedrooms=542.0, population=1363.0, households=495.0, median_income=4.7098, median_house_value=287900.0),\n",
       " Row(longitude=-118.12, latitude=34.12, housing_median_age=52.0, total_rooms=2907.0, total_bedrooms=317.0, population=956.0, households=279.0, median_income=15.0001, median_house_value=500001.0),\n",
       " Row(longitude=-118.14, latitude=33.76, housing_median_age=50.0, total_rooms=2960.0, total_bedrooms=761.0, population=1179.0, households=718.0, median_income=3.5214, median_house_value=398100.0),\n",
       " Row(longitude=-118.15, latitude=34.12, housing_median_age=49.0, total_rooms=1789.0, total_bedrooms=288.0, population=848.0, households=311.0, median_income=6.0199, median_house_value=500000.0),\n",
       " Row(longitude=-118.16, latitude=34.17, housing_median_age=52.0, total_rooms=1193.0, total_bedrooms=228.0, population=703.0, households=221.0, median_income=3.1741, median_house_value=163800.0),\n",
       " Row(longitude=-118.18, latitude=33.82, housing_median_age=52.0, total_rooms=2618.0, total_bedrooms=472.0, population=943.0, households=440.0, median_income=3.7895, median_house_value=254000.0),\n",
       " Row(longitude=-118.19, latitude=34.12, housing_median_age=52.0, total_rooms=679.0, total_bedrooms=132.0, population=483.0, households=163.0, median_income=4.2344, median_house_value=162500.0),\n",
       " Row(longitude=-118.19, latitude=34.03, housing_median_age=52.0, total_rooms=1053.0, total_bedrooms=246.0, population=1036.0, households=249.0, median_income=2.1071, median_house_value=136700.0),\n",
       " Row(longitude=-118.2, latitude=34.11, housing_median_age=52.0, total_rooms=678.0, total_bedrooms=173.0, population=791.0, households=186.0, median_income=4.0625, median_house_value=171300.0),\n",
       " Row(longitude=-118.2, latitude=34.11, housing_median_age=52.0, total_rooms=1901.0, total_bedrooms=525.0, population=1856.0, households=480.0, median_income=3.0, median_house_value=156400.0),\n",
       " Row(longitude=-118.2, latitude=34.08, housing_median_age=49.0, total_rooms=1320.0, total_bedrooms=309.0, population=1405.0, households=328.0, median_income=2.4375, median_house_value=114000.0),\n",
       " Row(longitude=-118.21, latitude=34.04, housing_median_age=52.0, total_rooms=846.0, total_bedrooms=271.0, population=1153.0, households=281.0, median_income=2.1923, median_house_value=155000.0),\n",
       " Row(longitude=-118.23, latitude=34.2, housing_median_age=48.0, total_rooms=1473.0, total_bedrooms=294.0, population=807.0, households=296.0, median_income=3.399, median_house_value=306300.0),\n",
       " Row(longitude=-118.23, latitude=33.97, housing_median_age=47.0, total_rooms=932.0, total_bedrooms=295.0, population=1226.0, households=264.0, median_income=1.6065, median_house_value=111400.0),\n",
       " Row(longitude=-118.24, latitude=34.08, housing_median_age=52.0, total_rooms=137.0, total_bedrooms=26.0, population=65.0, households=24.0, median_income=4.025, median_house_value=137500.0),\n",
       " Row(longitude=-118.26, latitude=34.12, housing_median_age=52.0, total_rooms=2290.0, total_bedrooms=520.0, population=1278.0, households=485.0, median_income=3.8393, median_house_value=238200.0),\n",
       " Row(longitude=-118.26, latitude=34.1, housing_median_age=52.0, total_rooms=1310.0, total_bedrooms=263.0, population=689.0, households=208.0, median_income=4.0721, median_house_value=350000.0),\n",
       " Row(longitude=-118.26, latitude=34.1, housing_median_age=48.0, total_rooms=2566.0, total_bedrooms=571.0, population=1421.0, households=563.0, median_income=3.6579, median_house_value=318600.0),\n",
       " Row(longitude=-118.26, latitude=34.09, housing_median_age=51.0, total_rooms=1532.0, total_bedrooms=366.0, population=669.0, households=333.0, median_income=3.6434, median_house_value=278800.0),\n",
       " Row(longitude=-118.26, latitude=34.08, housing_median_age=52.0, total_rooms=984.0, total_bedrooms=276.0, population=994.0, households=260.0, median_income=2.3816, median_house_value=166700.0),\n",
       " Row(longitude=-118.26, latitude=33.97, housing_median_age=52.0, total_rooms=1331.0, total_bedrooms=346.0, population=1144.0, households=362.0, median_income=1.5326, median_house_value=90600.0),\n",
       " Row(longitude=-118.28, latitude=34.06, housing_median_age=52.0, total_rooms=936.0, total_bedrooms=454.0, population=990.0, households=354.0, median_income=1.1122, median_house_value=187500.0),\n",
       " Row(longitude=-118.28, latitude=34.06, housing_median_age=52.0, total_rooms=1261.0, total_bedrooms=616.0, population=2309.0, households=581.0, median_income=1.6184, median_house_value=225000.0),\n",
       " Row(longitude=-118.28, latitude=33.98, housing_median_age=47.0, total_rooms=865.0, total_bedrooms=193.0, population=782.0, households=217.0, median_income=2.2411, median_house_value=93000.0),\n",
       " Row(longitude=-118.29, latitude=34.11, housing_median_age=49.0, total_rooms=2850.0, total_bedrooms=379.0, population=1113.0, households=380.0, median_income=12.9591, median_house_value=500001.0),\n",
       " Row(longitude=-118.3, latitude=33.99, housing_median_age=47.0, total_rooms=2637.0, total_bedrooms=588.0, population=1903.0, households=521.0, median_income=1.8317, median_house_value=96500.0),\n",
       " Row(longitude=-118.3, latitude=33.99, housing_median_age=47.0, total_rooms=2212.0, total_bedrooms=533.0, population=1903.0, households=554.0, median_income=1.9853, median_house_value=101100.0),\n",
       " Row(longitude=-118.31, latitude=34.02, housing_median_age=52.0, total_rooms=1832.0, total_bedrooms=441.0, population=1186.0, households=420.0, median_income=1.2434, median_house_value=98400.0),\n",
       " Row(longitude=-118.31, latitude=34.01, housing_median_age=50.0, total_rooms=1463.0, total_bedrooms=354.0, population=912.0, households=293.0, median_income=1.7386, median_house_value=109400.0),\n",
       " Row(longitude=-118.31, latitude=34.01, housing_median_age=48.0, total_rooms=2544.0, total_bedrooms=532.0, population=1357.0, households=498.0, median_income=2.5263, median_house_value=121000.0),\n",
       " Row(longitude=-118.31, latitude=33.96, housing_median_age=47.0, total_rooms=1586.0, total_bedrooms=322.0, population=1077.0, households=339.0, median_income=4.4861, median_house_value=140400.0),\n",
       " Row(longitude=-118.32, latitude=34.17, housing_median_age=47.0, total_rooms=2589.0, total_bedrooms=465.0, population=1284.0, households=485.0, median_income=5.1008, median_house_value=247100.0),\n",
       " Row(longitude=-118.32, latitude=34.16, housing_median_age=49.0, total_rooms=1074.0, total_bedrooms=170.0, population=403.0, households=208.0, median_income=6.2547, median_house_value=366700.0),\n",
       " Row(longitude=-118.32, latitude=34.04, housing_median_age=47.0, total_rooms=1989.0, total_bedrooms=532.0, population=1430.0, households=519.0, median_income=1.8333, median_house_value=151100.0),\n",
       " Row(longitude=-118.32, latitude=33.98, housing_median_age=47.0, total_rooms=1528.0, total_bedrooms=331.0, population=864.0, households=308.0, median_income=1.9732, median_house_value=101000.0),\n",
       " Row(longitude=-118.33, latitude=34.18, housing_median_age=49.0, total_rooms=1969.0, total_bedrooms=377.0, population=977.0, households=367.0, median_income=3.8462, median_house_value=231300.0),\n",
       " Row(longitude=-118.34, latitude=34.08, housing_median_age=52.0, total_rooms=2756.0, total_bedrooms=542.0, population=971.0, households=510.0, median_income=5.5871, median_house_value=500001.0),\n",
       " Row(longitude=-118.34, latitude=34.03, housing_median_age=48.0, total_rooms=1426.0, total_bedrooms=331.0, population=784.0, households=356.0, median_income=1.6581, median_house_value=118800.0),\n",
       " Row(longitude=-118.34, latitude=34.02, housing_median_age=48.0, total_rooms=1614.0, total_bedrooms=320.0, population=684.0, households=318.0, median_income=4.2218, median_house_value=181000.0),\n",
       " Row(longitude=-118.35, latitude=34.17, housing_median_age=47.0, total_rooms=858.0, total_bedrooms=170.0, population=365.0, households=171.0, median_income=2.0385, median_house_value=225000.0),\n",
       " Row(longitude=-118.35, latitude=34.06, housing_median_age=52.0, total_rooms=1368.0, total_bedrooms=322.0, population=617.0, households=303.0, median_income=5.3819, median_house_value=440900.0),\n",
       " Row(longitude=-118.35, latitude=34.06, housing_median_age=48.0, total_rooms=3551.0, total_bedrooms=826.0, population=1601.0, households=827.0, median_income=3.2279, median_house_value=400000.0),\n",
       " Row(longitude=-118.37, latitude=34.07, housing_median_age=52.0, total_rooms=1084.0, total_bedrooms=247.0, population=468.0, households=255.0, median_income=3.4286, median_house_value=474300.0),\n",
       " Row(longitude=-118.37, latitude=34.07, housing_median_age=50.0, total_rooms=2519.0, total_bedrooms=537.0, population=1117.0, households=516.0, median_income=4.3667, median_house_value=405600.0),\n",
       " Row(longitude=-118.37, latitude=34.05, housing_median_age=52.0, total_rooms=2346.0, total_bedrooms=437.0, population=1121.0, households=400.0, median_income=4.0583, median_house_value=444300.0),\n",
       " Row(longitude=-118.38, latitude=34.08, housing_median_age=48.0, total_rooms=1226.0, total_bedrooms=288.0, population=370.0, households=264.0, median_income=3.9375, median_house_value=450000.0),\n",
       " Row(longitude=-118.38, latitude=34.07, housing_median_age=48.0, total_rooms=2799.0, total_bedrooms=596.0, population=1235.0, households=561.0, median_income=4.4896, median_house_value=500001.0),\n",
       " Row(longitude=-118.4, latitude=34.01, housing_median_age=48.0, total_rooms=1427.0, total_bedrooms=253.0, population=693.0, households=268.0, median_income=5.7405, median_house_value=351600.0),\n",
       " Row(longitude=-118.45, latitude=33.99, housing_median_age=52.0, total_rooms=1010.0, total_bedrooms=244.0, population=573.0, households=242.0, median_income=4.1861, median_house_value=363200.0),\n",
       " Row(longitude=-118.46, latitude=33.99, housing_median_age=52.0, total_rooms=1158.0, total_bedrooms=253.0, population=528.0, households=253.0, median_income=3.5234, median_house_value=334700.0),\n",
       " Row(longitude=-119.7, latitude=34.41, housing_median_age=52.0, total_rooms=1526.0, total_bedrooms=458.0, population=1633.0, households=449.0, median_income=2.2069, median_house_value=226500.0),\n",
       " Row(longitude=-119.77, latitude=36.74, housing_median_age=50.0, total_rooms=1325.0, total_bedrooms=280.0, population=811.0, households=281.0, median_income=1.8667, median_house_value=62800.0),\n",
       " Row(longitude=-119.78, latitude=36.76, housing_median_age=47.0, total_rooms=1425.0, total_bedrooms=323.0, population=949.0, households=325.0, median_income=1.7344, median_house_value=51300.0),\n",
       " Row(longitude=-119.78, latitude=36.75, housing_median_age=49.0, total_rooms=1175.0, total_bedrooms=307.0, population=982.0, households=278.0, median_income=1.2937, median_house_value=52000.0),\n",
       " Row(longitude=-120.65, latitude=35.27, housing_median_age=52.0, total_rooms=2254.0, total_bedrooms=642.0, population=1237.0, households=590.0, median_income=2.6208, median_house_value=227100.0),\n",
       " Row(longitude=-121.03, latitude=40.35, housing_median_age=52.0, total_rooms=5486.0, total_bedrooms=1044.0, population=1977.0, households=754.0, median_income=2.1833, median_house_value=49500.0),\n",
       " Row(longitude=-121.03, latitude=39.26, housing_median_age=49.0, total_rooms=3739.0, total_bedrooms=759.0, population=1422.0, households=606.0, median_income=2.4283, median_house_value=143100.0),\n",
       " Row(longitude=-121.29, latitude=37.97, housing_median_age=52.0, total_rooms=2995.0, total_bedrooms=555.0, population=1392.0, households=503.0, median_income=1.7794, median_house_value=98800.0),\n",
       " Row(longitude=-121.32, latitude=37.96, housing_median_age=47.0, total_rooms=1700.0, total_bedrooms=344.0, population=922.0, households=357.0, median_income=3.1845, median_house_value=87200.0),\n",
       " Row(longitude=-121.45, latitude=38.57, housing_median_age=52.0, total_rooms=3994.0, total_bedrooms=635.0, population=1295.0, households=625.0, median_income=5.1169, median_house_value=232500.0),\n",
       " Row(longitude=-121.91, latitude=39.03, housing_median_age=48.0, total_rooms=1096.0, total_bedrooms=218.0, population=657.0, households=199.0, median_income=2.7841, median_house_value=65800.0),\n",
       " Row(longitude=-121.92, latitude=36.62, housing_median_age=52.0, total_rooms=974.0, total_bedrooms=190.0, population=403.0, households=181.0, median_income=4.3281, median_house_value=236500.0),\n",
       " Row(longitude=-121.92, latitude=36.62, housing_median_age=52.0, total_rooms=867.0, total_bedrooms=199.0, population=391.0, households=187.0, median_income=2.6713, median_house_value=234600.0),\n",
       " Row(longitude=-122.15, latitude=37.74, housing_median_age=52.0, total_rooms=2898.0, total_bedrooms=557.0, population=1338.0, households=550.0, median_income=3.851, median_house_value=183500.0),\n",
       " Row(longitude=-122.15, latitude=37.74, housing_median_age=49.0, total_rooms=1325.0, total_bedrooms=277.0, population=764.0, households=282.0, median_income=3.3125, median_house_value=118000.0),\n",
       " Row(longitude=-122.15, latitude=37.72, housing_median_age=47.0, total_rooms=1190.0, total_bedrooms=251.0, population=540.0, households=266.0, median_income=3.375, median_house_value=198300.0),\n",
       " Row(longitude=-122.15, latitude=37.44, housing_median_age=52.0, total_rooms=1400.0, total_bedrooms=217.0, population=522.0, households=227.0, median_income=4.9861, median_house_value=500001.0),\n",
       " Row(longitude=-122.16, latitude=37.73, housing_median_age=52.0, total_rooms=1114.0, total_bedrooms=206.0, population=425.0, households=207.0, median_income=2.5625, median_house_value=175000.0),\n",
       " Row(longitude=-122.17, latitude=37.46, housing_median_age=47.0, total_rooms=2312.0, total_bedrooms=332.0, population=1044.0, households=282.0, median_income=9.459, median_house_value=500001.0),\n",
       " Row(longitude=-122.18, latitude=37.77, housing_median_age=52.0, total_rooms=1748.0, total_bedrooms=362.0, population=1029.0, households=366.0, median_income=2.0556, median_house_value=100000.0),\n",
       " Row(longitude=-122.18, latitude=37.77, housing_median_age=51.0, total_rooms=2107.0, total_bedrooms=471.0, population=1173.0, households=438.0, median_income=3.2552, median_house_value=120100.0),\n",
       " Row(longitude=-122.21, latitude=37.78, housing_median_age=47.0, total_rooms=881.0, total_bedrooms=248.0, population=753.0, households=241.0, median_income=2.625, median_house_value=111300.0),\n",
       " Row(longitude=-122.21, latitude=37.77, housing_median_age=52.0, total_rooms=591.0, total_bedrooms=173.0, population=353.0, households=137.0, median_income=4.0904, median_house_value=80600.0),\n",
       " Row(longitude=-122.23, latitude=37.83, housing_median_age=52.0, total_rooms=2990.0, total_bedrooms=379.0, population=947.0, households=361.0, median_income=7.8772, median_house_value=500001.0),\n",
       " Row(longitude=-122.23, latitude=37.82, housing_median_age=52.0, total_rooms=3494.0, total_bedrooms=396.0, population=1192.0, households=383.0, median_income=12.3804, median_house_value=500001.0),\n",
       " Row(longitude=-122.23, latitude=37.82, housing_median_age=52.0, total_rooms=3242.0, total_bedrooms=366.0, population=1001.0, households=352.0, median_income=12.2138, median_house_value=500001.0),\n",
       " Row(longitude=-122.23, latitude=37.82, housing_median_age=52.0, total_rooms=1611.0, total_bedrooms=203.0, population=556.0, households=179.0, median_income=8.7477, median_house_value=500001.0),\n",
       " Row(longitude=-122.23, latitude=37.81, housing_median_age=52.0, total_rooms=2814.0, total_bedrooms=365.0, population=878.0, households=352.0, median_income=7.508, median_house_value=348700.0),\n",
       " Row(longitude=-122.23, latitude=37.81, housing_median_age=52.0, total_rooms=2315.0, total_bedrooms=292.0, population=861.0, households=258.0, median_income=8.8793, median_house_value=410300.0),\n",
       " Row(longitude=-122.23, latitude=37.81, housing_median_age=52.0, total_rooms=1433.0, total_bedrooms=229.0, population=612.0, households=213.0, median_income=4.7708, median_house_value=314700.0),\n",
       " Row(longitude=-122.23, latitude=37.8, housing_median_age=52.0, total_rooms=783.0, total_bedrooms=184.0, population=488.0, households=186.0, median_income=1.9375, median_house_value=126600.0),\n",
       " Row(longitude=-122.24, latitude=37.82, housing_median_age=52.0, total_rooms=1509.0, total_bedrooms=225.0, population=674.0, households=244.0, median_income=4.9306, median_house_value=313400.0),\n",
       " Row(longitude=-122.24, latitude=37.81, housing_median_age=52.0, total_rooms=1490.0, total_bedrooms=238.0, population=634.0, households=256.0, median_income=6.0302, median_house_value=287300.0),\n",
       " Row(longitude=-122.24, latitude=37.8, housing_median_age=52.0, total_rooms=996.0, total_bedrooms=228.0, population=731.0, households=228.0, median_income=2.2697, median_house_value=127000.0),\n",
       " Row(longitude=-122.25, latitude=37.86, housing_median_age=52.0, total_rooms=1709.0, total_bedrooms=318.0, population=719.0, households=295.0, median_income=5.0463, median_house_value=456300.0),\n",
       " Row(longitude=-122.26, latitude=37.88, housing_median_age=52.0, total_rooms=2255.0, total_bedrooms=410.0, population=823.0, households=377.0, median_income=5.7979, median_house_value=415300.0),\n",
       " Row(longitude=-122.26, latitude=37.88, housing_median_age=52.0, total_rooms=1149.0, total_bedrooms=255.0, population=483.0, households=249.0, median_income=4.2788, median_house_value=332500.0),\n",
       " Row(longitude=-122.26, latitude=37.87, housing_median_age=52.0, total_rooms=2773.0, total_bedrooms=998.0, population=1721.0, households=949.0, median_income=1.1859, median_house_value=241700.0),\n",
       " Row(longitude=-122.27, latitude=38.04, housing_median_age=47.0, total_rooms=1685.0, total_bedrooms=405.0, population=835.0, households=372.0, median_income=2.3103, median_house_value=134500.0),\n",
       " Row(longitude=-122.27, latitude=37.9, housing_median_age=52.0, total_rooms=2079.0, total_bedrooms=273.0, population=684.0, households=275.0, median_income=7.9556, median_house_value=374400.0),\n",
       " Row(longitude=-122.27, latitude=37.9, housing_median_age=52.0, total_rooms=2041.0, total_bedrooms=270.0, population=671.0, households=253.0, median_income=6.9414, median_house_value=417500.0),\n",
       " Row(longitude=-122.27, latitude=37.85, housing_median_age=50.0, total_rooms=1279.0, total_bedrooms=300.0, population=675.0, households=255.0, median_income=1.9028, median_house_value=150800.0),\n",
       " Row(longitude=-122.27, latitude=37.85, housing_median_age=47.0, total_rooms=2077.0, total_bedrooms=400.0, population=719.0, households=326.0, median_income=2.2431, median_house_value=172700.0),\n",
       " Row(longitude=-122.27, latitude=37.85, housing_median_age=47.0, total_rooms=1375.0, total_bedrooms=307.0, population=843.0, households=319.0, median_income=1.3785, median_house_value=142300.0),\n",
       " Row(longitude=-122.27, latitude=37.84, housing_median_age=52.0, total_rooms=2436.0, total_bedrooms=541.0, population=1015.0, households=478.0, median_income=1.725, median_house_value=113900.0),\n",
       " Row(longitude=-122.27, latitude=37.84, housing_median_age=52.0, total_rooms=2224.0, total_bedrooms=437.0, population=1006.0, households=422.0, median_income=2.6, median_house_value=132600.0),\n",
       " Row(longitude=-122.27, latitude=37.84, housing_median_age=48.0, total_rooms=1922.0, total_bedrooms=409.0, population=1026.0, households=335.0, median_income=1.7969, median_house_value=110400.0),\n",
       " Row(longitude=-122.28, latitude=37.88, housing_median_age=52.0, total_rooms=1193.0, total_bedrooms=200.0, population=506.0, households=207.0, median_income=4.1912, median_house_value=254500.0),\n",
       " Row(longitude=-122.28, latitude=37.87, housing_median_age=52.0, total_rooms=1813.0, total_bedrooms=353.0, population=828.0, households=339.0, median_income=3.5625, median_house_value=191700.0),\n",
       " Row(longitude=-122.28, latitude=37.87, housing_median_age=52.0, total_rooms=1233.0, total_bedrooms=300.0, population=571.0, households=292.0, median_income=2.2788, median_house_value=182300.0),\n",
       " Row(longitude=-122.29, latitude=38.3, housing_median_age=52.0, total_rooms=144.0, total_bedrooms=54.0, population=89.0, households=48.0, median_income=1.0096, median_house_value=162500.0),\n",
       " Row(longitude=-122.29, latitude=37.81, housing_median_age=49.0, total_rooms=844.0, total_bedrooms=204.0, population=560.0, households=152.0, median_income=1.75, median_house_value=75000.0),\n",
       " Row(longitude=-122.3, latitude=37.81, housing_median_age=48.0, total_rooms=828.0, total_bedrooms=182.0, population=392.0, households=133.0, median_income=2.5938, median_house_value=73500.0),\n",
       " Row(longitude=-122.3, latitude=37.81, housing_median_age=48.0, total_rooms=1455.0, total_bedrooms=354.0, population=788.0, households=332.0, median_income=0.8056, median_house_value=84400.0),\n",
       " Row(longitude=-122.32, latitude=37.55, housing_median_age=50.0, total_rooms=2501.0, total_bedrooms=433.0, population=1050.0, households=410.0, median_income=4.6406, median_house_value=500001.0),\n",
       " Row(longitude=-122.35, latitude=37.58, housing_median_age=52.0, total_rooms=2495.0, total_bedrooms=458.0, population=1081.0, households=471.0, median_income=4.0855, median_house_value=410800.0),\n",
       " Row(longitude=-122.36, latitude=37.92, housing_median_age=52.0, total_rooms=215.0, total_bedrooms=41.0, population=126.0, households=43.0, median_income=1.3929, median_house_value=104200.0),\n",
       " Row(longitude=-122.4, latitude=37.78, housing_median_age=52.0, total_rooms=464.0, total_bedrooms=202.0, population=286.0, households=148.0, median_income=1.6125, median_house_value=112500.0),\n",
       " Row(longitude=-122.41, latitude=37.94, housing_median_age=52.0, total_rooms=154.0, total_bedrooms=33.0, population=89.0, households=38.0, median_income=3.2875, median_house_value=275000.0),\n",
       " Row(longitude=-122.41, latitude=37.8, housing_median_age=52.0, total_rooms=4088.0, total_bedrooms=946.0, population=1906.0, households=863.0, median_income=3.6065, median_house_value=433300.0),\n",
       " Row(longitude=-122.41, latitude=37.77, housing_median_age=52.0, total_rooms=361.0, total_bedrooms=76.0, population=168.0, households=55.0, median_income=3.2292, median_house_value=275000.0),\n",
       " Row(longitude=-122.41, latitude=37.76, housing_median_age=52.0, total_rooms=351.0, total_bedrooms=81.0, population=308.0, households=75.0, median_income=2.6667, median_house_value=325000.0),\n",
       " Row(longitude=-122.41, latitude=37.76, housing_median_age=52.0, total_rooms=2479.0, total_bedrooms=515.0, population=1816.0, households=496.0, median_income=3.0774, median_house_value=300000.0),\n",
       " Row(longitude=-122.41, latitude=37.76, housing_median_age=52.0, total_rooms=2064.0, total_bedrooms=496.0, population=1726.0, households=466.0, median_income=3.4028, median_house_value=233300.0),\n",
       " Row(longitude=-122.42, latitude=37.8, housing_median_age=52.0, total_rooms=2852.0, total_bedrooms=581.0, population=838.0, households=510.0, median_income=8.0755, median_house_value=500001.0),\n",
       " Row(longitude=-122.42, latitude=37.8, housing_median_age=52.0, total_rooms=2797.0, total_bedrooms=685.0, population=1156.0, households=651.0, median_income=4.3472, median_house_value=500001.0),\n",
       " Row(longitude=-122.42, latitude=37.79, housing_median_age=52.0, total_rooms=3457.0, total_bedrooms=1021.0, population=2286.0, households=994.0, median_income=2.565, median_house_value=225000.0),\n",
       " Row(longitude=-122.42, latitude=37.79, housing_median_age=52.0, total_rooms=2737.0, total_bedrooms=1241.0, population=1761.0, households=1029.0, median_income=1.8068, median_house_value=225000.0),\n",
       " Row(longitude=-122.42, latitude=37.79, housing_median_age=52.0, total_rooms=2511.0, total_bedrooms=895.0, population=1202.0, households=804.0, median_income=2.6607, median_house_value=87500.0),\n",
       " Row(longitude=-122.42, latitude=37.75, housing_median_age=52.0, total_rooms=1974.0, total_bedrooms=525.0, population=935.0, households=465.0, median_income=2.7173, median_house_value=300000.0),\n",
       " Row(longitude=-122.42, latitude=37.74, housing_median_age=52.0, total_rooms=1916.0, total_bedrooms=432.0, population=889.0, households=424.0, median_income=4.0391, median_house_value=279900.0),\n",
       " Row(longitude=-122.43, latitude=37.81, housing_median_age=52.0, total_rooms=4309.0, total_bedrooms=942.0, population=1297.0, households=798.0, median_income=4.6781, median_house_value=500001.0),\n",
       " Row(longitude=-122.43, latitude=37.8, housing_median_age=52.0, total_rooms=2994.0, total_bedrooms=821.0, population=1240.0, households=779.0, median_income=3.3715, median_house_value=500000.0),\n",
       " Row(longitude=-122.43, latitude=37.77, housing_median_age=52.0, total_rooms=1862.0, total_bedrooms=472.0, population=872.0, households=471.0, median_income=3.2981, median_house_value=222700.0),\n",
       " Row(longitude=-122.43, latitude=37.77, housing_median_age=52.0, total_rooms=1760.0, total_bedrooms=366.0, population=742.0, households=318.0, median_income=4.445, median_house_value=400000.0),\n",
       " Row(longitude=-122.43, latitude=37.77, housing_median_age=52.0, total_rooms=1567.0, total_bedrooms=482.0, population=654.0, households=425.0, median_income=2.6914, median_house_value=366700.0),\n",
       " Row(longitude=-122.43, latitude=37.76, housing_median_age=52.0, total_rooms=3708.0, total_bedrooms=849.0, population=1531.0, households=822.0, median_income=3.3565, median_house_value=386400.0),\n",
       " Row(longitude=-122.44, latitude=37.78, housing_median_age=52.0, total_rooms=2911.0, total_bedrooms=753.0, population=1696.0, households=676.0, median_income=2.5721, median_house_value=475000.0),\n",
       " Row(longitude=-122.44, latitude=37.78, housing_median_age=52.0, total_rooms=2747.0, total_bedrooms=736.0, population=1309.0, households=653.0, median_income=2.943, median_house_value=341700.0),\n",
       " Row(longitude=-122.44, latitude=37.73, housing_median_age=52.0, total_rooms=866.0, total_bedrooms=205.0, population=587.0, households=171.0, median_income=5.0224, median_house_value=261900.0),\n",
       " Row(longitude=-122.46, latitude=37.78, housing_median_age=52.0, total_rooms=2165.0, total_bedrooms=580.0, population=1067.0, households=530.0, median_income=2.9293, median_house_value=350000.0),\n",
       " Row(longitude=-122.46, latitude=37.77, housing_median_age=52.0, total_rooms=3193.0, total_bedrooms=688.0, population=2099.0, households=681.0, median_income=3.9375, median_house_value=402900.0),\n",
       " Row(longitude=-122.46, latitude=37.76, housing_median_age=52.0, total_rooms=1817.0, total_bedrooms=449.0, population=948.0, households=380.0, median_income=3.93, median_house_value=390000.0),\n",
       " Row(longitude=-122.46, latitude=37.75, housing_median_age=52.0, total_rooms=1207.0, total_bedrooms=152.0, population=465.0, households=162.0, median_income=10.7569, median_house_value=500001.0),\n",
       " Row(longitude=-122.47, latitude=37.74, housing_median_age=52.0, total_rooms=3688.0, total_bedrooms=640.0, population=1605.0, households=567.0, median_income=4.9537, median_house_value=365600.0),\n",
       " Row(longitude=-122.47, latitude=37.74, housing_median_age=52.0, total_rooms=1538.0, total_bedrooms=305.0, population=819.0, households=319.0, median_income=4.0846, median_house_value=333600.0),\n",
       " Row(longitude=-122.48, latitude=37.73, housing_median_age=52.0, total_rooms=1597.0, total_bedrooms=240.0, population=566.0, households=231.0, median_income=5.1681, median_house_value=500001.0),\n",
       " Row(longitude=-122.49, latitude=37.79, housing_median_age=52.0, total_rooms=3146.0, total_bedrooms=478.0, population=1143.0, households=455.0, median_income=6.1407, median_house_value=500001.0),\n",
       " Row(longitude=-122.49, latitude=37.78, housing_median_age=52.0, total_rooms=2050.0, total_bedrooms=439.0, population=1109.0, households=437.0, median_income=2.6719, median_house_value=318500.0),\n",
       " Row(longitude=-122.49, latitude=37.78, housing_median_age=49.0, total_rooms=2176.0, total_bedrooms=441.0, population=1040.0, households=448.0, median_income=4.2414, median_house_value=500001.0),\n",
       " Row(longitude=-122.54, latitude=37.98, housing_median_age=52.0, total_rooms=1758.0, total_bedrooms=316.0, population=607.0, households=264.0, median_income=5.5083, median_house_value=371900.0),\n",
       " Row(longitude=-122.56, latitude=37.97, housing_median_age=52.0, total_rooms=1833.0, total_bedrooms=324.0, population=735.0, households=306.0, median_income=4.6944, median_house_value=398900.0),\n",
       " Row(longitude=-122.64, latitude=38.23, housing_median_age=52.0, total_rooms=2156.0, total_bedrooms=469.0, population=1070.0, households=467.0, median_income=3.3011, median_house_value=252300.0),\n",
       " Row(longitude=-122.72, latitude=38.44, housing_median_age=52.0, total_rooms=188.0, total_bedrooms=62.0, population=301.0, households=72.0, median_income=0.9437, median_house_value=129200.0),\n",
       " Row(longitude=-122.9, latitude=38.28, housing_median_age=52.0, total_rooms=1275.0, total_bedrooms=218.0, population=627.0, households=185.0, median_income=2.3482, median_house_value=163500.0),\n",
       " Row(longitude=-122.97, latitude=38.53, housing_median_age=48.0, total_rooms=3939.0, total_bedrooms=860.0, population=1257.0, households=571.0, median_income=2.1165, median_house_value=98700.0),\n",
       " Row(longitude=-124.15, latitude=40.8, housing_median_age=47.0, total_rooms=1486.0, total_bedrooms=335.0, population=765.0, households=329.0, median_income=1.755, median_house_value=74100.0),\n",
       " Row(longitude=-117.1, latitude=32.68, housing_median_age=49.0, total_rooms=1412.0, total_bedrooms=350.0, population=1200.0, households=332.0, median_income=2.0398, median_house_value=93600.0),\n",
       " Row(longitude=-117.18, latitude=32.69, housing_median_age=52.0, total_rooms=1837.0, total_bedrooms=313.0, population=668.0, households=300.0, median_income=5.1009, median_house_value=500001.0),\n",
       " Row(longitude=-117.33, latitude=34.06, housing_median_age=48.0, total_rooms=732.0, total_bedrooms=149.0, population=486.0, households=139.0, median_income=2.5673, median_house_value=68200.0),\n",
       " Row(longitude=-117.65, latitude=34.08, housing_median_age=52.0, total_rooms=2264.0, total_bedrooms=439.0, population=1031.0, households=437.0, median_income=3.375, median_house_value=144300.0),\n",
       " Row(longitude=-117.77, latitude=33.54, housing_median_age=47.0, total_rooms=3090.0, total_bedrooms=652.0, population=1105.0, households=582.0, median_income=4.1699, median_house_value=373700.0),\n",
       " Row(longitude=-117.91, latitude=33.83, housing_median_age=47.0, total_rooms=504.0, total_bedrooms=113.0, population=375.0, households=109.0, median_income=3.6607, median_house_value=160600.0),\n",
       " Row(longitude=-118.0, latitude=34.16, housing_median_age=52.0, total_rooms=1354.0, total_bedrooms=227.0, population=531.0, households=206.0, median_income=4.8059, median_house_value=270600.0),\n",
       " Row(longitude=-118.03, latitude=33.99, housing_median_age=52.0, total_rooms=2792.0, total_bedrooms=461.0, population=1177.0, households=439.0, median_income=3.4312, median_house_value=243800.0),\n",
       " Row(longitude=-118.04, latitude=34.17, housing_median_age=52.0, total_rooms=1885.0, total_bedrooms=401.0, population=764.0, households=373.0, median_income=4.0385, median_house_value=265700.0),\n",
       " Row(longitude=-118.04, latitude=33.98, housing_median_age=50.0, total_rooms=1951.0, total_bedrooms=458.0, population=1362.0, households=454.0, median_income=3.0, median_house_value=163200.0),\n",
       " Row(longitude=-118.06, latitude=33.98, housing_median_age=50.0, total_rooms=1146.0, total_bedrooms=238.0, population=579.0, households=213.0, median_income=2.9583, median_house_value=172600.0),\n",
       " Row(longitude=-118.07, latitude=34.11, housing_median_age=47.0, total_rooms=832.0, total_bedrooms=194.0, population=419.0, households=156.0, median_income=3.1576, median_house_value=225000.0),\n",
       " Row(longitude=-118.12, latitude=34.11, housing_median_age=48.0, total_rooms=2124.0, total_bedrooms=319.0, population=785.0, households=319.0, median_income=5.2131, median_house_value=359600.0),\n",
       " Row(longitude=-118.14, latitude=34.18, housing_median_age=50.0, total_rooms=1493.0, total_bedrooms=326.0, population=1000.0, households=323.0, median_income=3.3068, median_house_value=154400.0),\n",
       " Row(longitude=-118.14, latitude=34.18, housing_median_age=47.0, total_rooms=3457.0, total_bedrooms=622.0, population=1700.0, households=579.0, median_income=3.5164, median_house_value=226500.0),\n",
       " Row(longitude=-118.14, latitude=34.17, housing_median_age=52.0, total_rooms=2687.0, total_bedrooms=600.0, population=1716.0, households=544.0, median_income=2.7201, median_house_value=205700.0),\n",
       " Row(longitude=-118.15, latitude=34.11, housing_median_age=52.0, total_rooms=1000.0, total_bedrooms=192.0, population=363.0, households=158.0, median_income=4.2981, median_house_value=352800.0),\n",
       " Row(longitude=-118.15, latitude=34.09, housing_median_age=52.0, total_rooms=2203.0, total_bedrooms=430.0, population=1238.0, households=403.0, median_income=4.4306, median_house_value=225800.0),\n",
       " Row(longitude=-118.15, latitude=34.08, housing_median_age=48.0, total_rooms=3697.0, total_bedrooms=816.0, population=2446.0, households=787.0, median_income=3.3988, median_house_value=199200.0),\n",
       " Row(longitude=-118.2, latitude=33.81, housing_median_age=47.0, total_rooms=2347.0, total_bedrooms=437.0, population=1219.0, households=420.0, median_income=5.3096, median_house_value=209900.0),\n",
       " Row(longitude=-118.21, latitude=34.13, housing_median_age=52.0, total_rooms=2465.0, total_bedrooms=611.0, population=1433.0, households=570.0, median_income=3.25, median_house_value=214200.0),\n",
       " Row(longitude=-118.21, latitude=34.03, housing_median_age=47.0, total_rooms=876.0, total_bedrooms=228.0, population=872.0, households=231.0, median_income=2.2656, median_house_value=145000.0),\n",
       " Row(longitude=-118.22, latitude=34.14, housing_median_age=52.0, total_rooms=2298.0, total_bedrooms=406.0, population=1203.0, households=387.0, median_income=5.5291, median_house_value=274600.0),\n",
       " Row(longitude=-118.22, latitude=34.14, housing_median_age=52.0, total_rooms=1388.0, total_bedrooms=271.0, population=735.0, households=239.0, median_income=3.7404, median_house_value=247700.0),\n",
       " Row(longitude=-118.22, latitude=33.97, housing_median_age=47.0, total_rooms=1058.0, total_bedrooms=295.0, population=1097.0, households=274.0, median_income=2.881, median_house_value=183300.0),\n",
       " Row(longitude=-118.23, latitude=34.13, housing_median_age=47.0, total_rooms=1162.0, total_bedrooms=235.0, population=781.0, households=268.0, median_income=4.6528, median_house_value=244400.0),\n",
       " Row(longitude=-118.24, latitude=34.04, housing_median_age=52.0, total_rooms=116.0, total_bedrooms=107.0, population=171.0, households=92.0, median_income=1.0769, median_house_value=112500.0),\n",
       " Row(longitude=-118.24, latitude=34.02, housing_median_age=48.0, total_rooms=542.0, total_bedrooms=150.0, population=571.0, households=114.0, median_income=1.8485, median_house_value=90600.0),\n",
       " Row(longitude=-118.27, latitude=34.0, housing_median_age=48.0, total_rooms=1869.0, total_bedrooms=461.0, population=1834.0, households=441.0, median_income=1.7052, median_house_value=107400.0),\n",
       " Row(longitude=-118.28, latitude=34.16, housing_median_age=49.0, total_rooms=1393.0, total_bedrooms=290.0, population=605.0, households=282.0, median_income=2.9491, median_house_value=257400.0),\n",
       " Row(longitude=-118.28, latitude=34.11, housing_median_age=52.0, total_rooms=1803.0, total_bedrooms=437.0, population=787.0, households=388.0, median_income=4.5781, median_house_value=360500.0),\n",
       " Row(longitude=-118.29, latitude=34.09, housing_median_age=52.0, total_rooms=1272.0, total_bedrooms=322.0, population=984.0, households=353.0, median_income=1.9063, median_house_value=261600.0),\n",
       " Row(longitude=-118.3, latitude=34.11, housing_median_age=52.0, total_rooms=3136.0, total_bedrooms=675.0, population=1213.0, households=606.0, median_income=3.5806, median_house_value=391900.0),\n",
       " Row(longitude=-118.3, latitude=34.03, housing_median_age=47.0, total_rooms=2241.0, total_bedrooms=559.0, population=1775.0, households=504.0, median_income=2.1571, median_house_value=147900.0),\n",
       " Row(longitude=-118.31, latitude=34.06, housing_median_age=52.0, total_rooms=2124.0, total_bedrooms=756.0, population=1920.0, households=756.0, median_income=2.1435, median_house_value=328900.0),\n",
       " Row(longitude=-118.31, latitude=33.99, housing_median_age=49.0, total_rooms=857.0, total_bedrooms=196.0, population=694.0, households=228.0, median_income=2.895, median_house_value=108000.0),\n",
       " Row(longitude=-118.31, latitude=33.73, housing_median_age=52.0, total_rooms=1665.0, total_bedrooms=280.0, population=656.0, households=282.0, median_income=5.249, median_house_value=351900.0),\n",
       " Row(longitude=-118.31, latitude=33.73, housing_median_age=52.0, total_rooms=1642.0, total_bedrooms=287.0, population=692.0, households=288.0, median_income=4.1812, median_house_value=321500.0),\n",
       " Row(longitude=-118.32, latitude=34.03, housing_median_age=47.0, total_rooms=1734.0, total_bedrooms=453.0, population=1272.0, households=438.0, median_income=3.1731, median_house_value=121500.0),\n",
       " Row(longitude=-118.32, latitude=34.03, housing_median_age=47.0, total_rooms=1082.0, total_bedrooms=198.0, population=455.0, households=193.0, median_income=3.0132, median_house_value=223200.0),\n",
       " Row(longitude=-118.32, latitude=34.02, housing_median_age=48.0, total_rooms=1949.0, total_bedrooms=308.0, population=823.0, households=340.0, median_income=3.3906, median_house_value=189700.0),\n",
       " Row(longitude=-118.32, latitude=34.02, housing_median_age=47.0, total_rooms=1648.0, total_bedrooms=346.0, population=1120.0, households=338.0, median_income=2.0042, median_house_value=114200.0),\n",
       " Row(longitude=-118.32, latitude=34.01, housing_median_age=52.0, total_rooms=3104.0, total_bedrooms=645.0, population=1498.0, households=581.0, median_income=2.6667, median_house_value=128000.0),\n",
       " Row(longitude=-118.34, latitude=34.08, housing_median_age=50.0, total_rooms=3457.0, total_bedrooms=854.0, population=1584.0, households=841.0, median_income=3.1078, median_house_value=346700.0),\n",
       " Row(longitude=-118.34, latitude=34.06, housing_median_age=52.0, total_rooms=1482.0, total_bedrooms=336.0, population=768.0, households=300.0, median_income=3.7167, median_house_value=327300.0),\n",
       " Row(longitude=-118.34, latitude=33.99, housing_median_age=47.0, total_rooms=1107.0, total_bedrooms=199.0, population=437.0, households=178.0, median_income=3.7344, median_house_value=179400.0),\n",
       " Row(longitude=-118.36, latitude=34.1, housing_median_age=52.0, total_rooms=1295.0, total_bedrooms=281.0, population=578.0, households=273.0, median_income=2.976, median_house_value=405100.0),\n",
       " Row(longitude=-118.36, latitude=34.1, housing_median_age=52.0, total_rooms=1096.0, total_bedrooms=247.0, population=423.0, households=230.0, median_income=3.0179, median_house_value=500001.0),\n",
       " Row(longitude=-118.37, latitude=34.04, housing_median_age=52.0, total_rooms=1197.0, total_bedrooms=231.0, population=671.0, households=219.0, median_income=3.825, median_house_value=278500.0),\n",
       " Row(longitude=-118.41, latitude=34.07, housing_median_age=52.0, total_rooms=3562.0, total_bedrooms=394.0, population=1163.0, households=361.0, median_income=15.0001, median_house_value=500001.0),\n",
       " Row(longitude=-118.97, latitude=35.37, housing_median_age=52.0, total_rooms=425.0, total_bedrooms=119.0, population=380.0, households=97.0, median_income=1.4125, median_house_value=42500.0),\n",
       " Row(longitude=-119.72, latitude=34.44, housing_median_age=50.0, total_rooms=3265.0, total_bedrooms=509.0, population=1256.0, households=443.0, median_income=6.3997, median_house_value=500001.0),\n",
       " Row(longitude=-119.8, latitude=36.77, housing_median_age=52.0, total_rooms=2964.0, total_bedrooms=512.0, population=1114.0, households=486.0, median_income=3.8105, median_house_value=87600.0),\n",
       " Row(longitude=-119.81, latitude=36.78, housing_median_age=52.0, total_rooms=2281.0, total_bedrooms=371.0, population=839.0, households=367.0, median_income=3.5972, median_house_value=89900.0),\n",
       " Row(longitude=-119.81, latitude=36.76, housing_median_age=52.0, total_rooms=1792.0, total_bedrooms=352.0, population=1049.0, households=357.0, median_income=2.4375, median_house_value=57100.0),\n",
       " Row(longitude=-120.49, latitude=37.3, housing_median_age=50.0, total_rooms=985.0, total_bedrooms=309.0, population=621.0, households=250.0, median_income=1.3125, median_house_value=60900.0),\n",
       " Row(longitude=-120.66, latitude=40.41, housing_median_age=52.0, total_rooms=2081.0, total_bedrooms=478.0, population=1051.0, households=419.0, median_income=2.2992, median_house_value=70200.0),\n",
       " Row(longitude=-120.95, latitude=36.47, housing_median_age=52.0, total_rooms=1691.0, total_bedrooms=301.0, population=618.0, households=239.0, median_income=3.2292, median_house_value=225000.0),\n",
       " Row(longitude=-121.0, latitude=37.63, housing_median_age=49.0, total_rooms=2051.0, total_bedrooms=500.0, population=1525.0, households=467.0, median_income=1.59, median_house_value=80900.0),\n",
       " Row(longitude=-121.07, latitude=39.22, housing_median_age=52.0, total_rooms=2432.0, total_bedrooms=495.0, population=928.0, households=435.0, median_income=2.425, median_house_value=121100.0),\n",
       " Row(longitude=-121.28, latitude=38.13, housing_median_age=48.0, total_rooms=1892.0, total_bedrooms=333.0, population=804.0, households=352.0, median_income=4.0625, median_house_value=143200.0),\n",
       " Row(longitude=-121.29, latitude=37.95, housing_median_age=52.0, total_rooms=107.0, total_bedrooms=79.0, population=167.0, households=53.0, median_income=0.7917, median_house_value=22500.0),\n",
       " Row(longitude=-121.3, latitude=37.98, housing_median_age=47.0, total_rooms=2373.0, total_bedrooms=461.0, population=990.0, households=444.0, median_income=4.175, median_house_value=98300.0),\n",
       " Row(longitude=-121.43, latitude=37.74, housing_median_age=52.0, total_rooms=994.0, total_bedrooms=258.0, population=623.0, households=264.0, median_income=1.725, median_house_value=111500.0),\n",
       " Row(longitude=-121.43, latitude=37.74, housing_median_age=52.0, total_rooms=966.0, total_bedrooms=247.0, population=589.0, households=228.0, median_income=1.6937, median_house_value=108300.0),\n",
       " Row(longitude=-121.43, latitude=37.74, housing_median_age=52.0, total_rooms=876.0, total_bedrooms=170.0, population=426.0, households=179.0, median_income=3.0865, median_house_value=119800.0),\n",
       " Row(longitude=-121.45, latitude=38.57, housing_median_age=52.0, total_rooms=2006.0, total_bedrooms=412.0, population=825.0, households=384.0, median_income=3.2963, median_house_value=236100.0),\n",
       " Row(longitude=-121.45, latitude=38.56, housing_median_age=52.0, total_rooms=3170.0, total_bedrooms=476.0, population=1027.0, households=457.0, median_income=4.63, median_house_value=233800.0),\n",
       " Row(longitude=-121.48, latitude=38.58, housing_median_age=48.0, total_rooms=2434.0, total_bedrooms=744.0, population=1281.0, households=662.0, median_income=1.6277, median_house_value=140600.0),\n",
       " Row(longitude=-121.48, latitude=38.57, housing_median_age=47.0, total_rooms=2438.0, total_bedrooms=804.0, population=1148.0, households=747.0, median_income=1.4301, median_house_value=141700.0),\n",
       " Row(longitude=-121.49, latitude=38.55, housing_median_age=52.0, total_rooms=2515.0, total_bedrooms=460.0, population=836.0, households=442.0, median_income=3.3844, median_house_value=151100.0),\n",
       " Row(longitude=-121.5, latitude=38.55, housing_median_age=52.0, total_rooms=2784.0, total_bedrooms=455.0, population=957.0, households=448.0, median_income=5.6402, median_house_value=209800.0),\n",
       " Row(longitude=-121.5, latitude=38.54, housing_median_age=52.0, total_rooms=1145.0, total_bedrooms=133.0, population=334.0, households=138.0, median_income=8.338, median_house_value=405800.0),\n",
       " Row(longitude=-121.65, latitude=36.67, housing_median_age=52.0, total_rooms=2351.0, total_bedrooms=459.0, population=1169.0, households=439.0, median_income=2.8924, median_house_value=169600.0),\n",
       " Row(longitude=-121.76, latitude=37.68, housing_median_age=52.0, total_rooms=2157.0, total_bedrooms=418.0, population=929.0, households=419.0, median_income=3.7301, median_house_value=204400.0),\n",
       " Row(longitude=-121.88, latitude=38.03, housing_median_age=52.0, total_rooms=1225.0, total_bedrooms=250.0, population=725.0, households=231.0, median_income=2.0, median_house_value=101400.0),\n",
       " Row(longitude=-121.9, latitude=37.34, housing_median_age=50.0, total_rooms=1345.0, total_bedrooms=287.0, population=791.0, households=254.0, median_income=3.5966, median_house_value=245800.0),\n",
       " Row(longitude=-121.91, latitude=36.62, housing_median_age=52.0, total_rooms=541.0, total_bedrooms=157.0, population=240.0, households=145.0, median_income=3.5865, median_house_value=290000.0),\n",
       " Row(longitude=-121.91, latitude=36.62, housing_median_age=52.0, total_rooms=1220.0, total_bedrooms=267.0, population=488.0, households=265.0, median_income=3.7454, median_house_value=243800.0),\n",
       " Row(longitude=-121.92, latitude=36.62, housing_median_age=52.0, total_rooms=1001.0, total_bedrooms=191.0, population=425.0, households=184.0, median_income=3.7614, median_house_value=241700.0),\n",
       " Row(longitude=-122.01, latitude=39.21, housing_median_age=52.0, total_rooms=1989.0, total_bedrooms=392.0, population=985.0, households=396.0, median_income=2.5556, median_house_value=75800.0),\n",
       " Row(longitude=-122.01, latitude=39.21, housing_median_age=50.0, total_rooms=1592.0, total_bedrooms=372.0, population=781.0, households=307.0, median_income=2.2679, median_house_value=69100.0),\n",
       " Row(longitude=-122.01, latitude=36.97, housing_median_age=52.0, total_rooms=920.0, total_bedrooms=202.0, population=525.0, households=264.0, median_income=2.9444, median_house_value=232800.0),\n",
       " Row(longitude=-122.12, latitude=38.01, housing_median_age=50.0, total_rooms=1738.0, total_bedrooms=355.0, population=837.0, households=363.0, median_income=3.609, median_house_value=135700.0),\n",
       " Row(longitude=-122.16, latitude=38.05, housing_median_age=52.0, total_rooms=1888.0, total_bedrooms=457.0, population=830.0, households=408.0, median_income=3.1373, median_house_value=185100.0),\n",
       " Row(longitude=-122.16, latitude=37.77, housing_median_age=48.0, total_rooms=977.0, total_bedrooms=194.0, population=446.0, households=180.0, median_income=4.7708, median_house_value=156300.0),\n",
       " Row(longitude=-122.17, latitude=37.76, housing_median_age=47.0, total_rooms=2118.0, total_bedrooms=413.0, population=965.0, households=382.0, median_income=2.1842, median_house_value=107900.0),\n",
       " Row(longitude=-122.17, latitude=37.75, housing_median_age=48.0, total_rooms=1751.0, total_bedrooms=390.0, population=935.0, households=349.0, median_income=1.4375, median_house_value=90000.0),\n",
       " Row(longitude=-122.18, latitude=37.76, housing_median_age=49.0, total_rooms=2308.0, total_bedrooms=452.0, population=1299.0, households=451.0, median_income=1.8407, median_house_value=96700.0),\n",
       " Row(longitude=-122.19, latitude=37.8, housing_median_age=52.0, total_rooms=1813.0, total_bedrooms=271.0, population=637.0, households=277.0, median_income=4.0114, median_house_value=263400.0),\n",
       " Row(longitude=-122.2, latitude=37.77, housing_median_age=49.0, total_rooms=2272.0, total_bedrooms=498.0, population=1621.0, households=483.0, median_income=2.4338, median_house_value=102400.0),\n",
       " Row(longitude=-122.22, latitude=37.81, housing_median_age=52.0, total_rooms=1971.0, total_bedrooms=335.0, population=765.0, households=308.0, median_income=6.5217, median_house_value=273700.0),\n",
       " Row(longitude=-122.22, latitude=37.8, housing_median_age=52.0, total_rooms=2286.0, total_bedrooms=464.0, population=1073.0, households=441.0, median_income=3.0298, median_house_value=199600.0),\n",
       " Row(longitude=-122.22, latitude=37.8, housing_median_age=52.0, total_rooms=2183.0, total_bedrooms=465.0, population=1129.0, households=460.0, median_income=3.2632, median_house_value=227700.0),\n",
       " Row(longitude=-122.22, latitude=37.79, housing_median_age=52.0, total_rooms=3424.0, total_bedrooms=690.0, population=2273.0, households=685.0, median_income=3.9048, median_house_value=164700.0),\n",
       " Row(longitude=-122.23, latitude=37.8, housing_median_age=52.0, total_rooms=2033.0, total_bedrooms=486.0, population=787.0, households=459.0, median_income=3.1603, median_house_value=269500.0),\n",
       " Row(longitude=-122.23, latitude=37.8, housing_median_age=52.0, total_rooms=1252.0, total_bedrooms=299.0, population=844.0, households=280.0, median_income=2.3929, median_house_value=111900.0),\n",
       " Row(longitude=-122.23, latitude=37.8, housing_median_age=52.0, total_rooms=1192.0, total_bedrooms=289.0, population=772.0, households=257.0, median_income=2.3833, median_house_value=146900.0),\n",
       " Row(longitude=-122.23, latitude=37.8, housing_median_age=51.0, total_rooms=1590.0, total_bedrooms=414.0, population=949.0, households=392.0, median_income=1.9028, median_house_value=127900.0),\n",
       " Row(longitude=-122.23, latitude=37.8, housing_median_age=50.0, total_rooms=1746.0, total_bedrooms=480.0, population=1149.0, households=415.0, median_income=2.25, median_house_value=123500.0),\n",
       " Row(longitude=-122.24, latitude=37.79, housing_median_age=47.0, total_rooms=1372.0, total_bedrooms=395.0, population=1237.0, households=303.0, median_income=2.125, median_house_value=95500.0),\n",
       " Row(longitude=-122.25, latitude=40.17, housing_median_age=47.0, total_rooms=1554.0, total_bedrooms=308.0, population=846.0, households=301.0, median_income=1.8077, median_house_value=54100.0),\n",
       " Row(longitude=-122.25, latitude=37.85, housing_median_age=52.0, total_rooms=919.0, total_bedrooms=213.0, population=413.0, households=193.0, median_income=4.0368, median_house_value=269700.0),\n",
       " Row(longitude=-122.26, latitude=38.11, housing_median_age=52.0, total_rooms=1560.0, total_bedrooms=353.0, population=670.0, households=287.0, median_income=1.7411, median_house_value=98400.0),\n",
       " Row(longitude=-122.26, latitude=37.84, housing_median_age=52.0, total_rooms=950.0, total_bedrooms=202.0, population=467.0, households=198.0, median_income=3.9643, median_house_value=188800.0),\n",
       " Row(longitude=-122.26, latitude=37.83, housing_median_age=52.0, total_rooms=1665.0, total_bedrooms=419.0, population=946.0, households=395.0, median_income=2.0978, median_house_value=155400.0),\n",
       " Row(longitude=-122.26, latitude=37.83, housing_median_age=52.0, total_rooms=1470.0, total_bedrooms=330.0, population=689.0, households=309.0, median_income=3.48, median_house_value=191400.0),\n",
       " Row(longitude=-122.27, latitude=37.89, housing_median_age=52.0, total_rooms=3046.0, total_bedrooms=373.0, population=975.0, households=365.0, median_income=8.8342, median_house_value=430500.0),\n",
       " Row(longitude=-122.27, latitude=37.88, housing_median_age=52.0, total_rooms=2803.0, total_bedrooms=930.0, population=1372.0, households=876.0, median_income=2.1907, median_house_value=271400.0),\n",
       " Row(longitude=-122.27, latitude=37.88, housing_median_age=52.0, total_rooms=1693.0, total_bedrooms=391.0, population=669.0, households=367.0, median_income=3.5417, median_house_value=287500.0),\n",
       " Row(longitude=-122.27, latitude=37.87, housing_median_age=52.0, total_rooms=3084.0, total_bedrooms=698.0, population=1424.0, households=694.0, median_income=2.7372, median_house_value=210200.0),\n",
       " Row(longitude=-122.27, latitude=37.83, housing_median_age=49.0, total_rooms=1655.0, total_bedrooms=366.0, population=754.0, households=329.0, median_income=1.375, median_house_value=104900.0),\n",
       " Row(longitude=-122.28, latitude=37.86, housing_median_age=52.0, total_rooms=938.0, total_bedrooms=195.0, population=393.0, households=189.0, median_income=3.8594, median_house_value=196400.0),\n",
       " Row(longitude=-122.28, latitude=37.86, housing_median_age=52.0, total_rooms=2031.0, total_bedrooms=450.0, population=958.0, households=445.0, median_income=1.9327, median_house_value=169900.0),\n",
       " Row(longitude=-122.28, latitude=37.85, housing_median_age=52.0, total_rooms=610.0, total_bedrooms=145.0, population=281.0, households=132.0, median_income=2.9018, median_house_value=119400.0),\n",
       " Row(longitude=-122.29, latitude=37.9, housing_median_age=52.0, total_rooms=1604.0, total_bedrooms=263.0, population=594.0, households=286.0, median_income=5.338, median_house_value=270900.0),\n",
       " Row(longitude=-122.29, latitude=37.9, housing_median_age=49.0, total_rooms=1283.0, total_bedrooms=238.0, population=576.0, households=236.0, median_income=3.3333, median_house_value=276800.0),\n",
       " Row(longitude=-122.29, latitude=37.89, housing_median_age=52.0, total_rooms=2269.0, total_bedrooms=380.0, population=1004.0, households=371.0, median_income=5.1696, median_house_value=261400.0),\n",
       " Row(longitude=-122.29, latitude=37.8, housing_median_age=52.0, total_rooms=1027.0, total_bedrooms=244.0, population=492.0, households=147.0, median_income=2.6094, median_house_value=81300.0),\n",
       " Row(longitude=-122.35, latitude=37.57, housing_median_age=52.0, total_rooms=2170.0, total_bedrooms=269.0, population=784.0, households=274.0, median_income=10.4286, median_house_value=500001.0),\n",
       " Row(longitude=-122.39, latitude=37.76, housing_median_age=52.0, total_rooms=1877.0, total_bedrooms=427.0, population=712.0, households=398.0, median_income=3.9722, median_house_value=290900.0),\n",
       " Row(longitude=-122.39, latitude=37.72, housing_median_age=52.0, total_rooms=135.0, total_bedrooms=34.0, population=93.0, households=26.0, median_income=2.1484, median_house_value=181300.0),\n",
       " Row(longitude=-122.4, latitude=37.75, housing_median_age=52.0, total_rooms=1182.0, total_bedrooms=307.0, population=1029.0, households=306.0, median_income=2.0577, median_house_value=214600.0),\n",
       " Row(longitude=-122.41, latitude=37.8, housing_median_age=52.0, total_rooms=3278.0, total_bedrooms=775.0, population=1279.0, households=709.0, median_income=5.4378, median_house_value=500001.0),\n",
       " Row(longitude=-122.41, latitude=37.8, housing_median_age=52.0, total_rooms=2892.0, total_bedrooms=751.0, population=1785.0, households=733.0, median_income=3.5746, median_house_value=350000.0),\n",
       " Row(longitude=-122.41, latitude=37.8, housing_median_age=52.0, total_rooms=2583.0, total_bedrooms=672.0, population=1335.0, households=613.0, median_income=3.1477, median_house_value=500001.0),\n",
       " Row(longitude=-122.41, latitude=37.8, housing_median_age=52.0, total_rooms=2450.0, total_bedrooms=741.0, population=1415.0, households=664.0, median_income=2.8229, median_house_value=375000.0),\n",
       " Row(longitude=-122.41, latitude=37.8, housing_median_age=52.0, total_rooms=1999.0, total_bedrooms=642.0, population=1846.0, households=620.0, median_income=1.9145, median_house_value=225000.0),\n",
       " Row(longitude=-122.41, latitude=37.8, housing_median_age=52.0, total_rooms=1394.0, total_bedrooms=395.0, population=1700.0, households=400.0, median_income=2.75, median_house_value=168800.0),\n",
       " Row(longitude=-122.41, latitude=37.76, housing_median_age=52.0, total_rooms=1427.0, total_bedrooms=281.0, population=620.0, households=236.0, median_income=1.9944, median_house_value=262500.0),\n",
       " Row(longitude=-122.41, latitude=37.75, housing_median_age=52.0, total_rooms=2524.0, total_bedrooms=559.0, population=1430.0, households=476.0, median_income=3.4073, median_house_value=254700.0),\n",
       " Row(longitude=-122.41, latitude=37.75, housing_median_age=52.0, total_rooms=2515.0, total_bedrooms=576.0, population=1209.0, households=540.0, median_income=3.5912, median_house_value=284900.0),\n",
       " Row(longitude=-122.41, latitude=37.75, housing_median_age=52.0, total_rooms=1919.0, total_bedrooms=404.0, population=1483.0, households=421.0, median_income=3.4063, median_house_value=253900.0),\n",
       " Row(longitude=-122.41, latitude=37.62, housing_median_age=49.0, total_rooms=1464.0, total_bedrooms=302.0, population=636.0, households=259.0, median_income=4.25, median_house_value=284100.0),\n",
       " Row(longitude=-122.42, latitude=37.77, housing_median_age=52.0, total_rooms=1086.0, total_bedrooms=349.0, population=589.0, households=361.0, median_income=2.5186, median_house_value=250000.0),\n",
       " Row(longitude=-122.42, latitude=37.74, housing_median_age=52.0, total_rooms=1674.0, total_bedrooms=346.0, population=734.0, households=335.0, median_income=3.8864, median_house_value=281300.0),\n",
       " Row(longitude=-122.42, latitude=37.74, housing_median_age=52.0, total_rooms=1540.0, total_bedrooms=370.0, population=1136.0, households=363.0, median_income=4.3125, median_house_value=243000.0),\n",
       " Row(longitude=-122.42, latitude=37.73, housing_median_age=52.0, total_rooms=3230.0, total_bedrooms=654.0, population=1765.0, households=611.0, median_income=3.3333, median_house_value=292300.0),\n",
       " Row(longitude=-122.43, latitude=37.79, housing_median_age=52.0, total_rooms=3522.0, total_bedrooms=938.0, population=1319.0, households=887.0, median_income=4.3986, median_house_value=500001.0),\n",
       " Row(longitude=-122.43, latitude=37.79, housing_median_age=52.0, total_rooms=3486.0, total_bedrooms=847.0, population=1248.0, households=813.0, median_income=7.2623, median_house_value=500001.0),\n",
       " Row(longitude=-122.43, latitude=37.79, housing_median_age=52.0, total_rooms=3020.0, total_bedrooms=842.0, population=1294.0, households=769.0, median_income=3.4375, median_house_value=500001.0),\n",
       " Row(longitude=-122.43, latitude=37.78, housing_median_age=52.0, total_rooms=4014.0, total_bedrooms=1069.0, population=2070.0, households=927.0, median_income=2.8202, median_house_value=442900.0),\n",
       " Row(longitude=-122.43, latitude=37.75, housing_median_age=52.0, total_rooms=2700.0, total_bedrooms=595.0, population=1181.0, households=575.0, median_income=3.575, median_house_value=396800.0),\n",
       " Row(longitude=-122.43, latitude=37.75, housing_median_age=52.0, total_rooms=2285.0, total_bedrooms=509.0, population=839.0, households=456.0, median_income=4.7946, median_house_value=355600.0),\n",
       " Row(longitude=-122.43, latitude=37.75, housing_median_age=52.0, total_rooms=1615.0, total_bedrooms=393.0, population=633.0, households=378.0, median_income=3.5114, median_house_value=347500.0),\n",
       " Row(longitude=-122.43, latitude=37.74, housing_median_age=52.0, total_rooms=3328.0, total_bedrooms=653.0, population=1260.0, households=614.0, median_income=4.7437, median_house_value=331000.0),\n",
       " Row(longitude=-122.43, latitude=37.74, housing_median_age=52.0, total_rooms=2637.0, total_bedrooms=539.0, population=1159.0, households=497.0, median_income=3.8846, median_house_value=333100.0),\n",
       " Row(longitude=-122.44, latitude=37.8, housing_median_age=52.0, total_rooms=3161.0, total_bedrooms=472.0, population=842.0, households=410.0, median_income=7.9761, median_house_value=500001.0),\n",
       " Row(longitude=-122.44, latitude=37.8, housing_median_age=52.0, total_rooms=2865.0, total_bedrooms=593.0, population=1029.0, households=577.0, median_income=5.2539, median_house_value=500001.0),\n",
       " Row(longitude=-122.44, latitude=37.77, housing_median_age=52.0, total_rooms=3505.0, total_bedrooms=745.0, population=1374.0, households=714.0, median_income=4.3667, median_house_value=500001.0),\n",
       " Row(longitude=-122.44, latitude=37.77, housing_median_age=52.0, total_rooms=3225.0, total_bedrooms=667.0, population=1494.0, households=619.0, median_income=4.4875, median_house_value=500001.0),\n",
       " Row(longitude=-122.44, latitude=37.77, housing_median_age=52.0, total_rooms=2705.0, total_bedrooms=647.0, population=1355.0, households=628.0, median_income=2.0161, median_house_value=364300.0),\n",
       " Row(longitude=-122.44, latitude=37.77, housing_median_age=52.0, total_rooms=2537.0, total_bedrooms=559.0, population=849.0, households=530.0, median_income=5.1788, median_house_value=476900.0),\n",
       " Row(longitude=-122.44, latitude=37.77, housing_median_age=52.0, total_rooms=2002.0, total_bedrooms=520.0, population=939.0, households=501.0, median_income=3.2239, median_house_value=488900.0),\n",
       " Row(longitude=-122.44, latitude=37.72, housing_median_age=52.0, total_rooms=2890.0, total_bedrooms=571.0, population=1769.0, households=541.0, median_income=3.8274, median_house_value=252000.0),\n",
       " Row(longitude=-122.44, latitude=37.72, housing_median_age=52.0, total_rooms=1380.0, total_bedrooms=272.0, population=847.0, households=284.0, median_income=3.7143, median_house_value=260000.0),\n",
       " Row(longitude=-122.45, latitude=37.77, housing_median_age=52.0, total_rooms=2645.0, total_bedrooms=626.0, population=1275.0, households=553.0, median_income=3.35, median_house_value=492900.0),\n",
       " Row(longitude=-122.45, latitude=37.76, housing_median_age=52.0, total_rooms=1457.0, total_bedrooms=292.0, population=621.0, households=315.0, median_income=4.6477, median_house_value=450000.0),\n",
       " Row(longitude=-122.45, latitude=37.76, housing_median_age=51.0, total_rooms=2564.0, total_bedrooms=457.0, population=810.0, households=442.0, median_income=5.6235, median_house_value=500001.0),\n",
       " Row(longitude=-122.46, latitude=37.74, housing_median_age=52.0, total_rooms=2180.0, total_bedrooms=326.0, population=856.0, households=326.0, median_income=5.3961, median_house_value=416900.0),\n",
       " Row(longitude=-122.46, latitude=37.74, housing_median_age=52.0, total_rooms=2053.0, total_bedrooms=281.0, population=791.0, households=287.0, median_income=10.959, median_house_value=500001.0),\n",
       " Row(longitude=-122.46, latitude=37.73, housing_median_age=52.0, total_rooms=3547.0, total_bedrooms=506.0, population=1276.0, households=491.0, median_income=8.0069, median_house_value=426800.0),\n",
       " Row(longitude=-122.46, latitude=37.73, housing_median_age=52.0, total_rooms=2673.0, total_bedrooms=349.0, population=876.0, households=338.0, median_income=7.8476, median_house_value=500001.0),\n",
       " Row(longitude=-122.46, latitude=37.72, housing_median_age=47.0, total_rooms=1723.0, total_bedrooms=389.0, population=1216.0, households=399.0, median_income=3.3208, median_house_value=238600.0),\n",
       " Row(longitude=-122.47, latitude=37.79, housing_median_age=52.0, total_rooms=437.0, total_bedrooms=105.0, population=194.0, households=87.0, median_income=2.8125, median_house_value=500001.0),\n",
       " Row(longitude=-122.47, latitude=37.79, housing_median_age=52.0, total_rooms=2383.0, total_bedrooms=477.0, population=990.0, households=464.0, median_income=3.9688, median_house_value=483300.0),\n",
       " Row(longitude=-122.47, latitude=37.78, housing_median_age=52.0, total_rooms=2388.0, total_bedrooms=507.0, population=1078.0, households=494.0, median_income=3.5221, median_house_value=443300.0),\n",
       " Row(longitude=-122.47, latitude=37.7, housing_median_age=47.0, total_rooms=737.0, total_bedrooms=126.0, population=370.0, households=136.0, median_income=3.775, median_house_value=281300.0),\n",
       " Row(longitude=-122.48, latitude=37.78, housing_median_age=52.0, total_rooms=3047.0, total_bedrooms=641.0, population=1427.0, households=620.0, median_income=3.4883, median_house_value=337200.0),\n",
       " Row(longitude=-122.48, latitude=37.78, housing_median_age=52.0, total_rooms=2910.0, total_bedrooms=611.0, population=1508.0, households=515.0, median_income=3.5865, median_house_value=311400.0),\n",
       " Row(longitude=-122.49, latitude=37.76, housing_median_age=52.0, total_rooms=2564.0, total_bedrooms=502.0, population=1092.0, households=459.0, median_income=3.5302, median_house_value=329600.0),\n",
       " Row(longitude=-122.49, latitude=37.76, housing_median_age=52.0, total_rooms=1382.0, total_bedrooms=230.0, population=708.0, households=279.0, median_income=5.8096, median_house_value=339800.0),\n",
       " Row(longitude=-122.49, latitude=37.76, housing_median_age=49.0, total_rooms=1637.0, total_bedrooms=304.0, population=729.0, households=281.0, median_income=4.3281, median_house_value=323100.0),\n",
       " Row(longitude=-122.49, latitude=37.75, housing_median_age=48.0, total_rooms=2181.0, total_bedrooms=419.0, population=1041.0, households=379.0, median_income=3.7361, median_house_value=320200.0),\n",
       " Row(longitude=-122.64, latitude=38.23, housing_median_age=49.0, total_rooms=2300.0, total_bedrooms=463.0, population=1061.0, households=429.0, median_income=4.075, median_house_value=228800.0),\n",
       " Row(longitude=-122.71, latitude=38.45, housing_median_age=52.0, total_rooms=2259.0, total_bedrooms=537.0, population=957.0, households=520.0, median_income=2.1827, median_house_value=188800.0),\n",
       " Row(longitude=-123.79, latitude=39.44, housing_median_age=49.0, total_rooms=2290.0, total_bedrooms=482.0, population=1201.0, households=479.0, median_income=3.5, median_house_value=113300.0),\n",
       " Row(longitude=-124.16, latitude=40.8, housing_median_age=52.0, total_rooms=1703.0, total_bedrooms=500.0, population=952.0, households=435.0, median_income=1.1386, median_house_value=74100.0),\n",
       " Row(longitude=-124.16, latitude=40.79, housing_median_age=52.0, total_rooms=1264.0, total_bedrooms=277.0, population=591.0, households=284.0, median_income=1.7778, median_house_value=76900.0),\n",
       " Row(longitude=-124.16, latitude=40.78, housing_median_age=50.0, total_rooms=2285.0, total_bedrooms=403.0, population=837.0, households=353.0, median_income=2.5417, median_house_value=85400.0),\n",
       " Row(longitude=-124.17, latitude=40.8, housing_median_age=52.0, total_rooms=661.0, total_bedrooms=316.0, population=392.0, households=244.0, median_income=0.957, median_house_value=60000.0),\n",
       " Row(longitude=-124.35, latitude=40.54, housing_median_age=52.0, total_rooms=1820.0, total_bedrooms=300.0, population=806.0, households=270.0, median_income=3.0147, median_house_value=94600.0),\n",
       " Row(longitude=-117.11, latitude=32.77, housing_median_age=52.0, total_rooms=1484.0, total_bedrooms=224.0, population=498.0, households=223.0, median_income=6.6053, median_house_value=331400.0),\n",
       " Row(longitude=-117.11, latitude=32.77, housing_median_age=48.0, total_rooms=1502.0, total_bedrooms=272.0, population=590.0, households=265.0, median_income=2.5952, median_house_value=190300.0),\n",
       " Row(longitude=-117.12, latitude=32.77, housing_median_age=48.0, total_rooms=2012.0, total_bedrooms=422.0, population=893.0, households=394.0, median_income=2.7928, median_house_value=175000.0),\n",
       " Row(longitude=-117.13, latitude=32.75, housing_median_age=50.0, total_rooms=1476.0, total_bedrooms=354.0, population=698.0, households=354.0, median_income=3.0, median_house_value=168800.0),\n",
       " Row(longitude=-117.13, latitude=32.7, housing_median_age=48.0, total_rooms=786.0, total_bedrooms=230.0, population=917.0, households=231.0, median_income=1.875, median_house_value=75600.0),\n",
       " Row(longitude=-117.15, latitude=32.71, housing_median_age=52.0, total_rooms=217.0, total_bedrooms=82.0, population=531.0, households=93.0, median_income=1.6607, median_house_value=137500.0),\n",
       " Row(longitude=-117.15, latitude=32.7, housing_median_age=52.0, total_rooms=458.0, total_bedrooms=148.0, population=1283.0, households=166.0, median_income=1.2863, median_house_value=86300.0),\n",
       " Row(longitude=-117.15, latitude=32.7, housing_median_age=50.0, total_rooms=475.0, total_bedrooms=172.0, population=483.0, households=120.0, median_income=1.3657, median_house_value=162500.0),\n",
       " Row(longitude=-117.16, latitude=32.73, housing_median_age=52.0, total_rooms=1682.0, total_bedrooms=617.0, population=873.0, households=534.0, median_income=2.0972, median_house_value=112500.0),\n",
       " Row(longitude=-117.19, latitude=32.75, housing_median_age=52.0, total_rooms=25.0, total_bedrooms=5.0, population=13.0, households=5.0, median_income=0.536, median_house_value=162500.0),\n",
       " Row(longitude=-117.19, latitude=32.75, housing_median_age=52.0, total_rooms=1388.0, total_bedrooms=213.0, population=513.0, households=211.0, median_income=6.1309, median_house_value=411600.0),\n",
       " Row(longitude=-117.27, latitude=34.12, housing_median_age=52.0, total_rooms=954.0, total_bedrooms=246.0, population=943.0, households=256.0, median_income=0.8658, median_house_value=87500.0),\n",
       " Row(longitude=-117.32, latitude=34.06, housing_median_age=52.0, total_rooms=802.0, total_bedrooms=160.0, population=564.0, households=131.0, median_income=2.1591, median_house_value=63500.0),\n",
       " Row(longitude=-117.8, latitude=33.52, housing_median_age=50.0, total_rooms=1152.0, total_bedrooms=341.0, population=519.0, households=225.0, median_income=3.053, median_house_value=500001.0),\n",
       " Row(longitude=-117.87, latitude=33.74, housing_median_age=52.0, total_rooms=2411.0, total_bedrooms=526.0, population=2165.0, households=521.0, median_income=3.415, median_house_value=172500.0),\n",
       " Row(longitude=-118.05, latitude=34.11, housing_median_age=48.0, total_rooms=1410.0, total_bedrooms=304.0, population=677.0, households=274.0, median_income=3.2596, median_house_value=272400.0),\n",
       " Row(longitude=-118.11, latitude=34.19, housing_median_age=50.0, total_rooms=1430.0, total_bedrooms=186.0, population=620.0, households=201.0, median_income=9.532, median_house_value=483300.0),\n",
       " Row(longitude=-118.11, latitude=34.17, housing_median_age=50.0, total_rooms=3374.0, total_bedrooms=598.0, population=1484.0, households=569.0, median_income=4.99, median_house_value=261600.0),\n",
       " Row(longitude=-118.11, latitude=34.16, housing_median_age=52.0, total_rooms=2489.0, total_bedrooms=437.0, population=1101.0, households=438.0, median_income=4.2065, median_house_value=320300.0),\n",
       " Row(longitude=-118.11, latitude=34.14, housing_median_age=52.0, total_rooms=2401.0, total_bedrooms=332.0, population=810.0, households=308.0, median_income=6.0948, median_house_value=358700.0),\n",
       " Row(longitude=-118.12, latitude=34.19, housing_median_age=52.0, total_rooms=2405.0, total_bedrooms=299.0, population=970.0, households=319.0, median_income=8.7835, median_house_value=444100.0),\n",
       " Row(longitude=-118.14, latitude=34.13, housing_median_age=49.0, total_rooms=4438.0, total_bedrooms=803.0, population=1650.0, households=741.0, median_income=5.1072, median_house_value=479700.0),\n",
       " Row(longitude=-118.15, latitude=34.19, housing_median_age=47.0, total_rooms=1717.0, total_bedrooms=314.0, population=868.0, households=295.0, median_income=3.6094, median_house_value=160700.0),\n",
       " Row(longitude=-118.15, latitude=34.16, housing_median_age=52.0, total_rooms=1925.0, total_bedrooms=597.0, population=2258.0, households=594.0, median_income=1.6921, median_house_value=162500.0),\n",
       " Row(longitude=-118.18, latitude=34.19, housing_median_age=48.0, total_rooms=1371.0, total_bedrooms=164.0, population=528.0, households=155.0, median_income=15.0001, median_house_value=500001.0),\n",
       " Row(longitude=-118.18, latitude=33.88, housing_median_age=47.0, total_rooms=882.0, total_bedrooms=185.0, population=536.0, households=174.0, median_income=4.625, median_house_value=163000.0),\n",
       " Row(longitude=-118.18, latitude=33.77, housing_median_age=49.0, total_rooms=2297.0, total_bedrooms=759.0, population=1105.0, households=629.0, median_income=1.8388, median_house_value=175000.0),\n",
       " Row(longitude=-118.2, latitude=34.14, housing_median_age=52.0, total_rooms=3800.0, total_bedrooms=646.0, population=1842.0, households=620.0, median_income=5.5524, median_house_value=293900.0),\n",
       " Row(longitude=-118.2, latitude=34.04, housing_median_age=52.0, total_rooms=1249.0, total_bedrooms=307.0, population=1223.0, households=297.0, median_income=2.07, median_house_value=136300.0),\n",
       " Row(longitude=-118.2, latitude=34.03, housing_median_age=52.0, total_rooms=774.0, total_bedrooms=209.0, population=813.0, households=203.0, median_income=2.3472, median_house_value=135200.0),\n",
       " Row(longitude=-118.2, latitude=34.03, housing_median_age=52.0, total_rooms=583.0, total_bedrooms=157.0, population=730.0, households=174.0, median_income=1.4115, median_house_value=140600.0),\n",
       " Row(longitude=-118.2, latitude=34.03, housing_median_age=52.0, total_rooms=1754.0, total_bedrooms=452.0, population=1849.0, households=445.0, median_income=2.3716, median_house_value=122800.0),\n",
       " Row(longitude=-118.2, latitude=33.8, housing_median_age=52.0, total_rooms=1009.0, total_bedrooms=216.0, population=614.0, households=231.0, median_income=4.0074, median_house_value=200800.0),\n",
       " Row(longitude=-118.2, latitude=33.79, housing_median_age=47.0, total_rooms=767.0, total_bedrooms=195.0, population=569.0, households=195.0, median_income=2.9514, median_house_value=185200.0),\n",
       " Row(longitude=-118.23, latitude=34.21, housing_median_age=50.0, total_rooms=309.0, total_bedrooms=47.0, population=121.0, households=45.0, median_income=6.213, median_house_value=285000.0),\n",
       " Row(longitude=-118.27, latitude=34.18, housing_median_age=52.0, total_rooms=3034.0, total_bedrooms=406.0, population=1158.0, households=399.0, median_income=6.2976, median_house_value=498400.0),\n",
       " Row(longitude=-118.27, latitude=34.17, housing_median_age=48.0, total_rooms=1560.0, total_bedrooms=280.0, population=825.0, households=269.0, median_income=5.5118, median_house_value=354700.0),\n",
       " Row(longitude=-118.27, latitude=34.16, housing_median_age=52.0, total_rooms=830.0, total_bedrooms=183.0, population=479.0, households=179.0, median_income=3.1397, median_house_value=253700.0),\n",
       " Row(longitude=-118.28, latitude=34.02, housing_median_age=52.0, total_rooms=281.0, total_bedrooms=103.0, population=470.0, households=96.0, median_income=1.9375, median_house_value=38800.0),\n",
       " Row(longitude=-118.28, latitude=34.01, housing_median_age=50.0, total_rooms=2601.0, total_bedrooms=794.0, population=3080.0, households=770.0, median_income=1.8656, median_house_value=122900.0),\n",
       " Row(longitude=-118.28, latitude=34.0, housing_median_age=48.0, total_rooms=1514.0, total_bedrooms=376.0, population=1353.0, households=344.0, median_income=2.1607, median_house_value=96100.0),\n",
       " Row(longitude=-118.29, latitude=34.0, housing_median_age=52.0, total_rooms=2579.0, total_bedrooms=494.0, population=1558.0, households=458.0, median_income=2.0809, median_house_value=109600.0),\n",
       " Row(longitude=-118.29, latitude=34.0, housing_median_age=52.0, total_rooms=1319.0, total_bedrooms=295.0, population=898.0, households=271.0, median_income=2.7727, median_house_value=128600.0),\n",
       " Row(longitude=-118.3, latitude=33.75, housing_median_age=48.0, total_rooms=1958.0, total_bedrooms=386.0, population=1098.0, households=380.0, median_income=4.625, median_house_value=273400.0),\n",
       " Row(longitude=-118.31, latitude=33.96, housing_median_age=47.0, total_rooms=2005.0, total_bedrooms=392.0, population=1134.0, households=415.0, median_income=3.7143, median_house_value=140300.0),\n",
       " Row(longitude=-118.31, latitude=33.84, housing_median_age=52.0, total_rooms=1819.0, total_bedrooms=464.0, population=1068.0, households=424.0, median_income=3.625, median_house_value=270700.0),\n",
       " Row(longitude=-118.31, latitude=33.83, housing_median_age=50.0, total_rooms=696.0, total_bedrooms=311.0, population=382.0, households=234.0, median_income=2.775, median_house_value=225000.0),\n",
       " Row(longitude=-118.32, latitude=34.08, housing_median_age=52.0, total_rooms=1164.0, total_bedrooms=257.0, population=575.0, households=251.0, median_income=3.125, median_house_value=380400.0),\n",
       " Row(longitude=-118.32, latitude=34.08, housing_median_age=52.0, total_rooms=1137.0, total_bedrooms=304.0, population=754.0, households=297.0, median_income=3.37, median_house_value=330300.0),\n",
       " Row(longitude=-118.32, latitude=34.07, housing_median_age=52.0, total_rooms=2980.0, total_bedrooms=366.0, population=967.0, households=359.0, median_income=11.2185, median_house_value=500001.0),\n",
       " Row(longitude=-118.32, latitude=34.06, housing_median_age=52.0, total_rooms=955.0, total_bedrooms=100.0, population=457.0, households=120.0, median_income=15.0001, median_house_value=500001.0),\n",
       " Row(longitude=-118.32, latitude=34.01, housing_median_age=47.0, total_rooms=1745.0, total_bedrooms=371.0, population=1079.0, households=368.0, median_income=2.4022, median_house_value=123400.0),\n",
       " Row(longitude=-118.32, latitude=33.98, housing_median_age=49.0, total_rooms=1412.0, total_bedrooms=333.0, population=901.0, households=328.0, median_income=1.7067, median_house_value=118600.0),\n",
       " Row(longitude=-118.32, latitude=33.33, housing_median_age=52.0, total_rooms=2127.0, total_bedrooms=512.0, population=733.0, households=288.0, median_income=3.3906, median_house_value=300000.0),\n",
       " Row(longitude=-118.33, latitude=34.08, housing_median_age=50.0, total_rooms=2989.0, total_bedrooms=832.0, population=1345.0, households=775.0, median_income=3.2426, median_house_value=442900.0),\n",
       " Row(longitude=-118.33, latitude=34.05, housing_median_age=48.0, total_rooms=2405.0, total_bedrooms=527.0, population=1868.0, households=502.0, median_income=3.375, median_house_value=257800.0),\n",
       " Row(longitude=-118.34, latitude=34.05, housing_median_age=52.0, total_rooms=2530.0, total_bedrooms=458.0, population=1122.0, households=449.0, median_income=3.9167, median_house_value=321600.0),\n",
       " Row(longitude=-118.36, latitude=34.07, housing_median_age=48.0, total_rooms=1740.0, total_bedrooms=360.0, population=748.0, households=357.0, median_income=4.7019, median_house_value=411100.0),\n",
       " Row(longitude=-118.36, latitude=34.05, housing_median_age=50.0, total_rooms=3518.0, total_bedrooms=812.0, population=1724.0, households=758.0, median_income=3.0833, median_house_value=338100.0),\n",
       " Row(longitude=-118.39, latitude=34.08, housing_median_age=52.0, total_rooms=3759.0, total_bedrooms=464.0, population=1407.0, households=422.0, median_income=15.0001, median_house_value=500001.0),\n",
       " Row(longitude=-118.4, latitude=34.06, housing_median_age=52.0, total_rooms=2501.0, total_bedrooms=362.0, population=748.0, households=349.0, median_income=6.6343, median_house_value=500001.0),\n",
       " Row(longitude=-118.4, latitude=34.06, housing_median_age=52.0, total_rooms=1871.0, total_bedrooms=326.0, population=646.0, households=284.0, median_income=8.2961, median_house_value=500001.0),\n",
       " Row(longitude=-118.4, latitude=34.06, housing_median_age=47.0, total_rooms=3652.0, total_bedrooms=967.0, population=1438.0, households=887.0, median_income=3.6964, median_house_value=500001.0),\n",
       " Row(longitude=-118.45, latitude=34.0, housing_median_age=48.0, total_rooms=1923.0, total_bedrooms=408.0, population=1142.0, households=433.0, median_income=4.575, median_house_value=326700.0),\n",
       " Row(longitude=-118.45, latitude=33.99, housing_median_age=52.0, total_rooms=1829.0, total_bedrooms=472.0, population=779.0, households=424.0, median_income=3.1607, median_house_value=339000.0),\n",
       " Row(longitude=-118.49, latitude=34.05, housing_median_age=52.0, total_rooms=2416.0, total_bedrooms=291.0, population=810.0, households=270.0, median_income=13.8556, median_house_value=500001.0),\n",
       " Row(longitude=-118.49, latitude=34.04, housing_median_age=48.0, total_rooms=2381.0, total_bedrooms=345.0, population=859.0, households=306.0, median_income=8.0257, median_house_value=500001.0),\n",
       " Row(longitude=-118.5, latitude=34.03, housing_median_age=52.0, total_rooms=1506.0, total_bedrooms=208.0, population=547.0, households=186.0, median_income=7.8705, median_house_value=500001.0),\n",
       " Row(longitude=-118.5, latitude=33.97, housing_median_age=52.0, total_rooms=709.0, total_bedrooms=329.0, population=388.0, households=313.0, median_income=2.2643, median_house_value=350000.0),\n",
       " Row(longitude=-118.51, latitude=34.0, housing_median_age=52.0, total_rooms=1241.0, total_bedrooms=502.0, population=679.0, households=459.0, median_income=2.3098, median_house_value=500001.0),\n",
       " Row(longitude=-119.02, latitude=35.38, housing_median_age=48.0, total_rooms=346.0, total_bedrooms=92.0, population=129.0, households=63.0, median_income=1.1875, median_house_value=63800.0),\n",
       " Row(longitude=-119.27, latitude=34.28, housing_median_age=52.0, total_rooms=2239.0, total_bedrooms=420.0, population=941.0, households=397.0, median_income=4.125, median_house_value=349000.0),\n",
       " Row(longitude=-119.7, latitude=34.43, housing_median_age=52.0, total_rooms=977.0, total_bedrooms=289.0, population=412.0, households=272.0, median_income=2.125, median_house_value=300000.0),\n",
       " Row(longitude=-119.7, latitude=34.43, housing_median_age=52.0, total_rooms=1364.0, total_bedrooms=460.0, population=804.0, households=400.0, median_income=2.375, median_house_value=293800.0),\n",
       " Row(longitude=-119.71, latitude=34.43, housing_median_age=48.0, total_rooms=2408.0, total_bedrooms=536.0, population=1005.0, households=497.0, median_income=3.5213, median_house_value=458600.0),\n",
       " Row(longitude=-119.71, latitude=34.42, housing_median_age=52.0, total_rooms=1838.0, total_bedrooms=692.0, population=851.0, households=576.0, median_income=1.4851, median_house_value=237500.0),\n",
       " Row(longitude=-119.71, latitude=34.42, housing_median_age=50.0, total_rooms=840.0, total_bedrooms=279.0, population=488.0, households=270.0, median_income=2.2097, median_house_value=258300.0),\n",
       " Row(longitude=-119.79, latitude=36.76, housing_median_age=52.0, total_rooms=2408.0, total_bedrooms=498.0, population=1361.0, households=465.0, median_income=2.1055, median_house_value=61300.0),\n",
       " Row(longitude=-119.81, latitude=36.73, housing_median_age=47.0, total_rooms=1314.0, total_bedrooms=416.0, population=1155.0, households=326.0, median_income=1.372, median_house_value=49600.0),\n",
       " Row(longitude=-120.99, latitude=37.64, housing_median_age=50.0, total_rooms=683.0, total_bedrooms=189.0, population=459.0, households=195.0, median_income=1.8162, median_house_value=70000.0),\n",
       " Row(longitude=-121.04, latitude=37.7, housing_median_age=52.0, total_rooms=349.0, total_bedrooms=59.0, population=121.0, households=40.0, median_income=3.3036, median_house_value=197500.0),\n",
       " Row(longitude=-121.06, latitude=39.21, housing_median_age=52.0, total_rooms=1452.0, total_bedrooms=309.0, population=637.0, households=299.0, median_income=2.2083, median_house_value=103900.0),\n",
       " Row(longitude=-121.13, latitude=38.87, housing_median_age=48.0, total_rooms=1127.0, total_bedrooms=188.0, population=530.0, households=186.0, median_income=3.0917, median_house_value=128100.0),\n",
       " Row(longitude=-121.23, latitude=37.87, housing_median_age=49.0, total_rooms=98.0, total_bedrooms=24.0, population=59.0, households=26.0, median_income=3.65, median_house_value=162500.0),\n",
       " Row(longitude=-121.28, latitude=37.94, housing_median_age=48.0, total_rooms=1766.0, total_bedrooms=444.0, population=1406.0, households=421.0, median_income=1.7039, median_house_value=52700.0),\n",
       " Row(longitude=-121.31, latitude=37.96, housing_median_age=48.0, total_rooms=1112.0, total_bedrooms=227.0, population=583.0, households=216.0, median_income=2.3393, median_house_value=77600.0),\n",
       " Row(longitude=-121.49, latitude=38.54, housing_median_age=47.0, total_rooms=2313.0, total_bedrooms=536.0, population=779.0, households=442.0, median_income=2.5639, median_house_value=123000.0),\n",
       " Row(longitude=-121.81, latitude=38.01, housing_median_age=52.0, total_rooms=1124.0, total_bedrooms=245.0, population=528.0, households=226.0, median_income=2.2639, median_house_value=128500.0),\n",
       " Row(longitude=-121.86, latitude=38.04, housing_median_age=52.0, total_rooms=242.0, total_bedrooms=59.0, population=188.0, households=54.0, median_income=1.3958, median_house_value=67500.0),\n",
       " Row(longitude=-121.89, latitude=37.31, housing_median_age=52.0, total_rooms=1994.0, total_bedrooms=404.0, population=1014.0, households=389.0, median_income=4.3882, median_house_value=223600.0),\n",
       " Row(longitude=-121.91, latitude=37.33, housing_median_age=52.0, total_rooms=2212.0, total_bedrooms=563.0, population=1195.0, households=532.0, median_income=2.894, median_house_value=209500.0),\n",
       " Row(longitude=-122.02, latitude=36.96, housing_median_age=52.0, total_rooms=775.0, total_bedrooms=305.0, population=1054.0, households=305.0, median_income=2.0172, median_house_value=112500.0),\n",
       " Row(longitude=-122.03, latitude=36.97, housing_median_age=51.0, total_rooms=924.0, total_bedrooms=232.0, population=488.0, households=228.0, median_income=2.1964, median_house_value=234400.0),\n",
       " Row(longitude=-122.09, latitude=37.67, housing_median_age=48.0, total_rooms=1252.0, total_bedrooms=305.0, population=673.0, households=308.0, median_income=2.3357, median_house_value=175000.0),\n",
       " Row(longitude=-122.12, latitude=37.12, housing_median_age=51.0, total_rooms=2419.0, total_bedrooms=485.0, population=1078.0, households=435.0, median_income=2.7933, median_house_value=206900.0),\n",
       " Row(longitude=-122.14, latitude=37.74, housing_median_age=52.0, total_rooms=1071.0, total_bedrooms=201.0, population=440.0, households=192.0, median_income=4.0662, median_house_value=204200.0),\n",
       " Row(longitude=-122.15, latitude=37.45, housing_median_age=52.0, total_rooms=568.0, total_bedrooms=91.0, population=219.0, households=75.0, median_income=6.1575, median_house_value=500001.0),\n",
       " Row(longitude=-122.17, latitude=37.73, housing_median_age=52.0, total_rooms=1555.0, total_bedrooms=289.0, population=620.0, households=292.0, median_income=3.7159, median_house_value=183300.0),\n",
       " Row(longitude=-122.19, latitude=37.79, housing_median_age=47.0, total_rooms=1229.0, total_bedrooms=243.0, population=582.0, households=256.0, median_income=2.9514, median_house_value=198100.0),\n",
       " Row(longitude=-122.2, latitude=37.76, housing_median_age=47.0, total_rooms=1116.0, total_bedrooms=259.0, population=826.0, households=279.0, median_income=1.75, median_house_value=85700.0),\n",
       " Row(longitude=-122.21, latitude=37.81, housing_median_age=52.0, total_rooms=1389.0, total_bedrooms=212.0, population=510.0, households=224.0, median_income=5.2402, median_house_value=296400.0),\n",
       " Row(longitude=-122.21, latitude=37.8, housing_median_age=52.0, total_rooms=3519.0, total_bedrooms=711.0, population=1883.0, households=706.0, median_income=3.4861, median_house_value=187100.0),\n",
       " Row(longitude=-122.21, latitude=37.8, housing_median_age=48.0, total_rooms=1321.0, total_bedrooms=263.0, population=506.0, households=252.0, median_income=4.0977, median_house_value=229700.0),\n",
       " Row(longitude=-122.21, latitude=37.79, housing_median_age=47.0, total_rooms=1543.0, total_bedrooms=307.0, population=859.0, households=292.0, median_income=2.9583, median_house_value=138800.0),\n",
       " Row(longitude=-122.22, latitude=37.78, housing_median_age=51.0, total_rooms=1637.0, total_bedrooms=463.0, population=1543.0, households=393.0, median_income=2.489, median_house_value=119100.0),\n",
       " Row(longitude=-122.22, latitude=37.78, housing_median_age=50.0, total_rooms=1920.0, total_bedrooms=530.0, population=1525.0, households=477.0, median_income=1.4886, median_house_value=128800.0),\n",
       " Row(longitude=-122.24, latitude=37.77, housing_median_age=52.0, total_rooms=1711.0, total_bedrooms=386.0, population=885.0, households=373.0, median_income=3.6417, median_house_value=206300.0),\n",
       " Row(longitude=-122.24, latitude=37.76, housing_median_age=52.0, total_rooms=2504.0, total_bedrooms=516.0, population=979.0, households=472.0, median_income=3.4762, median_house_value=244000.0),\n",
       " Row(longitude=-122.24, latitude=37.76, housing_median_age=49.0, total_rooms=2428.0, total_bedrooms=525.0, population=1110.0, households=492.0, median_income=3.6719, median_house_value=229800.0),\n",
       " Row(longitude=-122.25, latitude=37.83, housing_median_age=52.0, total_rooms=1279.0, total_bedrooms=287.0, population=534.0, households=291.0, median_income=3.1429, median_house_value=231600.0),\n",
       " Row(longitude=-122.26, latitude=37.89, housing_median_age=52.0, total_rooms=3078.0, total_bedrooms=494.0, population=1005.0, households=462.0, median_income=6.381, median_house_value=342200.0),\n",
       " Row(longitude=-122.26, latitude=37.78, housing_median_age=52.0, total_rooms=970.0, total_bedrooms=217.0, population=528.0, households=208.0, median_income=3.3438, median_house_value=201300.0),\n",
       " Row(longitude=-122.26, latitude=37.78, housing_median_age=52.0, total_rooms=1045.0, total_bedrooms=239.0, population=496.0, households=216.0, median_income=2.9213, median_house_value=190800.0),\n",
       " Row(longitude=-122.27, latitude=37.85, housing_median_age=52.0, total_rooms=335.0, total_bedrooms=83.0, population=152.0, households=77.0, median_income=2.2841, median_house_value=106300.0),\n",
       " Row(longitude=-122.27, latitude=37.85, housing_median_age=52.0, total_rooms=1974.0, total_bedrooms=426.0, population=875.0, households=363.0, median_income=1.5817, median_house_value=153600.0),\n",
       " Row(longitude=-122.27, latitude=37.78, housing_median_age=52.0, total_rooms=1408.0, total_bedrooms=280.0, population=718.0, households=265.0, median_income=2.6806, median_house_value=207900.0),\n",
       " Row(longitude=-122.27, latitude=37.77, housing_median_age=52.0, total_rooms=2388.0, total_bedrooms=559.0, population=1121.0, households=518.0, median_income=3.3269, median_house_value=234500.0),\n",
       " Row(longitude=-122.27, latitude=37.77, housing_median_age=52.0, total_rooms=1731.0, total_bedrooms=377.0, population=872.0, households=363.0, median_income=4.1667, median_house_value=225800.0),\n",
       " Row(longitude=-122.27, latitude=37.77, housing_median_age=52.0, total_rooms=1710.0, total_bedrooms=481.0, population=849.0, households=457.0, median_income=2.7115, median_house_value=220800.0),\n",
       " Row(longitude=-122.28, latitude=37.9, housing_median_age=49.0, total_rooms=3191.0, total_bedrooms=516.0, population=1148.0, households=507.0, median_income=6.3538, median_house_value=333700.0),\n",
       " Row(longitude=-122.28, latitude=37.89, housing_median_age=52.0, total_rooms=2616.0, total_bedrooms=473.0, population=1085.0, households=487.0, median_income=4.125, median_house_value=270900.0),\n",
       " Row(longitude=-122.28, latitude=37.84, housing_median_age=50.0, total_rooms=2082.0, total_bedrooms=492.0, population=1131.0, households=473.0, median_income=1.6424, median_house_value=108900.0),\n",
       " Row(longitude=-122.28, latitude=37.84, housing_median_age=49.0, total_rooms=1916.0, total_bedrooms=447.0, population=863.0, households=378.0, median_income=1.9274, median_house_value=122300.0),\n",
       " Row(longitude=-122.28, latitude=37.83, housing_median_age=52.0, total_rooms=1511.0, total_bedrooms=390.0, population=901.0, households=403.0, median_income=1.4103, median_house_value=103900.0),\n",
       " Row(longitude=-122.28, latitude=37.82, housing_median_age=52.0, total_rooms=945.0, total_bedrooms=243.0, population=576.0, households=220.0, median_income=1.4113, median_house_value=83100.0),\n",
       " Row(longitude=-122.29, latitude=37.88, housing_median_age=50.0, total_rooms=1211.0, total_bedrooms=261.0, population=523.0, households=227.0, median_income=3.8672, median_house_value=216700.0),\n",
       " Row(longitude=-122.29, latitude=37.87, housing_median_age=50.0, total_rooms=1829.0, total_bedrooms=536.0, population=1129.0, households=516.0, median_income=2.6684, median_house_value=185600.0),\n",
       " Row(longitude=-122.3, latitude=37.81, housing_median_age=52.0, total_rooms=1224.0, total_bedrooms=237.0, population=521.0, households=159.0, median_income=1.191, median_house_value=76100.0),\n",
       " Row(longitude=-122.33, latitude=37.94, housing_median_age=47.0, total_rooms=1882.0, total_bedrooms=361.0, population=797.0, households=342.0, median_income=3.5848, median_house_value=140800.0),\n",
       " Row(longitude=-122.38, latitude=37.59, housing_median_age=49.0, total_rooms=1657.0, total_bedrooms=266.0, population=613.0, households=270.0, median_income=5.7837, median_house_value=378100.0),\n",
       " Row(longitude=-122.38, latitude=37.58, housing_median_age=52.0, total_rooms=1704.0, total_bedrooms=226.0, population=671.0, households=243.0, median_income=8.4704, median_house_value=500001.0),\n",
       " Row(longitude=-122.38, latitude=37.18, housing_median_age=52.0, total_rooms=1746.0, total_bedrooms=315.0, population=941.0, households=220.0, median_income=3.3047, median_house_value=286100.0),\n",
       " Row(longitude=-122.4, latitude=37.72, housing_median_age=47.0, total_rooms=1167.0, total_bedrooms=250.0, population=953.0, households=253.0, median_income=4.2727, median_house_value=241900.0),\n",
       " Row(longitude=-122.41, latitude=37.79, housing_median_age=52.0, total_rooms=6016.0, total_bedrooms=2509.0, population=3436.0, households=2119.0, median_income=2.5166, median_house_value=275000.0),\n",
       " Row(longitude=-122.41, latitude=37.79, housing_median_age=52.0, total_rooms=1436.0, total_bedrooms=738.0, population=1688.0, households=662.0, median_income=1.5156, median_house_value=237500.0),\n",
       " Row(longitude=-122.41, latitude=37.74, housing_median_age=52.0, total_rooms=831.0, total_bedrooms=175.0, population=415.0, households=159.0, median_income=1.9464, median_house_value=249000.0),\n",
       " Row(longitude=-122.41, latitude=37.74, housing_median_age=52.0, total_rooms=1842.0, total_bedrooms=339.0, population=1032.0, households=357.0, median_income=5.5563, median_house_value=250800.0),\n",
       " Row(longitude=-122.41, latitude=37.74, housing_median_age=47.0, total_rooms=1728.0, total_bedrooms=398.0, population=1178.0, households=315.0, median_income=3.2813, median_house_value=229600.0),\n",
       " Row(longitude=-122.41, latitude=37.73, housing_median_age=52.0, total_rooms=1931.0, total_bedrooms=358.0, population=1092.0, households=356.0, median_income=3.7835, median_house_value=271300.0),\n",
       " Row(longitude=-122.42, latitude=37.93, housing_median_age=47.0, total_rooms=3453.0, total_bedrooms=779.0, population=1353.0, households=728.0, median_income=4.016, median_house_value=274500.0),\n",
       " Row(longitude=-122.42, latitude=37.81, housing_median_age=52.0, total_rooms=1314.0, total_bedrooms=317.0, population=473.0, households=250.0, median_income=4.3472, median_house_value=500001.0),\n",
       " Row(longitude=-122.42, latitude=37.8, housing_median_age=52.0, total_rooms=741.0, total_bedrooms=170.0, population=277.0, households=165.0, median_income=4.4712, median_house_value=500001.0),\n",
       " Row(longitude=-122.42, latitude=37.8, housing_median_age=52.0, total_rooms=4079.0, total_bedrooms=1112.0, population=1466.0, households=1024.0, median_income=4.5913, median_house_value=500001.0),\n",
       " Row(longitude=-122.42, latitude=37.76, housing_median_age=52.0, total_rooms=1190.0, total_bedrooms=400.0, population=1270.0, households=332.0, median_income=2.0329, median_house_value=225000.0),\n",
       " Row(longitude=-122.43, latitude=37.77, housing_median_age=52.0, total_rooms=2714.0, total_bedrooms=779.0, population=1438.0, households=733.0, median_income=3.6031, median_house_value=275000.0),\n",
       " Row(longitude=-122.43, latitude=37.74, housing_median_age=52.0, total_rooms=2229.0, total_bedrooms=498.0, population=1079.0, households=472.0, median_income=5.0196, median_house_value=324300.0),\n",
       " Row(longitude=-122.43, latitude=37.73, housing_median_age=49.0, total_rooms=1435.0, total_bedrooms=322.0, population=1008.0, households=329.0, median_income=4.0, median_house_value=264000.0),\n",
       " Row(longitude=-122.44, latitude=37.8, housing_median_age=52.0, total_rooms=1580.0, total_bedrooms=470.0, population=714.0, households=448.0, median_income=3.2447, median_house_value=500001.0),\n",
       " Row(longitude=-122.44, latitude=37.75, housing_median_age=52.0, total_rooms=1573.0, total_bedrooms=334.0, population=725.0, households=338.0, median_income=5.0505, median_house_value=380400.0),\n",
       " Row(longitude=-122.45, latitude=37.73, housing_median_age=52.0, total_rooms=1350.0, total_bedrooms=241.0, population=752.0, households=246.0, median_income=3.2448, median_house_value=266200.0),\n",
       " Row(longitude=-122.46, latitude=37.79, housing_median_age=52.0, total_rooms=2106.0, total_bedrooms=373.0, population=743.0, households=348.0, median_income=5.2909, median_house_value=500001.0),\n",
       " Row(longitude=-122.46, latitude=37.78, housing_median_age=52.0, total_rooms=4140.0, total_bedrooms=984.0, population=2030.0, households=892.0, median_income=3.4236, median_house_value=376800.0),\n",
       " Row(longitude=-122.46, latitude=37.71, housing_median_age=49.0, total_rooms=1711.0, total_bedrooms=348.0, population=1138.0, households=325.0, median_income=2.875, median_house_value=225000.0),\n",
       " Row(longitude=-122.46, latitude=37.71, housing_median_age=47.0, total_rooms=1527.0, total_bedrooms=283.0, population=1102.0, households=282.0, median_income=4.0, median_house_value=231600.0),\n",
       " Row(longitude=-122.47, latitude=37.78, housing_median_age=52.0, total_rooms=2169.0, total_bedrooms=522.0, population=1220.0, households=505.0, median_income=3.1989, median_house_value=446900.0),\n",
       " Row(longitude=-122.47, latitude=37.76, housing_median_age=49.0, total_rooms=2842.0, total_bedrooms=670.0, population=1396.0, households=648.0, median_income=3.2679, median_house_value=345700.0),\n",
       " Row(longitude=-122.47, latitude=37.76, housing_median_age=48.0, total_rooms=2464.0, total_bedrooms=459.0, population=1179.0, households=458.0, median_income=4.4946, median_house_value=358600.0),\n",
       " Row(longitude=-122.48, latitude=37.76, housing_median_age=52.0, total_rooms=2684.0, total_bedrooms=574.0, population=1395.0, households=549.0, median_income=3.9097, median_house_value=323800.0),\n",
       " Row(longitude=-122.48, latitude=37.76, housing_median_age=52.0, total_rooms=1845.0, total_bedrooms=336.0, population=1015.0, households=337.0, median_income=4.1397, median_house_value=331300.0),\n",
       " Row(longitude=-122.48, latitude=37.76, housing_median_age=50.0, total_rooms=2236.0, total_bedrooms=484.0, population=1171.0, households=467.0, median_income=4.0977, median_house_value=322100.0),\n",
       " Row(longitude=-122.48, latitude=37.76, housing_median_age=48.0, total_rooms=2304.0, total_bedrooms=558.0, population=1273.0, households=512.0, median_income=3.275, median_house_value=332100.0),\n",
       " Row(longitude=-122.48, latitude=37.75, housing_median_age=51.0, total_rooms=2095.0, total_bedrooms=410.0, population=1126.0, households=429.0, median_income=4.4, median_house_value=318400.0),\n",
       " Row(longitude=-122.48, latitude=37.75, housing_median_age=49.0, total_rooms=2203.0, total_bedrooms=407.0, population=1052.0, households=405.0, median_income=4.4375, median_house_value=329200.0),\n",
       " Row(longitude=-122.48, latitude=37.75, housing_median_age=48.0, total_rooms=2555.0, total_bedrooms=548.0, population=1285.0, households=482.0, median_income=3.7734, median_house_value=314700.0),\n",
       " Row(longitude=-122.49, latitude=37.74, housing_median_age=52.0, total_rooms=2442.0, total_bedrooms=449.0, population=1188.0, households=436.0, median_income=4.3909, median_house_value=317700.0),\n",
       " Row(longitude=-122.49, latitude=37.74, housing_median_age=48.0, total_rooms=1186.0, total_bedrooms=213.0, population=487.0, households=207.0, median_income=3.8333, median_house_value=340800.0),\n",
       " Row(longitude=-122.5, latitude=37.76, housing_median_age=50.0, total_rooms=1993.0, total_bedrooms=410.0, population=1009.0, households=374.0, median_income=3.9464, median_house_value=295600.0),\n",
       " Row(longitude=-122.5, latitude=37.76, housing_median_age=48.0, total_rooms=1408.0, total_bedrooms=295.0, population=891.0, households=269.0, median_income=3.8333, median_house_value=296300.0),\n",
       " Row(longitude=-122.55, latitude=37.97, housing_median_age=52.0, total_rooms=2232.0, total_bedrooms=291.0, population=731.0, households=253.0, median_income=7.1155, median_house_value=500001.0),\n",
       " Row(longitude=-122.64, latitude=41.73, housing_median_age=50.0, total_rooms=1525.0, total_bedrooms=308.0, population=661.0, households=285.0, median_income=2.2206, median_house_value=63200.0),\n",
       " Row(longitude=-122.65, latitude=38.24, housing_median_age=49.0, total_rooms=3273.0, total_bedrooms=579.0, population=1431.0, households=539.0, median_income=4.275, median_house_value=227600.0),\n",
       " Row(longitude=-122.7, latitude=38.45, housing_median_age=47.0, total_rooms=904.0, total_bedrooms=154.0, population=310.0, households=144.0, median_income=3.9766, median_house_value=190600.0),\n",
       " Row(longitude=-117.13, latitude=32.74, housing_median_age=50.0, total_rooms=1527.0, total_bedrooms=338.0, population=728.0, households=322.0, median_income=2.625, median_house_value=203200.0),\n",
       " Row(longitude=-117.13, latitude=32.73, housing_median_age=52.0, total_rooms=1911.0, total_bedrooms=415.0, population=777.0, households=412.0, median_income=2.2429, median_house_value=221100.0),\n",
       " Row(longitude=-117.13, latitude=32.73, housing_median_age=52.0, total_rooms=1148.0, total_bedrooms=214.0, population=481.0, households=215.0, median_income=5.454, median_house_value=240900.0),\n",
       " Row(longitude=-117.14, latitude=32.74, housing_median_age=47.0, total_rooms=1494.0, total_bedrooms=327.0, population=689.0, households=304.0, median_income=3.125, median_house_value=172700.0),\n",
       " Row(longitude=-117.14, latitude=32.71, housing_median_age=52.0, total_rooms=979.0, total_bedrooms=314.0, population=975.0, households=297.0, median_income=1.2375, median_house_value=100000.0),\n",
       " Row(longitude=-117.17, latitude=32.73, housing_median_age=52.0, total_rooms=1578.0, total_bedrooms=487.0, population=879.0, households=446.0, median_income=2.4069, median_house_value=215000.0),\n",
       " Row(longitude=-117.22, latitude=32.74, housing_median_age=52.0, total_rooms=1260.0, total_bedrooms=202.0, population=555.0, households=209.0, median_income=7.2758, median_house_value=345200.0),\n",
       " Row(longitude=-117.3, latitude=34.12, housing_median_age=50.0, total_rooms=1629.0, total_bedrooms=437.0, population=1581.0, households=394.0, median_income=2.2019, median_house_value=63500.0),\n",
       " Row(longitude=-117.38, latitude=33.99, housing_median_age=52.0, total_rooms=1797.0, total_bedrooms=332.0, population=905.0, households=313.0, median_income=2.7054, median_house_value=141700.0),\n",
       " Row(longitude=-117.64, latitude=34.06, housing_median_age=50.0, total_rooms=637.0, total_bedrooms=143.0, population=590.0, households=147.0, median_income=1.9659, median_house_value=85700.0),\n",
       " Row(longitude=-117.75, latitude=34.07, housing_median_age=52.0, total_rooms=2550.0, total_bedrooms=586.0, population=1246.0, households=576.0, median_income=1.6006, median_house_value=146200.0),\n",
       " Row(longitude=-118.06, latitude=33.99, housing_median_age=47.0, total_rooms=1588.0, total_bedrooms=309.0, population=827.0, households=292.0, median_income=3.7833, median_house_value=166100.0),\n",
       " Row(longitude=-118.1, latitude=34.12, housing_median_age=49.0, total_rooms=3783.0, total_bedrooms=579.0, population=1601.0, households=539.0, median_income=6.3013, median_house_value=500001.0),\n",
       " Row(longitude=-118.1, latitude=34.11, housing_median_age=49.0, total_rooms=3367.0, total_bedrooms=523.0, population=1317.0, households=495.0, median_income=6.706, median_house_value=351400.0),\n",
       " Row(longitude=-118.11, latitude=34.1, housing_median_age=49.0, total_rooms=2812.0, total_bedrooms=478.0, population=1329.0, households=490.0, median_income=5.2503, median_house_value=292900.0),\n",
       " Row(longitude=-118.12, latitude=34.17, housing_median_age=52.0, total_rooms=2166.0, total_bedrooms=483.0, population=1308.0, households=467.0, median_income=3.0417, median_house_value=222600.0),\n",
       " Row(longitude=-118.12, latitude=34.13, housing_median_age=52.0, total_rooms=2935.0, total_bedrooms=341.0, population=975.0, households=327.0, median_income=11.706, median_house_value=500001.0),\n",
       " Row(longitude=-118.13, latitude=34.18, housing_median_age=52.0, total_rooms=3094.0, total_bedrooms=519.0, population=1309.0, households=488.0, median_income=6.4223, median_house_value=310900.0),\n",
       " Row(longitude=-118.14, latitude=34.69, housing_median_age=48.0, total_rooms=1379.0, total_bedrooms=327.0, population=696.0, households=304.0, median_income=2.1167, median_house_value=94900.0),\n",
       " Row(longitude=-118.14, latitude=34.1, housing_median_age=52.0, total_rooms=4061.0, total_bedrooms=861.0, population=2290.0, households=790.0, median_income=2.8919, median_house_value=258400.0),\n",
       " Row(longitude=-118.14, latitude=33.77, housing_median_age=52.0, total_rooms=2208.0, total_bedrooms=409.0, population=791.0, households=408.0, median_income=5.8408, median_house_value=500000.0),\n",
       " Row(longitude=-118.14, latitude=33.77, housing_median_age=49.0, total_rooms=2792.0, total_bedrooms=690.0, population=1301.0, households=648.0, median_income=3.2917, median_house_value=307400.0),\n",
       " Row(longitude=-118.14, latitude=33.76, housing_median_age=52.0, total_rooms=2677.0, total_bedrooms=642.0, population=1144.0, households=624.0, median_income=4.3889, median_house_value=378000.0),\n",
       " Row(longitude=-118.14, latitude=33.76, housing_median_age=50.0, total_rooms=914.0, total_bedrooms=167.0, population=322.0, households=165.0, median_income=4.7361, median_house_value=418800.0),\n",
       " Row(longitude=-118.15, latitude=34.15, housing_median_age=52.0, total_rooms=275.0, total_bedrooms=123.0, population=273.0, households=111.0, median_income=1.1667, median_house_value=500001.0),\n",
       " Row(longitude=-118.15, latitude=34.15, housing_median_age=49.0, total_rooms=806.0, total_bedrooms=199.0, population=698.0, households=172.0, median_income=2.3654, median_house_value=137500.0),\n",
       " Row(longitude=-118.16, latitude=34.16, housing_median_age=52.0, total_rooms=1576.0, total_bedrooms=239.0, population=696.0, households=249.0, median_income=6.07, median_house_value=261800.0),\n",
       " Row(longitude=-118.16, latitude=33.78, housing_median_age=52.0, total_rooms=3248.0, total_bedrooms=853.0, population=1819.0, households=815.0, median_income=3.1739, median_house_value=222900.0),\n",
       " Row(longitude=-118.17, latitude=34.1, housing_median_age=48.0, total_rooms=2514.0, total_bedrooms=595.0, population=2484.0, households=601.0, median_income=3.1146, median_house_value=142500.0),\n",
       " Row(longitude=-118.17, latitude=33.82, housing_median_age=52.0, total_rooms=2539.0, total_bedrooms=497.0, population=1152.0, households=488.0, median_income=4.1354, median_house_value=268200.0),\n",
       " Row(longitude=-118.18, latitude=33.83, housing_median_age=52.0, total_rooms=2569.0, total_bedrooms=484.0, population=1030.0, households=451.0, median_income=4.1301, median_house_value=268400.0),\n",
       " Row(longitude=-118.19, latitude=34.16, housing_median_age=49.0, total_rooms=1788.0, total_bedrooms=267.0, population=735.0, households=266.0, median_income=6.6009, median_house_value=375700.0),\n",
       " Row(longitude=-118.22, latitude=34.06, housing_median_age=52.0, total_rooms=48.0, total_bedrooms=6.0, population=41.0, households=10.0, median_income=10.2264, median_house_value=112500.0),\n",
       " Row(longitude=-118.23, latitude=34.2, housing_median_age=51.0, total_rooms=1477.0, total_bedrooms=280.0, population=750.0, households=295.0, median_income=5.3925, median_house_value=317900.0),\n",
       " Row(longitude=-118.24, latitude=34.11, housing_median_age=50.0, total_rooms=2141.0, total_bedrooms=451.0, population=1777.0, households=426.0, median_income=2.7679, median_house_value=178800.0),\n",
       " Row(longitude=-118.24, latitude=34.08, housing_median_age=52.0, total_rooms=109.0, total_bedrooms=20.0, population=86.0, households=24.0, median_income=4.9844, median_house_value=187500.0),\n",
       " Row(longitude=-118.25, latitude=34.05, housing_median_age=52.0, total_rooms=2806.0, total_bedrooms=1944.0, population=2232.0, households=1605.0, median_income=0.6775, median_house_value=350000.0),\n",
       " Row(longitude=-118.25, latitude=34.03, housing_median_age=52.0, total_rooms=1274.0, total_bedrooms=418.0, population=1655.0, households=368.0, median_income=2.1905, median_house_value=124000.0),\n",
       " Row(longitude=-118.25, latitude=33.96, housing_median_age=48.0, total_rooms=1052.0, total_bedrooms=234.0, population=793.0, households=216.0, median_income=1.6585, median_house_value=92900.0),\n",
       " Row(longitude=-118.26, latitude=34.12, housing_median_age=52.0, total_rooms=1942.0, total_bedrooms=476.0, population=1375.0, households=477.0, median_income=2.7348, median_house_value=209100.0),\n",
       " Row(longitude=-118.26, latitude=34.11, housing_median_age=52.0, total_rooms=1740.0, total_bedrooms=402.0, population=749.0, households=335.0, median_income=3.5673, median_house_value=270700.0),\n",
       " Row(longitude=-118.26, latitude=33.99, housing_median_age=47.0, total_rooms=1865.0, total_bedrooms=465.0, population=1916.0, households=438.0, median_income=1.8242, median_house_value=95000.0),\n",
       " Row(longitude=-118.27, latitude=34.13, housing_median_age=47.0, total_rooms=1375.0, total_bedrooms=359.0, population=1512.0, households=418.0, median_income=2.1071, median_house_value=208900.0),\n",
       " Row(longitude=-118.27, latitude=34.03, housing_median_age=51.0, total_rooms=1280.0, total_bedrooms=422.0, population=1560.0, households=381.0, median_income=1.7115, median_house_value=125000.0),\n",
       " Row(longitude=-118.27, latitude=34.01, housing_median_age=47.0, total_rooms=921.0, total_bedrooms=264.0, population=881.0, households=221.0, median_income=1.4327, median_house_value=114100.0),\n",
       " Row(longitude=-118.28, latitude=33.99, housing_median_age=49.0, total_rooms=2174.0, total_bedrooms=481.0, population=1861.0, households=484.0, median_income=1.7159, median_house_value=95000.0),\n",
       " Row(longitude=-118.29, latitude=33.98, housing_median_age=48.0, total_rooms=1124.0, total_bedrooms=231.0, population=783.0, households=223.0, median_income=3.4444, median_house_value=93100.0),\n",
       " Row(longitude=-118.3, latitude=34.0, housing_median_age=52.0, total_rooms=1686.0, total_bedrooms=377.0, population=982.0, households=356.0, median_income=2.0958, median_house_value=116400.0),\n",
       " Row(longitude=-118.3, latitude=34.0, housing_median_age=52.0, total_rooms=1420.0, total_bedrooms=355.0, population=1080.0, households=353.0, median_income=1.5179, median_house_value=116100.0),\n",
       " Row(longitude=-118.31, latitude=34.01, housing_median_age=52.0, total_rooms=1793.0, total_bedrooms=350.0, population=1303.0, households=366.0, median_income=3.0759, median_house_value=123700.0),\n",
       " Row(longitude=-118.32, latitude=34.05, housing_median_age=50.0, total_rooms=1389.0, total_bedrooms=364.0, population=976.0, households=302.0, median_income=1.5882, median_house_value=327300.0),\n",
       " Row(longitude=-118.32, latitude=34.03, housing_median_age=50.0, total_rooms=1845.0, total_bedrooms=349.0, population=1109.0, households=335.0, median_income=2.8971, median_house_value=127800.0),\n",
       " Row(longitude=-118.32, latitude=33.97, housing_median_age=52.0, total_rooms=1590.0, total_bedrooms=302.0, population=844.0, households=295.0, median_income=2.7139, median_house_value=164900.0),\n",
       " Row(longitude=-118.32, latitude=33.96, housing_median_age=47.0, total_rooms=1885.0, total_bedrooms=361.0, population=954.0, households=357.0, median_income=3.8512, median_house_value=171300.0),\n",
       " Row(longitude=-118.32, latitude=33.96, housing_median_age=47.0, total_rooms=1297.0, total_bedrooms=292.0, population=704.0, households=264.0, median_income=3.3214, median_house_value=166500.0),\n",
       " Row(longitude=-118.32, latitude=33.83, housing_median_age=51.0, total_rooms=2399.0, total_bedrooms=516.0, population=1160.0, households=514.0, median_income=3.8456, median_house_value=318900.0),\n",
       " Row(longitude=-118.33, latitude=34.17, housing_median_age=48.0, total_rooms=2584.0, total_bedrooms=483.0, population=1118.0, households=459.0, median_income=4.2396, median_house_value=245100.0),\n",
       " Row(longitude=-118.33, latitude=34.01, housing_median_age=47.0, total_rooms=1320.0, total_bedrooms=259.0, population=653.0, households=291.0, median_income=3.7727, median_house_value=193000.0),\n",
       " Row(longitude=-118.33, latitude=34.0, housing_median_age=47.0, total_rooms=825.0, total_bedrooms=187.0, population=416.0, households=173.0, median_income=2.3333, median_house_value=133300.0),\n",
       " Row(longitude=-118.34, latitude=34.08, housing_median_age=52.0, total_rooms=1430.0, total_bedrooms=186.0, population=547.0, households=178.0, median_income=10.3661, median_house_value=500001.0),\n",
       " Row(longitude=-118.35, latitude=34.07, housing_median_age=52.0, total_rooms=2315.0, total_bedrooms=356.0, population=894.0, households=345.0, median_income=4.1328, median_house_value=500001.0),\n",
       " Row(longitude=-118.35, latitude=34.06, housing_median_age=52.0, total_rooms=3446.0, total_bedrooms=1360.0, population=1768.0, households=1245.0, median_income=2.4722, median_house_value=500001.0),\n",
       " Row(longitude=-118.35, latitude=34.06, housing_median_age=48.0, total_rooms=1354.0, total_bedrooms=279.0, population=716.0, households=309.0, median_income=3.7167, median_house_value=385000.0),\n",
       " Row(longitude=-118.35, latitude=34.05, housing_median_age=47.0, total_rooms=2815.0, total_bedrooms=679.0, population=1533.0, households=594.0, median_income=2.5806, median_house_value=234100.0),\n",
       " Row(longitude=-118.36, latitude=34.05, housing_median_age=47.0, total_rooms=1424.0, total_bedrooms=300.0, population=632.0, households=278.0, median_income=4.0625, median_house_value=295200.0),\n",
       " Row(longitude=-118.36, latitude=34.04, housing_median_age=49.0, total_rooms=995.0, total_bedrooms=184.0, population=462.0, households=194.0, median_income=2.7917, median_house_value=242000.0),\n",
       " Row(longitude=-118.36, latitude=34.04, housing_median_age=48.0, total_rooms=1769.0, total_bedrooms=429.0, population=993.0, households=405.0, median_income=2.3214, median_house_value=139400.0),\n",
       " Row(longitude=-118.37, latitude=34.07, housing_median_age=52.0, total_rooms=2195.0, total_bedrooms=435.0, population=884.0, households=432.0, median_income=5.24, median_house_value=486400.0),\n",
       " Row(longitude=-118.37, latitude=34.06, housing_median_age=52.0, total_rooms=1608.0, total_bedrooms=289.0, population=630.0, households=252.0, median_income=5.5596, median_house_value=500001.0),\n",
       " Row(longitude=-118.39, latitude=34.05, housing_median_age=47.0, total_rooms=1621.0, total_bedrooms=314.0, population=724.0, households=311.0, median_income=5.7509, median_house_value=474100.0),\n",
       " Row(longitude=-119.04, latitude=35.42, housing_median_age=47.0, total_rooms=1691.0, total_bedrooms=402.0, population=913.0, households=358.0, median_income=1.8403, median_house_value=54700.0),\n",
       " Row(longitude=-119.79, latitude=36.75, housing_median_age=52.0, total_rooms=377.0, total_bedrooms=97.0, population=530.0, households=96.0, median_income=1.0, median_house_value=45000.0),\n",
       " Row(longitude=-120.48, latitude=37.3, housing_median_age=49.0, total_rooms=2919.0, total_bedrooms=719.0, population=1956.0, households=679.0, median_income=1.5427, median_house_value=88500.0),\n",
       " Row(longitude=-121.0, latitude=37.71, housing_median_age=52.0, total_rooms=102.0, total_bedrooms=23.0, population=35.0, households=33.0, median_income=2.25, median_house_value=175000.0),\n",
       " Row(longitude=-121.27, latitude=37.96, housing_median_age=52.0, total_rooms=583.0, total_bedrooms=114.0, population=310.0, households=93.0, median_income=2.5625, median_house_value=54200.0),\n",
       " Row(longitude=-121.29, latitude=37.97, housing_median_age=52.0, total_rooms=1610.0, total_bedrooms=480.0, population=1025.0, households=440.0, median_income=1.2962, median_house_value=110200.0),\n",
       " Row(longitude=-121.29, latitude=37.96, housing_median_age=52.0, total_rooms=287.0, total_bedrooms=119.0, population=154.0, households=85.0, median_income=0.8738, median_house_value=75000.0),\n",
       " Row(longitude=-121.44, latitude=38.57, housing_median_age=52.0, total_rooms=3080.0, total_bedrooms=545.0, population=975.0, households=495.0, median_income=3.776, median_house_value=164500.0),\n",
       " Row(longitude=-121.44, latitude=38.56, housing_median_age=52.0, total_rooms=906.0, total_bedrooms=165.0, population=257.0, households=166.0, median_income=2.8542, median_house_value=139400.0),\n",
       " Row(longitude=-121.48, latitude=38.58, housing_median_age=52.0, total_rooms=576.0, total_bedrooms=146.0, population=273.0, households=127.0, median_income=2.01, median_house_value=94300.0),\n",
       " Row(longitude=-121.56, latitude=39.51, housing_median_age=47.0, total_rooms=1064.0, total_bedrooms=245.0, population=603.0, households=190.0, median_income=1.3654, median_house_value=57900.0),\n",
       " Row(longitude=-121.77, latitude=38.69, housing_median_age=47.0, total_rooms=1697.0, total_bedrooms=318.0, population=775.0, households=276.0, median_income=3.4559, median_house_value=123100.0),\n",
       " Row(longitude=-121.82, latitude=38.01, housing_median_age=50.0, total_rooms=1120.0, total_bedrooms=281.0, population=625.0, households=239.0, median_income=1.5988, median_house_value=96400.0),\n",
       " Row(longitude=-121.84, latitude=39.73, housing_median_age=52.0, total_rooms=857.0, total_bedrooms=232.0, population=520.0, households=198.0, median_income=0.987, median_house_value=112500.0),\n",
       " Row(longitude=-121.84, latitude=39.73, housing_median_age=52.0, total_rooms=677.0, total_bedrooms=152.0, population=379.0, households=154.0, median_income=1.6797, median_house_value=94800.0),\n",
       " Row(longitude=-121.84, latitude=39.73, housing_median_age=52.0, total_rooms=502.0, total_bedrooms=100.0, population=311.0, households=100.0, median_income=1.5481, median_house_value=200000.0),\n",
       " Row(longitude=-122.04, latitude=38.25, housing_median_age=52.0, total_rooms=582.0, total_bedrooms=131.0, population=241.0, households=106.0, median_income=2.4, median_house_value=125000.0),\n",
       " Row(longitude=-122.04, latitude=36.97, housing_median_age=49.0, total_rooms=792.0, total_bedrooms=136.0, population=331.0, households=137.0, median_income=5.2128, median_house_value=238600.0),\n",
       " Row(longitude=-122.09, latitude=41.32, housing_median_age=52.0, total_rooms=4019.0, total_bedrooms=824.0, population=1728.0, households=706.0, median_income=2.2462, median_house_value=62900.0),\n",
       " Row(longitude=-122.13, latitude=38.01, housing_median_age=48.0, total_rooms=2123.0, total_bedrooms=494.0, population=859.0, households=474.0, median_income=1.8523, median_house_value=144800.0),\n",
       " Row(longitude=-122.15, latitude=37.74, housing_median_age=52.0, total_rooms=1394.0, total_bedrooms=223.0, population=545.0, households=230.0, median_income=3.95, median_house_value=219000.0),\n",
       " Row(longitude=-122.15, latitude=37.74, housing_median_age=49.0, total_rooms=1494.0, total_bedrooms=316.0, population=611.0, households=288.0, median_income=2.2, median_house_value=187500.0),\n",
       " Row(longitude=-122.15, latitude=37.73, housing_median_age=52.0, total_rooms=1028.0, total_bedrooms=129.0, population=317.0, households=143.0, median_income=4.9135, median_house_value=275000.0),\n",
       " Row(longitude=-122.15, latitude=37.44, housing_median_age=52.0, total_rooms=2063.0, total_bedrooms=320.0, population=774.0, households=309.0, median_income=7.2543, median_house_value=500001.0),\n",
       " Row(longitude=-122.15, latitude=37.44, housing_median_age=52.0, total_rooms=1945.0, total_bedrooms=293.0, population=708.0, households=275.0, median_income=6.1655, median_house_value=500001.0),\n",
       " Row(longitude=-122.16, latitude=37.74, housing_median_age=47.0, total_rooms=824.0, total_bedrooms=223.0, population=533.0, households=166.0, median_income=2.625, median_house_value=98200.0),\n",
       " Row(longitude=-122.16, latitude=37.73, housing_median_age=49.0, total_rooms=1699.0, total_bedrooms=408.0, population=768.0, households=385.0, median_income=2.8301, median_house_value=171600.0),\n",
       " Row(longitude=-122.18, latitude=37.78, housing_median_age=50.0, total_rooms=1642.0, total_bedrooms=322.0, population=713.0, households=284.0, median_income=3.2984, median_house_value=160700.0),\n",
       " Row(longitude=-122.18, latitude=37.76, housing_median_age=52.0, total_rooms=754.0, total_bedrooms=175.0, population=447.0, households=165.0, median_income=3.9063, median_house_value=93800.0),\n",
       " Row(longitude=-122.19, latitude=37.76, housing_median_age=49.0, total_rooms=1368.0, total_bedrooms=282.0, population=790.0, households=269.0, median_income=1.7056, median_house_value=91400.0),\n",
       " Row(longitude=-122.21, latitude=37.78, housing_median_age=52.0, total_rooms=1056.0, total_bedrooms=224.0, population=792.0, households=245.0, median_income=2.6583, median_house_value=142600.0),\n",
       " Row(longitude=-122.22, latitude=38.09, housing_median_age=47.0, total_rooms=2161.0, total_bedrooms=440.0, population=966.0, households=360.0, median_income=2.2734, median_house_value=88700.0),\n",
       " Row(longitude=-122.22, latitude=37.81, housing_median_age=52.0, total_rooms=2927.0, total_bedrooms=402.0, population=1021.0, households=380.0, median_income=8.1564, median_house_value=390100.0),\n",
       " Row(longitude=-122.23, latitude=37.82, housing_median_age=52.0, total_rooms=3051.0, total_bedrooms=381.0, population=1005.0, households=369.0, median_income=8.1872, median_house_value=466100.0),\n",
       " Row(longitude=-122.23, latitude=37.76, housing_median_age=52.0, total_rooms=1316.0, total_bedrooms=177.0, population=378.0, households=162.0, median_income=5.2915, median_house_value=333000.0),\n",
       " Row(longitude=-122.24, latitude=37.83, housing_median_age=52.0, total_rooms=2449.0, total_bedrooms=312.0, population=916.0, households=316.0, median_income=8.1194, median_house_value=471600.0),\n",
       " Row(longitude=-122.24, latitude=37.83, housing_median_age=52.0, total_rooms=1757.0, total_bedrooms=246.0, population=585.0, households=227.0, median_income=5.8948, median_house_value=457800.0),\n",
       " Row(longitude=-122.24, latitude=37.82, housing_median_age=52.0, total_rooms=3665.0, total_bedrooms=517.0, population=1470.0, households=520.0, median_income=6.155, median_house_value=398600.0),\n",
       " Row(longitude=-122.24, latitude=37.82, housing_median_age=52.0, total_rooms=3481.0, total_bedrooms=751.0, population=1444.0, households=718.0, median_income=3.9, median_house_value=275700.0),\n",
       " Row(longitude=-122.24, latitude=37.81, housing_median_age=52.0, total_rooms=2513.0, total_bedrooms=502.0, population=1048.0, households=518.0, median_income=3.675, median_house_value=269900.0),\n",
       " Row(longitude=-122.24, latitude=37.81, housing_median_age=52.0, total_rooms=2485.0, total_bedrooms=313.0, population=953.0, households=327.0, median_income=6.8591, median_house_value=352400.0),\n",
       " Row(longitude=-122.24, latitude=37.48, housing_median_age=47.0, total_rooms=2423.0, total_bedrooms=407.0, population=1010.0, households=407.0, median_income=6.2154, median_house_value=362700.0),\n",
       " Row(longitude=-122.25, latitude=37.87, housing_median_age=52.0, total_rooms=609.0, total_bedrooms=236.0, population=1349.0, households=250.0, median_income=1.1696, median_house_value=500001.0),\n",
       " Row(longitude=-122.25, latitude=37.86, housing_median_age=52.0, total_rooms=4048.0, total_bedrooms=663.0, population=1316.0, households=590.0, median_income=5.3794, median_house_value=376900.0),\n",
       " Row(longitude=-122.25, latitude=37.79, housing_median_age=52.0, total_rooms=902.0, total_bedrooms=237.0, population=846.0, households=227.0, median_income=3.625, median_house_value=125000.0),\n",
       " Row(longitude=-122.25, latitude=37.79, housing_median_age=52.0, total_rooms=1339.0, total_bedrooms=391.0, population=1086.0, households=363.0, median_income=2.181, median_house_value=138800.0),\n",
       " Row(longitude=-122.25, latitude=37.79, housing_median_age=51.0, total_rooms=175.0, total_bedrooms=43.0, population=228.0, households=55.0, median_income=2.1, median_house_value=75000.0),\n",
       " Row(longitude=-122.26, latitude=37.88, housing_median_age=52.0, total_rooms=2363.0, total_bedrooms=604.0, population=1558.0, households=573.0, median_income=2.944, median_house_value=338900.0),\n",
       " Row(longitude=-122.26, latitude=37.87, housing_median_age=52.0, total_rooms=1087.0, total_bedrooms=371.0, population=3337.0, households=350.0, median_income=1.4012, median_house_value=175000.0),\n",
       " Row(longitude=-122.26, latitude=37.86, housing_median_age=52.0, total_rooms=2888.0, total_bedrooms=604.0, population=1253.0, households=538.0, median_income=3.3893, median_house_value=241700.0),\n",
       " Row(longitude=-122.26, latitude=37.85, housing_median_age=52.0, total_rooms=3618.0, total_bedrooms=768.0, population=1508.0, households=755.0, median_income=3.2619, median_house_value=309600.0),\n",
       " Row(longitude=-122.26, latitude=37.85, housing_median_age=52.0, total_rooms=2643.0, total_bedrooms=626.0, population=1212.0, households=620.0, median_income=1.9167, median_house_value=159200.0),\n",
       " Row(longitude=-122.26, latitude=37.77, housing_median_age=52.0, total_rooms=1848.0, total_bedrooms=479.0, population=921.0, households=477.0, median_income=2.875, median_house_value=234000.0),\n",
       " Row(longitude=-122.26, latitude=37.77, housing_median_age=52.0, total_rooms=1670.0, total_bedrooms=350.0, population=793.0, households=299.0, median_income=2.9732, median_house_value=282100.0),\n",
       " Row(longitude=-122.27, latitude=37.85, housing_median_age=52.0, total_rooms=1228.0, total_bedrooms=293.0, population=648.0, households=303.0, median_income=2.1202, median_house_value=155500.0),\n",
       " Row(longitude=-122.28, latitude=37.89, housing_median_age=52.0, total_rooms=2070.0, total_bedrooms=329.0, population=722.0, households=306.0, median_income=5.4171, median_house_value=292000.0),\n",
       " Row(longitude=-122.28, latitude=37.89, housing_median_age=52.0, total_rooms=1225.0, total_bedrooms=169.0, population=412.0, households=168.0, median_income=5.7912, median_house_value=327100.0),\n",
       " Row(longitude=-122.28, latitude=37.88, housing_median_age=52.0, total_rooms=2495.0, total_bedrooms=491.0, population=1058.0, households=464.0, median_income=4.1429, median_house_value=259600.0),\n",
       " Row(longitude=-122.28, latitude=37.88, housing_median_age=52.0, total_rooms=1909.0, total_bedrooms=416.0, population=811.0, households=406.0, median_income=3.006, median_house_value=227900.0),\n",
       " Row(longitude=-122.28, latitude=37.82, housing_median_age=52.0, total_rooms=1238.0, total_bedrooms=288.0, population=622.0, households=259.0, median_income=1.5057, median_house_value=87500.0),\n",
       " Row(longitude=-122.28, latitude=37.81, housing_median_age=52.0, total_rooms=386.0, total_bedrooms=164.0, population=346.0, households=155.0, median_income=0.8075, median_house_value=137500.0),\n",
       " Row(longitude=-122.29, latitude=38.3, housing_median_age=52.0, total_rooms=1219.0, total_bedrooms=288.0, population=847.0, households=283.0, median_income=1.6691, median_house_value=183300.0),\n",
       " Row(longitude=-122.29, latitude=37.83, housing_median_age=52.0, total_rooms=1121.0, total_bedrooms=211.0, population=554.0, households=187.0, median_income=3.3929, median_house_value=75700.0),\n",
       " Row(longitude=-122.3, latitude=38.29, housing_median_age=48.0, total_rooms=2278.0, total_bedrooms=477.0, population=1219.0, households=453.0, median_income=2.9643, median_house_value=154000.0),\n",
       " Row(longitude=-122.34, latitude=37.58, housing_median_age=50.0, total_rooms=2784.0, total_bedrooms=743.0, population=1622.0, households=698.0, median_income=3.8413, median_house_value=372200.0),\n",
       " Row(longitude=-122.4, latitude=37.8, housing_median_age=52.0, total_rooms=2094.0, total_bedrooms=568.0, population=920.0, households=503.0, median_income=4.2015, median_house_value=412500.0),\n",
       " Row(longitude=-122.4, latitude=37.77, housing_median_age=52.0, total_rooms=144.0, total_bedrooms=63.0, population=1061.0, households=68.0, median_income=4.3958, median_house_value=225000.0),\n",
       " Row(longitude=-122.41, latitude=37.78, housing_median_age=52.0, total_rooms=1928.0, total_bedrooms=836.0, population=2124.0, households=739.0, median_income=1.1185, median_house_value=55000.0),\n",
       " Row(longitude=-122.41, latitude=37.78, housing_median_age=52.0, total_rooms=1534.0, total_bedrooms=763.0, population=1520.0, households=614.0, median_income=1.4554, median_house_value=375000.0),\n",
       " Row(longitude=-122.41, latitude=37.77, housing_median_age=52.0, total_rooms=1963.0, total_bedrooms=565.0, population=1628.0, households=524.0, median_income=2.6083, median_house_value=193800.0),\n",
       " Row(longitude=-122.41, latitude=37.76, housing_median_age=52.0, total_rooms=3452.0, total_bedrooms=784.0, population=2987.0, households=753.0, median_income=2.8135, median_house_value=260300.0),\n",
       " Row(longitude=-122.41, latitude=37.71, housing_median_age=47.0, total_rooms=2289.0, total_bedrooms=481.0, population=1697.0, households=465.0, median_income=3.4773, median_house_value=226300.0),\n",
       " Row(longitude=-122.42, latitude=37.79, housing_median_age=52.0, total_rooms=3511.0, total_bedrooms=1232.0, population=2452.0, households=1131.0, median_income=2.5013, median_house_value=275000.0),\n",
       " Row(longitude=-122.42, latitude=37.78, housing_median_age=52.0, total_rooms=989.0, total_bedrooms=425.0, population=634.0, households=341.0, median_income=2.4414, median_house_value=275000.0),\n",
       " Row(longitude=-122.42, latitude=37.75, housing_median_age=52.0, total_rooms=1609.0, total_bedrooms=510.0, population=1155.0, households=439.0, median_income=2.2328, median_house_value=250000.0),\n",
       " Row(longitude=-122.42, latitude=37.75, housing_median_age=52.0, total_rooms=1564.0, total_bedrooms=396.0, population=1162.0, households=374.0, median_income=3.0, median_house_value=275000.0),\n",
       " Row(longitude=-122.42, latitude=37.75, housing_median_age=52.0, total_rooms=1207.0, total_bedrooms=302.0, population=1008.0, households=269.0, median_income=3.3816, median_house_value=262500.0),\n",
       " Row(longitude=-122.42, latitude=37.74, housing_median_age=52.0, total_rooms=2713.0, total_bedrooms=624.0, population=1370.0, households=594.0, median_income=4.6547, median_house_value=325700.0),\n",
       " Row(longitude=-122.42, latitude=37.74, housing_median_age=52.0, total_rooms=2084.0, total_bedrooms=550.0, population=1438.0, households=516.0, median_income=2.3087, median_house_value=258600.0),\n",
       " Row(longitude=-122.43, latitude=37.8, housing_median_age=52.0, total_rooms=2802.0, total_bedrooms=622.0, population=954.0, households=572.0, median_income=4.5399, median_house_value=500001.0),\n",
       " Row(longitude=-122.43, latitude=37.76, housing_median_age=52.0, total_rooms=3771.0, total_bedrooms=1017.0, population=1575.0, households=921.0, median_income=3.5655, median_house_value=427300.0),\n",
       " Row(longitude=-122.43, latitude=37.76, housing_median_age=52.0, total_rooms=2250.0, total_bedrooms=566.0, population=1051.0, households=562.0, median_income=2.8458, median_house_value=350000.0),\n",
       " Row(longitude=-122.43, latitude=37.75, housing_median_age=52.0, total_rooms=3521.0, total_bedrooms=767.0, population=1415.0, households=687.0, median_income=4.875, median_house_value=362200.0),\n",
       " Row(longitude=-122.44, latitude=37.79, housing_median_age=52.0, total_rooms=1726.0, total_bedrooms=384.0, population=614.0, households=356.0, median_income=3.6812, median_house_value=500000.0),\n",
       " Row(longitude=-122.44, latitude=37.78, housing_median_age=52.0, total_rooms=3510.0, total_bedrooms=791.0, population=1703.0, households=657.0, median_income=2.8654, median_house_value=280000.0),\n",
       " Row(longitude=-122.44, latitude=37.78, housing_median_age=52.0, total_rooms=1118.0, total_bedrooms=279.0, population=514.0, households=284.0, median_income=2.4196, median_house_value=346200.0),\n",
       " Row(longitude=-122.44, latitude=37.74, housing_median_age=52.0, total_rooms=2074.0, total_bedrooms=366.0, population=909.0, households=394.0, median_income=4.8382, median_house_value=294900.0),\n",
       " Row(longitude=-122.44, latitude=37.73, housing_median_age=52.0, total_rooms=2838.0, total_bedrooms=567.0, population=1411.0, households=526.0, median_income=3.8304, median_house_value=261400.0),\n",
       " Row(longitude=-122.45, latitude=37.81, housing_median_age=52.0, total_rooms=1375.0, total_bedrooms=322.0, population=287.0, households=184.0, median_income=3.9028, median_house_value=500001.0),\n",
       " Row(longitude=-122.45, latitude=37.79, housing_median_age=52.0, total_rooms=2196.0, total_bedrooms=280.0, population=668.0, households=291.0, median_income=10.0914, median_house_value=500001.0),\n",
       " Row(longitude=-122.45, latitude=37.79, housing_median_age=52.0, total_rooms=1734.0, total_bedrooms=482.0, population=731.0, households=429.0, median_income=1.4804, median_house_value=425000.0),\n",
       " Row(longitude=-122.45, latitude=37.78, housing_median_age=52.0, total_rooms=3975.0, total_bedrooms=716.0, population=1515.0, households=691.0, median_income=5.0156, median_house_value=500001.0),\n",
       " Row(longitude=-122.45, latitude=37.78, housing_median_age=52.0, total_rooms=2033.0, total_bedrooms=438.0, population=2198.0, households=418.0, median_income=3.6667, median_house_value=418400.0),\n",
       " Row(longitude=-122.45, latitude=37.78, housing_median_age=52.0, total_rooms=1345.0, total_bedrooms=291.0, population=560.0, households=294.0, median_income=3.7159, median_house_value=494400.0),\n",
       " Row(longitude=-122.45, latitude=37.72, housing_median_age=47.0, total_rooms=1773.0, total_bedrooms=345.0, population=1083.0, households=315.0, median_income=4.475, median_house_value=221200.0),\n",
       " Row(longitude=-122.45, latitude=37.71, housing_median_age=50.0, total_rooms=1441.0, total_bedrooms=283.0, population=1159.0, households=286.0, median_income=4.5417, median_house_value=233700.0),\n",
       " Row(longitude=-122.45, latitude=37.71, housing_median_age=49.0, total_rooms=2244.0, total_bedrooms=442.0, population=1948.0, households=423.0, median_income=4.7639, median_house_value=251500.0),\n",
       " Row(longitude=-122.46, latitude=37.78, housing_median_age=47.0, total_rooms=1682.0, total_bedrooms=379.0, population=837.0, households=375.0, median_income=5.2806, median_house_value=400000.0),\n",
       " Row(longitude=-122.46, latitude=37.75, housing_median_age=52.0, total_rooms=1849.0, total_bedrooms=287.0, population=695.0, households=258.0, median_income=6.5372, median_house_value=394000.0),\n",
       " Row(longitude=-122.47, latitude=37.75, housing_median_age=49.0, total_rooms=2747.0, total_bedrooms=472.0, population=1281.0, households=448.0, median_income=5.482, median_house_value=366300.0),\n",
       " Row(longitude=-122.48, latitude=38.51, housing_median_age=49.0, total_rooms=1977.0, total_bedrooms=393.0, population=741.0, households=339.0, median_income=3.1312, median_house_value=247600.0),\n",
       " Row(longitude=-122.48, latitude=37.86, housing_median_age=52.0, total_rooms=3914.0, total_bedrooms=752.0, population=1177.0, households=670.0, median_income=6.2113, median_house_value=500001.0),\n",
       " Row(longitude=-122.48, latitude=37.74, housing_median_age=52.0, total_rooms=2453.0, total_bedrooms=508.0, population=1056.0, households=453.0, median_income=3.6859, median_house_value=311800.0),\n",
       " Row(longitude=-122.48, latitude=37.74, housing_median_age=52.0, total_rooms=2166.0, total_bedrooms=423.0, population=1072.0, households=370.0, median_income=4.131, median_house_value=314300.0),\n",
       " Row(longitude=-122.48, latitude=37.73, housing_median_age=47.0, total_rooms=2382.0, total_bedrooms=392.0, population=867.0, households=376.0, median_income=5.2598, median_house_value=371500.0),\n",
       " Row(longitude=-122.49, latitude=37.78, housing_median_age=52.0, total_rooms=3440.0, total_bedrooms=722.0, population=1663.0, households=665.0, median_income=3.0278, median_house_value=356300.0),\n",
       " Row(longitude=-122.52, latitude=37.92, housing_median_age=47.0, total_rooms=793.0, total_bedrooms=163.0, population=334.0, households=151.0, median_income=5.8509, median_house_value=317800.0),\n",
       " Row(longitude=-122.64, latitude=38.24, housing_median_age=52.0, total_rooms=1621.0, total_bedrooms=393.0, population=635.0, households=349.0, median_income=2.5202, median_house_value=244000.0),\n",
       " Row(longitude=-122.64, latitude=38.23, housing_median_age=52.0, total_rooms=1075.0, total_bedrooms=249.0, population=519.0, households=210.0, median_income=3.0769, median_house_value=230900.0),\n",
       " Row(longitude=-122.7, latitude=38.23, housing_median_age=47.0, total_rooms=2090.0, total_bedrooms=387.0, population=1053.0, households=377.0, median_income=3.5673, median_house_value=310300.0),\n",
       " Row(longitude=-122.72, latitude=38.44, housing_median_age=52.0, total_rooms=1059.0, total_bedrooms=281.0, population=627.0, households=273.0, median_income=1.5357, median_house_value=137500.0),\n",
       " Row(longitude=-124.1, latitude=40.47, housing_median_age=52.0, total_rooms=1196.0, total_bedrooms=236.0, population=965.0, households=265.0, median_income=3.5345, median_house_value=55000.0),\n",
       " Row(longitude=-114.61, latitude=34.84, housing_median_age=48.0, total_rooms=1291.0, total_bedrooms=248.0, population=580.0, households=211.0, median_income=2.1571, median_house_value=48600.0),\n",
       " Row(longitude=-117.14, latitude=32.71, housing_median_age=52.0, total_rooms=1225.0, total_bedrooms=332.0, population=955.0, households=321.0, median_income=1.6011, median_house_value=106300.0),\n",
       " Row(longitude=-117.14, latitude=32.7, housing_median_age=48.0, total_rooms=510.0, total_bedrooms=180.0, population=545.0, households=132.0, median_income=1.8008, median_house_value=86500.0),\n",
       " Row(longitude=-117.15, latitude=32.72, housing_median_age=52.0, total_rooms=344.0, total_bedrooms=177.0, population=460.0, households=147.0, median_income=1.2292, median_house_value=137500.0),\n",
       " Row(longitude=-117.16, latitude=32.75, housing_median_age=49.0, total_rooms=1566.0, total_bedrooms=494.0, population=643.0, households=419.0, median_income=1.9637, median_house_value=137500.0),\n",
       " Row(longitude=-117.18, latitude=32.75, housing_median_age=52.0, total_rooms=1504.0, total_bedrooms=208.0, population=518.0, households=196.0, median_income=8.603, median_house_value=459600.0),\n",
       " Row(longitude=-117.18, latitude=32.69, housing_median_age=48.0, total_rooms=2764.0, total_bedrooms=491.0, population=978.0, households=449.0, median_income=5.1249, median_house_value=432400.0),\n",
       " Row(longitude=-117.21, latitude=32.74, housing_median_age=52.0, total_rooms=1245.0, total_bedrooms=174.0, population=468.0, households=193.0, median_income=6.9322, median_house_value=334500.0),\n",
       " Row(longitude=-117.29, latitude=34.15, housing_median_age=49.0, total_rooms=1820.0, total_bedrooms=321.0, population=757.0, households=324.0, median_income=3.2976, median_house_value=102600.0),\n",
       " Row(longitude=-117.29, latitude=34.14, housing_median_age=48.0, total_rooms=1717.0, total_bedrooms=307.0, population=610.0, households=267.0, median_income=3.125, median_house_value=97600.0),\n",
       " Row(longitude=-117.4, latitude=33.96, housing_median_age=51.0, total_rooms=1806.0, total_bedrooms=322.0, population=709.0, households=298.0, median_income=3.575, median_house_value=125500.0),\n",
       " Row(longitude=-117.65, latitude=34.07, housing_median_age=52.0, total_rooms=1041.0, total_bedrooms=252.0, population=558.0, households=231.0, median_income=1.9236, median_house_value=117200.0),\n",
       " Row(longitude=-117.72, latitude=34.1, housing_median_age=52.0, total_rooms=2867.0, total_bedrooms=496.0, population=978.0, households=513.0, median_income=3.1477, median_house_value=291200.0),\n",
       " Row(longitude=-117.74, latitude=34.07, housing_median_age=52.0, total_rooms=1868.0, total_bedrooms=316.0, population=947.0, households=328.0, median_income=4.2415, median_house_value=140100.0),\n",
       " Row(longitude=-117.92, latitude=33.88, housing_median_age=52.0, total_rooms=1270.0, total_bedrooms=276.0, population=609.0, households=211.0, median_income=3.75, median_house_value=232500.0),\n",
       " Row(longitude=-118.01, latitude=34.16, housing_median_age=47.0, total_rooms=1745.0, total_bedrooms=270.0, population=753.0, households=275.0, median_income=5.532, median_house_value=318500.0),\n",
       " Row(longitude=-118.01, latitude=34.15, housing_median_age=52.0, total_rooms=2234.0, total_bedrooms=472.0, population=986.0, households=439.0, median_income=3.9125, median_house_value=265500.0),\n",
       " Row(longitude=-118.08, latitude=34.14, housing_median_age=52.0, total_rooms=1282.0, total_bedrooms=189.0, population=431.0, households=187.0, median_income=6.1159, median_house_value=470800.0),\n",
       " Row(longitude=-118.12, latitude=34.1, housing_median_age=49.0, total_rooms=2057.0, total_bedrooms=430.0, population=1103.0, households=414.0, median_income=4.0556, median_house_value=282600.0),\n",
       " Row(longitude=-118.12, latitude=34.08, housing_median_age=52.0, total_rooms=1437.0, total_bedrooms=290.0, population=980.0, households=282.0, median_income=5.3032, median_house_value=245700.0),\n",
       " Row(longitude=-118.12, latitude=33.75, housing_median_age=47.0, total_rooms=3330.0, total_bedrooms=569.0, population=1220.0, households=557.0, median_income=7.3672, median_house_value=500001.0),\n",
       " Row(longitude=-118.14, latitude=34.19, housing_median_age=49.0, total_rooms=1678.0, total_bedrooms=277.0, population=737.0, households=287.0, median_income=3.7222, median_house_value=237000.0),\n",
       " Row(longitude=-118.15, latitude=34.2, housing_median_age=52.0, total_rooms=1786.0, total_bedrooms=306.0, population=1018.0, households=322.0, median_income=4.1518, median_house_value=182100.0),\n",
       " Row(longitude=-118.15, latitude=34.11, housing_median_age=52.0, total_rooms=2375.0, total_bedrooms=369.0, population=930.0, households=351.0, median_income=7.4111, median_house_value=469100.0),\n",
       " Row(longitude=-118.15, latitude=34.1, housing_median_age=52.0, total_rooms=4325.0, total_bedrooms=823.0, population=1927.0, households=795.0, median_income=3.9485, median_house_value=419100.0),\n",
       " Row(longitude=-118.2, latitude=34.05, housing_median_age=50.0, total_rooms=1407.0, total_bedrooms=401.0, population=1526.0, households=385.0, median_income=2.29, median_house_value=121800.0),\n",
       " Row(longitude=-118.21, latitude=34.1, housing_median_age=47.0, total_rooms=5077.0, total_bedrooms=1271.0, population=3348.0, households=1106.0, median_income=3.0377, median_house_value=186800.0),\n",
       " Row(longitude=-118.22, latitude=34.13, housing_median_age=52.0, total_rooms=791.0, total_bedrooms=174.0, population=501.0, households=162.0, median_income=3.3542, median_house_value=178100.0),\n",
       " Row(longitude=-118.22, latitude=34.13, housing_median_age=47.0, total_rooms=1585.0, total_bedrooms=420.0, population=949.0, households=366.0, median_income=2.7098, median_house_value=173800.0),\n",
       " Row(longitude=-118.22, latitude=33.97, housing_median_age=47.0, total_rooms=1688.0, total_bedrooms=386.0, population=1663.0, households=381.0, median_income=4.0609, median_house_value=171300.0),\n",
       " Row(longitude=-118.23, latitude=34.13, housing_median_age=48.0, total_rooms=737.0, total_bedrooms=166.0, population=462.0, households=131.0, median_income=3.5893, median_house_value=212500.0),\n",
       " Row(longitude=-118.26, latitude=34.07, housing_median_age=52.0, total_rooms=830.0, total_bedrooms=200.0, population=701.0, households=189.0, median_income=2.7625, median_house_value=232100.0),\n",
       " Row(longitude=-118.26, latitude=34.07, housing_median_age=52.0, total_rooms=1802.0, total_bedrooms=613.0, population=2382.0, households=587.0, median_income=1.8438, median_house_value=185900.0),\n",
       " Row(longitude=-118.27, latitude=34.09, housing_median_age=52.0, total_rooms=1079.0, total_bedrooms=222.0, population=439.0, households=201.0, median_income=4.625, median_house_value=230800.0),\n",
       " Row(longitude=-118.27, latitude=34.0, housing_median_age=47.0, total_rooms=780.0, total_bedrooms=237.0, population=888.0, households=215.0, median_income=1.75, median_house_value=95800.0),\n",
       " Row(longitude=-118.28, latitude=34.18, housing_median_age=52.0, total_rooms=2602.0, total_bedrooms=418.0, population=1137.0, households=419.0, median_income=5.3185, median_house_value=358000.0),\n",
       " Row(longitude=-118.28, latitude=34.18, housing_median_age=47.0, total_rooms=2243.0, total_bedrooms=339.0, population=911.0, households=319.0, median_income=7.4046, median_house_value=446800.0),\n",
       " Row(longitude=-118.28, latitude=34.04, housing_median_age=48.0, total_rooms=1521.0, total_bedrooms=513.0, population=1772.0, households=458.0, median_income=2.2232, median_house_value=162500.0),\n",
       " Row(longitude=-118.29, latitude=33.74, housing_median_age=52.0, total_rooms=1438.0, total_bedrooms=472.0, population=1018.0, households=399.0, median_income=2.2188, median_house_value=306700.0),\n",
       " Row(longitude=-118.3, latitude=34.04, housing_median_age=50.0, total_rooms=1757.0, total_bedrooms=522.0, population=2080.0, households=488.0, median_income=1.7225, median_house_value=180000.0),\n",
       " Row(longitude=-118.3, latitude=33.97, housing_median_age=50.0, total_rooms=2270.0, total_bedrooms=451.0, population=1000.0, households=412.0, median_income=2.1221, median_house_value=119400.0),\n",
       " Row(longitude=-118.3, latitude=33.95, housing_median_age=50.0, total_rooms=1843.0, total_bedrooms=326.0, population=892.0, households=314.0, median_income=3.1346, median_house_value=120000.0),\n",
       " Row(longitude=-118.31, latitude=34.0, housing_median_age=52.0, total_rooms=2709.0, total_bedrooms=642.0, population=1751.0, households=613.0, median_income=2.1116, median_house_value=122500.0),\n",
       " Row(longitude=-118.31, latitude=34.0, housing_median_age=52.0, total_rooms=1630.0, total_bedrooms=379.0, population=1413.0, households=405.0, median_income=1.933, median_house_value=120000.0),\n",
       " Row(longitude=-118.31, latitude=34.0, housing_median_age=52.0, total_rooms=1542.0, total_bedrooms=309.0, population=939.0, households=276.0, median_income=1.6892, median_house_value=129100.0),\n",
       " Row(longitude=-118.31, latitude=33.98, housing_median_age=52.0, total_rooms=1975.0, total_bedrooms=379.0, population=1043.0, households=371.0, median_income=2.3977, median_house_value=112200.0),\n",
       " Row(longitude=-118.32, latitude=34.1, housing_median_age=52.0, total_rooms=786.0, total_bedrooms=270.0, population=756.0, households=273.0, median_income=2.2311, median_house_value=206300.0),\n",
       " Row(longitude=-118.32, latitude=34.02, housing_median_age=52.0, total_rooms=2511.0, total_bedrooms=587.0, population=1660.0, households=546.0, median_income=2.6098, median_house_value=127100.0),\n",
       " Row(longitude=-118.32, latitude=34.02, housing_median_age=50.0, total_rooms=1655.0, total_bedrooms=256.0, population=672.0, households=260.0, median_income=4.2554, median_house_value=194300.0),\n",
       " Row(longitude=-118.33, latitude=33.97, housing_median_age=47.0, total_rooms=1830.0, total_bedrooms=369.0, population=922.0, households=377.0, median_income=4.1635, median_house_value=156400.0),\n",
       " Row(longitude=-118.34, latitude=34.08, housing_median_age=52.0, total_rooms=1421.0, total_bedrooms=163.0, population=495.0, households=167.0, median_income=10.586, median_house_value=500001.0),\n",
       " Row(longitude=-118.34, latitude=34.07, housing_median_age=52.0, total_rooms=3175.0, total_bedrooms=1057.0, population=1594.0, households=997.0, median_income=3.1766, median_house_value=225000.0),\n",
       " Row(longitude=-118.34, latitude=34.07, housing_median_age=52.0, total_rooms=1621.0, total_bedrooms=284.0, population=588.0, households=272.0, median_income=6.2223, median_house_value=500001.0),\n",
       " Row(longitude=-118.34, latitude=34.06, housing_median_age=52.0, total_rooms=2069.0, total_bedrooms=417.0, population=826.0, households=377.0, median_income=3.5481, median_house_value=396000.0),\n",
       " Row(longitude=-118.34, latitude=34.06, housing_median_age=52.0, total_rooms=1314.0, total_bedrooms=170.0, population=629.0, households=214.0, median_income=7.1669, median_house_value=500001.0),\n",
       " Row(longitude=-118.34, latitude=34.0, housing_median_age=49.0, total_rooms=2465.0, total_bedrooms=372.0, population=1018.0, households=359.0, median_income=4.0, median_house_value=296800.0),\n",
       " Row(longitude=-118.34, latitude=33.99, housing_median_age=48.0, total_rooms=1172.0, total_bedrooms=205.0, population=497.0, households=190.0, median_income=3.825, median_house_value=183000.0),\n",
       " Row(longitude=-118.34, latitude=33.98, housing_median_age=47.0, total_rooms=2649.0, total_bedrooms=684.0, population=2374.0, households=607.0, median_income=2.3882, median_house_value=137700.0),\n",
       " Row(longitude=-118.35, latitude=34.15, housing_median_age=52.0, total_rooms=1680.0, total_bedrooms=238.0, population=493.0, households=211.0, median_income=9.042, median_house_value=500001.0),\n",
       " Row(longitude=-118.38, latitude=34.05, housing_median_age=52.0, total_rooms=2053.0, total_bedrooms=480.0, population=900.0, households=417.0, median_income=3.0707, median_house_value=417900.0),\n",
       " Row(longitude=-118.38, latitude=34.05, housing_median_age=52.0, total_rooms=1241.0, total_bedrooms=210.0, population=526.0, households=214.0, median_income=4.4191, median_house_value=334100.0),\n",
       " Row(longitude=-118.39, latitude=34.04, housing_median_age=52.0, total_rooms=1492.0, total_bedrooms=277.0, population=666.0, households=289.0, median_income=4.7386, median_house_value=340400.0),\n",
       " Row(longitude=-118.41, latitude=34.04, housing_median_age=52.0, total_rooms=2113.0, total_bedrooms=332.0, population=800.0, households=327.0, median_income=11.1768, median_house_value=500001.0),\n",
       " Row(longitude=-118.41, latitude=34.04, housing_median_age=52.0, total_rooms=1907.0, total_bedrooms=261.0, population=681.0, households=249.0, median_income=10.9805, median_house_value=500001.0),\n",
       " Row(longitude=-118.41, latitude=34.04, housing_median_age=49.0, total_rooms=601.0, total_bedrooms=95.0, population=228.0, households=106.0, median_income=8.0239, median_house_value=500001.0),\n",
       " Row(longitude=-118.42, latitude=34.08, housing_median_age=48.0, total_rooms=2413.0, total_bedrooms=261.0, population=770.0, households=248.0, median_income=15.0001, median_house_value=500001.0),\n",
       " Row(longitude=-118.42, latitude=34.06, housing_median_age=52.0, total_rooms=1881.0, total_bedrooms=334.0, population=640.0, households=321.0, median_income=6.871, median_house_value=500001.0),\n",
       " Row(longitude=-118.42, latitude=34.04, housing_median_age=51.0, total_rooms=1975.0, total_bedrooms=348.0, population=771.0, households=357.0, median_income=6.626, median_house_value=500001.0),\n",
       " Row(longitude=-118.45, latitude=34.06, housing_median_age=52.0, total_rooms=204.0, total_bedrooms=34.0, population=1154.0, households=28.0, median_income=9.337, median_house_value=500001.0),\n",
       " Row(longitude=-118.99, latitude=35.4, housing_median_age=48.0, total_rooms=1908.0, total_bedrooms=331.0, population=789.0, households=321.0, median_income=3.5714, median_house_value=84600.0),\n",
       " Row(longitude=-119.02, latitude=35.39, housing_median_age=52.0, total_rooms=191.0, total_bedrooms=52.0, population=106.0, households=49.0, median_income=2.0455, median_house_value=72500.0),\n",
       " Row(longitude=-119.03, latitude=35.37, housing_median_age=52.0, total_rooms=1503.0, total_bedrooms=367.0, population=554.0, households=277.0, median_income=1.6786, median_house_value=126600.0),\n",
       " Row(longitude=-119.3, latitude=34.29, housing_median_age=50.0, total_rooms=3128.0, total_bedrooms=825.0, population=2535.0, households=783.0, median_income=2.3669, median_house_value=165300.0),\n",
       " Row(longitude=-119.68, latitude=34.43, housing_median_age=49.0, total_rooms=1785.0, total_bedrooms=386.0, population=1267.0, households=380.0, median_income=3.5208, median_house_value=251200.0),\n",
       " Row(longitude=-119.81, latitude=36.77, housing_median_age=48.0, total_rooms=1805.0, total_bedrooms=329.0, population=741.0, households=331.0, median_income=2.5804, median_house_value=78900.0),\n",
       " Row(longitude=-119.82, latitude=36.74, housing_median_age=52.0, total_rooms=610.0, total_bedrooms=128.0, population=406.0, households=122.0, median_income=1.8967, median_house_value=43800.0),\n",
       " Row(longitude=-120.46, latitude=34.63, housing_median_age=48.0, total_rooms=1408.0, total_bedrooms=301.0, population=682.0, households=279.0, median_income=2.9271, median_house_value=146600.0),\n",
       " Row(longitude=-120.64, latitude=40.41, housing_median_age=50.0, total_rooms=1741.0, total_bedrooms=424.0, population=987.0, households=383.0, median_income=1.5066, median_house_value=59300.0),\n",
       " Row(longitude=-120.85, latitude=37.77, housing_median_age=52.0, total_rooms=436.0, total_bedrooms=81.0, population=197.0, households=68.0, median_income=1.8625, median_house_value=85400.0),\n",
       " Row(longitude=-121.0, latitude=37.65, housing_median_age=52.0, total_rooms=3887.0, total_bedrooms=803.0, population=1768.0, households=779.0, median_income=2.5089, median_house_value=119000.0),\n",
       " Row(longitude=-121.02, latitude=39.27, housing_median_age=52.0, total_rooms=3720.0, total_bedrooms=707.0, population=1424.0, households=609.0, median_income=3.2, median_house_value=155000.0),\n",
       " Row(longitude=-121.27, latitude=37.95, housing_median_age=52.0, total_rooms=1318.0, total_bedrooms=308.0, population=1368.0, households=310.0, median_income=1.8261, median_house_value=54600.0),\n",
       " Row(longitude=-121.29, latitude=37.96, housing_median_age=48.0, total_rooms=1778.0, total_bedrooms=541.0, population=1237.0, households=462.0, median_income=1.3438, median_house_value=103100.0),\n",
       " Row(longitude=-121.3, latitude=37.97, housing_median_age=52.0, total_rooms=2980.0, total_bedrooms=537.0, population=1128.0, households=510.0, median_income=4.061, median_house_value=113600.0),\n",
       " Row(longitude=-121.44, latitude=38.54, housing_median_age=47.0, total_rooms=2518.0, total_bedrooms=501.0, population=1308.0, households=471.0, median_income=2.5389, median_house_value=75700.0),\n",
       " Row(longitude=-121.45, latitude=38.57, housing_median_age=48.0, total_rooms=1962.0, total_bedrooms=356.0, population=704.0, households=362.0, median_income=3.5313, median_house_value=147900.0),\n",
       " Row(longitude=-121.46, latitude=38.58, housing_median_age=52.0, total_rooms=4408.0, total_bedrooms=807.0, population=1604.0, households=777.0, median_income=3.8914, median_house_value=181600.0),\n",
       " Row(longitude=-121.46, latitude=38.57, housing_median_age=52.0, total_rooms=810.0, total_bedrooms=172.0, population=326.0, households=151.0, median_income=3.1583, median_house_value=140000.0),\n",
       " Row(longitude=-121.46, latitude=38.56, housing_median_age=52.0, total_rooms=1878.0, total_bedrooms=393.0, population=722.0, households=381.0, median_income=3.3348, median_house_value=122800.0),\n",
       " Row(longitude=-121.46, latitude=38.55, housing_median_age=52.0, total_rooms=3126.0, total_bedrooms=648.0, population=1789.0, households=558.0, median_income=1.7616, median_house_value=84100.0),\n",
       " Row(longitude=-121.47, latitude=38.58, housing_median_age=52.0, total_rooms=2035.0, total_bedrooms=483.0, population=904.0, households=459.0, median_income=2.6976, median_house_value=109300.0),\n",
       " Row(longitude=-121.47, latitude=38.57, housing_median_age=52.0, total_rooms=438.0, total_bedrooms=103.0, population=176.0, households=99.0, median_income=3.0217, median_house_value=200000.0),\n",
       " Row(longitude=-121.47, latitude=38.57, housing_median_age=50.0, total_rooms=3233.0, total_bedrooms=968.0, population=1223.0, households=837.0, median_income=1.2041, median_house_value=168100.0),\n",
       " Row(longitude=-121.47, latitude=38.56, housing_median_age=52.0, total_rooms=889.0, total_bedrooms=162.0, population=273.0, households=145.0, median_income=3.125, median_house_value=85600.0),\n",
       " Row(longitude=-121.47, latitude=38.56, housing_median_age=52.0, total_rooms=1532.0, total_bedrooms=408.0, population=782.0, households=369.0, median_income=1.8911, median_house_value=85900.0),\n",
       " Row(longitude=-121.47, latitude=38.55, housing_median_age=52.0, total_rooms=1384.0, total_bedrooms=295.0, population=561.0, households=244.0, median_income=2.0242, median_house_value=94600.0),\n",
       " Row(longitude=-121.48, latitude=38.57, housing_median_age=52.0, total_rooms=567.0, total_bedrooms=193.0, population=272.0, households=187.0, median_income=1.625, median_house_value=187500.0),\n",
       " Row(longitude=-121.48, latitude=38.56, housing_median_age=52.0, total_rooms=814.0, total_bedrooms=216.0, population=327.0, households=181.0, median_income=2.8542, median_house_value=125000.0),\n",
       " Row(longitude=-121.49, latitude=38.58, housing_median_age=52.0, total_rooms=569.0, total_bedrooms=405.0, population=509.0, households=367.0, median_income=0.9196, median_house_value=137500.0),\n",
       " Row(longitude=-121.49, latitude=38.58, housing_median_age=52.0, total_rooms=1000.0, total_bedrooms=324.0, population=456.0, households=250.0, median_income=1.4375, median_house_value=168800.0),\n",
       " Row(longitude=-121.49, latitude=38.56, housing_median_age=52.0, total_rooms=1844.0, total_bedrooms=392.0, population=667.0, households=353.0, median_income=3.0033, median_house_value=103500.0),\n",
       " Row(longitude=-121.76, latitude=38.94, housing_median_age=48.0, total_rooms=540.0, total_bedrooms=110.0, population=234.0, households=74.0, median_income=3.6111, median_house_value=67500.0),\n",
       " Row(longitude=-121.83, latitude=39.73, housing_median_age=52.0, total_rooms=1741.0, total_bedrooms=401.0, population=753.0, households=377.0, median_income=2.0064, median_house_value=77900.0),\n",
       " Row(longitude=-121.85, latitude=39.73, housing_median_age=52.0, total_rooms=444.0, total_bedrooms=80.0, population=1107.0, households=98.0, median_income=3.4191, median_house_value=137500.0),\n",
       " Row(longitude=-121.87, latitude=37.34, housing_median_age=52.0, total_rooms=1170.0, total_bedrooms=215.0, population=604.0, households=207.0, median_income=2.6667, median_house_value=325900.0),\n",
       " Row(longitude=-121.9, latitude=37.33, housing_median_age=52.0, total_rooms=1009.0, total_bedrooms=231.0, population=929.0, households=210.0, median_income=2.5, median_house_value=162500.0),\n",
       " Row(longitude=-121.92, latitude=37.33, housing_median_age=52.0, total_rooms=2009.0, total_bedrooms=338.0, population=841.0, households=338.0, median_income=5.5259, median_house_value=295800.0),\n",
       " Row(longitude=-121.92, latitude=36.55, housing_median_age=52.0, total_rooms=2616.0, total_bedrooms=483.0, population=582.0, households=313.0, median_income=3.275, median_house_value=500001.0),\n",
       " Row(longitude=-121.95, latitude=37.35, housing_median_age=48.0, total_rooms=1246.0, total_bedrooms=294.0, population=697.0, households=284.0, median_income=3.6118, median_house_value=235500.0),\n",
       " Row(longitude=-122.0, latitude=36.93, housing_median_age=51.0, total_rooms=1616.0, total_bedrooms=374.0, population=608.0, households=302.0, median_income=3.1932, median_house_value=400000.0),\n",
       " Row(longitude=-122.01, latitude=36.95, housing_median_age=52.0, total_rooms=1217.0, total_bedrooms=325.0, population=508.0, households=237.0, median_income=2.0547, median_house_value=326700.0),\n",
       " Row(longitude=-122.08, latitude=37.4, housing_median_age=52.0, total_rooms=766.0, total_bedrooms=203.0, population=448.0, households=196.0, median_income=2.5208, median_house_value=316700.0),\n",
       " Row(longitude=-122.12, latitude=38.01, housing_median_age=50.0, total_rooms=1300.0, total_bedrooms=263.0, population=691.0, households=239.0, median_income=3.9519, median_house_value=126500.0),\n",
       " Row(longitude=-122.16, latitude=37.77, housing_median_age=47.0, total_rooms=1256.0, total_bedrooms=217.0, population=570.0, households=218.0, median_income=4.375, median_house_value=161900.0),\n",
       " Row(longitude=-122.17, latitude=37.75, housing_median_age=47.0, total_rooms=998.0, total_bedrooms=211.0, population=597.0, households=185.0, median_income=3.1587, median_house_value=100400.0),\n",
       " Row(longitude=-122.19, latitude=37.8, housing_median_age=48.0, total_rooms=1694.0, total_bedrooms=259.0, population=610.0, households=238.0, median_income=4.744, median_house_value=257300.0),\n",
       " Row(longitude=-122.19, latitude=37.79, housing_median_age=50.0, total_rooms=968.0, total_bedrooms=195.0, population=462.0, households=184.0, median_income=2.9844, median_house_value=179900.0),\n",
       " Row(longitude=-122.19, latitude=37.79, housing_median_age=50.0, total_rooms=954.0, total_bedrooms=217.0, population=546.0, households=201.0, median_income=2.6667, median_house_value=172800.0),\n",
       " Row(longitude=-122.2, latitude=37.79, housing_median_age=49.0, total_rooms=882.0, total_bedrooms=195.0, population=737.0, households=210.0, median_income=2.6667, median_house_value=122000.0),\n",
       " Row(longitude=-122.2, latitude=37.78, housing_median_age=52.0, total_rooms=2300.0, total_bedrooms=443.0, population=1225.0, households=423.0, median_income=3.5398, median_house_value=158400.0),\n",
       " Row(longitude=-122.21, latitude=38.06, housing_median_age=52.0, total_rooms=2735.0, total_bedrooms=559.0, population=1076.0, households=487.0, median_income=3.6154, median_house_value=155700.0),\n",
       " Row(longitude=-122.22, latitude=37.8, housing_median_age=52.0, total_rooms=2721.0, total_bedrooms=541.0, population=1185.0, households=515.0, median_income=4.5428, median_house_value=239800.0),\n",
       " Row(longitude=-122.23, latitude=37.79, housing_median_age=52.0, total_rooms=1783.0, total_bedrooms=395.0, population=1659.0, households=412.0, median_income=2.9357, median_house_value=107900.0),\n",
       " Row(longitude=-122.23, latitude=37.79, housing_median_age=48.0, total_rooms=1696.0, total_bedrooms=396.0, population=1481.0, households=343.0, median_income=2.0375, median_house_value=122500.0),\n",
       " Row(longitude=-122.24, latitude=37.8, housing_median_age=52.0, total_rooms=1591.0, total_bedrooms=373.0, population=1118.0, households=347.0, median_income=2.1563, median_house_value=128600.0),\n",
       " Row(longitude=-122.24, latitude=37.8, housing_median_age=49.0, total_rooms=2838.0, total_bedrooms=749.0, population=1487.0, households=677.0, median_income=2.5238, median_house_value=169300.0),\n",
       " Row(longitude=-122.24, latitude=37.79, housing_median_age=52.0, total_rooms=674.0, total_bedrooms=180.0, population=647.0, households=168.0, median_income=3.375, median_house_value=116100.0),\n",
       " Row(longitude=-122.25, latitude=37.85, housing_median_age=52.0, total_rooms=1274.0, total_bedrooms=235.0, population=558.0, households=219.0, median_income=5.6431, median_house_value=341300.0),\n",
       " Row(longitude=-122.25, latitude=37.84, housing_median_age=52.0, total_rooms=2535.0, total_bedrooms=489.0, population=1094.0, households=514.0, median_income=3.6591, median_house_value=299200.0),\n",
       " Row(longitude=-122.25, latitude=37.83, housing_median_age=52.0, total_rooms=4190.0, total_bedrooms=1105.0, population=1786.0, households=1037.0, median_income=3.0897, median_house_value=234100.0),\n",
       " Row(longitude=-122.25, latitude=37.83, housing_median_age=52.0, total_rooms=2376.0, total_bedrooms=559.0, population=939.0, households=519.0, median_income=3.1484, median_house_value=224100.0),\n",
       " Row(longitude=-122.25, latitude=37.77, housing_median_age=52.0, total_rooms=859.0, total_bedrooms=157.0, population=429.0, households=158.0, median_income=4.3098, median_house_value=197900.0),\n",
       " Row(longitude=-122.25, latitude=37.77, housing_median_age=52.0, total_rooms=2650.0, total_bedrooms=566.0, population=1468.0, households=567.0, median_income=3.0161, median_house_value=215700.0),\n",
       " Row(longitude=-122.25, latitude=37.77, housing_median_age=52.0, total_rooms=1038.0, total_bedrooms=220.0, population=482.0, households=215.0, median_income=3.1771, median_house_value=210200.0),\n",
       " Row(longitude=-122.25, latitude=37.76, housing_median_age=52.0, total_rooms=2876.0, total_bedrooms=648.0, population=1340.0, households=632.0, median_income=3.567, median_house_value=252900.0),\n",
       " Row(longitude=-122.26, latitude=38.11, housing_median_age=52.0, total_rooms=2573.0, total_bedrooms=639.0, population=1238.0, households=529.0, median_income=2.6708, median_house_value=109700.0),\n",
       " Row(longitude=-122.26, latitude=37.85, housing_median_age=52.0, total_rooms=2491.0, total_bedrooms=474.0, population=1098.0, households=468.0, median_income=3.075, median_house_value=213500.0),\n",
       " Row(longitude=-122.26, latitude=37.84, housing_median_age=52.0, total_rooms=696.0, total_bedrooms=191.0, population=345.0, households=174.0, median_income=2.6736, median_house_value=191300.0),\n",
       " Row(longitude=-122.26, latitude=37.83, housing_median_age=52.0, total_rooms=1656.0, total_bedrooms=420.0, population=718.0, households=382.0, median_income=2.6768, median_house_value=182300.0),\n",
       " Row(longitude=-122.26, latitude=37.83, housing_median_age=52.0, total_rooms=1443.0, total_bedrooms=311.0, population=660.0, households=292.0, median_income=3.0125, median_house_value=184400.0),\n",
       " Row(longitude=-122.26, latitude=37.5, housing_median_age=52.0, total_rooms=878.0, total_bedrooms=186.0, population=393.0, households=186.0, median_income=3.7045, median_house_value=360500.0),\n",
       " Row(longitude=-122.27, latitude=37.9, housing_median_age=52.0, total_rooms=1803.0, total_bedrooms=240.0, population=572.0, households=236.0, median_income=6.174, median_house_value=358800.0),\n",
       " Row(longitude=-122.27, latitude=37.89, housing_median_age=52.0, total_rooms=1978.0, total_bedrooms=293.0, population=723.0, households=272.0, median_income=5.3989, median_house_value=335600.0),\n",
       " Row(longitude=-122.27, latitude=37.81, housing_median_age=52.0, total_rooms=210.0, total_bedrooms=56.0, population=183.0, households=56.0, median_income=1.1667, median_house_value=112500.0),\n",
       " Row(longitude=-122.28, latitude=37.86, housing_median_age=49.0, total_rooms=2932.0, total_bedrooms=668.0, population=1361.0, households=608.0, median_income=1.9798, median_house_value=147400.0),\n",
       " Row(longitude=-122.28, latitude=37.85, housing_median_age=52.0, total_rooms=2246.0, total_bedrooms=472.0, population=1005.0, households=449.0, median_income=2.4167, median_house_value=152700.0),\n",
       " Row(longitude=-122.28, latitude=37.85, housing_median_age=52.0, total_rooms=1898.0, total_bedrooms=421.0, population=1102.0, households=397.0, median_income=1.808, median_house_value=105500.0),\n",
       " Row(longitude=-122.28, latitude=37.78, housing_median_age=50.0, total_rooms=1487.0, total_bedrooms=306.0, population=730.0, households=327.0, median_income=2.5139, median_house_value=219000.0),\n",
       " Row(longitude=-122.33, latitude=37.55, housing_median_age=51.0, total_rooms=2565.0, total_bedrooms=332.0, population=870.0, households=309.0, median_income=9.3694, median_house_value=500001.0),\n",
       " Row(longitude=-122.34, latitude=37.57, housing_median_age=52.0, total_rooms=2547.0, total_bedrooms=373.0, population=876.0, households=359.0, median_income=8.2598, median_house_value=500001.0),\n",
       " Row(longitude=-122.35, latitude=37.57, housing_median_age=52.0, total_rooms=2059.0, total_bedrooms=345.0, population=800.0, households=308.0, median_income=4.97, median_house_value=500001.0),\n",
       " Row(longitude=-122.38, latitude=37.71, housing_median_age=47.0, total_rooms=1088.0, total_bedrooms=190.0, population=558.0, households=166.0, median_income=4.2708, median_house_value=207100.0),\n",
       " Row(longitude=-122.39, latitude=37.76, housing_median_age=52.0, total_rooms=2316.0, total_bedrooms=468.0, population=1047.0, households=476.0, median_income=4.5057, median_house_value=321600.0),\n",
       " Row(longitude=-122.39, latitude=37.76, housing_median_age=52.0, total_rooms=157.0, total_bedrooms=28.0, population=88.0, households=27.0, median_income=3.675, median_house_value=162500.0),\n",
       " Row(longitude=-122.39, latitude=37.73, housing_median_age=52.0, total_rooms=1931.0, total_bedrooms=329.0, population=1025.0, households=293.0, median_income=2.9063, median_house_value=192000.0),\n",
       " Row(longitude=-122.4, latitude=37.76, housing_median_age=52.0, total_rooms=4265.0, total_bedrooms=912.0, population=1555.0, households=836.0, median_income=4.119, median_house_value=298300.0),\n",
       " Row(longitude=-122.4, latitude=37.76, housing_median_age=52.0, total_rooms=1529.0, total_bedrooms=385.0, population=1347.0, households=348.0, median_income=2.9312, median_house_value=239100.0),\n",
       " Row(longitude=-122.4, latitude=37.76, housing_median_age=52.0, total_rooms=1495.0, total_bedrooms=311.0, population=506.0, households=275.0, median_income=4.4375, median_house_value=320000.0),\n",
       " Row(longitude=-122.41, latitude=37.75, housing_median_age=52.0, total_rooms=3065.0, total_bedrooms=622.0, population=1405.0, households=606.0, median_income=3.7813, median_house_value=275900.0),\n",
       " Row(longitude=-122.41, latitude=37.75, housing_median_age=52.0, total_rooms=1678.0, total_bedrooms=386.0, population=1220.0, households=357.0, median_income=2.5809, median_house_value=255300.0),\n",
       " Row(longitude=-122.42, latitude=37.77, housing_median_age=52.0, total_rooms=4226.0, total_bedrooms=1315.0, population=2619.0, households=1242.0, median_income=2.5755, median_house_value=325000.0),\n",
       " Row(longitude=-122.42, latitude=37.77, housing_median_age=52.0, total_rooms=2185.0, total_bedrooms=656.0, population=1266.0, households=626.0, median_income=2.7794, median_house_value=350000.0),\n",
       " Row(longitude=-122.42, latitude=37.77, housing_median_age=52.0, total_rooms=1176.0, total_bedrooms=493.0, population=1136.0, households=436.0, median_income=1.375, median_house_value=312500.0),\n",
       " Row(longitude=-122.42, latitude=37.74, housing_median_age=52.0, total_rooms=1651.0, total_bedrooms=351.0, population=973.0, households=366.0, median_income=3.4583, median_house_value=240900.0),\n",
       " Row(longitude=-122.42, latitude=37.73, housing_median_age=48.0, total_rooms=1474.0, total_bedrooms=308.0, population=998.0, households=330.0, median_income=4.0781, median_house_value=250300.0),\n",
       " Row(longitude=-122.43, latitude=37.79, housing_median_age=52.0, total_rooms=3565.0, total_bedrooms=892.0, population=1377.0, households=852.0, median_income=3.8068, median_house_value=500001.0),\n",
       " Row(longitude=-122.43, latitude=37.75, housing_median_age=52.0, total_rooms=2721.0, total_bedrooms=581.0, population=1043.0, households=519.0, median_income=3.7545, median_house_value=383700.0),\n",
       " Row(longitude=-122.43, latitude=37.75, housing_median_age=52.0, total_rooms=2459.0, total_bedrooms=507.0, population=1012.0, households=475.0, median_income=4.0568, median_house_value=387900.0),\n",
       " Row(longitude=-122.43, latitude=37.75, housing_median_age=52.0, total_rooms=1970.0, total_bedrooms=495.0, population=871.0, households=474.0, median_income=4.0625, median_house_value=355600.0),\n",
       " Row(longitude=-122.44, latitude=37.8, housing_median_age=52.0, total_rooms=3149.0, total_bedrooms=719.0, population=1145.0, households=658.0, median_income=4.625, median_house_value=500001.0),\n",
       " Row(longitude=-122.44, latitude=37.72, housing_median_age=49.0, total_rooms=1557.0, total_bedrooms=405.0, population=1173.0, households=385.0, median_income=3.4605, median_house_value=265000.0),\n",
       " Row(longitude=-122.44, latitude=37.72, housing_median_age=48.0, total_rooms=2675.0, total_bedrooms=585.0, population=1773.0, households=540.0, median_income=3.9565, median_house_value=268500.0),\n",
       " Row(longitude=-122.45, latitude=37.77, housing_median_age=52.0, total_rooms=3188.0, total_bedrooms=708.0, population=1526.0, households=664.0, median_income=3.3068, median_house_value=500001.0),\n",
       " Row(longitude=-122.46, latitude=37.73, housing_median_age=52.0, total_rooms=2857.0, total_bedrooms=469.0, population=1431.0, households=496.0, median_income=5.2088, median_house_value=344200.0),\n",
       " Row(longitude=-122.46, latitude=37.72, housing_median_age=49.0, total_rooms=1207.0, total_bedrooms=255.0, population=658.0, households=220.0, median_income=4.0859, median_house_value=228600.0),\n",
       " Row(longitude=-122.47, latitude=37.78, housing_median_age=52.0, total_rooms=3021.0, total_bedrooms=569.0, population=1479.0, households=514.0, median_income=4.0208, median_house_value=414600.0),\n",
       " Row(longitude=-122.47, latitude=37.73, housing_median_age=52.0, total_rooms=2134.0, total_bedrooms=277.0, population=936.0, households=285.0, median_income=5.9245, median_house_value=484600.0),\n",
       " Row(longitude=-122.47, latitude=37.73, housing_median_age=50.0, total_rooms=1653.0, total_bedrooms=252.0, population=641.0, households=224.0, median_income=10.6605, median_house_value=500001.0),\n",
       " Row(longitude=-122.47, latitude=37.72, housing_median_age=49.0, total_rooms=1690.0, total_bedrooms=307.0, population=770.0, households=294.0, median_income=4.5913, median_house_value=259700.0),\n",
       " Row(longitude=-122.48, latitude=37.79, housing_median_age=52.0, total_rooms=4683.0, total_bedrooms=1055.0, population=2246.0, households=975.0, median_income=4.1148, median_house_value=457800.0),\n",
       " Row(longitude=-122.48, latitude=37.79, housing_median_age=52.0, total_rooms=1647.0, total_bedrooms=236.0, population=546.0, households=227.0, median_income=9.1881, median_house_value=500001.0),\n",
       " Row(longitude=-122.48, latitude=37.78, housing_median_age=52.0, total_rooms=2666.0, total_bedrooms=515.0, population=1362.0, households=494.0, median_income=4.218, median_house_value=393800.0),\n",
       " Row(longitude=-122.48, latitude=37.78, housing_median_age=48.0, total_rooms=2835.0, total_bedrooms=728.0, population=1674.0, households=684.0, median_income=3.129, median_house_value=375000.0),\n",
       " Row(longitude=-122.48, latitude=37.77, housing_median_age=52.0, total_rooms=2556.0, total_bedrooms=595.0, population=1202.0, households=568.0, median_income=3.8899, median_house_value=348500.0),\n",
       " Row(longitude=-122.48, latitude=37.76, housing_median_age=52.0, total_rooms=3260.0, total_bedrooms=653.0, population=1594.0, households=632.0, median_income=4.4094, median_house_value=336100.0),\n",
       " Row(longitude=-122.49, latitude=37.77, housing_median_age=52.0, total_rooms=2342.0, total_bedrooms=458.0, population=1170.0, households=458.0, median_income=3.7036, median_house_value=369200.0),\n",
       " Row(longitude=-122.49, latitude=37.76, housing_median_age=52.0, total_rooms=1792.0, total_bedrooms=305.0, population=782.0, households=287.0, median_income=4.0391, median_house_value=332700.0),\n",
       " Row(longitude=-122.49, latitude=37.76, housing_median_age=49.0, total_rooms=1724.0, total_bedrooms=295.0, population=795.0, households=297.0, median_income=4.3977, median_house_value=353600.0),\n",
       " Row(longitude=-122.49, latitude=37.75, housing_median_age=47.0, total_rooms=2140.0, total_bedrooms=425.0, population=1105.0, households=401.0, median_income=3.7054, median_house_value=308500.0),\n",
       " Row(longitude=-122.71, latitude=38.45, housing_median_age=48.0, total_rooms=3118.0, total_bedrooms=561.0, population=1275.0, households=530.0, median_income=3.455, median_house_value=222100.0),\n",
       " Row(longitude=-122.71, latitude=38.43, housing_median_age=52.0, total_rooms=1439.0, total_bedrooms=325.0, population=738.0, households=316.0, median_income=2.2262, median_house_value=129900.0),\n",
       " Row(longitude=-123.02, latitude=38.46, housing_median_age=52.0, total_rooms=2154.0, total_bedrooms=499.0, population=524.0, households=259.0, median_income=2.0556, median_house_value=120000.0),\n",
       " Row(longitude=-124.16, latitude=40.8, housing_median_age=52.0, total_rooms=2416.0, total_bedrooms=618.0, population=1150.0, households=571.0, median_income=1.7308, median_house_value=80500.0),\n",
       " Row(longitude=-124.26, latitude=40.58, housing_median_age=52.0, total_rooms=2217.0, total_bedrooms=394.0, population=907.0, households=369.0, median_income=2.3571, median_house_value=111400.0),\n",
       " Row(longitude=-117.1, latitude=32.77, housing_median_age=49.0, total_rooms=4449.0, total_bedrooms=711.0, population=1606.0, households=709.0, median_income=5.7768, median_house_value=281600.0),\n",
       " Row(longitude=-117.11, latitude=32.77, housing_median_age=52.0, total_rooms=1506.0, total_bedrooms=233.0, population=478.0, households=240.0, median_income=4.3875, median_house_value=300000.0),\n",
       " Row(longitude=-117.11, latitude=32.67, housing_median_age=52.0, total_rooms=280.0, total_bedrooms=71.0, population=217.0, households=71.0, median_income=1.4844, median_house_value=83300.0),\n",
       " Row(longitude=-117.15, latitude=32.72, housing_median_age=51.0, total_rooms=1321.0, total_bedrooms=550.0, population=781.0, households=499.0, median_income=1.3071, median_house_value=250000.0),\n",
       " Row(longitude=-117.15, latitude=32.71, housing_median_age=52.0, total_rooms=402.0, total_bedrooms=183.0, population=557.0, households=172.0, median_income=1.3125, median_house_value=87500.0),\n",
       " Row(longitude=-117.16, latitude=32.73, housing_median_age=52.0, total_rooms=1218.0, total_bedrooms=471.0, population=821.0, households=429.0, median_income=1.9597, median_house_value=200000.0),\n",
       " Row(longitude=-117.19, latitude=32.76, housing_median_age=52.0, total_rooms=1294.0, total_bedrooms=175.0, population=434.0, households=180.0, median_income=5.7914, median_house_value=500001.0),\n",
       " Row(longitude=-117.71, latitude=34.1, housing_median_age=52.0, total_rooms=567.0, total_bedrooms=152.0, population=2688.0, households=126.0, median_income=1.875, median_house_value=212500.0),\n",
       " Row(longitude=-117.87, latitude=33.77, housing_median_age=52.0, total_rooms=2512.0, total_bedrooms=356.0, population=978.0, households=365.0, median_income=8.0784, median_house_value=320300.0),\n",
       " Row(longitude=-117.88, latitude=33.75, housing_median_age=50.0, total_rooms=1344.0, total_bedrooms=228.0, population=747.0, households=234.0, median_income=4.5125, median_house_value=195400.0),\n",
       " Row(longitude=-117.92, latitude=33.83, housing_median_age=52.0, total_rooms=1514.0, total_bedrooms=301.0, population=855.0, households=293.0, median_income=3.6042, median_house_value=166400.0),\n",
       " Row(longitude=-118.1, latitude=34.18, housing_median_age=47.0, total_rooms=2168.0, total_bedrooms=352.0, population=902.0, households=361.0, median_income=5.894, median_house_value=300900.0),\n",
       " Row(longitude=-118.11, latitude=34.18, housing_median_age=52.0, total_rooms=3571.0, total_bedrooms=510.0, population=1434.0, households=490.0, median_income=5.9009, median_house_value=376000.0),\n",
       " Row(longitude=-118.12, latitude=34.23, housing_median_age=52.0, total_rooms=433.0, total_bedrooms=69.0, population=147.0, households=53.0, median_income=3.9583, median_house_value=162500.0),\n",
       " Row(longitude=-118.12, latitude=34.18, housing_median_age=47.0, total_rooms=2344.0, total_bedrooms=513.0, population=1537.0, households=481.0, median_income=3.4777, median_house_value=230600.0),\n",
       " Row(longitude=-118.13, latitude=33.76, housing_median_age=52.0, total_rooms=2216.0, total_bedrooms=526.0, population=940.0, households=530.0, median_income=4.5469, median_house_value=381000.0),\n",
       " Row(longitude=-118.18, latitude=34.13, housing_median_age=52.0, total_rooms=2228.0, total_bedrooms=475.0, population=1311.0, households=452.0, median_income=3.5341, median_house_value=182100.0),\n",
       " Row(longitude=-118.18, latitude=34.12, housing_median_age=52.0, total_rooms=1081.0, total_bedrooms=311.0, population=904.0, households=283.0, median_income=1.9219, median_house_value=165100.0),\n",
       " Row(longitude=-118.19, latitude=34.05, housing_median_age=47.0, total_rooms=1273.0, total_bedrooms=264.0, population=1193.0, households=260.0, median_income=2.4375, median_house_value=122900.0),\n",
       " Row(longitude=-118.2, latitude=34.14, housing_median_age=52.0, total_rooms=2090.0, total_bedrooms=466.0, population=1219.0, households=390.0, median_income=4.0909, median_house_value=204200.0),\n",
       " Row(longitude=-118.2, latitude=34.14, housing_median_age=51.0, total_rooms=1941.0, total_bedrooms=378.0, population=1012.0, households=371.0, median_income=3.9375, median_house_value=217000.0),\n",
       " Row(longitude=-118.2, latitude=34.12, housing_median_age=52.0, total_rooms=1580.0, total_bedrooms=426.0, population=1462.0, households=406.0, median_income=3.3326, median_house_value=167600.0),\n",
       " Row(longitude=-118.2, latitude=33.79, housing_median_age=47.0, total_rooms=2549.0, total_bedrooms=626.0, population=1388.0, households=606.0, median_income=3.0135, median_house_value=192700.0),\n",
       " Row(longitude=-118.2, latitude=33.78, housing_median_age=52.0, total_rooms=2662.0, total_bedrooms=893.0, population=3018.0, households=763.0, median_income=2.3305, median_house_value=162500.0),\n",
       " Row(longitude=-118.21, latitude=34.07, housing_median_age=52.0, total_rooms=1770.0, total_bedrooms=435.0, population=1848.0, households=439.0, median_income=2.4135, median_house_value=167200.0),\n",
       " Row(longitude=-118.21, latitude=34.07, housing_median_age=47.0, total_rooms=1346.0, total_bedrooms=383.0, population=1452.0, households=371.0, median_income=1.7292, median_house_value=191700.0),\n",
       " Row(longitude=-118.23, latitude=34.05, housing_median_age=52.0, total_rooms=346.0, total_bedrooms=270.0, population=346.0, households=251.0, median_income=2.5313, median_house_value=225000.0),\n",
       " Row(longitude=-118.26, latitude=34.05, housing_median_age=52.0, total_rooms=58.0, total_bedrooms=52.0, population=41.0, households=27.0, median_income=4.0972, median_house_value=500001.0),\n",
       " Row(longitude=-118.27, latitude=34.17, housing_median_age=52.0, total_rooms=2287.0, total_bedrooms=295.0, population=829.0, households=296.0, median_income=7.8383, median_house_value=500001.0),\n",
       " Row(longitude=-118.27, latitude=34.17, housing_median_age=52.0, total_rooms=2010.0, total_bedrooms=286.0, population=908.0, households=326.0, median_income=6.9135, median_house_value=374000.0),\n",
       " Row(longitude=-118.27, latitude=34.16, housing_median_age=47.0, total_rooms=1453.0, total_bedrooms=356.0, population=787.0, households=345.0, median_income=3.0114, median_house_value=255500.0),\n",
       " Row(longitude=-118.28, latitude=34.1, housing_median_age=49.0, total_rooms=1767.0, total_bedrooms=467.0, population=1066.0, households=438.0, median_income=3.0958, median_house_value=210900.0),\n",
       " Row(longitude=-118.28, latitude=34.09, housing_median_age=52.0, total_rooms=2273.0, total_bedrooms=663.0, population=1480.0, households=597.0, median_income=2.3333, median_house_value=196500.0),\n",
       " Row(longitude=-118.29, latitude=34.01, housing_median_age=50.0, total_rooms=2238.0, total_bedrooms=673.0, population=2247.0, households=583.0, median_income=1.6505, median_house_value=125000.0),\n",
       " Row(longitude=-118.3, latitude=34.0, housing_median_age=52.0, total_rooms=1743.0, total_bedrooms=421.0, population=1206.0, households=384.0, median_income=1.6875, median_house_value=116000.0),\n",
       " Row(longitude=-118.3, latitude=34.0, housing_median_age=52.0, total_rooms=1718.0, total_bedrooms=354.0, population=1026.0, households=312.0, median_income=2.0, median_house_value=128000.0),\n",
       " Row(longitude=-118.3, latitude=33.74, housing_median_age=47.0, total_rooms=2223.0, total_bedrooms=410.0, population=1163.0, households=413.0, median_income=4.4671, median_house_value=270800.0),\n",
       " Row(longitude=-118.31, latitude=34.11, housing_median_age=52.0, total_rooms=1875.0, total_bedrooms=303.0, population=735.0, households=293.0, median_income=5.8659, median_house_value=433300.0),\n",
       " Row(longitude=-118.31, latitude=33.98, housing_median_age=52.0, total_rooms=1837.0, total_bedrooms=426.0, population=1062.0, households=343.0, median_income=2.0, median_house_value=96500.0),\n",
       " Row(longitude=-118.31, latitude=33.98, housing_median_age=50.0, total_rooms=1985.0, total_bedrooms=454.0, population=1090.0, households=410.0, median_income=1.825, median_house_value=106600.0),\n",
       " Row(longitude=-118.31, latitude=33.97, housing_median_age=52.0, total_rooms=1629.0, total_bedrooms=277.0, population=819.0, households=288.0, median_income=3.725, median_house_value=142600.0),\n",
       " Row(longitude=-118.31, latitude=33.97, housing_median_age=52.0, total_rooms=1595.0, total_bedrooms=325.0, population=823.0, households=302.0, median_income=3.2188, median_house_value=124200.0),\n",
       " Row(longitude=-118.32, latitude=34.18, housing_median_age=49.0, total_rooms=192.0, total_bedrooms=41.0, population=83.0, households=38.0, median_income=3.0179, median_house_value=118800.0),\n",
       " Row(longitude=-118.32, latitude=34.06, housing_median_age=52.0, total_rooms=983.0, total_bedrooms=246.0, population=578.0, households=204.0, median_income=5.7393, median_house_value=500001.0),\n",
       " Row(longitude=-118.32, latitude=34.0, housing_median_age=50.0, total_rooms=2189.0, total_bedrooms=460.0, population=1097.0, households=469.0, median_income=2.4583, median_house_value=120900.0),\n",
       " Row(longitude=-118.32, latitude=33.99, housing_median_age=48.0, total_rooms=1260.0, total_bedrooms=284.0, population=791.0, households=280.0, median_income=2.1875, median_house_value=115200.0),\n",
       " Row(longitude=-118.32, latitude=33.98, housing_median_age=49.0, total_rooms=1993.0, total_bedrooms=446.0, population=1052.0, households=394.0, median_income=2.2138, median_house_value=119800.0),\n",
       " Row(longitude=-118.32, latitude=33.34, housing_median_age=52.0, total_rooms=996.0, total_bedrooms=264.0, population=341.0, households=160.0, median_income=2.7361, median_house_value=450000.0),\n",
       " Row(longitude=-118.33, latitude=34.08, housing_median_age=52.0, total_rooms=1777.0, total_bedrooms=454.0, population=671.0, households=439.0, median_income=3.5083, median_house_value=500001.0),\n",
       " Row(longitude=-118.34, latitude=34.17, housing_median_age=52.0, total_rooms=1133.0, total_bedrooms=212.0, population=545.0, households=222.0, median_income=4.875, median_house_value=249500.0),\n",
       " Row(longitude=-118.34, latitude=34.05, housing_median_age=50.0, total_rooms=2009.0, total_bedrooms=419.0, population=1130.0, households=402.0, median_income=3.1944, median_house_value=213500.0),\n",
       " Row(longitude=-118.35, latitude=33.98, housing_median_age=47.0, total_rooms=2512.0, total_bedrooms=461.0, population=1082.0, households=426.0, median_income=3.8235, median_house_value=207600.0),\n",
       " Row(longitude=-118.36, latitude=34.08, housing_median_age=52.0, total_rooms=2373.0, total_bedrooms=601.0, population=1135.0, households=576.0, median_income=3.1765, median_house_value=225000.0),\n",
       " Row(longitude=-118.36, latitude=34.05, housing_median_age=48.0, total_rooms=1835.0, total_bedrooms=380.0, population=956.0, households=370.0, median_income=3.2813, median_house_value=243600.0),\n",
       " Row(longitude=-118.4, latitude=34.08, housing_median_age=52.0, total_rooms=3815.0, total_bedrooms=439.0, population=1266.0, households=413.0, median_income=15.0001, median_house_value=500001.0),\n",
       " Row(longitude=-118.43, latitude=34.04, housing_median_age=52.0, total_rooms=1782.0, total_bedrooms=308.0, population=735.0, households=307.0, median_income=5.2954, median_house_value=485100.0),\n",
       " Row(longitude=-118.46, latitude=34.01, housing_median_age=48.0, total_rooms=1640.0, total_bedrooms=322.0, population=664.0, households=301.0, median_income=4.0, median_house_value=500001.0),\n",
       " Row(longitude=-118.47, latitude=33.99, housing_median_age=52.0, total_rooms=1523.0, total_bedrooms=447.0, population=636.0, households=408.0, median_income=3.0682, median_house_value=412500.0),\n",
       " Row(longitude=-118.47, latitude=33.99, housing_median_age=50.0, total_rooms=1568.0, total_bedrooms=501.0, population=764.0, households=478.0, median_income=3.015, median_house_value=414300.0),\n",
       " Row(longitude=-118.5, latitude=34.03, housing_median_age=52.0, total_rooms=1711.0, total_bedrooms=245.0, population=671.0, households=242.0, median_income=7.7572, median_house_value=500001.0),\n",
       " Row(longitude=-119.02, latitude=35.36, housing_median_age=47.0, total_rooms=1631.0, total_bedrooms=340.0, population=847.0, households=315.0, median_income=2.5062, median_house_value=73700.0),\n",
       " Row(longitude=-119.05, latitude=34.4, housing_median_age=50.0, total_rooms=1236.0, total_bedrooms=282.0, population=1079.0, households=257.0, median_income=2.6991, median_house_value=181300.0),\n",
       " Row(longitude=-119.71, latitude=34.43, housing_median_age=47.0, total_rooms=1572.0, total_bedrooms=417.0, population=790.0, households=384.0, median_income=2.6429, median_house_value=279200.0),\n",
       " Row(longitude=-119.72, latitude=34.42, housing_median_age=49.0, total_rooms=1610.0, total_bedrooms=370.0, population=961.0, households=351.0, median_income=2.6983, median_house_value=260100.0),\n",
       " Row(longitude=-119.74, latitude=36.75, housing_median_age=47.0, total_rooms=2236.0, total_bedrooms=418.0, population=1042.0, households=397.0, median_income=2.9545, median_house_value=59600.0),\n",
       " Row(longitude=-119.79, latitude=36.76, housing_median_age=52.0, total_rooms=1185.0, total_bedrooms=260.0, population=635.0, households=239.0, median_income=1.175, median_house_value=56100.0),\n",
       " Row(longitude=-119.8, latitude=36.75, housing_median_age=52.0, total_rooms=1788.0, total_bedrooms=449.0, population=1156.0, households=418.0, median_income=1.7298, median_house_value=58400.0),\n",
       " Row(longitude=-119.81, latitude=36.73, housing_median_age=50.0, total_rooms=772.0, total_bedrooms=194.0, population=606.0, households=167.0, median_income=2.2206, median_house_value=59200.0),\n",
       " Row(longitude=-120.24, latitude=39.67, housing_median_age=52.0, total_rooms=296.0, total_bedrooms=63.0, population=143.0, households=56.0, median_income=3.625, median_house_value=68600.0),\n",
       " Row(longitude=-120.43, latitude=34.95, housing_median_age=50.0, total_rooms=1966.0, total_bedrooms=413.0, population=985.0, households=403.0, median_income=2.3506, median_house_value=136100.0),\n",
       " Row(longitude=-120.45, latitude=39.8, housing_median_age=47.0, total_rooms=2149.0, total_bedrooms=456.0, population=965.0, households=419.0, median_income=1.7829, median_house_value=55900.0),\n",
       " Row(longitude=-120.85, latitude=37.5, housing_median_age=52.0, total_rooms=1724.0, total_bedrooms=352.0, population=922.0, households=348.0, median_income=1.7227, median_house_value=85700.0),\n",
       " Row(longitude=-121.24, latitude=37.97, housing_median_age=47.0, total_rooms=886.0, total_bedrooms=196.0, population=517.0, households=188.0, median_income=2.1991, median_house_value=67200.0),\n",
       " Row(longitude=-121.27, latitude=38.13, housing_median_age=52.0, total_rooms=1081.0, total_bedrooms=257.0, population=437.0, households=225.0, median_income=2.1979, median_house_value=114100.0),\n",
       " Row(longitude=-121.4, latitude=36.85, housing_median_age=50.0, total_rooms=2666.0, total_bedrooms=613.0, population=1768.0, households=555.0, median_income=2.6598, median_house_value=157300.0),\n",
       " Row(longitude=-121.4, latitude=36.84, housing_median_age=52.0, total_rooms=1860.0, total_bedrooms=400.0, population=1215.0, households=367.0, median_income=2.9554, median_house_value=136500.0),\n",
       " Row(longitude=-121.47, latitude=38.54, housing_median_age=47.0, total_rooms=2085.0, total_bedrooms=464.0, population=1346.0, households=402.0, median_income=1.2679, median_house_value=56700.0),\n",
       " Row(longitude=-121.48, latitude=38.55, housing_median_age=52.0, total_rooms=2508.0, total_bedrooms=360.0, population=832.0, households=345.0, median_income=7.1035, median_house_value=228700.0),\n",
       " Row(longitude=-121.49, latitude=38.55, housing_median_age=51.0, total_rooms=4280.0, total_bedrooms=632.0, population=1486.0, households=621.0, median_income=5.0359, median_house_value=224100.0),\n",
       " Row(longitude=-121.59, latitude=39.15, housing_median_age=48.0, total_rooms=1783.0, total_bedrooms=399.0, population=938.0, households=374.0, median_income=1.6652, median_house_value=58900.0),\n",
       " Row(longitude=-121.59, latitude=37.19, housing_median_age=52.0, total_rooms=220.0, total_bedrooms=32.0, population=55.0, households=26.0, median_income=15.0001, median_house_value=131300.0),\n",
       " Row(longitude=-121.87, latitude=38.02, housing_median_age=52.0, total_rooms=2264.0, total_bedrooms=439.0, population=1403.0, households=476.0, median_income=2.7083, median_house_value=99400.0),\n",
       " Row(longitude=-121.87, latitude=37.34, housing_median_age=52.0, total_rooms=1087.0, total_bedrooms=166.0, population=650.0, households=194.0, median_income=6.6345, median_house_value=309000.0),\n",
       " Row(longitude=-121.88, latitude=37.35, housing_median_age=49.0, total_rooms=1728.0, total_bedrooms=350.0, population=1146.0, households=391.0, median_income=3.5781, median_house_value=193000.0),\n",
       " Row(longitude=-121.89, latitude=37.33, housing_median_age=49.0, total_rooms=658.0, total_bedrooms=318.0, population=467.0, households=316.0, median_income=0.7068, median_house_value=200000.0),\n",
       " Row(longitude=-121.89, latitude=37.31, housing_median_age=47.0, total_rooms=2986.0, total_bedrooms=627.0, population=1399.0, households=613.0, median_income=3.7455, median_house_value=247400.0),\n",
       " Row(longitude=-121.89, latitude=37.3, housing_median_age=52.0, total_rooms=2071.0, total_bedrooms=362.0, population=825.0, households=364.0, median_income=4.2414, median_house_value=284800.0),\n",
       " Row(longitude=-122.14, latitude=37.43, housing_median_age=52.0, total_rooms=1383.0, total_bedrooms=227.0, population=551.0, households=249.0, median_income=6.5829, median_house_value=500001.0),\n",
       " Row(longitude=-122.15, latitude=37.46, housing_median_age=52.0, total_rooms=1803.0, total_bedrooms=257.0, population=683.0, households=259.0, median_income=10.9508, median_house_value=500001.0),\n",
       " Row(longitude=-122.15, latitude=37.45, housing_median_age=52.0, total_rooms=2117.0, total_bedrooms=353.0, population=734.0, households=328.0, median_income=6.767, median_house_value=500001.0),\n",
       " Row(longitude=-122.16, latitude=37.74, housing_median_age=52.0, total_rooms=771.0, total_bedrooms=147.0, population=355.0, households=144.0, median_income=4.1458, median_house_value=143400.0),\n",
       " Row(longitude=-122.17, latitude=37.74, housing_median_age=47.0, total_rooms=463.0, total_bedrooms=134.0, population=327.0, households=137.0, median_income=2.15, median_house_value=97200.0),\n",
       " Row(longitude=-122.19, latitude=37.78, housing_median_age=52.0, total_rooms=2198.0, total_bedrooms=397.0, population=984.0, households=369.0, median_income=3.22, median_house_value=156500.0),\n",
       " Row(longitude=-122.19, latitude=37.78, housing_median_age=49.0, total_rooms=1183.0, total_bedrooms=205.0, population=496.0, households=209.0, median_income=5.2328, median_house_value=174200.0),\n",
       " Row(longitude=-122.19, latitude=37.77, housing_median_age=52.0, total_rooms=2329.0, total_bedrooms=445.0, population=1144.0, households=417.0, median_income=3.5114, median_house_value=151200.0),\n",
       " Row(longitude=-122.19, latitude=37.77, housing_median_age=52.0, total_rooms=2170.0, total_bedrooms=428.0, population=1086.0, households=425.0, median_income=3.3715, median_house_value=143900.0),\n",
       " Row(longitude=-122.19, latitude=37.42, housing_median_age=47.0, total_rooms=932.0, total_bedrooms=167.0, population=295.0, households=116.0, median_income=8.4375, median_house_value=500001.0),\n",
       " Row(longitude=-122.22, latitude=37.77, housing_median_age=52.0, total_rooms=1137.0, total_bedrooms=301.0, population=866.0, households=259.0, median_income=2.59, median_house_value=96400.0),\n",
       " Row(longitude=-122.22, latitude=37.48, housing_median_age=47.0, total_rooms=2570.0, total_bedrooms=783.0, population=3107.0, households=724.0, median_income=2.8058, median_house_value=229500.0),\n",
       " Row(longitude=-122.23, latitude=38.11, housing_median_age=47.0, total_rooms=3007.0, total_bedrooms=524.0, population=1152.0, households=486.0, median_income=4.0, median_house_value=141500.0),\n",
       " Row(longitude=-122.23, latitude=37.85, housing_median_age=52.0, total_rooms=2800.0, total_bedrooms=411.0, population=1061.0, households=403.0, median_income=6.3434, median_house_value=373600.0),\n",
       " Row(longitude=-122.23, latitude=37.84, housing_median_age=50.0, total_rooms=2515.0, total_bedrooms=399.0, population=970.0, households=373.0, median_income=5.8596, median_house_value=327600.0),\n",
       " Row(longitude=-122.23, latitude=37.77, housing_median_age=52.0, total_rooms=772.0, total_bedrooms=179.0, population=409.0, households=160.0, median_income=3.3214, median_house_value=189600.0),\n",
       " Row(longitude=-122.23, latitude=37.76, housing_median_age=52.0, total_rooms=3037.0, total_bedrooms=516.0, population=1242.0, households=518.0, median_income=5.2128, median_house_value=289900.0),\n",
       " ...]"
      ]
     },
     "execution_count": 28,
     "metadata": {},
     "output_type": "execute_result"
    }
   ],
   "source": [
    "rddspark2.filter(lambda x : x['housing_median_age']>46).distinct().collect()"
   ]
  },
  {
   "cell_type": "markdown",
   "metadata": {
    "id": "N8zYINGbSrWw"
   },
   "source": [
    "## Map vs flatmap\n",
    "\n",
    "`map` Siempre devuelve el mismo número de registros, mientras  `flatMap` devuelve más de un registro para cada registro (~ lo aplana).  "
   ]
  },
  {
   "cell_type": "markdown",
   "metadata": {
    "id": "UJvfcovKSoZp"
   },
   "source": []
  },
  {
   "cell_type": "code",
   "execution_count": 29,
   "metadata": {
    "colab": {
     "base_uri": "https://localhost:8080/"
    },
    "executionInfo": {
     "elapsed": 519,
     "status": "ok",
     "timestamp": 1645549354739,
     "user": {
      "displayName": "Raul A. del Aguila",
      "photoUrl": "https://lh3.googleusercontent.com/a-/AOh14GhfFNUGPyK9gz8r-RWHTZpe0mOgynVvayaNWIW_6A=s64",
      "userId": "00351547175787129250"
     },
     "user_tz": -60
    },
    "id": "eBNMqcbpR0y5",
    "outputId": "9fb31182-5061-473d-ba57-f2125549ae88"
   },
   "outputs": [
    {
     "name": "stdout",
     "output_type": "stream",
     "text": [
      "element as is\n",
      "**********************************************\n",
      "Project Gutenberg’s\n",
      "Alice’s Adventures in Wonderland\n",
      "Project Gutenberg’s\n",
      "Adventures in Wonderland\n",
      "Project Gutenberg’s\n",
      "**********************************************\n",
      "flat map by whitespace\n",
      "**********************************************\n",
      "Project\n",
      "Gutenberg’s\n",
      "Alice’s\n",
      "Adventures\n",
      "in\n",
      "Wonderland\n",
      "Project\n",
      "Gutenberg’s\n",
      "Adventures\n",
      "in\n",
      "Wonderland\n",
      "Project\n",
      "Gutenberg’s\n",
      "**********************************************\n",
      "map by whitespace\n",
      "**********************************************\n",
      "['Project', 'Gutenberg’s']\n",
      "['Alice’s', 'Adventures', 'in', 'Wonderland']\n",
      "['Project', 'Gutenberg’s']\n",
      "['Adventures', 'in', 'Wonderland']\n",
      "['Project', 'Gutenberg’s']\n"
     ]
    }
   ],
   "source": [
    "#flatMap\n",
    "\n",
    "data = [\"Project Gutenberg’s\",\n",
    "        \"Alice’s Adventures in Wonderland\",\n",
    "        \"Project Gutenberg’s\",\n",
    "        \"Adventures in Wonderland\",\n",
    "        \"Project Gutenberg’s\"]\n",
    "rdd=spark.sparkContext.parallelize(data)\n",
    "print ('element as is')\n",
    "print ('**********************************************')\n",
    "\n",
    "for element in rdd.collect():\n",
    "    print(element)\n",
    "\n",
    "print ('**********************************************')\n",
    "print ('flat map by whitespace')\n",
    "print ('**********************************************')\n",
    "\n",
    "rdd2 = rdd.flatMap(lambda x: x.split(' '))\n",
    "for element in rdd2.collect():\n",
    "    print(element)\n",
    "\n",
    "    \n",
    "print ('**********************************************')\n",
    "print ('map by whitespace')\n",
    "print ('**********************************************')\n",
    "\n",
    "rdd2 = rdd.map(lambda x: x.split(' '))\n",
    "for element in rdd2.collect():\n",
    "    print(element)\n"
   ]
  },
  {
   "cell_type": "markdown",
   "metadata": {
    "id": "CmqZnL3Kk5hw"
   },
   "source": [
    "## Reduce By Key\n",
    "\n",
    "`reduceByKey`\n",
    "Permite **mezclar valores de un rdd en forma clave:valor**. Escanea los valores que le llegan, si encuentra una nueva clave la añade, y si encuentra pares clave-valor que comparten una misma clave, aplica la función definida en su llamada."
   ]
  },
  {
   "cell_type": "code",
   "execution_count": 30,
   "metadata": {
    "id": "TtuDKxIGtxrp"
   },
   "outputs": [],
   "source": [
    "datitos = spark.sparkContext.parallelize([[{'nombre':'Juanito'},{'localidad':'MAD'},{'edad':25}],[{'nombre':'Fulanito'},{'localidad':'MAD'},{'edad':14}],[{'nombre':'Menganito'},{'localidad':'TOL'},{'edad':35}]])"
   ]
  },
  {
   "cell_type": "code",
   "execution_count": 31,
   "metadata": {
    "colab": {
     "base_uri": "https://localhost:8080/"
    },
    "executionInfo": {
     "elapsed": 2,
     "status": "ok",
     "timestamp": 1645549357824,
     "user": {
      "displayName": "Raul A. del Aguila",
      "photoUrl": "https://lh3.googleusercontent.com/a-/AOh14GhfFNUGPyK9gz8r-RWHTZpe0mOgynVvayaNWIW_6A=s64",
      "userId": "00351547175787129250"
     },
     "user_tz": -60
    },
    "id": "E0UiQfGTqZ60",
    "outputId": "e00c051e-e44c-4696-d542-a7a09485ad2a"
   },
   "outputs": [
    {
     "data": {
      "text/plain": [
       "ParallelCollectionRDD[62] at readRDDFromFile at PythonRDD.scala:287"
      ]
     },
     "execution_count": 31,
     "metadata": {},
     "output_type": "execute_result"
    }
   ],
   "source": [
    "datitos"
   ]
  },
  {
   "cell_type": "code",
   "execution_count": 32,
   "metadata": {
    "colab": {
     "base_uri": "https://localhost:8080/"
    },
    "executionInfo": {
     "elapsed": 2,
     "status": "ok",
     "timestamp": 1645549358137,
     "user": {
      "displayName": "Raul A. del Aguila",
      "photoUrl": "https://lh3.googleusercontent.com/a-/AOh14GhfFNUGPyK9gz8r-RWHTZpe0mOgynVvayaNWIW_6A=s64",
      "userId": "00351547175787129250"
     },
     "user_tz": -60
    },
    "id": "Aacbv1n7GXlX",
    "outputId": "c2c2bbc2-515b-4f48-f9c1-62e25a26f437"
   },
   "outputs": [
    {
     "data": {
      "text/plain": [
       "[[{'nombre': 'Juanito'}, {'localidad': 'MAD'}, {'edad': 25}],\n",
       " [{'nombre': 'Fulanito'}, {'localidad': 'MAD'}, {'edad': 14}],\n",
       " [{'nombre': 'Menganito'}, {'localidad': 'TOL'}, {'edad': 35}]]"
      ]
     },
     "execution_count": 32,
     "metadata": {},
     "output_type": "execute_result"
    }
   ],
   "source": [
    "datitos.collect()"
   ]
  },
  {
   "cell_type": "markdown",
   "metadata": {
    "id": "LVRReOByoX5a"
   },
   "source": [
    "Para aplicar las transformaciones, primero debemos usar `map`. \n",
    "\n",
    "Fijaos que, en este caso, estamos diciendo que un registro es una lista de diccionarios. Tenemos que tratar, por tanto, nuestros datos con este formato"
   ]
  },
  {
   "cell_type": "code",
   "execution_count": 33,
   "metadata": {
    "id": "7Y24aIpOnKhJ"
   },
   "outputs": [],
   "source": [
    "minidatitos = datitos.map(lambda x : ( x[1].get('localidad'),x[2].get('edad')))"
   ]
  },
  {
   "cell_type": "code",
   "execution_count": 34,
   "metadata": {
    "colab": {
     "base_uri": "https://localhost:8080/"
    },
    "executionInfo": {
     "elapsed": 214,
     "status": "ok",
     "timestamp": 1645549359465,
     "user": {
      "displayName": "Raul A. del Aguila",
      "photoUrl": "https://lh3.googleusercontent.com/a-/AOh14GhfFNUGPyK9gz8r-RWHTZpe0mOgynVvayaNWIW_6A=s64",
      "userId": "00351547175787129250"
     },
     "user_tz": -60
    },
    "id": "q3w7ggIgGodE",
    "outputId": "c68f135c-20ac-4564-a8dc-69b483f829fc"
   },
   "outputs": [
    {
     "data": {
      "text/plain": [
       "[('MAD', 25), ('MAD', 14), ('TOL', 35)]"
      ]
     },
     "execution_count": 34,
     "metadata": {},
     "output_type": "execute_result"
    }
   ],
   "source": [
    "minidatitos.collect()"
   ]
  },
  {
   "cell_type": "code",
   "execution_count": 35,
   "metadata": {
    "colab": {
     "base_uri": "https://localhost:8080/"
    },
    "executionInfo": {
     "elapsed": 302,
     "status": "ok",
     "timestamp": 1645549360061,
     "user": {
      "displayName": "Raul A. del Aguila",
      "photoUrl": "https://lh3.googleusercontent.com/a-/AOh14GhfFNUGPyK9gz8r-RWHTZpe0mOgynVvayaNWIW_6A=s64",
      "userId": "00351547175787129250"
     },
     "user_tz": -60
    },
    "id": "WvEV4D1BSFqw",
    "outputId": "13395860-c20c-4d95-d0d5-3c6ddc193c3c"
   },
   "outputs": [
    {
     "data": {
      "text/plain": [
       "[('TOL', 35), ('MAD', 19.5)]"
      ]
     },
     "execution_count": 35,
     "metadata": {},
     "output_type": "execute_result"
    }
   ],
   "source": [
    "minidatitos.reduceByKey(lambda x,y : (x + y) / 2).collect()"
   ]
  },
  {
   "cell_type": "markdown",
   "metadata": {
    "id": "XMbYCf5hPZe2"
   },
   "source": [
    "\n",
    "# Dataframe\n",
    "\n",
    "Dataframe nos permite trabajar con RDD a más alto nivel, como si de una tabla de BBDD se tratase.\n",
    "\n",
    "No impone un tipado fuerte, pero sí un esquema (implícito o explícito) sobre los datos.\n",
    "\n",
    "## Descriptivos\n",
    "\n",
    "¿Numero de registros en el dataframe?"
   ]
  },
  {
   "cell_type": "code",
   "execution_count": 36,
   "metadata": {
    "colab": {
     "base_uri": "https://localhost:8080/"
    },
    "executionInfo": {
     "elapsed": 858,
     "status": "ok",
     "timestamp": 1645549363891,
     "user": {
      "displayName": "Raul A. del Aguila",
      "photoUrl": "https://lh3.googleusercontent.com/a-/AOh14GhfFNUGPyK9gz8r-RWHTZpe0mOgynVvayaNWIW_6A=s64",
      "userId": "00351547175787129250"
     },
     "user_tz": -60
    },
    "id": "VrbNpoUCNYN8",
    "outputId": "a752ba6a-3003-41c5-d050-67c41d0f86b5"
   },
   "outputs": [
    {
     "data": {
      "text/plain": [
       "17000"
      ]
     },
     "execution_count": 36,
     "metadata": {},
     "output_type": "execute_result"
    }
   ],
   "source": [
    "df_spark.count()"
   ]
  },
  {
   "cell_type": "markdown",
   "metadata": {
    "id": "13rl3pyARA28"
   },
   "source": [
    "\n",
    "\n",
    "\n",
    "## Estructura del dataframe"
   ]
  },
  {
   "cell_type": "code",
   "execution_count": 37,
   "metadata": {
    "colab": {
     "base_uri": "https://localhost:8080/"
    },
    "executionInfo": {
     "elapsed": 13,
     "status": "ok",
     "timestamp": 1645549363891,
     "user": {
      "displayName": "Raul A. del Aguila",
      "photoUrl": "https://lh3.googleusercontent.com/a-/AOh14GhfFNUGPyK9gz8r-RWHTZpe0mOgynVvayaNWIW_6A=s64",
      "userId": "00351547175787129250"
     },
     "user_tz": -60
    },
    "id": "6Sb_is4QLeB3",
    "outputId": "ec2b013e-16ec-44d5-9937-b8906287fa8f"
   },
   "outputs": [
    {
     "name": "stdout",
     "output_type": "stream",
     "text": [
      "root\n",
      " |-- longitude: double (nullable = true)\n",
      " |-- latitude: double (nullable = true)\n",
      " |-- housing_median_age: double (nullable = true)\n",
      " |-- total_rooms: double (nullable = true)\n",
      " |-- total_bedrooms: double (nullable = true)\n",
      " |-- population: double (nullable = true)\n",
      " |-- households: double (nullable = true)\n",
      " |-- median_income: double (nullable = true)\n",
      " |-- median_house_value: double (nullable = true)\n",
      "\n"
     ]
    }
   ],
   "source": [
    "df_spark.printSchema()"
   ]
  },
  {
   "cell_type": "markdown",
   "metadata": {
    "id": "kO01F7L1HYPR"
   },
   "source": []
  },
  {
   "cell_type": "markdown",
   "metadata": {
    "id": "pjN5k0S_PfaB"
   },
   "source": [
    "¿Nombre de las Columnas de dataframe?"
   ]
  },
  {
   "cell_type": "code",
   "execution_count": 38,
   "metadata": {
    "colab": {
     "base_uri": "https://localhost:8080/"
    },
    "executionInfo": {
     "elapsed": 2,
     "status": "ok",
     "timestamp": 1645549364462,
     "user": {
      "displayName": "Raul A. del Aguila",
      "photoUrl": "https://lh3.googleusercontent.com/a-/AOh14GhfFNUGPyK9gz8r-RWHTZpe0mOgynVvayaNWIW_6A=s64",
      "userId": "00351547175787129250"
     },
     "user_tz": -60
    },
    "id": "dLa8YbIPMWhj",
    "outputId": "95ebcf78-df1e-4b44-ef38-4662ae101adb"
   },
   "outputs": [
    {
     "data": {
      "text/plain": [
       "['longitude',\n",
       " 'latitude',\n",
       " 'housing_median_age',\n",
       " 'total_rooms',\n",
       " 'total_bedrooms',\n",
       " 'population',\n",
       " 'households',\n",
       " 'median_income',\n",
       " 'median_house_value']"
      ]
     },
     "execution_count": 38,
     "metadata": {},
     "output_type": "execute_result"
    }
   ],
   "source": [
    "df_spark.columns"
   ]
  },
  {
   "cell_type": "markdown",
   "metadata": {
    "id": "_zTVwhBBPkKQ"
   },
   "source": [
    "Ver los primeros 20 registros del dataframe"
   ]
  },
  {
   "cell_type": "code",
   "execution_count": 39,
   "metadata": {
    "colab": {
     "base_uri": "https://localhost:8080/"
    },
    "executionInfo": {
     "elapsed": 337,
     "status": "ok",
     "timestamp": 1645549366671,
     "user": {
      "displayName": "Raul A. del Aguila",
      "photoUrl": "https://lh3.googleusercontent.com/a-/AOh14GhfFNUGPyK9gz8r-RWHTZpe0mOgynVvayaNWIW_6A=s64",
      "userId": "00351547175787129250"
     },
     "user_tz": -60
    },
    "id": "fiY4iT0fIwqU",
    "outputId": "5099c643-7ef9-451a-a6b7-20743b160c0f"
   },
   "outputs": [
    {
     "data": {
      "text/plain": [
       "Row(longitude=-114.31, latitude=34.19, housing_median_age=15.0, total_rooms=5612.0, total_bedrooms=1283.0, population=1015.0, households=472.0, median_income=1.4936, median_house_value=66900.0)"
      ]
     },
     "execution_count": 39,
     "metadata": {},
     "output_type": "execute_result"
    }
   ],
   "source": [
    "df_spark.collect()[0]"
   ]
  },
  {
   "cell_type": "code",
   "execution_count": 40,
   "metadata": {
    "colab": {
     "base_uri": "https://localhost:8080/"
    },
    "executionInfo": {
     "elapsed": 405,
     "status": "ok",
     "timestamp": 1645549367364,
     "user": {
      "displayName": "Raul A. del Aguila",
      "photoUrl": "https://lh3.googleusercontent.com/a-/AOh14GhfFNUGPyK9gz8r-RWHTZpe0mOgynVvayaNWIW_6A=s64",
      "userId": "00351547175787129250"
     },
     "user_tz": -60
    },
    "id": "sVUfc5nyLpxp",
    "outputId": "34301097-095b-47a8-f853-dd1d8b9c0486"
   },
   "outputs": [
    {
     "name": "stdout",
     "output_type": "stream",
     "text": [
      "+---------+--------+------------------+-----------+--------------+----------+----------+-------------+------------------+\n",
      "|longitude|latitude|housing_median_age|total_rooms|total_bedrooms|population|households|median_income|median_house_value|\n",
      "+---------+--------+------------------+-----------+--------------+----------+----------+-------------+------------------+\n",
      "|  -114.31|   34.19|              15.0|     5612.0|        1283.0|    1015.0|     472.0|       1.4936|           66900.0|\n",
      "|  -114.47|    34.4|              19.0|     7650.0|        1901.0|    1129.0|     463.0|         1.82|           80100.0|\n",
      "|  -114.56|   33.69|              17.0|      720.0|         174.0|     333.0|     117.0|       1.6509|           85700.0|\n",
      "|  -114.57|   33.64|              14.0|     1501.0|         337.0|     515.0|     226.0|       3.1917|           73400.0|\n",
      "|  -114.57|   33.57|              20.0|     1454.0|         326.0|     624.0|     262.0|        1.925|           65500.0|\n",
      "|  -114.58|   33.63|              29.0|     1387.0|         236.0|     671.0|     239.0|       3.3438|           74000.0|\n",
      "|  -114.58|   33.61|              25.0|     2907.0|         680.0|    1841.0|     633.0|       2.6768|           82400.0|\n",
      "|  -114.59|   34.83|              41.0|      812.0|         168.0|     375.0|     158.0|       1.7083|           48500.0|\n",
      "|  -114.59|   33.61|              34.0|     4789.0|        1175.0|    3134.0|    1056.0|       2.1782|           58400.0|\n",
      "|   -114.6|   34.83|              46.0|     1497.0|         309.0|     787.0|     271.0|       2.1908|           48100.0|\n",
      "|   -114.6|   33.62|              16.0|     3741.0|         801.0|    2434.0|     824.0|       2.6797|           86500.0|\n",
      "|   -114.6|    33.6|              21.0|     1988.0|         483.0|    1182.0|     437.0|        1.625|           62000.0|\n",
      "|  -114.61|   34.84|              48.0|     1291.0|         248.0|     580.0|     211.0|       2.1571|           48600.0|\n",
      "|  -114.61|   34.83|              31.0|     2478.0|         464.0|    1346.0|     479.0|        3.212|           70400.0|\n",
      "|  -114.63|   32.76|              15.0|     1448.0|         378.0|     949.0|     300.0|       0.8585|           45000.0|\n",
      "|  -114.65|   34.89|              17.0|     2556.0|         587.0|    1005.0|     401.0|       1.6991|           69100.0|\n",
      "|  -114.65|    33.6|              28.0|     1678.0|         322.0|     666.0|     256.0|       2.9653|           94900.0|\n",
      "|  -114.65|   32.79|              21.0|       44.0|          33.0|      64.0|      27.0|       0.8571|           25000.0|\n",
      "|  -114.66|   32.74|              17.0|     1388.0|         386.0|     775.0|     320.0|       1.2049|           44000.0|\n",
      "|  -114.67|   33.92|              17.0|       97.0|          24.0|      29.0|      15.0|       1.2656|           27500.0|\n",
      "+---------+--------+------------------+-----------+--------------+----------+----------+-------------+------------------+\n",
      "only showing top 20 rows\n",
      "\n"
     ]
    }
   ],
   "source": [
    "df_spark.show()"
   ]
  },
  {
   "cell_type": "code",
   "execution_count": 41,
   "metadata": {
    "colab": {
     "base_uri": "https://localhost:8080/"
    },
    "executionInfo": {
     "elapsed": 1086,
     "status": "ok",
     "timestamp": 1645549369188,
     "user": {
      "displayName": "Raul A. del Aguila",
      "photoUrl": "https://lh3.googleusercontent.com/a-/AOh14GhfFNUGPyK9gz8r-RWHTZpe0mOgynVvayaNWIW_6A=s64",
      "userId": "00351547175787129250"
     },
     "user_tz": -60
    },
    "id": "hZLFuUgrIvTF",
    "outputId": "5ef7be73-9806-4d92-8ec6-83844d8d4018"
   },
   "outputs": [
    {
     "name": "stdout",
     "output_type": "stream",
     "text": [
      "root\n",
      " |-- _1: string (nullable = true)\n",
      "\n",
      "+--------------------+\n",
      "|                  _1|\n",
      "+--------------------+\n",
      "|             el caso|\n",
      "|                  es|\n",
      "| asi es nuestra casa|\n",
      "+--------------------+\n",
      "\n",
      "+-------+\n",
      "|   word|\n",
      "+-------+\n",
      "|     el|\n",
      "|   caso|\n",
      "|     es|\n",
      "|       |\n",
      "|    asi|\n",
      "|     es|\n",
      "|nuestra|\n",
      "|   casa|\n",
      "+-------+\n",
      "\n"
     ]
    }
   ],
   "source": [
    "arrayData = [ ['el caso'],['es'],[' asi es nuestra casa']\n",
    "]\n",
    "\n",
    "df = spark.createDataFrame(data=arrayData)\n",
    "df.printSchema()\n",
    "df.show()\n",
    "df2 = df.select(\n",
    "        F.explode(\n",
    "            F.split(df._1, \" \")\n",
    "        ).alias(\"word\"))\n",
    "df2.show()"
   ]
  },
  {
   "cell_type": "markdown",
   "metadata": {
    "id": "HPsuLzLfQAfj"
   },
   "source": [
    "## Descricipcion Estadistica del dataframe\n",
    "\n",
    "Anteriormente, ya hemos realizado un describe sobre el `pandas dataframe` obtenido a partir del `spark dataframe`. Este método  no es igual al describe sobre un `pandas`. Por ejemplo:"
   ]
  },
  {
   "cell_type": "code",
   "execution_count": 42,
   "metadata": {
    "colab": {
     "base_uri": "https://localhost:8080/"
    },
    "executionInfo": {
     "elapsed": 5,
     "status": "ok",
     "timestamp": 1645549370542,
     "user": {
      "displayName": "Raul A. del Aguila",
      "photoUrl": "https://lh3.googleusercontent.com/a-/AOh14GhfFNUGPyK9gz8r-RWHTZpe0mOgynVvayaNWIW_6A=s64",
      "userId": "00351547175787129250"
     },
     "user_tz": -60
    },
    "id": "x_u_DrLfMwKt",
    "outputId": "605e6440-baf3-439c-97f5-51c21200ed0a"
   },
   "outputs": [
    {
     "data": {
      "text/plain": [
       "<bound method DataFrame.describe of DataFrame[longitude: double, latitude: double, housing_median_age: double, total_rooms: double, total_bedrooms: double, population: double, households: double, median_income: double, median_house_value: double]>"
      ]
     },
     "execution_count": 42,
     "metadata": {},
     "output_type": "execute_result"
    }
   ],
   "source": [
    "df_spark.describe"
   ]
  },
  {
   "cell_type": "code",
   "execution_count": 43,
   "metadata": {
    "colab": {
     "base_uri": "https://localhost:8080/",
     "height": 368
    },
    "executionInfo": {
     "elapsed": 4,
     "status": "ok",
     "timestamp": 1645549370543,
     "user": {
      "displayName": "Raul A. del Aguila",
      "photoUrl": "https://lh3.googleusercontent.com/a-/AOh14GhfFNUGPyK9gz8r-RWHTZpe0mOgynVvayaNWIW_6A=s64",
      "userId": "00351547175787129250"
     },
     "user_tz": -60
    },
    "id": "-1Mmq0cgwU3m",
    "outputId": "d6068602-f535-4b7e-b5cf-330d219c7b5b"
   },
   "outputs": [
    {
     "data": {
      "text/html": [
       "<div>\n",
       "<style scoped>\n",
       "    .dataframe tbody tr th:only-of-type {\n",
       "        vertical-align: middle;\n",
       "    }\n",
       "\n",
       "    .dataframe tbody tr th {\n",
       "        vertical-align: top;\n",
       "    }\n",
       "\n",
       "    .dataframe thead th {\n",
       "        text-align: right;\n",
       "    }\n",
       "</style>\n",
       "<table border=\"1\" class=\"dataframe\">\n",
       "  <thead>\n",
       "    <tr style=\"text-align: right;\">\n",
       "      <th></th>\n",
       "      <th>longitude</th>\n",
       "      <th>latitude</th>\n",
       "      <th>housing_median_age</th>\n",
       "      <th>total_rooms</th>\n",
       "      <th>total_bedrooms</th>\n",
       "      <th>population</th>\n",
       "      <th>households</th>\n",
       "      <th>median_income</th>\n",
       "      <th>median_house_value</th>\n",
       "    </tr>\n",
       "  </thead>\n",
       "  <tbody>\n",
       "    <tr>\n",
       "      <th>count</th>\n",
       "      <td>10.000000</td>\n",
       "      <td>10.000000</td>\n",
       "      <td>10.000000</td>\n",
       "      <td>10.000000</td>\n",
       "      <td>10.000000</td>\n",
       "      <td>10.000000</td>\n",
       "      <td>10.000000</td>\n",
       "      <td>10.000000</td>\n",
       "      <td>10.000000</td>\n",
       "    </tr>\n",
       "    <tr>\n",
       "      <th>mean</th>\n",
       "      <td>-114.542000</td>\n",
       "      <td>34.000000</td>\n",
       "      <td>26.000000</td>\n",
       "      <td>2832.900000</td>\n",
       "      <td>658.900000</td>\n",
       "      <td>1042.400000</td>\n",
       "      <td>389.700000</td>\n",
       "      <td>2.217910</td>\n",
       "      <td>68300.000000</td>\n",
       "    </tr>\n",
       "    <tr>\n",
       "      <th>std</th>\n",
       "      <td>0.089294</td>\n",
       "      <td>0.519145</td>\n",
       "      <td>11.205158</td>\n",
       "      <td>2377.174534</td>\n",
       "      <td>595.440537</td>\n",
       "      <td>858.024242</td>\n",
       "      <td>283.480766</td>\n",
       "      <td>0.647966</td>\n",
       "      <td>13363.299659</td>\n",
       "    </tr>\n",
       "    <tr>\n",
       "      <th>min</th>\n",
       "      <td>-114.600000</td>\n",
       "      <td>33.570000</td>\n",
       "      <td>14.000000</td>\n",
       "      <td>720.000000</td>\n",
       "      <td>168.000000</td>\n",
       "      <td>333.000000</td>\n",
       "      <td>117.000000</td>\n",
       "      <td>1.493600</td>\n",
       "      <td>48100.000000</td>\n",
       "    </tr>\n",
       "    <tr>\n",
       "      <th>25%</th>\n",
       "      <td>-114.587500</td>\n",
       "      <td>33.615000</td>\n",
       "      <td>17.500000</td>\n",
       "      <td>1403.750000</td>\n",
       "      <td>254.250000</td>\n",
       "      <td>542.250000</td>\n",
       "      <td>229.250000</td>\n",
       "      <td>1.736225</td>\n",
       "      <td>60175.000000</td>\n",
       "    </tr>\n",
       "    <tr>\n",
       "      <th>50%</th>\n",
       "      <td>-114.575000</td>\n",
       "      <td>33.665000</td>\n",
       "      <td>22.500000</td>\n",
       "      <td>1499.000000</td>\n",
       "      <td>331.500000</td>\n",
       "      <td>729.000000</td>\n",
       "      <td>266.500000</td>\n",
       "      <td>2.051600</td>\n",
       "      <td>70150.000000</td>\n",
       "    </tr>\n",
       "    <tr>\n",
       "      <th>75%</th>\n",
       "      <td>-114.562500</td>\n",
       "      <td>34.347500</td>\n",
       "      <td>32.750000</td>\n",
       "      <td>4318.500000</td>\n",
       "      <td>1051.250000</td>\n",
       "      <td>1100.500000</td>\n",
       "      <td>469.750000</td>\n",
       "      <td>2.555300</td>\n",
       "      <td>78575.000000</td>\n",
       "    </tr>\n",
       "    <tr>\n",
       "      <th>max</th>\n",
       "      <td>-114.310000</td>\n",
       "      <td>34.830000</td>\n",
       "      <td>46.000000</td>\n",
       "      <td>7650.000000</td>\n",
       "      <td>1901.000000</td>\n",
       "      <td>3134.000000</td>\n",
       "      <td>1056.000000</td>\n",
       "      <td>3.343800</td>\n",
       "      <td>85700.000000</td>\n",
       "    </tr>\n",
       "  </tbody>\n",
       "</table>\n",
       "</div>"
      ],
      "text/plain": [
       "        longitude   latitude  housing_median_age  total_rooms  total_bedrooms   \n",
       "count   10.000000  10.000000           10.000000    10.000000       10.000000  \\\n",
       "mean  -114.542000  34.000000           26.000000  2832.900000      658.900000   \n",
       "std      0.089294   0.519145           11.205158  2377.174534      595.440537   \n",
       "min   -114.600000  33.570000           14.000000   720.000000      168.000000   \n",
       "25%   -114.587500  33.615000           17.500000  1403.750000      254.250000   \n",
       "50%   -114.575000  33.665000           22.500000  1499.000000      331.500000   \n",
       "75%   -114.562500  34.347500           32.750000  4318.500000     1051.250000   \n",
       "max   -114.310000  34.830000           46.000000  7650.000000     1901.000000   \n",
       "\n",
       "        population   households  median_income  median_house_value  \n",
       "count    10.000000    10.000000      10.000000           10.000000  \n",
       "mean   1042.400000   389.700000       2.217910        68300.000000  \n",
       "std     858.024242   283.480766       0.647966        13363.299659  \n",
       "min     333.000000   117.000000       1.493600        48100.000000  \n",
       "25%     542.250000   229.250000       1.736225        60175.000000  \n",
       "50%     729.000000   266.500000       2.051600        70150.000000  \n",
       "75%    1100.500000   469.750000       2.555300        78575.000000  \n",
       "max    3134.000000  1056.000000       3.343800        85700.000000  "
      ]
     },
     "execution_count": 43,
     "metadata": {},
     "output_type": "execute_result"
    }
   ],
   "source": [
    "df_spark.limit(10).toPandas().describe()"
   ]
  },
  {
   "cell_type": "markdown",
   "metadata": {
    "id": "4t0rUU48wqMG"
   },
   "source": [
    "`describe` se asemeja más a un `printSchema"
   ]
  },
  {
   "cell_type": "code",
   "execution_count": 44,
   "metadata": {
    "colab": {
     "base_uri": "https://localhost:8080/"
    },
    "executionInfo": {
     "elapsed": 2,
     "status": "ok",
     "timestamp": 1645549370922,
     "user": {
      "displayName": "Raul A. del Aguila",
      "photoUrl": "https://lh3.googleusercontent.com/a-/AOh14GhfFNUGPyK9gz8r-RWHTZpe0mOgynVvayaNWIW_6A=s64",
      "userId": "00351547175787129250"
     },
     "user_tz": -60
    },
    "id": "oWlUsfyDv85z",
    "outputId": "ec632687-f4c8-4285-d5ca-d0ddc386a36a"
   },
   "outputs": [
    {
     "name": "stdout",
     "output_type": "stream",
     "text": [
      "root\n",
      " |-- longitude: double (nullable = true)\n",
      " |-- latitude: double (nullable = true)\n",
      " |-- housing_median_age: double (nullable = true)\n",
      " |-- total_rooms: double (nullable = true)\n",
      " |-- total_bedrooms: double (nullable = true)\n",
      " |-- population: double (nullable = true)\n",
      " |-- households: double (nullable = true)\n",
      " |-- median_income: double (nullable = true)\n",
      " |-- median_house_value: double (nullable = true)\n",
      "\n"
     ]
    }
   ],
   "source": [
    "df_spark.printSchema()"
   ]
  },
  {
   "cell_type": "markdown",
   "metadata": {
    "id": "nMoLSdwRRFh_"
   },
   "source": [
    "Si queremos un comportamiento similar a la de `pandas`, tenemos que llamar al método `show` o identificar la columna en concreto. Por ejemplo, descripcion estadistica de una sola columna ('median_house_value'). \n",
    "\n",
    "**Pregunta**: qué está haciendo"
   ]
  },
  {
   "cell_type": "code",
   "execution_count": 45,
   "metadata": {
    "colab": {
     "base_uri": "https://localhost:8080/"
    },
    "executionInfo": {
     "elapsed": 1493,
     "status": "ok",
     "timestamp": 1645549373016,
     "user": {
      "displayName": "Raul A. del Aguila",
      "photoUrl": "https://lh3.googleusercontent.com/a-/AOh14GhfFNUGPyK9gz8r-RWHTZpe0mOgynVvayaNWIW_6A=s64",
      "userId": "00351547175787129250"
     },
     "user_tz": -60
    },
    "id": "NJUMqhmMKgXv",
    "outputId": "b9fe0629-9262-4d47-8c18-8fb4d252a212"
   },
   "outputs": [
    {
     "data": {
      "text/plain": [
       "DataFrame[summary: string, longitude: string, latitude: string, housing_median_age: string, total_rooms: string, total_bedrooms: string, population: string, households: string, median_income: string, median_house_value: string]"
      ]
     },
     "execution_count": 45,
     "metadata": {},
     "output_type": "execute_result"
    }
   ],
   "source": [
    "df_spark.describe()"
   ]
  },
  {
   "cell_type": "code",
   "execution_count": 46,
   "metadata": {
    "colab": {
     "base_uri": "https://localhost:8080/"
    },
    "executionInfo": {
     "elapsed": 875,
     "status": "ok",
     "timestamp": 1645549373890,
     "user": {
      "displayName": "Raul A. del Aguila",
      "photoUrl": "https://lh3.googleusercontent.com/a-/AOh14GhfFNUGPyK9gz8r-RWHTZpe0mOgynVvayaNWIW_6A=s64",
      "userId": "00351547175787129250"
     },
     "user_tz": -60
    },
    "id": "cUkyag5jx5FG",
    "outputId": "5cdfb707-44e1-4ad1-aaa0-0118795beef4"
   },
   "outputs": [
    {
     "name": "stderr",
     "output_type": "stream",
     "text": [
      "23/09/25 10:49:25 WARN package: Truncated the string representation of a plan since it was too large. This behavior can be adjusted by setting 'spark.sql.debug.maxToStringFields'.\n"
     ]
    },
    {
     "name": "stdout",
     "output_type": "stream",
     "text": [
      "+-------+-------------------+------------------+------------------+-----------------+-----------------+------------------+-----------------+------------------+------------------+\n",
      "|summary|          longitude|          latitude|housing_median_age|      total_rooms|   total_bedrooms|        population|       households|     median_income|median_house_value|\n",
      "+-------+-------------------+------------------+------------------+-----------------+-----------------+------------------+-----------------+------------------+------------------+\n",
      "|  count|              17000|             17000|             17000|            17000|            17000|             17000|            17000|             17000|             17000|\n",
      "|   mean|-119.56210823529375|  35.6252247058827| 28.58935294117647|2643.664411764706|539.4108235294118|1429.5739411764705|501.2219411764706| 3.883578100000021|207300.91235294117|\n",
      "| stddev| 2.0051664084260357|2.1373397946570867|12.586936981660406|2179.947071452777|421.4994515798648| 1147.852959159527|384.5208408559016|1.9081565183791036|115983.76438720895|\n",
      "|    min|            -124.35|             32.54|               1.0|              2.0|              1.0|               3.0|              1.0|            0.4999|           14999.0|\n",
      "|    max|            -114.31|             41.95|              52.0|          37937.0|           6445.0|           35682.0|           6082.0|           15.0001|          500001.0|\n",
      "+-------+-------------------+------------------+------------------+-----------------+-----------------+------------------+-----------------+------------------+------------------+\n",
      "\n"
     ]
    }
   ],
   "source": [
    "df_spark.describe().show()"
   ]
  },
  {
   "cell_type": "code",
   "execution_count": 47,
   "metadata": {
    "colab": {
     "base_uri": "https://localhost:8080/"
    },
    "executionInfo": {
     "elapsed": 685,
     "status": "ok",
     "timestamp": 1645549374573,
     "user": {
      "displayName": "Raul A. del Aguila",
      "photoUrl": "https://lh3.googleusercontent.com/a-/AOh14GhfFNUGPyK9gz8r-RWHTZpe0mOgynVvayaNWIW_6A=s64",
      "userId": "00351547175787129250"
     },
     "user_tz": -60
    },
    "id": "K0-lIrLpQJQX",
    "outputId": "22256ed3-96ee-41c5-9744-9f12511cc372"
   },
   "outputs": [
    {
     "name": "stdout",
     "output_type": "stream",
     "text": [
      "+-------+------------------+\n",
      "|summary|median_house_value|\n",
      "+-------+------------------+\n",
      "|  count|             17000|\n",
      "|   mean|207300.91235294117|\n",
      "| stddev|115983.76438720895|\n",
      "|    min|           14999.0|\n",
      "|    max|          500001.0|\n",
      "+-------+------------------+\n",
      "\n"
     ]
    }
   ],
   "source": [
    "df_spark.describe(['median_house_value']).show()"
   ]
  },
  {
   "cell_type": "markdown",
   "metadata": {
    "id": "pOErJvSvrMsw"
   },
   "source": []
  },
  {
   "cell_type": "code",
   "execution_count": null,
   "metadata": {
    "id": "QEC1eJshw_AB"
   },
   "outputs": [],
   "source": []
  },
  {
   "cell_type": "markdown",
   "metadata": {
    "id": "qcukuEwtFf0s"
   },
   "source": [
    "# Operaciones básicas\n",
    "\n",
    "## Devolver los datos del dataframe\n",
    "\n",
    "Para devolver todos los datos de un pyspark dataframe, se usa la función `collect`:"
   ]
  },
  {
   "cell_type": "code",
   "execution_count": 48,
   "metadata": {
    "colab": {
     "base_uri": "https://localhost:8080/"
    },
    "executionInfo": {
     "elapsed": 391,
     "status": "ok",
     "timestamp": 1645549374963,
     "user": {
      "displayName": "Raul A. del Aguila",
      "photoUrl": "https://lh3.googleusercontent.com/a-/AOh14GhfFNUGPyK9gz8r-RWHTZpe0mOgynVvayaNWIW_6A=s64",
      "userId": "00351547175787129250"
     },
     "user_tz": -60
    },
    "id": "0_mabnX1phrq",
    "outputId": "81c64fc5-517c-4c4c-fd1c-dd9d725479d7"
   },
   "outputs": [
    {
     "data": {
      "text/plain": [
       "[Row(longitude=-114.31, latitude=34.19, housing_median_age=15.0, total_rooms=5612.0, total_bedrooms=1283.0, population=1015.0, households=472.0, median_income=1.4936, median_house_value=66900.0),\n",
       " Row(longitude=-114.47, latitude=34.4, housing_median_age=19.0, total_rooms=7650.0, total_bedrooms=1901.0, population=1129.0, households=463.0, median_income=1.82, median_house_value=80100.0),\n",
       " Row(longitude=-114.56, latitude=33.69, housing_median_age=17.0, total_rooms=720.0, total_bedrooms=174.0, population=333.0, households=117.0, median_income=1.6509, median_house_value=85700.0),\n",
       " Row(longitude=-114.57, latitude=33.64, housing_median_age=14.0, total_rooms=1501.0, total_bedrooms=337.0, population=515.0, households=226.0, median_income=3.1917, median_house_value=73400.0),\n",
       " Row(longitude=-114.57, latitude=33.57, housing_median_age=20.0, total_rooms=1454.0, total_bedrooms=326.0, population=624.0, households=262.0, median_income=1.925, median_house_value=65500.0),\n",
       " Row(longitude=-114.58, latitude=33.63, housing_median_age=29.0, total_rooms=1387.0, total_bedrooms=236.0, population=671.0, households=239.0, median_income=3.3438, median_house_value=74000.0),\n",
       " Row(longitude=-114.58, latitude=33.61, housing_median_age=25.0, total_rooms=2907.0, total_bedrooms=680.0, population=1841.0, households=633.0, median_income=2.6768, median_house_value=82400.0),\n",
       " Row(longitude=-114.59, latitude=34.83, housing_median_age=41.0, total_rooms=812.0, total_bedrooms=168.0, population=375.0, households=158.0, median_income=1.7083, median_house_value=48500.0),\n",
       " Row(longitude=-114.59, latitude=33.61, housing_median_age=34.0, total_rooms=4789.0, total_bedrooms=1175.0, population=3134.0, households=1056.0, median_income=2.1782, median_house_value=58400.0),\n",
       " Row(longitude=-114.6, latitude=34.83, housing_median_age=46.0, total_rooms=1497.0, total_bedrooms=309.0, population=787.0, households=271.0, median_income=2.1908, median_house_value=48100.0),\n",
       " Row(longitude=-114.6, latitude=33.62, housing_median_age=16.0, total_rooms=3741.0, total_bedrooms=801.0, population=2434.0, households=824.0, median_income=2.6797, median_house_value=86500.0),\n",
       " Row(longitude=-114.6, latitude=33.6, housing_median_age=21.0, total_rooms=1988.0, total_bedrooms=483.0, population=1182.0, households=437.0, median_income=1.625, median_house_value=62000.0),\n",
       " Row(longitude=-114.61, latitude=34.84, housing_median_age=48.0, total_rooms=1291.0, total_bedrooms=248.0, population=580.0, households=211.0, median_income=2.1571, median_house_value=48600.0),\n",
       " Row(longitude=-114.61, latitude=34.83, housing_median_age=31.0, total_rooms=2478.0, total_bedrooms=464.0, population=1346.0, households=479.0, median_income=3.212, median_house_value=70400.0),\n",
       " Row(longitude=-114.63, latitude=32.76, housing_median_age=15.0, total_rooms=1448.0, total_bedrooms=378.0, population=949.0, households=300.0, median_income=0.8585, median_house_value=45000.0),\n",
       " Row(longitude=-114.65, latitude=34.89, housing_median_age=17.0, total_rooms=2556.0, total_bedrooms=587.0, population=1005.0, households=401.0, median_income=1.6991, median_house_value=69100.0),\n",
       " Row(longitude=-114.65, latitude=33.6, housing_median_age=28.0, total_rooms=1678.0, total_bedrooms=322.0, population=666.0, households=256.0, median_income=2.9653, median_house_value=94900.0),\n",
       " Row(longitude=-114.65, latitude=32.79, housing_median_age=21.0, total_rooms=44.0, total_bedrooms=33.0, population=64.0, households=27.0, median_income=0.8571, median_house_value=25000.0),\n",
       " Row(longitude=-114.66, latitude=32.74, housing_median_age=17.0, total_rooms=1388.0, total_bedrooms=386.0, population=775.0, households=320.0, median_income=1.2049, median_house_value=44000.0),\n",
       " Row(longitude=-114.67, latitude=33.92, housing_median_age=17.0, total_rooms=97.0, total_bedrooms=24.0, population=29.0, households=15.0, median_income=1.2656, median_house_value=27500.0),\n",
       " Row(longitude=-114.68, latitude=33.49, housing_median_age=20.0, total_rooms=1491.0, total_bedrooms=360.0, population=1135.0, households=303.0, median_income=1.6395, median_house_value=44400.0),\n",
       " Row(longitude=-114.73, latitude=33.43, housing_median_age=24.0, total_rooms=796.0, total_bedrooms=243.0, population=227.0, households=139.0, median_income=0.8964, median_house_value=59200.0),\n",
       " Row(longitude=-114.94, latitude=34.55, housing_median_age=20.0, total_rooms=350.0, total_bedrooms=95.0, population=119.0, households=58.0, median_income=1.625, median_house_value=50000.0),\n",
       " Row(longitude=-114.98, latitude=33.82, housing_median_age=15.0, total_rooms=644.0, total_bedrooms=129.0, population=137.0, households=52.0, median_income=3.2097, median_house_value=71300.0),\n",
       " Row(longitude=-115.22, latitude=33.54, housing_median_age=18.0, total_rooms=1706.0, total_bedrooms=397.0, population=3424.0, households=283.0, median_income=1.625, median_house_value=53500.0),\n",
       " Row(longitude=-115.32, latitude=32.82, housing_median_age=34.0, total_rooms=591.0, total_bedrooms=139.0, population=327.0, households=89.0, median_income=3.6528, median_house_value=100000.0),\n",
       " Row(longitude=-115.37, latitude=32.82, housing_median_age=30.0, total_rooms=1602.0, total_bedrooms=322.0, population=1130.0, households=335.0, median_income=3.5735, median_house_value=71100.0),\n",
       " Row(longitude=-115.37, latitude=32.82, housing_median_age=14.0, total_rooms=1276.0, total_bedrooms=270.0, population=867.0, households=261.0, median_income=1.9375, median_house_value=80900.0),\n",
       " Row(longitude=-115.37, latitude=32.81, housing_median_age=32.0, total_rooms=741.0, total_bedrooms=191.0, population=623.0, households=169.0, median_income=1.7604, median_house_value=68600.0),\n",
       " Row(longitude=-115.37, latitude=32.81, housing_median_age=23.0, total_rooms=1458.0, total_bedrooms=294.0, population=866.0, households=275.0, median_income=2.3594, median_house_value=74300.0),\n",
       " Row(longitude=-115.38, latitude=32.82, housing_median_age=38.0, total_rooms=1892.0, total_bedrooms=394.0, population=1175.0, households=374.0, median_income=1.9939, median_house_value=65800.0),\n",
       " Row(longitude=-115.38, latitude=32.81, housing_median_age=35.0, total_rooms=1263.0, total_bedrooms=262.0, population=950.0, households=241.0, median_income=1.8958, median_house_value=67500.0),\n",
       " Row(longitude=-115.39, latitude=32.76, housing_median_age=16.0, total_rooms=1136.0, total_bedrooms=196.0, population=481.0, households=185.0, median_income=6.2558, median_house_value=146300.0),\n",
       " Row(longitude=-115.4, latitude=32.86, housing_median_age=19.0, total_rooms=1087.0, total_bedrooms=171.0, population=649.0, households=173.0, median_income=3.3182, median_house_value=113800.0),\n",
       " Row(longitude=-115.4, latitude=32.7, housing_median_age=19.0, total_rooms=583.0, total_bedrooms=113.0, population=531.0, households=134.0, median_income=1.6838, median_house_value=95800.0),\n",
       " Row(longitude=-115.41, latitude=32.99, housing_median_age=29.0, total_rooms=1141.0, total_bedrooms=220.0, population=684.0, households=194.0, median_income=3.4038, median_house_value=107800.0),\n",
       " Row(longitude=-115.46, latitude=33.19, housing_median_age=33.0, total_rooms=1234.0, total_bedrooms=373.0, population=777.0, households=298.0, median_income=1.0, median_house_value=40000.0),\n",
       " Row(longitude=-115.48, latitude=32.8, housing_median_age=21.0, total_rooms=1260.0, total_bedrooms=246.0, population=805.0, households=239.0, median_income=2.6172, median_house_value=88500.0),\n",
       " Row(longitude=-115.48, latitude=32.68, housing_median_age=15.0, total_rooms=3414.0, total_bedrooms=666.0, population=2097.0, households=622.0, median_income=2.3319, median_house_value=91200.0),\n",
       " Row(longitude=-115.49, latitude=32.87, housing_median_age=19.0, total_rooms=541.0, total_bedrooms=104.0, population=457.0, households=106.0, median_income=3.3583, median_house_value=102800.0),\n",
       " Row(longitude=-115.49, latitude=32.69, housing_median_age=17.0, total_rooms=1960.0, total_bedrooms=389.0, population=1691.0, households=356.0, median_income=1.899, median_house_value=64000.0),\n",
       " Row(longitude=-115.49, latitude=32.67, housing_median_age=29.0, total_rooms=1523.0, total_bedrooms=440.0, population=1302.0, households=393.0, median_income=1.1311, median_house_value=84700.0),\n",
       " Row(longitude=-115.49, latitude=32.67, housing_median_age=25.0, total_rooms=2322.0, total_bedrooms=573.0, population=2185.0, households=602.0, median_income=1.375, median_house_value=70100.0),\n",
       " Row(longitude=-115.5, latitude=32.75, housing_median_age=13.0, total_rooms=330.0, total_bedrooms=72.0, population=822.0, households=64.0, median_income=3.4107, median_house_value=142500.0),\n",
       " Row(longitude=-115.5, latitude=32.68, housing_median_age=18.0, total_rooms=3631.0, total_bedrooms=913.0, population=3565.0, households=924.0, median_income=1.5931, median_house_value=88400.0),\n",
       " Row(longitude=-115.5, latitude=32.67, housing_median_age=35.0, total_rooms=2159.0, total_bedrooms=492.0, population=1694.0, households=475.0, median_income=2.1776, median_house_value=75500.0),\n",
       " Row(longitude=-115.51, latitude=33.24, housing_median_age=32.0, total_rooms=1995.0, total_bedrooms=523.0, population=1069.0, households=410.0, median_income=1.6552, median_house_value=43300.0),\n",
       " Row(longitude=-115.51, latitude=33.12, housing_median_age=21.0, total_rooms=1024.0, total_bedrooms=218.0, population=890.0, households=232.0, median_income=2.101, median_house_value=46700.0),\n",
       " Row(longitude=-115.51, latitude=32.99, housing_median_age=20.0, total_rooms=1402.0, total_bedrooms=287.0, population=1104.0, households=317.0, median_income=1.9088, median_house_value=63700.0),\n",
       " Row(longitude=-115.51, latitude=32.68, housing_median_age=11.0, total_rooms=2872.0, total_bedrooms=610.0, population=2644.0, households=581.0, median_income=2.625, median_house_value=72700.0),\n",
       " Row(longitude=-115.52, latitude=34.22, housing_median_age=30.0, total_rooms=540.0, total_bedrooms=136.0, population=122.0, households=63.0, median_income=1.3333, median_house_value=42500.0),\n",
       " Row(longitude=-115.52, latitude=33.13, housing_median_age=18.0, total_rooms=1109.0, total_bedrooms=283.0, population=1006.0, households=253.0, median_income=2.163, median_house_value=53400.0),\n",
       " Row(longitude=-115.52, latitude=33.12, housing_median_age=38.0, total_rooms=1327.0, total_bedrooms=262.0, population=784.0, households=231.0, median_income=1.8793, median_house_value=60800.0),\n",
       " Row(longitude=-115.52, latitude=32.98, housing_median_age=32.0, total_rooms=1615.0, total_bedrooms=382.0, population=1307.0, households=345.0, median_income=1.4583, median_house_value=58600.0),\n",
       " Row(longitude=-115.52, latitude=32.97, housing_median_age=24.0, total_rooms=1617.0, total_bedrooms=366.0, population=1416.0, households=401.0, median_income=1.975, median_house_value=66400.0),\n",
       " Row(longitude=-115.52, latitude=32.97, housing_median_age=10.0, total_rooms=1879.0, total_bedrooms=387.0, population=1376.0, households=337.0, median_income=1.9911, median_house_value=67500.0),\n",
       " Row(longitude=-115.52, latitude=32.77, housing_median_age=18.0, total_rooms=1715.0, total_bedrooms=337.0, population=1166.0, households=333.0, median_income=2.2417, median_house_value=79200.0),\n",
       " Row(longitude=-115.52, latitude=32.73, housing_median_age=17.0, total_rooms=1190.0, total_bedrooms=275.0, population=1113.0, households=258.0, median_income=2.3571, median_house_value=63100.0),\n",
       " Row(longitude=-115.52, latitude=32.67, housing_median_age=6.0, total_rooms=2804.0, total_bedrooms=581.0, population=2807.0, households=594.0, median_income=2.0625, median_house_value=67700.0),\n",
       " Row(longitude=-115.53, latitude=34.91, housing_median_age=12.0, total_rooms=807.0, total_bedrooms=199.0, population=246.0, households=102.0, median_income=2.5391, median_house_value=40000.0),\n",
       " Row(longitude=-115.53, latitude=32.99, housing_median_age=25.0, total_rooms=2578.0, total_bedrooms=634.0, population=2082.0, households=565.0, median_income=1.7159, median_house_value=62200.0),\n",
       " Row(longitude=-115.53, latitude=32.97, housing_median_age=35.0, total_rooms=1583.0, total_bedrooms=340.0, population=933.0, households=318.0, median_income=2.4063, median_house_value=70700.0),\n",
       " Row(longitude=-115.53, latitude=32.97, housing_median_age=34.0, total_rooms=2231.0, total_bedrooms=545.0, population=1568.0, households=510.0, median_income=1.5217, median_house_value=60300.0),\n",
       " Row(longitude=-115.53, latitude=32.73, housing_median_age=14.0, total_rooms=1527.0, total_bedrooms=325.0, population=1453.0, households=332.0, median_income=1.735, median_house_value=61200.0),\n",
       " Row(longitude=-115.54, latitude=32.99, housing_median_age=23.0, total_rooms=1459.0, total_bedrooms=373.0, population=1148.0, households=388.0, median_income=1.5372, median_house_value=69400.0),\n",
       " Row(longitude=-115.54, latitude=32.99, housing_median_age=17.0, total_rooms=1697.0, total_bedrooms=268.0, population=911.0, households=254.0, median_income=4.3523, median_house_value=96000.0),\n",
       " Row(longitude=-115.54, latitude=32.98, housing_median_age=27.0, total_rooms=1513.0, total_bedrooms=395.0, population=1121.0, households=381.0, median_income=1.9464, median_house_value=60600.0),\n",
       " Row(longitude=-115.54, latitude=32.97, housing_median_age=41.0, total_rooms=2429.0, total_bedrooms=454.0, population=1188.0, households=430.0, median_income=3.0091, median_house_value=70800.0),\n",
       " Row(longitude=-115.54, latitude=32.79, housing_median_age=23.0, total_rooms=1712.0, total_bedrooms=403.0, population=1370.0, households=377.0, median_income=1.275, median_house_value=60400.0),\n",
       " Row(longitude=-115.55, latitude=32.98, housing_median_age=33.0, total_rooms=2266.0, total_bedrooms=365.0, population=952.0, households=360.0, median_income=5.4349, median_house_value=143000.0),\n",
       " Row(longitude=-115.55, latitude=32.98, housing_median_age=24.0, total_rooms=2565.0, total_bedrooms=530.0, population=1447.0, households=473.0, median_income=3.2593, median_house_value=80800.0),\n",
       " Row(longitude=-115.55, latitude=32.82, housing_median_age=34.0, total_rooms=1540.0, total_bedrooms=316.0, population=1013.0, households=274.0, median_income=2.5664, median_house_value=67500.0),\n",
       " Row(longitude=-115.55, latitude=32.8, housing_median_age=23.0, total_rooms=666.0, total_bedrooms=142.0, population=580.0, households=160.0, median_income=2.1136, median_house_value=61000.0),\n",
       " Row(longitude=-115.55, latitude=32.79, housing_median_age=23.0, total_rooms=1004.0, total_bedrooms=221.0, population=697.0, households=201.0, median_income=1.6351, median_house_value=59600.0),\n",
       " Row(longitude=-115.55, latitude=32.79, housing_median_age=22.0, total_rooms=565.0, total_bedrooms=162.0, population=692.0, households=141.0, median_income=1.2083, median_house_value=53600.0),\n",
       " Row(longitude=-115.55, latitude=32.78, housing_median_age=5.0, total_rooms=2652.0, total_bedrooms=606.0, population=1767.0, households=536.0, median_income=2.8025, median_house_value=84300.0),\n",
       " Row(longitude=-115.56, latitude=32.96, housing_median_age=21.0, total_rooms=2164.0, total_bedrooms=480.0, population=1164.0, households=421.0, median_income=3.8177, median_house_value=107200.0),\n",
       " Row(longitude=-115.56, latitude=32.8, housing_median_age=28.0, total_rooms=1672.0, total_bedrooms=416.0, population=1335.0, households=397.0, median_income=1.5987, median_house_value=59400.0),\n",
       " Row(longitude=-115.56, latitude=32.8, housing_median_age=25.0, total_rooms=1311.0, total_bedrooms=375.0, population=1193.0, households=351.0, median_income=2.1979, median_house_value=63900.0),\n",
       " Row(longitude=-115.56, latitude=32.8, housing_median_age=15.0, total_rooms=1171.0, total_bedrooms=328.0, population=1024.0, households=298.0, median_income=1.3882, median_house_value=69400.0),\n",
       " Row(longitude=-115.56, latitude=32.79, housing_median_age=20.0, total_rooms=2372.0, total_bedrooms=835.0, population=2283.0, households=767.0, median_income=1.1707, median_house_value=62500.0),\n",
       " Row(longitude=-115.56, latitude=32.79, housing_median_age=18.0, total_rooms=1178.0, total_bedrooms=438.0, population=1377.0, households=429.0, median_income=1.3373, median_house_value=58300.0),\n",
       " Row(longitude=-115.56, latitude=32.78, housing_median_age=46.0, total_rooms=2511.0, total_bedrooms=490.0, population=1583.0, households=469.0, median_income=3.0603, median_house_value=70800.0),\n",
       " Row(longitude=-115.56, latitude=32.78, housing_median_age=35.0, total_rooms=1185.0, total_bedrooms=202.0, population=615.0, households=191.0, median_income=4.6154, median_house_value=86200.0),\n",
       " Row(longitude=-115.56, latitude=32.78, housing_median_age=29.0, total_rooms=1568.0, total_bedrooms=283.0, population=848.0, households=245.0, median_income=3.1597, median_house_value=76200.0),\n",
       " Row(longitude=-115.56, latitude=32.76, housing_median_age=15.0, total_rooms=1278.0, total_bedrooms=217.0, population=653.0, households=185.0, median_income=4.4821, median_house_value=140300.0),\n",
       " Row(longitude=-115.57, latitude=32.85, housing_median_age=33.0, total_rooms=1365.0, total_bedrooms=269.0, population=825.0, households=250.0, median_income=3.2396, median_house_value=62300.0),\n",
       " Row(longitude=-115.57, latitude=32.85, housing_median_age=17.0, total_rooms=1039.0, total_bedrooms=256.0, population=728.0, households=246.0, median_income=1.7411, median_house_value=63500.0),\n",
       " Row(longitude=-115.57, latitude=32.84, housing_median_age=29.0, total_rooms=1207.0, total_bedrooms=301.0, population=804.0, households=288.0, median_income=1.9531, median_house_value=61100.0),\n",
       " Row(longitude=-115.57, latitude=32.83, housing_median_age=31.0, total_rooms=1494.0, total_bedrooms=289.0, population=959.0, households=284.0, median_income=3.5282, median_house_value=67500.0),\n",
       " Row(longitude=-115.57, latitude=32.8, housing_median_age=16.0, total_rooms=2276.0, total_bedrooms=594.0, population=1184.0, households=513.0, median_income=1.875, median_house_value=93800.0),\n",
       " Row(longitude=-115.57, latitude=32.79, housing_median_age=34.0, total_rooms=1152.0, total_bedrooms=208.0, population=621.0, households=208.0, median_income=3.6042, median_house_value=73600.0),\n",
       " Row(longitude=-115.57, latitude=32.78, housing_median_age=20.0, total_rooms=1534.0, total_bedrooms=235.0, population=871.0, households=222.0, median_income=6.2715, median_house_value=97200.0),\n",
       " Row(longitude=-115.57, latitude=32.78, housing_median_age=15.0, total_rooms=1413.0, total_bedrooms=279.0, population=803.0, households=277.0, median_income=4.3021, median_house_value=87500.0),\n",
       " Row(longitude=-115.58, latitude=33.88, housing_median_age=21.0, total_rooms=1161.0, total_bedrooms=282.0, population=724.0, households=186.0, median_income=3.1827, median_house_value=71700.0),\n",
       " Row(longitude=-115.58, latitude=32.81, housing_median_age=5.0, total_rooms=805.0, total_bedrooms=143.0, population=458.0, households=143.0, median_income=4.475, median_house_value=96300.0),\n",
       " Row(longitude=-115.58, latitude=32.81, housing_median_age=10.0, total_rooms=1088.0, total_bedrooms=203.0, population=533.0, households=201.0, median_income=3.6597, median_house_value=87500.0),\n",
       " Row(longitude=-115.58, latitude=32.79, housing_median_age=14.0, total_rooms=1687.0, total_bedrooms=507.0, population=762.0, households=451.0, median_income=1.6635, median_house_value=64400.0),\n",
       " Row(longitude=-115.58, latitude=32.78, housing_median_age=5.0, total_rooms=2494.0, total_bedrooms=414.0, population=1416.0, households=421.0, median_income=5.7843, median_house_value=110100.0),\n",
       " Row(longitude=-115.59, latitude=32.85, housing_median_age=20.0, total_rooms=1608.0, total_bedrooms=274.0, population=862.0, households=248.0, median_income=4.875, median_house_value=90800.0),\n",
       " Row(longitude=-115.59, latitude=32.79, housing_median_age=8.0, total_rooms=2183.0, total_bedrooms=307.0, population=1000.0, households=287.0, median_income=6.3814, median_house_value=159900.0),\n",
       " Row(longitude=-115.59, latitude=32.69, housing_median_age=30.0, total_rooms=935.0, total_bedrooms=177.0, population=649.0, households=148.0, median_income=2.5769, median_house_value=94400.0),\n",
       " Row(longitude=-115.6, latitude=33.2, housing_median_age=37.0, total_rooms=709.0, total_bedrooms=187.0, population=390.0, households=142.0, median_income=2.4511, median_house_value=72500.0),\n",
       " Row(longitude=-115.6, latitude=32.87, housing_median_age=3.0, total_rooms=1629.0, total_bedrooms=317.0, population=1005.0, households=312.0, median_income=4.1293, median_house_value=83200.0),\n",
       " Row(longitude=-115.62, latitude=33.04, housing_median_age=20.0, total_rooms=1121.0, total_bedrooms=244.0, population=766.0, households=230.0, median_income=2.2969, median_house_value=62000.0),\n",
       " Row(longitude=-115.62, latitude=33.04, housing_median_age=17.0, total_rooms=1009.0, total_bedrooms=231.0, population=745.0, households=217.0, median_income=2.0463, median_house_value=61200.0),\n",
       " Row(longitude=-115.64, latitude=32.8, housing_median_age=23.0, total_rooms=1228.0, total_bedrooms=235.0, population=569.0, households=235.0, median_income=3.1667, median_house_value=125000.0),\n",
       " Row(longitude=-115.69, latitude=32.79, housing_median_age=18.0, total_rooms=1564.0, total_bedrooms=340.0, population=1161.0, households=343.0, median_income=2.1792, median_house_value=55200.0),\n",
       " Row(longitude=-115.72, latitude=32.75, housing_median_age=16.0, total_rooms=348.0, total_bedrooms=99.0, population=123.0, households=54.0, median_income=2.0938, median_house_value=87500.0),\n",
       " Row(longitude=-115.73, latitude=33.36, housing_median_age=19.0, total_rooms=749.0, total_bedrooms=238.0, population=476.0, households=169.0, median_income=1.7727, median_house_value=50000.0),\n",
       " Row(longitude=-115.73, latitude=33.35, housing_median_age=23.0, total_rooms=1586.0, total_bedrooms=448.0, population=338.0, households=182.0, median_income=1.2132, median_house_value=30000.0),\n",
       " Row(longitude=-115.73, latitude=33.09, housing_median_age=27.0, total_rooms=452.0, total_bedrooms=103.0, population=258.0, households=61.0, median_income=2.9, median_house_value=87500.0),\n",
       " Row(longitude=-115.73, latitude=32.8, housing_median_age=44.0, total_rooms=472.0, total_bedrooms=81.0, population=206.0, households=57.0, median_income=2.2083, median_house_value=93800.0),\n",
       " Row(longitude=-115.8, latitude=33.26, housing_median_age=2.0, total_rooms=96.0, total_bedrooms=18.0, population=30.0, households=16.0, median_income=5.3374, median_house_value=47500.0),\n",
       " Row(longitude=-115.84, latitude=33.49, housing_median_age=20.0, total_rooms=1660.0, total_bedrooms=379.0, population=637.0, households=250.0, median_income=2.0347, median_house_value=68900.0),\n",
       " Row(longitude=-115.85, latitude=34.2, housing_median_age=34.0, total_rooms=3868.0, total_bedrooms=1257.0, population=890.0, households=423.0, median_income=1.3571, median_house_value=41000.0),\n",
       " Row(longitude=-115.88, latitude=32.93, housing_median_age=15.0, total_rooms=208.0, total_bedrooms=49.0, population=51.0, households=20.0, median_income=4.0208, median_house_value=32500.0),\n",
       " Row(longitude=-115.9, latitude=33.34, housing_median_age=19.0, total_rooms=1210.0, total_bedrooms=248.0, population=329.0, households=155.0, median_income=1.7857, median_house_value=62800.0),\n",
       " Row(longitude=-115.91, latitude=33.36, housing_median_age=15.0, total_rooms=459.0, total_bedrooms=95.0, population=160.0, households=73.0, median_income=0.922, median_house_value=67500.0),\n",
       " Row(longitude=-115.93, latitude=35.55, housing_median_age=18.0, total_rooms=1321.0, total_bedrooms=272.0, population=754.0, households=226.0, median_income=3.4028, median_house_value=67500.0),\n",
       " Row(longitude=-115.94, latitude=33.38, housing_median_age=5.0, total_rooms=186.0, total_bedrooms=43.0, population=41.0, households=21.0, median_income=2.7, median_house_value=58800.0),\n",
       " Row(longitude=-115.95, latitude=33.28, housing_median_age=12.0, total_rooms=99.0, total_bedrooms=25.0, population=37.0, households=17.0, median_income=1.8958, median_house_value=53800.0),\n",
       " Row(longitude=-115.96, latitude=33.3, housing_median_age=27.0, total_rooms=322.0, total_bedrooms=81.0, population=112.0, households=57.0, median_income=1.125, median_house_value=54400.0),\n",
       " Row(longitude=-115.98, latitude=33.32, housing_median_age=8.0, total_rooms=240.0, total_bedrooms=46.0, population=63.0, households=24.0, median_income=1.4688, median_house_value=53800.0),\n",
       " Row(longitude=-115.99, latitude=33.4, housing_median_age=15.0, total_rooms=1945.0, total_bedrooms=536.0, population=515.0, households=273.0, median_income=2.0109, median_house_value=54300.0),\n",
       " Row(longitude=-116.0, latitude=33.19, housing_median_age=16.0, total_rooms=245.0, total_bedrooms=57.0, population=81.0, households=33.0, median_income=1.2639, median_house_value=51300.0),\n",
       " Row(longitude=-116.0, latitude=32.74, housing_median_age=26.0, total_rooms=1134.0, total_bedrooms=280.0, population=329.0, households=158.0, median_income=1.4338, median_house_value=43900.0),\n",
       " Row(longitude=-116.01, latitude=33.51, housing_median_age=24.0, total_rooms=2985.0, total_bedrooms=958.0, population=4042.0, households=905.0, median_income=1.7344, median_house_value=66400.0),\n",
       " Row(longitude=-116.01, latitude=33.41, housing_median_age=20.0, total_rooms=1996.0, total_bedrooms=515.0, population=659.0, households=295.0, median_income=2.8684, median_house_value=62800.0),\n",
       " Row(longitude=-116.02, latitude=34.18, housing_median_age=8.0, total_rooms=569.0, total_bedrooms=97.0, population=312.0, households=96.0, median_income=4.3021, median_house_value=94500.0),\n",
       " Row(longitude=-116.05, latitude=34.12, housing_median_age=19.0, total_rooms=301.0, total_bedrooms=65.0, population=150.0, households=56.0, median_income=3.125, median_house_value=65600.0),\n",
       " Row(longitude=-116.05, latitude=33.33, housing_median_age=17.0, total_rooms=290.0, total_bedrooms=94.0, population=135.0, households=57.0, median_income=1.7292, median_house_value=81300.0),\n",
       " Row(longitude=-116.06, latitude=34.2, housing_median_age=29.0, total_rooms=1202.0, total_bedrooms=290.0, population=383.0, households=156.0, median_income=1.3371, median_house_value=66900.0),\n",
       " Row(longitude=-116.06, latitude=34.15, housing_median_age=15.0, total_rooms=10377.0, total_bedrooms=2331.0, population=4507.0, households=1807.0, median_income=2.2466, median_house_value=66800.0),\n",
       " Row(longitude=-116.08, latitude=33.86, housing_median_age=16.0, total_rooms=381.0, total_bedrooms=89.0, population=182.0, households=75.0, median_income=2.425, median_house_value=76100.0),\n",
       " Row(longitude=-116.09, latitude=34.15, housing_median_age=13.0, total_rooms=9444.0, total_bedrooms=1997.0, population=4166.0, households=1482.0, median_income=2.6111, median_house_value=65600.0),\n",
       " Row(longitude=-116.11, latitude=33.64, housing_median_age=20.0, total_rooms=1273.0, total_bedrooms=354.0, population=1548.0, households=355.0, median_income=2.0871, median_house_value=84700.0),\n",
       " Row(longitude=-116.12, latitude=33.53, housing_median_age=17.0, total_rooms=2421.0, total_bedrooms=820.0, population=2971.0, households=685.0, median_income=1.654, median_house_value=100000.0),\n",
       " Row(longitude=-116.14, latitude=34.22, housing_median_age=32.0, total_rooms=3298.0, total_bedrooms=1228.0, population=763.0, households=360.0, median_income=1.875, median_house_value=47800.0),\n",
       " Row(longitude=-116.15, latitude=34.14, housing_median_age=18.0, total_rooms=3312.0, total_bedrooms=705.0, population=1251.0, households=512.0, median_income=3.0139, median_house_value=82600.0),\n",
       " Row(longitude=-116.15, latitude=33.69, housing_median_age=22.0, total_rooms=197.0, total_bedrooms=54.0, population=331.0, households=70.0, median_income=2.9286, median_house_value=112500.0),\n",
       " Row(longitude=-116.15, latitude=33.64, housing_median_age=10.0, total_rooms=1711.0, total_bedrooms=499.0, population=1896.0, households=443.0, median_income=1.6557, median_house_value=65400.0),\n",
       " Row(longitude=-116.16, latitude=33.68, housing_median_age=12.0, total_rooms=1230.0, total_bedrooms=277.0, population=1334.0, households=260.0, median_income=2.2679, median_house_value=61400.0),\n",
       " Row(longitude=-116.17, latitude=33.67, housing_median_age=18.0, total_rooms=3585.0, total_bedrooms=800.0, population=3873.0, households=788.0, median_income=2.5714, median_house_value=65900.0),\n",
       " Row(longitude=-116.17, latitude=33.66, housing_median_age=22.0, total_rooms=639.0, total_bedrooms=203.0, population=664.0, households=153.0, median_income=1.9306, median_house_value=47500.0),\n",
       " Row(longitude=-116.17, latitude=33.53, housing_median_age=13.0, total_rooms=1713.0, total_bedrooms=512.0, population=1978.0, households=442.0, median_income=2.1287, median_house_value=58600.0),\n",
       " Row(longitude=-116.18, latitude=33.69, housing_median_age=17.0, total_rooms=89.0, total_bedrooms=19.0, population=79.0, households=21.0, median_income=2.375, median_house_value=155000.0),\n",
       " Row(longitude=-116.18, latitude=33.67, housing_median_age=25.0, total_rooms=2888.0, total_bedrooms=654.0, population=2940.0, households=660.0, median_income=2.2141, median_house_value=66700.0),\n",
       " Row(longitude=-116.19, latitude=33.67, housing_median_age=16.0, total_rooms=1859.0, total_bedrooms=476.0, population=1994.0, households=477.0, median_income=1.7297, median_house_value=67500.0),\n",
       " Row(longitude=-116.2, latitude=33.7, housing_median_age=26.0, total_rooms=2399.0, total_bedrooms=625.0, population=2654.0, households=535.0, median_income=2.2989, median_house_value=60600.0),\n",
       " Row(longitude=-116.2, latitude=33.63, housing_median_age=23.0, total_rooms=1152.0, total_bedrooms=273.0, population=1077.0, households=235.0, median_income=2.5, median_house_value=96300.0),\n",
       " Row(longitude=-116.2, latitude=32.64, housing_median_age=28.0, total_rooms=1608.0, total_bedrooms=409.0, population=567.0, households=254.0, median_income=1.4648, median_house_value=61800.0),\n",
       " Row(longitude=-116.21, latitude=33.75, housing_median_age=22.0, total_rooms=894.0, total_bedrooms=192.0, population=830.0, households=202.0, median_income=3.0673, median_house_value=68200.0),\n",
       " Row(longitude=-116.21, latitude=33.72, housing_median_age=28.0, total_rooms=2488.0, total_bedrooms=714.0, population=2891.0, households=676.0, median_income=2.3169, median_house_value=68900.0),\n",
       " Row(longitude=-116.21, latitude=33.71, housing_median_age=19.0, total_rooms=3114.0, total_bedrooms=787.0, population=3157.0, households=772.0, median_income=1.7083, median_house_value=82200.0),\n",
       " Row(longitude=-116.21, latitude=33.68, housing_median_age=34.0, total_rooms=584.0, total_bedrooms=176.0, population=625.0, households=166.0, median_income=1.5809, median_house_value=100000.0),\n",
       " Row(longitude=-116.21, latitude=33.66, housing_median_age=19.0, total_rooms=1596.0, total_bedrooms=295.0, population=1201.0, households=282.0, median_income=3.8846, median_house_value=100900.0),\n",
       " Row(longitude=-116.22, latitude=36.0, housing_median_age=14.0, total_rooms=1372.0, total_bedrooms=386.0, population=436.0, households=213.0, median_income=1.1471, median_house_value=32900.0),\n",
       " Row(longitude=-116.22, latitude=34.21, housing_median_age=23.0, total_rooms=1175.0, total_bedrooms=468.0, population=355.0, households=151.0, median_income=2.2083, median_house_value=42500.0),\n",
       " Row(longitude=-116.22, latitude=33.74, housing_median_age=26.0, total_rooms=4120.0, total_bedrooms=858.0, population=2918.0, households=815.0, median_income=3.3107, median_house_value=69400.0),\n",
       " Row(longitude=-116.22, latitude=33.73, housing_median_age=38.0, total_rooms=1695.0, total_bedrooms=352.0, population=1279.0, households=305.0, median_income=2.1217, median_house_value=68500.0),\n",
       " Row(longitude=-116.22, latitude=33.72, housing_median_age=28.0, total_rooms=826.0, total_bedrooms=258.0, population=979.0, households=245.0, median_income=1.7172, median_house_value=58800.0),\n",
       " Row(longitude=-116.22, latitude=33.7, housing_median_age=9.0, total_rooms=3861.0, total_bedrooms=849.0, population=825.0, households=401.0, median_income=3.2833, median_house_value=124700.0),\n",
       " Row(longitude=-116.23, latitude=33.73, housing_median_age=29.0, total_rooms=1133.0, total_bedrooms=221.0, population=918.0, households=239.0, median_income=2.8648, median_house_value=72100.0),\n",
       " Row(longitude=-116.23, latitude=33.72, housing_median_age=32.0, total_rooms=4981.0, total_bedrooms=1326.0, population=3779.0, households=1186.0, median_income=1.7805, median_house_value=76900.0),\n",
       " Row(longitude=-116.23, latitude=33.71, housing_median_age=17.0, total_rooms=4874.0, total_bedrooms=1349.0, population=5032.0, households=1243.0, median_income=2.444, median_house_value=90000.0),\n",
       " Row(longitude=-116.24, latitude=33.73, housing_median_age=14.0, total_rooms=2774.0, total_bedrooms=566.0, population=1530.0, households=505.0, median_income=3.0682, median_house_value=104100.0),\n",
       " Row(longitude=-116.24, latitude=33.72, housing_median_age=25.0, total_rooms=5236.0, total_bedrooms=1039.0, population=2725.0, households=935.0, median_income=3.775, median_house_value=93400.0),\n",
       " Row(longitude=-116.24, latitude=33.71, housing_median_age=10.0, total_rooms=9033.0, total_bedrooms=2224.0, population=5525.0, households=1845.0, median_income=2.7598, median_house_value=95000.0),\n",
       " Row(longitude=-116.25, latitude=33.81, housing_median_age=24.0, total_rooms=880.0, total_bedrooms=187.0, population=507.0, households=169.0, median_income=3.4583, median_house_value=67500.0),\n",
       " Row(longitude=-116.25, latitude=33.75, housing_median_age=33.0, total_rooms=278.0, total_bedrooms=91.0, population=375.0, households=81.0, median_income=2.025, median_house_value=50000.0),\n",
       " Row(longitude=-116.25, latitude=33.69, housing_median_age=5.0, total_rooms=1664.0, total_bedrooms=444.0, population=907.0, households=374.0, median_income=2.7667, median_house_value=92900.0),\n",
       " Row(longitude=-116.26, latitude=33.65, housing_median_age=3.0, total_rooms=7437.0, total_bedrooms=1222.0, population=574.0, households=302.0, median_income=10.2948, median_house_value=382400.0),\n",
       " Row(longitude=-116.26, latitude=33.07, housing_median_age=17.0, total_rooms=934.0, total_bedrooms=284.0, population=452.0, households=184.0, median_income=1.9875, median_house_value=83700.0),\n",
       " Row(longitude=-116.27, latitude=34.13, housing_median_age=37.0, total_rooms=452.0, total_bedrooms=109.0, population=184.0, households=59.0, median_income=3.7292, median_house_value=65800.0),\n",
       " Row(longitude=-116.29, latitude=33.74, housing_median_age=6.0, total_rooms=12991.0, total_bedrooms=2555.0, population=4571.0, households=1926.0, median_income=4.7195, median_house_value=199300.0),\n",
       " Row(longitude=-116.29, latitude=33.72, housing_median_age=5.0, total_rooms=3584.0, total_bedrooms=760.0, population=1097.0, households=470.0, median_income=3.1771, median_house_value=167400.0),\n",
       " Row(longitude=-116.3, latitude=33.68, housing_median_age=10.0, total_rooms=2387.0, total_bedrooms=481.0, population=863.0, households=304.0, median_income=2.8882, median_house_value=137500.0),\n",
       " Row(longitude=-116.31, latitude=34.13, housing_median_age=20.0, total_rooms=2352.0, total_bedrooms=556.0, population=1217.0, households=481.0, median_income=1.6063, median_house_value=55400.0),\n",
       " Row(longitude=-116.31, latitude=33.67, housing_median_age=15.0, total_rooms=2214.0, total_bedrooms=410.0, population=1152.0, households=350.0, median_income=2.9187, median_house_value=93400.0),\n",
       " Row(longitude=-116.31, latitude=33.67, housing_median_age=11.0, total_rooms=4686.0, total_bedrooms=851.0, population=2466.0, households=731.0, median_income=3.3333, median_house_value=91800.0),\n",
       " Row(longitude=-116.31, latitude=33.66, housing_median_age=7.0, total_rooms=4497.0, total_bedrooms=831.0, population=2248.0, households=713.0, median_income=3.6354, median_house_value=98000.0),\n",
       " Row(longitude=-116.32, latitude=34.14, housing_median_age=18.0, total_rooms=1880.0, total_bedrooms=487.0, population=994.0, households=425.0, median_income=1.69, median_house_value=54200.0),\n",
       " Row(longitude=-116.32, latitude=34.1, housing_median_age=10.0, total_rooms=4256.0, total_bedrooms=861.0, population=1403.0, households=686.0, median_income=2.6618, median_house_value=81000.0),\n",
       " Row(longitude=-116.32, latitude=33.28, housing_median_age=19.0, total_rooms=1791.0, total_bedrooms=367.0, population=327.0, households=185.0, median_income=3.3625, median_house_value=100000.0),\n",
       " Row(longitude=-116.33, latitude=34.15, housing_median_age=13.0, total_rooms=1808.0, total_bedrooms=411.0, population=735.0, households=320.0, median_income=1.5489, median_house_value=57400.0),\n",
       " Row(longitude=-116.33, latitude=33.75, housing_median_age=5.0, total_rooms=19107.0, total_bedrooms=3923.0, population=2880.0, households=1376.0, median_income=4.036, median_house_value=158500.0),\n",
       " Row(longitude=-116.33, latitude=33.72, housing_median_age=11.0, total_rooms=12327.0, total_bedrooms=2000.0, population=2450.0, households=1139.0, median_income=7.4382, median_house_value=353100.0),\n",
       " Row(longitude=-116.34, latitude=33.36, housing_median_age=24.0, total_rooms=2746.0, total_bedrooms=514.0, population=731.0, households=295.0, median_income=3.3214, median_house_value=176400.0),\n",
       " Row(longitude=-116.35, latitude=34.13, housing_median_age=9.0, total_rooms=1969.0, total_bedrooms=406.0, population=805.0, households=349.0, median_income=1.5491, median_house_value=62300.0),\n",
       " Row(longitude=-116.35, latitude=32.74, housing_median_age=16.0, total_rooms=2595.0, total_bedrooms=606.0, population=1046.0, households=367.0, median_income=1.7137, median_house_value=110700.0),\n",
       " Row(longitude=-116.36, latitude=33.88, housing_median_age=11.0, total_rooms=12557.0, total_bedrooms=3098.0, population=2453.0, households=1232.0, median_income=1.7844, median_house_value=78500.0),\n",
       " Row(longitude=-116.37, latitude=33.72, housing_median_age=17.0, total_rooms=8626.0, total_bedrooms=1859.0, population=3497.0, households=1337.0, median_income=3.312, median_house_value=121300.0),\n",
       " Row(longitude=-116.37, latitude=33.69, housing_median_age=7.0, total_rooms=8806.0, total_bedrooms=1542.0, population=858.0, households=448.0, median_income=7.8005, median_house_value=318100.0),\n",
       " Row(longitude=-116.37, latitude=33.19, housing_median_age=12.0, total_rooms=4890.0, total_bedrooms=1152.0, population=1289.0, households=570.0, median_income=2.5795, median_house_value=98700.0),\n",
       " Row(longitude=-116.38, latitude=34.2, housing_median_age=14.0, total_rooms=4985.0, total_bedrooms=1238.0, population=2517.0, households=954.0, median_income=2.0674, median_house_value=65000.0),\n",
       " Row(longitude=-116.38, latitude=34.1, housing_median_age=6.0, total_rooms=2104.0, total_bedrooms=348.0, population=841.0, households=320.0, median_income=4.1458, median_house_value=116300.0),\n",
       " Row(longitude=-116.38, latitude=33.74, housing_median_age=7.0, total_rooms=17579.0, total_bedrooms=3479.0, population=3581.0, households=1820.0, median_income=4.084, median_house_value=194500.0),\n",
       " Row(longitude=-116.38, latitude=33.73, housing_median_age=10.0, total_rooms=11836.0, total_bedrooms=2405.0, population=3811.0, households=1570.0, median_income=4.0079, median_house_value=134500.0),\n",
       " Row(longitude=-116.38, latitude=33.71, housing_median_age=17.0, total_rooms=12509.0, total_bedrooms=2460.0, population=2737.0, households=1423.0, median_income=4.5556, median_house_value=258100.0),\n",
       " Row(longitude=-116.39, latitude=34.15, housing_median_age=15.0, total_rooms=5583.0, total_bedrooms=1149.0, population=2709.0, households=964.0, median_income=1.9779, median_house_value=73300.0),\n",
       " Row(longitude=-116.39, latitude=33.82, housing_median_age=15.0, total_rooms=11115.0, total_bedrooms=2257.0, population=4122.0, households=1653.0, median_income=2.7219, median_house_value=74400.0),\n",
       " Row(longitude=-116.39, latitude=33.72, housing_median_age=19.0, total_rooms=7646.0, total_bedrooms=1618.0, population=2496.0, households=1075.0, median_income=3.5569, median_house_value=128000.0),\n",
       " Row(longitude=-116.39, latitude=33.69, housing_median_age=10.0, total_rooms=11659.0, total_bedrooms=2007.0, population=2186.0, households=1083.0, median_income=6.9833, median_house_value=238800.0),\n",
       " Row(longitude=-116.4, latitude=34.12, housing_median_age=16.0, total_rooms=5648.0, total_bedrooms=1089.0, population=2524.0, households=1008.0, median_income=2.6739, median_house_value=78000.0),\n",
       " Row(longitude=-116.4, latitude=34.09, housing_median_age=9.0, total_rooms=4855.0, total_bedrooms=872.0, population=2098.0, households=765.0, median_income=3.2723, median_house_value=97800.0),\n",
       " Row(longitude=-116.4, latitude=33.78, housing_median_age=8.0, total_rooms=3059.0, total_bedrooms=500.0, population=612.0, households=208.0, median_income=6.8729, median_house_value=259200.0),\n",
       " Row(longitude=-116.41, latitude=33.74, housing_median_age=25.0, total_rooms=2475.0, total_bedrooms=476.0, population=910.0, households=387.0, median_income=3.3639, median_house_value=168800.0),\n",
       " Row(longitude=-116.41, latitude=33.74, housing_median_age=17.0, total_rooms=4289.0, total_bedrooms=893.0, population=958.0, households=440.0, median_income=2.4659, median_house_value=177800.0),\n",
       " Row(longitude=-116.42, latitude=33.79, housing_median_age=12.0, total_rooms=7095.0, total_bedrooms=1260.0, population=1179.0, households=570.0, median_income=4.9444, median_house_value=285000.0),\n",
       " Row(longitude=-116.42, latitude=33.76, housing_median_age=14.0, total_rooms=16921.0, total_bedrooms=2837.0, population=2524.0, households=1262.0, median_income=7.6281, median_house_value=341700.0),\n",
       " Row(longitude=-116.42, latitude=33.68, housing_median_age=15.0, total_rooms=3895.0, total_bedrooms=782.0, population=900.0, households=529.0, median_income=2.2208, median_house_value=138300.0),\n",
       " Row(longitude=-116.42, latitude=33.51, housing_median_age=26.0, total_rooms=186.0, total_bedrooms=48.0, population=102.0, households=39.0, median_income=2.5625, median_house_value=103100.0),\n",
       " Row(longitude=-116.43, latitude=34.1, housing_median_age=17.0, total_rooms=6683.0, total_bedrooms=1296.0, population=2677.0, households=1227.0, median_income=2.4828, median_house_value=84000.0),\n",
       " Row(longitude=-116.43, latitude=33.81, housing_median_age=8.0, total_rooms=6710.0, total_bedrooms=1343.0, population=2069.0, households=781.0, median_income=3.5223, median_house_value=115100.0),\n",
       " Row(longitude=-116.43, latitude=33.75, housing_median_age=24.0, total_rooms=2596.0, total_bedrooms=438.0, population=473.0, households=237.0, median_income=3.7727, median_house_value=500001.0),\n",
       " Row(longitude=-116.44, latitude=34.16, housing_median_age=19.0, total_rooms=1867.0, total_bedrooms=361.0, population=758.0, households=321.0, median_income=2.8929, median_house_value=98100.0),\n",
       " Row(longitude=-116.44, latitude=34.12, housing_median_age=18.0, total_rooms=5584.0, total_bedrooms=1303.0, population=2250.0, households=1158.0, median_income=1.5823, median_house_value=72400.0),\n",
       " Row(longitude=-116.44, latitude=33.93, housing_median_age=17.0, total_rooms=5293.0, total_bedrooms=1266.0, population=1201.0, households=599.0, median_income=1.6849, median_house_value=88400.0),\n",
       " Row(longitude=-116.44, latitude=33.77, housing_median_age=18.0, total_rooms=4872.0, total_bedrooms=1110.0, population=955.0, households=656.0, median_income=2.2439, median_house_value=97500.0),\n",
       " Row(longitude=-116.44, latitude=33.74, housing_median_age=5.0, total_rooms=846.0, total_bedrooms=249.0, population=117.0, households=67.0, median_income=7.9885, median_house_value=403300.0),\n",
       " Row(longitude=-116.45, latitude=33.8, housing_median_age=9.0, total_rooms=5534.0, total_bedrooms=1206.0, population=2283.0, households=1008.0, median_income=3.6161, median_house_value=99100.0),\n",
       " Row(longitude=-116.45, latitude=33.78, housing_median_age=16.0, total_rooms=5228.0, total_bedrooms=992.0, population=1177.0, households=639.0, median_income=3.0859, median_house_value=134600.0),\n",
       " Row(longitude=-116.45, latitude=32.65, housing_median_age=22.0, total_rooms=2680.0, total_bedrooms=643.0, population=1644.0, households=516.0, median_income=2.1949, median_house_value=127100.0),\n",
       " Row(longitude=-116.46, latitude=33.82, housing_median_age=6.0, total_rooms=4863.0, total_bedrooms=920.0, population=3010.0, households=828.0, median_income=3.9508, median_house_value=104200.0),\n",
       " Row(longitude=-116.46, latitude=33.78, housing_median_age=33.0, total_rooms=2565.0, total_bedrooms=745.0, population=2301.0, households=638.0, median_income=2.5477, median_house_value=83000.0),\n",
       " Row(longitude=-116.47, latitude=34.07, housing_median_age=22.0, total_rooms=5473.0, total_bedrooms=1234.0, population=2581.0, households=1098.0, median_income=1.9375, median_house_value=65300.0),\n",
       " Row(longitude=-116.47, latitude=33.94, housing_median_age=18.0, total_rooms=2233.0, total_bedrooms=471.0, population=919.0, households=388.0, median_income=3.2578, median_house_value=85200.0),\n",
       " Row(longitude=-116.47, latitude=33.84, housing_median_age=3.0, total_rooms=9169.0, total_bedrooms=1512.0, population=3838.0, households=1270.0, median_income=4.3111, median_house_value=142500.0),\n",
       " Row(longitude=-116.47, latitude=33.81, housing_median_age=7.0, total_rooms=10105.0, total_bedrooms=2481.0, population=6274.0, households=2095.0, median_income=2.4497, median_house_value=90900.0),\n",
       " Row(longitude=-116.47, latitude=33.78, housing_median_age=27.0, total_rooms=1781.0, total_bedrooms=441.0, population=759.0, households=340.0, median_income=3.3162, median_house_value=113600.0),\n",
       " Row(longitude=-116.48, latitude=33.94, housing_median_age=10.0, total_rooms=3254.0, total_bedrooms=913.0, population=923.0, households=486.0, median_income=1.8, median_house_value=81000.0),\n",
       " Row(longitude=-116.48, latitude=33.79, housing_median_age=14.0, total_rooms=9425.0, total_bedrooms=2020.0, population=1711.0, households=1000.0, median_income=2.6298, median_house_value=145200.0),\n",
       " Row(longitude=-116.48, latitude=33.61, housing_median_age=8.0, total_rooms=1294.0, total_bedrooms=272.0, population=457.0, households=199.0, median_income=2.9167, median_house_value=115300.0),\n",
       " Row(longitude=-116.49, latitude=33.82, housing_median_age=27.0, total_rooms=3316.0, total_bedrooms=636.0, population=2362.0, households=532.0, median_income=2.9569, median_house_value=65900.0),\n",
       " Row(longitude=-116.49, latitude=33.8, housing_median_age=13.0, total_rooms=8789.0, total_bedrooms=1875.0, population=1274.0, households=688.0, median_income=3.7396, median_house_value=148900.0),\n",
       " Row(longitude=-116.5, latitude=33.98, housing_median_age=5.0, total_rooms=4332.0, total_bedrooms=868.0, population=1420.0, households=567.0, median_income=4.0417, median_house_value=146400.0),\n",
       " Row(longitude=-116.5, latitude=33.95, housing_median_age=10.0, total_rooms=7249.0, total_bedrooms=1882.0, population=4274.0, households=1621.0, median_income=1.6983, median_house_value=66600.0),\n",
       " Row(longitude=-116.5, latitude=33.82, housing_median_age=16.0, total_rooms=343.0, total_bedrooms=85.0, population=29.0, households=14.0, median_income=2.1042, median_house_value=87500.0),\n",
       " Row(longitude=-116.5, latitude=33.81, housing_median_age=26.0, total_rooms=5032.0, total_bedrooms=1229.0, population=3086.0, households=1183.0, median_income=2.5399, median_house_value=94800.0),\n",
       " Row(longitude=-116.5, latitude=33.69, housing_median_age=20.0, total_rooms=4810.0, total_bedrooms=1074.0, population=1304.0, households=740.0, median_income=2.25, median_house_value=248100.0),\n",
       " Row(longitude=-116.51, latitude=34.85, housing_median_age=15.0, total_rooms=3149.0, total_bedrooms=713.0, population=1281.0, households=486.0, median_income=2.0, median_house_value=64700.0),\n",
       " Row(longitude=-116.51, latitude=34.45, housing_median_age=21.0, total_rooms=8502.0, total_bedrooms=2634.0, population=2330.0, households=991.0, median_income=1.3811, median_house_value=51300.0),\n",
       " Row(longitude=-116.51, latitude=33.96, housing_median_age=16.0, total_rooms=4913.0, total_bedrooms=1395.0, population=2518.0, households=1132.0, median_income=1.4665, median_house_value=61100.0),\n",
       " Row(longitude=-116.51, latitude=33.94, housing_median_age=12.0, total_rooms=3369.0, total_bedrooms=780.0, population=1315.0, households=584.0, median_income=1.7388, median_house_value=66000.0),\n",
       " Row(longitude=-116.51, latitude=33.89, housing_median_age=21.0, total_rooms=1284.0, total_bedrooms=306.0, population=537.0, households=233.0, median_income=1.95, median_house_value=61000.0),\n",
       " Row(longitude=-116.52, latitude=33.97, housing_median_age=13.0, total_rooms=3921.0, total_bedrooms=754.0, population=1902.0, households=665.0, median_income=3.3616, median_house_value=89600.0),\n",
       " Row(longitude=-116.52, latitude=33.85, housing_median_age=13.0, total_rooms=7559.0, total_bedrooms=1444.0, population=3189.0, households=1105.0, median_income=3.4886, median_house_value=112500.0),\n",
       " Row(longitude=-116.52, latitude=33.84, housing_median_age=17.0, total_rooms=4465.0, total_bedrooms=859.0, population=853.0, households=445.0, median_income=3.6875, median_house_value=130400.0),\n",
       " Row(longitude=-116.52, latitude=33.82, housing_median_age=21.0, total_rooms=10227.0, total_bedrooms=2315.0, population=3623.0, households=1734.0, median_income=2.5212, median_house_value=145200.0),\n",
       " Row(longitude=-116.52, latitude=32.9, housing_median_age=18.0, total_rooms=4454.0, total_bedrooms=852.0, population=1754.0, households=656.0, median_income=4.57, median_house_value=189900.0),\n",
       " Row(longitude=-116.53, latitude=33.95, housing_median_age=18.0, total_rooms=2990.0, total_bedrooms=648.0, population=1280.0, households=532.0, median_income=2.625, median_house_value=68200.0),\n",
       " Row(longitude=-116.53, latitude=33.88, housing_median_age=5.0, total_rooms=4423.0, total_bedrooms=763.0, population=1906.0, households=667.0, median_income=4.6855, median_house_value=125200.0),\n",
       " Row(longitude=-116.53, latitude=33.85, housing_median_age=16.0, total_rooms=10077.0, total_bedrooms=2186.0, population=3048.0, households=1337.0, median_income=2.9647, median_house_value=110900.0),\n",
       " Row(longitude=-116.53, latitude=33.84, housing_median_age=28.0, total_rooms=8399.0, total_bedrooms=1839.0, population=3470.0, households=1340.0, median_income=2.5885, median_house_value=159000.0),\n",
       " Row(longitude=-116.53, latitude=33.78, housing_median_age=18.0, total_rooms=2547.0, total_bedrooms=463.0, population=411.0, households=214.0, median_income=2.5489, median_house_value=220500.0),\n",
       " Row(longitude=-116.54, latitude=33.81, housing_median_age=31.0, total_rooms=6814.0, total_bedrooms=1714.0, population=2628.0, households=1341.0, median_income=2.1176, median_house_value=124100.0),\n",
       " Row(longitude=-116.54, latitude=33.81, housing_median_age=24.0, total_rooms=6087.0, total_bedrooms=1217.0, population=1721.0, households=833.0, median_income=3.1493, median_house_value=199400.0),\n",
       " Row(longitude=-116.54, latitude=33.8, housing_median_age=22.0, total_rooms=6050.0, total_bedrooms=1387.0, population=1432.0, households=890.0, median_income=2.2216, median_house_value=183900.0),\n",
       " Row(longitude=-116.54, latitude=33.79, housing_median_age=18.0, total_rooms=9374.0, total_bedrooms=1780.0, population=1678.0, households=919.0, median_income=3.9737, median_house_value=235600.0),\n",
       " Row(longitude=-116.55, latitude=33.84, housing_median_age=28.0, total_rooms=2992.0, total_bedrooms=562.0, population=676.0, households=346.0, median_income=5.7613, median_house_value=500001.0),\n",
       " Row(longitude=-116.56, latitude=34.06, housing_median_age=15.0, total_rooms=6928.0, total_bedrooms=1529.0, population=2568.0, households=1075.0, median_income=2.5405, median_house_value=69600.0),\n",
       " Row(longitude=-116.56, latitude=33.83, housing_median_age=36.0, total_rooms=1765.0, total_bedrooms=399.0, population=451.0, households=264.0, median_income=2.6083, median_house_value=321900.0),\n",
       " Row(longitude=-116.56, latitude=33.05, housing_median_age=15.0, total_rooms=1985.0, total_bedrooms=361.0, population=536.0, households=209.0, median_income=4.125, median_house_value=148200.0),\n",
       " Row(longitude=-116.57, latitude=35.43, housing_median_age=8.0, total_rooms=9975.0, total_bedrooms=1743.0, population=6835.0, households=1439.0, median_income=2.7138, median_house_value=22500.0),\n",
       " Row(longitude=-116.57, latitude=34.0, housing_median_age=20.0, total_rooms=260.0, total_bedrooms=67.0, population=69.0, households=50.0, median_income=3.5208, median_house_value=76600.0),\n",
       " Row(longitude=-116.57, latitude=33.94, housing_median_age=29.0, total_rooms=551.0, total_bedrooms=166.0, population=224.0, households=107.0, median_income=1.1917, median_house_value=50000.0),\n",
       " Row(longitude=-116.57, latitude=33.84, housing_median_age=18.0, total_rooms=7962.0, total_bedrooms=1652.0, population=2009.0, households=921.0, median_income=3.3897, median_house_value=230200.0),\n",
       " Row(longitude=-116.57, latitude=33.64, housing_median_age=10.0, total_rooms=489.0, total_bedrooms=82.0, population=183.0, households=74.0, median_income=6.2702, median_house_value=345500.0),\n",
       " Row(longitude=-116.58, latitude=32.69, housing_median_age=19.0, total_rooms=4085.0, total_bedrooms=876.0, population=2133.0, households=718.0, median_income=2.919, median_house_value=116500.0),\n",
       " Row(longitude=-116.6, latitude=33.49, housing_median_age=16.0, total_rooms=3730.0, total_bedrooms=827.0, population=1346.0, households=592.0, median_income=2.183, median_house_value=113500.0),\n",
       " Row(longitude=-116.6, latitude=33.06, housing_median_age=23.0, total_rooms=1731.0, total_bedrooms=365.0, population=612.0, households=258.0, median_income=2.7813, median_house_value=172900.0),\n",
       " Row(longitude=-116.61, latitude=33.04, housing_median_age=11.0, total_rooms=2522.0, total_bedrooms=538.0, population=616.0, households=269.0, median_income=3.875, median_house_value=198100.0),\n",
       " Row(longitude=-116.62, latitude=34.23, housing_median_age=14.0, total_rooms=6438.0, total_bedrooms=1719.0, population=1586.0, households=691.0, median_income=1.6136, median_house_value=67400.0),\n",
       " Row(longitude=-116.62, latitude=32.86, housing_median_age=18.0, total_rooms=4115.0, total_bedrooms=847.0, population=2032.0, households=745.0, median_income=4.0159, median_house_value=169100.0),\n",
       " Row(longitude=-116.66, latitude=32.79, housing_median_age=13.0, total_rooms=843.0, total_bedrooms=157.0, population=918.0, households=152.0, median_income=6.2152, median_house_value=240600.0),\n",
       " Row(longitude=-116.67, latitude=32.97, housing_median_age=16.0, total_rooms=349.0, total_bedrooms=74.0, population=120.0, households=43.0, median_income=5.359, median_house_value=193800.0),\n",
       " Row(longitude=-116.68, latitude=33.71, housing_median_age=21.0, total_rooms=3460.0, total_bedrooms=711.0, population=658.0, households=255.0, median_income=3.5882, median_house_value=161100.0),\n",
       " Row(longitude=-116.68, latitude=33.16, housing_median_age=26.0, total_rooms=1820.0, total_bedrooms=374.0, population=1001.0, households=324.0, median_income=2.1797, median_house_value=156300.0),\n",
       " Row(longitude=-116.71, latitude=33.94, housing_median_age=12.0, total_rooms=549.0, total_bedrooms=109.0, population=209.0, households=90.0, median_income=3.0208, median_house_value=66300.0),\n",
       " Row(longitude=-116.72, latitude=34.89, housing_median_age=14.0, total_rooms=4527.0, total_bedrooms=875.0, population=1640.0, households=590.0, median_income=2.8594, median_house_value=81700.0),\n",
       " Row(longitude=-116.72, latitude=33.56, housing_median_age=13.0, total_rooms=3166.0, total_bedrooms=682.0, population=1250.0, households=475.0, median_income=2.355, median_house_value=122900.0),\n",
       " Row(longitude=-116.74, latitude=33.62, housing_median_age=11.0, total_rooms=2385.0, total_bedrooms=661.0, population=682.0, households=242.0, median_income=2.9141, median_house_value=214300.0),\n",
       " Row(longitude=-116.74, latitude=33.33, housing_median_age=17.0, total_rooms=4190.0, total_bedrooms=946.0, population=1802.0, households=673.0, median_income=2.4744, median_house_value=158200.0),\n",
       " Row(longitude=-116.75, latitude=33.83, housing_median_age=16.0, total_rooms=5277.0, total_bedrooms=1070.0, population=657.0, households=276.0, median_income=3.3333, median_house_value=143400.0),\n",
       " Row(longitude=-116.75, latitude=32.85, housing_median_age=17.0, total_rooms=4863.0, total_bedrooms=845.0, population=2266.0, households=769.0, median_income=4.2321, median_house_value=217400.0),\n",
       " Row(longitude=-116.75, latitude=32.82, housing_median_age=17.0, total_rooms=3348.0, total_bedrooms=481.0, population=1222.0, households=443.0, median_income=6.6361, median_house_value=308600.0),\n",
       " Row(longitude=-116.76, latitude=34.29, housing_median_age=14.0, total_rooms=3959.0, total_bedrooms=849.0, population=1064.0, households=376.0, median_income=2.8214, median_house_value=111400.0),\n",
       " Row(longitude=-116.76, latitude=34.14, housing_median_age=4.0, total_rooms=42.0, total_bedrooms=10.0, population=9.0, households=3.0, median_income=0.536, median_house_value=42500.0),\n",
       " Row(longitude=-116.76, latitude=33.46, housing_median_age=6.0, total_rooms=1251.0, total_bedrooms=268.0, population=544.0, households=216.0, median_income=3.0694, median_house_value=173400.0),\n",
       " Row(longitude=-116.76, latitude=32.84, housing_median_age=16.0, total_rooms=3311.0, total_bedrooms=702.0, population=1627.0, households=624.0, median_income=3.1196, median_house_value=187200.0),\n",
       " Row(longitude=-116.76, latitude=32.74, housing_median_age=14.0, total_rooms=4085.0, total_bedrooms=751.0, population=2129.0, households=688.0, median_income=4.7367, median_house_value=214500.0),\n",
       " Row(longitude=-116.77, latitude=33.92, housing_median_age=19.0, total_rooms=2307.0, total_bedrooms=525.0, population=1266.0, households=437.0, median_income=1.6875, median_house_value=63000.0),\n",
       " Row(longitude=-116.78, latitude=33.0, housing_median_age=7.0, total_rooms=12480.0, total_bedrooms=1946.0, population=5102.0, households=1697.0, median_income=5.5102, median_house_value=221000.0),\n",
       " Row(longitude=-116.79, latitude=33.99, housing_median_age=16.0, total_rooms=319.0, total_bedrooms=68.0, population=212.0, households=67.0, median_income=1.4688, median_house_value=90000.0),\n",
       " Row(longitude=-116.79, latitude=32.84, housing_median_age=12.0, total_rooms=4281.0, total_bedrooms=786.0, population=1891.0, households=721.0, median_income=3.5769, median_house_value=231800.0),\n",
       " Row(longitude=-116.79, latitude=32.61, housing_median_age=19.0, total_rooms=2652.0, total_bedrooms=520.0, population=1421.0, households=491.0, median_income=3.5227, median_house_value=206100.0),\n",
       " Row(longitude=-116.8, latitude=33.8, housing_median_age=35.0, total_rooms=324.0, total_bedrooms=63.0, population=158.0, households=39.0, median_income=3.4167, median_house_value=100000.0),\n",
       " Row(longitude=-116.8, latitude=32.8, housing_median_age=11.0, total_rooms=3874.0, total_bedrooms=565.0, population=1672.0, households=546.0, median_income=6.1481, median_house_value=274600.0),\n",
       " Row(longitude=-116.82, latitude=34.24, housing_median_age=11.0, total_rooms=5799.0, total_bedrooms=1527.0, population=713.0, households=262.0, median_income=2.5147, median_house_value=84700.0),\n",
       " Row(longitude=-116.83, latitude=34.25, housing_median_age=15.0, total_rooms=8948.0, total_bedrooms=1985.0, population=1316.0, households=514.0, median_income=2.7375, median_house_value=90800.0),\n",
       " Row(longitude=-116.83, latitude=32.83, housing_median_age=6.0, total_rooms=3123.0, total_bedrooms=495.0, population=1513.0, households=480.0, median_income=5.4288, median_house_value=167800.0),\n",
       " Row(longitude=-116.84, latitude=33.01, housing_median_age=5.0, total_rooms=5673.0, total_bedrooms=855.0, population=2592.0, households=797.0, median_income=5.4155, median_house_value=199200.0),\n",
       " Row(longitude=-116.84, latitude=32.92, housing_median_age=20.0, total_rooms=1066.0, total_bedrooms=219.0, population=536.0, households=173.0, median_income=3.1607, median_house_value=119300.0),\n",
       " Row(longitude=-116.84, latitude=32.86, housing_median_age=16.0, total_rooms=2502.0, total_bedrooms=532.0, population=1211.0, households=494.0, median_income=3.2516, median_house_value=202100.0),\n",
       " Row(longitude=-116.85, latitude=34.98, housing_median_age=26.0, total_rooms=3606.0, total_bedrooms=792.0, population=1683.0, households=608.0, median_income=2.6587, median_house_value=57400.0),\n",
       " Row(longitude=-116.85, latitude=34.25, housing_median_age=5.0, total_rooms=5806.0, total_bedrooms=1030.0, population=569.0, households=219.0, median_income=4.0132, median_house_value=163100.0),\n",
       " Row(longitude=-116.85, latitude=32.83, housing_median_age=17.0, total_rooms=4234.0, total_bedrooms=770.0, population=2191.0, households=725.0, median_income=3.6445, median_house_value=197600.0),\n",
       " Row(longitude=-116.86, latitude=34.23, housing_median_age=13.0, total_rooms=4760.0, total_bedrooms=938.0, population=309.0, households=132.0, median_income=5.4618, median_house_value=147800.0),\n",
       " Row(longitude=-116.86, latitude=33.97, housing_median_age=11.0, total_rooms=658.0, total_bedrooms=131.0, population=376.0, households=120.0, median_income=2.3977, median_house_value=58000.0),\n",
       " Row(longitude=-116.86, latitude=33.84, housing_median_age=18.0, total_rooms=521.0, total_bedrooms=118.0, population=174.0, households=74.0, median_income=2.7788, median_house_value=91100.0),\n",
       " Row(longitude=-116.86, latitude=33.73, housing_median_age=13.0, total_rooms=2604.0, total_bedrooms=443.0, population=978.0, households=417.0, median_income=2.933, median_house_value=170700.0),\n",
       " Row(longitude=-116.86, latitude=33.05, housing_median_age=17.0, total_rooms=9044.0, total_bedrooms=1689.0, population=5030.0, households=1596.0, median_income=3.6348, median_house_value=164500.0),\n",
       " Row(longitude=-116.86, latitude=33.02, housing_median_age=17.0, total_rooms=401.0, total_bedrooms=68.0, population=251.0, households=69.0, median_income=4.6518, median_house_value=170200.0),\n",
       " Row(longitude=-116.86, latitude=32.87, housing_median_age=17.0, total_rooms=5799.0, total_bedrooms=921.0, population=2630.0, households=843.0, median_income=5.0524, median_house_value=285400.0),\n",
       " Row(longitude=-116.86, latitude=32.8, housing_median_age=19.0, total_rooms=1747.0, total_bedrooms=291.0, population=848.0, households=290.0, median_income=4.875, median_house_value=187200.0),\n",
       " Row(longitude=-116.87, latitude=33.94, housing_median_age=35.0, total_rooms=4448.0, total_bedrooms=906.0, population=2736.0, households=843.0, median_income=2.218, median_house_value=73400.0),\n",
       " Row(longitude=-116.87, latitude=33.93, housing_median_age=32.0, total_rooms=3141.0, total_bedrooms=812.0, population=2589.0, households=721.0, median_income=1.4556, median_house_value=54600.0),\n",
       " Row(longitude=-116.87, latitude=33.76, housing_median_age=5.0, total_rooms=4116.0, total_bedrooms=761.0, population=1714.0, households=717.0, median_income=2.5612, median_house_value=130800.0),\n",
       " Row(longitude=-116.87, latitude=33.57, housing_median_age=12.0, total_rooms=1153.0, total_bedrooms=265.0, population=446.0, households=195.0, median_income=3.038, median_house_value=128100.0),\n",
       " Row(longitude=-116.87, latitude=32.75, housing_median_age=15.0, total_rooms=2053.0, total_bedrooms=321.0, population=993.0, households=309.0, median_income=5.5164, median_house_value=248900.0),\n",
       " Row(longitude=-116.87, latitude=32.72, housing_median_age=13.0, total_rooms=3268.0, total_bedrooms=491.0, population=1431.0, households=503.0, median_income=5.7652, median_house_value=259900.0),\n",
       " Row(longitude=-116.88, latitude=34.25, housing_median_age=11.0, total_rooms=1089.0, total_bedrooms=198.0, population=230.0, households=90.0, median_income=4.9643, median_house_value=176000.0),\n",
       " Row(longitude=-116.88, latitude=34.24, housing_median_age=13.0, total_rooms=4137.0, total_bedrooms=796.0, population=573.0, households=218.0, median_income=4.6394, median_house_value=226500.0),\n",
       " Row(longitude=-116.88, latitude=34.19, housing_median_age=38.0, total_rooms=898.0, total_bedrooms=259.0, population=106.0, households=52.0, median_income=1.6875, median_house_value=225000.0),\n",
       " Row(longitude=-116.88, latitude=34.08, housing_median_age=52.0, total_rooms=3419.0, total_bedrooms=777.0, population=710.0, households=265.0, median_income=3.9028, median_house_value=128600.0),\n",
       " Row(longitude=-116.88, latitude=33.93, housing_median_age=37.0, total_rooms=1495.0, total_bedrooms=429.0, population=865.0, households=342.0, median_income=1.2188, median_house_value=55000.0),\n",
       " Row(longitude=-116.88, latitude=33.74, housing_median_age=20.0, total_rooms=3111.0, total_bedrooms=623.0, population=1000.0, households=508.0, median_income=1.5982, median_house_value=140000.0),\n",
       " Row(longitude=-116.88, latitude=33.05, housing_median_age=11.0, total_rooms=7217.0, total_bedrooms=1583.0, population=4197.0, households=1502.0, median_income=2.8827, median_house_value=166700.0),\n",
       " Row(longitude=-116.88, latitude=33.02, housing_median_age=16.0, total_rooms=3204.0, total_bedrooms=541.0, population=1818.0, households=529.0, median_income=5.2596, median_house_value=171500.0),\n",
       " Row(longitude=-116.88, latitude=32.86, housing_median_age=9.0, total_rooms=3049.0, total_bedrooms=471.0, population=1527.0, households=515.0, median_income=5.0733, median_house_value=196600.0),\n",
       " Row(longitude=-116.89, latitude=33.93, housing_median_age=29.0, total_rooms=4549.0, total_bedrooms=916.0, population=2494.0, households=912.0, median_income=2.0976, median_house_value=72600.0),\n",
       " Row(longitude=-116.89, latitude=33.92, housing_median_age=10.0, total_rooms=2653.0, total_bedrooms=621.0, population=1967.0, households=598.0, median_income=2.6643, median_house_value=81000.0),\n",
       " Row(longitude=-116.89, latitude=33.86, housing_median_age=2.0, total_rooms=6900.0, total_bedrooms=1238.0, population=1950.0, households=980.0, median_income=3.0417, median_house_value=146300.0),\n",
       " Row(longitude=-116.89, latitude=33.75, housing_median_age=23.0, total_rooms=2719.0, total_bedrooms=538.0, population=930.0, households=485.0, median_income=2.0154, median_house_value=81700.0),\n",
       " Row(longitude=-116.89, latitude=33.48, housing_median_age=14.0, total_rooms=1016.0, total_bedrooms=219.0, population=443.0, households=169.0, median_income=2.8071, median_house_value=137500.0),\n",
       " Row(longitude=-116.89, latitude=32.99, housing_median_age=14.0, total_rooms=2816.0, total_bedrooms=501.0, population=1448.0, households=452.0, median_income=5.0278, median_house_value=210900.0),\n",
       " Row(longitude=-116.89, latitude=32.85, housing_median_age=16.0, total_rooms=1743.0, total_bedrooms=333.0, population=652.0, households=322.0, median_income=2.8906, median_house_value=158300.0),\n",
       " Row(longitude=-116.89, latitude=32.85, housing_median_age=15.0, total_rooms=3560.0, total_bedrooms=593.0, population=1757.0, households=574.0, median_income=5.1185, median_house_value=185300.0),\n",
       " Row(longitude=-116.89, latitude=32.67, housing_median_age=9.0, total_rooms=2652.0, total_bedrooms=393.0, population=1355.0, households=362.0, median_income=6.2578, median_house_value=293100.0),\n",
       " Row(longitude=-116.9, latitude=34.69, housing_median_age=10.0, total_rooms=337.0, total_bedrooms=102.0, population=108.0, households=50.0, median_income=0.4999, median_house_value=55000.0),\n",
       " Row(longitude=-116.9, latitude=34.52, housing_median_age=20.0, total_rooms=3481.0, total_bedrooms=840.0, population=1694.0, households=587.0, median_income=1.4, median_house_value=77700.0),\n",
       " Row(longitude=-116.9, latitude=34.25, housing_median_age=16.0, total_rooms=3018.0, total_bedrooms=523.0, population=556.0, households=244.0, median_income=3.5288, median_house_value=189700.0),\n",
       " Row(longitude=-116.9, latitude=33.98, housing_median_age=30.0, total_rooms=3915.0, total_bedrooms=672.0, population=1820.0, households=643.0, median_income=3.6339, median_house_value=98600.0),\n",
       " Row(longitude=-116.9, latitude=33.93, housing_median_age=34.0, total_rooms=3183.0, total_bedrooms=738.0, population=1820.0, households=647.0, median_income=2.2321, median_house_value=71800.0),\n",
       " Row(longitude=-116.9, latitude=33.74, housing_median_age=14.0, total_rooms=2281.0, total_bedrooms=426.0, population=894.0, households=430.0, median_income=2.3712, median_house_value=127900.0),\n",
       " Row(longitude=-116.9, latitude=33.65, housing_median_age=15.0, total_rooms=652.0, total_bedrooms=149.0, population=248.0, households=97.0, median_income=2.1071, median_house_value=93800.0),\n",
       " Row(longitude=-116.9, latitude=33.22, housing_median_age=11.0, total_rooms=4132.0, total_bedrooms=773.0, population=2012.0, households=703.0, median_income=3.1906, median_house_value=234500.0),\n",
       " Row(longitude=-116.9, latitude=33.03, housing_median_age=11.0, total_rooms=3213.0, total_bedrooms=634.0, population=1975.0, households=579.0, median_income=3.475, median_house_value=167200.0),\n",
       " Row(longitude=-116.9, latitude=32.9, housing_median_age=19.0, total_rooms=3090.0, total_bedrooms=552.0, population=1621.0, households=520.0, median_income=4.0806, median_house_value=189200.0),\n",
       " Row(longitude=-116.9, latitude=32.84, housing_median_age=18.0, total_rooms=4215.0, total_bedrooms=810.0, population=2104.0, households=773.0, median_income=4.0873, median_house_value=146900.0),\n",
       " Row(longitude=-116.9, latitude=32.84, housing_median_age=18.0, total_rooms=3612.0, total_bedrooms=737.0, population=1864.0, households=713.0, median_income=2.7069, median_house_value=153800.0),\n",
       " Row(longitude=-116.9, latitude=32.79, housing_median_age=21.0, total_rooms=3770.0, total_bedrooms=491.0, population=1410.0, households=446.0, median_income=6.7685, median_house_value=294700.0),\n",
       " Row(longitude=-116.9, latitude=32.77, housing_median_age=8.0, total_rooms=3600.0, total_bedrooms=492.0, population=1421.0, households=482.0, median_income=6.2609, median_house_value=307100.0),\n",
       " Row(longitude=-116.91, latitude=34.0, housing_median_age=18.0, total_rooms=553.0, total_bedrooms=100.0, population=215.0, households=82.0, median_income=5.5, median_house_value=193800.0),\n",
       " Row(longitude=-116.91, latitude=33.75, housing_median_age=13.0, total_rooms=10886.0, total_bedrooms=2127.0, population=4266.0, households=1955.0, median_income=2.3169, median_house_value=123400.0),\n",
       " Row(longitude=-116.91, latitude=33.71, housing_median_age=19.0, total_rooms=6807.0, total_bedrooms=1164.0, population=2703.0, households=1055.0, median_income=3.1591, median_house_value=189700.0),\n",
       " Row(longitude=-116.91, latitude=32.87, housing_median_age=14.0, total_rooms=3048.0, total_bedrooms=597.0, population=1690.0, households=576.0, median_income=4.3818, median_house_value=147100.0),\n",
       " Row(longitude=-116.91, latitude=32.86, housing_median_age=15.0, total_rooms=3153.0, total_bedrooms=628.0, population=1633.0, households=527.0, median_income=3.6898, median_house_value=131000.0),\n",
       " Row(longitude=-116.91, latitude=32.86, housing_median_age=10.0, total_rooms=3699.0, total_bedrooms=838.0, population=2310.0, households=759.0, median_income=2.5365, median_house_value=139500.0),\n",
       " Row(longitude=-116.91, latitude=32.85, housing_median_age=21.0, total_rooms=4152.0, total_bedrooms=703.0, population=2255.0, households=697.0, median_income=4.5096, median_house_value=159500.0),\n",
       " Row(longitude=-116.91, latitude=32.83, housing_median_age=16.0, total_rooms=5203.0, total_bedrooms=898.0, population=2515.0, households=862.0, median_income=4.105, median_house_value=174400.0),\n",
       " Row(longitude=-116.91, latitude=32.82, housing_median_age=14.0, total_rooms=1978.0, total_bedrooms=424.0, population=1085.0, households=387.0, median_income=3.8073, median_house_value=170100.0),\n",
       " Row(longitude=-116.91, latitude=32.81, housing_median_age=22.0, total_rooms=4331.0, total_bedrooms=637.0, population=1952.0, households=654.0, median_income=5.4834, median_house_value=232000.0),\n",
       " Row(longitude=-116.91, latitude=32.8, housing_median_age=32.0, total_rooms=1943.0, total_bedrooms=287.0, population=1081.0, households=292.0, median_income=5.6846, median_house_value=208800.0),\n",
       " Row(longitude=-116.91, latitude=32.78, housing_median_age=15.0, total_rooms=4058.0, total_bedrooms=511.0, population=1580.0, households=473.0, median_income=7.5, median_house_value=316400.0),\n",
       " Row(longitude=-116.91, latitude=32.73, housing_median_age=8.0, total_rooms=4630.0, total_bedrooms=624.0, population=2048.0, households=575.0, median_income=6.4745, median_house_value=300300.0),\n",
       " Row(longitude=-116.92, latitude=33.63, housing_median_age=18.0, total_rooms=397.0, total_bedrooms=89.0, population=239.0, households=80.0, median_income=2.8125, median_house_value=143800.0),\n",
       " Row(longitude=-116.92, latitude=32.85, housing_median_age=23.0, total_rooms=1378.0, total_bedrooms=269.0, population=767.0, households=266.0, median_income=4.0625, median_house_value=145000.0),\n",
       " Row(longitude=-116.92, latitude=32.84, housing_median_age=16.0, total_rooms=4675.0, total_bedrooms=834.0, population=2188.0, households=817.0, median_income=4.6674, median_house_value=178000.0),\n",
       " Row(longitude=-116.92, latitude=32.82, housing_median_age=34.0, total_rooms=1765.0, total_bedrooms=284.0, population=772.0, households=282.0, median_income=5.0118, median_house_value=165300.0),\n",
       " Row(longitude=-116.92, latitude=32.82, housing_median_age=17.0, total_rooms=2492.0, total_bedrooms=494.0, population=1278.0, households=439.0, median_income=2.8875, median_house_value=155700.0),\n",
       " Row(longitude=-116.92, latitude=32.82, housing_median_age=16.0, total_rooms=2784.0, total_bedrooms=468.0, population=1458.0, households=465.0, median_income=4.0048, median_house_value=184600.0),\n",
       " Row(longitude=-116.92, latitude=32.8, housing_median_age=33.0, total_rooms=1518.0, total_bedrooms=268.0, population=857.0, households=272.0, median_income=3.5586, median_house_value=160400.0),\n",
       " Row(longitude=-116.92, latitude=32.78, housing_median_age=21.0, total_rooms=4192.0, total_bedrooms=752.0, population=2101.0, households=710.0, median_income=4.4306, median_house_value=159100.0),\n",
       " Row(longitude=-116.92, latitude=32.76, housing_median_age=9.0, total_rooms=1859.0, total_bedrooms=307.0, population=947.0, households=304.0, median_income=5.9202, median_house_value=181300.0),\n",
       " Row(longitude=-116.93, latitude=33.93, housing_median_age=13.0, total_rooms=7804.0, total_bedrooms=1594.0, population=3297.0, households=1469.0, median_income=2.0549, median_house_value=95600.0),\n",
       " Row(longitude=-116.93, latitude=33.75, housing_median_age=14.0, total_rooms=6027.0, total_bedrooms=1148.0, population=3136.0, households=1036.0, median_income=2.964, median_house_value=121500.0),\n",
       " Row(longitude=-116.93, latitude=33.74, housing_median_age=15.0, total_rooms=3757.0, total_bedrooms=666.0, population=1693.0, households=654.0, median_income=3.6806, median_house_value=112800.0),\n",
       " Row(longitude=-116.93, latitude=33.06, housing_median_age=16.0, total_rooms=3490.0, total_bedrooms=545.0, population=1628.0, households=535.0, median_income=4.8836, median_house_value=239900.0),\n",
       " Row(longitude=-116.93, latitude=32.87, housing_median_age=17.0, total_rooms=3722.0, total_bedrooms=670.0, population=1561.0, households=604.0, median_income=3.6027, median_house_value=211900.0),\n",
       " Row(longitude=-116.93, latitude=32.85, housing_median_age=5.0, total_rooms=4116.0, total_bedrooms=990.0, population=2770.0, households=905.0, median_income=3.1142, median_house_value=150000.0),\n",
       " Row(longitude=-116.93, latitude=32.85, housing_median_age=15.0, total_rooms=3273.0, total_bedrooms=895.0, population=1872.0, households=842.0, median_income=2.5388, median_house_value=119000.0),\n",
       " Row(longitude=-116.93, latitude=32.83, housing_median_age=21.0, total_rooms=1283.0, total_bedrooms=278.0, population=684.0, households=289.0, median_income=2.3203, median_house_value=163500.0),\n",
       " Row(longitude=-116.93, latitude=32.82, housing_median_age=26.0, total_rooms=4129.0, total_bedrooms=714.0, population=1820.0, households=718.0, median_income=4.2586, median_house_value=171000.0),\n",
       " Row(longitude=-116.93, latitude=32.81, housing_median_age=18.0, total_rooms=2447.0, total_bedrooms=466.0, population=1573.0, households=472.0, median_income=2.6429, median_house_value=125400.0),\n",
       " Row(longitude=-116.93, latitude=32.79, housing_median_age=23.0, total_rooms=5759.0, total_bedrooms=1258.0, population=3108.0, households=1202.0, median_income=3.0927, median_house_value=140600.0),\n",
       " Row(longitude=-116.93, latitude=32.79, housing_median_age=19.0, total_rooms=3354.0, total_bedrooms=699.0, population=1948.0, households=682.0, median_income=3.0192, median_house_value=142300.0),\n",
       " Row(longitude=-116.94, latitude=34.4, housing_median_age=20.0, total_rooms=6541.0, total_bedrooms=1401.0, population=2631.0, households=980.0, median_income=2.1339, median_house_value=78500.0),\n",
       " Row(longitude=-116.94, latitude=34.24, housing_median_age=27.0, total_rooms=12342.0, total_bedrooms=2630.0, population=1300.0, households=566.0, median_income=1.998, median_house_value=153500.0),\n",
       " Row(longitude=-116.94, latitude=33.77, housing_median_age=14.0, total_rooms=7240.0, total_bedrooms=1410.0, population=2708.0, households=1240.0, median_income=2.4145, median_house_value=137600.0),\n",
       " Row(longitude=-116.94, latitude=33.74, housing_median_age=19.0, total_rooms=2901.0, total_bedrooms=445.0, population=1414.0, households=475.0, median_income=4.6406, median_house_value=118900.0),\n",
       " Row(longitude=-116.94, latitude=33.73, housing_median_age=17.0, total_rooms=5160.0, total_bedrooms=851.0, population=2344.0, households=781.0, median_income=3.7175, median_house_value=120000.0),\n",
       " Row(longitude=-116.94, latitude=32.89, housing_median_age=24.0, total_rooms=2541.0, total_bedrooms=381.0, population=1078.0, households=372.0, median_income=5.2542, median_house_value=227800.0),\n",
       " Row(longitude=-116.94, latitude=32.87, housing_median_age=24.0, total_rooms=2824.0, total_bedrooms=441.0, population=1480.0, households=471.0, median_income=5.2614, median_house_value=177200.0),\n",
       " Row(longitude=-116.94, latitude=32.84, housing_median_age=32.0, total_rooms=1607.0, total_bedrooms=253.0, population=778.0, households=262.0, median_income=4.5278, median_house_value=166300.0),\n",
       " Row(longitude=-116.94, latitude=32.83, housing_median_age=38.0, total_rooms=1701.0, total_bedrooms=317.0, population=872.0, households=304.0, median_income=3.7831, median_house_value=147800.0),\n",
       " Row(longitude=-116.94, latitude=32.82, housing_median_age=35.0, total_rooms=1737.0, total_bedrooms=285.0, population=826.0, households=294.0, median_income=3.2411, median_house_value=159200.0),\n",
       " Row(longitude=-116.94, latitude=32.8, housing_median_age=28.0, total_rooms=3042.0, total_bedrooms=729.0, population=1964.0, households=703.0, median_income=2.4141, median_house_value=137500.0),\n",
       " Row(longitude=-116.94, latitude=32.8, housing_median_age=21.0, total_rooms=7906.0, total_bedrooms=2292.0, population=4868.0, households=2117.0, median_income=1.8937, median_house_value=109800.0),\n",
       " Row(longitude=-116.94, latitude=32.78, housing_median_age=17.0, total_rooms=13559.0, total_bedrooms=2656.0, population=6990.0, households=2533.0, median_income=3.434, median_house_value=193200.0),\n",
       " Row(longitude=-116.94, latitude=32.75, housing_median_age=4.0, total_rooms=14934.0, total_bedrooms=2479.0, population=6945.0, households=2418.0, median_income=5.1221, median_house_value=229700.0),\n",
       " Row(longitude=-116.95, latitude=33.97, housing_median_age=14.0, total_rooms=5320.0, total_bedrooms=974.0, population=1947.0, households=843.0, median_income=3.1393, median_house_value=116300.0),\n",
       " Row(longitude=-116.95, latitude=33.79, housing_median_age=8.0, total_rooms=10997.0, total_bedrooms=2205.0, population=5060.0, households=1949.0, median_income=2.1979, median_house_value=95300.0),\n",
       " Row(longitude=-116.95, latitude=33.78, housing_median_age=24.0, total_rooms=3409.0, total_bedrooms=804.0, population=1939.0, households=739.0, median_income=1.7303, median_house_value=74000.0),\n",
       " Row(longitude=-116.95, latitude=33.76, housing_median_age=10.0, total_rooms=6890.0, total_bedrooms=1702.0, population=3141.0, households=1451.0, median_income=1.7079, median_house_value=95900.0),\n",
       " Row(longitude=-116.95, latitude=33.75, housing_median_age=23.0, total_rooms=4676.0, total_bedrooms=1096.0, population=2770.0, households=1057.0, median_income=1.7847, median_house_value=109500.0),\n",
       " Row(longitude=-116.95, latitude=33.75, housing_median_age=19.0, total_rooms=2238.0, total_bedrooms=573.0, population=1190.0, households=507.0, median_income=2.0714, median_house_value=85800.0),\n",
       " Row(longitude=-116.95, latitude=33.74, housing_median_age=20.0, total_rooms=2233.0, total_bedrooms=431.0, population=1024.0, households=399.0, median_income=2.4554, median_house_value=89400.0),\n",
       " Row(longitude=-116.95, latitude=33.74, housing_median_age=18.0, total_rooms=1996.0, total_bedrooms=405.0, population=1270.0, households=400.0, median_income=2.7083, median_house_value=91200.0),\n",
       " Row(longitude=-116.95, latitude=33.73, housing_median_age=21.0, total_rooms=4587.0, total_bedrooms=810.0, population=2233.0, households=765.0, median_income=3.2371, median_house_value=94500.0),\n",
       " Row(longitude=-116.95, latitude=33.68, housing_median_age=11.0, total_rooms=1183.0, total_bedrooms=178.0, population=543.0, households=147.0, median_income=4.4792, median_house_value=173900.0),\n",
       " Row(longitude=-116.95, latitude=33.31, housing_median_age=16.0, total_rooms=2921.0, total_bedrooms=639.0, population=1838.0, households=540.0, median_income=2.2393, median_house_value=117000.0),\n",
       " Row(longitude=-116.95, latitude=32.96, housing_median_age=18.0, total_rooms=2087.0, total_bedrooms=353.0, population=992.0, households=329.0, median_income=4.5, median_house_value=222600.0),\n",
       " Row(longitude=-116.95, latitude=32.84, housing_median_age=31.0, total_rooms=1307.0, total_bedrooms=245.0, population=752.0, households=231.0, median_income=3.4286, median_house_value=129400.0),\n",
       " Row(longitude=-116.95, latitude=32.83, housing_median_age=14.0, total_rooms=12517.0, total_bedrooms=2506.0, population=6389.0, households=2333.0, median_income=3.3081, median_house_value=168700.0),\n",
       " Row(longitude=-116.95, latitude=32.82, housing_median_age=18.0, total_rooms=3038.0, total_bedrooms=592.0, population=1904.0, households=595.0, median_income=3.8024, median_house_value=144900.0),\n",
       " Row(longitude=-116.95, latitude=32.82, housing_median_age=12.0, total_rooms=5535.0, total_bedrooms=1434.0, population=3112.0, households=1262.0, median_income=2.5949, median_house_value=108300.0),\n",
       " Row(longitude=-116.95, latitude=32.81, housing_median_age=31.0, total_rooms=1277.0, total_bedrooms=293.0, population=698.0, households=237.0, median_income=3.1106, median_house_value=147700.0),\n",
       " Row(longitude=-116.95, latitude=32.81, housing_median_age=15.0, total_rooms=2619.0, total_bedrooms=599.0, population=1513.0, households=537.0, median_income=2.543, median_house_value=100000.0),\n",
       " Row(longitude=-116.95, latitude=32.79, housing_median_age=19.0, total_rooms=11391.0, total_bedrooms=3093.0, population=7178.0, households=2905.0, median_income=2.0326, median_house_value=123200.0),\n",
       " Row(longitude=-116.95, latitude=32.78, housing_median_age=33.0, total_rooms=2432.0, total_bedrooms=443.0, population=1147.0, households=427.0, median_income=3.3906, median_house_value=138100.0),\n",
       " Row(longitude=-116.95, latitude=32.78, housing_median_age=20.0, total_rooms=3425.0, total_bedrooms=448.0, population=1489.0, households=443.0, median_income=6.2552, median_house_value=296400.0),\n",
       " Row(longitude=-116.95, latitude=32.77, housing_median_age=25.0, total_rooms=3308.0, total_bedrooms=421.0, population=1201.0, households=414.0, median_income=6.3191, median_house_value=303400.0),\n",
       " Row(longitude=-116.95, latitude=32.76, housing_median_age=13.0, total_rooms=5543.0, total_bedrooms=857.0, population=2074.0, households=737.0, median_income=4.9528, median_house_value=266200.0),\n",
       " Row(longitude=-116.95, latitude=32.73, housing_median_age=17.0, total_rooms=1635.0, total_bedrooms=272.0, population=960.0, households=279.0, median_income=5.2671, median_house_value=157100.0),\n",
       " Row(longitude=-116.96, latitude=34.94, housing_median_age=20.0, total_rooms=2355.0, total_bedrooms=467.0, population=1198.0, households=428.0, median_income=3.9934, median_house_value=88500.0),\n",
       " Row(longitude=-116.96, latitude=34.83, housing_median_age=30.0, total_rooms=1211.0, total_bedrooms=289.0, population=611.0, households=230.0, median_income=1.6667, median_house_value=44700.0),\n",
       " Row(longitude=-116.96, latitude=33.94, housing_median_age=22.0, total_rooms=1999.0, total_bedrooms=497.0, population=1304.0, households=479.0, median_income=1.4063, median_house_value=81900.0),\n",
       " Row(longitude=-116.96, latitude=33.79, housing_median_age=21.0, total_rooms=2990.0, total_bedrooms=691.0, population=2108.0, households=660.0, median_income=2.0135, median_house_value=83000.0),\n",
       " Row(longitude=-116.96, latitude=33.75, housing_median_age=35.0, total_rooms=3269.0, total_bedrooms=757.0, population=2328.0, households=705.0, median_income=2.5898, median_house_value=76300.0),\n",
       " Row(longitude=-116.96, latitude=33.74, housing_median_age=19.0, total_rooms=3649.0, total_bedrooms=755.0, population=1717.0, households=696.0, median_income=2.2115, median_house_value=87600.0),\n",
       " Row(longitude=-116.96, latitude=33.73, housing_median_age=20.0, total_rooms=4735.0, total_bedrooms=973.0, population=2306.0, households=904.0, median_income=3.069, median_house_value=87000.0),\n",
       " Row(longitude=-116.96, latitude=32.9, housing_median_age=16.0, total_rooms=3047.0, total_bedrooms=495.0, population=1507.0, households=499.0, median_income=5.3008, median_house_value=186500.0),\n",
       " Row(longitude=-116.96, latitude=32.87, housing_median_age=17.0, total_rooms=4713.0, total_bedrooms=740.0, population=2531.0, households=723.0, median_income=4.8286, median_house_value=158500.0),\n",
       " Row(longitude=-116.96, latitude=32.86, housing_median_age=14.0, total_rooms=3064.0, total_bedrooms=496.0, population=1681.0, households=503.0, median_income=4.4347, median_house_value=160300.0),\n",
       " Row(longitude=-116.96, latitude=32.85, housing_median_age=11.0, total_rooms=9724.0, total_bedrooms=1796.0, population=5247.0, households=1777.0, median_income=4.1716, median_house_value=166100.0),\n",
       " Row(longitude=-116.96, latitude=32.81, housing_median_age=8.0, total_rooms=2378.0, total_bedrooms=638.0, population=1410.0, households=623.0, median_income=2.9097, median_house_value=152500.0),\n",
       " Row(longitude=-116.96, latitude=32.8, housing_median_age=25.0, total_rooms=3421.0, total_bedrooms=803.0, population=1681.0, households=742.0, median_income=3.369, median_house_value=134400.0),\n",
       " Row(longitude=-116.96, latitude=32.8, housing_median_age=19.0, total_rooms=4574.0, total_bedrooms=1152.0, population=3045.0, households=1057.0, median_income=2.065, median_house_value=124100.0),\n",
       " Row(longitude=-116.96, latitude=32.8, housing_median_age=16.0, total_rooms=3920.0, total_bedrooms=1094.0, population=2612.0, households=1023.0, median_income=1.3291, median_house_value=120800.0),\n",
       " Row(longitude=-116.96, latitude=32.79, housing_median_age=35.0, total_rooms=1081.0, total_bedrooms=266.0, population=691.0, households=259.0, median_income=2.6324, median_house_value=133700.0),\n",
       " Row(longitude=-116.96, latitude=32.79, housing_median_age=19.0, total_rooms=3008.0, total_bedrooms=693.0, population=2341.0, households=689.0, median_income=2.6087, median_house_value=123800.0),\n",
       " Row(longitude=-116.96, latitude=32.79, housing_median_age=17.0, total_rooms=5236.0, total_bedrooms=1325.0, population=3308.0, households=1233.0, median_income=2.3221, median_house_value=138800.0),\n",
       " Row(longitude=-116.96, latitude=32.78, housing_median_age=26.0, total_rooms=2807.0, total_bedrooms=630.0, population=1785.0, households=580.0, median_income=2.1638, median_house_value=132800.0),\n",
       " Row(longitude=-116.97, latitude=33.96, housing_median_age=12.0, total_rooms=5876.0, total_bedrooms=1222.0, population=2992.0, households=1151.0, median_income=2.4322, median_house_value=112100.0),\n",
       " Row(longitude=-116.97, latitude=33.94, housing_median_age=29.0, total_rooms=3197.0, total_bedrooms=632.0, population=1722.0, households=603.0, median_income=3.0432, median_house_value=91200.0),\n",
       " Row(longitude=-116.97, latitude=33.93, housing_median_age=29.0, total_rooms=2793.0, total_bedrooms=722.0, population=1583.0, households=626.0, median_income=1.424, median_house_value=73200.0),\n",
       " Row(longitude=-116.97, latitude=33.78, housing_median_age=24.0, total_rooms=2680.0, total_bedrooms=606.0, population=1728.0, households=527.0, median_income=2.535, median_house_value=74800.0),\n",
       " Row(longitude=-116.97, latitude=33.74, housing_median_age=31.0, total_rooms=2712.0, total_bedrooms=628.0, population=1519.0, households=629.0, median_income=1.942, median_house_value=86200.0),\n",
       " Row(longitude=-116.97, latitude=33.74, housing_median_age=20.0, total_rooms=3674.0, total_bedrooms=792.0, population=1498.0, households=758.0, median_income=2.2161, median_house_value=76900.0),\n",
       " Row(longitude=-116.97, latitude=33.13, housing_median_age=10.0, total_rooms=5149.0, total_bedrooms=851.0, population=2177.0, households=783.0, median_income=6.7957, median_house_value=287500.0),\n",
       " Row(longitude=-116.97, latitude=32.83, housing_median_age=23.0, total_rooms=149.0, total_bedrooms=32.0, population=101.0, households=34.0, median_income=2.6458, median_house_value=112500.0),\n",
       " Row(longitude=-116.97, latitude=32.8, housing_median_age=15.0, total_rooms=3927.0, total_bedrooms=1018.0, population=2204.0, households=977.0, median_income=2.4367, median_house_value=111400.0),\n",
       " Row(longitude=-116.97, latitude=32.79, housing_median_age=32.0, total_rooms=1255.0, total_bedrooms=338.0, population=782.0, households=302.0, median_income=2.6635, median_house_value=113600.0),\n",
       " Row(longitude=-116.97, latitude=32.79, housing_median_age=19.0, total_rooms=4108.0, total_bedrooms=1101.0, population=2971.0, households=1006.0, median_income=1.9893, median_house_value=112500.0),\n",
       " Row(longitude=-116.97, latitude=32.78, housing_median_age=37.0, total_rooms=1255.0, total_bedrooms=238.0, population=671.0, households=278.0, median_income=3.7019, median_house_value=138600.0),\n",
       " Row(longitude=-116.97, latitude=32.78, housing_median_age=35.0, total_rooms=1113.0, total_bedrooms=236.0, population=681.0, households=246.0, median_income=2.9784, median_house_value=136400.0),\n",
       " Row(longitude=-116.97, latitude=32.78, housing_median_age=26.0, total_rooms=8902.0, total_bedrooms=1413.0, population=3941.0, households=1387.0, median_income=4.7943, median_house_value=226900.0),\n",
       " Row(longitude=-116.97, latitude=32.76, housing_median_age=33.0, total_rooms=3071.0, total_bedrooms=466.0, population=1348.0, households=513.0, median_income=6.1768, median_house_value=228900.0),\n",
       " Row(longitude=-116.97, latitude=32.76, housing_median_age=26.0, total_rooms=2460.0, total_bedrooms=313.0, population=838.0, households=299.0, median_income=5.9878, median_house_value=270700.0),\n",
       " Row(longitude=-116.97, latitude=32.75, housing_median_age=28.0, total_rooms=3519.0, total_bedrooms=583.0, population=1720.0, households=590.0, median_income=4.7973, median_house_value=186900.0),\n",
       " Row(longitude=-116.97, latitude=32.74, housing_median_age=14.0, total_rooms=7410.0, total_bedrooms=1344.0, population=3597.0, households=1274.0, median_income=4.2192, median_house_value=176100.0),\n",
       " Row(longitude=-116.97, latitude=32.65, housing_median_age=4.0, total_rooms=16450.0, total_bedrooms=2833.0, population=7985.0, households=2683.0, median_income=5.6631, median_house_value=233400.0),\n",
       " Row(longitude=-116.97, latitude=32.56, housing_median_age=23.0, total_rooms=1262.0, total_bedrooms=294.0, population=5176.0, households=275.0, median_income=2.5625, median_house_value=153300.0),\n",
       " Row(longitude=-116.98, latitude=34.13, housing_median_age=16.0, total_rooms=2098.0, total_bedrooms=449.0, population=342.0, households=143.0, median_income=4.0333, median_house_value=133900.0),\n",
       " Row(longitude=-116.98, latitude=34.07, housing_median_age=21.0, total_rooms=739.0, total_bedrooms=125.0, population=199.0, households=82.0, median_income=4.8958, median_house_value=117500.0),\n",
       " Row(longitude=-116.98, latitude=34.05, housing_median_age=6.0, total_rooms=2290.0, total_bedrooms=312.0, population=957.0, households=274.0, median_income=7.2708, median_house_value=316700.0),\n",
       " Row(longitude=-116.98, latitude=33.94, housing_median_age=27.0, total_rooms=3459.0, total_bedrooms=640.0, population=1760.0, households=654.0, median_income=3.4545, median_house_value=89800.0),\n",
       " Row(longitude=-116.98, latitude=33.93, housing_median_age=40.0, total_rooms=2277.0, total_bedrooms=498.0, population=1391.0, households=453.0, median_income=1.9472, median_house_value=73200.0),\n",
       " Row(longitude=-116.98, latitude=33.93, housing_median_age=33.0, total_rooms=376.0, total_bedrooms=83.0, population=267.0, households=88.0, median_income=2.1581, median_house_value=68300.0),\n",
       " Row(longitude=-116.98, latitude=33.83, housing_median_age=15.0, total_rooms=2228.0, total_bedrooms=472.0, population=653.0, households=350.0, median_income=2.683, median_house_value=139300.0),\n",
       " Row(longitude=-116.98, latitude=33.77, housing_median_age=12.0, total_rooms=5829.0, total_bedrooms=1309.0, population=2711.0, households=1118.0, median_income=1.9707, median_house_value=107900.0),\n",
       " Row(longitude=-116.98, latitude=33.74, housing_median_age=25.0, total_rooms=4952.0, total_bedrooms=1062.0, population=1589.0, households=1024.0, median_income=1.8446, median_house_value=85700.0),\n",
       " Row(longitude=-116.98, latitude=32.88, housing_median_age=12.0, total_rooms=7320.0, total_bedrooms=1279.0, population=4048.0, households=1249.0, median_income=4.3952, median_house_value=151700.0),\n",
       " Row(longitude=-116.98, latitude=32.86, housing_median_age=19.0, total_rooms=2121.0, total_bedrooms=341.0, population=1236.0, households=353.0, median_income=4.7717, median_house_value=153200.0),\n",
       " Row(longitude=-116.98, latitude=32.86, housing_median_age=16.0, total_rooms=7718.0, total_bedrooms=1423.0, population=4383.0, households=1394.0, median_income=4.0693, median_house_value=146400.0),\n",
       " Row(longitude=-116.98, latitude=32.85, housing_median_age=12.0, total_rooms=3570.0, total_bedrooms=713.0, population=3321.0, households=666.0, median_income=4.0882, median_house_value=134500.0),\n",
       " Row(longitude=-116.98, latitude=32.8, housing_median_age=28.0, total_rooms=5721.0, total_bedrooms=1029.0, population=2672.0, households=1054.0, median_income=3.963, median_house_value=164400.0),\n",
       " Row(longitude=-116.98, latitude=32.79, housing_median_age=32.0, total_rooms=3756.0, total_bedrooms=662.0, population=1611.0, households=598.0, median_income=3.8667, median_house_value=189700.0),\n",
       " Row(longitude=-116.98, latitude=32.77, housing_median_age=29.0, total_rooms=3558.0, total_bedrooms=447.0, population=1097.0, households=445.0, median_income=8.093, median_house_value=379600.0),\n",
       " Row(longitude=-116.98, latitude=32.75, housing_median_age=25.0, total_rooms=4137.0, total_bedrooms=662.0, population=1905.0, households=630.0, median_income=4.375, median_house_value=214000.0),\n",
       " Row(longitude=-116.98, latitude=32.75, housing_median_age=18.0, total_rooms=1519.0, total_bedrooms=369.0, population=802.0, households=347.0, median_income=2.9886, median_house_value=170800.0),\n",
       " Row(longitude=-116.98, latitude=32.74, housing_median_age=24.0, total_rooms=977.0, total_bedrooms=147.0, population=454.0, households=169.0, median_income=4.9286, median_house_value=173700.0),\n",
       " Row(longitude=-116.98, latitude=32.74, housing_median_age=16.0, total_rooms=3361.0, total_bedrooms=537.0, population=1754.0, households=578.0, median_income=5.1098, median_house_value=162300.0),\n",
       " Row(longitude=-116.98, latitude=32.73, housing_median_age=16.0, total_rooms=952.0, total_bedrooms=143.0, population=530.0, households=143.0, median_income=5.0864, median_house_value=175300.0),\n",
       " Row(longitude=-116.98, latitude=32.72, housing_median_age=4.0, total_rooms=1078.0, total_bedrooms=158.0, population=571.0, households=184.0, median_income=4.6667, median_house_value=223300.0),\n",
       " Row(longitude=-116.98, latitude=32.71, housing_median_age=18.0, total_rooms=2355.0, total_bedrooms=444.0, population=1277.0, households=433.0, median_income=3.4551, median_house_value=121400.0),\n",
       " Row(longitude=-116.99, latitude=34.89, housing_median_age=24.0, total_rooms=2741.0, total_bedrooms=577.0, population=1551.0, households=522.0, median_income=3.474, median_house_value=70500.0),\n",
       " Row(longitude=-116.99, latitude=34.88, housing_median_age=23.0, total_rooms=6060.0, total_bedrooms=1165.0, population=2920.0, households=1072.0, median_income=3.1528, median_house_value=69000.0),\n",
       " Row(longitude=-116.99, latitude=34.3, housing_median_age=29.0, total_rooms=5055.0, total_bedrooms=1036.0, population=410.0, households=191.0, median_income=3.5104, median_house_value=157100.0),\n",
       " Row(longitude=-116.99, latitude=33.99, housing_median_age=22.0, total_rooms=4227.0, total_bedrooms=658.0, population=1849.0, households=619.0, median_income=4.7356, median_house_value=195900.0),\n",
       " Row(longitude=-116.99, latitude=33.92, housing_median_age=26.0, total_rooms=503.0, total_bedrooms=69.0, population=293.0, households=59.0, median_income=3.7083, median_house_value=147500.0),\n",
       " Row(longitude=-116.99, latitude=33.77, housing_median_age=7.0, total_rooms=10352.0, total_bedrooms=2007.0, population=3559.0, households=1689.0, median_income=2.2925, median_house_value=113100.0),\n",
       " Row(longitude=-116.99, latitude=33.76, housing_median_age=12.0, total_rooms=7626.0, total_bedrooms=1704.0, population=2823.0, households=1554.0, median_income=2.1722, median_house_value=69400.0),\n",
       " Row(longitude=-116.99, latitude=33.75, housing_median_age=18.0, total_rooms=9601.0, total_bedrooms=2401.0, population=4002.0, households=2106.0, median_income=1.4366, median_house_value=77000.0),\n",
       " Row(longitude=-116.99, latitude=33.73, housing_median_age=13.0, total_rooms=16148.0, total_bedrooms=3474.0, population=6159.0, households=3232.0, median_income=1.9961, median_house_value=97800.0),\n",
       " Row(longitude=-116.99, latitude=33.46, housing_median_age=13.0, total_rooms=1614.0, total_bedrooms=410.0, population=846.0, households=270.0, median_income=2.83, median_house_value=43000.0),\n",
       " Row(longitude=-116.99, latitude=32.96, housing_median_age=17.0, total_rooms=5509.0, total_bedrooms=866.0, population=2748.0, households=817.0, median_income=4.8854, median_house_value=181300.0),\n",
       " Row(longitude=-116.99, latitude=32.85, housing_median_age=32.0, total_rooms=5211.0, total_bedrooms=949.0, population=3025.0, households=948.0, median_income=4.0931, median_house_value=134200.0),\n",
       " Row(longitude=-116.99, latitude=32.83, housing_median_age=20.0, total_rooms=6696.0, total_bedrooms=1326.0, population=3687.0, households=1291.0, median_income=3.1979, median_house_value=154600.0),\n",
       " Row(longitude=-116.99, latitude=32.81, housing_median_age=25.0, total_rooms=4436.0, total_bedrooms=758.0, population=1997.0, households=738.0, median_income=4.2386, median_house_value=201000.0),\n",
       " Row(longitude=-116.99, latitude=32.81, housing_median_age=18.0, total_rooms=10968.0, total_bedrooms=1521.0, population=4439.0, households=1501.0, median_income=6.2787, median_house_value=250000.0),\n",
       " Row(longitude=-116.99, latitude=32.8, housing_median_age=34.0, total_rooms=3657.0, total_bedrooms=538.0, population=1513.0, households=562.0, median_income=5.2907, median_house_value=195800.0),\n",
       " Row(longitude=-116.99, latitude=32.79, housing_median_age=33.0, total_rooms=2420.0, total_bedrooms=393.0, population=1003.0, households=397.0, median_income=4.0658, median_house_value=165100.0),\n",
       " Row(longitude=-116.99, latitude=32.79, housing_median_age=26.0, total_rooms=3623.0, total_bedrooms=703.0, population=1609.0, households=669.0, median_income=3.744, median_house_value=165800.0),\n",
       " Row(longitude=-116.99, latitude=32.78, housing_median_age=29.0, total_rooms=1114.0, total_bedrooms=163.0, population=385.0, households=154.0, median_income=5.4333, median_house_value=222800.0),\n",
       " Row(longitude=-116.99, latitude=32.77, housing_median_age=35.0, total_rooms=2306.0, total_bedrooms=334.0, population=828.0, households=310.0, median_income=6.1103, median_house_value=301600.0),\n",
       " Row(longitude=-116.99, latitude=32.74, housing_median_age=18.0, total_rooms=3341.0, total_bedrooms=611.0, population=1952.0, households=602.0, median_income=3.9844, median_house_value=215300.0),\n",
       " Row(longitude=-116.99, latitude=32.74, housing_median_age=17.0, total_rooms=3101.0, total_bedrooms=547.0, population=1410.0, households=486.0, median_income=3.1771, median_house_value=189900.0),\n",
       " Row(longitude=-116.99, latitude=32.73, housing_median_age=30.0, total_rooms=1856.0, total_bedrooms=339.0, population=1103.0, households=379.0, median_income=4.0357, median_house_value=153800.0),\n",
       " Row(longitude=-116.99, latitude=32.72, housing_median_age=15.0, total_rooms=825.0, total_bedrooms=130.0, population=334.0, households=131.0, median_income=4.0391, median_house_value=169500.0),\n",
       " Row(longitude=-116.99, latitude=32.72, housing_median_age=14.0, total_rooms=1771.0, total_bedrooms=301.0, population=1046.0, households=284.0, median_income=4.775, median_house_value=143300.0),\n",
       " Row(longitude=-116.99, latitude=32.72, housing_median_age=13.0, total_rooms=1330.0, total_bedrooms=216.0, population=719.0, households=215.0, median_income=3.8295, median_house_value=149600.0),\n",
       " Row(longitude=-116.99, latitude=32.72, housing_median_age=11.0, total_rooms=1112.0, total_bedrooms=164.0, population=441.0, households=174.0, median_income=4.7679, median_house_value=169500.0),\n",
       " Row(longitude=-116.99, latitude=32.71, housing_median_age=21.0, total_rooms=3049.0, total_bedrooms=582.0, population=2355.0, households=585.0, median_income=3.8904, median_house_value=113800.0),\n",
       " Row(longitude=-116.99, latitude=32.7, housing_median_age=15.0, total_rooms=3660.0, total_bedrooms=622.0, population=2629.0, households=612.0, median_income=4.0444, median_house_value=150100.0),\n",
       " Row(longitude=-116.99, latitude=32.64, housing_median_age=15.0, total_rooms=4331.0, total_bedrooms=699.0, population=2046.0, households=627.0, median_income=3.9519, median_house_value=193500.0),\n",
       " Row(longitude=-117.0, latitude=34.89, housing_median_age=29.0, total_rooms=2637.0, total_bedrooms=512.0, population=1188.0, households=446.0, median_income=2.99, median_house_value=69400.0),\n",
       " Row(longitude=-117.0, latitude=34.87, housing_median_age=16.0, total_rooms=6862.0, total_bedrooms=1292.0, population=3562.0, households=1126.0, median_income=3.6091, median_house_value=87200.0),\n",
       " Row(longitude=-117.0, latitude=33.74, housing_median_age=8.0, total_rooms=5330.0, total_bedrooms=1529.0, population=2143.0, households=1107.0, median_income=2.1103, median_house_value=94400.0),\n",
       " Row(longitude=-117.0, latitude=33.29, housing_median_age=17.0, total_rooms=2073.0, total_bedrooms=313.0, population=573.0, households=221.0, median_income=8.2531, median_house_value=419200.0),\n",
       " Row(longitude=-117.0, latitude=32.87, housing_median_age=18.0, total_rooms=11544.0, total_bedrooms=1979.0, population=6296.0, households=1923.0, median_income=4.4904, median_house_value=150400.0),\n",
       " Row(longitude=-117.0, latitude=32.85, housing_median_age=24.0, total_rooms=1888.0, total_bedrooms=319.0, population=950.0, households=319.0, median_income=5.282, median_house_value=140800.0),\n",
       " Row(longitude=-117.0, latitude=32.8, housing_median_age=33.0, total_rooms=1816.0, total_bedrooms=325.0, population=768.0, households=316.0, median_income=4.5662, median_house_value=150300.0),\n",
       " Row(longitude=-117.0, latitude=32.77, housing_median_age=35.0, total_rooms=2114.0, total_bedrooms=317.0, population=881.0, households=320.0, median_income=5.5, median_house_value=241400.0),\n",
       " Row(longitude=-117.0, latitude=32.77, housing_median_age=30.0, total_rooms=1802.0, total_bedrooms=401.0, population=776.0, households=386.0, median_income=2.8125, median_house_value=173500.0),\n",
       " Row(longitude=-117.0, latitude=32.76, housing_median_age=31.0, total_rooms=2545.0, total_bedrooms=373.0, population=956.0, households=342.0, median_income=4.3977, median_house_value=226800.0),\n",
       " Row(longitude=-117.0, latitude=32.76, housing_median_age=31.0, total_rooms=1989.0, total_bedrooms=280.0, population=805.0, households=301.0, median_income=6.5645, median_house_value=189100.0),\n",
       " Row(longitude=-117.0, latitude=32.74, housing_median_age=17.0, total_rooms=2357.0, total_bedrooms=599.0, population=1423.0, households=510.0, median_income=1.8856, median_house_value=118800.0),\n",
       " Row(longitude=-117.0, latitude=32.72, housing_median_age=10.0, total_rooms=3817.0, total_bedrooms=943.0, population=2352.0, households=875.0, median_income=2.1362, median_house_value=143200.0),\n",
       " Row(longitude=-117.0, latitude=32.71, housing_median_age=22.0, total_rooms=2263.0, total_bedrooms=441.0, population=1395.0, households=416.0, median_income=3.725, median_house_value=123500.0),\n",
       " Row(longitude=-117.0, latitude=32.7, housing_median_age=23.0, total_rooms=2785.0, total_bedrooms=468.0, population=1456.0, households=449.0, median_income=4.3714, median_house_value=131000.0),\n",
       " Row(longitude=-117.0, latitude=32.67, housing_median_age=16.0, total_rooms=2238.0, total_bedrooms=307.0, population=1002.0, households=303.0, median_income=6.6143, median_house_value=264100.0),\n",
       " Row(longitude=-117.0, latitude=32.64, housing_median_age=11.0, total_rooms=3098.0, total_bedrooms=490.0, population=1391.0, households=484.0, median_income=4.9792, median_house_value=170400.0),\n",
       " Row(longitude=-117.01, latitude=34.9, housing_median_age=36.0, total_rooms=2181.0, total_bedrooms=555.0, population=1404.0, households=492.0, median_income=2.3077, median_house_value=55500.0),\n",
       " Row(longitude=-117.01, latitude=34.9, housing_median_age=34.0, total_rooms=2194.0, total_bedrooms=519.0, population=1326.0, households=515.0, median_income=2.1056, median_house_value=72000.0),\n",
       " Row(longitude=-117.01, latitude=34.89, housing_median_age=26.0, total_rooms=2599.0, total_bedrooms=498.0, population=1332.0, households=443.0, median_income=2.7198, median_house_value=70400.0),\n",
       " Row(longitude=-117.01, latitude=34.01, housing_median_age=15.0, total_rooms=5592.0, total_bedrooms=891.0, population=2419.0, households=840.0, median_income=4.7193, median_house_value=135200.0),\n",
       " Row(longitude=-117.01, latitude=33.97, housing_median_age=18.0, total_rooms=4775.0, total_bedrooms=886.0, population=1868.0, households=836.0, median_income=2.3355, median_house_value=118800.0),\n",
       " Row(longitude=-117.01, latitude=33.04, housing_median_age=13.0, total_rooms=4595.0, total_bedrooms=567.0, population=1643.0, households=544.0, median_income=7.7684, median_house_value=362300.0),\n",
       " Row(longitude=-117.01, latitude=32.99, housing_median_age=8.0, total_rooms=3372.0, total_bedrooms=430.0, population=1536.0, households=448.0, median_income=8.4284, median_house_value=378300.0),\n",
       " Row(longitude=-117.01, latitude=32.85, housing_median_age=23.0, total_rooms=2592.0, total_bedrooms=414.0, population=1401.0, households=431.0, median_income=5.4903, median_house_value=151400.0),\n",
       " Row(longitude=-117.01, latitude=32.84, housing_median_age=23.0, total_rooms=1951.0, total_bedrooms=395.0, population=901.0, households=378.0, median_income=3.1023, median_house_value=143300.0),\n",
       " Row(longitude=-117.01, latitude=32.83, housing_median_age=17.0, total_rooms=15401.0, total_bedrooms=3280.0, population=7302.0, households=3176.0, median_income=3.3067, median_house_value=121900.0),\n",
       " Row(longitude=-117.01, latitude=32.81, housing_median_age=26.0, total_rooms=4499.0, total_bedrooms=645.0, population=1866.0, households=626.0, median_income=5.516, median_house_value=185100.0),\n",
       " Row(longitude=-117.01, latitude=32.81, housing_median_age=21.0, total_rooms=4203.0, total_bedrooms=618.0, population=1620.0, households=600.0, median_income=5.3441, median_house_value=193500.0),\n",
       " Row(longitude=-117.01, latitude=32.8, housing_median_age=20.0, total_rooms=2705.0, total_bedrooms=545.0, population=1198.0, households=497.0, median_income=3.7159, median_house_value=168900.0),\n",
       " Row(longitude=-117.01, latitude=32.8, housing_median_age=17.0, total_rooms=1558.0, total_bedrooms=479.0, population=803.0, households=431.0, median_income=2.6934, median_house_value=160200.0),\n",
       " Row(longitude=-117.01, latitude=32.8, housing_median_age=17.0, total_rooms=1042.0, total_bedrooms=210.0, population=650.0, households=215.0, median_income=3.1, median_house_value=84200.0),\n",
       " Row(longitude=-117.01, latitude=32.79, housing_median_age=33.0, total_rooms=4015.0, total_bedrooms=663.0, population=1864.0, households=664.0, median_income=4.3152, median_house_value=159300.0),\n",
       " Row(longitude=-117.01, latitude=32.79, housing_median_age=31.0, total_rooms=3776.0, total_bedrooms=815.0, population=1886.0, households=799.0, median_income=3.4421, median_house_value=155300.0),\n",
       " Row(longitude=-117.01, latitude=32.78, housing_median_age=20.0, total_rooms=2616.0, total_bedrooms=597.0, population=1532.0, households=579.0, median_income=2.9896, median_house_value=235600.0),\n",
       " Row(longitude=-117.01, latitude=32.77, housing_median_age=43.0, total_rooms=841.0, total_bedrooms=192.0, population=496.0, households=207.0, median_income=3.0179, median_house_value=149300.0),\n",
       " Row(longitude=-117.01, latitude=32.77, housing_median_age=34.0, total_rooms=3330.0, total_bedrooms=723.0, population=1592.0, households=656.0, median_income=2.6678, median_house_value=164200.0),\n",
       " Row(longitude=-117.01, latitude=32.76, housing_median_age=34.0, total_rooms=3415.0, total_bedrooms=608.0, population=1464.0, households=593.0, median_income=4.0549, median_house_value=223700.0),\n",
       " Row(longitude=-117.01, latitude=32.76, housing_median_age=22.0, total_rooms=3626.0, total_bedrooms=824.0, population=1800.0, households=769.0, median_income=2.8594, median_house_value=189600.0),\n",
       " Row(longitude=-117.01, latitude=32.75, housing_median_age=34.0, total_rooms=2105.0, total_bedrooms=340.0, population=973.0, households=357.0, median_income=4.3088, median_house_value=152500.0),\n",
       " Row(longitude=-117.01, latitude=32.75, housing_median_age=26.0, total_rooms=4038.0, total_bedrooms=706.0, population=2065.0, households=687.0, median_income=3.9545, median_house_value=178100.0),\n",
       " Row(longitude=-117.01, latitude=32.74, housing_median_age=31.0, total_rooms=3473.0, total_bedrooms=722.0, population=2098.0, households=677.0, median_income=2.6973, median_house_value=135200.0),\n",
       " Row(longitude=-117.01, latitude=32.73, housing_median_age=22.0, total_rooms=2526.0, total_bedrooms=530.0, population=1556.0, households=529.0, median_income=2.8646, median_house_value=120800.0),\n",
       " Row(longitude=-117.01, latitude=32.72, housing_median_age=12.0, total_rooms=2914.0, total_bedrooms=734.0, population=2104.0, households=703.0, median_income=2.3068, median_house_value=132300.0),\n",
       " Row(longitude=-117.01, latitude=32.71, housing_median_age=20.0, total_rooms=3506.0, total_bedrooms=692.0, population=1977.0, households=668.0, median_income=2.981, median_house_value=129100.0),\n",
       " Row(longitude=-117.01, latitude=32.7, housing_median_age=7.0, total_rooms=2327.0, total_bedrooms=490.0, population=1304.0, households=445.0, median_income=3.3553, median_house_value=132200.0),\n",
       " Row(longitude=-117.01, latitude=32.7, housing_median_age=25.0, total_rooms=2321.0, total_bedrooms=398.0, population=1434.0, households=386.0, median_income=3.5341, median_house_value=120800.0),\n",
       " Row(longitude=-117.01, latitude=32.67, housing_median_age=17.0, total_rooms=2319.0, total_bedrooms=348.0, population=1125.0, households=337.0, median_income=5.551, median_house_value=266900.0),\n",
       " Row(longitude=-117.01, latitude=32.66, housing_median_age=11.0, total_rooms=9992.0, total_bedrooms=1368.0, population=4495.0, households=1316.0, median_income=6.9664, median_house_value=293900.0),\n",
       " Row(longitude=-117.01, latitude=32.63, housing_median_age=7.0, total_rooms=6483.0, total_bedrooms=976.0, population=3269.0, households=1005.0, median_income=5.7358, median_house_value=221600.0),\n",
       " Row(longitude=-117.02, latitude=36.4, housing_median_age=19.0, total_rooms=619.0, total_bedrooms=239.0, population=490.0, households=164.0, median_income=2.1, median_house_value=14999.0),\n",
       " Row(longitude=-117.02, latitude=34.9, housing_median_age=37.0, total_rooms=1199.0, total_bedrooms=351.0, population=782.0, households=296.0, median_income=1.6515, median_house_value=61600.0),\n",
       " Row(longitude=-117.02, latitude=34.89, housing_median_age=29.0, total_rooms=3111.0, total_bedrooms=661.0, population=1530.0, households=608.0, median_income=2.8281, median_house_value=69300.0),\n",
       " Row(longitude=-117.02, latitude=34.03, housing_median_age=19.0, total_rooms=4415.0, total_bedrooms=648.0, population=1627.0, households=619.0, median_income=4.2361, median_house_value=191600.0),\n",
       " Row(longitude=-117.02, latitude=33.95, housing_median_age=5.0, total_rooms=1822.0, total_bedrooms=367.0, population=798.0, households=313.0, median_income=2.8783, median_house_value=105200.0),\n",
       " Row(longitude=-117.02, latitude=33.81, housing_median_age=10.0, total_rooms=6317.0, total_bedrooms=1335.0, population=2625.0, households=1094.0, median_income=2.3, median_house_value=108900.0),\n",
       " Row(longitude=-117.02, latitude=33.76, housing_median_age=20.0, total_rooms=1317.0, total_bedrooms=203.0, population=453.0, households=158.0, median_income=2.8393, median_house_value=120700.0),\n",
       " Row(longitude=-117.02, latitude=33.73, housing_median_age=14.0, total_rooms=3700.0, total_bedrooms=750.0, population=1171.0, households=695.0, median_income=1.9476, median_house_value=112500.0),\n",
       " Row(longitude=-117.02, latitude=33.71, housing_median_age=6.0, total_rooms=8278.0, total_bedrooms=1579.0, population=3062.0, households=1446.0, median_income=3.0043, median_house_value=134700.0),\n",
       " Row(longitude=-117.02, latitude=33.6, housing_median_age=7.0, total_rooms=1972.0, total_bedrooms=352.0, population=964.0, households=317.0, median_income=3.244, median_house_value=337200.0),\n",
       " Row(longitude=-117.02, latitude=32.95, housing_median_age=25.0, total_rooms=1909.0, total_bedrooms=334.0, population=1043.0, households=322.0, median_income=3.7784, median_house_value=160100.0),\n",
       " Row(longitude=-117.02, latitude=32.84, housing_median_age=17.0, total_rooms=4013.0, total_bedrooms=673.0, population=2263.0, households=661.0, median_income=5.131, median_house_value=148300.0),\n",
       " Row(longitude=-117.02, latitude=32.81, housing_median_age=27.0, total_rooms=1950.0, total_bedrooms=317.0, population=950.0, households=320.0, median_income=4.0656, median_house_value=164000.0),\n",
       " Row(longitude=-117.02, latitude=32.81, housing_median_age=26.0, total_rooms=1998.0, total_bedrooms=301.0, population=874.0, households=305.0, median_income=5.4544, median_house_value=180900.0),\n",
       " Row(longitude=-117.02, latitude=32.81, housing_median_age=14.0, total_rooms=3173.0, total_bedrooms=599.0, population=1451.0, households=585.0, median_income=3.7292, median_house_value=182200.0),\n",
       " Row(longitude=-117.02, latitude=32.8, housing_median_age=29.0, total_rooms=1232.0, total_bedrooms=243.0, population=665.0, households=247.0, median_income=3.65, median_house_value=168900.0),\n",
       " Row(longitude=-117.02, latitude=32.8, housing_median_age=27.0, total_rooms=2369.0, total_bedrooms=370.0, population=927.0, households=374.0, median_income=4.1162, median_house_value=177200.0),\n",
       " Row(longitude=-117.02, latitude=32.79, housing_median_age=36.0, total_rooms=2211.0, total_bedrooms=384.0, population=868.0, households=329.0, median_income=4.0491, median_house_value=147900.0),\n",
       " Row(longitude=-117.02, latitude=32.78, housing_median_age=33.0, total_rooms=3481.0, total_bedrooms=708.0, population=1726.0, households=719.0, median_income=3.3675, median_house_value=158200.0),\n",
       " Row(longitude=-117.02, latitude=32.78, housing_median_age=31.0, total_rooms=2567.0, total_bedrooms=507.0, population=1198.0, households=499.0, median_income=3.4659, median_house_value=163000.0),\n",
       " Row(longitude=-117.02, latitude=32.76, housing_median_age=40.0, total_rooms=2523.0, total_bedrooms=488.0, population=976.0, households=470.0, median_income=3.11, median_house_value=185700.0),\n",
       " Row(longitude=-117.02, latitude=32.76, housing_median_age=15.0, total_rooms=1204.0, total_bedrooms=326.0, population=543.0, households=326.0, median_income=1.0278, median_house_value=154200.0),\n",
       " Row(longitude=-117.02, latitude=32.75, housing_median_age=33.0, total_rooms=3296.0, total_bedrooms=537.0, population=1345.0, households=556.0, median_income=5.2835, median_house_value=217100.0),\n",
       " Row(longitude=-117.02, latitude=32.74, housing_median_age=30.0, total_rooms=4205.0, total_bedrooms=772.0, population=2012.0, households=734.0, median_income=3.5, median_house_value=144700.0),\n",
       " Row(longitude=-117.02, latitude=32.74, housing_median_age=12.0, total_rooms=3301.0, total_bedrooms=963.0, population=2000.0, households=879.0, median_income=1.8594, median_house_value=119200.0),\n",
       " Row(longitude=-117.02, latitude=32.73, housing_median_age=22.0, total_rooms=5201.0, total_bedrooms=865.0, population=3280.0, households=817.0, median_income=4.7952, median_house_value=141400.0),\n",
       " Row(longitude=-117.02, latitude=32.72, housing_median_age=36.0, total_rooms=2030.0, total_bedrooms=369.0, population=1142.0, households=357.0, median_income=3.7763, median_house_value=126900.0),\n",
       " Row(longitude=-117.02, latitude=32.71, housing_median_age=30.0, total_rooms=3187.0, total_bedrooms=592.0, population=2082.0, households=631.0, median_income=3.5388, median_house_value=118500.0),\n",
       " Row(longitude=-117.02, latitude=32.7, housing_median_age=22.0, total_rooms=2756.0, total_bedrooms=516.0, population=1849.0, households=486.0, median_income=4.1837, median_house_value=125400.0),\n",
       " Row(longitude=-117.02, latitude=32.68, housing_median_age=14.0, total_rooms=3986.0, total_bedrooms=675.0, population=2065.0, households=702.0, median_income=5.7192, median_house_value=267400.0),\n",
       " Row(longitude=-117.02, latitude=32.67, housing_median_age=20.0, total_rooms=1505.0, total_bedrooms=184.0, population=635.0, households=182.0, median_income=6.5772, median_house_value=245200.0),\n",
       " Row(longitude=-117.02, latitude=32.66, housing_median_age=19.0, total_rooms=771.0, total_bedrooms=103.0, population=376.0, households=108.0, median_income=6.6272, median_house_value=273600.0),\n",
       " Row(longitude=-117.02, latitude=32.64, housing_median_age=5.0, total_rooms=260.0, total_bedrooms=41.0, population=157.0, households=42.0, median_income=6.5151, median_house_value=281700.0),\n",
       " Row(longitude=-117.02, latitude=32.59, housing_median_age=19.0, total_rooms=1902.0, total_bedrooms=335.0, population=1102.0, households=313.0, median_income=3.0365, median_house_value=98100.0),\n",
       " Row(longitude=-117.03, latitude=34.91, housing_median_age=27.0, total_rooms=2718.0, total_bedrooms=583.0, population=1472.0, households=509.0, median_income=2.825, median_house_value=76600.0),\n",
       " Row(longitude=-117.03, latitude=34.87, housing_median_age=7.0, total_rooms=2245.0, total_bedrooms=407.0, population=1016.0, households=364.0, median_income=3.9464, median_house_value=101500.0),\n",
       " Row(longitude=-117.03, latitude=34.07, housing_median_age=16.0, total_rooms=3784.0, total_bedrooms=577.0, population=1615.0, households=525.0, median_income=4.2333, median_house_value=220300.0),\n",
       " Row(longitude=-117.03, latitude=34.03, housing_median_age=26.0, total_rooms=3501.0, total_bedrooms=664.0, population=1860.0, households=681.0, median_income=3.0403, median_house_value=113500.0),\n",
       " Row(longitude=-117.03, latitude=33.89, housing_median_age=6.0, total_rooms=78.0, total_bedrooms=11.0, population=27.0, households=10.0, median_income=3.125, median_house_value=187500.0),\n",
       " Row(longitude=-117.03, latitude=33.32, housing_median_age=14.0, total_rooms=1088.0, total_bedrooms=209.0, population=601.0, households=193.0, median_income=3.8438, median_house_value=243800.0),\n",
       " Row(longitude=-117.03, latitude=33.18, housing_median_age=17.0, total_rooms=5391.0, total_bedrooms=886.0, population=2732.0, households=830.0, median_income=5.1771, median_house_value=212800.0),\n",
       " Row(longitude=-117.03, latitude=33.12, housing_median_age=25.0, total_rooms=3142.0, total_bedrooms=446.0, population=1286.0, households=419.0, median_income=5.4663, median_house_value=248300.0),\n",
       " Row(longitude=-117.03, latitude=32.96, housing_median_age=16.0, total_rooms=3424.0, total_bedrooms=698.0, population=1940.0, households=645.0, median_income=4.121, median_house_value=182100.0),\n",
       " Row(longitude=-117.03, latitude=32.82, housing_median_age=16.0, total_rooms=1765.0, total_bedrooms=289.0, population=743.0, households=280.0, median_income=4.9744, median_house_value=209700.0),\n",
       " Row(longitude=-117.03, latitude=32.8, housing_median_age=19.0, total_rooms=3866.0, total_bedrooms=775.0, population=1554.0, households=703.0, median_income=4.3281, median_house_value=220000.0),\n",
       " Row(longitude=-117.03, latitude=32.79, housing_median_age=31.0, total_rooms=2366.0, total_bedrooms=383.0, population=1077.0, households=387.0, median_income=4.2992, median_house_value=174400.0),\n",
       " Row(longitude=-117.03, latitude=32.79, housing_median_age=26.0, total_rooms=3859.0, total_bedrooms=513.0, population=1469.0, households=538.0, median_income=5.8683, median_house_value=220500.0),\n",
       " Row(longitude=-117.03, latitude=32.78, housing_median_age=17.0, total_rooms=5481.0, total_bedrooms=1618.0, population=2957.0, households=1537.0, median_income=2.5707, median_house_value=171300.0),\n",
       " Row(longitude=-117.03, latitude=32.77, housing_median_age=34.0, total_rooms=1796.0, total_bedrooms=428.0, population=918.0, households=424.0, median_income=2.875, median_house_value=161200.0),\n",
       " Row(longitude=-117.03, latitude=32.77, housing_median_age=19.0, total_rooms=4819.0, total_bedrooms=1492.0, population=2572.0, households=1336.0, median_income=2.3393, median_house_value=118200.0),\n",
       " Row(longitude=-117.03, latitude=32.75, housing_median_age=24.0, total_rooms=7879.0, total_bedrooms=1655.0, population=3898.0, households=1534.0, median_income=3.0897, median_house_value=187300.0),\n",
       " Row(longitude=-117.03, latitude=32.74, housing_median_age=37.0, total_rooms=821.0, total_bedrooms=150.0, population=404.0, households=135.0, median_income=3.0125, median_house_value=130400.0),\n",
       " Row(longitude=-117.03, latitude=32.74, housing_median_age=35.0, total_rooms=1878.0, total_bedrooms=454.0, population=991.0, households=409.0, median_income=2.4345, median_house_value=129700.0),\n",
       " Row(longitude=-117.03, latitude=32.73, housing_median_age=38.0, total_rooms=3174.0, total_bedrooms=606.0, population=1557.0, households=619.0, median_income=3.5861, median_house_value=123600.0),\n",
       " Row(longitude=-117.03, latitude=32.73, housing_median_age=34.0, total_rooms=2061.0, total_bedrooms=391.0, population=1169.0, households=400.0, median_income=3.5096, median_house_value=142000.0),\n",
       " Row(longitude=-117.03, latitude=32.73, housing_median_age=32.0, total_rooms=1750.0, total_bedrooms=333.0, population=997.0, households=335.0, median_income=3.4784, median_house_value=154400.0),\n",
       " Row(longitude=-117.03, latitude=32.72, housing_median_age=38.0, total_rooms=886.0, total_bedrooms=176.0, population=505.0, households=188.0, median_income=3.5938, median_house_value=125400.0),\n",
       " Row(longitude=-117.03, latitude=32.72, housing_median_age=37.0, total_rooms=2192.0, total_bedrooms=455.0, population=1515.0, households=446.0, median_income=3.0588, median_house_value=120600.0),\n",
       " Row(longitude=-117.03, latitude=32.71, housing_median_age=34.0, total_rooms=2328.0, total_bedrooms=444.0, population=1684.0, households=429.0, median_income=3.25, median_house_value=99600.0),\n",
       " Row(longitude=-117.03, latitude=32.71, housing_median_age=33.0, total_rooms=3126.0, total_bedrooms=627.0, population=2300.0, households=623.0, median_income=3.2596, median_house_value=103000.0),\n",
       " Row(longitude=-117.03, latitude=32.7, housing_median_age=19.0, total_rooms=2304.0, total_bedrooms=572.0, population=2010.0, households=556.0, median_income=2.2866, median_house_value=109900.0),\n",
       " Row(longitude=-117.03, latitude=32.69, housing_median_age=8.0, total_rooms=2460.0, total_bedrooms=397.0, population=1784.0, households=390.0, median_income=4.5662, median_house_value=175500.0),\n",
       " Row(longitude=-117.03, latitude=32.69, housing_median_age=5.0, total_rooms=3201.0, total_bedrooms=532.0, population=2061.0, households=536.0, median_income=5.0829, median_house_value=179400.0),\n",
       " Row(longitude=-117.03, latitude=32.69, housing_median_age=10.0, total_rooms=901.0, total_bedrooms=163.0, population=698.0, households=167.0, median_income=4.6648, median_house_value=156100.0),\n",
       " Row(longitude=-117.03, latitude=32.67, housing_median_age=15.0, total_rooms=5094.0, total_bedrooms=818.0, population=2118.0, households=758.0, median_income=5.3505, median_house_value=266600.0),\n",
       " Row(longitude=-117.03, latitude=32.65, housing_median_age=14.0, total_rooms=1111.0, total_bedrooms=142.0, population=472.0, households=145.0, median_income=7.6344, median_house_value=290500.0),\n",
       " Row(longitude=-117.03, latitude=32.63, housing_median_age=14.0, total_rooms=2796.0, total_bedrooms=476.0, population=1466.0, households=464.0, median_income=5.2489, median_house_value=213700.0),\n",
       " Row(longitude=-117.03, latitude=32.63, housing_median_age=13.0, total_rooms=2087.0, total_bedrooms=313.0, population=1165.0, households=330.0, median_income=5.7789, median_house_value=227700.0),\n",
       " Row(longitude=-117.03, latitude=32.61, housing_median_age=22.0, total_rooms=1028.0, total_bedrooms=148.0, population=523.0, households=152.0, median_income=6.0086, median_house_value=166900.0),\n",
       " Row(longitude=-117.04, latitude=34.89, housing_median_age=37.0, total_rooms=1884.0, total_bedrooms=366.0, population=1052.0, households=353.0, median_income=3.175, median_house_value=66800.0),\n",
       " Row(longitude=-117.04, latitude=34.04, housing_median_age=30.0, total_rooms=3474.0, total_bedrooms=735.0, population=1674.0, households=691.0, median_income=2.5863, median_house_value=98300.0),\n",
       " Row(longitude=-117.04, latitude=34.03, housing_median_age=29.0, total_rooms=3375.0, total_bedrooms=795.0, population=1760.0, households=699.0, median_income=2.7028, median_house_value=92000.0),\n",
       " Row(longitude=-117.04, latitude=34.02, housing_median_age=24.0, total_rooms=4663.0, total_bedrooms=1213.0, population=1851.0, households=1116.0, median_income=1.4418, median_house_value=103500.0),\n",
       " Row(longitude=-117.04, latitude=34.0, housing_median_age=25.0, total_rooms=3750.0, total_bedrooms=781.0, population=1594.0, households=785.0, median_income=2.4167, median_house_value=104900.0),\n",
       " Row(longitude=-117.04, latitude=34.0, housing_median_age=21.0, total_rooms=4624.0, total_bedrooms=852.0, population=2174.0, households=812.0, median_income=3.5255, median_house_value=132100.0),\n",
       " Row(longitude=-117.04, latitude=33.15, housing_median_age=15.0, total_rooms=13814.0, total_bedrooms=2888.0, population=6583.0, households=2789.0, median_income=2.8247, median_house_value=150000.0),\n",
       " Row(longitude=-117.04, latitude=33.09, housing_median_age=16.0, total_rooms=4677.0, total_bedrooms=581.0, population=1902.0, households=566.0, median_income=6.1834, median_house_value=335600.0),\n",
       " Row(longitude=-117.04, latitude=33.03, housing_median_age=16.0, total_rooms=2852.0, total_bedrooms=435.0, population=1083.0, households=448.0, median_income=6.3761, median_house_value=296200.0),\n",
       " Row(longitude=-117.04, latitude=33.01, housing_median_age=28.0, total_rooms=922.0, total_bedrooms=107.0, population=314.0, households=97.0, median_income=8.4721, median_house_value=342300.0),\n",
       " Row(longitude=-117.04, latitude=32.99, housing_median_age=6.0, total_rooms=9518.0, total_bedrooms=1418.0, population=4413.0, households=1275.0, median_income=6.6012, median_house_value=314900.0),\n",
       " Row(longitude=-117.04, latitude=32.98, housing_median_age=16.0, total_rooms=1332.0, total_bedrooms=196.0, population=640.0, households=193.0, median_income=6.0226, median_house_value=192900.0),\n",
       " Row(longitude=-117.04, latitude=32.97, housing_median_age=13.0, total_rooms=6711.0, total_bedrooms=1256.0, population=3683.0, households=1220.0, median_income=4.5746, median_house_value=175700.0),\n",
       " Row(longitude=-117.04, latitude=32.9, housing_median_age=6.0, total_rooms=6525.0, total_bedrooms=826.0, population=3146.0, households=806.0, median_income=9.2858, median_house_value=436100.0),\n",
       " Row(longitude=-117.04, latitude=32.83, housing_median_age=8.0, total_rooms=2205.0, total_bedrooms=348.0, population=777.0, households=341.0, median_income=6.0266, median_house_value=177400.0),\n",
       " Row(longitude=-117.04, latitude=32.81, housing_median_age=12.0, total_rooms=2880.0, total_bedrooms=406.0, population=1381.0, households=418.0, median_income=6.5412, median_house_value=254200.0),\n",
       " Row(longitude=-117.04, latitude=32.8, housing_median_age=25.0, total_rooms=2504.0, total_bedrooms=345.0, population=1067.0, households=350.0, median_income=5.7416, median_house_value=243400.0),\n",
       " Row(longitude=-117.04, latitude=32.8, housing_median_age=11.0, total_rooms=1802.0, total_bedrooms=440.0, population=630.0, households=428.0, median_income=2.0337, median_house_value=146700.0),\n",
       " Row(longitude=-117.04, latitude=32.79, housing_median_age=23.0, total_rooms=2491.0, total_bedrooms=350.0, population=863.0, households=348.0, median_income=6.7196, median_house_value=306800.0),\n",
       " Row(longitude=-117.04, latitude=32.77, housing_median_age=21.0, total_rooms=1824.0, total_bedrooms=447.0, population=962.0, households=431.0, median_income=2.7826, median_house_value=143800.0),\n",
       " Row(longitude=-117.04, latitude=32.77, housing_median_age=16.0, total_rooms=7963.0, total_bedrooms=1881.0, population=3769.0, households=1804.0, median_income=2.9624, median_house_value=144700.0),\n",
       " Row(longitude=-117.04, latitude=32.76, housing_median_age=43.0, total_rooms=3171.0, total_bedrooms=665.0, population=1534.0, households=625.0, median_income=3.141, median_house_value=141400.0),\n",
       " Row(longitude=-117.04, latitude=32.76, housing_median_age=37.0, total_rooms=2979.0, total_bedrooms=557.0, population=1285.0, households=564.0, median_income=3.7368, median_house_value=152200.0),\n",
       " Row(longitude=-117.04, latitude=32.75, housing_median_age=36.0, total_rooms=2297.0, total_bedrooms=418.0, population=1070.0, households=392.0, median_income=3.5192, median_house_value=144000.0),\n",
       " Row(longitude=-117.04, latitude=32.74, housing_median_age=5.0, total_rooms=2878.0, total_bedrooms=785.0, population=1727.0, households=758.0, median_income=1.7179, median_house_value=132000.0),\n",
       " Row(longitude=-117.04, latitude=32.74, housing_median_age=33.0, total_rooms=3880.0, total_bedrooms=770.0, population=2288.0, households=805.0, median_income=3.6848, median_house_value=140700.0),\n",
       " Row(longitude=-117.04, latitude=32.72, housing_median_age=24.0, total_rooms=5474.0, total_bedrooms=955.0, population=3020.0, households=904.0, median_income=4.0813, median_house_value=137000.0),\n",
       " Row(longitude=-117.04, latitude=32.71, housing_median_age=28.0, total_rooms=5274.0, total_bedrooms=991.0, population=3727.0, households=961.0, median_income=3.57, median_house_value=109800.0),\n",
       " Row(longitude=-117.04, latitude=32.69, housing_median_age=9.0, total_rooms=3417.0, total_bedrooms=860.0, population=2521.0, households=828.0, median_income=3.02, median_house_value=158900.0),\n",
       " Row(longitude=-117.04, latitude=32.68, housing_median_age=13.0, total_rooms=2132.0, total_bedrooms=425.0, population=1345.0, households=432.0, median_income=4.0, median_house_value=89300.0),\n",
       " Row(longitude=-117.04, latitude=32.68, housing_median_age=11.0, total_rooms=1875.0, total_bedrooms=357.0, population=1014.0, households=386.0, median_income=4.375, median_house_value=115000.0),\n",
       " Row(longitude=-117.04, latitude=32.67, housing_median_age=14.0, total_rooms=3464.0, total_bedrooms=683.0, population=2139.0, households=734.0, median_income=4.0668, median_house_value=137500.0),\n",
       " Row(longitude=-117.04, latitude=32.66, housing_median_age=22.0, total_rooms=3362.0, total_bedrooms=630.0, population=1471.0, households=612.0, median_income=4.1442, median_house_value=303900.0),\n",
       " Row(longitude=-117.04, latitude=32.65, housing_median_age=8.0, total_rooms=8806.0, total_bedrooms=1401.0, population=3159.0, households=1059.0, median_income=4.2155, median_house_value=247800.0),\n",
       " Row(longitude=-117.04, latitude=32.64, housing_median_age=5.0, total_rooms=2329.0, total_bedrooms=542.0, population=1213.0, households=514.0, median_income=4.0298, median_house_value=225600.0),\n",
       " Row(longitude=-117.04, latitude=32.63, housing_median_age=26.0, total_rooms=2756.0, total_bedrooms=422.0, population=1166.0, households=398.0, median_income=5.1354, median_house_value=181600.0),\n",
       " Row(longitude=-117.04, latitude=32.63, housing_median_age=26.0, total_rooms=2074.0, total_bedrooms=356.0, population=1228.0, households=335.0, median_income=4.1154, median_house_value=160200.0),\n",
       " Row(longitude=-117.04, latitude=32.62, housing_median_age=27.0, total_rooms=1710.0, total_bedrooms=282.0, population=1089.0, households=297.0, median_income=4.6793, median_house_value=151900.0),\n",
       " Row(longitude=-117.04, latitude=32.6, housing_median_age=20.0, total_rooms=8052.0, total_bedrooms=1461.0, population=5094.0, households=1430.0, median_income=4.2241, median_house_value=139800.0),\n",
       " Row(longitude=-117.04, latitude=32.6, housing_median_age=18.0, total_rooms=4747.0, total_bedrooms=846.0, population=3002.0, households=872.0, median_income=3.9076, median_house_value=152900.0),\n",
       " Row(longitude=-117.04, latitude=32.58, housing_median_age=20.0, total_rooms=2029.0, total_bedrooms=357.0, population=1497.0, households=353.0, median_income=4.0089, median_house_value=132100.0),\n",
       " Row(longitude=-117.04, latitude=32.58, housing_median_age=14.0, total_rooms=2355.0, total_bedrooms=406.0, population=1883.0, households=401.0, median_income=5.0311, median_house_value=152100.0),\n",
       " Row(longitude=-117.04, latitude=32.55, housing_median_age=15.0, total_rooms=2206.0, total_bedrooms=648.0, population=2511.0, households=648.0, median_income=1.6348, median_house_value=93200.0),\n",
       " Row(longitude=-117.04, latitude=32.54, housing_median_age=7.0, total_rooms=938.0, total_bedrooms=297.0, population=1187.0, households=282.0, median_income=1.2667, median_house_value=67500.0),\n",
       " Row(longitude=-117.05, latitude=34.89, housing_median_age=36.0, total_rooms=1199.0, total_bedrooms=260.0, population=665.0, households=229.0, median_income=3.7065, median_house_value=62000.0),\n",
       " Row(longitude=-117.05, latitude=34.04, housing_median_age=23.0, total_rooms=3967.0, total_bedrooms=766.0, population=1518.0, households=698.0, median_income=2.29, median_house_value=111800.0),\n",
       " Row(longitude=-117.05, latitude=34.03, housing_median_age=28.0, total_rooms=3009.0, total_bedrooms=698.0, population=1200.0, households=626.0, median_income=1.3993, median_house_value=104600.0),\n",
       " Row(longitude=-117.05, latitude=34.02, housing_median_age=21.0, total_rooms=3098.0, total_bedrooms=646.0, population=1351.0, households=614.0, median_income=2.598, median_house_value=106700.0),\n",
       " Row(longitude=-117.05, latitude=34.01, housing_median_age=27.0, total_rooms=5484.0, total_bedrooms=1205.0, population=2645.0, households=1131.0, median_income=2.1927, median_house_value=116700.0),\n",
       " Row(longitude=-117.05, latitude=33.52, housing_median_age=5.0, total_rooms=3471.0, total_bedrooms=530.0, population=1541.0, households=502.0, median_income=4.8083, median_house_value=347700.0),\n",
       " Row(longitude=-117.05, latitude=33.29, housing_median_age=17.0, total_rooms=1800.0, total_bedrooms=312.0, population=891.0, households=281.0, median_income=7.0177, median_house_value=267600.0),\n",
       " Row(longitude=-117.05, latitude=33.26, housing_median_age=14.0, total_rooms=3103.0, total_bedrooms=569.0, population=1704.0, households=539.0, median_income=3.7644, median_house_value=264700.0),\n",
       " Row(longitude=-117.05, latitude=33.14, housing_median_age=16.0, total_rooms=4552.0, total_bedrooms=1166.0, population=2737.0, households=1051.0, median_income=2.25, median_house_value=136300.0),\n",
       " Row(longitude=-117.05, latitude=33.13, housing_median_age=22.0, total_rooms=2427.0, total_bedrooms=390.0, population=1099.0, households=362.0, median_income=5.2323, median_house_value=167500.0),\n",
       " Row(longitude=-117.05, latitude=33.13, housing_median_age=20.0, total_rooms=7746.0, total_bedrooms=2035.0, population=5370.0, households=1838.0, median_income=2.3762, median_house_value=98500.0),\n",
       " Row(longitude=-117.05, latitude=33.13, housing_median_age=17.0, total_rooms=2385.0, total_bedrooms=372.0, population=1118.0, households=369.0, median_income=4.2813, median_house_value=169900.0),\n",
       " Row(longitude=-117.05, latitude=33.11, housing_median_age=18.0, total_rooms=4393.0, total_bedrooms=642.0, population=2095.0, households=677.0, median_income=5.4786, median_house_value=223500.0),\n",
       " Row(longitude=-117.05, latitude=33.05, housing_median_age=6.0, total_rooms=7916.0, total_bedrooms=1293.0, population=2741.0, households=1204.0, median_income=5.6436, median_house_value=278600.0),\n",
       " Row(longitude=-117.05, latitude=33.04, housing_median_age=12.0, total_rooms=1840.0, total_bedrooms=254.0, population=580.0, households=234.0, median_income=6.7769, median_house_value=400000.0),\n",
       " Row(longitude=-117.05, latitude=33.02, housing_median_age=18.0, total_rooms=917.0, total_bedrooms=121.0, population=388.0, households=131.0, median_income=6.3517, median_house_value=260100.0),\n",
       " Row(longitude=-117.05, latitude=33.01, housing_median_age=19.0, total_rooms=3558.0, total_bedrooms=588.0, population=1439.0, households=578.0, median_income=4.625, median_house_value=211100.0),\n",
       " Row(longitude=-117.05, latitude=33.01, housing_median_age=17.0, total_rooms=3430.0, total_bedrooms=425.0, population=1468.0, households=433.0, median_income=10.6186, median_house_value=429300.0),\n",
       " Row(longitude=-117.05, latitude=32.97, housing_median_age=17.0, total_rooms=9911.0, total_bedrooms=1436.0, population=4763.0, households=1414.0, median_income=5.5882, median_house_value=194300.0),\n",
       " Row(longitude=-117.05, latitude=32.96, housing_median_age=18.0, total_rooms=3593.0, total_bedrooms=661.0, population=1992.0, households=626.0, median_income=4.8295, median_house_value=165800.0),\n",
       " Row(longitude=-117.05, latitude=32.95, housing_median_age=17.0, total_rooms=4814.0, total_bedrooms=1091.0, population=3013.0, households=1078.0, median_income=3.2369, median_house_value=167800.0),\n",
       " Row(longitude=-117.05, latitude=32.95, housing_median_age=17.0, total_rooms=3039.0, total_bedrooms=555.0, population=1297.0, households=552.0, median_income=3.9531, median_house_value=178600.0),\n",
       " Row(longitude=-117.05, latitude=32.82, housing_median_age=16.0, total_rooms=4046.0, total_bedrooms=731.0, population=1684.0, households=701.0, median_income=4.2312, median_house_value=197000.0),\n",
       " Row(longitude=-117.05, latitude=32.81, housing_median_age=17.0, total_rooms=1885.0, total_bedrooms=292.0, population=771.0, households=301.0, median_income=5.6402, median_house_value=228600.0),\n",
       " Row(longitude=-117.05, latitude=32.8, housing_median_age=25.0, total_rooms=1905.0, total_bedrooms=250.0, population=865.0, households=253.0, median_income=6.4797, median_house_value=249000.0),\n",
       " Row(longitude=-117.05, latitude=32.8, housing_median_age=23.0, total_rooms=3309.0, total_bedrooms=401.0, population=1116.0, households=386.0, median_income=7.916, median_house_value=330600.0),\n",
       " Row(longitude=-117.05, latitude=32.8, housing_median_age=17.0, total_rooms=1475.0, total_bedrooms=308.0, population=549.0, households=293.0, median_income=3.7167, median_house_value=180400.0),\n",
       " Row(longitude=-117.05, latitude=32.8, housing_median_age=16.0, total_rooms=1561.0, total_bedrooms=378.0, population=574.0, households=350.0, median_income=3.0035, median_house_value=94600.0),\n",
       " Row(longitude=-117.05, latitude=32.78, housing_median_age=37.0, total_rooms=1184.0, total_bedrooms=178.0, population=529.0, households=192.0, median_income=4.7941, median_house_value=161700.0),\n",
       " Row(longitude=-117.05, latitude=32.77, housing_median_age=33.0, total_rooms=3535.0, total_bedrooms=683.0, population=1568.0, households=672.0, median_income=2.8097, median_house_value=158300.0),\n",
       " Row(longitude=-117.05, latitude=32.77, housing_median_age=23.0, total_rooms=2556.0, total_bedrooms=662.0, population=1200.0, households=548.0, median_income=1.8899, median_house_value=147700.0),\n",
       " Row(longitude=-117.05, latitude=32.76, housing_median_age=46.0, total_rooms=1887.0, total_bedrooms=359.0, population=795.0, households=358.0, median_income=3.25, median_house_value=159600.0),\n",
       " Row(longitude=-117.05, latitude=32.75, housing_median_age=43.0, total_rooms=1718.0, total_bedrooms=344.0, population=826.0, households=336.0, median_income=2.7014, median_house_value=133700.0),\n",
       " Row(longitude=-117.05, latitude=32.75, housing_median_age=36.0, total_rooms=2024.0, total_bedrooms=408.0, population=1030.0, households=390.0, median_income=3.8233, median_house_value=139800.0),\n",
       " Row(longitude=-117.05, latitude=32.75, housing_median_age=35.0, total_rooms=2144.0, total_bedrooms=388.0, population=1003.0, households=383.0, median_income=3.0938, median_house_value=137300.0),\n",
       " Row(longitude=-117.05, latitude=32.75, housing_median_age=29.0, total_rooms=2767.0, total_bedrooms=612.0, population=1437.0, households=587.0, median_income=2.8306, median_house_value=142900.0),\n",
       " Row(longitude=-117.05, latitude=32.74, housing_median_age=34.0, total_rooms=2178.0, total_bedrooms=455.0, population=1193.0, households=446.0, median_income=3.1719, median_house_value=115300.0),\n",
       " Row(longitude=-117.05, latitude=32.73, housing_median_age=27.0, total_rooms=3184.0, total_bedrooms=588.0, population=1763.0, households=571.0, median_income=3.5529, median_house_value=133900.0),\n",
       " Row(longitude=-117.05, latitude=32.72, housing_median_age=35.0, total_rooms=3669.0, total_bedrooms=617.0, population=1694.0, households=585.0, median_income=3.9485, median_house_value=133900.0),\n",
       " Row(longitude=-117.05, latitude=32.72, housing_median_age=35.0, total_rooms=1777.0, total_bedrooms=369.0, population=1158.0, households=353.0, median_income=3.4107, median_house_value=117000.0),\n",
       " Row(longitude=-117.05, latitude=32.69, housing_median_age=8.0, total_rooms=831.0, total_bedrooms=158.0, population=740.0, households=154.0, median_income=5.3908, median_house_value=165500.0),\n",
       " Row(longitude=-117.05, latitude=32.69, housing_median_age=21.0, total_rooms=991.0, total_bedrooms=210.0, population=695.0, households=203.0, median_income=3.625, median_house_value=144300.0),\n",
       " Row(longitude=-117.05, latitude=32.69, housing_median_age=14.0, total_rooms=1689.0, total_bedrooms=555.0, population=1319.0, households=527.0, median_income=3.16, median_house_value=143800.0),\n",
       " Row(longitude=-117.05, latitude=32.68, housing_median_age=35.0, total_rooms=3414.0, total_bedrooms=580.0, population=1761.0, households=522.0, median_income=3.9922, median_house_value=129800.0),\n",
       " Row(longitude=-117.05, latitude=32.68, housing_median_age=19.0, total_rooms=1469.0, total_bedrooms=275.0, population=1010.0, households=292.0, median_income=3.5664, median_house_value=150400.0),\n",
       " Row(longitude=-117.05, latitude=32.68, housing_median_age=15.0, total_rooms=1828.0, total_bedrooms=359.0, population=955.0, households=248.0, median_income=3.2174, median_house_value=165100.0),\n",
       " Row(longitude=-117.05, latitude=32.67, housing_median_age=32.0, total_rooms=4227.0, total_bedrooms=785.0, population=2842.0, households=795.0, median_income=3.9646, median_house_value=137800.0),\n",
       " Row(longitude=-117.05, latitude=32.67, housing_median_age=16.0, total_rooms=2168.0, total_bedrooms=343.0, population=1589.0, households=338.0, median_income=5.4863, median_house_value=153800.0),\n",
       " Row(longitude=-117.05, latitude=32.63, housing_median_age=31.0, total_rooms=4911.0, total_bedrooms=861.0, population=2334.0, households=843.0, median_income=4.1958, median_house_value=160100.0),\n",
       " Row(longitude=-117.05, latitude=32.62, housing_median_age=34.0, total_rooms=3928.0, total_bedrooms=686.0, population=2315.0, households=681.0, median_income=4.2851, median_house_value=144500.0),\n",
       " Row(longitude=-117.05, latitude=32.61, housing_median_age=26.0, total_rooms=1563.0, total_bedrooms=286.0, population=1145.0, households=313.0, median_income=3.8615, median_house_value=139300.0),\n",
       " Row(longitude=-117.05, latitude=32.61, housing_median_age=21.0, total_rooms=6034.0, total_bedrooms=1205.0, population=3795.0, households=1146.0, median_income=3.2633, median_house_value=129700.0),\n",
       " Row(longitude=-117.05, latitude=32.59, housing_median_age=26.0, total_rooms=1919.0, total_bedrooms=345.0, population=1326.0, households=341.0, median_income=4.2679, median_house_value=131900.0),\n",
       " Row(longitude=-117.05, latitude=32.59, housing_median_age=16.0, total_rooms=4683.0, total_bedrooms=929.0, population=3073.0, households=865.0, median_income=3.0495, median_house_value=98300.0),\n",
       " Row(longitude=-117.05, latitude=32.58, housing_median_age=25.0, total_rooms=2185.0, total_bedrooms=370.0, population=1558.0, households=369.0, median_income=5.3072, median_house_value=132700.0),\n",
       " Row(longitude=-117.05, latitude=32.58, housing_median_age=22.0, total_rooms=2101.0, total_bedrooms=399.0, population=1551.0, households=371.0, median_income=4.1518, median_house_value=136900.0),\n",
       " Row(longitude=-117.05, latitude=32.56, housing_median_age=22.0, total_rooms=2172.0, total_bedrooms=563.0, population=2049.0, households=524.0, median_income=2.0159, median_house_value=139300.0),\n",
       " Row(longitude=-117.05, latitude=32.56, housing_median_age=18.0, total_rooms=1215.0, total_bedrooms=320.0, population=1195.0, households=349.0, median_income=1.9875, median_house_value=114900.0),\n",
       " Row(longitude=-117.05, latitude=32.56, housing_median_age=17.0, total_rooms=985.0, total_bedrooms=233.0, population=811.0, households=223.0, median_income=2.875, median_house_value=134500.0),\n",
       " Row(longitude=-117.06, latitude=34.9, housing_median_age=36.0, total_rooms=2828.0, total_bedrooms=916.0, population=1762.0, households=736.0, median_income=1.4318, median_house_value=59600.0),\n",
       " Row(longitude=-117.06, latitude=34.17, housing_median_age=21.0, total_rooms=2520.0, total_bedrooms=582.0, population=416.0, households=151.0, median_income=2.712, median_house_value=89000.0),\n",
       " Row(longitude=-117.06, latitude=34.03, housing_median_age=27.0, total_rooms=1945.0, total_bedrooms=446.0, population=859.0, households=418.0, median_income=1.5203, median_house_value=126200.0),\n",
       " Row(longitude=-117.06, latitude=34.02, housing_median_age=24.0, total_rooms=3912.0, total_bedrooms=809.0, population=1926.0, households=762.0, median_income=2.6875, median_house_value=116300.0),\n",
       " Row(longitude=-117.06, latitude=34.0, housing_median_age=33.0, total_rooms=1575.0, total_bedrooms=326.0, population=879.0, households=282.0, median_income=2.5357, median_house_value=94400.0),\n",
       " Row(longitude=-117.06, latitude=33.78, housing_median_age=17.0, total_rooms=2813.0, total_bedrooms=565.0, population=1345.0, households=488.0, median_income=2.5847, median_house_value=145300.0),\n",
       " Row(longitude=-117.06, latitude=33.17, housing_median_age=4.0, total_rooms=5465.0, total_bedrooms=974.0, population=2844.0, households=950.0, median_income=4.4477, median_house_value=174800.0),\n",
       " Row(longitude=-117.06, latitude=33.15, housing_median_age=24.0, total_rooms=2155.0, total_bedrooms=379.0, population=1158.0, households=360.0, median_income=4.7941, median_house_value=147500.0),\n",
       " Row(longitude=-117.06, latitude=33.13, housing_median_age=12.0, total_rooms=8742.0, total_bedrooms=2114.0, population=4854.0, households=1957.0, median_income=2.8015, median_house_value=143500.0),\n",
       " Row(longitude=-117.06, latitude=33.09, housing_median_age=11.0, total_rooms=7483.0, total_bedrooms=1276.0, population=3516.0, households=1261.0, median_income=4.0484, median_house_value=262500.0),\n",
       " Row(longitude=-117.06, latitude=33.04, housing_median_age=17.0, total_rooms=1785.0, total_bedrooms=255.0, population=667.0, households=277.0, median_income=5.7382, median_house_value=278000.0),\n",
       " Row(longitude=-117.06, latitude=33.03, housing_median_age=23.0, total_rooms=2023.0, total_bedrooms=309.0, population=678.0, households=340.0, median_income=7.0913, median_house_value=265400.0),\n",
       " Row(longitude=-117.06, latitude=33.02, housing_median_age=24.0, total_rooms=830.0, total_bedrooms=190.0, population=279.0, households=196.0, median_income=1.9176, median_house_value=121100.0),\n",
       " Row(longitude=-117.06, latitude=33.02, housing_median_age=17.0, total_rooms=2635.0, total_bedrooms=389.0, population=994.0, households=359.0, median_income=5.8966, median_house_value=261500.0),\n",
       " Row(longitude=-117.06, latitude=33.01, housing_median_age=9.0, total_rooms=2470.0, total_bedrooms=417.0, population=904.0, households=427.0, median_income=4.4219, median_house_value=209200.0),\n",
       " Row(longitude=-117.06, latitude=32.99, housing_median_age=16.0, total_rooms=1306.0, total_bedrooms=196.0, population=713.0, households=222.0, median_income=6.2683, median_house_value=180700.0),\n",
       " Row(longitude=-117.06, latitude=32.97, housing_median_age=17.0, total_rooms=4754.0, total_bedrooms=877.0, population=2412.0, households=832.0, median_income=4.3548, median_house_value=192300.0),\n",
       " Row(longitude=-117.06, latitude=32.81, housing_median_age=17.0, total_rooms=3939.0, total_bedrooms=550.0, population=1694.0, households=553.0, median_income=6.7927, median_house_value=234700.0),\n",
       " Row(longitude=-117.06, latitude=32.8, housing_median_age=17.0, total_rooms=2247.0, total_bedrooms=340.0, population=973.0, households=318.0, median_income=5.5, median_house_value=222000.0),\n",
       " Row(longitude=-117.06, latitude=32.79, housing_median_age=21.0, total_rooms=3787.0, total_bedrooms=492.0, population=1246.0, households=457.0, median_income=9.6023, median_house_value=391300.0),\n",
       " Row(longitude=-117.06, latitude=32.79, housing_median_age=17.0, total_rooms=2524.0, total_bedrooms=332.0, population=771.0, households=317.0, median_income=8.7604, median_house_value=331800.0),\n",
       " Row(longitude=-117.06, latitude=32.77, housing_median_age=34.0, total_rooms=1730.0, total_bedrooms=373.0, population=730.0, households=350.0, median_income=2.0284, median_house_value=161800.0),\n",
       " Row(longitude=-117.06, latitude=32.77, housing_median_age=18.0, total_rooms=2269.0, total_bedrooms=682.0, population=1329.0, households=581.0, median_income=1.7951, median_house_value=161800.0),\n",
       " Row(longitude=-117.06, latitude=32.76, housing_median_age=38.0, total_rooms=1549.0, total_bedrooms=288.0, population=636.0, households=278.0, median_income=3.2188, median_house_value=150500.0),\n",
       " Row(longitude=-117.06, latitude=32.76, housing_median_age=24.0, total_rooms=1629.0, total_bedrooms=587.0, population=1012.0, households=488.0, median_income=1.7452, median_house_value=156800.0),\n",
       " Row(longitude=-117.06, latitude=32.75, housing_median_age=34.0, total_rooms=2516.0, total_bedrooms=611.0, population=1317.0, households=594.0, median_income=2.2308, median_house_value=125900.0),\n",
       " Row(longitude=-117.06, latitude=32.75, housing_median_age=34.0, total_rooms=1917.0, total_bedrooms=419.0, population=1181.0, households=426.0, median_income=3.0208, median_house_value=129200.0),\n",
       " Row(longitude=-117.06, latitude=32.73, housing_median_age=33.0, total_rooms=3444.0, total_bedrooms=619.0, population=1884.0, households=582.0, median_income=3.7891, median_house_value=126700.0),\n",
       " Row(longitude=-117.06, latitude=32.72, housing_median_age=31.0, total_rooms=2669.0, total_bedrooms=514.0, population=1626.0, households=499.0, median_income=3.1923, median_house_value=116900.0),\n",
       " Row(longitude=-117.06, latitude=32.71, housing_median_age=21.0, total_rooms=1864.0, total_bedrooms=388.0, population=1498.0, households=389.0, median_income=3.8194, median_house_value=125700.0),\n",
       " Row(longitude=-117.06, latitude=32.71, housing_median_age=11.0, total_rooms=2397.0, total_bedrooms=523.0, population=1566.0, households=514.0, median_income=3.8687, median_house_value=145200.0),\n",
       " Row(longitude=-117.06, latitude=32.69, housing_median_age=9.0, total_rooms=521.0, total_bedrooms=111.0, population=491.0, households=110.0, median_income=5.1305, median_house_value=158900.0),\n",
       " Row(longitude=-117.06, latitude=32.69, housing_median_age=9.0, total_rooms=1520.0, total_bedrooms=269.0, population=1250.0, households=265.0, median_income=4.8875, median_house_value=157700.0),\n",
       " Row(longitude=-117.06, latitude=32.69, housing_median_age=13.0, total_rooms=705.0, total_bedrooms=149.0, population=718.0, households=155.0, median_income=4.4375, median_house_value=154900.0),\n",
       " Row(longitude=-117.06, latitude=32.68, housing_median_age=41.0, total_rooms=2665.0, total_bedrooms=515.0, population=1664.0, households=512.0, median_income=2.375, median_house_value=113500.0),\n",
       " Row(longitude=-117.06, latitude=32.68, housing_median_age=38.0, total_rooms=1481.0, total_bedrooms=317.0, population=1080.0, households=291.0, median_income=2.85, median_house_value=125800.0),\n",
       " Row(longitude=-117.06, latitude=32.68, housing_median_age=36.0, total_rooms=3815.0, total_bedrooms=796.0, population=2945.0, households=728.0, median_income=2.0959, median_house_value=125000.0),\n",
       " Row(longitude=-117.06, latitude=32.67, housing_median_age=29.0, total_rooms=4047.0, total_bedrooms=754.0, population=2353.0, households=730.0, median_income=4.0505, median_house_value=125000.0),\n",
       " Row(longitude=-117.06, latitude=32.66, housing_median_age=33.0, total_rooms=3425.0, total_bedrooms=511.0, population=1528.0, households=479.0, median_income=5.6889, median_house_value=234600.0),\n",
       " Row(longitude=-117.06, latitude=32.64, housing_median_age=30.0, total_rooms=4494.0, total_bedrooms=667.0, population=1883.0, households=680.0, median_income=5.766, median_house_value=186100.0),\n",
       " Row(longitude=-117.06, latitude=32.63, housing_median_age=37.0, total_rooms=1326.0, total_bedrooms=234.0, population=612.0, households=240.0, median_income=4.125, median_house_value=160200.0),\n",
       " Row(longitude=-117.06, latitude=32.63, housing_median_age=29.0, total_rooms=4168.0, total_bedrooms=742.0, population=2096.0, households=713.0, median_income=4.2204, median_house_value=169800.0),\n",
       " Row(longitude=-117.06, latitude=32.62, housing_median_age=36.0, total_rooms=786.0, total_bedrooms=125.0, population=408.0, households=138.0, median_income=3.9167, median_house_value=189700.0),\n",
       " Row(longitude=-117.06, latitude=32.61, housing_median_age=34.0, total_rooms=4325.0, total_bedrooms=1015.0, population=2609.0, households=979.0, median_income=2.8489, median_house_value=128300.0),\n",
       " Row(longitude=-117.06, latitude=32.6, housing_median_age=33.0, total_rooms=905.0, total_bedrooms=205.0, population=989.0, households=222.0, median_income=2.7014, median_house_value=108200.0),\n",
       " Row(longitude=-117.06, latitude=32.6, housing_median_age=25.0, total_rooms=1075.0, total_bedrooms=238.0, population=434.0, households=234.0, median_income=1.7472, median_house_value=94600.0),\n",
       " Row(longitude=-117.06, latitude=32.6, housing_median_age=24.0, total_rooms=1088.0, total_bedrooms=268.0, population=1095.0, households=246.0, median_income=2.4191, median_house_value=107300.0),\n",
       " Row(longitude=-117.06, latitude=32.58, housing_median_age=17.0, total_rooms=2724.0, total_bedrooms=567.0, population=2213.0, households=554.0, median_income=3.8529, median_house_value=147700.0),\n",
       " Row(longitude=-117.06, latitude=32.58, housing_median_age=13.0, total_rooms=3435.0, total_bedrooms=708.0, population=1761.0, households=699.0, median_income=3.4792, median_house_value=107600.0),\n",
       " Row(longitude=-117.06, latitude=32.58, housing_median_age=11.0, total_rooms=2879.0, total_bedrooms=679.0, population=2098.0, households=673.0, median_income=3.5125, median_house_value=142400.0),\n",
       " Row(longitude=-117.06, latitude=32.57, housing_median_age=25.0, total_rooms=1268.0, total_bedrooms=282.0, population=991.0, households=299.0, median_income=3.0284, median_house_value=123600.0),\n",
       " Row(longitude=-117.06, latitude=32.57, housing_median_age=18.0, total_rooms=1384.0, total_bedrooms=311.0, population=1429.0, households=287.0, median_income=1.3362, median_house_value=95000.0),\n",
       " Row(longitude=-117.06, latitude=32.57, housing_median_age=17.0, total_rooms=2252.0, total_bedrooms=378.0, population=1776.0, households=365.0, median_income=4.6364, median_house_value=141100.0),\n",
       " Row(longitude=-117.06, latitude=32.57, housing_median_age=16.0, total_rooms=1269.0, total_bedrooms=282.0, population=1609.0, households=298.0, median_income=2.6985, median_house_value=156500.0),\n",
       " Row(longitude=-117.06, latitude=32.56, housing_median_age=5.0, total_rooms=2706.0, total_bedrooms=925.0, population=3148.0, households=855.0, median_income=1.7301, median_house_value=125000.0),\n",
       " Row(longitude=-117.06, latitude=32.56, housing_median_age=17.0, total_rooms=2803.0, total_bedrooms=683.0, population=2768.0, households=676.0, median_income=1.7958, median_house_value=140400.0),\n",
       " Row(longitude=-117.06, latitude=32.55, housing_median_age=5.0, total_rooms=3223.0, total_bedrooms=940.0, population=3284.0, households=854.0, median_income=1.4384, median_house_value=108800.0),\n",
       " Row(longitude=-117.07, latitude=34.24, housing_median_age=21.0, total_rooms=4773.0, total_bedrooms=1047.0, population=337.0, households=130.0, median_income=3.9375, median_house_value=115000.0),\n",
       " Row(longitude=-117.07, latitude=33.72, housing_median_age=16.0, total_rooms=4928.0, total_bedrooms=960.0, population=2132.0, households=853.0, median_income=2.7983, median_house_value=112500.0),\n",
       " Row(longitude=-117.07, latitude=33.15, housing_median_age=17.0, total_rooms=1893.0, total_bedrooms=297.0, population=936.0, households=287.0, median_income=5.1842, median_house_value=157700.0),\n",
       " Row(longitude=-117.07, latitude=33.15, housing_median_age=15.0, total_rooms=2994.0, total_bedrooms=522.0, population=1231.0, households=503.0, median_income=3.2024, median_house_value=180400.0),\n",
       " Row(longitude=-117.07, latitude=33.14, housing_median_age=16.0, total_rooms=2546.0, total_bedrooms=429.0, population=1683.0, households=408.0, median_income=4.7426, median_house_value=160600.0),\n",
       " Row(longitude=-117.07, latitude=33.13, housing_median_age=33.0, total_rooms=555.0, total_bedrooms=165.0, population=612.0, households=176.0, median_income=2.1786, median_house_value=137500.0),\n",
       " Row(longitude=-117.07, latitude=33.13, housing_median_age=17.0, total_rooms=6817.0, total_bedrooms=1632.0, population=4526.0, households=1474.0, median_income=2.6152, median_house_value=135300.0),\n",
       " Row(longitude=-117.07, latitude=33.12, housing_median_age=32.0, total_rooms=2474.0, total_bedrooms=499.0, population=1224.0, households=461.0, median_income=2.7216, median_house_value=146300.0),\n",
       " Row(longitude=-117.07, latitude=33.12, housing_median_age=21.0, total_rooms=4578.0, total_bedrooms=927.0, population=2818.0, households=900.0, median_income=3.1458, median_house_value=187700.0),\n",
       " Row(longitude=-117.07, latitude=33.12, housing_median_age=12.0, total_rooms=2453.0, total_bedrooms=599.0, population=1251.0, households=529.0, median_income=2.4122, median_house_value=127000.0),\n",
       " Row(longitude=-117.07, latitude=33.11, housing_median_age=31.0, total_rooms=2055.0, total_bedrooms=473.0, population=1326.0, households=427.0, median_income=3.0915, median_house_value=139900.0),\n",
       " Row(longitude=-117.07, latitude=33.11, housing_median_age=17.0, total_rooms=5565.0, total_bedrooms=1237.0, population=3004.0, households=1139.0, median_income=3.0054, median_house_value=142300.0),\n",
       " Row(longitude=-117.07, latitude=33.07, housing_median_age=8.0, total_rooms=2756.0, total_bedrooms=343.0, population=1045.0, households=340.0, median_income=8.5957, median_house_value=444100.0),\n",
       " Row(longitude=-117.07, latitude=33.04, housing_median_age=4.0, total_rooms=2271.0, total_bedrooms=578.0, population=926.0, households=391.0, median_income=3.6437, median_house_value=210100.0),\n",
       " Row(longitude=-117.07, latitude=33.03, housing_median_age=15.0, total_rooms=1095.0, total_bedrooms=158.0, population=361.0, households=176.0, median_income=6.8099, median_house_value=328200.0),\n",
       " Row(longitude=-117.07, latitude=33.03, housing_median_age=14.0, total_rooms=6665.0, total_bedrooms=1231.0, population=2026.0, households=1001.0, median_income=5.09, median_house_value=268500.0),\n",
       " Row(longitude=-117.07, latitude=33.02, housing_median_age=17.0, total_rooms=2863.0, total_bedrooms=665.0, population=715.0, households=467.0, median_income=2.6048, median_house_value=148200.0),\n",
       " Row(longitude=-117.07, latitude=33.01, housing_median_age=5.0, total_rooms=5870.0, total_bedrooms=977.0, population=1917.0, households=842.0, median_income=5.1998, median_house_value=294100.0),\n",
       " Row(longitude=-117.07, latitude=33.01, housing_median_age=25.0, total_rooms=2120.0, total_bedrooms=381.0, population=588.0, households=359.0, median_income=3.1187, median_house_value=169400.0),\n",
       " Row(longitude=-117.07, latitude=33.0, housing_median_age=4.0, total_rooms=9153.0, total_bedrooms=1866.0, population=3775.0, households=1698.0, median_income=4.955, median_house_value=241500.0),\n",
       " Row(longitude=-117.07, latitude=33.0, housing_median_age=4.0, total_rooms=6242.0, total_bedrooms=1258.0, population=2211.0, households=1116.0, median_income=4.25, median_house_value=281600.0),\n",
       " Row(longitude=-117.07, latitude=32.91, housing_median_age=5.0, total_rooms=2234.0, total_bedrooms=256.0, population=894.0, households=253.0, median_income=10.3354, median_house_value=477600.0),\n",
       " Row(longitude=-117.07, latitude=32.8, housing_median_age=36.0, total_rooms=2028.0, total_bedrooms=349.0, population=820.0, households=352.0, median_income=3.9828, median_house_value=168900.0),\n",
       " Row(longitude=-117.07, latitude=32.8, housing_median_age=31.0, total_rooms=2550.0, total_bedrooms=395.0, population=1017.0, households=405.0, median_income=5.1488, median_house_value=181000.0),\n",
       " Row(longitude=-117.07, latitude=32.8, housing_median_age=23.0, total_rooms=2698.0, total_bedrooms=410.0, population=1094.0, households=411.0, median_income=5.1782, median_house_value=195100.0),\n",
       " Row(longitude=-117.07, latitude=32.78, housing_median_age=26.0, total_rooms=3725.0, total_bedrooms=623.0, population=1516.0, households=627.0, median_income=4.7143, median_house_value=268300.0),\n",
       " Row(longitude=-117.07, latitude=32.78, housing_median_age=22.0, total_rooms=922.0, total_bedrooms=240.0, population=1524.0, households=235.0, median_income=1.6815, median_house_value=218800.0),\n",
       " Row(longitude=-117.07, latitude=32.77, housing_median_age=38.0, total_rooms=3779.0, total_bedrooms=614.0, population=1495.0, households=614.0, median_income=4.3529, median_house_value=184000.0),\n",
       " Row(longitude=-117.07, latitude=32.77, housing_median_age=38.0, total_rooms=1130.0, total_bedrooms=228.0, population=699.0, households=241.0, median_income=2.65, median_house_value=167600.0),\n",
       " Row(longitude=-117.07, latitude=32.77, housing_median_age=34.0, total_rooms=2245.0, total_bedrooms=394.0, population=1849.0, households=429.0, median_income=3.5446, median_house_value=185500.0),\n",
       " Row(longitude=-117.07, latitude=32.76, housing_median_age=42.0, total_rooms=1827.0, total_bedrooms=378.0, population=880.0, households=380.0, median_income=2.5125, median_house_value=176600.0),\n",
       " Row(longitude=-117.07, latitude=32.76, housing_median_age=14.0, total_rooms=2523.0, total_bedrooms=545.0, population=1297.0, households=525.0, median_income=2.3886, median_house_value=138100.0),\n",
       " Row(longitude=-117.07, latitude=32.75, housing_median_age=9.0, total_rooms=3464.0, total_bedrooms=749.0, population=1687.0, households=645.0, median_income=3.3026, median_house_value=119100.0),\n",
       " Row(longitude=-117.07, latitude=32.75, housing_median_age=37.0, total_rooms=2690.0, total_bedrooms=549.0, population=1219.0, households=524.0, median_income=2.3148, median_house_value=154200.0),\n",
       " Row(longitude=-117.07, latitude=32.75, housing_median_age=31.0, total_rooms=2036.0, total_bedrooms=501.0, population=1263.0, households=442.0, median_income=2.5583, median_house_value=120700.0),\n",
       " Row(longitude=-117.07, latitude=32.75, housing_median_age=14.0, total_rooms=3073.0, total_bedrooms=851.0, population=2000.0, households=782.0, median_income=2.3824, median_house_value=144700.0),\n",
       " Row(longitude=-117.07, latitude=32.74, housing_median_age=37.0, total_rooms=1042.0, total_bedrooms=205.0, population=589.0, households=208.0, median_income=2.6629, median_house_value=116900.0),\n",
       " Row(longitude=-117.07, latitude=32.73, housing_median_age=18.0, total_rooms=2968.0, total_bedrooms=656.0, population=1149.0, households=581.0, median_income=2.6452, median_house_value=154200.0),\n",
       " Row(longitude=-117.07, latitude=32.72, housing_median_age=18.0, total_rooms=1758.0, total_bedrooms=286.0, population=987.0, households=277.0, median_income=4.6875, median_house_value=141800.0),\n",
       " Row(longitude=-117.07, latitude=32.71, housing_median_age=39.0, total_rooms=2754.0, total_bedrooms=652.0, population=2263.0, households=619.0, median_income=2.2454, median_house_value=89600.0),\n",
       " Row(longitude=-117.07, latitude=32.71, housing_median_age=36.0, total_rooms=2448.0, total_bedrooms=475.0, population=1268.0, households=450.0, median_income=2.5682, median_house_value=109100.0),\n",
       " Row(longitude=-117.07, latitude=32.71, housing_median_age=26.0, total_rooms=4151.0, total_bedrooms=823.0, population=2822.0, households=697.0, median_income=2.8372, median_house_value=123400.0),\n",
       " Row(longitude=-117.07, latitude=32.7, housing_median_age=14.0, total_rooms=2763.0, total_bedrooms=456.0, population=1914.0, households=465.0, median_income=4.1645, median_house_value=143000.0),\n",
       " Row(longitude=-117.07, latitude=32.69, housing_median_age=29.0, total_rooms=1429.0, total_bedrooms=293.0, population=1091.0, households=317.0, median_income=3.4609, median_house_value=118000.0),\n",
       " Row(longitude=-117.07, latitude=32.69, housing_median_age=28.0, total_rooms=1485.0, total_bedrooms=275.0, population=820.0, households=283.0, median_income=4.069, median_house_value=153300.0),\n",
       " Row(longitude=-117.07, latitude=32.69, housing_median_age=20.0, total_rooms=2192.0, total_bedrooms=406.0, population=1766.0, households=393.0, median_income=4.0921, median_house_value=135000.0),\n",
       " Row(longitude=-117.07, latitude=32.68, housing_median_age=18.0, total_rooms=1475.0, total_bedrooms=267.0, population=1149.0, households=268.0, median_income=5.0827, median_house_value=142200.0),\n",
       " Row(longitude=-117.07, latitude=32.67, housing_median_age=35.0, total_rooms=3200.0, total_bedrooms=725.0, population=1723.0, households=610.0, median_income=1.8977, median_house_value=95600.0),\n",
       " Row(longitude=-117.07, latitude=32.67, housing_median_age=28.0, total_rooms=2758.0, total_bedrooms=623.0, population=2179.0, households=631.0, median_income=2.3814, median_house_value=112300.0),\n",
       " Row(longitude=-117.07, latitude=32.65, housing_median_age=12.0, total_rooms=4131.0, total_bedrooms=891.0, population=2272.0, households=840.0, median_income=3.4701, median_house_value=204900.0),\n",
       " Row(longitude=-117.07, latitude=32.64, housing_median_age=38.0, total_rooms=1486.0, total_bedrooms=269.0, population=745.0, households=295.0, median_income=4.6477, median_house_value=150400.0),\n",
       " Row(longitude=-117.07, latitude=32.64, housing_median_age=32.0, total_rooms=5135.0, total_bedrooms=1025.0, population=2152.0, households=944.0, median_income=4.1325, median_house_value=172800.0),\n",
       " Row(longitude=-117.07, latitude=32.64, housing_median_age=30.0, total_rooms=2873.0, total_bedrooms=774.0, population=1593.0, households=731.0, median_income=2.24, median_house_value=129500.0),\n",
       " Row(longitude=-117.07, latitude=32.63, housing_median_age=40.0, total_rooms=1706.0, total_bedrooms=322.0, population=796.0, households=303.0, median_income=3.5583, median_house_value=154900.0),\n",
       " Row(longitude=-117.07, latitude=32.63, housing_median_age=37.0, total_rooms=2372.0, total_bedrooms=444.0, population=1056.0, households=419.0, median_income=3.7583, median_house_value=145500.0),\n",
       " Row(longitude=-117.07, latitude=32.63, housing_median_age=37.0, total_rooms=2303.0, total_bedrooms=379.0, population=1026.0, households=357.0, median_income=3.455, median_house_value=156900.0),\n",
       " Row(longitude=-117.07, latitude=32.62, housing_median_age=19.0, total_rooms=5016.0, total_bedrooms=1173.0, population=2750.0, households=1081.0, median_income=2.7838, median_house_value=155900.0),\n",
       " Row(longitude=-117.07, latitude=32.61, housing_median_age=22.0, total_rooms=5016.0, total_bedrooms=1331.0, population=3222.0, households=1196.0, median_income=2.1441, median_house_value=135500.0),\n",
       " Row(longitude=-117.07, latitude=32.61, housing_median_age=10.0, total_rooms=1686.0, total_bedrooms=414.0, population=1000.0, households=391.0, median_income=2.1765, median_house_value=128400.0),\n",
       " Row(longitude=-117.07, latitude=32.6, housing_median_age=18.0, total_rooms=2602.0, total_bedrooms=551.0, population=1042.0, households=550.0, median_income=1.9267, median_house_value=67500.0),\n",
       " Row(longitude=-117.07, latitude=32.59, housing_median_age=21.0, total_rooms=1779.0, total_bedrooms=466.0, population=1327.0, households=488.0, median_income=1.6007, median_house_value=96200.0),\n",
       " Row(longitude=-117.07, latitude=32.57, housing_median_age=17.0, total_rooms=2961.0, total_bedrooms=634.0, population=1911.0, households=615.0, median_income=2.5859, median_house_value=131400.0),\n",
       " Row(longitude=-117.07, latitude=32.57, housing_median_age=14.0, total_rooms=1527.0, total_bedrooms=357.0, population=1224.0, households=363.0, median_income=2.7361, median_house_value=93600.0),\n",
       " Row(longitude=-117.07, latitude=32.56, housing_median_age=9.0, total_rooms=3648.0, total_bedrooms=895.0, population=3293.0, households=840.0, median_income=3.0992, median_house_value=142600.0),\n",
       " Row(longitude=-117.08, latitude=34.96, housing_median_age=28.0, total_rooms=1777.0, total_bedrooms=307.0, population=721.0, households=259.0, median_income=3.6343, median_house_value=79800.0),\n",
       " Row(longitude=-117.08, latitude=34.08, housing_median_age=34.0, total_rooms=45.0, total_bedrooms=11.0, population=39.0, households=14.0, median_income=3.0625, median_house_value=500001.0),\n",
       " Row(longitude=-117.08, latitude=34.03, housing_median_age=23.0, total_rooms=3862.0, total_bedrooms=699.0, population=2082.0, households=652.0, median_income=3.154, median_house_value=115700.0),\n",
       " Row(longitude=-117.08, latitude=34.02, housing_median_age=20.0, total_rooms=3111.0, total_bedrooms=563.0, population=1453.0, households=538.0, median_income=3.3365, median_house_value=122800.0),\n",
       " Row(longitude=-117.08, latitude=33.82, housing_median_age=6.0, total_rooms=1771.0, total_bedrooms=293.0, population=935.0, households=279.0, median_income=4.065, median_house_value=148200.0),\n",
       " Row(longitude=-117.08, latitude=33.23, housing_median_age=14.0, total_rooms=3337.0, total_bedrooms=571.0, population=1385.0, households=512.0, median_income=4.15, median_house_value=272200.0),\n",
       " Row(longitude=-117.08, latitude=33.14, housing_median_age=19.0, total_rooms=2629.0, total_bedrooms=494.0, population=1444.0, households=503.0, median_income=3.5462, median_house_value=156800.0),\n",
       " Row(longitude=-117.08, latitude=33.14, housing_median_age=15.0, total_rooms=1497.0, total_bedrooms=250.0, population=827.0, households=239.0, median_income=4.3846, median_house_value=154200.0),\n",
       " Row(longitude=-117.08, latitude=33.14, housing_median_age=11.0, total_rooms=1430.0, total_bedrooms=292.0, population=921.0, households=294.0, median_income=4.2357, median_house_value=160900.0),\n",
       " Row(longitude=-117.08, latitude=33.13, housing_median_age=17.0, total_rooms=8466.0, total_bedrooms=2628.0, population=7014.0, households=2267.0, median_income=2.1437, median_house_value=113700.0),\n",
       " Row(longitude=-117.08, latitude=33.12, housing_median_age=37.0, total_rooms=1060.0, total_bedrooms=268.0, population=823.0, households=229.0, median_income=1.8363, median_house_value=145500.0),\n",
       " Row(longitude=-117.08, latitude=33.12, housing_median_age=33.0, total_rooms=674.0, total_bedrooms=208.0, population=565.0, households=188.0, median_income=1.875, median_house_value=114300.0),\n",
       " Row(longitude=-117.08, latitude=33.11, housing_median_age=31.0, total_rooms=1832.0, total_bedrooms=444.0, population=1669.0, households=463.0, median_income=2.2146, median_house_value=116700.0),\n",
       " Row(longitude=-117.08, latitude=33.11, housing_median_age=31.0, total_rooms=1356.0, total_bedrooms=324.0, population=1301.0, households=331.0, median_income=2.5331, median_house_value=115100.0),\n",
       " Row(longitude=-117.08, latitude=33.11, housing_median_age=28.0, total_rooms=2094.0, total_bedrooms=585.0, population=1556.0, households=563.0, median_income=2.2, median_house_value=127700.0),\n",
       " Row(longitude=-117.08, latitude=33.09, housing_median_age=23.0, total_rooms=3792.0, total_bedrooms=624.0, population=1988.0, households=658.0, median_income=4.7566, median_house_value=178300.0),\n",
       " Row(longitude=-117.08, latitude=33.08, housing_median_age=23.0, total_rooms=3400.0, total_bedrooms=501.0, population=1383.0, households=488.0, median_income=4.9844, median_house_value=249100.0),\n",
       " Row(longitude=-117.08, latitude=33.04, housing_median_age=10.0, total_rooms=2577.0, total_bedrooms=347.0, population=1193.0, households=365.0, median_income=6.53, median_house_value=264100.0),\n",
       " Row(longitude=-117.08, latitude=33.03, housing_median_age=18.0, total_rooms=1339.0, total_bedrooms=284.0, population=761.0, households=290.0, median_income=5.3074, median_house_value=137200.0),\n",
       " Row(longitude=-117.08, latitude=33.03, housing_median_age=17.0, total_rooms=987.0, total_bedrooms=142.0, population=463.0, households=152.0, median_income=5.8747, median_house_value=229300.0),\n",
       " Row(longitude=-117.08, latitude=33.03, housing_median_age=15.0, total_rooms=3023.0, total_bedrooms=623.0, population=1283.0, households=559.0, median_income=3.3724, median_house_value=137900.0),\n",
       " Row(longitude=-117.08, latitude=33.03, housing_median_age=10.0, total_rooms=2296.0, total_bedrooms=450.0, population=818.0, households=405.0, median_income=4.3424, median_house_value=160600.0),\n",
       " Row(longitude=-117.08, latitude=33.01, housing_median_age=5.0, total_rooms=5659.0, total_bedrooms=931.0, population=2565.0, households=902.0, median_income=6.1949, median_house_value=238700.0),\n",
       " Row(longitude=-117.08, latitude=32.97, housing_median_age=3.0, total_rooms=17466.0, total_bedrooms=3336.0, population=7644.0, households=2895.0, median_income=5.4584, median_house_value=246500.0),\n",
       " Row(longitude=-117.08, latitude=32.93, housing_median_age=5.0, total_rooms=14944.0, total_bedrooms=2490.0, population=6600.0, households=2407.0, median_income=6.0857, median_house_value=308300.0),\n",
       " Row(longitude=-117.08, latitude=32.91, housing_median_age=9.0, total_rooms=1547.0, total_bedrooms=218.0, population=683.0, households=231.0, median_income=7.5604, median_house_value=327900.0),\n",
       " Row(longitude=-117.08, latitude=32.91, housing_median_age=16.0, total_rooms=1653.0, total_bedrooms=228.0, population=690.0, households=224.0, median_income=6.5853, median_house_value=248400.0),\n",
       " Row(longitude=-117.08, latitude=32.83, housing_median_age=7.0, total_rooms=13703.0, total_bedrooms=2352.0, population=4446.0, households=1856.0, median_income=6.4335, median_house_value=260600.0),\n",
       " Row(longitude=-117.08, latitude=32.82, housing_median_age=10.0, total_rooms=5177.0, total_bedrooms=856.0, population=2190.0, households=816.0, median_income=5.9734, median_house_value=271700.0),\n",
       " Row(longitude=-117.08, latitude=32.8, housing_median_age=25.0, total_rooms=2963.0, total_bedrooms=552.0, population=1162.0, households=556.0, median_income=3.625, median_house_value=184500.0),\n",
       " Row(longitude=-117.08, latitude=32.78, housing_median_age=21.0, total_rooms=2919.0, total_bedrooms=496.0, population=984.0, households=443.0, median_income=4.625, median_house_value=222800.0),\n",
       " Row(longitude=-117.08, latitude=32.77, housing_median_age=31.0, total_rooms=1070.0, total_bedrooms=155.0, population=426.0, households=153.0, median_income=6.1628, median_house_value=219200.0),\n",
       " Row(longitude=-117.08, latitude=32.77, housing_median_age=25.0, total_rooms=3911.0, total_bedrooms=849.0, population=1580.0, households=767.0, median_income=2.7778, median_house_value=184100.0),\n",
       " Row(longitude=-117.08, latitude=32.76, housing_median_age=27.0, total_rooms=1221.0, total_bedrooms=254.0, population=606.0, households=259.0, median_income=3.0833, median_house_value=155400.0),\n",
       " Row(longitude=-117.08, latitude=32.76, housing_median_age=20.0, total_rooms=2547.0, total_bedrooms=785.0, population=1199.0, households=643.0, median_income=1.7743, median_house_value=140300.0),\n",
       " Row(longitude=-117.08, latitude=32.76, housing_median_age=18.0, total_rooms=1704.0, total_bedrooms=596.0, population=1639.0, households=548.0, median_income=1.7391, median_house_value=125000.0),\n",
       " Row(longitude=-117.08, latitude=32.75, housing_median_age=20.0, total_rooms=1989.0, total_bedrooms=508.0, population=1452.0, households=462.0, median_income=2.0077, median_house_value=118300.0),\n",
       " Row(longitude=-117.08, latitude=32.75, housing_median_age=16.0, total_rooms=1111.0, total_bedrooms=328.0, population=930.0, households=303.0, median_income=1.2347, median_house_value=128100.0),\n",
       " Row(longitude=-117.08, latitude=32.75, housing_median_age=15.0, total_rooms=1821.0, total_bedrooms=516.0, population=1385.0, households=439.0, median_income=2.5101, median_house_value=95300.0),\n",
       " Row(longitude=-117.08, latitude=32.74, housing_median_age=33.0, total_rooms=3260.0, total_bedrooms=673.0, population=1784.0, households=666.0, median_income=3.5078, median_house_value=126500.0),\n",
       " Row(longitude=-117.08, latitude=32.74, housing_median_age=26.0, total_rooms=2359.0, total_bedrooms=622.0, population=2067.0, households=581.0, median_income=1.8103, median_house_value=124700.0),\n",
       " Row(longitude=-117.08, latitude=32.73, housing_median_age=36.0, total_rooms=3331.0, total_bedrooms=643.0, population=1903.0, households=622.0, median_income=3.6974, median_house_value=122000.0),\n",
       " Row(longitude=-117.08, latitude=32.73, housing_median_age=36.0, total_rooms=1158.0, total_bedrooms=218.0, population=619.0, households=233.0, median_income=3.6125, median_house_value=122500.0),\n",
       " Row(longitude=-117.08, latitude=32.73, housing_median_age=19.0, total_rooms=2935.0, total_bedrooms=763.0, population=1953.0, households=720.0, median_income=1.4254, median_house_value=111300.0),\n",
       " Row(longitude=-117.08, latitude=32.71, housing_median_age=27.0, total_rooms=2204.0, total_bedrooms=598.0, population=1656.0, households=521.0, median_income=1.4821, median_house_value=86200.0),\n",
       " Row(longitude=-117.08, latitude=32.7, housing_median_age=37.0, total_rooms=2176.0, total_bedrooms=418.0, population=1301.0, households=375.0, median_income=2.875, median_house_value=98900.0),\n",
       " Row(longitude=-117.08, latitude=32.7, housing_median_age=36.0, total_rooms=2103.0, total_bedrooms=390.0, population=1279.0, households=392.0, median_income=2.4135, median_house_value=97000.0),\n",
       " Row(longitude=-117.08, latitude=32.69, housing_median_age=36.0, total_rooms=1571.0, total_bedrooms=284.0, population=1001.0, households=268.0, median_income=3.6875, median_house_value=111400.0),\n",
       " Row(longitude=-117.08, latitude=32.69, housing_median_age=31.0, total_rooms=2558.0, total_bedrooms=487.0, population=1938.0, households=492.0, median_income=3.4875, median_house_value=117000.0),\n",
       " Row(longitude=-117.08, latitude=32.68, housing_median_age=26.0, total_rooms=3071.0, total_bedrooms=615.0, population=2156.0, households=568.0, median_income=2.9318, median_house_value=112400.0),\n",
       " Row(longitude=-117.08, latitude=32.68, housing_median_age=19.0, total_rooms=3635.0, total_bedrooms=1078.0, population=3127.0, households=1098.0, median_income=1.324, median_house_value=122600.0),\n",
       " Row(longitude=-117.08, latitude=32.67, housing_median_age=31.0, total_rooms=3008.0, total_bedrooms=764.0, population=2088.0, households=757.0, median_income=2.5662, median_house_value=118200.0),\n",
       " Row(longitude=-117.08, latitude=32.66, housing_median_age=43.0, total_rooms=1004.0, total_bedrooms=236.0, population=839.0, households=235.0, median_income=2.81, median_house_value=103400.0),\n",
       " Row(longitude=-117.08, latitude=32.65, housing_median_age=28.0, total_rooms=2296.0, total_bedrooms=603.0, population=1277.0, households=550.0, median_income=2.3562, median_house_value=123800.0),\n",
       " Row(longitude=-117.08, latitude=32.65, housing_median_age=17.0, total_rooms=2633.0, total_bedrooms=712.0, population=1487.0, households=694.0, median_income=2.5392, median_house_value=147000.0),\n",
       " Row(longitude=-117.08, latitude=32.64, housing_median_age=38.0, total_rooms=917.0, total_bedrooms=256.0, population=494.0, households=233.0, median_income=1.9241, median_house_value=150000.0),\n",
       " Row(longitude=-117.08, latitude=32.64, housing_median_age=11.0, total_rooms=1651.0, total_bedrooms=533.0, population=947.0, households=515.0, median_income=1.6806, median_house_value=141700.0),\n",
       " Row(longitude=-117.08, latitude=32.63, housing_median_age=33.0, total_rooms=2891.0, total_bedrooms=793.0, population=1607.0, households=754.0, median_income=2.1281, median_house_value=139800.0),\n",
       " Row(longitude=-117.08, latitude=32.63, housing_median_age=30.0, total_rooms=2504.0, total_bedrooms=559.0, population=1827.0, households=490.0, median_income=2.6146, median_house_value=159400.0),\n",
       " Row(longitude=-117.08, latitude=32.63, housing_median_age=28.0, total_rooms=2080.0, total_bedrooms=427.0, population=1266.0, households=434.0, median_income=2.2788, median_house_value=146300.0),\n",
       " Row(longitude=-117.08, latitude=32.62, housing_median_age=36.0, total_rooms=1674.0, total_bedrooms=309.0, population=818.0, households=307.0, median_income=3.4773, median_house_value=150400.0),\n",
       " Row(longitude=-117.08, latitude=32.62, housing_median_age=28.0, total_rooms=2468.0, total_bedrooms=506.0, population=1353.0, households=522.0, median_income=3.0771, median_house_value=158600.0),\n",
       " Row(longitude=-117.08, latitude=32.62, housing_median_age=16.0, total_rooms=5192.0, total_bedrooms=1381.0, population=3261.0, households=1321.0, median_income=2.2685, median_house_value=151900.0),\n",
       " Row(longitude=-117.08, latitude=32.61, housing_median_age=27.0, total_rooms=2264.0, total_bedrooms=525.0, population=1485.0, households=468.0, median_income=3.3514, median_house_value=149100.0),\n",
       " Row(longitude=-117.08, latitude=32.6, housing_median_age=24.0, total_rooms=1901.0, total_bedrooms=490.0, population=1334.0, households=476.0, median_income=2.2544, median_house_value=121900.0),\n",
       " Row(longitude=-117.08, latitude=32.59, housing_median_age=8.0, total_rooms=2888.0, total_bedrooms=662.0, population=2441.0, households=683.0, median_income=2.7048, median_house_value=153000.0),\n",
       " Row(longitude=-117.08, latitude=32.59, housing_median_age=30.0, total_rooms=144.0, total_bedrooms=52.0, population=220.0, households=48.0, median_income=2.3929, median_house_value=134400.0),\n",
       " Row(longitude=-117.08, latitude=32.58, housing_median_age=22.0, total_rooms=2128.0, total_bedrooms=477.0, population=1420.0, households=450.0, median_income=3.2687, median_house_value=131000.0),\n",
       " Row(longitude=-117.08, latitude=32.57, housing_median_age=9.0, total_rooms=6298.0, total_bedrooms=1512.0, population=4451.0, households=1456.0, median_income=2.569, median_house_value=88300.0),\n",
       " Row(longitude=-117.09, latitude=34.22, housing_median_age=16.0, total_rooms=1347.0, total_bedrooms=327.0, population=271.0, households=91.0, median_income=4.0, median_house_value=87500.0),\n",
       " Row(longitude=-117.09, latitude=34.07, housing_median_age=24.0, total_rooms=6260.0, total_bedrooms=1271.0, population=3132.0, households=1189.0, median_income=2.5156, median_house_value=103000.0),\n",
       " Row(longitude=-117.09, latitude=33.71, housing_median_age=13.0, total_rooms=1974.0, total_bedrooms=426.0, population=1276.0, households=408.0, median_income=1.972, median_house_value=90500.0),\n",
       " Row(longitude=-117.09, latitude=33.15, housing_median_age=13.0, total_rooms=3958.0, total_bedrooms=865.0, population=1981.0, households=840.0, median_income=3.4764, median_house_value=137500.0),\n",
       " Row(longitude=-117.09, latitude=33.13, housing_median_age=9.0, total_rooms=5685.0, total_bedrooms=1442.0, population=3773.0, households=1250.0, median_income=3.0426, median_house_value=129900.0),\n",
       " Row(longitude=-117.09, latitude=33.12, housing_median_age=11.0, total_rooms=567.0, total_bedrooms=184.0, population=620.0, households=163.0, median_income=2.5284, median_house_value=122500.0),\n",
       " Row(longitude=-117.09, latitude=33.11, housing_median_age=32.0, total_rooms=1713.0, total_bedrooms=321.0, population=891.0, households=286.0, median_income=3.1429, median_house_value=171600.0),\n",
       " Row(longitude=-117.09, latitude=33.1, housing_median_age=21.0, total_rooms=2876.0, total_bedrooms=539.0, population=1387.0, households=499.0, median_income=3.8292, median_house_value=177000.0),\n",
       " Row(longitude=-117.09, latitude=32.99, housing_median_age=18.0, total_rooms=3215.0, total_bedrooms=588.0, population=1618.0, households=509.0, median_income=4.6028, median_house_value=216800.0),\n",
       " Row(longitude=-117.09, latitude=32.99, housing_median_age=16.0, total_rooms=2175.0, total_bedrooms=327.0, population=1037.0, households=326.0, median_income=5.1909, median_house_value=201400.0),\n",
       " Row(longitude=-117.09, latitude=32.98, housing_median_age=23.0, total_rooms=1125.0, total_bedrooms=273.0, population=687.0, households=308.0, median_income=2.3182, median_house_value=268800.0),\n",
       " Row(longitude=-117.09, latitude=32.91, housing_median_age=9.0, total_rooms=2012.0, total_bedrooms=316.0, population=802.0, households=289.0, median_income=6.5706, median_house_value=255700.0),\n",
       " Row(longitude=-117.09, latitude=32.91, housing_median_age=16.0, total_rooms=2005.0, total_bedrooms=266.0, population=827.0, households=270.0, median_income=7.0546, median_house_value=282200.0),\n",
       " Row(longitude=-117.09, latitude=32.9, housing_median_age=16.0, total_rooms=1989.0, total_bedrooms=290.0, population=814.0, households=291.0, median_income=6.2715, median_house_value=255100.0),\n",
       " Row(longitude=-117.09, latitude=32.83, housing_median_age=15.0, total_rooms=4138.0, total_bedrooms=636.0, population=2001.0, households=677.0, median_income=4.8419, median_house_value=264000.0),\n",
       " Row(longitude=-117.09, latitude=32.81, housing_median_age=7.0, total_rooms=6100.0, total_bedrooms=1185.0, population=2710.0, households=1040.0, median_income=5.5673, median_house_value=288200.0),\n",
       " Row(longitude=-117.09, latitude=32.8, housing_median_age=36.0, total_rooms=2163.0, total_bedrooms=367.0, population=915.0, households=360.0, median_income=4.7188, median_house_value=174100.0),\n",
       " Row(longitude=-117.09, latitude=32.8, housing_median_age=15.0, total_rooms=666.0, total_bedrooms=152.0, population=247.0, households=164.0, median_income=2.15, median_house_value=131300.0),\n",
       " Row(longitude=-117.09, latitude=32.79, housing_median_age=36.0, total_rooms=1936.0, total_bedrooms=345.0, population=861.0, households=343.0, median_income=3.8333, median_house_value=170000.0),\n",
       " Row(longitude=-117.09, latitude=32.79, housing_median_age=36.0, total_rooms=1529.0, total_bedrooms=266.0, population=683.0, households=260.0, median_income=4.0982, median_house_value=171200.0),\n",
       " Row(longitude=-117.09, latitude=32.79, housing_median_age=20.0, total_rooms=2183.0, total_bedrooms=534.0, population=999.0, households=496.0, median_income=2.8631, median_house_value=169700.0),\n",
       " Row(longitude=-117.09, latitude=32.78, housing_median_age=28.0, total_rooms=1708.0, total_bedrooms=393.0, population=816.0, households=393.0, median_income=2.9881, median_house_value=165300.0),\n",
       " Row(longitude=-117.09, latitude=32.77, housing_median_age=38.0, total_rooms=2065.0, total_bedrooms=374.0, population=812.0, households=343.0, median_income=3.125, median_house_value=216500.0),\n",
       " Row(longitude=-117.09, latitude=32.77, housing_median_age=31.0, total_rooms=3062.0, total_bedrooms=596.0, population=1263.0, households=539.0, median_income=3.0875, median_house_value=291500.0),\n",
       " Row(longitude=-117.09, latitude=32.76, housing_median_age=44.0, total_rooms=1139.0, total_bedrooms=214.0, population=470.0, households=217.0, median_income=3.5481, median_house_value=203100.0),\n",
       " Row(longitude=-117.09, latitude=32.76, housing_median_age=43.0, total_rooms=3889.0, total_bedrooms=711.0, population=1466.0, households=663.0, median_income=3.5529, median_house_value=223000.0),\n",
       " Row(longitude=-117.09, latitude=32.76, housing_median_age=31.0, total_rooms=2567.0, total_bedrooms=624.0, population=1255.0, households=582.0, median_income=2.5909, median_house_value=159100.0),\n",
       " Row(longitude=-117.09, latitude=32.76, housing_median_age=31.0, total_rooms=1235.0, total_bedrooms=387.0, population=816.0, households=397.0, median_income=1.5517, median_house_value=122500.0),\n",
       " Row(longitude=-117.09, latitude=32.76, housing_median_age=10.0, total_rooms=1922.0, total_bedrooms=577.0, population=1595.0, households=545.0, median_income=1.5208, median_house_value=118800.0),\n",
       " Row(longitude=-117.09, latitude=32.75, housing_median_age=30.0, total_rooms=1899.0, total_bedrooms=546.0, population=1620.0, households=493.0, median_income=1.6034, median_house_value=84400.0),\n",
       " Row(longitude=-117.09, latitude=32.75, housing_median_age=28.0, total_rooms=1220.0, total_bedrooms=391.0, population=1286.0, households=396.0, median_income=1.2286, median_house_value=105000.0),\n",
       " Row(longitude=-117.09, latitude=32.75, housing_median_age=24.0, total_rooms=1245.0, total_bedrooms=376.0, population=1230.0, households=362.0, median_income=1.875, median_house_value=95000.0),\n",
       " Row(longitude=-117.09, latitude=32.75, housing_median_age=20.0, total_rooms=1701.0, total_bedrooms=503.0, population=1482.0, households=465.0, median_income=1.6789, median_house_value=95500.0),\n",
       " Row(longitude=-117.09, latitude=32.74, housing_median_age=23.0, total_rooms=3130.0, total_bedrooms=779.0, population=2472.0, households=744.0, median_income=2.32, median_house_value=93200.0),\n",
       " Row(longitude=-117.09, latitude=32.73, housing_median_age=26.0, total_rooms=3114.0, total_bedrooms=686.0, population=1948.0, households=660.0, median_income=2.8942, median_house_value=124100.0),\n",
       " Row(longitude=-117.09, latitude=32.72, housing_median_age=39.0, total_rooms=1273.0, total_bedrooms=246.0, population=770.0, households=242.0, median_income=2.0938, median_house_value=102500.0),\n",
       " Row(longitude=-117.09, latitude=32.72, housing_median_age=33.0, total_rooms=1096.0, total_bedrooms=240.0, population=716.0, households=224.0, median_income=1.6944, median_house_value=111800.0),\n",
       " Row(longitude=-117.09, latitude=32.71, housing_median_age=29.0, total_rooms=2238.0, total_bedrooms=523.0, population=2061.0, households=504.0, median_income=2.5559, median_house_value=96800.0),\n",
       " Row(longitude=-117.09, latitude=32.71, housing_median_age=12.0, total_rooms=3375.0, total_bedrooms=945.0, population=2357.0, households=808.0, median_income=1.5, median_house_value=106300.0),\n",
       " Row(longitude=-117.09, latitude=32.7, housing_median_age=22.0, total_rooms=2409.0, total_bedrooms=582.0, population=1887.0, households=578.0, median_income=1.4089, median_house_value=94200.0),\n",
       " Row(longitude=-117.09, latitude=32.69, housing_median_age=20.0, total_rooms=1102.0, total_bedrooms=205.0, population=852.0, households=217.0, median_income=3.1833, median_house_value=108300.0),\n",
       " Row(longitude=-117.09, latitude=32.69, housing_median_age=18.0, total_rooms=1645.0, total_bedrooms=430.0, population=1221.0, households=410.0, median_income=1.3269, median_house_value=108000.0),\n",
       " Row(longitude=-117.09, latitude=32.68, housing_median_age=30.0, total_rooms=2662.0, total_bedrooms=653.0, population=1997.0, households=605.0, median_income=2.8089, median_house_value=120600.0),\n",
       " Row(longitude=-117.09, latitude=32.68, housing_median_age=29.0, total_rooms=1792.0, total_bedrooms=449.0, population=1650.0, households=396.0, median_income=2.2201, median_house_value=100000.0),\n",
       " Row(longitude=-117.09, latitude=32.68, housing_median_age=20.0, total_rooms=2569.0, total_bedrooms=737.0, population=2341.0, households=705.0, median_income=2.0114, median_house_value=104900.0),\n",
       " Row(longitude=-117.09, latitude=32.67, housing_median_age=37.0, total_rooms=1157.0, total_bedrooms=332.0, population=983.0, households=306.0, median_income=2.0972, median_house_value=117000.0),\n",
       " Row(longitude=-117.09, latitude=32.67, housing_median_age=31.0, total_rooms=2051.0, total_bedrooms=549.0, population=1581.0, households=538.0, median_income=2.052, median_house_value=108900.0),\n",
       " Row(longitude=-117.09, latitude=32.66, housing_median_age=46.0, total_rooms=844.0, total_bedrooms=147.0, population=423.0, households=161.0, median_income=3.375, median_house_value=136300.0),\n",
       " Row(longitude=-117.09, latitude=32.66, housing_median_age=38.0, total_rooms=833.0, total_bedrooms=206.0, population=570.0, households=182.0, median_income=1.8333, median_house_value=127100.0),\n",
       " Row(longitude=-117.09, latitude=32.65, housing_median_age=25.0, total_rooms=3509.0, total_bedrooms=985.0, population=2359.0, households=899.0, median_income=2.6296, median_house_value=150000.0),\n",
       " Row(longitude=-117.09, latitude=32.65, housing_median_age=20.0, total_rooms=1445.0, total_bedrooms=323.0, population=573.0, households=334.0, median_income=2.619, median_house_value=145800.0),\n",
       " Row(longitude=-117.09, latitude=32.64, housing_median_age=38.0, total_rooms=2095.0, total_bedrooms=536.0, population=1240.0, households=550.0, median_income=2.7218, median_house_value=145900.0),\n",
       " Row(longitude=-117.09, latitude=32.64, housing_median_age=30.0, total_rooms=3171.0, total_bedrooms=862.0, population=2126.0, households=800.0, median_income=2.507, median_house_value=142700.0),\n",
       " Row(longitude=-117.09, latitude=32.64, housing_median_age=24.0, total_rooms=3613.0, total_bedrooms=973.0, population=2002.0, households=931.0, median_income=1.947, median_house_value=147500.0),\n",
       " Row(longitude=-117.09, latitude=32.64, housing_median_age=20.0, total_rooms=1999.0, total_bedrooms=651.0, population=1302.0, households=592.0, median_income=1.6321, median_house_value=57500.0),\n",
       " Row(longitude=-117.09, latitude=32.63, housing_median_age=33.0, total_rooms=620.0, total_bedrooms=161.0, population=420.0, households=164.0, median_income=1.8417, median_house_value=150000.0),\n",
       " Row(longitude=-117.09, latitude=32.63, housing_median_age=27.0, total_rooms=2920.0, total_bedrooms=770.0, population=1935.0, households=746.0, median_income=2.4148, median_house_value=67500.0),\n",
       " Row(longitude=-117.09, latitude=32.62, housing_median_age=37.0, total_rooms=1925.0, total_bedrooms=428.0, population=1344.0, households=426.0, median_income=2.4866, median_house_value=129700.0),\n",
       " Row(longitude=-117.09, latitude=32.62, housing_median_age=34.0, total_rooms=1576.0, total_bedrooms=364.0, population=1153.0, households=381.0, median_income=2.1955, median_house_value=129700.0),\n",
       " Row(longitude=-117.09, latitude=32.61, housing_median_age=23.0, total_rooms=1157.0, total_bedrooms=309.0, population=640.0, households=313.0, median_income=2.1548, median_house_value=118800.0),\n",
       " Row(longitude=-117.09, latitude=32.61, housing_median_age=21.0, total_rooms=1945.0, total_bedrooms=430.0, population=1335.0, households=419.0, median_income=3.6467, median_house_value=113000.0),\n",
       " Row(longitude=-117.09, latitude=32.58, housing_median_age=12.0, total_rooms=2565.0, total_bedrooms=567.0, population=1785.0, households=545.0, median_income=3.0273, median_house_value=135300.0),\n",
       " Row(longitude=-117.09, latitude=32.57, housing_median_age=23.0, total_rooms=1817.0, total_bedrooms=323.0, population=1371.0, households=327.0, median_income=3.6736, median_house_value=139500.0),\n",
       " Row(longitude=-117.09, latitude=32.57, housing_median_age=17.0, total_rooms=444.0, total_bedrooms=83.0, population=357.0, households=87.0, median_income=5.1478, median_house_value=138900.0),\n",
       " Row(longitude=-117.09, latitude=32.57, housing_median_age=10.0, total_rooms=2198.0, total_bedrooms=368.0, population=1645.0, households=350.0, median_income=4.5547, median_house_value=160700.0),\n",
       " Row(longitude=-117.09, latitude=32.55, housing_median_age=8.0, total_rooms=6533.0, total_bedrooms=1217.0, population=4797.0, households=1177.0, median_income=3.9583, median_house_value=144400.0),\n",
       " Row(longitude=-117.1, latitude=34.57, housing_median_age=6.0, total_rooms=5110.0, total_bedrooms=1044.0, population=1938.0, households=724.0, median_income=3.1917, median_house_value=112800.0),\n",
       " Row(longitude=-117.1, latitude=34.21, housing_median_age=22.0, total_rooms=4397.0, total_bedrooms=931.0, population=1145.0, households=445.0, median_income=4.5268, median_house_value=108400.0),\n",
       " Row(longitude=-117.1, latitude=34.03, housing_median_age=24.0, total_rooms=4144.0, total_bedrooms=826.0, population=2127.0, households=772.0, median_income=2.5172, median_house_value=96000.0),\n",
       " Row(longitude=-117.1, latitude=33.56, housing_median_age=6.0, total_rooms=1868.0, total_bedrooms=289.0, population=750.0, households=247.0, median_income=4.3833, median_house_value=307600.0),\n",
       " ...]"
      ]
     },
     "execution_count": 48,
     "metadata": {},
     "output_type": "execute_result"
    }
   ],
   "source": [
    "df_spark.collect()"
   ]
  },
  {
   "cell_type": "markdown",
   "metadata": {
    "id": "dR8zYmIBpf-g"
   },
   "source": [
    "### Nota:\n",
    "\n",
    "Fijaos que devuelve una lista de filas. No es la mejor forma de trabajar con los datos. Para gestionar esta situación, tenemos que usar funciones de **`selección`** y **`filtrado`** de columnas y registros:"
   ]
  },
  {
   "cell_type": "markdown",
   "metadata": {
    "id": "ybSznmENw2Cd"
   },
   "source": [
    "# Filtrado de datos"
   ]
  },
  {
   "cell_type": "markdown",
   "metadata": {
    "id": "-d8Dql2yUNfF"
   },
   "source": [
    "## Selección -- columnas"
   ]
  },
  {
   "cell_type": "code",
   "execution_count": 49,
   "metadata": {
    "colab": {
     "base_uri": "https://localhost:8080/"
    },
    "executionInfo": {
     "elapsed": 460,
     "status": "ok",
     "timestamp": 1645549379257,
     "user": {
      "displayName": "Raul A. del Aguila",
      "photoUrl": "https://lh3.googleusercontent.com/a-/AOh14GhfFNUGPyK9gz8r-RWHTZpe0mOgynVvayaNWIW_6A=s64",
      "userId": "00351547175787129250"
     },
     "user_tz": -60
    },
    "id": "h56GImvtUN6A",
    "outputId": "f0b96ec2-012b-49f2-a5ef-246017a3395d"
   },
   "outputs": [
    {
     "name": "stdout",
     "output_type": "stream",
     "text": [
      "+-----------+--------------+\n",
      "|total_rooms|total_bedrooms|\n",
      "+-----------+--------------+\n",
      "|     5612.0|        1283.0|\n",
      "|     7650.0|        1901.0|\n",
      "|      720.0|         174.0|\n",
      "|     1501.0|         337.0|\n",
      "|     1454.0|         326.0|\n",
      "|     1387.0|         236.0|\n",
      "|     2907.0|         680.0|\n",
      "|      812.0|         168.0|\n",
      "|     4789.0|        1175.0|\n",
      "|     1497.0|         309.0|\n",
      "|     3741.0|         801.0|\n",
      "|     1988.0|         483.0|\n",
      "|     1291.0|         248.0|\n",
      "|     2478.0|         464.0|\n",
      "|     1448.0|         378.0|\n",
      "|     2556.0|         587.0|\n",
      "|     1678.0|         322.0|\n",
      "|       44.0|          33.0|\n",
      "|     1388.0|         386.0|\n",
      "|       97.0|          24.0|\n",
      "+-----------+--------------+\n",
      "only showing top 20 rows\n",
      "\n"
     ]
    }
   ],
   "source": [
    "df_spark.select(['total_rooms','total_bedrooms']).show()"
   ]
  },
  {
   "cell_type": "markdown",
   "metadata": {
    "id": "NuGti2s8vhuu"
   },
   "source": [
    "## Filtrado -- filas"
   ]
  },
  {
   "cell_type": "code",
   "execution_count": 50,
   "metadata": {
    "id": "VJY1TTKBw8Ps"
   },
   "outputs": [],
   "source": [
    "filtrado = df_spark.filter(df_spark.total_rooms>1000)"
   ]
  },
  {
   "cell_type": "code",
   "execution_count": 51,
   "metadata": {
    "colab": {
     "base_uri": "https://localhost:8080/"
    },
    "executionInfo": {
     "elapsed": 2,
     "status": "ok",
     "timestamp": 1645550196272,
     "user": {
      "displayName": "Raul A. del Aguila",
      "photoUrl": "https://lh3.googleusercontent.com/a-/AOh14GhfFNUGPyK9gz8r-RWHTZpe0mOgynVvayaNWIW_6A=s64",
      "userId": "00351547175787129250"
     },
     "user_tz": -60
    },
    "id": "5wwOYLGZLgbM",
    "outputId": "70a6f3d1-dc19-41e4-ad8d-7d4a2bf5cd1d"
   },
   "outputs": [
    {
     "data": {
      "text/plain": [
       "DataFrame[longitude: double, latitude: double, housing_median_age: double, total_rooms: double, total_bedrooms: double, population: double, households: double, median_income: double, median_house_value: double]"
      ]
     },
     "execution_count": 51,
     "metadata": {},
     "output_type": "execute_result"
    }
   ],
   "source": [
    "filtrado"
   ]
  },
  {
   "cell_type": "code",
   "execution_count": 52,
   "metadata": {
    "colab": {
     "base_uri": "https://localhost:8080/"
    },
    "executionInfo": {
     "elapsed": 24,
     "status": "ok",
     "timestamp": 1645550197750,
     "user": {
      "displayName": "Raul A. del Aguila",
      "photoUrl": "https://lh3.googleusercontent.com/a-/AOh14GhfFNUGPyK9gz8r-RWHTZpe0mOgynVvayaNWIW_6A=s64",
      "userId": "00351547175787129250"
     },
     "user_tz": -60
    },
    "id": "zZyBEUdLs_wm",
    "outputId": "0047f459-c653-431a-a16f-983aa7215f9d"
   },
   "outputs": [
    {
     "name": "stdout",
     "output_type": "stream",
     "text": [
      "+---------+--------+------------------+-----------+--------------+----------+----------+-------------+------------------+\n",
      "|longitude|latitude|housing_median_age|total_rooms|total_bedrooms|population|households|median_income|median_house_value|\n",
      "+---------+--------+------------------+-----------+--------------+----------+----------+-------------+------------------+\n",
      "|  -114.31|   34.19|              15.0|     5612.0|        1283.0|    1015.0|     472.0|       1.4936|           66900.0|\n",
      "|  -114.47|    34.4|              19.0|     7650.0|        1901.0|    1129.0|     463.0|         1.82|           80100.0|\n",
      "|  -114.57|   33.64|              14.0|     1501.0|         337.0|     515.0|     226.0|       3.1917|           73400.0|\n",
      "|  -114.57|   33.57|              20.0|     1454.0|         326.0|     624.0|     262.0|        1.925|           65500.0|\n",
      "|  -114.58|   33.63|              29.0|     1387.0|         236.0|     671.0|     239.0|       3.3438|           74000.0|\n",
      "|  -114.58|   33.61|              25.0|     2907.0|         680.0|    1841.0|     633.0|       2.6768|           82400.0|\n",
      "|  -114.59|   33.61|              34.0|     4789.0|        1175.0|    3134.0|    1056.0|       2.1782|           58400.0|\n",
      "|   -114.6|   34.83|              46.0|     1497.0|         309.0|     787.0|     271.0|       2.1908|           48100.0|\n",
      "|   -114.6|   33.62|              16.0|     3741.0|         801.0|    2434.0|     824.0|       2.6797|           86500.0|\n",
      "|   -114.6|    33.6|              21.0|     1988.0|         483.0|    1182.0|     437.0|        1.625|           62000.0|\n",
      "|  -114.61|   34.84|              48.0|     1291.0|         248.0|     580.0|     211.0|       2.1571|           48600.0|\n",
      "|  -114.61|   34.83|              31.0|     2478.0|         464.0|    1346.0|     479.0|        3.212|           70400.0|\n",
      "|  -114.63|   32.76|              15.0|     1448.0|         378.0|     949.0|     300.0|       0.8585|           45000.0|\n",
      "|  -114.65|   34.89|              17.0|     2556.0|         587.0|    1005.0|     401.0|       1.6991|           69100.0|\n",
      "|  -114.65|    33.6|              28.0|     1678.0|         322.0|     666.0|     256.0|       2.9653|           94900.0|\n",
      "|  -114.66|   32.74|              17.0|     1388.0|         386.0|     775.0|     320.0|       1.2049|           44000.0|\n",
      "|  -114.68|   33.49|              20.0|     1491.0|         360.0|    1135.0|     303.0|       1.6395|           44400.0|\n",
      "|  -115.22|   33.54|              18.0|     1706.0|         397.0|    3424.0|     283.0|        1.625|           53500.0|\n",
      "|  -115.37|   32.82|              30.0|     1602.0|         322.0|    1130.0|     335.0|       3.5735|           71100.0|\n",
      "|  -115.37|   32.82|              14.0|     1276.0|         270.0|     867.0|     261.0|       1.9375|           80900.0|\n",
      "+---------+--------+------------------+-----------+--------------+----------+----------+-------------+------------------+\n",
      "only showing top 20 rows\n",
      "\n"
     ]
    }
   ],
   "source": [
    "filtrado.show()"
   ]
  },
  {
   "cell_type": "markdown",
   "metadata": {
    "id": "VLhrbttmvoNw"
   },
   "source": [
    "## Filtrado -- where"
   ]
  },
  {
   "cell_type": "code",
   "execution_count": 53,
   "metadata": {
    "colab": {
     "base_uri": "https://localhost:8080/"
    },
    "executionInfo": {
     "elapsed": 545,
     "status": "ok",
     "timestamp": 1645550207022,
     "user": {
      "displayName": "Raul A. del Aguila",
      "photoUrl": "https://lh3.googleusercontent.com/a-/AOh14GhfFNUGPyK9gz8r-RWHTZpe0mOgynVvayaNWIW_6A=s64",
      "userId": "00351547175787129250"
     },
     "user_tz": -60
    },
    "id": "JdgCkvwXs-gI",
    "outputId": "27829ad7-e226-478f-b581-e1b2ceccb435"
   },
   "outputs": [
    {
     "name": "stdout",
     "output_type": "stream",
     "text": [
      "+---------+--------+------------------+-----------+--------------+----------+----------+-------------+------------------+\n",
      "|longitude|latitude|housing_median_age|total_rooms|total_bedrooms|population|households|median_income|median_house_value|\n",
      "+---------+--------+------------------+-----------+--------------+----------+----------+-------------+------------------+\n",
      "|  -114.31|   34.19|              15.0|     5612.0|        1283.0|    1015.0|     472.0|       1.4936|           66900.0|\n",
      "|  -117.78|   33.78|               6.0|     9792.0|        1283.0|    3744.0|    1179.0|      10.1714|          481500.0|\n",
      "|   -118.3|   34.06|              33.0|     2437.0|        1283.0|    3906.0|    1084.0|       2.0332|          270000.0|\n",
      "|   -118.4|   34.17|              24.0|     4443.0|        1283.0|    2421.0|    1180.0|       2.2652|          269200.0|\n",
      "|   -121.4|   38.49|              12.0|     7290.0|        1283.0|    3960.0|    1248.0|       3.5968|          106300.0|\n",
      "+---------+--------+------------------+-----------+--------------+----------+----------+-------------+------------------+\n",
      "\n"
     ]
    }
   ],
   "source": [
    "filtrado.where(filtrado.total_bedrooms==1283).show()"
   ]
  },
  {
   "cell_type": "code",
   "execution_count": 54,
   "metadata": {
    "id": "dOLlVX1Knd4z"
   },
   "outputs": [],
   "source": [
    "filtrado_pd = filtrado.toPandas()"
   ]
  },
  {
   "cell_type": "code",
   "execution_count": 55,
   "metadata": {
    "colab": {
     "base_uri": "https://localhost:8080/",
     "height": 272
    },
    "executionInfo": {
     "elapsed": 336,
     "status": "ok",
     "timestamp": 1645549387796,
     "user": {
      "displayName": "Raul A. del Aguila",
      "photoUrl": "https://lh3.googleusercontent.com/a-/AOh14GhfFNUGPyK9gz8r-RWHTZpe0mOgynVvayaNWIW_6A=s64",
      "userId": "00351547175787129250"
     },
     "user_tz": -60
    },
    "id": "wc2pgtS7MFnV",
    "outputId": "b1188fc9-2fe5-4ca9-8cd5-64d321a52548"
   },
   "outputs": [
    {
     "data": {
      "text/html": [
       "<div>\n",
       "<style scoped>\n",
       "    .dataframe tbody tr th:only-of-type {\n",
       "        vertical-align: middle;\n",
       "    }\n",
       "\n",
       "    .dataframe tbody tr th {\n",
       "        vertical-align: top;\n",
       "    }\n",
       "\n",
       "    .dataframe thead th {\n",
       "        text-align: right;\n",
       "    }\n",
       "</style>\n",
       "<table border=\"1\" class=\"dataframe\">\n",
       "  <thead>\n",
       "    <tr style=\"text-align: right;\">\n",
       "      <th></th>\n",
       "      <th>longitude</th>\n",
       "      <th>latitude</th>\n",
       "      <th>housing_median_age</th>\n",
       "      <th>total_rooms</th>\n",
       "      <th>total_bedrooms</th>\n",
       "      <th>population</th>\n",
       "      <th>households</th>\n",
       "      <th>median_income</th>\n",
       "      <th>median_house_value</th>\n",
       "    </tr>\n",
       "  </thead>\n",
       "  <tbody>\n",
       "    <tr>\n",
       "      <th>0</th>\n",
       "      <td>-114.31</td>\n",
       "      <td>34.19</td>\n",
       "      <td>15.0</td>\n",
       "      <td>5612.0</td>\n",
       "      <td>1283.0</td>\n",
       "      <td>1015.0</td>\n",
       "      <td>472.0</td>\n",
       "      <td>1.4936</td>\n",
       "      <td>66900.0</td>\n",
       "    </tr>\n",
       "    <tr>\n",
       "      <th>2701</th>\n",
       "      <td>-117.78</td>\n",
       "      <td>33.78</td>\n",
       "      <td>6.0</td>\n",
       "      <td>9792.0</td>\n",
       "      <td>1283.0</td>\n",
       "      <td>3744.0</td>\n",
       "      <td>1179.0</td>\n",
       "      <td>10.1714</td>\n",
       "      <td>481500.0</td>\n",
       "    </tr>\n",
       "    <tr>\n",
       "      <th>6070</th>\n",
       "      <td>-118.30</td>\n",
       "      <td>34.06</td>\n",
       "      <td>33.0</td>\n",
       "      <td>2437.0</td>\n",
       "      <td>1283.0</td>\n",
       "      <td>3906.0</td>\n",
       "      <td>1084.0</td>\n",
       "      <td>2.0332</td>\n",
       "      <td>270000.0</td>\n",
       "    </tr>\n",
       "    <tr>\n",
       "      <th>7030</th>\n",
       "      <td>-118.40</td>\n",
       "      <td>34.17</td>\n",
       "      <td>24.0</td>\n",
       "      <td>4443.0</td>\n",
       "      <td>1283.0</td>\n",
       "      <td>2421.0</td>\n",
       "      <td>1180.0</td>\n",
       "      <td>2.2652</td>\n",
       "      <td>269200.0</td>\n",
       "    </tr>\n",
       "    <tr>\n",
       "      <th>10672</th>\n",
       "      <td>-121.40</td>\n",
       "      <td>38.49</td>\n",
       "      <td>12.0</td>\n",
       "      <td>7290.0</td>\n",
       "      <td>1283.0</td>\n",
       "      <td>3960.0</td>\n",
       "      <td>1248.0</td>\n",
       "      <td>3.5968</td>\n",
       "      <td>106300.0</td>\n",
       "    </tr>\n",
       "  </tbody>\n",
       "</table>\n",
       "</div>"
      ],
      "text/plain": [
       "       longitude  latitude  housing_median_age  total_rooms  total_bedrooms   \n",
       "0        -114.31     34.19                15.0       5612.0          1283.0  \\\n",
       "2701     -117.78     33.78                 6.0       9792.0          1283.0   \n",
       "6070     -118.30     34.06                33.0       2437.0          1283.0   \n",
       "7030     -118.40     34.17                24.0       4443.0          1283.0   \n",
       "10672    -121.40     38.49                12.0       7290.0          1283.0   \n",
       "\n",
       "       population  households  median_income  median_house_value  \n",
       "0          1015.0       472.0         1.4936             66900.0  \n",
       "2701       3744.0      1179.0        10.1714            481500.0  \n",
       "6070       3906.0      1084.0         2.0332            270000.0  \n",
       "7030       2421.0      1180.0         2.2652            269200.0  \n",
       "10672      3960.0      1248.0         3.5968            106300.0  "
      ]
     },
     "execution_count": 55,
     "metadata": {},
     "output_type": "execute_result"
    }
   ],
   "source": [
    "filtrado_pd.loc[filtrado_pd.total_bedrooms==1283]"
   ]
  },
  {
   "cell_type": "markdown",
   "metadata": {
    "id": "AyFpPCypo2RD"
   },
   "source": [
    "## Acceso a filas / columnas\n",
    "\n",
    "No existe algo parecido a `.iloc` o `.loc``\n",
    "\n",
    "Tenemos que jugar con `collect`, `show`, `select` y `filter`\n",
    "\n",
    "Por ejemplo: \n",
    "\n",
    "### Seleccionar habitaciones y población cuando las habitaciones sean mayor a ... 100!! Pero devuelve sólo los 10 primeros resultados\n",
    "\n"
   ]
  },
  {
   "cell_type": "code",
   "execution_count": 56,
   "metadata": {
    "colab": {
     "base_uri": "https://localhost:8080/"
    },
    "executionInfo": {
     "elapsed": 206,
     "status": "ok",
     "timestamp": 1645549390396,
     "user": {
      "displayName": "Raul A. del Aguila",
      "photoUrl": "https://lh3.googleusercontent.com/a-/AOh14GhfFNUGPyK9gz8r-RWHTZpe0mOgynVvayaNWIW_6A=s64",
      "userId": "00351547175787129250"
     },
     "user_tz": -60
    },
    "id": "oqphFYLAMbJ6",
    "outputId": "c8c956a1-19ef-4ca4-88e0-6a25ede6557e"
   },
   "outputs": [
    {
     "data": {
      "text/plain": [
       "DataFrame[total_bedrooms: double, population: double]"
      ]
     },
     "execution_count": 56,
     "metadata": {},
     "output_type": "execute_result"
    }
   ],
   "source": [
    "df_spark.select('total_bedrooms','population').where(filtrado.total_bedrooms>100)"
   ]
  },
  {
   "cell_type": "code",
   "execution_count": 57,
   "metadata": {
    "colab": {
     "base_uri": "https://localhost:8080/"
    },
    "executionInfo": {
     "elapsed": 1080,
     "status": "ok",
     "timestamp": 1645549392588,
     "user": {
      "displayName": "Raul A. del Aguila",
      "photoUrl": "https://lh3.googleusercontent.com/a-/AOh14GhfFNUGPyK9gz8r-RWHTZpe0mOgynVvayaNWIW_6A=s64",
      "userId": "00351547175787129250"
     },
     "user_tz": -60
    },
    "id": "MaOcVpXLqO5K",
    "outputId": "c72a2a4a-7ada-42cd-ebf5-2a8e1cf153f4"
   },
   "outputs": [
    {
     "data": {
      "text/plain": [
       "[Row(total_bedrooms=1283.0, population=1015.0),\n",
       " Row(total_bedrooms=1901.0, population=1129.0),\n",
       " Row(total_bedrooms=174.0, population=333.0),\n",
       " Row(total_bedrooms=337.0, population=515.0),\n",
       " Row(total_bedrooms=326.0, population=624.0),\n",
       " Row(total_bedrooms=236.0, population=671.0),\n",
       " Row(total_bedrooms=680.0, population=1841.0),\n",
       " Row(total_bedrooms=168.0, population=375.0),\n",
       " Row(total_bedrooms=1175.0, population=3134.0),\n",
       " Row(total_bedrooms=309.0, population=787.0)]"
      ]
     },
     "execution_count": 57,
     "metadata": {},
     "output_type": "execute_result"
    }
   ],
   "source": [
    "df_spark.select('total_bedrooms','population').where(filtrado.total_bedrooms>100).collect()[:10]"
   ]
  },
  {
   "cell_type": "markdown",
   "metadata": {
    "id": "2WzchLgqsAJB"
   },
   "source": []
  },
  {
   "cell_type": "code",
   "execution_count": 58,
   "metadata": {
    "id": "fqxiAOzKsCtV"
   },
   "outputs": [
    {
     "name": "stdout",
     "output_type": "stream",
     "text": [
      "+--------------+----------+\n",
      "|total_bedrooms|population|\n",
      "+--------------+----------+\n",
      "|        1283.0|    1015.0|\n",
      "|        1901.0|    1129.0|\n",
      "|         174.0|     333.0|\n",
      "|         337.0|     515.0|\n",
      "|         326.0|     624.0|\n",
      "|         236.0|     671.0|\n",
      "|         680.0|    1841.0|\n",
      "|         168.0|     375.0|\n",
      "|        1175.0|    3134.0|\n",
      "|         309.0|     787.0|\n",
      "+--------------+----------+\n",
      "only showing top 10 rows\n",
      "\n"
     ]
    }
   ],
   "source": [
    "df_spark.select('total_bedrooms','population').where(filtrado.total_bedrooms>100).show(10)"
   ]
  },
  {
   "cell_type": "code",
   "execution_count": null,
   "metadata": {
    "id": "XPRMkR8ZQCMk"
   },
   "outputs": [],
   "source": []
  },
  {
   "cell_type": "markdown",
   "metadata": {
    "id": "N8-ZSKcZQEDf"
   },
   "source": [
    "### Si quisiéramos coger los datos de toda una columna\n",
    "\n",
    "`select (F.collect_list(nombrecolumna)).first()[0]`\n",
    "\n"
   ]
  },
  {
   "cell_type": "code",
   "execution_count": 59,
   "metadata": {
    "id": "3GGNWFpcQEpm"
   },
   "outputs": [
    {
     "data": {
      "text/plain": [
       "[1283.0,\n",
       " 1901.0,\n",
       " 174.0,\n",
       " 337.0,\n",
       " 326.0,\n",
       " 236.0,\n",
       " 680.0,\n",
       " 168.0,\n",
       " 1175.0,\n",
       " 309.0,\n",
       " 801.0,\n",
       " 483.0,\n",
       " 248.0,\n",
       " 464.0,\n",
       " 378.0,\n",
       " 587.0,\n",
       " 322.0,\n",
       " 33.0,\n",
       " 386.0,\n",
       " 24.0,\n",
       " 360.0,\n",
       " 243.0,\n",
       " 95.0,\n",
       " 129.0,\n",
       " 397.0,\n",
       " 139.0,\n",
       " 322.0,\n",
       " 270.0,\n",
       " 191.0,\n",
       " 294.0,\n",
       " 394.0,\n",
       " 262.0,\n",
       " 196.0,\n",
       " 171.0,\n",
       " 113.0,\n",
       " 220.0,\n",
       " 373.0,\n",
       " 246.0,\n",
       " 666.0,\n",
       " 104.0,\n",
       " 389.0,\n",
       " 440.0,\n",
       " 573.0,\n",
       " 72.0,\n",
       " 913.0,\n",
       " 492.0,\n",
       " 523.0,\n",
       " 218.0,\n",
       " 287.0,\n",
       " 610.0,\n",
       " 136.0,\n",
       " 283.0,\n",
       " 262.0,\n",
       " 382.0,\n",
       " 366.0,\n",
       " 387.0,\n",
       " 337.0,\n",
       " 275.0,\n",
       " 581.0,\n",
       " 199.0,\n",
       " 634.0,\n",
       " 340.0,\n",
       " 545.0,\n",
       " 325.0,\n",
       " 373.0,\n",
       " 268.0,\n",
       " 395.0,\n",
       " 454.0,\n",
       " 403.0,\n",
       " 365.0,\n",
       " 530.0,\n",
       " 316.0,\n",
       " 142.0,\n",
       " 221.0,\n",
       " 162.0,\n",
       " 606.0,\n",
       " 480.0,\n",
       " 416.0,\n",
       " 375.0,\n",
       " 328.0,\n",
       " 835.0,\n",
       " 438.0,\n",
       " 490.0,\n",
       " 202.0,\n",
       " 283.0,\n",
       " 217.0,\n",
       " 269.0,\n",
       " 256.0,\n",
       " 301.0,\n",
       " 289.0,\n",
       " 594.0,\n",
       " 208.0,\n",
       " 235.0,\n",
       " 279.0,\n",
       " 282.0,\n",
       " 143.0,\n",
       " 203.0,\n",
       " 507.0,\n",
       " 414.0,\n",
       " 274.0,\n",
       " 307.0,\n",
       " 177.0,\n",
       " 187.0,\n",
       " 317.0,\n",
       " 244.0,\n",
       " 231.0,\n",
       " 235.0,\n",
       " 340.0,\n",
       " 99.0,\n",
       " 238.0,\n",
       " 448.0,\n",
       " 103.0,\n",
       " 81.0,\n",
       " 18.0,\n",
       " 379.0,\n",
       " 1257.0,\n",
       " 49.0,\n",
       " 248.0,\n",
       " 95.0,\n",
       " 272.0,\n",
       " 43.0,\n",
       " 25.0,\n",
       " 81.0,\n",
       " 46.0,\n",
       " 536.0,\n",
       " 57.0,\n",
       " 280.0,\n",
       " 958.0,\n",
       " 515.0,\n",
       " 97.0,\n",
       " 65.0,\n",
       " 94.0,\n",
       " 290.0,\n",
       " 2331.0,\n",
       " 89.0,\n",
       " 1997.0,\n",
       " 354.0,\n",
       " 820.0,\n",
       " 1228.0,\n",
       " 705.0,\n",
       " 54.0,\n",
       " 499.0,\n",
       " 277.0,\n",
       " 800.0,\n",
       " 203.0,\n",
       " 512.0,\n",
       " 19.0,\n",
       " 654.0,\n",
       " 476.0,\n",
       " 625.0,\n",
       " 273.0,\n",
       " 409.0,\n",
       " 192.0,\n",
       " 714.0,\n",
       " 787.0,\n",
       " 176.0,\n",
       " 295.0,\n",
       " 386.0,\n",
       " 468.0,\n",
       " 858.0,\n",
       " 352.0,\n",
       " 258.0,\n",
       " 849.0,\n",
       " 221.0,\n",
       " 1326.0,\n",
       " 1349.0,\n",
       " 566.0,\n",
       " 1039.0,\n",
       " 2224.0,\n",
       " 187.0,\n",
       " 91.0,\n",
       " 444.0,\n",
       " 1222.0,\n",
       " 284.0,\n",
       " 109.0,\n",
       " 2555.0,\n",
       " 760.0,\n",
       " 481.0,\n",
       " 556.0,\n",
       " 410.0,\n",
       " 851.0,\n",
       " 831.0,\n",
       " 487.0,\n",
       " 861.0,\n",
       " 367.0,\n",
       " 411.0,\n",
       " 3923.0,\n",
       " 2000.0,\n",
       " 514.0,\n",
       " 406.0,\n",
       " 606.0,\n",
       " 3098.0,\n",
       " 1859.0,\n",
       " 1542.0,\n",
       " 1152.0,\n",
       " 1238.0,\n",
       " 348.0,\n",
       " 3479.0,\n",
       " 2405.0,\n",
       " 2460.0,\n",
       " 1149.0,\n",
       " 2257.0,\n",
       " 1618.0,\n",
       " 2007.0,\n",
       " 1089.0,\n",
       " 872.0,\n",
       " 500.0,\n",
       " 476.0,\n",
       " 893.0,\n",
       " 1260.0,\n",
       " 2837.0,\n",
       " 782.0,\n",
       " 48.0,\n",
       " 1296.0,\n",
       " 1343.0,\n",
       " 438.0,\n",
       " 361.0,\n",
       " 1303.0,\n",
       " 1266.0,\n",
       " 1110.0,\n",
       " 249.0,\n",
       " 1206.0,\n",
       " 992.0,\n",
       " 643.0,\n",
       " 920.0,\n",
       " 745.0,\n",
       " 1234.0,\n",
       " 471.0,\n",
       " 1512.0,\n",
       " 2481.0,\n",
       " 441.0,\n",
       " 913.0,\n",
       " 2020.0,\n",
       " 272.0,\n",
       " 636.0,\n",
       " 1875.0,\n",
       " 868.0,\n",
       " 1882.0,\n",
       " 85.0,\n",
       " 1229.0,\n",
       " 1074.0,\n",
       " 713.0,\n",
       " 2634.0,\n",
       " 1395.0,\n",
       " 780.0,\n",
       " 306.0,\n",
       " 754.0,\n",
       " 1444.0,\n",
       " 859.0,\n",
       " 2315.0,\n",
       " 852.0,\n",
       " 648.0,\n",
       " 763.0,\n",
       " 2186.0,\n",
       " 1839.0,\n",
       " 463.0,\n",
       " 1714.0,\n",
       " 1217.0,\n",
       " 1387.0,\n",
       " 1780.0,\n",
       " 562.0,\n",
       " 1529.0,\n",
       " 399.0,\n",
       " 361.0,\n",
       " 1743.0,\n",
       " 67.0,\n",
       " 166.0,\n",
       " 1652.0,\n",
       " 82.0,\n",
       " 876.0,\n",
       " 827.0,\n",
       " 365.0,\n",
       " 538.0,\n",
       " 1719.0,\n",
       " 847.0,\n",
       " 157.0,\n",
       " 74.0,\n",
       " 711.0,\n",
       " 374.0,\n",
       " 109.0,\n",
       " 875.0,\n",
       " 682.0,\n",
       " 661.0,\n",
       " 946.0,\n",
       " 1070.0,\n",
       " 845.0,\n",
       " 481.0,\n",
       " 849.0,\n",
       " 10.0,\n",
       " 268.0,\n",
       " 702.0,\n",
       " 751.0,\n",
       " 525.0,\n",
       " 1946.0,\n",
       " 68.0,\n",
       " 786.0,\n",
       " 520.0,\n",
       " 63.0,\n",
       " 565.0,\n",
       " 1527.0,\n",
       " 1985.0,\n",
       " 495.0,\n",
       " 855.0,\n",
       " 219.0,\n",
       " 532.0,\n",
       " 792.0,\n",
       " 1030.0,\n",
       " 770.0,\n",
       " 938.0,\n",
       " 131.0,\n",
       " 118.0,\n",
       " 443.0,\n",
       " 1689.0,\n",
       " 68.0,\n",
       " 921.0,\n",
       " 291.0,\n",
       " 906.0,\n",
       " 812.0,\n",
       " 761.0,\n",
       " 265.0,\n",
       " 321.0,\n",
       " 491.0,\n",
       " 198.0,\n",
       " 796.0,\n",
       " 259.0,\n",
       " 777.0,\n",
       " 429.0,\n",
       " 623.0,\n",
       " 1583.0,\n",
       " 541.0,\n",
       " 471.0,\n",
       " 916.0,\n",
       " 621.0,\n",
       " 1238.0,\n",
       " 538.0,\n",
       " 219.0,\n",
       " 501.0,\n",
       " 333.0,\n",
       " 593.0,\n",
       " 393.0,\n",
       " 102.0,\n",
       " 840.0,\n",
       " 523.0,\n",
       " 672.0,\n",
       " 738.0,\n",
       " 426.0,\n",
       " 149.0,\n",
       " 773.0,\n",
       " 634.0,\n",
       " 552.0,\n",
       " 810.0,\n",
       " 737.0,\n",
       " 491.0,\n",
       " 492.0,\n",
       " 100.0,\n",
       " 2127.0,\n",
       " 1164.0,\n",
       " 597.0,\n",
       " 628.0,\n",
       " 838.0,\n",
       " 703.0,\n",
       " 898.0,\n",
       " 424.0,\n",
       " 637.0,\n",
       " 287.0,\n",
       " 511.0,\n",
       " 624.0,\n",
       " 89.0,\n",
       " 269.0,\n",
       " 834.0,\n",
       " 284.0,\n",
       " 494.0,\n",
       " 468.0,\n",
       " 268.0,\n",
       " 752.0,\n",
       " 307.0,\n",
       " 1594.0,\n",
       " 1148.0,\n",
       " 666.0,\n",
       " 545.0,\n",
       " 670.0,\n",
       " 990.0,\n",
       " 895.0,\n",
       " 278.0,\n",
       " 714.0,\n",
       " 466.0,\n",
       " 1258.0,\n",
       " 699.0,\n",
       " 1401.0,\n",
       " 2630.0,\n",
       " 1410.0,\n",
       " 445.0,\n",
       " 851.0,\n",
       " 381.0,\n",
       " 441.0,\n",
       " 253.0,\n",
       " 317.0,\n",
       " 285.0,\n",
       " 729.0,\n",
       " 2292.0,\n",
       " 2656.0,\n",
       " 2479.0,\n",
       " 974.0,\n",
       " 2205.0,\n",
       " 804.0,\n",
       " 1702.0,\n",
       " 1096.0,\n",
       " 573.0,\n",
       " 431.0,\n",
       " 405.0,\n",
       " 810.0,\n",
       " 178.0,\n",
       " 639.0,\n",
       " 353.0,\n",
       " 245.0,\n",
       " 2506.0,\n",
       " 592.0,\n",
       " 1434.0,\n",
       " 293.0,\n",
       " 599.0,\n",
       " 3093.0,\n",
       " 443.0,\n",
       " 448.0,\n",
       " 421.0,\n",
       " 857.0,\n",
       " 272.0,\n",
       " 467.0,\n",
       " 289.0,\n",
       " 497.0,\n",
       " 691.0,\n",
       " 757.0,\n",
       " 755.0,\n",
       " 973.0,\n",
       " 495.0,\n",
       " 740.0,\n",
       " 496.0,\n",
       " 1796.0,\n",
       " 638.0,\n",
       " 803.0,\n",
       " 1152.0,\n",
       " 1094.0,\n",
       " 266.0,\n",
       " 693.0,\n",
       " 1325.0,\n",
       " 630.0,\n",
       " 1222.0,\n",
       " 632.0,\n",
       " 722.0,\n",
       " 606.0,\n",
       " 628.0,\n",
       " 792.0,\n",
       " 851.0,\n",
       " 32.0,\n",
       " 1018.0,\n",
       " 338.0,\n",
       " 1101.0,\n",
       " 238.0,\n",
       " 236.0,\n",
       " 1413.0,\n",
       " 466.0,\n",
       " 313.0,\n",
       " 583.0,\n",
       " 1344.0,\n",
       " 2833.0,\n",
       " 294.0,\n",
       " 449.0,\n",
       " 125.0,\n",
       " 312.0,\n",
       " 640.0,\n",
       " 498.0,\n",
       " 83.0,\n",
       " 472.0,\n",
       " 1309.0,\n",
       " 1062.0,\n",
       " 1279.0,\n",
       " 341.0,\n",
       " 1423.0,\n",
       " 713.0,\n",
       " 1029.0,\n",
       " 662.0,\n",
       " 447.0,\n",
       " 662.0,\n",
       " 369.0,\n",
       " 147.0,\n",
       " 537.0,\n",
       " 143.0,\n",
       " 158.0,\n",
       " 444.0,\n",
       " 577.0,\n",
       " 1165.0,\n",
       " 1036.0,\n",
       " 658.0,\n",
       " 69.0,\n",
       " 2007.0,\n",
       " 1704.0,\n",
       " 2401.0,\n",
       " 3474.0,\n",
       " 410.0,\n",
       " 866.0,\n",
       " 949.0,\n",
       " 1326.0,\n",
       " 758.0,\n",
       " 1521.0,\n",
       " 538.0,\n",
       " 393.0,\n",
       " 703.0,\n",
       " 163.0,\n",
       " 334.0,\n",
       " 611.0,\n",
       " 547.0,\n",
       " 339.0,\n",
       " 130.0,\n",
       " 301.0,\n",
       " 216.0,\n",
       " 164.0,\n",
       " 582.0,\n",
       " 622.0,\n",
       " 699.0,\n",
       " 512.0,\n",
       " 1292.0,\n",
       " 1529.0,\n",
       " 313.0,\n",
       " 1979.0,\n",
       " 319.0,\n",
       " 325.0,\n",
       " 317.0,\n",
       " 401.0,\n",
       " 373.0,\n",
       " 280.0,\n",
       " 599.0,\n",
       " 943.0,\n",
       " 441.0,\n",
       " 468.0,\n",
       " 307.0,\n",
       " 490.0,\n",
       " 555.0,\n",
       " 519.0,\n",
       " 498.0,\n",
       " 891.0,\n",
       " 886.0,\n",
       " 567.0,\n",
       " 430.0,\n",
       " 414.0,\n",
       " 395.0,\n",
       " 3280.0,\n",
       " 645.0,\n",
       " 618.0,\n",
       " 545.0,\n",
       " 479.0,\n",
       " 210.0,\n",
       " 663.0,\n",
       " 815.0,\n",
       " 597.0,\n",
       " 192.0,\n",
       " 723.0,\n",
       " 608.0,\n",
       " 824.0,\n",
       " 340.0,\n",
       " 706.0,\n",
       " 722.0,\n",
       " 530.0,\n",
       " 734.0,\n",
       " 692.0,\n",
       " 490.0,\n",
       " 398.0,\n",
       " 348.0,\n",
       " 1368.0,\n",
       " 976.0,\n",
       " 239.0,\n",
       " 351.0,\n",
       " 661.0,\n",
       " 648.0,\n",
       " 367.0,\n",
       " 1335.0,\n",
       " 203.0,\n",
       " 750.0,\n",
       " 1579.0,\n",
       " 352.0,\n",
       " 334.0,\n",
       " 673.0,\n",
       " 317.0,\n",
       " 301.0,\n",
       " 599.0,\n",
       " 243.0,\n",
       " 370.0,\n",
       " 384.0,\n",
       " 708.0,\n",
       " 507.0,\n",
       " 488.0,\n",
       " 326.0,\n",
       " 537.0,\n",
       " 772.0,\n",
       " 963.0,\n",
       " 865.0,\n",
       " 369.0,\n",
       " 592.0,\n",
       " 516.0,\n",
       " 675.0,\n",
       " 184.0,\n",
       " 103.0,\n",
       " 41.0,\n",
       " 335.0,\n",
       " 583.0,\n",
       " 407.0,\n",
       " 577.0,\n",
       " 664.0,\n",
       " 11.0,\n",
       " 209.0,\n",
       " 886.0,\n",
       " 446.0,\n",
       " 698.0,\n",
       " 289.0,\n",
       " 775.0,\n",
       " 383.0,\n",
       " 513.0,\n",
       " 1618.0,\n",
       " 428.0,\n",
       " 1492.0,\n",
       " 1655.0,\n",
       " 150.0,\n",
       " 454.0,\n",
       " 606.0,\n",
       " 391.0,\n",
       " 333.0,\n",
       " 176.0,\n",
       " 455.0,\n",
       " 444.0,\n",
       " 627.0,\n",
       " 572.0,\n",
       " 397.0,\n",
       " 532.0,\n",
       " 163.0,\n",
       " 818.0,\n",
       " 142.0,\n",
       " 476.0,\n",
       " 313.0,\n",
       " 148.0,\n",
       " 366.0,\n",
       " 735.0,\n",
       " 795.0,\n",
       " 1213.0,\n",
       " 781.0,\n",
       " 852.0,\n",
       " 2888.0,\n",
       " 581.0,\n",
       " 435.0,\n",
       " 107.0,\n",
       " 1418.0,\n",
       " 196.0,\n",
       " 1256.0,\n",
       " 826.0,\n",
       " 348.0,\n",
       " 406.0,\n",
       " 345.0,\n",
       " 440.0,\n",
       " 350.0,\n",
       " 447.0,\n",
       " 1881.0,\n",
       " 665.0,\n",
       " 557.0,\n",
       " 418.0,\n",
       " 785.0,\n",
       " 770.0,\n",
       " 955.0,\n",
       " 991.0,\n",
       " 860.0,\n",
       " 425.0,\n",
       " 357.0,\n",
       " 683.0,\n",
       " 630.0,\n",
       " 1401.0,\n",
       " 542.0,\n",
       " 422.0,\n",
       " 356.0,\n",
       " 282.0,\n",
       " 1461.0,\n",
       " 846.0,\n",
       " 357.0,\n",
       " 406.0,\n",
       " 648.0,\n",
       " 297.0,\n",
       " 260.0,\n",
       " 766.0,\n",
       " 698.0,\n",
       " 646.0,\n",
       " 1205.0,\n",
       " 530.0,\n",
       " 312.0,\n",
       " 569.0,\n",
       " 1166.0,\n",
       " 390.0,\n",
       " 2035.0,\n",
       " 372.0,\n",
       " 642.0,\n",
       " 1293.0,\n",
       " 254.0,\n",
       " 121.0,\n",
       " 588.0,\n",
       " 425.0,\n",
       " 1436.0,\n",
       " 661.0,\n",
       " 1091.0,\n",
       " 555.0,\n",
       " 731.0,\n",
       " 292.0,\n",
       " 250.0,\n",
       " 401.0,\n",
       " 308.0,\n",
       " 378.0,\n",
       " 178.0,\n",
       " 683.0,\n",
       " 662.0,\n",
       " 359.0,\n",
       " 344.0,\n",
       " 408.0,\n",
       " 388.0,\n",
       " 612.0,\n",
       " 455.0,\n",
       " 588.0,\n",
       " 617.0,\n",
       " 369.0,\n",
       " 158.0,\n",
       " 210.0,\n",
       " 555.0,\n",
       " 580.0,\n",
       " 275.0,\n",
       " 359.0,\n",
       " 785.0,\n",
       " 343.0,\n",
       " 861.0,\n",
       " 686.0,\n",
       " 286.0,\n",
       " 1205.0,\n",
       " 345.0,\n",
       " 929.0,\n",
       " 370.0,\n",
       " 399.0,\n",
       " 563.0,\n",
       " 320.0,\n",
       " 233.0,\n",
       " 916.0,\n",
       " 582.0,\n",
       " 446.0,\n",
       " 809.0,\n",
       " 326.0,\n",
       " 565.0,\n",
       " 974.0,\n",
       " 379.0,\n",
       " 2114.0,\n",
       " 1276.0,\n",
       " 255.0,\n",
       " 309.0,\n",
       " 190.0,\n",
       " 389.0,\n",
       " 417.0,\n",
       " 196.0,\n",
       " 877.0,\n",
       " 550.0,\n",
       " 340.0,\n",
       " 492.0,\n",
       " 332.0,\n",
       " 373.0,\n",
       " 682.0,\n",
       " 288.0,\n",
       " 587.0,\n",
       " 611.0,\n",
       " 419.0,\n",
       " 619.0,\n",
       " 514.0,\n",
       " 388.0,\n",
       " 523.0,\n",
       " 111.0,\n",
       " 269.0,\n",
       " 149.0,\n",
       " 515.0,\n",
       " 317.0,\n",
       " 796.0,\n",
       " 754.0,\n",
       " 511.0,\n",
       " 667.0,\n",
       " 234.0,\n",
       " 742.0,\n",
       " 125.0,\n",
       " 1015.0,\n",
       " 205.0,\n",
       " 238.0,\n",
       " 268.0,\n",
       " 567.0,\n",
       " 708.0,\n",
       " 679.0,\n",
       " 282.0,\n",
       " 311.0,\n",
       " 378.0,\n",
       " 282.0,\n",
       " 925.0,\n",
       " 683.0,\n",
       " 940.0,\n",
       " 1047.0,\n",
       " 960.0,\n",
       " 297.0,\n",
       " 522.0,\n",
       " 429.0,\n",
       " 165.0,\n",
       " 1632.0,\n",
       " 499.0,\n",
       " 927.0,\n",
       " 599.0,\n",
       " 473.0,\n",
       " 1237.0,\n",
       " 343.0,\n",
       " 578.0,\n",
       " 158.0,\n",
       " 1231.0,\n",
       " 665.0,\n",
       " 977.0,\n",
       " 381.0,\n",
       " 1866.0,\n",
       " 1258.0,\n",
       " 256.0,\n",
       " 349.0,\n",
       " 395.0,\n",
       " 410.0,\n",
       " 623.0,\n",
       " 240.0,\n",
       " 614.0,\n",
       " 228.0,\n",
       " 394.0,\n",
       " 378.0,\n",
       " 545.0,\n",
       " 749.0,\n",
       " 549.0,\n",
       " 501.0,\n",
       " 851.0,\n",
       " 205.0,\n",
       " 656.0,\n",
       " 286.0,\n",
       " 652.0,\n",
       " 475.0,\n",
       " 823.0,\n",
       " 456.0,\n",
       " 293.0,\n",
       " 275.0,\n",
       " 406.0,\n",
       " 267.0,\n",
       " 725.0,\n",
       " 623.0,\n",
       " 891.0,\n",
       " 269.0,\n",
       " 1025.0,\n",
       " 774.0,\n",
       " 322.0,\n",
       " 444.0,\n",
       " 379.0,\n",
       " 1173.0,\n",
       " 1331.0,\n",
       " 414.0,\n",
       " 551.0,\n",
       " 466.0,\n",
       " 634.0,\n",
       " 357.0,\n",
       " 895.0,\n",
       " 307.0,\n",
       " 11.0,\n",
       " 699.0,\n",
       " 563.0,\n",
       " 293.0,\n",
       " 571.0,\n",
       " 494.0,\n",
       " 250.0,\n",
       " 292.0,\n",
       " 2628.0,\n",
       " 268.0,\n",
       " 208.0,\n",
       " 444.0,\n",
       " 324.0,\n",
       " 585.0,\n",
       " 624.0,\n",
       " 501.0,\n",
       " 347.0,\n",
       " 284.0,\n",
       " 142.0,\n",
       " 623.0,\n",
       " 450.0,\n",
       " 931.0,\n",
       " 3336.0,\n",
       " 2490.0,\n",
       " 218.0,\n",
       " 228.0,\n",
       " 2352.0,\n",
       " 856.0,\n",
       " 552.0,\n",
       " 496.0,\n",
       " 155.0,\n",
       " 849.0,\n",
       " 254.0,\n",
       " 785.0,\n",
       " 596.0,\n",
       " 508.0,\n",
       " 328.0,\n",
       " 516.0,\n",
       " 673.0,\n",
       " 622.0,\n",
       " 643.0,\n",
       " 218.0,\n",
       " 763.0,\n",
       " 598.0,\n",
       " 418.0,\n",
       " 390.0,\n",
       " 284.0,\n",
       " 487.0,\n",
       " 615.0,\n",
       " 1078.0,\n",
       " 764.0,\n",
       " 236.0,\n",
       " 603.0,\n",
       " 712.0,\n",
       " 256.0,\n",
       " 533.0,\n",
       " 793.0,\n",
       " 559.0,\n",
       " 427.0,\n",
       " 309.0,\n",
       " 506.0,\n",
       " 1381.0,\n",
       " 525.0,\n",
       " 490.0,\n",
       " 662.0,\n",
       " 52.0,\n",
       " 477.0,\n",
       " 1512.0,\n",
       " 327.0,\n",
       " 1271.0,\n",
       " 426.0,\n",
       " 865.0,\n",
       " 1442.0,\n",
       " 184.0,\n",
       " 321.0,\n",
       " 539.0,\n",
       " 588.0,\n",
       " 327.0,\n",
       " 273.0,\n",
       " 316.0,\n",
       " 266.0,\n",
       " 290.0,\n",
       " 636.0,\n",
       " 1185.0,\n",
       " 367.0,\n",
       " 152.0,\n",
       " 345.0,\n",
       " 266.0,\n",
       " 534.0,\n",
       " 393.0,\n",
       " 374.0,\n",
       " 596.0,\n",
       " 214.0,\n",
       " 711.0,\n",
       " 624.0,\n",
       " 387.0,\n",
       " 577.0,\n",
       " 546.0,\n",
       " 391.0,\n",
       " 376.0,\n",
       " 503.0,\n",
       " 779.0,\n",
       " 686.0,\n",
       " 246.0,\n",
       " 240.0,\n",
       " 523.0,\n",
       " 945.0,\n",
       " 582.0,\n",
       " 205.0,\n",
       " 430.0,\n",
       " 653.0,\n",
       " 449.0,\n",
       " 737.0,\n",
       " 332.0,\n",
       " 549.0,\n",
       " 147.0,\n",
       " 206.0,\n",
       " 985.0,\n",
       " 323.0,\n",
       " 536.0,\n",
       " 862.0,\n",
       " 973.0,\n",
       " 651.0,\n",
       " 161.0,\n",
       " 770.0,\n",
       " 428.0,\n",
       " 364.0,\n",
       " 309.0,\n",
       " 430.0,\n",
       " 567.0,\n",
       " 323.0,\n",
       " 83.0,\n",
       " 368.0,\n",
       " 1217.0,\n",
       " 1044.0,\n",
       " 931.0,\n",
       " 826.0,\n",
       " 289.0,\n",
       " ...]"
      ]
     },
     "execution_count": 59,
     "metadata": {},
     "output_type": "execute_result"
    }
   ],
   "source": [
    "df_spark.select(F.collect_list('total_bedrooms')).first()[0]"
   ]
  },
  {
   "cell_type": "code",
   "execution_count": 60,
   "metadata": {
    "id": "anWHFRpSchO2"
   },
   "outputs": [
    {
     "data": {
      "text/html": [
       "<div>\n",
       "<style scoped>\n",
       "    .dataframe tbody tr th:only-of-type {\n",
       "        vertical-align: middle;\n",
       "    }\n",
       "\n",
       "    .dataframe tbody tr th {\n",
       "        vertical-align: top;\n",
       "    }\n",
       "\n",
       "    .dataframe thead th {\n",
       "        text-align: right;\n",
       "    }\n",
       "</style>\n",
       "<table border=\"1\" class=\"dataframe\">\n",
       "  <thead>\n",
       "    <tr style=\"text-align: right;\">\n",
       "      <th></th>\n",
       "      <th>total_bedrooms</th>\n",
       "    </tr>\n",
       "  </thead>\n",
       "  <tbody>\n",
       "    <tr>\n",
       "      <th>0</th>\n",
       "      <td>1283.0</td>\n",
       "    </tr>\n",
       "    <tr>\n",
       "      <th>1</th>\n",
       "      <td>1901.0</td>\n",
       "    </tr>\n",
       "    <tr>\n",
       "      <th>2</th>\n",
       "      <td>174.0</td>\n",
       "    </tr>\n",
       "    <tr>\n",
       "      <th>3</th>\n",
       "      <td>337.0</td>\n",
       "    </tr>\n",
       "    <tr>\n",
       "      <th>4</th>\n",
       "      <td>326.0</td>\n",
       "    </tr>\n",
       "    <tr>\n",
       "      <th>...</th>\n",
       "      <td>...</td>\n",
       "    </tr>\n",
       "    <tr>\n",
       "      <th>16995</th>\n",
       "      <td>394.0</td>\n",
       "    </tr>\n",
       "    <tr>\n",
       "      <th>16996</th>\n",
       "      <td>528.0</td>\n",
       "    </tr>\n",
       "    <tr>\n",
       "      <th>16997</th>\n",
       "      <td>531.0</td>\n",
       "    </tr>\n",
       "    <tr>\n",
       "      <th>16998</th>\n",
       "      <td>552.0</td>\n",
       "    </tr>\n",
       "    <tr>\n",
       "      <th>16999</th>\n",
       "      <td>300.0</td>\n",
       "    </tr>\n",
       "  </tbody>\n",
       "</table>\n",
       "<p>17000 rows × 1 columns</p>\n",
       "</div>"
      ],
      "text/plain": [
       "       total_bedrooms\n",
       "0              1283.0\n",
       "1              1901.0\n",
       "2               174.0\n",
       "3               337.0\n",
       "4               326.0\n",
       "...               ...\n",
       "16995           394.0\n",
       "16996           528.0\n",
       "16997           531.0\n",
       "16998           552.0\n",
       "16999           300.0\n",
       "\n",
       "[17000 rows x 1 columns]"
      ]
     },
     "execution_count": 60,
     "metadata": {},
     "output_type": "execute_result"
    }
   ],
   "source": [
    "df_spark.toPandas()[['total_bedrooms']]"
   ]
  },
  {
   "cell_type": "markdown",
   "metadata": {
    "id": "vg3CKtPLlfIz"
   },
   "source": [
    "# Sorting\n",
    "\n",
    "En general, podemos ordenadar:\n",
    "\n",
    "1. Llamando a la columna con método .asc() o .desc(), por ejemplo:\n",
    "\n",
    "`df.sort(columna.asc())`\n",
    "\n",
    "2. Llamando a la función de ordenación ascendente o descendente  sobre el nombre de la columna:\n",
    "\n",
    "`df.sort (F.asc('columna'))`\n",
    "\n",
    "## Sort"
   ]
  },
  {
   "cell_type": "code",
   "execution_count": 61,
   "metadata": {
    "id": "iYcnEd9Zlwqu"
   },
   "outputs": [],
   "source": [
    "ordenado = filtrado.sort(filtrado.median_income.asc())"
   ]
  },
  {
   "cell_type": "code",
   "execution_count": 62,
   "metadata": {
    "colab": {
     "base_uri": "https://localhost:8080/"
    },
    "executionInfo": {
     "elapsed": 481,
     "status": "ok",
     "timestamp": 1645550619864,
     "user": {
      "displayName": "Raul A. del Aguila",
      "photoUrl": "https://lh3.googleusercontent.com/a-/AOh14GhfFNUGPyK9gz8r-RWHTZpe0mOgynVvayaNWIW_6A=s64",
      "userId": "00351547175787129250"
     },
     "user_tz": -60
    },
    "id": "nd_CYL47l3bK",
    "outputId": "0ee18e5c-ebad-4e17-f491-8f6049b955d0"
   },
   "outputs": [
    {
     "name": "stdout",
     "output_type": "stream",
     "text": [
      "+---------+--------+------------------+-----------+--------------+----------+----------+-------------+------------------+\n",
      "|longitude|latitude|housing_median_age|total_rooms|total_bedrooms|population|households|median_income|median_house_value|\n",
      "+---------+--------+------------------+-----------+--------------+----------+----------+-------------+------------------+\n",
      "|  -118.25|   34.05|              52.0|     2806.0|        1944.0|    2232.0|    1605.0|       0.6775|          350000.0|\n",
      "|  -118.23|   33.95|              37.0|     2667.0|         671.0|    2865.0|     683.0|       0.6831|           87500.0|\n",
      "|  -119.73|   36.72|              26.0|     2645.0|        1005.0|    1660.0|     991.0|       0.6991|           89500.0|\n",
      "|  -118.18|   33.85|              30.0|     2548.0|         717.0|    2086.0|     700.0|       0.7007|          134400.0|\n",
      "|  -120.67|    35.3|              19.0|     1540.0|         715.0|    1799.0|     635.0|       0.7025|          500001.0|\n",
      "|  -117.29|   34.11|              35.0|     2014.0|         677.0|    1714.0|     612.0|       0.7075|           78800.0|\n",
      "|  -118.29|   34.03|              22.0|     3313.0|        1235.0|    2381.0|    1063.0|       0.7473|          168800.0|\n",
      "|  -122.19|   37.76|              38.0|     1493.0|         370.0|    1144.0|     351.0|       0.7683|           81800.0|\n",
      "|  -119.28|   36.33|              10.0|     1051.0|         297.0|     927.0|     274.0|         0.78|           55500.0|\n",
      "|   -119.8|   36.74|              25.0|     1717.0|         542.0|    1343.0|     471.0|        0.799|           51800.0|\n",
      "|  -122.29|   37.81|              23.0|     1745.0|         374.0|    1054.0|     325.0|       0.8026|          112500.0|\n",
      "|   -122.3|   37.81|              48.0|     1455.0|         354.0|     788.0|     332.0|       0.8056|           84400.0|\n",
      "|  -118.25|   34.05|               8.0|     3105.0|        1256.0|    1086.0|     997.0|       0.8131|          275000.0|\n",
      "|  -122.28|   37.82|              52.0|     1489.0|         335.0|     728.0|     244.0|       0.8172|           85300.0|\n",
      "|  -118.24|   34.05|              13.0|     1703.0|         697.0|    1823.0|     669.0|       0.8288|          181300.0|\n",
      "|  -118.31|   34.03|              29.0|     2438.0|         867.0|    2114.0|     753.0|       0.8351|          150000.0|\n",
      "|  -118.14|   34.15|              17.0|     1896.0|         674.0|     971.0|     652.0|       0.8438|          175000.0|\n",
      "|  -122.42|   37.78|              27.0|     1728.0|         884.0|    1211.0|     752.0|       0.8543|          500001.0|\n",
      "|  -114.63|   32.76|              15.0|     1448.0|         378.0|     949.0|     300.0|       0.8585|           45000.0|\n",
      "|  -118.98|   35.38|              28.0|     1171.0|         299.0|    1193.0|     273.0|       0.8639|           49400.0|\n",
      "+---------+--------+------------------+-----------+--------------+----------+----------+-------------+------------------+\n",
      "only showing top 20 rows\n",
      "\n"
     ]
    }
   ],
   "source": [
    "ordenado.show()"
   ]
  },
  {
   "cell_type": "markdown",
   "metadata": {
    "id": "A7uaTW2qy3YC"
   },
   "source": [
    "## Order by\n",
    "\n",
    "Lo vamos a complicar un poco: vamos a renombrar median_income y haremos el order by por esa columna renombrada"
   ]
  },
  {
   "cell_type": "code",
   "execution_count": 63,
   "metadata": {
    "colab": {
     "base_uri": "https://localhost:8080/"
    },
    "executionInfo": {
     "elapsed": 647,
     "status": "ok",
     "timestamp": 1645550859504,
     "user": {
      "displayName": "Raul A. del Aguila",
      "photoUrl": "https://lh3.googleusercontent.com/a-/AOh14GhfFNUGPyK9gz8r-RWHTZpe0mOgynVvayaNWIW_6A=s64",
      "userId": "00351547175787129250"
     },
     "user_tz": -60
    },
    "id": "3DMalgi3yzX4",
    "outputId": "8da66be7-852c-49b1-a851-f927ba9e3db0"
   },
   "outputs": [
    {
     "name": "stdout",
     "output_type": "stream",
     "text": [
      "+---------+--------+------+\n",
      "|longitude|latitude|cosito|\n",
      "+---------+--------+------+\n",
      "|  -118.25|   34.05|0.6775|\n",
      "|  -118.23|   33.95|0.6831|\n",
      "|  -119.73|   36.72|0.6991|\n",
      "|  -118.18|   33.85|0.7007|\n",
      "|  -120.67|    35.3|0.7025|\n",
      "|  -117.29|   34.11|0.7075|\n",
      "|  -118.29|   34.03|0.7473|\n",
      "|  -122.19|   37.76|0.7683|\n",
      "|  -119.28|   36.33|  0.78|\n",
      "|   -119.8|   36.74| 0.799|\n",
      "|  -122.29|   37.81|0.8026|\n",
      "|   -122.3|   37.81|0.8056|\n",
      "|  -118.25|   34.05|0.8131|\n",
      "|  -122.28|   37.82|0.8172|\n",
      "|  -118.24|   34.05|0.8288|\n",
      "|  -118.31|   34.03|0.8351|\n",
      "|  -118.14|   34.15|0.8438|\n",
      "|  -122.42|   37.78|0.8543|\n",
      "|  -114.63|   32.76|0.8585|\n",
      "|  -118.98|   35.38|0.8639|\n",
      "+---------+--------+------+\n",
      "only showing top 20 rows\n",
      "\n"
     ]
    }
   ],
   "source": [
    "filtrado.select('longitude','latitude',F.col('median_income').alias('cosito')).orderBy(F.col('cosito').asc()).show()"
   ]
  },
  {
   "cell_type": "code",
   "execution_count": 64,
   "metadata": {
    "colab": {
     "base_uri": "https://localhost:8080/"
    },
    "executionInfo": {
     "elapsed": 268,
     "status": "ok",
     "timestamp": 1645550860641,
     "user": {
      "displayName": "Raul A. del Aguila",
      "photoUrl": "https://lh3.googleusercontent.com/a-/AOh14GhfFNUGPyK9gz8r-RWHTZpe0mOgynVvayaNWIW_6A=s64",
      "userId": "00351547175787129250"
     },
     "user_tz": -60
    },
    "id": "uYUMfPIniPDO",
    "outputId": "d92a285d-8841-42a0-90f9-413af603f55a"
   },
   "outputs": [
    {
     "name": "stdout",
     "output_type": "stream",
     "text": [
      "+---------+--------+------+\n",
      "|longitude|latitude|cosito|\n",
      "+---------+--------+------+\n",
      "|  -118.25|   34.05|0.6775|\n",
      "|  -118.23|   33.95|0.6831|\n",
      "|  -119.73|   36.72|0.6991|\n",
      "|  -118.18|   33.85|0.7007|\n",
      "|  -120.67|    35.3|0.7025|\n",
      "|  -117.29|   34.11|0.7075|\n",
      "|  -118.29|   34.03|0.7473|\n",
      "|  -122.19|   37.76|0.7683|\n",
      "|  -119.28|   36.33|  0.78|\n",
      "|   -119.8|   36.74| 0.799|\n",
      "|  -122.29|   37.81|0.8026|\n",
      "|   -122.3|   37.81|0.8056|\n",
      "|  -118.25|   34.05|0.8131|\n",
      "|  -122.28|   37.82|0.8172|\n",
      "|  -118.24|   34.05|0.8288|\n",
      "|  -118.31|   34.03|0.8351|\n",
      "|  -118.14|   34.15|0.8438|\n",
      "|  -122.42|   37.78|0.8543|\n",
      "|  -114.63|   32.76|0.8585|\n",
      "|  -118.98|   35.38|0.8639|\n",
      "+---------+--------+------+\n",
      "only showing top 20 rows\n",
      "\n"
     ]
    }
   ],
   "source": [
    "filtrado.select('longitude','latitude',F.col('median_income').alias('cosito')).orderBy(F.asc('cosito')).show()"
   ]
  },
  {
   "cell_type": "markdown",
   "metadata": {
    "id": "ejQFGDEjmY5P"
   },
   "source": [
    "# Operaciones sobre columnas\n",
    "\n",
    "Las operaciones sobre columnas se realizan con el método `withColumn (nombre, función))`\n",
    "\n",
    "Para instanciar las columnas, dependiendo de la función, se puede hacer directamente con el nombre de la columna o, por ejemplo, habiendo importado el módulo `pyspark.sql.functions as F`, haciendo la llamada `F.col(nombre_columna)` \n",
    "\n",
    "## Operaciones sobre una columna"
   ]
  },
  {
   "cell_type": "code",
   "execution_count": 65,
   "metadata": {
    "id": "fgALtrPJfB2U"
   },
   "outputs": [],
   "source": [
    "fp = filtrado.toPandas()\n",
    "fp['housing_median_age'] = fp ['housing_median_age'] + 1"
   ]
  },
  {
   "cell_type": "code",
   "execution_count": 66,
   "metadata": {
    "colab": {
     "base_uri": "https://localhost:8080/"
    },
    "executionInfo": {
     "elapsed": 323,
     "status": "ok",
     "timestamp": 1645551184800,
     "user": {
      "displayName": "Raul A. del Aguila",
      "photoUrl": "https://lh3.googleusercontent.com/a-/AOh14GhfFNUGPyK9gz8r-RWHTZpe0mOgynVvayaNWIW_6A=s64",
      "userId": "00351547175787129250"
     },
     "user_tz": -60
    },
    "id": "hacWHPR_fh54",
    "outputId": "98fc8671-e85c-4bcf-ae92-3b68155c4442"
   },
   "outputs": [
    {
     "name": "stdout",
     "output_type": "stream",
     "text": [
      "+------------------+\n",
      "|housing_median_age|\n",
      "+------------------+\n",
      "|              15.0|\n",
      "|              19.0|\n",
      "|              14.0|\n",
      "+------------------+\n",
      "only showing top 3 rows\n",
      "\n"
     ]
    }
   ],
   "source": [
    "filtrado.select('housing_median_age').show(3)"
   ]
  },
  {
   "cell_type": "code",
   "execution_count": 67,
   "metadata": {
    "colab": {
     "base_uri": "https://localhost:8080/"
    },
    "executionInfo": {
     "elapsed": 356,
     "status": "ok",
     "timestamp": 1645551132651,
     "user": {
      "displayName": "Raul A. del Aguila",
      "photoUrl": "https://lh3.googleusercontent.com/a-/AOh14GhfFNUGPyK9gz8r-RWHTZpe0mOgynVvayaNWIW_6A=s64",
      "userId": "00351547175787129250"
     },
     "user_tz": -60
    },
    "id": "yo8a0rbdl-QG",
    "outputId": "5498c916-e6ac-44fe-9ca5-588511a158d7"
   },
   "outputs": [
    {
     "name": "stdout",
     "output_type": "stream",
     "text": [
      "+---------+--------+------------------+-----------+--------------+----------+----------+-------------+------------------+\n",
      "|longitude|latitude|housing_median_age|total_rooms|total_bedrooms|population|households|median_income|median_house_value|\n",
      "+---------+--------+------------------+-----------+--------------+----------+----------+-------------+------------------+\n",
      "|  -114.31|   34.19|              16.0|     5612.0|        1283.0|    1015.0|     472.0|       1.4936|           66900.0|\n",
      "|  -114.47|    34.4|              20.0|     7650.0|        1901.0|    1129.0|     463.0|         1.82|           80100.0|\n",
      "|  -114.57|   33.64|              15.0|     1501.0|         337.0|     515.0|     226.0|       3.1917|           73400.0|\n",
      "|  -114.57|   33.57|              21.0|     1454.0|         326.0|     624.0|     262.0|        1.925|           65500.0|\n",
      "|  -114.58|   33.63|              30.0|     1387.0|         236.0|     671.0|     239.0|       3.3438|           74000.0|\n",
      "|  -114.58|   33.61|              26.0|     2907.0|         680.0|    1841.0|     633.0|       2.6768|           82400.0|\n",
      "|  -114.59|   33.61|              35.0|     4789.0|        1175.0|    3134.0|    1056.0|       2.1782|           58400.0|\n",
      "|   -114.6|   34.83|              47.0|     1497.0|         309.0|     787.0|     271.0|       2.1908|           48100.0|\n",
      "|   -114.6|   33.62|              17.0|     3741.0|         801.0|    2434.0|     824.0|       2.6797|           86500.0|\n",
      "|   -114.6|    33.6|              22.0|     1988.0|         483.0|    1182.0|     437.0|        1.625|           62000.0|\n",
      "|  -114.61|   34.84|              49.0|     1291.0|         248.0|     580.0|     211.0|       2.1571|           48600.0|\n",
      "|  -114.61|   34.83|              32.0|     2478.0|         464.0|    1346.0|     479.0|        3.212|           70400.0|\n",
      "|  -114.63|   32.76|              16.0|     1448.0|         378.0|     949.0|     300.0|       0.8585|           45000.0|\n",
      "|  -114.65|   34.89|              18.0|     2556.0|         587.0|    1005.0|     401.0|       1.6991|           69100.0|\n",
      "|  -114.65|    33.6|              29.0|     1678.0|         322.0|     666.0|     256.0|       2.9653|           94900.0|\n",
      "|  -114.66|   32.74|              18.0|     1388.0|         386.0|     775.0|     320.0|       1.2049|           44000.0|\n",
      "|  -114.68|   33.49|              21.0|     1491.0|         360.0|    1135.0|     303.0|       1.6395|           44400.0|\n",
      "|  -115.22|   33.54|              19.0|     1706.0|         397.0|    3424.0|     283.0|        1.625|           53500.0|\n",
      "|  -115.37|   32.82|              31.0|     1602.0|         322.0|    1130.0|     335.0|       3.5735|           71100.0|\n",
      "|  -115.37|   32.82|              15.0|     1276.0|         270.0|     867.0|     261.0|       1.9375|           80900.0|\n",
      "+---------+--------+------------------+-----------+--------------+----------+----------+-------------+------------------+\n",
      "only showing top 20 rows\n",
      "\n"
     ]
    }
   ],
   "source": [
    " filtrado.withColumn('housing_median_age',F.col('housing_median_age')+1).show()"
   ]
  },
  {
   "cell_type": "code",
   "execution_count": 68,
   "metadata": {
    "id": "YqZZ2779my4w"
   },
   "outputs": [
    {
     "name": "stdout",
     "output_type": "stream",
     "text": [
      "+---------+--------+------------------+-----------+--------------+----------+----------+-------------+------------------+\n",
      "|longitude|latitude|housing_median_age|total_rooms|total_bedrooms|population|households|median_income|median_house_value|\n",
      "+---------+--------+------------------+-----------+--------------+----------+----------+-------------+------------------+\n",
      "|  -114.31|   34.19|              14.0|     5612.0|        1283.0|    1015.0|     472.0|       1.4936|           66900.0|\n",
      "|  -114.47|    34.4|              18.0|     7650.0|        1901.0|    1129.0|     463.0|         1.82|           80100.0|\n",
      "|  -114.57|   33.64|              13.0|     1501.0|         337.0|     515.0|     226.0|       3.1917|           73400.0|\n",
      "|  -114.57|   33.57|              19.0|     1454.0|         326.0|     624.0|     262.0|        1.925|           65500.0|\n",
      "|  -114.58|   33.63|              28.0|     1387.0|         236.0|     671.0|     239.0|       3.3438|           74000.0|\n",
      "|  -114.58|   33.61|              24.0|     2907.0|         680.0|    1841.0|     633.0|       2.6768|           82400.0|\n",
      "|  -114.59|   33.61|              33.0|     4789.0|        1175.0|    3134.0|    1056.0|       2.1782|           58400.0|\n",
      "|   -114.6|   34.83|              45.0|     1497.0|         309.0|     787.0|     271.0|       2.1908|           48100.0|\n",
      "|   -114.6|   33.62|              15.0|     3741.0|         801.0|    2434.0|     824.0|       2.6797|           86500.0|\n",
      "|   -114.6|    33.6|              20.0|     1988.0|         483.0|    1182.0|     437.0|        1.625|           62000.0|\n",
      "|  -114.61|   34.84|              47.0|     1291.0|         248.0|     580.0|     211.0|       2.1571|           48600.0|\n",
      "|  -114.61|   34.83|              30.0|     2478.0|         464.0|    1346.0|     479.0|        3.212|           70400.0|\n",
      "|  -114.63|   32.76|              14.0|     1448.0|         378.0|     949.0|     300.0|       0.8585|           45000.0|\n",
      "|  -114.65|   34.89|              16.0|     2556.0|         587.0|    1005.0|     401.0|       1.6991|           69100.0|\n",
      "|  -114.65|    33.6|              27.0|     1678.0|         322.0|     666.0|     256.0|       2.9653|           94900.0|\n",
      "|  -114.66|   32.74|              16.0|     1388.0|         386.0|     775.0|     320.0|       1.2049|           44000.0|\n",
      "|  -114.68|   33.49|              19.0|     1491.0|         360.0|    1135.0|     303.0|       1.6395|           44400.0|\n",
      "|  -115.22|   33.54|              17.0|     1706.0|         397.0|    3424.0|     283.0|        1.625|           53500.0|\n",
      "|  -115.37|   32.82|              29.0|     1602.0|         322.0|    1130.0|     335.0|       3.5735|           71100.0|\n",
      "|  -115.37|   32.82|              13.0|     1276.0|         270.0|     867.0|     261.0|       1.9375|           80900.0|\n",
      "+---------+--------+------------------+-----------+--------------+----------+----------+-------------+------------------+\n",
      "only showing top 20 rows\n",
      "\n"
     ]
    }
   ],
   "source": [
    "filtrado.withColumn('housing_median_age',filtrado.housing_median_age-1).show()\n",
    "\n"
   ]
  },
  {
   "cell_type": "markdown",
   "metadata": {
    "id": "9L0kVyF0v8_Z"
   },
   "source": [
    "## Operaciones con CASE - WHEN\n",
    "\n",
    "Podemos hacer un `case when` como en `SQL`. Para ello usamos la función `F.when().otherwise()`\n",
    "\n",
    "`F.Lit` permite establecer valores literales en una columna. Ojo, cuando se pase como parámetro un valor a una función `udf` que no sea columna, es necesario utilizarlo. \n",
    "\n",
    "Más adelante tenéis un ejercicio que entregar para que defináis una `udf`\n"
   ]
  },
  {
   "cell_type": "code",
   "execution_count": 69,
   "metadata": {
    "colab": {
     "base_uri": "https://localhost:8080/"
    },
    "executionInfo": {
     "elapsed": 560,
     "status": "ok",
     "timestamp": 1645551259219,
     "user": {
      "displayName": "Raul A. del Aguila",
      "photoUrl": "https://lh3.googleusercontent.com/a-/AOh14GhfFNUGPyK9gz8r-RWHTZpe0mOgynVvayaNWIW_6A=s64",
      "userId": "00351547175787129250"
     },
     "user_tz": -60
    },
    "id": "tpA92mu4ol-8",
    "outputId": "5683212b-76b6-4557-f161-6d21bc8865d9"
   },
   "outputs": [
    {
     "name": "stdout",
     "output_type": "stream",
     "text": [
      "+---------+--------+------------------+-----------+--------------+----------+----------+-------------+------------------+-------------+\n",
      "|longitude|latitude|housing_median_age|total_rooms|total_bedrooms|population|households|median_income|median_house_value|catgoria_edad|\n",
      "+---------+--------+------------------+-----------+--------------+----------+----------+-------------+------------------+-------------+\n",
      "|  -114.31|   34.19|              15.0|     5612.0|        1283.0|    1015.0|     472.0|       1.4936|           66900.0|         GUAY|\n",
      "|  -114.47|    34.4|              19.0|     7650.0|        1901.0|    1129.0|     463.0|         1.82|           80100.0|         GUAY|\n",
      "|  -114.57|   33.64|              14.0|     1501.0|         337.0|     515.0|     226.0|       3.1917|           73400.0|         GUAY|\n",
      "|  -114.57|   33.57|              20.0|     1454.0|         326.0|     624.0|     262.0|        1.925|           65500.0|         GUAY|\n",
      "|  -114.58|   33.63|              29.0|     1387.0|         236.0|     671.0|     239.0|       3.3438|           74000.0|         GUAY|\n",
      "|  -114.58|   33.61|              25.0|     2907.0|         680.0|    1841.0|     633.0|       2.6768|           82400.0|         GUAY|\n",
      "|  -114.59|   33.61|              34.0|     4789.0|        1175.0|    3134.0|    1056.0|       2.1782|           58400.0|         GUAY|\n",
      "|   -114.6|   34.83|              46.0|     1497.0|         309.0|     787.0|     271.0|       2.1908|           48100.0|         GUAY|\n",
      "|   -114.6|   33.62|              16.0|     3741.0|         801.0|    2434.0|     824.0|       2.6797|           86500.0|         GUAY|\n",
      "|   -114.6|    33.6|              21.0|     1988.0|         483.0|    1182.0|     437.0|        1.625|           62000.0|         GUAY|\n",
      "|  -114.61|   34.84|              48.0|     1291.0|         248.0|     580.0|     211.0|       2.1571|           48600.0|         GUAY|\n",
      "|  -114.61|   34.83|              31.0|     2478.0|         464.0|    1346.0|     479.0|        3.212|           70400.0|         GUAY|\n",
      "|  -114.63|   32.76|              15.0|     1448.0|         378.0|     949.0|     300.0|       0.8585|           45000.0|         GUAY|\n",
      "|  -114.65|   34.89|              17.0|     2556.0|         587.0|    1005.0|     401.0|       1.6991|           69100.0|         GUAY|\n",
      "|  -114.65|    33.6|              28.0|     1678.0|         322.0|     666.0|     256.0|       2.9653|           94900.0|         GUAY|\n",
      "|  -114.66|   32.74|              17.0|     1388.0|         386.0|     775.0|     320.0|       1.2049|           44000.0|         GUAY|\n",
      "|  -114.68|   33.49|              20.0|     1491.0|         360.0|    1135.0|     303.0|       1.6395|           44400.0|         GUAY|\n",
      "|  -115.22|   33.54|              18.0|     1706.0|         397.0|    3424.0|     283.0|        1.625|           53500.0|         GUAY|\n",
      "|  -115.37|   32.82|              30.0|     1602.0|         322.0|    1130.0|     335.0|       3.5735|           71100.0|         GUAY|\n",
      "|  -115.37|   32.82|              14.0|     1276.0|         270.0|     867.0|     261.0|       1.9375|           80900.0|         GUAY|\n",
      "+---------+--------+------------------+-----------+--------------+----------+----------+-------------+------------------+-------------+\n",
      "only showing top 20 rows\n",
      "\n"
     ]
    }
   ],
   "source": [
    "filtrado.withColumn('catgoria_edad',F.when(\n",
    "    (filtrado.median_income.isNotNull() & filtrado.housing_median_age.isNotNull()), 'GUAY'\n",
    ").otherwise(F.lit('N/A'))).show() \n",
    "                    \n",
    "                   "
   ]
  },
  {
   "cell_type": "code",
   "execution_count": 114,
   "metadata": {
    "colab": {
     "base_uri": "https://localhost:8080/"
    },
    "executionInfo": {
     "elapsed": 222,
     "status": "ok",
     "timestamp": 1645552971663,
     "user": {
      "displayName": "Raul A. del Aguila",
      "photoUrl": "https://lh3.googleusercontent.com/a-/AOh14GhfFNUGPyK9gz8r-RWHTZpe0mOgynVvayaNWIW_6A=s64",
      "userId": "00351547175787129250"
     },
     "user_tz": -60
    },
    "id": "qnmBs180tp-S",
    "outputId": "755086e5-985e-423a-858f-3d27173ee6d9"
   },
   "outputs": [
    {
     "name": "stdout",
     "output_type": "stream",
     "text": [
      "+---------+--------+------------------+-----------+--------------+----------+----------+-------------+------------------+------------+------------+----------------+\n",
      "|longitude|latitude|housing_median_age|total_rooms|total_bedrooms|population|households|median_income|median_house_value|fecha_actual|fecha_cierre|catgoria_cliente|\n",
      "+---------+--------+------------------+-----------+--------------+----------+----------+-------------+------------------+------------+------------+----------------+\n",
      "|  -114.31|   34.19|              15.0|     5612.0|        1283.0|    1015.0|     472.0|       1.4936|           66900.0|  2023-09-25|  2023-12-25|     CUASITARGET|\n",
      "|  -114.47|    34.4|              19.0|     7650.0|        1901.0|    1129.0|     463.0|         1.82|           80100.0|  2023-09-25|  2023-12-25|     CUASITARGET|\n",
      "|  -114.57|   33.64|              14.0|     1501.0|         337.0|     515.0|     226.0|       3.1917|           73400.0|  2023-09-25|  2023-12-25|          TARGET|\n",
      "|  -114.57|   33.57|              20.0|     1454.0|         326.0|     624.0|     262.0|        1.925|           65500.0|  2023-09-25|  2023-12-25|     CUASITARGET|\n",
      "|  -114.58|   33.63|              29.0|     1387.0|         236.0|     671.0|     239.0|       3.3438|           74000.0|  2023-09-25|  2023-12-25|          TARGET|\n",
      "|  -114.58|   33.61|              25.0|     2907.0|         680.0|    1841.0|     633.0|       2.6768|           82400.0|  2023-09-25|  2023-12-25|     CUASITARGET|\n",
      "|  -114.59|   33.61|              34.0|     4789.0|        1175.0|    3134.0|    1056.0|       2.1782|           58400.0|  2023-09-25|  2023-12-25|     CUASITARGET|\n",
      "|   -114.6|   34.83|              46.0|     1497.0|         309.0|     787.0|     271.0|       2.1908|           48100.0|  2023-09-25|  2023-12-25|     CUASITARGET|\n",
      "|   -114.6|   33.62|              16.0|     3741.0|         801.0|    2434.0|     824.0|       2.6797|           86500.0|  2023-09-25|  2023-12-25|     CUASITARGET|\n",
      "|   -114.6|    33.6|              21.0|     1988.0|         483.0|    1182.0|     437.0|        1.625|           62000.0|  2023-09-25|  2023-12-25|     CUASITARGET|\n",
      "|  -114.61|   34.84|              48.0|     1291.0|         248.0|     580.0|     211.0|       2.1571|           48600.0|  2023-09-25|  2023-12-25|     CUASITARGET|\n",
      "|  -114.61|   34.83|              31.0|     2478.0|         464.0|    1346.0|     479.0|        3.212|           70400.0|  2023-09-25|  2023-12-25|          TARGET|\n",
      "|  -114.63|   32.76|              15.0|     1448.0|         378.0|     949.0|     300.0|       0.8585|           45000.0|  2023-09-25|  2023-12-25|          IGNORE|\n",
      "|  -114.65|   34.89|              17.0|     2556.0|         587.0|    1005.0|     401.0|       1.6991|           69100.0|  2023-09-25|  2023-12-25|     CUASITARGET|\n",
      "|  -114.65|    33.6|              28.0|     1678.0|         322.0|     666.0|     256.0|       2.9653|           94900.0|  2023-09-25|  2023-12-25|     CUASITARGET|\n",
      "|  -114.66|   32.74|              17.0|     1388.0|         386.0|     775.0|     320.0|       1.2049|           44000.0|  2023-09-25|  2023-12-25|     CUASITARGET|\n",
      "|  -114.68|   33.49|              20.0|     1491.0|         360.0|    1135.0|     303.0|       1.6395|           44400.0|  2023-09-25|  2023-12-25|     CUASITARGET|\n",
      "|  -115.22|   33.54|              18.0|     1706.0|         397.0|    3424.0|     283.0|        1.625|           53500.0|  2023-09-25|  2023-12-25|     CUASITARGET|\n",
      "|  -115.37|   32.82|              30.0|     1602.0|         322.0|    1130.0|     335.0|       3.5735|           71100.0|  2023-09-25|  2023-12-25|          TARGET|\n",
      "|  -115.37|   32.82|              14.0|     1276.0|         270.0|     867.0|     261.0|       1.9375|           80900.0|  2023-09-25|  2023-12-25|     CUASITARGET|\n",
      "+---------+--------+------------------+-----------+--------------+----------+----------+-------------+------------------+------------+------------+----------------+\n",
      "only showing top 20 rows\n",
      "\n"
     ]
    }
   ],
   "source": [
    "añadido = filtrado.withColumn('catgoria_cliente',F.when(\n",
    "    (filtrado.median_income>3), 'TARGET'\n",
    ").when((filtrado.median_income>1) & (filtrado.median_income<3),'CUASITARGET').otherwise(F.lit('IGNORE')))\n",
    "\n",
    "añadido.show()\n",
    "\n",
    "      "
   ]
  },
  {
   "cell_type": "markdown",
   "metadata": {
    "id": "LqxhTwBQg5pr"
   },
   "source": [
    "SELECT CASE WHEN MEDIAN_INCOME>3 THEN 'TARGET' \n",
    "            WHEN (MEDIAN_INCOME > 1 AND MEDIAN_INCOME<3) THEN 'CUASI' ELSE 'IGNORE' END AS 'COLUMNA'\n",
    "            "
   ]
  },
  {
   "cell_type": "markdown",
   "metadata": {
    "id": "apMhv6rjtlKn"
   },
   "source": [
    "### Renombrado de columnas\n",
    "\n",
    "En el apartado de `sorting`,  ya hemos visto un par de ejemplos.\n",
    "\n",
    "Vamos a refrescarlo!\n",
    "\n",
    "1. `withColumnRenamed`\n"
   ]
  },
  {
   "cell_type": "code",
   "execution_count": 115,
   "metadata": {
    "colab": {
     "base_uri": "https://localhost:8080/"
    },
    "executionInfo": {
     "elapsed": 261,
     "status": "ok",
     "timestamp": 1645553007520,
     "user": {
      "displayName": "Raul A. del Aguila",
      "photoUrl": "https://lh3.googleusercontent.com/a-/AOh14GhfFNUGPyK9gz8r-RWHTZpe0mOgynVvayaNWIW_6A=s64",
      "userId": "00351547175787129250"
     },
     "user_tz": -60
    },
    "id": "yExYXDceviOe",
    "outputId": "4ed64634-fbc3-47f4-820e-3452b23d8da2"
   },
   "outputs": [
    {
     "name": "stdout",
     "output_type": "stream",
     "text": [
      "+---------+--------+------------------+-----------+--------------+----------+----------+-------------+------------------+------------+------------+------------------+\n",
      "|longitude|latitude|housing_median_age|total_rooms|total_bedrooms|population|households|median_income|median_house_value|fecha_actual|fecha_cierre|categoria_xelenial|\n",
      "+---------+--------+------------------+-----------+--------------+----------+----------+-------------+------------------+------------+------------+------------------+\n",
      "|  -114.31|   34.19|              15.0|     5612.0|        1283.0|    1015.0|     472.0|       1.4936|           66900.0|  2023-09-25|  2023-12-25|       CUASITARGET|\n",
      "|  -114.47|    34.4|              19.0|     7650.0|        1901.0|    1129.0|     463.0|         1.82|           80100.0|  2023-09-25|  2023-12-25|       CUASITARGET|\n",
      "|  -114.57|   33.64|              14.0|     1501.0|         337.0|     515.0|     226.0|       3.1917|           73400.0|  2023-09-25|  2023-12-25|            TARGET|\n",
      "|  -114.57|   33.57|              20.0|     1454.0|         326.0|     624.0|     262.0|        1.925|           65500.0|  2023-09-25|  2023-12-25|       CUASITARGET|\n",
      "|  -114.58|   33.63|              29.0|     1387.0|         236.0|     671.0|     239.0|       3.3438|           74000.0|  2023-09-25|  2023-12-25|            TARGET|\n",
      "|  -114.58|   33.61|              25.0|     2907.0|         680.0|    1841.0|     633.0|       2.6768|           82400.0|  2023-09-25|  2023-12-25|       CUASITARGET|\n",
      "|  -114.59|   33.61|              34.0|     4789.0|        1175.0|    3134.0|    1056.0|       2.1782|           58400.0|  2023-09-25|  2023-12-25|       CUASITARGET|\n",
      "|   -114.6|   34.83|              46.0|     1497.0|         309.0|     787.0|     271.0|       2.1908|           48100.0|  2023-09-25|  2023-12-25|       CUASITARGET|\n",
      "|   -114.6|   33.62|              16.0|     3741.0|         801.0|    2434.0|     824.0|       2.6797|           86500.0|  2023-09-25|  2023-12-25|       CUASITARGET|\n",
      "|   -114.6|    33.6|              21.0|     1988.0|         483.0|    1182.0|     437.0|        1.625|           62000.0|  2023-09-25|  2023-12-25|       CUASITARGET|\n",
      "|  -114.61|   34.84|              48.0|     1291.0|         248.0|     580.0|     211.0|       2.1571|           48600.0|  2023-09-25|  2023-12-25|       CUASITARGET|\n",
      "|  -114.61|   34.83|              31.0|     2478.0|         464.0|    1346.0|     479.0|        3.212|           70400.0|  2023-09-25|  2023-12-25|            TARGET|\n",
      "|  -114.63|   32.76|              15.0|     1448.0|         378.0|     949.0|     300.0|       0.8585|           45000.0|  2023-09-25|  2023-12-25|            IGNORE|\n",
      "|  -114.65|   34.89|              17.0|     2556.0|         587.0|    1005.0|     401.0|       1.6991|           69100.0|  2023-09-25|  2023-12-25|       CUASITARGET|\n",
      "|  -114.65|    33.6|              28.0|     1678.0|         322.0|     666.0|     256.0|       2.9653|           94900.0|  2023-09-25|  2023-12-25|       CUASITARGET|\n",
      "|  -114.66|   32.74|              17.0|     1388.0|         386.0|     775.0|     320.0|       1.2049|           44000.0|  2023-09-25|  2023-12-25|       CUASITARGET|\n",
      "|  -114.68|   33.49|              20.0|     1491.0|         360.0|    1135.0|     303.0|       1.6395|           44400.0|  2023-09-25|  2023-12-25|       CUASITARGET|\n",
      "|  -115.22|   33.54|              18.0|     1706.0|         397.0|    3424.0|     283.0|        1.625|           53500.0|  2023-09-25|  2023-12-25|       CUASITARGET|\n",
      "|  -115.37|   32.82|              30.0|     1602.0|         322.0|    1130.0|     335.0|       3.5735|           71100.0|  2023-09-25|  2023-12-25|            TARGET|\n",
      "|  -115.37|   32.82|              14.0|     1276.0|         270.0|     867.0|     261.0|       1.9375|           80900.0|  2023-09-25|  2023-12-25|       CUASITARGET|\n",
      "+---------+--------+------------------+-----------+--------------+----------+----------+-------------+------------------+------------+------------+------------------+\n",
      "only showing top 20 rows\n",
      "\n"
     ]
    }
   ],
   "source": [
    "añadido = añadido.withColumnRenamed('catgoria_cliente','categoria_xelenial')\n",
    "añadido.show()"
   ]
  },
  {
   "cell_type": "markdown",
   "metadata": {
    "id": "wqs3-kKnAItT"
   },
   "source": [
    "2. Utilizando `alias` sobre una columna determinada, por ejemplo:"
   ]
  },
  {
   "cell_type": "code",
   "execution_count": null,
   "metadata": {
    "id": "nxpmZ3Suhy4g"
   },
   "outputs": [],
   "source": []
  },
  {
   "cell_type": "code",
   "execution_count": 72,
   "metadata": {
    "id": "gneDCtGdAGoP"
   },
   "outputs": [
    {
     "name": "stdout",
     "output_type": "stream",
     "text": [
      "+---------+\n",
      "|edad casa|\n",
      "+---------+\n",
      "|     15.0|\n",
      "+---------+\n",
      "\n"
     ]
    }
   ],
   "source": [
    "df_spark.select(F.col('housing_median_age').alias('edad casa')).limit(1).show()"
   ]
  },
  {
   "cell_type": "markdown",
   "metadata": {
    "id": "UMpdg0zBtd3w"
   },
   "source": [
    "## Operaciones sobre una columna, utilizando más de una columna"
   ]
  },
  {
   "cell_type": "code",
   "execution_count": 105,
   "metadata": {
    "colab": {
     "base_uri": "https://localhost:8080/"
    },
    "executionInfo": {
     "elapsed": 347,
     "status": "ok",
     "timestamp": 1645551842105,
     "user": {
      "displayName": "Raul A. del Aguila",
      "photoUrl": "https://lh3.googleusercontent.com/a-/AOh14GhfFNUGPyK9gz8r-RWHTZpe0mOgynVvayaNWIW_6A=s64",
      "userId": "00351547175787129250"
     },
     "user_tz": -60
    },
    "id": "1bd8EQQ9tcGh",
    "outputId": "40aaf6de-37f6-4a3e-c778-79f016b32522"
   },
   "outputs": [
    {
     "name": "stdout",
     "output_type": "stream",
     "text": [
      "+---------+--------+------------------+-----------+--------------+----------+----------+-------------+------------------+-------------------+\n",
      "|longitude|latitude|housing_median_age|total_rooms|total_bedrooms|population|households|median_income|median_house_value|  household_per_pop|\n",
      "+---------+--------+------------------+-----------+--------------+----------+----------+-------------+------------------+-------------------+\n",
      "|  -114.31|   34.19|              15.0|     5612.0|        1283.0|    1015.0|     472.0|       1.4936|           66900.0|0.46502463054187193|\n",
      "|  -114.47|    34.4|              19.0|     7650.0|        1901.0|    1129.0|     463.0|         1.82|           80100.0|0.41009743135518156|\n",
      "|  -114.57|   33.64|              14.0|     1501.0|         337.0|     515.0|     226.0|       3.1917|           73400.0| 0.4388349514563107|\n",
      "|  -114.57|   33.57|              20.0|     1454.0|         326.0|     624.0|     262.0|        1.925|           65500.0| 0.4198717948717949|\n",
      "|  -114.58|   33.63|              29.0|     1387.0|         236.0|     671.0|     239.0|       3.3438|           74000.0| 0.3561847988077496|\n",
      "|  -114.58|   33.61|              25.0|     2907.0|         680.0|    1841.0|     633.0|       2.6768|           82400.0| 0.3438348723519826|\n",
      "|  -114.59|   33.61|              34.0|     4789.0|        1175.0|    3134.0|    1056.0|       2.1782|           58400.0| 0.3369495851946394|\n",
      "|   -114.6|   34.83|              46.0|     1497.0|         309.0|     787.0|     271.0|       2.1908|           48100.0| 0.3443456162642948|\n",
      "|   -114.6|   33.62|              16.0|     3741.0|         801.0|    2434.0|     824.0|       2.6797|           86500.0|0.33853738701725555|\n",
      "|   -114.6|    33.6|              21.0|     1988.0|         483.0|    1182.0|     437.0|        1.625|           62000.0| 0.3697123519458545|\n",
      "|  -114.61|   34.84|              48.0|     1291.0|         248.0|     580.0|     211.0|       2.1571|           48600.0|0.36379310344827587|\n",
      "|  -114.61|   34.83|              31.0|     2478.0|         464.0|    1346.0|     479.0|        3.212|           70400.0| 0.3558692421991085|\n",
      "|  -114.63|   32.76|              15.0|     1448.0|         378.0|     949.0|     300.0|       0.8585|           45000.0|0.31612223393045313|\n",
      "|  -114.65|   34.89|              17.0|     2556.0|         587.0|    1005.0|     401.0|       1.6991|           69100.0| 0.3990049751243781|\n",
      "|  -114.65|    33.6|              28.0|     1678.0|         322.0|     666.0|     256.0|       2.9653|           94900.0| 0.3843843843843844|\n",
      "|  -114.66|   32.74|              17.0|     1388.0|         386.0|     775.0|     320.0|       1.2049|           44000.0| 0.4129032258064516|\n",
      "|  -114.68|   33.49|              20.0|     1491.0|         360.0|    1135.0|     303.0|       1.6395|           44400.0| 0.2669603524229075|\n",
      "|  -115.22|   33.54|              18.0|     1706.0|         397.0|    3424.0|     283.0|        1.625|           53500.0|0.08265186915887851|\n",
      "|  -115.37|   32.82|              30.0|     1602.0|         322.0|    1130.0|     335.0|       3.5735|           71100.0|0.29646017699115046|\n",
      "|  -115.37|   32.82|              14.0|     1276.0|         270.0|     867.0|     261.0|       1.9375|           80900.0|0.30103806228373703|\n",
      "+---------+--------+------------------+-----------+--------------+----------+----------+-------------+------------------+-------------------+\n",
      "only showing top 20 rows\n",
      "\n"
     ]
    }
   ],
   "source": [
    "## Vamos a añadir una nueva columna que sea el porcentaje de households por población\n",
    "\n",
    "añadido.withColumn('household_per_pop', F.col('households')/F.col('population')).show()"
   ]
  },
  {
   "cell_type": "markdown",
   "metadata": {
    "id": "_EQ4qPOT0C73"
   },
   "source": [
    "# Otras operaciones interesantes\n",
    "\n",
    "## Eliminar duplicados \n",
    "\n"
   ]
  },
  {
   "cell_type": "code",
   "execution_count": 82,
   "metadata": {
    "id": "2IjIizRQ0KSe"
   },
   "outputs": [],
   "source": [
    "eliminetor = añadido.drop_duplicates(['longitude'])"
   ]
  },
  {
   "cell_type": "code",
   "execution_count": 83,
   "metadata": {
    "colab": {
     "base_uri": "https://localhost:8080/"
    },
    "executionInfo": {
     "elapsed": 1613,
     "status": "ok",
     "timestamp": 1645551905133,
     "user": {
      "displayName": "Raul A. del Aguila",
      "photoUrl": "https://lh3.googleusercontent.com/a-/AOh14GhfFNUGPyK9gz8r-RWHTZpe0mOgynVvayaNWIW_6A=s64",
      "userId": "00351547175787129250"
     },
     "user_tz": -60
    },
    "id": "XVPC4k2u0QIR",
    "outputId": "b7e1842b-5249-42e3-914c-fd834ff9f1d1"
   },
   "outputs": [
    {
     "name": "stdout",
     "output_type": "stream",
     "text": [
      "+---------+--------+------------------+-----------+--------------+----------+----------+-------------+------------------+\n",
      "|longitude|latitude|housing_median_age|total_rooms|total_bedrooms|population|households|median_income|median_house_value|\n",
      "+---------+--------+------------------+-----------+--------------+----------+----------+-------------+------------------+\n",
      "|  -114.31|   34.19|              15.0|     5612.0|        1283.0|    1015.0|     472.0|       1.4936|           66900.0|\n",
      "+---------+--------+------------------+-----------+--------------+----------+----------+-------------+------------------+\n",
      "\n"
     ]
    }
   ],
   "source": [
    "eliminetor.where(eliminetor.longitude == -114.31).show()"
   ]
  },
  {
   "cell_type": "code",
   "execution_count": null,
   "metadata": {
    "id": "Hygp-gtX0ban"
   },
   "outputs": [],
   "source": []
  },
  {
   "cell_type": "markdown",
   "metadata": {
    "id": "P2GQGO9011Du"
   },
   "source": [
    "## Funciones sobre fechas"
   ]
  },
  {
   "cell_type": "code",
   "execution_count": 84,
   "metadata": {
    "colab": {
     "base_uri": "https://localhost:8080/"
    },
    "executionInfo": {
     "elapsed": 206,
     "status": "ok",
     "timestamp": 1645551974022,
     "user": {
      "displayName": "Raul A. del Aguila",
      "photoUrl": "https://lh3.googleusercontent.com/a-/AOh14GhfFNUGPyK9gz8r-RWHTZpe0mOgynVvayaNWIW_6A=s64",
      "userId": "00351547175787129250"
     },
     "user_tz": -60
    },
    "id": "IYa8LHuK2CFG",
    "outputId": "41b35af6-5953-41a4-9049-fb0d2850662a"
   },
   "outputs": [
    {
     "name": "stdout",
     "output_type": "stream",
     "text": [
      "+---------+--------+------------------+-----------+--------------+----------+----------+-------------+------------------+------------+\n",
      "|longitude|latitude|housing_median_age|total_rooms|total_bedrooms|population|households|median_income|median_house_value|fecha_actual|\n",
      "+---------+--------+------------------+-----------+--------------+----------+----------+-------------+------------------+------------+\n",
      "|  -114.31|   34.19|              15.0|     5612.0|        1283.0|    1015.0|     472.0|       1.4936|           66900.0|  2023-09-25|\n",
      "|  -114.47|    34.4|              19.0|     7650.0|        1901.0|    1129.0|     463.0|         1.82|           80100.0|  2023-09-25|\n",
      "|  -114.57|   33.64|              14.0|     1501.0|         337.0|     515.0|     226.0|       3.1917|           73400.0|  2023-09-25|\n",
      "|  -114.57|   33.57|              20.0|     1454.0|         326.0|     624.0|     262.0|        1.925|           65500.0|  2023-09-25|\n",
      "|  -114.58|   33.63|              29.0|     1387.0|         236.0|     671.0|     239.0|       3.3438|           74000.0|  2023-09-25|\n",
      "|  -114.58|   33.61|              25.0|     2907.0|         680.0|    1841.0|     633.0|       2.6768|           82400.0|  2023-09-25|\n",
      "|  -114.59|   33.61|              34.0|     4789.0|        1175.0|    3134.0|    1056.0|       2.1782|           58400.0|  2023-09-25|\n",
      "|   -114.6|   34.83|              46.0|     1497.0|         309.0|     787.0|     271.0|       2.1908|           48100.0|  2023-09-25|\n",
      "|   -114.6|   33.62|              16.0|     3741.0|         801.0|    2434.0|     824.0|       2.6797|           86500.0|  2023-09-25|\n",
      "|   -114.6|    33.6|              21.0|     1988.0|         483.0|    1182.0|     437.0|        1.625|           62000.0|  2023-09-25|\n",
      "|  -114.61|   34.84|              48.0|     1291.0|         248.0|     580.0|     211.0|       2.1571|           48600.0|  2023-09-25|\n",
      "|  -114.61|   34.83|              31.0|     2478.0|         464.0|    1346.0|     479.0|        3.212|           70400.0|  2023-09-25|\n",
      "|  -114.63|   32.76|              15.0|     1448.0|         378.0|     949.0|     300.0|       0.8585|           45000.0|  2023-09-25|\n",
      "|  -114.65|   34.89|              17.0|     2556.0|         587.0|    1005.0|     401.0|       1.6991|           69100.0|  2023-09-25|\n",
      "|  -114.65|    33.6|              28.0|     1678.0|         322.0|     666.0|     256.0|       2.9653|           94900.0|  2023-09-25|\n",
      "|  -114.66|   32.74|              17.0|     1388.0|         386.0|     775.0|     320.0|       1.2049|           44000.0|  2023-09-25|\n",
      "|  -114.68|   33.49|              20.0|     1491.0|         360.0|    1135.0|     303.0|       1.6395|           44400.0|  2023-09-25|\n",
      "|  -115.22|   33.54|              18.0|     1706.0|         397.0|    3424.0|     283.0|        1.625|           53500.0|  2023-09-25|\n",
      "|  -115.37|   32.82|              30.0|     1602.0|         322.0|    1130.0|     335.0|       3.5735|           71100.0|  2023-09-25|\n",
      "|  -115.37|   32.82|              14.0|     1276.0|         270.0|     867.0|     261.0|       1.9375|           80900.0|  2023-09-25|\n",
      "+---------+--------+------------------+-----------+--------------+----------+----------+-------------+------------------+------------+\n",
      "only showing top 20 rows\n",
      "\n"
     ]
    }
   ],
   "source": [
    "filtrado = filtrado.withColumn('fecha_actual',F.current_date())\n",
    "filtrado.show()"
   ]
  },
  {
   "cell_type": "code",
   "execution_count": 85,
   "metadata": {
    "colab": {
     "base_uri": "https://localhost:8080/"
    },
    "executionInfo": {
     "elapsed": 539,
     "status": "ok",
     "timestamp": 1645551992505,
     "user": {
      "displayName": "Raul A. del Aguila",
      "photoUrl": "https://lh3.googleusercontent.com/a-/AOh14GhfFNUGPyK9gz8r-RWHTZpe0mOgynVvayaNWIW_6A=s64",
      "userId": "00351547175787129250"
     },
     "user_tz": -60
    },
    "id": "uqY8xe5V2hPh",
    "outputId": "bc5b07a7-2c31-46e4-9194-5eec1cc53bf5"
   },
   "outputs": [
    {
     "name": "stdout",
     "output_type": "stream",
     "text": [
      "+---------+--------+------------------+-----------+--------------+----------+----------+-------------+------------------+------------+------------+\n",
      "|longitude|latitude|housing_median_age|total_rooms|total_bedrooms|population|households|median_income|median_house_value|fecha_actual|fecha_cierre|\n",
      "+---------+--------+------------------+-----------+--------------+----------+----------+-------------+------------------+------------+------------+\n",
      "|  -114.31|   34.19|              15.0|     5612.0|        1283.0|    1015.0|     472.0|       1.4936|           66900.0|  2023-09-25|  2023-12-25|\n",
      "|  -114.47|    34.4|              19.0|     7650.0|        1901.0|    1129.0|     463.0|         1.82|           80100.0|  2023-09-25|  2023-12-25|\n",
      "|  -114.57|   33.64|              14.0|     1501.0|         337.0|     515.0|     226.0|       3.1917|           73400.0|  2023-09-25|  2023-12-25|\n",
      "|  -114.57|   33.57|              20.0|     1454.0|         326.0|     624.0|     262.0|        1.925|           65500.0|  2023-09-25|  2023-12-25|\n",
      "|  -114.58|   33.63|              29.0|     1387.0|         236.0|     671.0|     239.0|       3.3438|           74000.0|  2023-09-25|  2023-12-25|\n",
      "|  -114.58|   33.61|              25.0|     2907.0|         680.0|    1841.0|     633.0|       2.6768|           82400.0|  2023-09-25|  2023-12-25|\n",
      "|  -114.59|   33.61|              34.0|     4789.0|        1175.0|    3134.0|    1056.0|       2.1782|           58400.0|  2023-09-25|  2023-12-25|\n",
      "|   -114.6|   34.83|              46.0|     1497.0|         309.0|     787.0|     271.0|       2.1908|           48100.0|  2023-09-25|  2023-12-25|\n",
      "|   -114.6|   33.62|              16.0|     3741.0|         801.0|    2434.0|     824.0|       2.6797|           86500.0|  2023-09-25|  2023-12-25|\n",
      "|   -114.6|    33.6|              21.0|     1988.0|         483.0|    1182.0|     437.0|        1.625|           62000.0|  2023-09-25|  2023-12-25|\n",
      "|  -114.61|   34.84|              48.0|     1291.0|         248.0|     580.0|     211.0|       2.1571|           48600.0|  2023-09-25|  2023-12-25|\n",
      "|  -114.61|   34.83|              31.0|     2478.0|         464.0|    1346.0|     479.0|        3.212|           70400.0|  2023-09-25|  2023-12-25|\n",
      "|  -114.63|   32.76|              15.0|     1448.0|         378.0|     949.0|     300.0|       0.8585|           45000.0|  2023-09-25|  2023-12-25|\n",
      "|  -114.65|   34.89|              17.0|     2556.0|         587.0|    1005.0|     401.0|       1.6991|           69100.0|  2023-09-25|  2023-12-25|\n",
      "|  -114.65|    33.6|              28.0|     1678.0|         322.0|     666.0|     256.0|       2.9653|           94900.0|  2023-09-25|  2023-12-25|\n",
      "|  -114.66|   32.74|              17.0|     1388.0|         386.0|     775.0|     320.0|       1.2049|           44000.0|  2023-09-25|  2023-12-25|\n",
      "|  -114.68|   33.49|              20.0|     1491.0|         360.0|    1135.0|     303.0|       1.6395|           44400.0|  2023-09-25|  2023-12-25|\n",
      "|  -115.22|   33.54|              18.0|     1706.0|         397.0|    3424.0|     283.0|        1.625|           53500.0|  2023-09-25|  2023-12-25|\n",
      "|  -115.37|   32.82|              30.0|     1602.0|         322.0|    1130.0|     335.0|       3.5735|           71100.0|  2023-09-25|  2023-12-25|\n",
      "|  -115.37|   32.82|              14.0|     1276.0|         270.0|     867.0|     261.0|       1.9375|           80900.0|  2023-09-25|  2023-12-25|\n",
      "+---------+--------+------------------+-----------+--------------+----------+----------+-------------+------------------+------------+------------+\n",
      "only showing top 20 rows\n",
      "\n"
     ]
    }
   ],
   "source": [
    "filtrado = filtrado.withColumn('fecha_cierre',F.add_months(F.col('fecha_actual'),3))\n",
    "filtrado.show()"
   ]
  },
  {
   "cell_type": "code",
   "execution_count": 86,
   "metadata": {
    "colab": {
     "base_uri": "https://localhost:8080/"
    },
    "executionInfo": {
     "elapsed": 310,
     "status": "ok",
     "timestamp": 1645552023713,
     "user": {
      "displayName": "Raul A. del Aguila",
      "photoUrl": "https://lh3.googleusercontent.com/a-/AOh14GhfFNUGPyK9gz8r-RWHTZpe0mOgynVvayaNWIW_6A=s64",
      "userId": "00351547175787129250"
     },
     "user_tz": -60
    },
    "id": "9sxas3_X2hUh",
    "outputId": "0eee7c5c-fbb5-4b8f-faa9-a91c28ca9979"
   },
   "outputs": [
    {
     "name": "stdout",
     "output_type": "stream",
     "text": [
      "+---------+--------+------------------+-----------+--------------+----------+----------+-------------+------------------+------------+------------+----------+\n",
      "|longitude|latitude|housing_median_age|total_rooms|total_bedrooms|population|households|median_income|median_house_value|fecha_actual|fecha_cierre|diferencia|\n",
      "+---------+--------+------------------+-----------+--------------+----------+----------+-------------+------------------+------------+------------+----------+\n",
      "|  -114.31|   34.19|              15.0|     5612.0|        1283.0|    1015.0|     472.0|       1.4936|           66900.0|  2023-09-25|  2023-12-25|       -91|\n",
      "|  -114.47|    34.4|              19.0|     7650.0|        1901.0|    1129.0|     463.0|         1.82|           80100.0|  2023-09-25|  2023-12-25|       -91|\n",
      "|  -114.57|   33.64|              14.0|     1501.0|         337.0|     515.0|     226.0|       3.1917|           73400.0|  2023-09-25|  2023-12-25|       -91|\n",
      "|  -114.57|   33.57|              20.0|     1454.0|         326.0|     624.0|     262.0|        1.925|           65500.0|  2023-09-25|  2023-12-25|       -91|\n",
      "|  -114.58|   33.63|              29.0|     1387.0|         236.0|     671.0|     239.0|       3.3438|           74000.0|  2023-09-25|  2023-12-25|       -91|\n",
      "|  -114.58|   33.61|              25.0|     2907.0|         680.0|    1841.0|     633.0|       2.6768|           82400.0|  2023-09-25|  2023-12-25|       -91|\n",
      "|  -114.59|   33.61|              34.0|     4789.0|        1175.0|    3134.0|    1056.0|       2.1782|           58400.0|  2023-09-25|  2023-12-25|       -91|\n",
      "|   -114.6|   34.83|              46.0|     1497.0|         309.0|     787.0|     271.0|       2.1908|           48100.0|  2023-09-25|  2023-12-25|       -91|\n",
      "|   -114.6|   33.62|              16.0|     3741.0|         801.0|    2434.0|     824.0|       2.6797|           86500.0|  2023-09-25|  2023-12-25|       -91|\n",
      "|   -114.6|    33.6|              21.0|     1988.0|         483.0|    1182.0|     437.0|        1.625|           62000.0|  2023-09-25|  2023-12-25|       -91|\n",
      "|  -114.61|   34.84|              48.0|     1291.0|         248.0|     580.0|     211.0|       2.1571|           48600.0|  2023-09-25|  2023-12-25|       -91|\n",
      "|  -114.61|   34.83|              31.0|     2478.0|         464.0|    1346.0|     479.0|        3.212|           70400.0|  2023-09-25|  2023-12-25|       -91|\n",
      "|  -114.63|   32.76|              15.0|     1448.0|         378.0|     949.0|     300.0|       0.8585|           45000.0|  2023-09-25|  2023-12-25|       -91|\n",
      "|  -114.65|   34.89|              17.0|     2556.0|         587.0|    1005.0|     401.0|       1.6991|           69100.0|  2023-09-25|  2023-12-25|       -91|\n",
      "|  -114.65|    33.6|              28.0|     1678.0|         322.0|     666.0|     256.0|       2.9653|           94900.0|  2023-09-25|  2023-12-25|       -91|\n",
      "|  -114.66|   32.74|              17.0|     1388.0|         386.0|     775.0|     320.0|       1.2049|           44000.0|  2023-09-25|  2023-12-25|       -91|\n",
      "|  -114.68|   33.49|              20.0|     1491.0|         360.0|    1135.0|     303.0|       1.6395|           44400.0|  2023-09-25|  2023-12-25|       -91|\n",
      "|  -115.22|   33.54|              18.0|     1706.0|         397.0|    3424.0|     283.0|        1.625|           53500.0|  2023-09-25|  2023-12-25|       -91|\n",
      "|  -115.37|   32.82|              30.0|     1602.0|         322.0|    1130.0|     335.0|       3.5735|           71100.0|  2023-09-25|  2023-12-25|       -91|\n",
      "|  -115.37|   32.82|              14.0|     1276.0|         270.0|     867.0|     261.0|       1.9375|           80900.0|  2023-09-25|  2023-12-25|       -91|\n",
      "+---------+--------+------------------+-----------+--------------+----------+----------+-------------+------------------+------------+------------+----------+\n",
      "only showing top 20 rows\n",
      "\n"
     ]
    }
   ],
   "source": [
    "filtrado.withColumn('diferencia',F.datediff(filtrado.fecha_actual,filtrado.fecha_cierre)).show()"
   ]
  },
  {
   "cell_type": "markdown",
   "metadata": {
    "id": "XKm36i9bqMLz"
   },
   "source": []
  },
  {
   "cell_type": "code",
   "execution_count": null,
   "metadata": {
    "id": "_J_xTfm0i-MJ"
   },
   "outputs": [],
   "source": []
  },
  {
   "cell_type": "markdown",
   "metadata": {
    "id": "DQ0YZLk-11Ix"
   },
   "source": [
    "# Operaciones avanzadas\n",
    "\n",
    "## Join"
   ]
  },
  {
   "cell_type": "code",
   "execution_count": 98,
   "metadata": {
    "id": "Te8PJp3r4B25"
   },
   "outputs": [
    {
     "name": "stderr",
     "output_type": "stream",
     "text": [
      "                                                                                \r"
     ]
    }
   ],
   "source": [
    "jugadores = spark.read.csv('player.csv',inferSchema=True, header=True, sep=';')\n",
    "atributos = spark.read.csv('player_attributes.csv',inferSchema=True, header=True, sep=';')"
   ]
  },
  {
   "cell_type": "code",
   "execution_count": 99,
   "metadata": {
    "colab": {
     "base_uri": "https://localhost:8080/"
    },
    "executionInfo": {
     "elapsed": 208,
     "status": "ok",
     "timestamp": 1645552172608,
     "user": {
      "displayName": "Raul A. del Aguila",
      "photoUrl": "https://lh3.googleusercontent.com/a-/AOh14GhfFNUGPyK9gz8r-RWHTZpe0mOgynVvayaNWIW_6A=s64",
      "userId": "00351547175787129250"
     },
     "user_tz": -60
    },
    "id": "bV_z3KUi6RV_",
    "outputId": "aef91a3a-4ce2-4ff0-875f-55dda0ce6a92"
   },
   "outputs": [
    {
     "name": "stdout",
     "output_type": "stream",
     "text": [
      "+---+-------------+--------------------+------------------+-------------------+------+------+\n",
      "| id|player_api_id|         player_name|player_fifa_api_id|           birthday|height|weight|\n",
      "+---+-------------+--------------------+------------------+-------------------+------+------+\n",
      "|  1|       505942|  Aaron Appindangoye|            218353|1992-02-29 00:00:00|182.88|   187|\n",
      "|  2|       155782|     Aaron Cresswell|            189615|1989-12-15 00:00:00|170.18|   146|\n",
      "|  3|       162549|         Aaron Doran|            186170|1991-05-13 00:00:00|170.18|   163|\n",
      "|  4|        30572|       Aaron Galindo|            140161|1982-05-08 00:00:00|182.88|   198|\n",
      "|  5|        23780|        Aaron Hughes|             17725|1979-11-08 00:00:00|182.88|   154|\n",
      "|  6|        27316|          Aaron Hunt|            158138|1986-09-04 00:00:00|182.88|   161|\n",
      "|  7|       564793|          Aaron Kuhl|            221280|1996-01-30 00:00:00|172.72|   146|\n",
      "|  8|        30895|        Aaron Lennon|            152747|1987-04-16 00:00:00| 165.1|   139|\n",
      "|  9|       528212|        Aaron Lennox|            206592|1993-02-19 00:00:00| 190.5|   181|\n",
      "| 10|       101042|       Aaron Meijers|            188621|1987-10-28 00:00:00|175.26|   170|\n",
      "| 11|        23889|       Aaron Mokoena|             47189|1980-11-25 00:00:00|182.88|   181|\n",
      "| 12|       231592|          Aaron Mooy|            194958|1990-09-15 00:00:00|175.26|   150|\n",
      "| 13|       163222|      Aaron Muirhead|            213568|1990-08-30 00:00:00|187.96|   168|\n",
      "| 14|        40719|        Aaron Niguez|            183853|1989-04-26 00:00:00|170.18|   143|\n",
      "| 15|        75489|        Aaron Ramsey|            186561|1990-12-26 00:00:00| 177.8|   154|\n",
      "| 16|       597948|       Aaron Splaine|            226014|1996-10-13 00:00:00|172.72|   163|\n",
      "| 17|       161644|Aaron Taylor-Sinc...|            213569|1991-04-08 00:00:00|182.88|   176|\n",
      "| 18|        23499|     Aaron Wilbraham|              2335|1979-10-21 00:00:00| 190.5|   159|\n",
      "| 19|       120919|   Aatif Chahechouhe|            187939|1986-07-02 00:00:00|175.26|   150|\n",
      "| 20|        46447|           Abasse Ba|            156626|1976-07-12 00:00:00|187.96|   185|\n",
      "+---+-------------+--------------------+------------------+-------------------+------+------+\n",
      "only showing top 20 rows\n",
      "\n"
     ]
    }
   ],
   "source": [
    "jugadores.show()"
   ]
  },
  {
   "cell_type": "code",
   "execution_count": 100,
   "metadata": {
    "id": "eAboHPb36tnJ"
   },
   "outputs": [
    {
     "name": "stdout",
     "output_type": "stream",
     "text": [
      "+---+------------------+-------------+-------------------+--------------+---------+--------------+-------------------+-------------------+--------+---------+----------------+-------------+-------+---------+-----+------------------+------------+------------+------------+------------+-------+---------+-------+----------+-------+-------+--------+----------+----------+-------------+-----------+------+---------+-------+---------------+--------------+---------+-----------+----------+--------------+-----------+\n",
      "| id|player_fifa_api_id|player_api_id|               date|overall_rating|potential|preferred_foot|attacking_work_rate|defensive_work_rate|crossing|finishing|heading_accuracy|short_passing|volleys|dribbling|curve|free_kick_accuracy|long_passing|ball_control|acceleration|sprint_speed|agility|reactions|balance|shot_power|jumping|stamina|strength|long_shots|aggression|interceptions|positioning|vision|penalties|marking|standing_tackle|sliding_tackle|gk_diving|gk_handling|gk_kicking|gk_positioning|gk_reflexes|\n",
      "+---+------------------+-------------+-------------------+--------------+---------+--------------+-------------------+-------------------+--------+---------+----------------+-------------+-------+---------+-----+------------------+------------+------------+------------+------------+-------+---------+-------+----------+-------+-------+--------+----------+----------+-------------+-----------+------+---------+-------+---------------+--------------+---------+-----------+----------+--------------+-----------+\n",
      "|  1|            218353|       505942|2016-02-18 00:00:00|            67|       71|         right|             medium|             medium|      49|       44|              71|           61|     44|       51|   45|                39|          64|          49|          60|          64|     59|       47|     65|        55|     58|     54|      76|        35|        71|           70|         45|    54|       48|     65|             69|            69|        6|         11|        10|             8|          8|\n",
      "|  2|            218353|       505942|2015-11-19 00:00:00|            67|       71|         right|             medium|             medium|      49|       44|              71|           61|     44|       51|   45|                39|          64|          49|          60|          64|     59|       47|     65|        55|     58|     54|      76|        35|        71|           70|         45|    54|       48|     65|             69|            69|        6|         11|        10|             8|          8|\n",
      "|  3|            218353|       505942|2015-09-21 00:00:00|            62|       66|         right|             medium|             medium|      49|       44|              71|           61|     44|       51|   45|                39|          64|          49|          60|          64|     59|       47|     65|        55|     58|     54|      76|        35|        63|           41|         45|    54|       48|     65|             66|            69|        6|         11|        10|             8|          8|\n",
      "|  4|            218353|       505942|2015-03-20 00:00:00|            61|       65|         right|             medium|             medium|      48|       43|              70|           60|     43|       50|   44|                38|          63|          48|          60|          64|     59|       46|     65|        54|     58|     54|      76|        34|        62|           40|         44|    53|       47|     62|             63|            66|        5|         10|         9|             7|          7|\n",
      "|  5|            218353|       505942|2007-02-22 00:00:00|            61|       65|         right|             medium|             medium|      48|       43|              70|           60|     43|       50|   44|                38|          63|          48|          60|          64|     59|       46|     65|        54|     58|     54|      76|        34|        62|           40|         44|    53|       47|     62|             63|            66|        5|         10|         9|             7|          7|\n",
      "|  6|            189615|       155782|2016-04-21 00:00:00|            74|       76|          left|               high|             medium|      80|       53|              58|           71|     40|       73|   70|                69|          68|          71|          79|          78|     78|       67|     90|        71|     85|     79|      56|        62|        68|           67|         60|    66|       59|     76|             75|            78|       14|          7|         9|             9|         12|\n",
      "|  7|            189615|       155782|2016-04-07 00:00:00|            74|       76|          left|               high|             medium|      80|       53|              58|           71|     32|       73|   70|                69|          68|          71|          79|          78|     78|       67|     90|        71|     85|     79|      56|        60|        68|           67|         60|    66|       59|     76|             75|            78|       14|          7|         9|             9|         12|\n",
      "|  8|            189615|       155782|2016-01-07 00:00:00|            73|       75|          left|               high|             medium|      79|       52|              57|           70|     29|       71|   68|                69|          68|          70|          79|          78|     78|       67|     90|        71|     84|     79|      56|        59|        67|           66|         58|    65|       59|     76|             75|            78|       14|          7|         9|             9|         12|\n",
      "|  9|            189615|       155782|2015-12-24 00:00:00|            73|       75|          left|               high|             medium|      79|       51|              57|           70|     29|       71|   68|                69|          68|          70|          79|          78|     78|       67|     90|        71|     84|     79|      56|        58|        67|           66|         58|    65|       59|     76|             75|            78|       14|          7|         9|             9|         12|\n",
      "| 10|            189615|       155782|2015-12-17 00:00:00|            73|       75|          left|               high|             medium|      79|       51|              57|           70|     29|       71|   68|                69|          68|          70|          79|          78|     78|       67|     90|        71|     84|     79|      56|        58|        67|           66|         58|    65|       59|     76|             75|            78|       14|          7|         9|             9|         12|\n",
      "| 11|            189615|       155782|2015-10-16 00:00:00|            73|       77|          left|               high|             medium|      79|       51|              57|           70|     29|       71|   68|                69|          68|          70|          79|          78|     78|       67|     90|        71|     84|     79|      56|        58|        67|           66|         58|    65|       59|     76|             75|            78|       14|          7|         9|             9|         12|\n",
      "| 12|            189615|       155782|2015-09-25 00:00:00|            74|       78|          left|               high|             medium|      79|       51|              57|           70|     29|       71|   68|                69|          68|          70|          80|          78|     78|       67|     90|        71|     84|     79|      56|        58|        67|           66|         58|    65|       59|     76|             75|            78|       14|          7|         9|             9|         12|\n",
      "| 13|            189615|       155782|2015-09-21 00:00:00|            73|       77|          left|             medium|             medium|      79|       51|              57|           70|     29|       67|   68|                69|          68|          68|          79|          78|     78|       67|     90|        71|     84|     79|      56|        58|        67|           66|         58|    65|       59|     76|             75|            78|       14|          7|         9|             9|         12|\n",
      "| 14|            189615|       155782|2015-01-09 00:00:00|            71|       75|          left|             medium|             medium|      78|       50|              56|           69|     28|       66|   67|                68|          67|          67|          79|          82|     79|       71|     90|        70|     84|     79|      50|        56|        66|           65|         57|    64|       58|     73|             72|            72|       13|          6|         8|             8|         11|\n",
      "| 15|            189615|       155782|2014-12-05 00:00:00|            71|       77|          left|             medium|             medium|      78|       50|              56|           69|     28|       66|   67|                68|          67|          67|          79|          82|     79|       71|     90|        70|     84|     79|      50|        56|        66|           65|         57|    64|       58|     73|             72|            72|       13|          6|         8|             8|         11|\n",
      "| 16|            189615|       155782|2014-11-07 00:00:00|            71|       77|          left|             medium|             medium|      78|       50|              56|           69|     28|       66|   67|                68|          67|          67|          79|          82|     79|       71|     90|        70|     84|     79|      50|        56|        66|           65|         57|    64|       58|     73|             72|            72|       13|          6|         8|             8|         11|\n",
      "| 17|            189615|       155782|2014-09-18 00:00:00|            70|       77|          left|             medium|             medium|      77|       50|              51|           67|     28|       66|   67|                68|          67|          66|          79|          82|     79|       69|     90|        70|     84|     79|      50|        56|        66|           62|         57|    64|       58|     73|             72|            72|       13|          6|         8|             8|         11|\n",
      "| 18|            189615|       155782|2014-05-02 00:00:00|            70|       79|          left|             medium|             medium|      77|       50|              51|           67|     28|       66|   67|                68|          67|          66|          84|          82|     81|       69|     90|        70|     84|     80|      50|        56|        66|           62|         57|    64|       58|     73|             72|            72|       13|          6|         8|             8|         11|\n",
      "| 19|            189615|       155782|2014-04-04 00:00:00|            70|       79|          left|             medium|             medium|      77|       50|              51|           67|     28|       66|   67|                68|          67|          66|          84|          82|     81|       69|     90|        70|     84|     80|      50|        56|        66|           62|         57|    64|       58|     73|             72|            72|       13|          6|         8|             8|         11|\n",
      "| 20|            189615|       155782|2014-03-14 00:00:00|            70|       79|          left|             medium|             medium|      77|       50|              51|           67|     28|       66|   66|                68|          67|          65|          84|          82|     81|       69|     90|        70|     84|     79|      49|        55|        66|           62|         57|    61|       58|     73|             72|            72|       13|          6|         8|             8|         11|\n",
      "+---+------------------+-------------+-------------------+--------------+---------+--------------+-------------------+-------------------+--------+---------+----------------+-------------+-------+---------+-----+------------------+------------+------------+------------+------------+-------+---------+-------+----------+-------+-------+--------+----------+----------+-------------+-----------+------+---------+-------+---------------+--------------+---------+-----------+----------+--------------+-----------+\n",
      "only showing top 20 rows\n",
      "\n"
     ]
    }
   ],
   "source": [
    "atributos.show()"
   ]
  },
  {
   "cell_type": "code",
   "execution_count": 101,
   "metadata": {
    "id": "u-fkBUMt6219"
   },
   "outputs": [],
   "source": [
    "resultado = jugadores.select('player_api_id','height').join(atributos,on='player_api_id',how='left')"
   ]
  },
  {
   "cell_type": "code",
   "execution_count": 102,
   "metadata": {
    "colab": {
     "base_uri": "https://localhost:8080/"
    },
    "executionInfo": {
     "elapsed": 4852,
     "status": "ok",
     "timestamp": 1645552545569,
     "user": {
      "displayName": "Raul A. del Aguila",
      "photoUrl": "https://lh3.googleusercontent.com/a-/AOh14GhfFNUGPyK9gz8r-RWHTZpe0mOgynVvayaNWIW_6A=s64",
      "userId": "00351547175787129250"
     },
     "user_tz": -60
    },
    "id": "YvYofLBHkwhE",
    "outputId": "f1c9f608-8e13-487b-d9e3-37db3d7ce0f9"
   },
   "outputs": [
    {
     "name": "stderr",
     "output_type": "stream",
     "text": [
      "[Stage 108:============================>                            (2 + 2) / 4]\r"
     ]
    },
    {
     "name": "stdout",
     "output_type": "stream",
     "text": [
      "+-------------+------+---+------------------+-------------------+--------------+---------+--------------+-------------------+-------------------+--------+---------+----------------+-------------+-------+---------+-----+------------------+------------+------------+------------+------------+-------+---------+-------+----------+-------+-------+--------+----------+----------+-------------+-----------+------+---------+-------+---------------+--------------+---------+-----------+----------+--------------+-----------+\n",
      "|player_api_id|height| id|player_fifa_api_id|               date|overall_rating|potential|preferred_foot|attacking_work_rate|defensive_work_rate|crossing|finishing|heading_accuracy|short_passing|volleys|dribbling|curve|free_kick_accuracy|long_passing|ball_control|acceleration|sprint_speed|agility|reactions|balance|shot_power|jumping|stamina|strength|long_shots|aggression|interceptions|positioning|vision|penalties|marking|standing_tackle|sliding_tackle|gk_diving|gk_handling|gk_kicking|gk_positioning|gk_reflexes|\n",
      "+-------------+------+---+------------------+-------------------+--------------+---------+--------------+-------------------+-------------------+--------+---------+----------------+-------------+-------+---------+-----+------------------+------------+------------+------------+------------+-------+---------+-------+----------+-------+-------+--------+----------+----------+-------------+-----------+------+---------+-------+---------------+--------------+---------+-----------+----------+--------------+-----------+\n",
      "|        23499| 190.5|336|              2335|2016-04-21 00:00:00|            65|       65|         right|             medium|             medium|      49|       67|              78|           68|     56|       49|   43|                42|          39|          65|          51|          53|     44|       67|     52|        69|     70|     53|      82|        47|        77|           24|         67|    68|       73|     23|             20|            19|       12|         13|        10|            10|          9|\n",
      "|        23499| 190.5|337|              2335|2016-01-07 00:00:00|            65|       65|         right|             medium|             medium|      49|       67|              78|           68|     56|       49|   43|                42|          39|          65|          51|          53|     44|       67|     52|        69|     70|     53|      82|        47|        75|           24|         67|    68|       73|     23|             20|            19|       12|         13|        10|            10|          9|\n",
      "|        23499| 190.5|338|              2335|2015-10-02 00:00:00|            65|       65|         right|               high|             medium|      49|       67|              78|           68|     56|       49|   43|                42|          39|          65|          51|          53|     44|       67|     52|        69|     70|     53|      82|        47|        75|           24|         67|    68|       73|     23|             20|            19|       12|         13|        10|            10|          9|\n",
      "|        23499| 190.5|339|              2335|2015-09-21 00:00:00|            67|       67|         right|               high|             medium|      49|       67|              78|           68|     56|       49|   43|                42|          39|          65|          51|          53|     44|       67|     52|        69|     70|     53|      82|        47|        75|           24|         75|    68|       73|     23|             20|            19|       12|         13|        10|            10|          9|\n",
      "|        23499| 190.5|340|              2335|2015-02-27 00:00:00|            65|       65|         right|             medium|             medium|      48|       66|              77|           67|     55|       48|   42|                41|          38|          64|          54|          57|     44|       66|     52|        68|     67|     68|      81|        46|        74|           23|         74|    67|       72|     22|             25|            25|       11|         12|         9|             9|          8|\n",
      "|        23499| 190.5|341|              2335|2015-01-02 00:00:00|            65|       65|         right|             medium|             medium|      48|       66|              77|           67|     55|       48|   42|                41|          38|          71|          54|          57|     44|       66|     52|        68|     67|     68|      81|        46|        74|           23|         74|    67|       72|     22|             25|            25|       11|         12|         9|             9|          8|\n",
      "|        23499| 190.5|342|              2335|2014-10-02 00:00:00|            65|       65|         right|             medium|             medium|      48|       66|              77|           67|     55|       48|   42|                41|          38|          71|          54|          57|     44|       66|     52|        68|     67|     68|      81|        46|        74|           23|         74|    67|       72|     22|             25|            25|       11|         12|         9|             9|          8|\n",
      "|        23499| 190.5|343|              2335|2014-09-18 00:00:00|            64|       64|         right|             medium|             medium|      48|       66|              77|           67|     55|       48|   42|                41|          38|          71|          34|          53|     44|       66|     52|        68|     67|     68|      81|        46|        74|           23|         74|    67|       72|     22|             25|            25|       11|         12|         9|             9|          8|\n",
      "|        23499| 190.5|344|              2335|2014-01-31 00:00:00|            63|       63|         right|             medium|             medium|      48|       66|              77|           65|     55|       48|   42|                41|          38|          70|          34|          54|     44|       62|     52|        68|     66|     63|      81|        43|        72|           23|         74|    67|       72|     22|             25|            25|       24|         23|        21|            21|         25|\n",
      "|        23499| 190.5|345|              2335|2014-01-10 00:00:00|            63|       63|         right|             medium|             medium|      48|       66|              77|           64|     55|       48|   42|                41|          38|          68|          34|          54|     44|       62|     52|        68|     66|     63|      81|        43|        72|           23|         72|    64|       72|     22|             25|            25|       24|         23|        21|            21|         25|\n",
      "|        23499| 190.5|346|              2335|2013-09-20 00:00:00|            63|       63|         right|             medium|             medium|      48|       66|              77|           64|     55|       48|   42|                41|          38|          68|          34|          54|     44|       62|     52|        68|     66|     63|      81|        43|        72|           23|         72|    64|       72|     22|             25|            25|       24|         23|        21|            21|         25|\n",
      "|        23499| 190.5|347|              2335|2013-02-15 00:00:00|            63|       63|         right|             medium|             medium|      48|       66|              75|           60|     55|       48|   42|                41|          38|          65|          53|          54|     48|       62|     61|        68|     73|     54|      79|        43|        72|           23|         69|    64|       72|     22|             19|            18|       24|         23|        21|            21|         25|\n",
      "|        23499| 190.5|348|              2335|2012-08-31 00:00:00|            62|       62|         right|             medium|             medium|      48|       66|              75|           56|     55|       48|   42|                41|          38|          61|          53|          54|     48|       60|     54|        68|     73|     48|      79|        43|        72|           23|         67|    58|       72|     22|             19|            18|       24|         23|        21|            21|         25|\n",
      "|        23499| 190.5|349|              2335|2012-02-22 00:00:00|            61|       61|         right|             medium|             medium|      48|       66|              75|           45|     55|       42|   42|                41|          38|          54|          53|          54|     33|       60|     56|        68|     68|     48|      79|        43|        65|           23|         64|    43|       72|     22|             19|            18|       33|         30|        39|            31|         30|\n",
      "|        23499| 190.5|350|              2335|2011-08-30 00:00:00|            61|       61|         right|             medium|             medium|      48|       66|              75|           45|     55|       42|   42|                41|          38|          54|          53|          54|     33|       60|     56|        68|     68|     48|      79|        43|        65|           23|         64|    43|       72|     22|             19|            18|       14|         13|         7|            11|         15|\n",
      "|        23499| 190.5|351|              2335|2011-02-22 00:00:00|            62|       65|         right|             medium|             medium|      48|       69|              75|           45|     55|       45|   51|                41|          38|          54|          63|          64|     36|       60|     67|        68|     79|     61|      82|        48|        65|           23|         64|    53|       54|     22|             19|            18|       14|         13|         7|            11|         15|\n",
      "|        23499| 190.5|352|              2335|2010-08-30 00:00:00|            60|       62|         right|             medium|             medium|      48|       64|              71|           45|     55|       45|   51|                41|          38|          54|          63|          63|     36|       60|     65|        65|     83|     61|      81|        48|        60|           23|         62|    53|       53|     22|             19|            18|       14|         13|         7|            11|         15|\n",
      "|        23499| 190.5|353|              2335|2009-08-30 00:00:00|            62|       67|         right|             medium|             medium|      48|       67|              71|           45|     55|       49|   51|                41|          38|          57|          63|          63|     36|       60|     65|        65|     83|     58|      67|        58|        60|           51|         61|    53|       59|     22|             21|            18|       10|         21|        38|            21|         21|\n",
      "|        23499| 190.5|354|              2335|2009-02-22 00:00:00|            60|       65|         right|             medium|             medium|      48|       65|              62|           40|     55|       49|   51|                41|          33|          57|          61|          63|     36|       60|     65|        63|     83|     58|      66|        58|        54|           49|         61|    53|       56|     22|             21|            18|       10|         21|        33|            21|         21|\n",
      "|        23499| 190.5|355|              2335|2008-08-30 00:00:00|            58|       65|         right|             medium|             medium|      48|       63|              59|           40|     55|       49|   51|                41|          33|          57|          60|          60|     36|       56|     65|        60|     83|     60|      66|        58|        54|           49|         57|    53|       56|     32|             21|            18|       10|         21|        33|            21|         21|\n",
      "+-------------+------+---+------------------+-------------------+--------------+---------+--------------+-------------------+-------------------+--------+---------+----------------+-------------+-------+---------+-----+------------------+------------+------------+------------+------------+-------+---------+-------+----------+-------+-------+--------+----------+----------+-------------+-----------+------+---------+-------+---------------+--------------+---------+-----------+----------+--------------+-----------+\n",
      "only showing top 20 rows\n",
      "\n"
     ]
    },
    {
     "name": "stderr",
     "output_type": "stream",
     "text": [
      "\r",
      "                                                                                \r"
     ]
    }
   ],
   "source": [
    "resultado.show()"
   ]
  },
  {
   "cell_type": "markdown",
   "metadata": {
    "id": "9xfX7oEKVEQc"
   },
   "source": [
    "## Agregaciones\n",
    "\n",
    "Las agregaciones se realizan con la secuencia de operaciones siguientes:\n",
    "\n",
    "`groupBy` + `agg (función[.alias()])`\n",
    "\n",
    "`groubBy` + `función de agregación` -- `sum / mean / max / min ...` `[.withColumnRenamed]`\n",
    "\n",
    "`groupBy` + `agg ({'campo':'funcion_de_agregacion})`\n",
    ".."
   ]
  },
  {
   "cell_type": "code",
   "execution_count": 112,
   "metadata": {},
   "outputs": [
    {
     "name": "stdout",
     "output_type": "stream",
     "text": [
      "root\n",
      " |-- longitude: double (nullable = true)\n",
      " |-- latitude: double (nullable = true)\n",
      " |-- housing_median_age: double (nullable = true)\n",
      " |-- total_rooms: double (nullable = true)\n",
      " |-- total_bedrooms: double (nullable = true)\n",
      " |-- population: double (nullable = true)\n",
      " |-- households: double (nullable = true)\n",
      " |-- median_income: double (nullable = true)\n",
      " |-- median_house_value: double (nullable = true)\n",
      "\n"
     ]
    }
   ],
   "source": [
    "añadido.printSchema()"
   ]
  },
  {
   "cell_type": "code",
   "execution_count": 116,
   "metadata": {
    "colab": {
     "base_uri": "https://localhost:8080/"
    },
    "executionInfo": {
     "elapsed": 462,
     "status": "ok",
     "timestamp": 1645553124684,
     "user": {
      "displayName": "Raul A. del Aguila",
      "photoUrl": "https://lh3.googleusercontent.com/a-/AOh14GhfFNUGPyK9gz8r-RWHTZpe0mOgynVvayaNWIW_6A=s64",
      "userId": "00351547175787129250"
     },
     "user_tz": -60
    },
    "id": "QhwzazJtVDL-",
    "outputId": "8faa523e-5b65-4e69-a62d-22e70caf3b40"
   },
   "outputs": [
    {
     "name": "stdout",
     "output_type": "stream",
     "text": [
      "+------------------+------------------+\n",
      "|categoria_xelenial|       media_valor|\n",
      "+------------------+------------------+\n",
      "|            IGNORE|150011.30985915492|\n",
      "|            TARGET|250504.73766414644|\n",
      "|       CUASITARGET|133579.02144288577|\n",
      "+------------------+------------------+\n",
      "\n"
     ]
    }
   ],
   "source": [
    "añadido.groupby('categoria_xelenial').mean('median_house_value').withColumnRenamed('avg(median_house_value)','media_valor').show()"
   ]
  },
  {
   "cell_type": "code",
   "execution_count": 117,
   "metadata": {
    "colab": {
     "base_uri": "https://localhost:8080/"
    },
    "executionInfo": {
     "elapsed": 689,
     "status": "ok",
     "timestamp": 1645553079211,
     "user": {
      "displayName": "Raul A. del Aguila",
      "photoUrl": "https://lh3.googleusercontent.com/a-/AOh14GhfFNUGPyK9gz8r-RWHTZpe0mOgynVvayaNWIW_6A=s64",
      "userId": "00351547175787129250"
     },
     "user_tz": -60
    },
    "id": "Cuahi17kmywg",
    "outputId": "1f315bd4-770a-4fb6-8559-fb50272d9371"
   },
   "outputs": [
    {
     "name": "stdout",
     "output_type": "stream",
     "text": [
      "+------------------+-----------------------+\n",
      "|categoria_xelenial|avg(median_house_value)|\n",
      "+------------------+-----------------------+\n",
      "|            IGNORE|     150011.30985915492|\n",
      "|            TARGET|     250504.73766414644|\n",
      "|       CUASITARGET|     133579.02144288577|\n",
      "+------------------+-----------------------+\n",
      "\n"
     ]
    }
   ],
   "source": [
    "añadido.groupby('categoria_xelenial').mean('median_house_value').show()"
   ]
  },
  {
   "cell_type": "code",
   "execution_count": 118,
   "metadata": {
    "colab": {
     "base_uri": "https://localhost:8080/"
    },
    "executionInfo": {
     "elapsed": 446,
     "status": "ok",
     "timestamp": 1645553057831,
     "user": {
      "displayName": "Raul A. del Aguila",
      "photoUrl": "https://lh3.googleusercontent.com/a-/AOh14GhfFNUGPyK9gz8r-RWHTZpe0mOgynVvayaNWIW_6A=s64",
      "userId": "00351547175787129250"
     },
     "user_tz": -60
    },
    "id": "1r5r8SNoVlqX",
    "outputId": "7b40195e-fc80-4fdb-8549-0c8fcd4b22cd"
   },
   "outputs": [
    {
     "name": "stdout",
     "output_type": "stream",
     "text": [
      "+------------------+------------------+\n",
      "|categoria_xelenial|             media|\n",
      "+------------------+------------------+\n",
      "|            IGNORE|150011.30985915492|\n",
      "|            TARGET|250504.73766414644|\n",
      "|       CUASITARGET|133579.02144288577|\n",
      "+------------------+------------------+\n",
      "\n"
     ]
    }
   ],
   "source": [
    "\n",
    "\n",
    "añadido.groupby('categoria_xelenial').agg(F.mean(\"median_house_value\").alias(\"media\")).show()"
   ]
  },
  {
   "cell_type": "code",
   "execution_count": 119,
   "metadata": {
    "colab": {
     "base_uri": "https://localhost:8080/"
    },
    "executionInfo": {
     "elapsed": 704,
     "status": "ok",
     "timestamp": 1645553284618,
     "user": {
      "displayName": "Raul A. del Aguila",
      "photoUrl": "https://lh3.googleusercontent.com/a-/AOh14GhfFNUGPyK9gz8r-RWHTZpe0mOgynVvayaNWIW_6A=s64",
      "userId": "00351547175787129250"
     },
     "user_tz": -60
    },
    "id": "aygpLD86zdd6",
    "outputId": "29b589fb-401e-424e-945e-4517a7e1fc81"
   },
   "outputs": [
    {
     "name": "stderr",
     "output_type": "stream",
     "text": [
      "\r",
      "[Stage 127:>                                                        (0 + 1) / 1]\r"
     ]
    },
    {
     "name": "stdout",
     "output_type": "stream",
     "text": [
      "+------------------+------+\n",
      "|categoria_xelenial|conteo|\n",
      "+------------------+------+\n",
      "|            IGNORE|    63|\n",
      "|            TARGET|  3269|\n",
      "|       CUASITARGET|  1763|\n",
      "+------------------+------+\n",
      "\n"
     ]
    },
    {
     "name": "stderr",
     "output_type": "stream",
     "text": [
      "\r",
      "                                                                                \r"
     ]
    }
   ],
   "source": [
    "añadido.groupby('categoria_xelenial').agg(F.count_distinct('median_house_value').alias('conteo')).show()"
   ]
  },
  {
   "cell_type": "code",
   "execution_count": 120,
   "metadata": {
    "id": "mBLoDCJ-8pzA"
   },
   "outputs": [
    {
     "name": "stderr",
     "output_type": "stream",
     "text": [
      "[Stage 133:==============>                                          (1 + 3) / 4]\r"
     ]
    },
    {
     "name": "stdout",
     "output_type": "stream",
     "text": [
      "+--------------+----+\n",
      "|preferred_foot|tipo|\n",
      "+--------------+----+\n",
      "|          null| 756|\n",
      "|          left|3202|\n",
      "|         right|8979|\n",
      "+--------------+----+\n",
      "\n"
     ]
    },
    {
     "name": "stderr",
     "output_type": "stream",
     "text": [
      "\r",
      "                                                                                \r"
     ]
    }
   ],
   "source": [
    "atributos.groupBy('preferred_foot').agg(F.count_distinct('player_api_id').alias('tipo')).show()"
   ]
  },
  {
   "cell_type": "code",
   "execution_count": 121,
   "metadata": {
    "id": "47bkUK2a3YFX"
   },
   "outputs": [
    {
     "name": "stdout",
     "output_type": "stream",
     "text": [
      "+--------------+---------+\n",
      "|preferred_foot|elprimero|\n",
      "+--------------+---------+\n",
      "|          null|    31684|\n",
      "|          left|   155782|\n",
      "|         right|   505942|\n",
      "+--------------+---------+\n",
      "\n"
     ]
    },
    {
     "name": "stderr",
     "output_type": "stream",
     "text": [
      "\r",
      "[Stage 139:==============>                                          (1 + 3) / 4]\r",
      "\r",
      "                                                                                \r"
     ]
    }
   ],
   "source": [
    "atributos.groupBy('preferred_foot').agg(F.first('player_api_id').alias('elprimero')).show()"
   ]
  },
  {
   "cell_type": "code",
   "execution_count": 122,
   "metadata": {
    "id": "NcBM3Y21JACP"
   },
   "outputs": [
    {
     "name": "stdout",
     "output_type": "stream",
     "text": [
      "+--------------+-------------------+\n",
      "|preferred_foot|avg(overall_rating)|\n",
      "+--------------+-------------------+\n",
      "|          null|               null|\n",
      "|          left|   68.6261820132788|\n",
      "|         right|  68.59155835241928|\n",
      "+--------------+-------------------+\n",
      "\n"
     ]
    }
   ],
   "source": [
    "atributos.groupBy('preferred_foot').mean('overall_rating').show()"
   ]
  },
  {
   "cell_type": "code",
   "execution_count": 123,
   "metadata": {
    "id": "7VJAniun19DC"
   },
   "outputs": [
    {
     "name": "stdout",
     "output_type": "stream",
     "text": [
      "+--------------+-----------------+\n",
      "|preferred_foot|            media|\n",
      "+--------------+-----------------+\n",
      "|          null|             null|\n",
      "|          left| 68.6261820132788|\n",
      "|         right|68.59155835241928|\n",
      "+--------------+-----------------+\n",
      "\n"
     ]
    }
   ],
   "source": [
    "resultado.groupBy('preferred_foot').mean('overall_rating').withColumnRenamed('avg(overall_rating)','media').show()"
   ]
  },
  {
   "cell_type": "code",
   "execution_count": 124,
   "metadata": {
    "id": "jAlr1INu5kuq"
   },
   "outputs": [
    {
     "name": "stdout",
     "output_type": "stream",
     "text": [
      "+--------------+-------+\n",
      "|preferred_foot|  total|\n",
      "+--------------+-------+\n",
      "|          null|   null|\n",
      "|          left|3069855|\n",
      "|         right|9493689|\n",
      "+--------------+-------+\n",
      "\n",
      "CPU times: user 0 ns, sys: 0 ns, total: 0 ns\n",
      "Wall time: 1.18 s\n"
     ]
    }
   ],
   "source": [
    "%%time\n",
    "resultado.groupBy('preferred_foot').sum('overall_rating').withColumnRenamed('sum(overall_rating)','total').show()"
   ]
  },
  {
   "cell_type": "code",
   "execution_count": 126,
   "metadata": {
    "id": "HrZq7_I2882E"
   },
   "outputs": [],
   "source": [
    "from pyspark.sql.functions import udf\n",
    "@udf\n",
    "def funcioncita (cosa, cosa2):\n",
    "  return xx"
   ]
  },
  {
   "cell_type": "markdown",
   "metadata": {
    "id": "USMfajckDFyi"
   },
   "source": [
    "# SQL "
   ]
  },
  {
   "cell_type": "markdown",
   "metadata": {
    "id": "TFhqhhjb11hA"
   },
   "source": [
    "SPARL SQL es una librería que funciona sobre SPARK Core. Permite gestionar tus datos sobre SPARK como si se tratase de SQL, facilitando la interacción con el usuario.\n",
    "\n",
    "Spark, por defecto, utiliza Apache Hive para guardar todos los metadatos sobre las tablas que se almacenan (hive metastore). Del mismo modo, spark permite crear tablas gestionadas o no gestionadas.\n",
    "\n",
    "Para una tabla gestionada, Spark gestion datos y metadatos en el archivo, que puede ser un sistema de ficheros, HDFS o Storage en GCP. Para una tabla sin gestionar, Spark sólo guarda los metadatos mientras que tú gesitionas esa información.\n",
    "\n",
    "De este modo, si se realiza una operación de creación o borrado en una tabla sin gestionar desde spark, sólo se borraran los metadatos, pero los datos se mantendrán.\n",
    "\n",
    "Esta información se puede gestionar en la configuración de Spark.\n",
    "\n",
    "Del mismo modo, Spark puede crear **vistas** para consultar la información con Spark SQL. Las vistas pueden ser globales o locales a la sesión y desaparecen cuando la sesión de Spark desaparece.\n",
    "\n",
    "En los ejemplos subsiguientes nosotros sólo manejaremos vistas."
   ]
  },
  {
   "cell_type": "code",
   "execution_count": null,
   "metadata": {
    "id": "DZapItJdFG74"
   },
   "outputs": [],
   "source": [
    "from pyspark.sql import SparkSession\n",
    "\n",
    "spark = SparkSession \\\n",
    "    .builder \\\n",
    "    .appName(\"Información de tráfico aéreo\") \\\n",
    "    .getOrCreate()"
   ]
  },
  {
   "cell_type": "code",
   "execution_count": 127,
   "metadata": {
    "id": "ftLTbNymFHsS"
   },
   "outputs": [],
   "source": [
    "airlines = spark.read\\\n",
    "                .format(\"csv\")\\\n",
    "                .option(\"header\", \"true\")\\\n",
    "                .load('airlines.csv')"
   ]
  },
  {
   "cell_type": "code",
   "execution_count": 128,
   "metadata": {
    "id": "bQz_MEtVGeuM"
   },
   "outputs": [
    {
     "data": {
      "text/plain": [
       "DataFrame[Name: string,  IATA: string,  ICAO: string,  Country: string,  Active: string]"
      ]
     },
     "execution_count": 128,
     "metadata": {},
     "output_type": "execute_result"
    }
   ],
   "source": [
    "airlines"
   ]
  },
  {
   "cell_type": "markdown",
   "metadata": {
    "id": "R5G9zsu2hwTq"
   },
   "source": [
    "Las vistas temporales están ligadas a esta sesión y app. Si quisiéramos una vista que estuviera ligada a todas las sesiones, deberíamos seleccionar GlobalTempView"
   ]
  },
  {
   "cell_type": "code",
   "execution_count": 129,
   "metadata": {
    "id": "wb0TNtQxGcxC"
   },
   "outputs": [],
   "source": [
    "airlines.createOrReplaceTempView(\"airlines\")"
   ]
  },
  {
   "cell_type": "code",
   "execution_count": 130,
   "metadata": {
    "id": "C3lOnlbnHVvf"
   },
   "outputs": [
    {
     "data": {
      "text/plain": [
       "DataFrame[Name: string,  IATA: string,  ICAO: string,  Country: string,  Active: string]"
      ]
     },
     "execution_count": 130,
     "metadata": {},
     "output_type": "execute_result"
    }
   ],
   "source": [
    "airlines"
   ]
  },
  {
   "cell_type": "code",
   "execution_count": null,
   "metadata": {
    "id": "6-1bFAmstC6S"
   },
   "outputs": [],
   "source": []
  },
  {
   "cell_type": "code",
   "execution_count": 131,
   "metadata": {
    "colab": {
     "base_uri": "https://localhost:8080/"
    },
    "executionInfo": {
     "elapsed": 208,
     "status": "ok",
     "timestamp": 1645555082965,
     "user": {
      "displayName": "Raul A. del Aguila",
      "photoUrl": "https://lh3.googleusercontent.com/a-/AOh14GhfFNUGPyK9gz8r-RWHTZpe0mOgynVvayaNWIW_6A=s64",
      "userId": "00351547175787129250"
     },
     "user_tz": -60
    },
    "id": "1bkyZDg7HWe3",
    "outputId": "f0cef8af-2a7f-4934-ee07-5e004fe30182"
   },
   "outputs": [
    {
     "data": {
      "text/plain": [
       "['Name', ' IATA', ' ICAO', ' Country', ' Active']"
      ]
     },
     "execution_count": 131,
     "metadata": {},
     "output_type": "execute_result"
    }
   ],
   "source": [
    "airlines = spark.sql(\"SELECT * FROM airlines\")\n",
    "airlines.columns"
   ]
  },
  {
   "cell_type": "code",
   "execution_count": 132,
   "metadata": {
    "colab": {
     "base_uri": "https://localhost:8080/"
    },
    "executionInfo": {
     "elapsed": 3,
     "status": "ok",
     "timestamp": 1645554715973,
     "user": {
      "displayName": "Raul A. del Aguila",
      "photoUrl": "https://lh3.googleusercontent.com/a-/AOh14GhfFNUGPyK9gz8r-RWHTZpe0mOgynVvayaNWIW_6A=s64",
      "userId": "00351547175787129250"
     },
     "user_tz": -60
    },
    "id": "ID8faj1f6yhx",
    "outputId": "34616559-daa1-413c-d49d-cad499ca0ac1"
   },
   "outputs": [
    {
     "data": {
      "text/plain": [
       "pyspark.sql.dataframe.DataFrame"
      ]
     },
     "execution_count": 132,
     "metadata": {},
     "output_type": "execute_result"
    }
   ],
   "source": [
    "type(airlines)"
   ]
  },
  {
   "cell_type": "code",
   "execution_count": 133,
   "metadata": {
    "id": "N1i9TMZfHbrZ"
   },
   "outputs": [
    {
     "name": "stdout",
     "output_type": "stream",
     "text": [
      "+----------+-----+-----+---------+-------+\n",
      "|      Name| IATA| ICAO|  Country| Active|\n",
      "+----------+-----+-----+---------+-------+\n",
      "|Air Asia X|   ZM|  IDX|Indonesia|      Y|\n",
      "+----------+-----+-----+---------+-------+\n",
      "only showing top 1 row\n",
      "\n"
     ]
    }
   ],
   "source": [
    "airlines.show(1)"
   ]
  },
  {
   "cell_type": "code",
   "execution_count": 134,
   "metadata": {
    "id": "tzC767P3HdXe"
   },
   "outputs": [
    {
     "name": "stdout",
     "output_type": "stream",
     "text": [
      "+--------------------+-----+-----+--------------+-------+\n",
      "|                Name| IATA| ICAO|       Country| Active|\n",
      "+--------------------+-----+-----+--------------+-------+\n",
      "|          Air Asia X|   ZM|  IDX|     Indonesia|      Y|\n",
      "|            Alghanim|   ZL|  KYA| United States|      Y|\n",
      "|Norwegian Air Int...|   ZK|  IBK|        Norway|      Y|\n",
      "|Boliviana de Avia...|   ZI|  BOV|       Bolivia|      Y|\n",
      "| AtlasGlobal Ukraine|   ZH|  UJX|       Ukraine|      Y|\n",
      "|           Pouya Air|   ZE|  PYA|          Iran|      Y|\n",
      "|Mann Yadanarpon A...|   ZB|  MYP|         Burma|      Y|\n",
      "|               BA101|   Z9|  710|United Kingdom|      Y|\n",
      "| Fly Africa Zimbabwe|   Z6|  FZW|      Zimbabwe|      Y|\n",
      "|           Jet Suite|   Z4|  RSP| United States|      Y|\n",
      "|FTI Fluggesellschaft|   Z3|  FTI|       Germany|      N|\n",
      "|              Go2Sky|   Z2|  RLX|      Slovakia|      Y|\n",
      "|          Tomsk-Avia|   YT|  TKS|        Russia|      Y|\n",
      "|     Simrik Airlines|   YQ|  RMK|         Nepal|      Y|\n",
      "|      Russkie Krylya|   YO|  KRY|        Russia|      Y|\n",
      "|              FLYJET|   YM|  FYJ|        Poland|      Y|\n",
      "|Comfort Express V...|   YK|  EVC| United States|      Y|\n",
      "|Golden Myanmar Ai...|   YC|  GMR|         Burma|      Y|\n",
      "|Nurnberger Flugdi...|   Y9|  NFD|       Germany|      N|\n",
      "|Eastern Atlantic ...|   Y8|  EDI| United States|      N|\n",
      "+--------------------+-----+-----+--------------+-------+\n",
      "only showing top 20 rows\n",
      "\n"
     ]
    }
   ],
   "source": [
    "airlines.show()"
   ]
  },
  {
   "cell_type": "code",
   "execution_count": 138,
   "metadata": {
    "id": "edRVV_SJHppT"
   },
   "outputs": [],
   "source": [
    "vuelos = spark.read\\\n",
    "                .format(\"csv\")\\\n",
    "                .option(\"header\", \"true\")\\\n",
    "                .load('flights.csv')"
   ]
  },
  {
   "cell_type": "code",
   "execution_count": 139,
   "metadata": {
    "id": "C4FrdiC7Hr89"
   },
   "outputs": [],
   "source": [
    "## Generación de una vista temporal en la sesión sobre una bbdd por defecto\n",
    "\n",
    "vuelos.createOrReplaceTempView(\"vuelos\")\n",
    "vuelos = spark.sql(\"SELECT * FROM vuelos\")"
   ]
  },
  {
   "cell_type": "code",
   "execution_count": 140,
   "metadata": {
    "colab": {
     "base_uri": "https://localhost:8080/"
    },
    "executionInfo": {
     "elapsed": 351,
     "status": "ok",
     "timestamp": 1645555112032,
     "user": {
      "displayName": "Raul A. del Aguila",
      "photoUrl": "https://lh3.googleusercontent.com/a-/AOh14GhfFNUGPyK9gz8r-RWHTZpe0mOgynVvayaNWIW_6A=s64",
      "userId": "00351547175787129250"
     },
     "user_tz": -60
    },
    "id": "5d-ITWy6IgYr",
    "outputId": "0eed5486-5191-4eb7-aa17-7c4c31c409f2"
   },
   "outputs": [
    {
     "name": "stdout",
     "output_type": "stream",
     "text": [
      "+----+-----+----------+---------+-------+----------+-------+----------+-------------+---------+-------+-----------------+--------------+-------+--------+--------+------+----+--------+------+-------+---------+----------------+--------+------------+------------+--------+-------------+-----------------+\n",
      "|Year|Month|DayofMonth|DayOfWeek|DepTime|CRSDepTime|ArrTime|CRSArrTime|UniqueCarrier|FlightNum|TailNum|ActualElapsedTime|CRSElapsedTime|AirTime|ArrDelay|DepDelay|Origin|Dest|Distance|TaxiIn|TaxiOut|Cancelled|CancellationCode|Diverted|CarrierDelay|WeatherDelay|NASDelay|SecurityDelay|LateAircraftDelay|\n",
      "+----+-----+----------+---------+-------+----------+-------+----------+-------------+---------+-------+-----------------+--------------+-------+--------+--------+------+----+--------+------+-------+---------+----------------+--------+------------+------------+--------+-------------+-----------------+\n",
      "|2008|    1|         3|        4|   2003|      1955|   2211|      2225|           WN|      335| N712SW|              128|           150|    116|     -14|       8|   IAD| TPA|     810|     4|      8|        0|            null|       0|          NA|          NA|      NA|           NA|               NA|\n",
      "|2008|    1|         3|        4|    754|       735|   1002|      1000|           WN|     3231| N772SW|              128|           145|    113|       2|      19|   IAD| TPA|     810|     5|     10|        0|            null|       0|          NA|          NA|      NA|           NA|               NA|\n",
      "|2008|    1|         3|        4|    628|       620|    804|       750|           WN|      448| N428WN|               96|            90|     76|      14|       8|   IND| BWI|     515|     3|     17|        0|            null|       0|          NA|          NA|      NA|           NA|               NA|\n",
      "|2008|    1|         3|        4|    926|       930|   1054|      1100|           WN|     1746| N612SW|               88|            90|     78|      -6|      -4|   IND| BWI|     515|     3|      7|        0|            null|       0|          NA|          NA|      NA|           NA|               NA|\n",
      "|2008|    1|         3|        4|   1829|      1755|   1959|      1925|           WN|     3920| N464WN|               90|            90|     77|      34|      34|   IND| BWI|     515|     3|     10|        0|            null|       0|           2|           0|       0|            0|               32|\n",
      "|2008|    1|         3|        4|   1940|      1915|   2121|      2110|           WN|      378| N726SW|              101|           115|     87|      11|      25|   IND| JAX|     688|     4|     10|        0|            null|       0|          NA|          NA|      NA|           NA|               NA|\n",
      "|2008|    1|         3|        4|   1937|      1830|   2037|      1940|           WN|      509| N763SW|              240|           250|    230|      57|      67|   IND| LAS|    1591|     3|      7|        0|            null|       0|          10|           0|       0|            0|               47|\n",
      "|2008|    1|         3|        4|   1039|      1040|   1132|      1150|           WN|      535| N428WN|              233|           250|    219|     -18|      -1|   IND| LAS|    1591|     7|      7|        0|            null|       0|          NA|          NA|      NA|           NA|               NA|\n",
      "|2008|    1|         3|        4|    617|       615|    652|       650|           WN|       11| N689SW|               95|            95|     70|       2|       2|   IND| MCI|     451|     6|     19|        0|            null|       0|          NA|          NA|      NA|           NA|               NA|\n",
      "|2008|    1|         3|        4|   1620|      1620|   1639|      1655|           WN|      810| N648SW|               79|            95|     70|     -16|       0|   IND| MCI|     451|     3|      6|        0|            null|       0|          NA|          NA|      NA|           NA|               NA|\n",
      "|2008|    1|         3|        4|    706|       700|    916|       915|           WN|      100| N690SW|              130|           135|    106|       1|       6|   IND| MCO|     828|     5|     19|        0|            null|       0|          NA|          NA|      NA|           NA|               NA|\n",
      "|2008|    1|         3|        4|   1644|      1510|   1845|      1725|           WN|     1333| N334SW|              121|           135|    107|      80|      94|   IND| MCO|     828|     6|      8|        0|            null|       0|           8|           0|       0|            0|               72|\n",
      "|2008|    1|         3|        4|   1426|      1430|   1426|      1425|           WN|      829| N476WN|               60|            55|     39|       1|      -4|   IND| MDW|     162|     9|     12|        0|            null|       0|          NA|          NA|      NA|           NA|               NA|\n",
      "|2008|    1|         3|        4|    715|       715|    720|       710|           WN|     1016| N765SW|               65|            55|     37|      10|       0|   IND| MDW|     162|     7|     21|        0|            null|       0|          NA|          NA|      NA|           NA|               NA|\n",
      "|2008|    1|         3|        4|   1702|      1700|   1651|      1655|           WN|     1827| N420WN|               49|            55|     35|      -4|       2|   IND| MDW|     162|     4|     10|        0|            null|       0|          NA|          NA|      NA|           NA|               NA|\n",
      "|2008|    1|         3|        4|   1029|      1020|   1021|      1010|           WN|     2272| N263WN|               52|            50|     37|      11|       9|   IND| MDW|     162|     6|      9|        0|            null|       0|          NA|          NA|      NA|           NA|               NA|\n",
      "|2008|    1|         3|        4|   1452|      1425|   1640|      1625|           WN|      675| N286WN|              228|           240|    213|      15|      27|   IND| PHX|    1489|     7|      8|        0|            null|       0|           3|           0|       0|            0|               12|\n",
      "|2008|    1|         3|        4|    754|       745|    940|       955|           WN|     1144| N778SW|              226|           250|    205|     -15|       9|   IND| PHX|    1489|     5|     16|        0|            null|       0|          NA|          NA|      NA|           NA|               NA|\n",
      "|2008|    1|         3|        4|   1323|      1255|   1526|      1510|           WN|        4| N674AA|              123|           135|    110|      16|      28|   IND| TPA|     838|     4|      9|        0|            null|       0|           0|           0|       0|            0|               16|\n",
      "|2008|    1|         3|        4|   1416|      1325|   1512|      1435|           WN|       54| N643SW|               56|            70|     49|      37|      51|   ISP| BWI|     220|     2|      5|        0|            null|       0|          12|           0|       0|            0|               25|\n",
      "+----+-----+----------+---------+-------+----------+-------+----------+-------------+---------+-------+-----------------+--------------+-------+--------+--------+------+----+--------+------+-------+---------+----------------+--------+------------+------------+--------+-------------+-----------------+\n",
      "only showing top 20 rows\n",
      "\n"
     ]
    }
   ],
   "source": [
    "vuelos.show()"
   ]
  },
  {
   "cell_type": "code",
   "execution_count": 141,
   "metadata": {
    "colab": {
     "base_uri": "https://localhost:8080/"
    },
    "executionInfo": {
     "elapsed": 505,
     "status": "ok",
     "timestamp": 1645555113871,
     "user": {
      "displayName": "Raul A. del Aguila",
      "photoUrl": "https://lh3.googleusercontent.com/a-/AOh14GhfFNUGPyK9gz8r-RWHTZpe0mOgynVvayaNWIW_6A=s64",
      "userId": "00351547175787129250"
     },
     "user_tz": -60
    },
    "id": "bXXMvR-GInJU",
    "outputId": "454412e8-7712-49dc-f9a3-4e597f130320"
   },
   "outputs": [
    {
     "data": {
      "text/plain": [
       "100000"
      ]
     },
     "execution_count": 141,
     "metadata": {},
     "output_type": "execute_result"
    }
   ],
   "source": [
    "vuelos.count()"
   ]
  },
  {
   "cell_type": "code",
   "execution_count": 142,
   "metadata": {
    "colab": {
     "base_uri": "https://localhost:8080/"
    },
    "executionInfo": {
     "elapsed": 482,
     "status": "ok",
     "timestamp": 1645555115360,
     "user": {
      "displayName": "Raul A. del Aguila",
      "photoUrl": "https://lh3.googleusercontent.com/a-/AOh14GhfFNUGPyK9gz8r-RWHTZpe0mOgynVvayaNWIW_6A=s64",
      "userId": "00351547175787129250"
     },
     "user_tz": -60
    },
    "id": "g3qvwqV9JEAi",
    "outputId": "94e242ee-31ee-4864-a3ad-2722bf0bb851"
   },
   "outputs": [
    {
     "name": "stdout",
     "output_type": "stream",
     "text": [
      "+---------+\n",
      "|registros|\n",
      "+---------+\n",
      "|   100000|\n",
      "+---------+\n",
      "\n"
     ]
    }
   ],
   "source": [
    "spark.sql(\"select count(*) as registros from vuelos\").show()"
   ]
  },
  {
   "cell_type": "code",
   "execution_count": 143,
   "metadata": {
    "colab": {
     "base_uri": "https://localhost:8080/"
    },
    "executionInfo": {
     "elapsed": 1361,
     "status": "ok",
     "timestamp": 1645555121477,
     "user": {
      "displayName": "Raul A. del Aguila",
      "photoUrl": "https://lh3.googleusercontent.com/a-/AOh14GhfFNUGPyK9gz8r-RWHTZpe0mOgynVvayaNWIW_6A=s64",
      "userId": "00351547175787129250"
     },
     "user_tz": -60
    },
    "id": "RzlgHERUJHr4",
    "outputId": "3dea4caf-cfff-4ac6-e366-e10fc6695b6b"
   },
   "outputs": [
    {
     "name": "stderr",
     "output_type": "stream",
     "text": [
      "\r",
      "[Stage 166:===================>                                     (1 + 2) / 3]\r"
     ]
    },
    {
     "name": "stdout",
     "output_type": "stream",
     "text": [
      "+---------------+\n",
      "|distancia_total|\n",
      "+---------------+\n",
      "|    6.3058632E7|\n",
      "+---------------+\n",
      "\n"
     ]
    },
    {
     "name": "stderr",
     "output_type": "stream",
     "text": [
      "\r",
      "                                                                                \r"
     ]
    }
   ],
   "source": [
    "spark.sql(\"select sum(distance) as distancia_total from vuelos\").show()"
   ]
  },
  {
   "cell_type": "code",
   "execution_count": 144,
   "metadata": {
    "id": "aNsrRLnFJmsD"
   },
   "outputs": [],
   "source": [
    "\n",
    "\n",
    "total_distance_df = spark.sql(\"SELECT distance FROM vuelos\")\\\n",
    "                         .agg({\"distance\":\"sum\"})\\\n",
    "                         .withColumnRenamed(\"sum(distance)\",\"distancia_total\")"
   ]
  },
  {
   "cell_type": "code",
   "execution_count": 145,
   "metadata": {
    "colab": {
     "base_uri": "https://localhost:8080/"
    },
    "executionInfo": {
     "elapsed": 1346,
     "status": "ok",
     "timestamp": 1645555127418,
     "user": {
      "displayName": "Raul A. del Aguila",
      "photoUrl": "https://lh3.googleusercontent.com/a-/AOh14GhfFNUGPyK9gz8r-RWHTZpe0mOgynVvayaNWIW_6A=s64",
      "userId": "00351547175787129250"
     },
     "user_tz": -60
    },
    "id": "DHitRiPEJyAP",
    "outputId": "94fd1a21-a806-42ee-9da6-93c26a3ef355"
   },
   "outputs": [
    {
     "name": "stdout",
     "output_type": "stream",
     "text": [
      "+---------------+\n",
      "|distancia_total|\n",
      "+---------------+\n",
      "|    6.3058632E7|\n",
      "+---------------+\n",
      "\n"
     ]
    }
   ],
   "source": [
    "total_distance_df.show()"
   ]
  },
  {
   "cell_type": "code",
   "execution_count": 149,
   "metadata": {
    "colab": {
     "base_uri": "https://localhost:8080/"
    },
    "executionInfo": {
     "elapsed": 1544,
     "status": "ok",
     "timestamp": 1645555205579,
     "user": {
      "displayName": "Raul A. del Aguila",
      "photoUrl": "https://lh3.googleusercontent.com/a-/AOh14GhfFNUGPyK9gz8r-RWHTZpe0mOgynVvayaNWIW_6A=s64",
      "userId": "00351547175787129250"
     },
     "user_tz": -60
    },
    "id": "5HeJQf68JzV-",
    "outputId": "40c2c6ed-d00e-4605-8788-d76fd4d45433"
   },
   "outputs": [
    {
     "name": "stderr",
     "output_type": "stream",
     "text": [
      "\r",
      "[Stage 172:>                                                        (0 + 3) / 3]\r"
     ]
    },
    {
     "name": "stdout",
     "output_type": "stream",
     "text": [
      "+----+------------------+\n",
      "|dest|           retraso|\n",
      "+----+------------------+\n",
      "| SAV|              43.0|\n",
      "| SFO| 36.82403433476395|\n",
      "| ROC|              28.0|\n",
      "| IAH|24.692307692307693|\n",
      "| GSO|              22.5|\n",
      "| BFL|21.333333333333332|\n",
      "| MYR|              20.0|\n",
      "| RIC|              19.0|\n",
      "| SLC|  15.5960219478738|\n",
      "| EWR|13.777777777777779|\n",
      "| RNO| 13.55028157683025|\n",
      "| OKC|13.497635933806146|\n",
      "| PDX| 13.47018150388937|\n",
      "| LAS|13.395097007068733|\n",
      "| MRY|13.311926605504587|\n",
      "| IAD|13.186274509803921|\n",
      "| LAX|13.084322678843227|\n",
      "| TUS| 12.71103896103896|\n",
      "| DEN|12.643714466203411|\n",
      "| BOI| 12.56043956043956|\n",
      "+----+------------------+\n",
      "only showing top 20 rows\n",
      "\n"
     ]
    },
    {
     "name": "stderr",
     "output_type": "stream",
     "text": [
      "\r",
      "[Stage 172:======================================>                  (2 + 1) / 3]\r",
      "\r",
      "                                                                                \r"
     ]
    }
   ],
   "source": [
    "spark.sql (\"select dest, avg(DepDelay) as retraso from vuelos group by dest order by 2 desc \").show()"
   ]
  },
  {
   "cell_type": "code",
   "execution_count": null,
   "metadata": {
    "id": "C_yAgIByMd2Q"
   },
   "outputs": [],
   "source": []
  },
  {
   "cell_type": "markdown",
   "metadata": {
    "id": "HzOfDpk_im-B"
   },
   "source": []
  }
 ],
 "metadata": {
  "colab": {
   "collapsed_sections": [
    "gkGJJVgXBwMa",
    "dR8zYmIBpf-g",
    "jDjudzcbpoTu"
   ],
   "provenance": [
    {
     "file_id": "16hJFybD-Ysu5SnyoCV1wrWtYRrYeVdg8",
     "timestamp": 1677222478367
    },
    {
     "file_id": "14DzoHMFykMBhGCcRNd98mKnojFBeA0Ty",
     "timestamp": 1676459141092
    },
    {
     "file_id": "1Aj8EkEz1oOEv721bynvbQa7lapVMaAbU",
     "timestamp": 1636381852914
    },
    {
     "file_id": "https://github.com/JoseRZapata/JoseRZapata.github.io/blob/master/Jupyter_Notebook/Pyspark_Colab_es.ipynb",
     "timestamp": 1636142843729
    }
   ],
   "toc_visible": true
  },
  "kernelspec": {
   "display_name": "Python 3 (ipykernel)",
   "language": "python",
   "name": "python3"
  },
  "language_info": {
   "codemirror_mode": {
    "name": "ipython",
    "version": 3
   },
   "file_extension": ".py",
   "mimetype": "text/x-python",
   "name": "python",
   "nbconvert_exporter": "python",
   "pygments_lexer": "ipython3",
   "version": "3.10.12"
  }
 },
 "nbformat": 4,
 "nbformat_minor": 1
}
