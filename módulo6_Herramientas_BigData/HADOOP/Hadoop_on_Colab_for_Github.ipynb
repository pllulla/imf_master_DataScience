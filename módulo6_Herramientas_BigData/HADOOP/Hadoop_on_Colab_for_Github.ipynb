{
  "nbformat": 4,
  "nbformat_minor": 0,
  "metadata": {
    "colab": {
      "provenance": []
    },
    "kernelspec": {
      "name": "python3",
      "display_name": "Python 3"
    },
    "language_info": {
      "name": "python"
    }
  },
  "cells": [
    {
      "cell_type": "markdown",
      "source": [
        "#Hadoop on Colab"
      ],
      "metadata": {
        "id": "2aZnBPqcrsqr"
      }
    },
    {
      "cell_type": "markdown",
      "source": [
        "Content:\n",
        "\n",
        "1.   [Installing Java 8](#scrollTo=Kxt9UbTArwTC)\n",
        "2.   [Installing Secure Shell Server (SSHD)](#scrollTo=E1_rIFHNb1zk)\n",
        "3.   [Installing Hadoop 3.2.3](#scrollTo=qCeL0IBlrnoF)\n",
        "4.   [Running Hadoop in standalone mode](#scrollTo=xyNhcphwU326)\n",
        "5.   [Running Hadoop in Pseudo-distributed mode](#scrollTo=lEWV2YjJmR78)"
      ],
      "metadata": {
        "id": "E1_rIFHNb1zk"
      }
    },
    {
      "cell_type": "markdown",
      "source": [
        "##Introduction"
      ],
      "metadata": {
        "id": "uEg1qPOoyAvp"
      }
    },
    {
      "cell_type": "markdown",
      "source": [
        "Hadoop is an open-source framework which is mainly used for storage purposes and maintaining and analyzing a large amount of data or datasets on the clusters of commodity hardware, which means it is actually a data management tool."
      ],
      "metadata": {
        "id": "aHBU-XQgO30O"
      }
    },
    {
      "cell_type": "markdown",
      "source": [
        "Hadoop mainly works on 3 different modes:\n",
        "\n",
        "*   Standalone Mode\n",
        "*   Pseudo-distributed Mode\n",
        "*   Fully-distributed Mode\n"
      ],
      "metadata": {
        "id": "zfwqfBB6O7cu"
      }
    },
    {
      "cell_type": "markdown",
      "source": [
        "**Standalone Mode**\n",
        "\n",
        "By default, Hadoop is configured to run in a non distributed mode. It runs as a single Java process. Instead of HDFS, this mode utilizes the local file system. This mode is useful for debugging and there isn't any need to configure core-site.xml, hdfs-site.xml, mapred-site.xml, masters & slaves. Stand-alone mode is usually the fastest mode in Hadoop.\n",
        "\n",
        "**Pseudo-distributed Mode**\n",
        "\n",
        "Hadoop can also run on a single node in a Pseudo-distributed mode. In this mode, each daemon runs on separate java processes. In this mode custom configuration is required (core-site.xml, hdfs-site.xml, mapred-site.xml). Here HDFS is utilized for input and output. This mode of deployment is useful for testing and debugging purposes.\n",
        "\n",
        "**Fully-distributed Mode**\n",
        "\n",
        "This is the production mode of Hadoop. In this mode typically one machine in the cluster is designated as NameNode and another as Resource Manager exclusively. These are masters. All other nodes act as Data Node and Node Manager. These are the slaves. Configuration parameters and environment need to be specified for Hadoop Daemons."
      ],
      "metadata": {
        "id": "saGpmRDDQoAX"
      }
    },
    {
      "cell_type": "markdown",
      "source": [
        "##Installing Java 8"
      ],
      "metadata": {
        "id": "Kxt9UbTArwTC"
      }
    },
    {
      "cell_type": "markdown",
      "source": [
        "Hadoop is a java programming-based data processing framework\n",
        "\n",
        "OpenJDK is a development environment for building applications, applets, and components using the Java programming language."
      ],
      "metadata": {
        "id": "eXp-IUxoGXEH"
      }
    },
    {
      "cell_type": "code",
      "source": [
        "#Checking the installed Java version\n",
        "!java -version"
      ],
      "metadata": {
        "colab": {
          "base_uri": "https://localhost:8080/"
        },
        "id": "zwH_9BC1ZIET",
        "outputId": "c7973f82-39c6-47ce-ea9c-abc0a3af7cac"
      },
      "execution_count": null,
      "outputs": [
        {
          "output_type": "stream",
          "name": "stdout",
          "text": [
            "openjdk version \"11.0.20.1\" 2023-08-24\n",
            "OpenJDK Runtime Environment (build 11.0.20.1+1-post-Ubuntu-0ubuntu122.04)\n",
            "OpenJDK 64-Bit Server VM (build 11.0.20.1+1-post-Ubuntu-0ubuntu122.04, mixed mode, sharing)\n"
          ]
        }
      ]
    },
    {
      "cell_type": "markdown",
      "source": [
        "Creating Java related environment variables"
      ],
      "metadata": {
        "id": "K4xYHnO72Gwo"
      }
    },
    {
      "cell_type": "markdown",
      "source": [
        "The JAVA_HOME is an operating system environment variable points to the file system location where the JDK or JRE was installed."
      ],
      "metadata": {
        "id": "vBzOrjQ3nRlI"
      }
    },
    {
      "cell_type": "code",
      "source": [
        "#Finding the default Java path\n",
        "!readlink -f /usr/bin/java | sed \"s:bin/java::\""
      ],
      "metadata": {
        "id": "kXFJVGrIdYbW",
        "colab": {
          "base_uri": "https://localhost:8080/"
        },
        "outputId": "7c761ed1-ebfb-4946-b013-896168b86075"
      },
      "execution_count": null,
      "outputs": [
        {
          "output_type": "stream",
          "name": "stdout",
          "text": [
            "/usr/lib/jvm/java-11-openjdk-amd64/\n"
          ]
        }
      ]
    },
    {
      "cell_type": "code",
      "source": [
        "#Importing os module\n",
        "import os\n",
        "#Creating environment variables\n",
        "os.environ[\"JAVA_HOME\"] = \"/usr/lib/jvm/java-11-openjdk-amd64/\"\n",
        "os.environ[\"JRE_HOME\"] = \"/usr/lib/jvm/java-11-openjdk-amd64//jre\"\n",
        "os.environ[\"PATH\"] += \":$JAVA_HOME/bin:$JRE_HOME/bin:$HADOOP_HOME/bin:$HADOOP_HOME/sbin\""
      ],
      "metadata": {
        "id": "0am0Ybf6cyvX"
      },
      "execution_count": null,
      "outputs": []
    },
    {
      "cell_type": "markdown",
      "source": [
        "## Installing Secure Shell Server (SSHD)"
      ],
      "metadata": {
        "id": "KRWvrIpCr3-A"
      }
    },
    {
      "cell_type": "markdown",
      "source": [
        "We need to define a means for the master node to remotely access every node in our cluster.\n",
        "\n",
        "Hadoop uses passphrases SSH for the communication between the nodes."
      ],
      "metadata": {
        "id": "P2-dYIkaBb2d"
      }
    },
    {
      "cell_type": "markdown",
      "source": [
        "SSH is a cryptographic network protocol for operating network services securely over an unsecured network.\n",
        "\n",
        "SSH utilizes standard public key criptography to create a pair of keys for user verification: one public and one private."
      ],
      "metadata": {
        "id": "F26UBlxmCe0f"
      }
    },
    {
      "cell_type": "code",
      "source": [
        "#It is good practice to purge before installation\n",
        "!apt-get purge openssh-server -qq"
      ],
      "metadata": {
        "id": "akOe9EEDsc0u"
      },
      "execution_count": null,
      "outputs": []
    },
    {
      "cell_type": "code",
      "source": [
        "\n",
        "#Installing openssh-server\n",
        "!apt-get install openssh-server -qq > /dev/null"
      ],
      "metadata": {
        "id": "3TR6IHVTsqYJ"
      },
      "execution_count": null,
      "outputs": []
    },
    {
      "cell_type": "code",
      "source": [
        "#Starting the server\n",
        "!service ssh start"
      ],
      "metadata": {
        "colab": {
          "base_uri": "https://localhost:8080/"
        },
        "id": "BSAhIFipdEg-",
        "outputId": "51d856cb-8e5c-4e9d-f9e1-9e5ec2b49b50"
      },
      "execution_count": null,
      "outputs": [
        {
          "output_type": "stream",
          "name": "stdout",
          "text": [
            " * Starting OpenBSD Secure Shell server sshd\n",
            "   ...done.\n"
          ]
        }
      ]
    },
    {
      "cell_type": "markdown",
      "source": [
        "The port number for SSH is 22 by default"
      ],
      "metadata": {
        "id": "qLGhrALUJBHb"
      }
    },
    {
      "cell_type": "code",
      "source": [
        "!grep Port /etc/ssh/sshd_config"
      ],
      "metadata": {
        "colab": {
          "base_uri": "https://localhost:8080/"
        },
        "id": "KLChmkJQSph0",
        "outputId": "388e5bc1-afdc-4fac-be42-7dceeb836dfb"
      },
      "execution_count": null,
      "outputs": [
        {
          "output_type": "stream",
          "name": "stdout",
          "text": [
            "#Port 22\n",
            "#GatewayPorts no\n"
          ]
        }
      ]
    },
    {
      "cell_type": "markdown",
      "source": [
        "The pseudo distributed mode is special case of fully the distributed mode, in which the single host is localhost (our machine). We need to make sure that to access to localhost and login we do not need to enter a password. Therefore, SSH needs to be set up to allow passwordless login for the Hadoop user. The simplest way to achive this is to generate a public-private key pair."
      ],
      "metadata": {
        "id": "uEVnYmY4Dk3b"
      }
    },
    {
      "cell_type": "code",
      "source": [
        "#Creating a new rsa key pair with empty password\n",
        "!ssh-keygen -t rsa -P \"\" -f ~/.ssh/id_rsa"
      ],
      "metadata": {
        "colab": {
          "base_uri": "https://localhost:8080/"
        },
        "id": "GrVaVZ--s32h",
        "outputId": "74bafdba-c146-42a0-98f9-4950122b60f0"
      },
      "execution_count": null,
      "outputs": [
        {
          "output_type": "stream",
          "name": "stdout",
          "text": [
            "Generating public/private rsa key pair.\n",
            "Created directory '/root/.ssh'.\n",
            "Your identification has been saved in /root/.ssh/id_rsa\n",
            "Your public key has been saved in /root/.ssh/id_rsa.pub\n",
            "The key fingerprint is:\n",
            "SHA256:JZPwD4YLjMfplIY59Pxx0KS96TM9aMGd0oz8A1cauFI root@1326dc238f5b\n",
            "The key's randomart image is:\n",
            "+---[RSA 3072]----+\n",
            "|  .   oo.        |\n",
            "| . O o B.o       |\n",
            "|  = % + E o .    |\n",
            "|   * o O # =     |\n",
            "|    . + S O      |\n",
            "|       o O       |\n",
            "|        * =      |\n",
            "|       . o o     |\n",
            "|                 |\n",
            "+----[SHA256]-----+\n"
          ]
        }
      ]
    },
    {
      "cell_type": "code",
      "source": [
        "#Showing the public key\n",
        "!more /root/.ssh/id_rsa.pub"
      ],
      "metadata": {
        "id": "EaMOu0NJta2N",
        "outputId": "85a2c803-09a7-47a5-8805-864fbf1bf3a7",
        "colab": {
          "base_uri": "https://localhost:8080/"
        }
      },
      "execution_count": null,
      "outputs": [
        {
          "output_type": "stream",
          "name": "stdout",
          "text": [
            "ssh-rsa AAAAB3NzaC1yc2EAAAADAQABAAABgQDTNUhc6HzaJ9o7kd1ZruS1S+xMTyw39HyppGP5dOcU\n",
            "/fja94TTkxWCbWXbk52NkgecHVgyrX8Ic9tHCsnYFM6fwtAaTh6fxYD6nQYZnqfkzq3iSLSaoDKN6uKR\n",
            "ah4Kk6P8cj0Qw+3TLO7Ly+ostdPC+pI7fWQSdGTUkvHNdrxbRD9OW5sS9zOFRnht9C3W/smxj3yvS3uX\n",
            "VbB9gu5pvr5n8rFXhurENLccKXJ0PCKrBmE/Ga4drzDK9UFq+jgOBrbqWpTLv5CRSPhpaqVoPD0aoAmG\n",
            "wBBxsxI49SR8VoxUoEuuaGh8Q9Wk7ocwXdA33xtduSKDITZAl/YOUDVqLqAOGP1KZGJ9NyMwuOydu+rn\n",
            "mc58wrb47RF5FmgvU/WUEZQln0bspq4mwZjBTTBuc8F22ETuCLpShtQCnPY02vpJTWPwIHqM99yVW8j9\n",
            "WSRzwivMpHVbV66enzQN1Lk8Ad7t9Q6e7pEDQMA7LGtus0X8c2/VZ+Y8tuTwqLFqWoMmXM0= root@13\n",
            "26dc238f5b\n"
          ]
        }
      ]
    },
    {
      "cell_type": "code",
      "source": [
        "#Copying the key to autorized keys\n",
        "!cat $HOME/.ssh/id_rsa.pub>>$HOME/.ssh/authorized_keys\n",
        "#Changing the permissions on the key\n",
        "!chmod 0600 ~/.ssh/authorized_keys"
      ],
      "metadata": {
        "id": "s3pLGo6utsNC"
      },
      "execution_count": null,
      "outputs": []
    },
    {
      "cell_type": "code",
      "source": [
        "#Conneting with the local machine\n",
        "!ssh -o StrictHostKeyChecking=no localhost uptime"
      ],
      "metadata": {
        "colab": {
          "base_uri": "https://localhost:8080/"
        },
        "id": "qz7fc93DaX7Z",
        "outputId": "49f40d59-1476-49cf-b454-c1b5a8b6ad57"
      },
      "execution_count": null,
      "outputs": [
        {
          "output_type": "stream",
          "name": "stdout",
          "text": [
            "Warning: Permanently added 'localhost' (ED25519) to the list of known hosts.\r\n",
            " 17:55:28 up 9 min,  0 users,  load average: 0.80, 0.43, 0.24\n"
          ]
        }
      ]
    },
    {
      "cell_type": "markdown",
      "source": [
        "## Installing Hadoop 3.3.4"
      ],
      "metadata": {
        "id": "qCeL0IBlrnoF"
      }
    },
    {
      "cell_type": "code",
      "source": [
        "#Downloading Hadoop 3.3.4\n",
        "!wget -q https://dlcdn.apache.org/hadoop/common/hadoop-3.3.4/hadoop-3.3.4.tar.gz"
      ],
      "metadata": {
        "id": "t6w9exw9c11y"
      },
      "execution_count": null,
      "outputs": []
    },
    {
      "cell_type": "code",
      "source": [
        "#Untarring the file\n",
        "!sudo tar -xzf hadoop-3.3.4.tar.gz\n",
        "#Removing the tar file\n",
        "#rm hadoop-3.2.3.tar.gz"
      ],
      "metadata": {
        "id": "Ngsl1XNPdOP0"
      },
      "execution_count": null,
      "outputs": []
    },
    {
      "cell_type": "markdown",
      "source": [
        "Standard location to install Hadoop are\n",
        "\n",
        "*   /usr/local\n",
        "*   /opt"
      ],
      "metadata": {
        "id": "PmoGNehEKW_X"
      }
    },
    {
      "cell_type": "code",
      "source": [
        "#Copying the hadoop files to user/local\n",
        "!cp -r hadoop-3.3.4/ /usr/local/\n",
        "#-r copy directories recursively"
      ],
      "metadata": {
        "id": "bb1_Uve9dUX1"
      },
      "execution_count": null,
      "outputs": []
    },
    {
      "cell_type": "code",
      "source": [
        "#Exploring hadoop-3.2.3/etc/hadoop directory\n",
        "!ls /usr/local/hadoop-3.3.4/etc/hadoop\n",
        "#we can see various configuration files of hadoop"
      ],
      "metadata": {
        "id": "YJqjMBenAqWf",
        "colab": {
          "base_uri": "https://localhost:8080/"
        },
        "outputId": "420ff67f-3b41-4b1c-ce4f-1ff6de81f985"
      },
      "execution_count": null,
      "outputs": [
        {
          "output_type": "stream",
          "name": "stdout",
          "text": [
            "capacity-scheduler.xml\t\t  kms-log4j.properties\n",
            "configuration.xsl\t\t  kms-site.xml\n",
            "container-executor.cfg\t\t  log4j.properties\n",
            "core-site.xml\t\t\t  mapred-env.cmd\n",
            "hadoop-env.cmd\t\t\t  mapred-env.sh\n",
            "hadoop-env.sh\t\t\t  mapred-queues.xml.template\n",
            "hadoop-metrics2.properties\t  mapred-site.xml\n",
            "hadoop-policy.xml\t\t  shellprofile.d\n",
            "hadoop-user-functions.sh.example  ssl-client.xml.example\n",
            "hdfs-rbf-site.xml\t\t  ssl-server.xml.example\n",
            "hdfs-site.xml\t\t\t  user_ec_policies.xml.template\n",
            "httpfs-env.sh\t\t\t  workers\n",
            "httpfs-log4j.properties\t\t  yarn-env.cmd\n",
            "httpfs-site.xml\t\t\t  yarn-env.sh\n",
            "kms-acls.xml\t\t\t  yarnservice-log4j.properties\n",
            "kms-env.sh\t\t\t  yarn-site.xml\n"
          ]
        }
      ]
    },
    {
      "cell_type": "markdown",
      "source": [
        "We need to configure a few things before running Hadoop. That is, we need to either add or modify few parameters in these configuration files to operate Hadoop in whichever mode we want to."
      ],
      "metadata": {
        "id": "cx80yeBMBUDT"
      }
    },
    {
      "cell_type": "markdown",
      "source": [
        "Configuring hadoop-env.sh file"
      ],
      "metadata": {
        "id": "0mFNgy1--JYr"
      }
    },
    {
      "cell_type": "markdown",
      "source": [
        "hadoop-env.sh is a bash script that containts environment variables that are used in the scripts to run Hadoop"
      ],
      "metadata": {
        "id": "hLjfw00rCIFq"
      }
    },
    {
      "cell_type": "code",
      "source": [
        "#Exploring hadoop-env.sh file\n",
        "!cat /usr/local/hadoop-3.3.4/etc/hadoop/hadoop-env.sh"
      ],
      "metadata": {
        "id": "-JiNs3H7FrmI",
        "colab": {
          "base_uri": "https://localhost:8080/"
        },
        "outputId": "df680714-d6e5-4393-e7a5-2a5cc004eaff"
      },
      "execution_count": null,
      "outputs": [
        {
          "output_type": "stream",
          "name": "stdout",
          "text": [
            "#\n",
            "# Licensed to the Apache Software Foundation (ASF) under one\n",
            "# or more contributor license agreements.  See the NOTICE file\n",
            "# distributed with this work for additional information\n",
            "# regarding copyright ownership.  The ASF licenses this file\n",
            "# to you under the Apache License, Version 2.0 (the\n",
            "# \"License\"); you may not use this file except in compliance\n",
            "# with the License.  You may obtain a copy of the License at\n",
            "#\n",
            "#     http://www.apache.org/licenses/LICENSE-2.0\n",
            "#\n",
            "# Unless required by applicable law or agreed to in writing, software\n",
            "# distributed under the License is distributed on an \"AS IS\" BASIS,\n",
            "# WITHOUT WARRANTIES OR CONDITIONS OF ANY KIND, either express or implied.\n",
            "# See the License for the specific language governing permissions and\n",
            "# limitations under the License.\n",
            "\n",
            "# Set Hadoop-specific environment variables here.\n",
            "\n",
            "##\n",
            "## THIS FILE ACTS AS THE MASTER FILE FOR ALL HADOOP PROJECTS.\n",
            "## SETTINGS HERE WILL BE READ BY ALL HADOOP COMMANDS.  THEREFORE,\n",
            "## ONE CAN USE THIS FILE TO SET YARN, HDFS, AND MAPREDUCE\n",
            "## CONFIGURATION OPTIONS INSTEAD OF xxx-env.sh.\n",
            "##\n",
            "## Precedence rules:\n",
            "##\n",
            "## {yarn-env.sh|hdfs-env.sh} > hadoop-env.sh > hard-coded defaults\n",
            "##\n",
            "## {YARN_xyz|HDFS_xyz} > HADOOP_xyz > hard-coded defaults\n",
            "##\n",
            "\n",
            "# Many of the options here are built from the perspective that users\n",
            "# may want to provide OVERWRITING values on the command line.\n",
            "# For example:\n",
            "#\n",
            "#  JAVA_HOME=/usr/java/testing hdfs dfs -ls\n",
            "#\n",
            "# Therefore, the vast majority (BUT NOT ALL!) of these defaults\n",
            "# are configured for substitution and not append.  If append\n",
            "# is preferable, modify this file accordingly.\n",
            "\n",
            "###\n",
            "# Generic settings for HADOOP\n",
            "###\n",
            "\n",
            "# Technically, the only required environment variable is JAVA_HOME.\n",
            "# All others are optional.  However, the defaults are probably not\n",
            "# preferred.  Many sites configure these options outside of Hadoop,\n",
            "# such as in /etc/profile.d\n",
            "\n",
            "# The java implementation to use. By default, this environment\n",
            "# variable is REQUIRED on ALL platforms except OS X!\n",
            "# export JAVA_HOME=\n",
            "\n",
            "# Location of Hadoop.  By default, Hadoop will attempt to determine\n",
            "# this location based upon its execution path.\n",
            "# export HADOOP_HOME=\n",
            "\n",
            "# Location of Hadoop's configuration information.  i.e., where this\n",
            "# file is living. If this is not defined, Hadoop will attempt to\n",
            "# locate it based upon its execution path.\n",
            "#\n",
            "# NOTE: It is recommend that this variable not be set here but in\n",
            "# /etc/profile.d or equivalent.  Some options (such as\n",
            "# --config) may react strangely otherwise.\n",
            "#\n",
            "# export HADOOP_CONF_DIR=${HADOOP_HOME}/etc/hadoop\n",
            "\n",
            "# The maximum amount of heap to use (Java -Xmx).  If no unit\n",
            "# is provided, it will be converted to MB.  Daemons will\n",
            "# prefer any Xmx setting in their respective _OPT variable.\n",
            "# There is no default; the JVM will autoscale based upon machine\n",
            "# memory size.\n",
            "# export HADOOP_HEAPSIZE_MAX=\n",
            "\n",
            "# The minimum amount of heap to use (Java -Xms).  If no unit\n",
            "# is provided, it will be converted to MB.  Daemons will\n",
            "# prefer any Xms setting in their respective _OPT variable.\n",
            "# There is no default; the JVM will autoscale based upon machine\n",
            "# memory size.\n",
            "# export HADOOP_HEAPSIZE_MIN=\n",
            "\n",
            "# Enable extra debugging of Hadoop's JAAS binding, used to set up\n",
            "# Kerberos security.\n",
            "# export HADOOP_JAAS_DEBUG=true\n",
            "\n",
            "# Extra Java runtime options for all Hadoop commands. We don't support\n",
            "# IPv6 yet/still, so by default the preference is set to IPv4.\n",
            "# export HADOOP_OPTS=\"-Djava.net.preferIPv4Stack=true\"\n",
            "# For Kerberos debugging, an extended option set logs more information\n",
            "# export HADOOP_OPTS=\"-Djava.net.preferIPv4Stack=true -Dsun.security.krb5.debug=true -Dsun.security.spnego.debug\"\n",
            "\n",
            "# Some parts of the shell code may do special things dependent upon\n",
            "# the operating system.  We have to set this here. See the next\n",
            "# section as to why....\n",
            "export HADOOP_OS_TYPE=${HADOOP_OS_TYPE:-$(uname -s)}\n",
            "\n",
            "# Extra Java runtime options for some Hadoop commands\n",
            "# and clients (i.e., hdfs dfs -blah).  These get appended to HADOOP_OPTS for\n",
            "# such commands.  In most cases, # this should be left empty and\n",
            "# let users supply it on the command line.\n",
            "# export HADOOP_CLIENT_OPTS=\"\"\n",
            "\n",
            "#\n",
            "# A note about classpaths.\n",
            "#\n",
            "# By default, Apache Hadoop overrides Java's CLASSPATH\n",
            "# environment variable.  It is configured such\n",
            "# that it starts out blank with new entries added after passing\n",
            "# a series of checks (file/dir exists, not already listed aka\n",
            "# de-deduplication).  During de-deduplication, wildcards and/or\n",
            "# directories are *NOT* expanded to keep it simple. Therefore,\n",
            "# if the computed classpath has two specific mentions of\n",
            "# awesome-methods-1.0.jar, only the first one added will be seen.\n",
            "# If two directories are in the classpath that both contain\n",
            "# awesome-methods-1.0.jar, then Java will pick up both versions.\n",
            "\n",
            "# An additional, custom CLASSPATH. Site-wide configs should be\n",
            "# handled via the shellprofile functionality, utilizing the\n",
            "# hadoop_add_classpath function for greater control and much\n",
            "# harder for apps/end-users to accidentally override.\n",
            "# Similarly, end users should utilize ${HOME}/.hadooprc .\n",
            "# This variable should ideally only be used as a short-cut,\n",
            "# interactive way for temporary additions on the command line.\n",
            "# export HADOOP_CLASSPATH=\"/some/cool/path/on/your/machine\"\n",
            "\n",
            "# Should HADOOP_CLASSPATH be first in the official CLASSPATH?\n",
            "# export HADOOP_USER_CLASSPATH_FIRST=\"yes\"\n",
            "\n",
            "# If HADOOP_USE_CLIENT_CLASSLOADER is set, the classpath along\n",
            "# with the main jar are handled by a separate isolated\n",
            "# client classloader when 'hadoop jar', 'yarn jar', or 'mapred job'\n",
            "# is utilized. If it is set, HADOOP_CLASSPATH and\n",
            "# HADOOP_USER_CLASSPATH_FIRST are ignored.\n",
            "# export HADOOP_USE_CLIENT_CLASSLOADER=true\n",
            "\n",
            "# HADOOP_CLIENT_CLASSLOADER_SYSTEM_CLASSES overrides the default definition of\n",
            "# system classes for the client classloader when HADOOP_USE_CLIENT_CLASSLOADER\n",
            "# is enabled. Names ending in '.' (period) are treated as package names, and\n",
            "# names starting with a '-' are treated as negative matches. For example,\n",
            "# export HADOOP_CLIENT_CLASSLOADER_SYSTEM_CLASSES=\"-org.apache.hadoop.UserClass,java.,javax.,org.apache.hadoop.\"\n",
            "\n",
            "# Enable optional, bundled Hadoop features\n",
            "# This is a comma delimited list.  It may NOT be overridden via .hadooprc\n",
            "# Entries may be added/removed as needed.\n",
            "# export HADOOP_OPTIONAL_TOOLS=\"hadoop-kafka,hadoop-openstack,hadoop-aliyun,hadoop-azure,hadoop-azure-datalake,hadoop-aws\"\n",
            "\n",
            "###\n",
            "# Options for remote shell connectivity\n",
            "###\n",
            "\n",
            "# There are some optional components of hadoop that allow for\n",
            "# command and control of remote hosts.  For example,\n",
            "# start-dfs.sh will attempt to bring up all NNs, DNS, etc.\n",
            "\n",
            "# Options to pass to SSH when one of the \"log into a host and\n",
            "# start/stop daemons\" scripts is executed\n",
            "# export HADOOP_SSH_OPTS=\"-o BatchMode=yes -o StrictHostKeyChecking=no -o ConnectTimeout=10s\"\n",
            "\n",
            "# The built-in ssh handler will limit itself to 10 simultaneous connections.\n",
            "# For pdsh users, this sets the fanout size ( -f )\n",
            "# Change this to increase/decrease as necessary.\n",
            "# export HADOOP_SSH_PARALLEL=10\n",
            "\n",
            "# Filename which contains all of the hosts for any remote execution\n",
            "# helper scripts # such as workers.sh, start-dfs.sh, etc.\n",
            "# export HADOOP_WORKERS=\"${HADOOP_CONF_DIR}/workers\"\n",
            "\n",
            "###\n",
            "# Options for all daemons\n",
            "###\n",
            "#\n",
            "\n",
            "#\n",
            "# Many options may also be specified as Java properties.  It is\n",
            "# very common, and in many cases, desirable, to hard-set these\n",
            "# in daemon _OPTS variables.  Where applicable, the appropriate\n",
            "# Java property is also identified.  Note that many are re-used\n",
            "# or set differently in certain contexts (e.g., secure vs\n",
            "# non-secure)\n",
            "#\n",
            "\n",
            "# Where (primarily) daemon log files are stored.\n",
            "# ${HADOOP_HOME}/logs by default.\n",
            "# Java property: hadoop.log.dir\n",
            "# export HADOOP_LOG_DIR=${HADOOP_HOME}/logs\n",
            "\n",
            "# A string representing this instance of hadoop. $USER by default.\n",
            "# This is used in writing log and pid files, so keep that in mind!\n",
            "# Java property: hadoop.id.str\n",
            "# export HADOOP_IDENT_STRING=$USER\n",
            "\n",
            "# How many seconds to pause after stopping a daemon\n",
            "# export HADOOP_STOP_TIMEOUT=5\n",
            "\n",
            "# Where pid files are stored.  /tmp by default.\n",
            "# export HADOOP_PID_DIR=/tmp\n",
            "\n",
            "# Default log4j setting for interactive commands\n",
            "# Java property: hadoop.root.logger\n",
            "# export HADOOP_ROOT_LOGGER=INFO,console\n",
            "\n",
            "# Default log4j setting for daemons spawned explicitly by\n",
            "# --daemon option of hadoop, hdfs, mapred and yarn command.\n",
            "# Java property: hadoop.root.logger\n",
            "# export HADOOP_DAEMON_ROOT_LOGGER=INFO,RFA\n",
            "\n",
            "# Default log level and output location for security-related messages.\n",
            "# You will almost certainly want to change this on a per-daemon basis via\n",
            "# the Java property (i.e., -Dhadoop.security.logger=foo). (Note that the\n",
            "# defaults for the NN and 2NN override this by default.)\n",
            "# Java property: hadoop.security.logger\n",
            "# export HADOOP_SECURITY_LOGGER=INFO,NullAppender\n",
            "\n",
            "# Default process priority level\n",
            "# Note that sub-processes will also run at this level!\n",
            "# export HADOOP_NICENESS=0\n",
            "\n",
            "# Default name for the service level authorization file\n",
            "# Java property: hadoop.policy.file\n",
            "# export HADOOP_POLICYFILE=\"hadoop-policy.xml\"\n",
            "\n",
            "#\n",
            "# NOTE: this is not used by default!  <-----\n",
            "# You can define variables right here and then re-use them later on.\n",
            "# For example, it is common to use the same garbage collection settings\n",
            "# for all the daemons.  So one could define:\n",
            "#\n",
            "# export HADOOP_GC_SETTINGS=\"-verbose:gc -XX:+PrintGCDetails -XX:+PrintGCTimeStamps -XX:+PrintGCDateStamps\"\n",
            "#\n",
            "# .. and then use it as per the b option under the namenode.\n",
            "\n",
            "###\n",
            "# Secure/privileged execution\n",
            "###\n",
            "\n",
            "#\n",
            "# Out of the box, Hadoop uses jsvc from Apache Commons to launch daemons\n",
            "# on privileged ports.  This functionality can be replaced by providing\n",
            "# custom functions.  See hadoop-functions.sh for more information.\n",
            "#\n",
            "\n",
            "# The jsvc implementation to use. Jsvc is required to run secure datanodes\n",
            "# that bind to privileged ports to provide authentication of data transfer\n",
            "# protocol.  Jsvc is not required if SASL is configured for authentication of\n",
            "# data transfer protocol using non-privileged ports.\n",
            "# export JSVC_HOME=/usr/bin\n",
            "\n",
            "#\n",
            "# This directory contains pids for secure and privileged processes.\n",
            "#export HADOOP_SECURE_PID_DIR=${HADOOP_PID_DIR}\n",
            "\n",
            "#\n",
            "# This directory contains the logs for secure and privileged processes.\n",
            "# Java property: hadoop.log.dir\n",
            "# export HADOOP_SECURE_LOG=${HADOOP_LOG_DIR}\n",
            "\n",
            "#\n",
            "# When running a secure daemon, the default value of HADOOP_IDENT_STRING\n",
            "# ends up being a bit bogus.  Therefore, by default, the code will\n",
            "# replace HADOOP_IDENT_STRING with HADOOP_xx_SECURE_USER.  If one wants\n",
            "# to keep HADOOP_IDENT_STRING untouched, then uncomment this line.\n",
            "# export HADOOP_SECURE_IDENT_PRESERVE=\"true\"\n",
            "\n",
            "###\n",
            "# NameNode specific parameters\n",
            "###\n",
            "\n",
            "# Default log level and output location for file system related change\n",
            "# messages. For non-namenode daemons, the Java property must be set in\n",
            "# the appropriate _OPTS if one wants something other than INFO,NullAppender\n",
            "# Java property: hdfs.audit.logger\n",
            "# export HDFS_AUDIT_LOGGER=INFO,NullAppender\n",
            "\n",
            "# Specify the JVM options to be used when starting the NameNode.\n",
            "# These options will be appended to the options specified as HADOOP_OPTS\n",
            "# and therefore may override any similar flags set in HADOOP_OPTS\n",
            "#\n",
            "# a) Set JMX options\n",
            "# export HDFS_NAMENODE_OPTS=\"-Dcom.sun.management.jmxremote=true -Dcom.sun.management.jmxremote.authenticate=false -Dcom.sun.management.jmxremote.ssl=false -Dcom.sun.management.jmxremote.port=1026\"\n",
            "#\n",
            "# b) Set garbage collection logs\n",
            "# export HDFS_NAMENODE_OPTS=\"${HADOOP_GC_SETTINGS} -Xloggc:${HADOOP_LOG_DIR}/gc-rm.log-$(date +'%Y%m%d%H%M')\"\n",
            "#\n",
            "# c) ... or set them directly\n",
            "# export HDFS_NAMENODE_OPTS=\"-verbose:gc -XX:+PrintGCDetails -XX:+PrintGCTimeStamps -XX:+PrintGCDateStamps -Xloggc:${HADOOP_LOG_DIR}/gc-rm.log-$(date +'%Y%m%d%H%M')\"\n",
            "\n",
            "# this is the default:\n",
            "# export HDFS_NAMENODE_OPTS=\"-Dhadoop.security.logger=INFO,RFAS\"\n",
            "\n",
            "###\n",
            "# SecondaryNameNode specific parameters\n",
            "###\n",
            "# Specify the JVM options to be used when starting the SecondaryNameNode.\n",
            "# These options will be appended to the options specified as HADOOP_OPTS\n",
            "# and therefore may override any similar flags set in HADOOP_OPTS\n",
            "#\n",
            "# This is the default:\n",
            "# export HDFS_SECONDARYNAMENODE_OPTS=\"-Dhadoop.security.logger=INFO,RFAS\"\n",
            "\n",
            "###\n",
            "# DataNode specific parameters\n",
            "###\n",
            "# Specify the JVM options to be used when starting the DataNode.\n",
            "# These options will be appended to the options specified as HADOOP_OPTS\n",
            "# and therefore may override any similar flags set in HADOOP_OPTS\n",
            "#\n",
            "# This is the default:\n",
            "# export HDFS_DATANODE_OPTS=\"-Dhadoop.security.logger=ERROR,RFAS\"\n",
            "\n",
            "# On secure datanodes, user to run the datanode as after dropping privileges.\n",
            "# This **MUST** be uncommented to enable secure HDFS if using privileged ports\n",
            "# to provide authentication of data transfer protocol.  This **MUST NOT** be\n",
            "# defined if SASL is configured for authentication of data transfer protocol\n",
            "# using non-privileged ports.\n",
            "# This will replace the hadoop.id.str Java property in secure mode.\n",
            "# export HDFS_DATANODE_SECURE_USER=hdfs\n",
            "\n",
            "# Supplemental options for secure datanodes\n",
            "# By default, Hadoop uses jsvc which needs to know to launch a\n",
            "# server jvm.\n",
            "# export HDFS_DATANODE_SECURE_EXTRA_OPTS=\"-jvm server\"\n",
            "\n",
            "###\n",
            "# NFS3 Gateway specific parameters\n",
            "###\n",
            "# Specify the JVM options to be used when starting the NFS3 Gateway.\n",
            "# These options will be appended to the options specified as HADOOP_OPTS\n",
            "# and therefore may override any similar flags set in HADOOP_OPTS\n",
            "#\n",
            "# export HDFS_NFS3_OPTS=\"\"\n",
            "\n",
            "# Specify the JVM options to be used when starting the Hadoop portmapper.\n",
            "# These options will be appended to the options specified as HADOOP_OPTS\n",
            "# and therefore may override any similar flags set in HADOOP_OPTS\n",
            "#\n",
            "# export HDFS_PORTMAP_OPTS=\"-Xmx512m\"\n",
            "\n",
            "# Supplemental options for priviliged gateways\n",
            "# By default, Hadoop uses jsvc which needs to know to launch a\n",
            "# server jvm.\n",
            "# export HDFS_NFS3_SECURE_EXTRA_OPTS=\"-jvm server\"\n",
            "\n",
            "# On privileged gateways, user to run the gateway as after dropping privileges\n",
            "# This will replace the hadoop.id.str Java property in secure mode.\n",
            "# export HDFS_NFS3_SECURE_USER=nfsserver\n",
            "\n",
            "###\n",
            "# ZKFailoverController specific parameters\n",
            "###\n",
            "# Specify the JVM options to be used when starting the ZKFailoverController.\n",
            "# These options will be appended to the options specified as HADOOP_OPTS\n",
            "# and therefore may override any similar flags set in HADOOP_OPTS\n",
            "#\n",
            "# export HDFS_ZKFC_OPTS=\"\"\n",
            "\n",
            "###\n",
            "# QuorumJournalNode specific parameters\n",
            "###\n",
            "# Specify the JVM options to be used when starting the QuorumJournalNode.\n",
            "# These options will be appended to the options specified as HADOOP_OPTS\n",
            "# and therefore may override any similar flags set in HADOOP_OPTS\n",
            "#\n",
            "# export HDFS_JOURNALNODE_OPTS=\"\"\n",
            "\n",
            "###\n",
            "# HDFS Balancer specific parameters\n",
            "###\n",
            "# Specify the JVM options to be used when starting the HDFS Balancer.\n",
            "# These options will be appended to the options specified as HADOOP_OPTS\n",
            "# and therefore may override any similar flags set in HADOOP_OPTS\n",
            "#\n",
            "# export HDFS_BALANCER_OPTS=\"\"\n",
            "\n",
            "###\n",
            "# HDFS Mover specific parameters\n",
            "###\n",
            "# Specify the JVM options to be used when starting the HDFS Mover.\n",
            "# These options will be appended to the options specified as HADOOP_OPTS\n",
            "# and therefore may override any similar flags set in HADOOP_OPTS\n",
            "#\n",
            "# export HDFS_MOVER_OPTS=\"\"\n",
            "\n",
            "###\n",
            "# Router-based HDFS Federation specific parameters\n",
            "# Specify the JVM options to be used when starting the RBF Routers.\n",
            "# These options will be appended to the options specified as HADOOP_OPTS\n",
            "# and therefore may override any similar flags set in HADOOP_OPTS\n",
            "#\n",
            "# export HDFS_DFSROUTER_OPTS=\"\"\n",
            "\n",
            "###\n",
            "# HDFS StorageContainerManager specific parameters\n",
            "###\n",
            "# Specify the JVM options to be used when starting the HDFS Storage Container Manager.\n",
            "# These options will be appended to the options specified as HADOOP_OPTS\n",
            "# and therefore may override any similar flags set in HADOOP_OPTS\n",
            "#\n",
            "# export HDFS_STORAGECONTAINERMANAGER_OPTS=\"\"\n",
            "\n",
            "###\n",
            "# Advanced Users Only!\n",
            "###\n",
            "\n",
            "#\n",
            "# When building Hadoop, one can add the class paths to the commands\n",
            "# via this special env var:\n",
            "# export HADOOP_ENABLE_BUILD_PATHS=\"true\"\n",
            "\n",
            "#\n",
            "# To prevent accidents, shell commands be (superficially) locked\n",
            "# to only allow certain users to execute certain subcommands.\n",
            "# It uses the format of (command)_(subcommand)_USER.\n",
            "#\n",
            "# For example, to limit who can execute the namenode command,\n",
            "# export HDFS_NAMENODE_USER=hdfs\n",
            "\n",
            "\n",
            "###\n",
            "# Registry DNS specific parameters\n",
            "###\n",
            "# For privileged registry DNS, user to run as after dropping privileges\n",
            "# This will replace the hadoop.id.str Java property in secure mode.\n",
            "# export HADOOP_REGISTRYDNS_SECURE_USER=yarn\n",
            "\n",
            "# Supplemental options for privileged registry DNS\n",
            "# By default, Hadoop uses jsvc which needs to know to launch a\n",
            "# server jvm.\n",
            "# export HADOOP_REGISTRYDNS_SECURE_EXTRA_OPTS=\"-jvm server\"\n"
          ]
        }
      ]
    },
    {
      "cell_type": "markdown",
      "source": [
        "The only required enviroment variable is **JAVA_HOME**. All the others are optional.\n",
        "\n",
        "To specify the JAVA_HOME variable in hadoop-env.sh we need to uncomment the export line and update it with the actual directory.\n",
        "\n",
        "In this case it should look like this:\n",
        "\n",
        "`export JAVA_HOME=/usr/lib/jvm/java-11-openjdk-amd64/`"
      ],
      "metadata": {
        "id": "3o9SROCEHl72"
      }
    },
    {
      "cell_type": "code",
      "source": [
        "#Adding JAVA_HOME directory to hadoop-env.sh file\n",
        "!sed -i '/export JAVA_HOME=/a export JAVA_HOME=\\/usr\\/lib\\/jvm\\/java-11-openjdk-amd64' /usr/local/hadoop-3.3.4/etc/hadoop/hadoop-env.sh"
      ],
      "metadata": {
        "id": "TeCM3uiCXvF-"
      },
      "execution_count": null,
      "outputs": []
    },
    {
      "cell_type": "markdown",
      "source": [
        "Because it is convinient we create an environment variable that points to the Hadoop installation directory"
      ],
      "metadata": {
        "id": "sX6dPYTcMU5A"
      }
    },
    {
      "cell_type": "code",
      "source": [
        "#Creating Hadoop home variable\n",
        "import os\n",
        "os.environ[\"HADOOP_HOME\"] = \"/usr/local/hadoop-3.3.4\""
      ],
      "metadata": {
        "id": "rNtD2mvkMs5x"
      },
      "execution_count": null,
      "outputs": []
    },
    {
      "cell_type": "markdown",
      "source": [
        "Configuring XML files\n",
        "\n",
        "The majority of Hadoop setting are contained in XML configuration files. These files are also known as **resources**.\n",
        "\n",
        "They have the following structure:\n",
        "\n",
        "\n",
        "```\n",
        "<configuration>\n",
        "...\n",
        "  <property>\n",
        "    <name>...</name>\n",
        "    <value>...</value>\n",
        "    <description>...</description>\n",
        "  </property>\n",
        "...\n",
        "</configuration>\n",
        "```\n",
        "\n"
      ],
      "metadata": {
        "id": "dCws8A6MOC1K"
      }
    },
    {
      "cell_type": "markdown",
      "source": [
        "The XLM file can contained any number of the property elements. Each property element defines a specific configuration name-value pair."
      ],
      "metadata": {
        "id": "-nBTuk9wO7ow"
      }
    },
    {
      "cell_type": "markdown",
      "source": [
        "Hadoop configuration is driven by two distict types of XLM configuration files:\n",
        "\n",
        "1. **Default** (read-only): core-default.xml, hdfs-default.xml, mapred-default.xml, yarn-default.xml. These files should never be modified.\n",
        "2. **Site specific** configuration files: core-site.xml, hdfs-site.xml, mapred-site.xml, yarn-site.xml. These files are loaded from class path and their values are used to overwrite the corresponding values of the properties in the matching default configuration files.\n"
      ],
      "metadata": {
        "id": "szhRwlUOQ9D3"
      }
    },
    {
      "cell_type": "code",
      "source": [
        "#Exploring hadoop-3.2.3/etc/hadoop xml files\n",
        "!ls $HADOOP_HOME/etc/hadoop/*.xml"
      ],
      "metadata": {
        "id": "zaUWrl0lN203",
        "colab": {
          "base_uri": "https://localhost:8080/"
        },
        "outputId": "e066e65f-0a20-4952-88e8-0eb60e2b2d70"
      },
      "execution_count": null,
      "outputs": [
        {
          "output_type": "stream",
          "name": "stdout",
          "text": [
            "/usr/local/hadoop-3.3.4/etc/hadoop/capacity-scheduler.xml\n",
            "/usr/local/hadoop-3.3.4/etc/hadoop/core-site.xml\n",
            "/usr/local/hadoop-3.3.4/etc/hadoop/hadoop-policy.xml\n",
            "/usr/local/hadoop-3.3.4/etc/hadoop/hdfs-rbf-site.xml\n",
            "/usr/local/hadoop-3.3.4/etc/hadoop/hdfs-site.xml\n",
            "/usr/local/hadoop-3.3.4/etc/hadoop/httpfs-site.xml\n",
            "/usr/local/hadoop-3.3.4/etc/hadoop/kms-acls.xml\n",
            "/usr/local/hadoop-3.3.4/etc/hadoop/kms-site.xml\n",
            "/usr/local/hadoop-3.3.4/etc/hadoop/mapred-site.xml\n",
            "/usr/local/hadoop-3.3.4/etc/hadoop/yarn-site.xml\n"
          ]
        }
      ]
    },
    {
      "cell_type": "markdown",
      "source": [
        "Each component in Hadoop is configured using an xml file\n",
        "\n",
        "*   core-site.xml: common properties\n",
        "*   hdfs-site.xml: HDFS properties\n",
        "*   mapred-site.xml: MapReduce properties\n",
        "*   yarn-site.xml: YARN properties\n",
        "\n",
        "By configuring these xml files accordingly Hadoop can be run in one of the three modes."
      ],
      "metadata": {
        "id": "SMbIY4UQr-Cc"
      }
    },
    {
      "cell_type": "code",
      "source": [
        "#Content of core-site.xml file\n",
        "!cat $HADOOP_HOME/etc/hadoop/core-site.xml"
      ],
      "metadata": {
        "id": "3X2yMzJRTTbz",
        "colab": {
          "base_uri": "https://localhost:8080/"
        },
        "outputId": "e55d1b94-18b8-4e75-d50c-7e51c11ab8fe"
      },
      "execution_count": null,
      "outputs": [
        {
          "output_type": "stream",
          "name": "stdout",
          "text": [
            "<?xml version=\"1.0\" encoding=\"UTF-8\"?>\n",
            "<?xml-stylesheet type=\"text/xsl\" href=\"configuration.xsl\"?>\n",
            "<!--\n",
            "  Licensed under the Apache License, Version 2.0 (the \"License\");\n",
            "  you may not use this file except in compliance with the License.\n",
            "  You may obtain a copy of the License at\n",
            "\n",
            "    http://www.apache.org/licenses/LICENSE-2.0\n",
            "\n",
            "  Unless required by applicable law or agreed to in writing, software\n",
            "  distributed under the License is distributed on an \"AS IS\" BASIS,\n",
            "  WITHOUT WARRANTIES OR CONDITIONS OF ANY KIND, either express or implied.\n",
            "  See the License for the specific language governing permissions and\n",
            "  limitations under the License. See accompanying LICENSE file.\n",
            "-->\n",
            "\n",
            "<!-- Put site-specific property overrides in this file. -->\n",
            "\n",
            "<configuration>\n",
            "</configuration>\n"
          ]
        }
      ]
    },
    {
      "cell_type": "markdown",
      "source": [
        "As we can see, no properties are set. They are empty by default. So there is nothing to overwrite and Hadoop runs with the default properties."
      ],
      "metadata": {
        "id": "LlK_OhXOTwLa"
      }
    },
    {
      "cell_type": "markdown",
      "source": [
        "## Running Hadoop in standalone mode"
      ],
      "metadata": {
        "id": "j7iQ3JIqP9Av"
      }
    },
    {
      "cell_type": "markdown",
      "source": [
        "With the default configuration properties Hadoop runs in a standalone mode (non distributed mode). That is, standalone mode (also knows as local mode) is the default mode for Hadoop.\n",
        "\n",
        "There are no deamons to run. Just a single java process\n",
        "\n",
        "Local filesystem and the local MapReduce job runner are used"
      ],
      "metadata": {
        "id": "xyNhcphwU326"
      }
    },
    {
      "cell_type": "markdown",
      "source": [
        "The command to run a Hadoop mapreduce program that is written in Java is:\n",
        "\n",
        "`$HADOOP_HOME/bin/hadoop jar <jar>`\n",
        "\n",
        "jar is Java archive tool that packages (and compresses) a set of files into a single archive."
      ],
      "metadata": {
        "id": "M5sq5u4YMWYy"
      }
    },
    {
      "cell_type": "markdown",
      "source": [
        "The default installation already has several MapReduce examples program that we can use."
      ],
      "metadata": {
        "id": "T0mlMcx90v3C"
      }
    },
    {
      "cell_type": "code",
      "source": [
        "#Exploring mapreduce tools\n",
        "!ls $HADOOP_HOME/share/hadoop/mapreduce/*.jar"
      ],
      "metadata": {
        "id": "KDU32MA_1A3j",
        "colab": {
          "base_uri": "https://localhost:8080/"
        },
        "outputId": "2b71a8b7-dae0-4968-adc3-f6f32364a92a"
      },
      "execution_count": null,
      "outputs": [
        {
          "output_type": "stream",
          "name": "stdout",
          "text": [
            "/usr/local/hadoop-3.3.4/share/hadoop/mapreduce/hadoop-mapreduce-client-app-3.3.4.jar\n",
            "/usr/local/hadoop-3.3.4/share/hadoop/mapreduce/hadoop-mapreduce-client-common-3.3.4.jar\n",
            "/usr/local/hadoop-3.3.4/share/hadoop/mapreduce/hadoop-mapreduce-client-core-3.3.4.jar\n",
            "/usr/local/hadoop-3.3.4/share/hadoop/mapreduce/hadoop-mapreduce-client-hs-3.3.4.jar\n",
            "/usr/local/hadoop-3.3.4/share/hadoop/mapreduce/hadoop-mapreduce-client-hs-plugins-3.3.4.jar\n",
            "/usr/local/hadoop-3.3.4/share/hadoop/mapreduce/hadoop-mapreduce-client-jobclient-3.3.4.jar\n",
            "/usr/local/hadoop-3.3.4/share/hadoop/mapreduce/hadoop-mapreduce-client-jobclient-3.3.4-tests.jar\n",
            "/usr/local/hadoop-3.3.4/share/hadoop/mapreduce/hadoop-mapreduce-client-nativetask-3.3.4.jar\n",
            "/usr/local/hadoop-3.3.4/share/hadoop/mapreduce/hadoop-mapreduce-client-shuffle-3.3.4.jar\n",
            "/usr/local/hadoop-3.3.4/share/hadoop/mapreduce/hadoop-mapreduce-client-uploader-3.3.4.jar\n",
            "/usr/local/hadoop-3.3.4/share/hadoop/mapreduce/hadoop-mapreduce-examples-3.3.4.jar\n"
          ]
        }
      ]
    },
    {
      "cell_type": "markdown",
      "source": [
        "Mapreduce examples"
      ],
      "metadata": {
        "id": "E1sibHPwHcIS"
      }
    },
    {
      "cell_type": "code",
      "source": [
        "#Exploring the examples of programs available\n",
        "!$HADOOP_HOME/bin/hadoop jar $HADOOP_HOME/share/hadoop/mapreduce/hadoop-mapreduce-examples-3.2.3.jar"
      ],
      "metadata": {
        "colab": {
          "base_uri": "https://localhost:8080/"
        },
        "id": "TbNQV5Id1VEW",
        "outputId": "5079ef5f-cb51-4914-b895-02140a9c13fa"
      },
      "execution_count": null,
      "outputs": [
        {
          "output_type": "stream",
          "name": "stdout",
          "text": [
            "JAR does not exist or is not a normal file: /usr/local/hadoop-3.3.4/share/hadoop/mapreduce/hadoop-mapreduce-examples-3.2.3.jar\n"
          ]
        }
      ]
    },
    {
      "cell_type": "markdown",
      "source": [
        "wordcount"
      ],
      "metadata": {
        "id": "ky8_JvARHoVH"
      }
    },
    {
      "cell_type": "markdown",
      "source": [
        "As description says, wordcount is a map/reduce program that counts the words in the input files."
      ],
      "metadata": {
        "id": "YOPq3tC91yRa"
      }
    },
    {
      "cell_type": "code",
      "source": [
        "#Usage of the wordcount MapReduce program\n",
        "!$HADOOP_HOME/bin/hadoop jar $HADOOP_HOME/share/hadoop/mapreduce/hadoop-mapreduce-examples-3.2.3.jar wordcount"
      ],
      "metadata": {
        "colab": {
          "base_uri": "https://localhost:8080/"
        },
        "id": "0FjXG_lX2UUB",
        "outputId": "ab4b17cb-2e73-4571-a258-c117cb14ff7c"
      },
      "execution_count": null,
      "outputs": [
        {
          "output_type": "stream",
          "name": "stdout",
          "text": [
            "JAR does not exist or is not a normal file: /usr/local/hadoop-3.3.4/share/hadoop/mapreduce/hadoop-mapreduce-examples-3.2.3.jar\n"
          ]
        }
      ]
    },
    {
      "cell_type": "markdown",
      "source": [
        "The parameters are an input directory where the text to be analized is allocated and an output directory where the program is going to allocate its output"
      ],
      "metadata": {
        "id": "XkqKpjQl24wx"
      }
    },
    {
      "cell_type": "code",
      "source": [
        "#Dowloading text example to use as input\n",
        "!wget -q https://www.mirrorservice.org/sites/ftp.ibiblio.org/pub/docs/books/gutenberg/1/0/101/101.txt"
      ],
      "metadata": {
        "id": "fOHl7Iz84eyt"
      },
      "execution_count": null,
      "outputs": []
    },
    {
      "cell_type": "code",
      "source": [
        "#Running MapReduce program wordcount\n",
        "#the output directory will be created automatically\n",
        "!$HADOOP_HOME/bin/hadoop jar $HADOOP_HOME/share/hadoop/mapreduce/hadoop-mapreduce-examples-3.2.3.jar wordcount /content/101.txt /content/output"
      ],
      "metadata": {
        "id": "tgY1T-c45Vzg",
        "colab": {
          "base_uri": "https://localhost:8080/"
        },
        "outputId": "676c4a9f-64e0-4e62-dcf2-e60ac8d2e740"
      },
      "execution_count": null,
      "outputs": [
        {
          "output_type": "stream",
          "name": "stdout",
          "text": [
            "JAR does not exist or is not a normal file: /usr/local/hadoop-3.3.4/share/hadoop/mapreduce/hadoop-mapreduce-examples-3.2.3.jar\n"
          ]
        }
      ]
    },
    {
      "cell_type": "code",
      "source": [
        "#Exploring the created output directory\n",
        "#part-r-00000 contains the actual ouput\n",
        "!ls /content/output"
      ],
      "metadata": {
        "colab": {
          "base_uri": "https://localhost:8080/"
        },
        "id": "51IBObej6BA6",
        "outputId": "26615a39-6654-41ed-8e75-1b1dcce1dde3"
      },
      "execution_count": null,
      "outputs": [
        {
          "output_type": "stream",
          "name": "stdout",
          "text": [
            "ls: cannot access '/content/output': No such file or directory\n"
          ]
        }
      ]
    },
    {
      "cell_type": "code",
      "source": [
        "#Printing out first 50 lines\n",
        "!head -50 /content/output/part-r-00000"
      ],
      "metadata": {
        "colab": {
          "base_uri": "https://localhost:8080/"
        },
        "id": "ViiYYpJcUnjd",
        "outputId": "63f0e911-8757-42c6-bf9b-ff2dd1c04dc7"
      },
      "execution_count": null,
      "outputs": [
        {
          "output_type": "stream",
          "name": "stdout",
          "text": [
            "head: cannot open '/content/output/part-r-00000' for reading: No such file or directory\n"
          ]
        }
      ]
    },
    {
      "cell_type": "markdown",
      "source": [
        "## Running Hadoop in Pseudo-distributed mode"
      ],
      "metadata": {
        "id": "5BUFo8gUbXER"
      }
    },
    {
      "cell_type": "markdown",
      "source": [
        "In Pseudo-distributed mode all the distributed components of Hadoop come into play. That is, all the Hadoop deamons that are responsible for distributed storage and distributed processing will run on the same machine.\n",
        "\n",
        "Master deamons:\n",
        "\n",
        "*   NameNode\n",
        "*   Resource Manager\n",
        "*   Standby NameNode\n",
        "\n",
        "Slave deamons:\n",
        "\n",
        "*   DataNode\n",
        "*   Node Manager\n"
      ],
      "metadata": {
        "id": "lEWV2YjJmR78"
      }
    },
    {
      "cell_type": "markdown",
      "source": [
        "Configuring XML files"
      ],
      "metadata": {
        "id": "h9KNyTmWppr3"
      }
    },
    {
      "cell_type": "markdown",
      "source": [
        "As mentioned, by setting the properties in the **site** xml configuration files, we overwrite the corresponding properties in the **default** xml configuration files and, this way, we tell Hadoop which machines are in the cluster and where and how we want to run the Hadoop daemons"
      ],
      "metadata": {
        "id": "YjYGTIZRM43v"
      }
    },
    {
      "cell_type": "markdown",
      "source": [
        "The specific content that these files need to have to make Hadoop run in Pseudo-distributed mode can be found in the documentation of the release on the official website. For Hadoop 3.2.3 the website is:\n",
        "\n",
        "https://hadoop.apache.org/docs/r3.2.3/hadoop-project-dist/hadoop-common/SingleCluster.html"
      ],
      "metadata": {
        "id": "rkzy6KSdTGw6"
      }
    },
    {
      "cell_type": "markdown",
      "source": [
        "Configuring core-site.xml"
      ],
      "metadata": {
        "id": "Karc-KZ0CLvg"
      }
    },
    {
      "cell_type": "code",
      "source": [
        "#Adding required property to core-site.xlm file\n",
        "!sed -i '/<configuration>/a\\\n",
        "  <property>\\n\\\n",
        "    <name>fs.defaultFS</name>\\n\\\n",
        "    <value>hdfs://localhost:9000</value>\\n\\\n",
        "  </property>' \\\n",
        "$HADOOP_HOME/etc/hadoop/core-site.xml"
      ],
      "metadata": {
        "id": "5aIR5y4hAZvI"
      },
      "execution_count": null,
      "outputs": []
    },
    {
      "cell_type": "code",
      "source": [
        "#Content of core-site.xml after the editing\n",
        "!cat $HADOOP_HOME/etc/hadoop/core-site.xml"
      ],
      "metadata": {
        "colab": {
          "base_uri": "https://localhost:8080/"
        },
        "id": "wnmp-mDKPJVs",
        "outputId": "9a867160-af48-429d-e109-d1abe33ebc76"
      },
      "execution_count": null,
      "outputs": [
        {
          "output_type": "stream",
          "name": "stdout",
          "text": [
            "<?xml version=\"1.0\" encoding=\"UTF-8\"?>\n",
            "<?xml-stylesheet type=\"text/xsl\" href=\"configuration.xsl\"?>\n",
            "<!--\n",
            "  Licensed under the Apache License, Version 2.0 (the \"License\");\n",
            "  you may not use this file except in compliance with the License.\n",
            "  You may obtain a copy of the License at\n",
            "\n",
            "    http://www.apache.org/licenses/LICENSE-2.0\n",
            "\n",
            "  Unless required by applicable law or agreed to in writing, software\n",
            "  distributed under the License is distributed on an \"AS IS\" BASIS,\n",
            "  WITHOUT WARRANTIES OR CONDITIONS OF ANY KIND, either express or implied.\n",
            "  See the License for the specific language governing permissions and\n",
            "  limitations under the License. See accompanying LICENSE file.\n",
            "-->\n",
            "\n",
            "<!-- Put site-specific property overrides in this file. -->\n",
            "\n",
            "<configuration>\n",
            "<property>\n",
            "     <name>fs.defaultFS</name>\n",
            "     <value>hdfs://localhost:9000</value>\n",
            "   </property>\n",
            "</configuration>\n"
          ]
        }
      ]
    },
    {
      "cell_type": "markdown",
      "source": [
        "Configuring hdfs-site.xml"
      ],
      "metadata": {
        "id": "mqG9Gg2sCP6X"
      }
    },
    {
      "cell_type": "code",
      "source": [
        "#Adding required property to hdfs-site.xml file\n",
        "#Since we are running Hadoop in only one machine, a replication factor greater than 1 does not make sense\n",
        "!sed -i '/<configuration>/a\\\n",
        "  <property>\\n\\\n",
        "    <name>dfs.replication</name>\\n\\\n",
        "    <value>1</value>\\n\\\n",
        "  </property>' \\\n",
        "$HADOOP_HOME/etc/hadoop/hdfs-site.xml"
      ],
      "metadata": {
        "id": "s4lKHtfvDFPF"
      },
      "execution_count": null,
      "outputs": []
    },
    {
      "cell_type": "code",
      "source": [
        "#Content of hdfs-site.xml after the editing\n",
        "!cat $HADOOP_HOME/etc/hadoop/hdfs-site.xml"
      ],
      "metadata": {
        "id": "jNRY6cvNC6Q3",
        "colab": {
          "base_uri": "https://localhost:8080/"
        },
        "outputId": "c87220b5-5dc2-46cd-afa4-0b3bc2ebb13d"
      },
      "execution_count": null,
      "outputs": [
        {
          "output_type": "stream",
          "name": "stdout",
          "text": [
            "<?xml version=\"1.0\" encoding=\"UTF-8\"?>\n",
            "<?xml-stylesheet type=\"text/xsl\" href=\"configuration.xsl\"?>\n",
            "<!--\n",
            "  Licensed under the Apache License, Version 2.0 (the \"License\");\n",
            "  you may not use this file except in compliance with the License.\n",
            "  You may obtain a copy of the License at\n",
            "\n",
            "    http://www.apache.org/licenses/LICENSE-2.0\n",
            "\n",
            "  Unless required by applicable law or agreed to in writing, software\n",
            "  distributed under the License is distributed on an \"AS IS\" BASIS,\n",
            "  WITHOUT WARRANTIES OR CONDITIONS OF ANY KIND, either express or implied.\n",
            "  See the License for the specific language governing permissions and\n",
            "  limitations under the License. See accompanying LICENSE file.\n",
            "-->\n",
            "\n",
            "<!-- Put site-specific property overrides in this file. -->\n",
            "\n",
            "<configuration>\n",
            "<property>\n",
            "     <name>dfs.replication</name>\n",
            "     <value>1</value>\n",
            "   </property>\n",
            "\n",
            "</configuration>\n"
          ]
        }
      ]
    },
    {
      "cell_type": "markdown",
      "source": [
        "Configuring mapred-site.xml"
      ],
      "metadata": {
        "id": "nxKVm6HDD3Aj"
      }
    },
    {
      "cell_type": "code",
      "source": [
        "#Adding required properties to mapred-site.xml file\n",
        "!sed -i '/<configuration>/a\\\n",
        "  <property>\\n\\\n",
        "    <name>mapreduce.framework.name</name>\\n\\\n",
        "    <value>yarn</value>\\n\\\n",
        "  </property>\\n\\\n",
        "  <property>\\n\\\n",
        "    <name>mapreduce.application.classpath</name>\\n\\\n",
        "    <value>$HADOOP_MAPRED_HOME/share/hadoop/mapreduce/*:$HADOOP_MAPRED_HOME/share/hadoop/mapreduce/lib/*</value>\\n\\\n",
        "  </property>' \\\n",
        "$HADOOP_HOME/etc/hadoop/mapred-site.xml"
      ],
      "metadata": {
        "id": "sKBkrA5wF3_E"
      },
      "execution_count": null,
      "outputs": []
    },
    {
      "cell_type": "code",
      "source": [
        "#Content of mapred-site.xml after the editing\n",
        "!cat $HADOOP_HOME/etc/hadoop/mapred-site.xml"
      ],
      "metadata": {
        "id": "7YCJQSKOFwGj",
        "colab": {
          "base_uri": "https://localhost:8080/"
        },
        "outputId": "675e9fbe-c08b-43e1-d97a-77c6ce2f060a"
      },
      "execution_count": null,
      "outputs": [
        {
          "output_type": "stream",
          "name": "stdout",
          "text": [
            "<?xml version=\"1.0\"?>\n",
            "<?xml-stylesheet type=\"text/xsl\" href=\"configuration.xsl\"?>\n",
            "<!--\n",
            "  Licensed under the Apache License, Version 2.0 (the \"License\");\n",
            "  you may not use this file except in compliance with the License.\n",
            "  You may obtain a copy of the License at\n",
            "\n",
            "    http://www.apache.org/licenses/LICENSE-2.0\n",
            "\n",
            "  Unless required by applicable law or agreed to in writing, software\n",
            "  distributed under the License is distributed on an \"AS IS\" BASIS,\n",
            "  WITHOUT WARRANTIES OR CONDITIONS OF ANY KIND, either express or implied.\n",
            "  See the License for the specific language governing permissions and\n",
            "  limitations under the License. See accompanying LICENSE file.\n",
            "-->\n",
            "\n",
            "<!-- Put site-specific property overrides in this file. -->\n",
            "\n",
            "<configuration>\n",
            "<property>\n",
            "     <name>mapreduce.framework.name</name>\n",
            "     <value>yarn</value>\n",
            "   </property>\n",
            "   <property>\n",
            "     <name>mapreduce.application.classpath</name>\n",
            "     <value>$HADOOP_MAPRED_HOME/share/hadoop/mapreduce/*:$HADOOP_MAPRED_HOME/share/hadoop/mapreduce/lib/*</value>\n",
            "   </property>\n",
            "\n",
            "</configuration>\n"
          ]
        }
      ]
    },
    {
      "cell_type": "markdown",
      "source": [
        "Configuring yarn-site.xml"
      ],
      "metadata": {
        "id": "cCoXAPGLHj8b"
      }
    },
    {
      "cell_type": "code",
      "source": [
        "#Adding required properties to yarn-site.xml file\n",
        "!sed -i '/<configuration>/a\\\n",
        "  <property>\\n\\\n",
        "    <description>The hostname of the RM.</description>\\n\\\n",
        "    <name>yarn.resourcemanager.hostname</name>\\n\\\n",
        "    <value>localhost</value>\\n\\\n",
        "  </property>\\n\\\n",
        "  <property>\\n\\\n",
        "    <name>yarn.nodemanager.aux-services</name>\\n\\\n",
        "    <value>mapreduce_shuffle</value>\\n\\\n",
        "  </property>\\n\\\n",
        "  <property>\\n\\\n",
        "    <name>yarn.nodemanager.env-whitelist</name>\\n\\\n",
        "    <value>JAVA_HOME,HADOOP_COMMON_HOME,HADOOP_HDFS_HOME,HADOOP_CONF_DIR,CLASSPATH_PREPEND_DISTCACHE,HADOOP_YARN_HOME,HADOOP_HOME,PATH,LANG,TZ,HADOOP_MAPRED_HOME</value>\\n\\\n",
        "  </property>' \\\n",
        "$HADOOP_HOME/etc/hadoop/yarn-site.xml"
      ],
      "metadata": {
        "id": "-76CUdTLIwCa"
      },
      "execution_count": null,
      "outputs": []
    },
    {
      "cell_type": "code",
      "source": [
        "#Content of yarn-site.xml after the editing\n",
        "!cat $HADOOP_HOME/etc/hadoop/yarn-site.xml"
      ],
      "metadata": {
        "id": "qm0PsXooIj_h",
        "colab": {
          "base_uri": "https://localhost:8080/"
        },
        "outputId": "d91ddce4-f828-4c35-a556-458fcacd00d6"
      },
      "execution_count": null,
      "outputs": [
        {
          "output_type": "stream",
          "name": "stdout",
          "text": [
            "<?xml version=\"1.0\"?>\n",
            "<!--\n",
            "  Licensed under the Apache License, Version 2.0 (the \"License\");\n",
            "  you may not use this file except in compliance with the License.\n",
            "  You may obtain a copy of the License at\n",
            "\n",
            "    http://www.apache.org/licenses/LICENSE-2.0\n",
            "\n",
            "  Unless required by applicable law or agreed to in writing, software\n",
            "  distributed under the License is distributed on an \"AS IS\" BASIS,\n",
            "  WITHOUT WARRANTIES OR CONDITIONS OF ANY KIND, either express or implied.\n",
            "  See the License for the specific language governing permissions and\n",
            "  limitations under the License. See accompanying LICENSE file.\n",
            "-->\n",
            "<configuration>\n",
            "<property>\n",
            "     <description>The hostname of the RM.</description>\n",
            "     <name>yarn.resourcemanager.hostname</name>\n",
            "     <value>localhost</value>\n",
            "   </property>\n",
            "   <property>\n",
            "     <name>yarn.nodemanager.aux-services</name>\n",
            "     <value>mapreduce_shuffle</value>\n",
            "   </property>\n",
            "   <property>\n",
            "     <name>yarn.nodemanager.env-whitelist</name>\n",
            "     <value>JAVA_HOME,HADOOP_COMMON_HOME,HADOOP_HDFS_HOME,HADOOP_CONF_DIR,CLASSPATH_PREPEND_DISTCACHE,HADOOP_YARN_HOME,HADOOP_HOME,PATH,LANG,TZ,HADOOP_MAPRED_HOME</value>\n",
            "   </property>\n",
            "\n",
            "<!-- Site specific YARN configuration properties -->\n",
            "\n",
            "</configuration>\n"
          ]
        }
      ]
    },
    {
      "cell_type": "markdown",
      "source": [
        "Formatting the HDFS Filesystem"
      ],
      "metadata": {
        "id": "x5GRijGvFuQe"
      }
    },
    {
      "cell_type": "markdown",
      "source": [
        "Before HDFS can be used for the first time the file system must be formatted. The formatting process creates an empty file system by creating the storage directories and the initial versions of the NameNodes"
      ],
      "metadata": {
        "id": "QRBUEp4yKXEe"
      }
    },
    {
      "cell_type": "code",
      "source": [
        "!$HADOOP_HOME/bin/hdfs namenode -format"
      ],
      "metadata": {
        "id": "EyB07ajYOBna",
        "colab": {
          "base_uri": "https://localhost:8080/"
        },
        "outputId": "863d7a04-1381-414f-808a-b749a9f0f169"
      },
      "execution_count": null,
      "outputs": [
        {
          "output_type": "stream",
          "name": "stdout",
          "text": [
            "WARNING: /usr/local/hadoop-3.3.4/logs does not exist. Creating.\n",
            "2023-09-13 17:56:15,343 INFO namenode.NameNode: STARTUP_MSG: \n",
            "/************************************************************\n",
            "STARTUP_MSG: Starting NameNode\n",
            "STARTUP_MSG:   host = 1326dc238f5b/172.28.0.12\n",
            "STARTUP_MSG:   args = [-format]\n",
            "STARTUP_MSG:   version = 3.3.4\n",
            "STARTUP_MSG:   classpath = /usr/local/hadoop-3.3.4/etc/hadoop:/usr/local/hadoop-3.3.4/share/hadoop/common/lib/jetty-security-9.4.43.v20210629.jar:/usr/local/hadoop-3.3.4/share/hadoop/common/lib/listenablefuture-9999.0-empty-to-avoid-conflict-with-guava.jar:/usr/local/hadoop-3.3.4/share/hadoop/common/lib/slf4j-reload4j-1.7.36.jar:/usr/local/hadoop-3.3.4/share/hadoop/common/lib/commons-cli-1.2.jar:/usr/local/hadoop-3.3.4/share/hadoop/common/lib/kerby-asn1-1.0.1.jar:/usr/local/hadoop-3.3.4/share/hadoop/common/lib/kerb-crypto-1.0.1.jar:/usr/local/hadoop-3.3.4/share/hadoop/common/lib/guava-27.0-jre.jar:/usr/local/hadoop-3.3.4/share/hadoop/common/lib/hadoop-annotations-3.3.4.jar:/usr/local/hadoop-3.3.4/share/hadoop/common/lib/hadoop-shaded-guava-1.1.1.jar:/usr/local/hadoop-3.3.4/share/hadoop/common/lib/kerb-client-1.0.1.jar:/usr/local/hadoop-3.3.4/share/hadoop/common/lib/jetty-util-ajax-9.4.43.v20210629.jar:/usr/local/hadoop-3.3.4/share/hadoop/common/lib/nimbus-jose-jwt-9.8.1.jar:/usr/local/hadoop-3.3.4/share/hadoop/common/lib/jaxb-api-2.2.11.jar:/usr/local/hadoop-3.3.4/share/hadoop/common/lib/jackson-mapper-asl-1.9.13.jar:/usr/local/hadoop-3.3.4/share/hadoop/common/lib/audience-annotations-0.5.0.jar:/usr/local/hadoop-3.3.4/share/hadoop/common/lib/kerby-xdr-1.0.1.jar:/usr/local/hadoop-3.3.4/share/hadoop/common/lib/stax2-api-4.2.1.jar:/usr/local/hadoop-3.3.4/share/hadoop/common/lib/paranamer-2.3.jar:/usr/local/hadoop-3.3.4/share/hadoop/common/lib/slf4j-api-1.7.36.jar:/usr/local/hadoop-3.3.4/share/hadoop/common/lib/jetty-util-9.4.43.v20210629.jar:/usr/local/hadoop-3.3.4/share/hadoop/common/lib/zookeeper-3.5.6.jar:/usr/local/hadoop-3.3.4/share/hadoop/common/lib/jsch-0.1.55.jar:/usr/local/hadoop-3.3.4/share/hadoop/common/lib/curator-framework-4.2.0.jar:/usr/local/hadoop-3.3.4/share/hadoop/common/lib/curator-recipes-4.2.0.jar:/usr/local/hadoop-3.3.4/share/hadoop/common/lib/javax.servlet-api-3.1.0.jar:/usr/local/hadoop-3.3.4/share/hadoop/common/lib/commons-io-2.8.0.jar:/usr/local/hadoop-3.3.4/share/hadoop/common/lib/jul-to-slf4j-1.7.36.jar:/usr/local/hadoop-3.3.4/share/hadoop/common/lib/httpcore-4.4.13.jar:/usr/local/hadoop-3.3.4/share/hadoop/common/lib/commons-lang3-3.12.0.jar:/usr/local/hadoop-3.3.4/share/hadoop/common/lib/protobuf-java-2.5.0.jar:/usr/local/hadoop-3.3.4/share/hadoop/common/lib/jetty-xml-9.4.43.v20210629.jar:/usr/local/hadoop-3.3.4/share/hadoop/common/lib/kerb-simplekdc-1.0.1.jar:/usr/local/hadoop-3.3.4/share/hadoop/common/lib/asm-5.0.4.jar:/usr/local/hadoop-3.3.4/share/hadoop/common/lib/jersey-core-1.19.jar:/usr/local/hadoop-3.3.4/share/hadoop/common/lib/failureaccess-1.0.jar:/usr/local/hadoop-3.3.4/share/hadoop/common/lib/gson-2.8.9.jar:/usr/local/hadoop-3.3.4/share/hadoop/common/lib/json-smart-2.4.7.jar:/usr/local/hadoop-3.3.4/share/hadoop/common/lib/checker-qual-2.5.2.jar:/usr/local/hadoop-3.3.4/share/hadoop/common/lib/netty-3.10.6.Final.jar:/usr/local/hadoop-3.3.4/share/hadoop/common/lib/kerb-core-1.0.1.jar:/usr/local/hadoop-3.3.4/share/hadoop/common/lib/commons-configuration2-2.1.1.jar:/usr/local/hadoop-3.3.4/share/hadoop/common/lib/jersey-servlet-1.19.jar:/usr/local/hadoop-3.3.4/share/hadoop/common/lib/kerby-config-1.0.1.jar:/usr/local/hadoop-3.3.4/share/hadoop/common/lib/jackson-jaxrs-1.9.13.jar:/usr/local/hadoop-3.3.4/share/hadoop/common/lib/re2j-1.1.jar:/usr/local/hadoop-3.3.4/share/hadoop/common/lib/token-provider-1.0.1.jar:/usr/local/hadoop-3.3.4/share/hadoop/common/lib/hadoop-auth-3.3.4.jar:/usr/local/hadoop-3.3.4/share/hadoop/common/lib/jsp-api-2.1.jar:/usr/local/hadoop-3.3.4/share/hadoop/common/lib/snappy-java-1.1.8.2.jar:/usr/local/hadoop-3.3.4/share/hadoop/common/lib/curator-client-4.2.0.jar:/usr/local/hadoop-3.3.4/share/hadoop/common/lib/jackson-annotations-2.12.7.jar:/usr/local/hadoop-3.3.4/share/hadoop/common/lib/jackson-databind-2.12.7.jar:/usr/local/hadoop-3.3.4/share/hadoop/common/lib/commons-collections-3.2.2.jar:/usr/local/hadoop-3.3.4/share/hadoop/common/lib/commons-daemon-1.0.13.jar:/usr/local/hadoop-3.3.4/share/hadoop/common/lib/commons-logging-1.1.3.jar:/usr/local/hadoop-3.3.4/share/hadoop/common/lib/jakarta.activation-api-1.2.1.jar:/usr/local/hadoop-3.3.4/share/hadoop/common/lib/metrics-core-3.2.4.jar:/usr/local/hadoop-3.3.4/share/hadoop/common/lib/jetty-io-9.4.43.v20210629.jar:/usr/local/hadoop-3.3.4/share/hadoop/common/lib/httpclient-4.5.13.jar:/usr/local/hadoop-3.3.4/share/hadoop/common/lib/commons-beanutils-1.9.4.jar:/usr/local/hadoop-3.3.4/share/hadoop/common/lib/jcip-annotations-1.0-1.jar:/usr/local/hadoop-3.3.4/share/hadoop/common/lib/jackson-core-2.12.7.jar:/usr/local/hadoop-3.3.4/share/hadoop/common/lib/jetty-server-9.4.43.v20210629.jar:/usr/local/hadoop-3.3.4/share/hadoop/common/lib/jetty-servlet-9.4.43.v20210629.jar:/usr/local/hadoop-3.3.4/share/hadoop/common/lib/kerb-identity-1.0.1.jar:/usr/local/hadoop-3.3.4/share/hadoop/common/lib/jetty-http-9.4.43.v20210629.jar:/usr/local/hadoop-3.3.4/share/hadoop/common/lib/reload4j-1.2.22.jar:/usr/local/hadoop-3.3.4/share/hadoop/common/lib/animal-sniffer-annotations-1.17.jar:/usr/local/hadoop-3.3.4/share/hadoop/common/lib/jersey-server-1.19.jar:/usr/local/hadoop-3.3.4/share/hadoop/common/lib/kerb-server-1.0.1.jar:/usr/local/hadoop-3.3.4/share/hadoop/common/lib/jersey-json-1.19.jar:/usr/local/hadoop-3.3.4/share/hadoop/common/lib/kerb-common-1.0.1.jar:/usr/local/hadoop-3.3.4/share/hadoop/common/lib/commons-compress-1.21.jar:/usr/local/hadoop-3.3.4/share/hadoop/common/lib/commons-net-3.6.jar:/usr/local/hadoop-3.3.4/share/hadoop/common/lib/kerb-util-1.0.1.jar:/usr/local/hadoop-3.3.4/share/hadoop/common/lib/woodstox-core-5.3.0.jar:/usr/local/hadoop-3.3.4/share/hadoop/common/lib/jaxb-impl-2.2.3-1.jar:/usr/local/hadoop-3.3.4/share/hadoop/common/lib/j2objc-annotations-1.1.jar:/usr/local/hadoop-3.3.4/share/hadoop/common/lib/jetty-webapp-9.4.43.v20210629.jar:/usr/local/hadoop-3.3.4/share/hadoop/common/lib/zookeeper-jute-3.5.6.jar:/usr/local/hadoop-3.3.4/share/hadoop/common/lib/kerb-admin-1.0.1.jar:/usr/local/hadoop-3.3.4/share/hadoop/common/lib/jackson-xc-1.9.13.jar:/usr/local/hadoop-3.3.4/share/hadoop/common/lib/hadoop-shaded-protobuf_3_7-1.1.1.jar:/usr/local/hadoop-3.3.4/share/hadoop/common/lib/avro-1.7.7.jar:/usr/local/hadoop-3.3.4/share/hadoop/common/lib/commons-math3-3.1.1.jar:/usr/local/hadoop-3.3.4/share/hadoop/common/lib/jackson-core-asl-1.9.13.jar:/usr/local/hadoop-3.3.4/share/hadoop/common/lib/jettison-1.1.jar:/usr/local/hadoop-3.3.4/share/hadoop/common/lib/jsr311-api-1.1.1.jar:/usr/local/hadoop-3.3.4/share/hadoop/common/lib/dnsjava-2.1.7.jar:/usr/local/hadoop-3.3.4/share/hadoop/common/lib/jsr305-3.0.2.jar:/usr/local/hadoop-3.3.4/share/hadoop/common/lib/kerby-util-1.0.1.jar:/usr/local/hadoop-3.3.4/share/hadoop/common/lib/accessors-smart-2.4.7.jar:/usr/local/hadoop-3.3.4/share/hadoop/common/lib/commons-text-1.4.jar:/usr/local/hadoop-3.3.4/share/hadoop/common/lib/kerby-pkix-1.0.1.jar:/usr/local/hadoop-3.3.4/share/hadoop/common/lib/commons-codec-1.15.jar:/usr/local/hadoop-3.3.4/share/hadoop/common/hadoop-registry-3.3.4.jar:/usr/local/hadoop-3.3.4/share/hadoop/common/hadoop-nfs-3.3.4.jar:/usr/local/hadoop-3.3.4/share/hadoop/common/hadoop-kms-3.3.4.jar:/usr/local/hadoop-3.3.4/share/hadoop/common/hadoop-common-3.3.4.jar:/usr/local/hadoop-3.3.4/share/hadoop/common/hadoop-common-3.3.4-tests.jar:/usr/local/hadoop-3.3.4/share/hadoop/hdfs:/usr/local/hadoop-3.3.4/share/hadoop/hdfs/lib/jetty-security-9.4.43.v20210629.jar:/usr/local/hadoop-3.3.4/share/hadoop/hdfs/lib/netty-codec-dns-4.1.77.Final.jar:/usr/local/hadoop-3.3.4/share/hadoop/hdfs/lib/leveldbjni-all-1.8.jar:/usr/local/hadoop-3.3.4/share/hadoop/hdfs/lib/listenablefuture-9999.0-empty-to-avoid-conflict-with-guava.jar:/usr/local/hadoop-3.3.4/share/hadoop/hdfs/lib/commons-cli-1.2.jar:/usr/local/hadoop-3.3.4/share/hadoop/hdfs/lib/kerby-asn1-1.0.1.jar:/usr/local/hadoop-3.3.4/share/hadoop/hdfs/lib/netty-transport-native-kqueue-4.1.77.Final-osx-x86_64.jar:/usr/local/hadoop-3.3.4/share/hadoop/hdfs/lib/kerb-crypto-1.0.1.jar:/usr/local/hadoop-3.3.4/share/hadoop/hdfs/lib/guava-27.0-jre.jar:/usr/local/hadoop-3.3.4/share/hadoop/hdfs/lib/hadoop-annotations-3.3.4.jar:/usr/local/hadoop-3.3.4/share/hadoop/hdfs/lib/hadoop-shaded-guava-1.1.1.jar:/usr/local/hadoop-3.3.4/share/hadoop/hdfs/lib/kerb-client-1.0.1.jar:/usr/local/hadoop-3.3.4/share/hadoop/hdfs/lib/jetty-util-ajax-9.4.43.v20210629.jar:/usr/local/hadoop-3.3.4/share/hadoop/hdfs/lib/netty-codec-socks-4.1.77.Final.jar:/usr/local/hadoop-3.3.4/share/hadoop/hdfs/lib/nimbus-jose-jwt-9.8.1.jar:/usr/local/hadoop-3.3.4/share/hadoop/hdfs/lib/jaxb-api-2.2.11.jar:/usr/local/hadoop-3.3.4/share/hadoop/hdfs/lib/jackson-mapper-asl-1.9.13.jar:/usr/local/hadoop-3.3.4/share/hadoop/hdfs/lib/audience-annotations-0.5.0.jar:/usr/local/hadoop-3.3.4/share/hadoop/hdfs/lib/okio-2.8.0.jar:/usr/local/hadoop-3.3.4/share/hadoop/hdfs/lib/kerby-xdr-1.0.1.jar:/usr/local/hadoop-3.3.4/share/hadoop/hdfs/lib/stax2-api-4.2.1.jar:/usr/local/hadoop-3.3.4/share/hadoop/hdfs/lib/netty-transport-native-epoll-4.1.77.Final-linux-x86_64.jar:/usr/local/hadoop-3.3.4/share/hadoop/hdfs/lib/netty-resolver-dns-classes-macos-4.1.77.Final.jar:/usr/local/hadoop-3.3.4/share/hadoop/hdfs/lib/paranamer-2.3.jar:/usr/local/hadoop-3.3.4/share/hadoop/hdfs/lib/netty-codec-http2-4.1.77.Final.jar:/usr/local/hadoop-3.3.4/share/hadoop/hdfs/lib/netty-transport-udt-4.1.77.Final.jar:/usr/local/hadoop-3.3.4/share/hadoop/hdfs/lib/jetty-util-9.4.43.v20210629.jar:/usr/local/hadoop-3.3.4/share/hadoop/hdfs/lib/zookeeper-3.5.6.jar:/usr/local/hadoop-3.3.4/share/hadoop/hdfs/lib/netty-transport-native-kqueue-4.1.77.Final-osx-aarch_64.jar:/usr/local/hadoop-3.3.4/share/hadoop/hdfs/lib/jsch-0.1.55.jar:/usr/local/hadoop-3.3.4/share/hadoop/hdfs/lib/curator-framework-4.2.0.jar:/usr/local/hadoop-3.3.4/share/hadoop/hdfs/lib/curator-recipes-4.2.0.jar:/usr/local/hadoop-3.3.4/share/hadoop/hdfs/lib/javax.servlet-api-3.1.0.jar:/usr/local/hadoop-3.3.4/share/hadoop/hdfs/lib/commons-io-2.8.0.jar:/usr/local/hadoop-3.3.4/share/hadoop/hdfs/lib/json-simple-1.1.1.jar:/usr/local/hadoop-3.3.4/share/hadoop/hdfs/lib/httpcore-4.4.13.jar:/usr/local/hadoop-3.3.4/share/hadoop/hdfs/lib/commons-lang3-3.12.0.jar:/usr/local/hadoop-3.3.4/share/hadoop/hdfs/lib/protobuf-java-2.5.0.jar:/usr/local/hadoop-3.3.4/share/hadoop/hdfs/lib/jetty-xml-9.4.43.v20210629.jar:/usr/local/hadoop-3.3.4/share/hadoop/hdfs/lib/kerb-simplekdc-1.0.1.jar:/usr/local/hadoop-3.3.4/share/hadoop/hdfs/lib/asm-5.0.4.jar:/usr/local/hadoop-3.3.4/share/hadoop/hdfs/lib/jersey-core-1.19.jar:/usr/local/hadoop-3.3.4/share/hadoop/hdfs/lib/failureaccess-1.0.jar:/usr/local/hadoop-3.3.4/share/hadoop/hdfs/lib/gson-2.8.9.jar:/usr/local/hadoop-3.3.4/share/hadoop/hdfs/lib/json-smart-2.4.7.jar:/usr/local/hadoop-3.3.4/share/hadoop/hdfs/lib/netty-transport-native-epoll-4.1.77.Final-linux-aarch_64.jar:/usr/local/hadoop-3.3.4/share/hadoop/hdfs/lib/checker-qual-2.5.2.jar:/usr/local/hadoop-3.3.4/share/hadoop/hdfs/lib/netty-3.10.6.Final.jar:/usr/local/hadoop-3.3.4/share/hadoop/hdfs/lib/netty-codec-http-4.1.77.Final.jar:/usr/local/hadoop-3.3.4/share/hadoop/hdfs/lib/kerb-core-1.0.1.jar:/usr/local/hadoop-3.3.4/share/hadoop/hdfs/lib/commons-configuration2-2.1.1.jar:/usr/local/hadoop-3.3.4/share/hadoop/hdfs/lib/netty-transport-4.1.77.Final.jar:/usr/local/hadoop-3.3.4/share/hadoop/hdfs/lib/jersey-servlet-1.19.jar:/usr/local/hadoop-3.3.4/share/hadoop/hdfs/lib/netty-codec-haproxy-4.1.77.Final.jar:/usr/local/hadoop-3.3.4/share/hadoop/hdfs/lib/kerby-config-1.0.1.jar:/usr/local/hadoop-3.3.4/share/hadoop/hdfs/lib/jackson-jaxrs-1.9.13.jar:/usr/local/hadoop-3.3.4/share/hadoop/hdfs/lib/re2j-1.1.jar:/usr/local/hadoop-3.3.4/share/hadoop/hdfs/lib/netty-transport-classes-epoll-4.1.77.Final.jar:/usr/local/hadoop-3.3.4/share/hadoop/hdfs/lib/token-provider-1.0.1.jar:/usr/local/hadoop-3.3.4/share/hadoop/hdfs/lib/hadoop-auth-3.3.4.jar:/usr/local/hadoop-3.3.4/share/hadoop/hdfs/lib/netty-resolver-dns-native-macos-4.1.77.Final-osx-aarch_64.jar:/usr/local/hadoop-3.3.4/share/hadoop/hdfs/lib/kotlin-stdlib-common-1.4.10.jar:/usr/local/hadoop-3.3.4/share/hadoop/hdfs/lib/netty-transport-classes-kqueue-4.1.77.Final.jar:/usr/local/hadoop-3.3.4/share/hadoop/hdfs/lib/snappy-java-1.1.8.2.jar:/usr/local/hadoop-3.3.4/share/hadoop/hdfs/lib/netty-handler-proxy-4.1.77.Final.jar:/usr/local/hadoop-3.3.4/share/hadoop/hdfs/lib/curator-client-4.2.0.jar:/usr/local/hadoop-3.3.4/share/hadoop/hdfs/lib/netty-resolver-4.1.77.Final.jar:/usr/local/hadoop-3.3.4/share/hadoop/hdfs/lib/jackson-annotations-2.12.7.jar:/usr/local/hadoop-3.3.4/share/hadoop/hdfs/lib/jackson-databind-2.12.7.jar:/usr/local/hadoop-3.3.4/share/hadoop/hdfs/lib/commons-collections-3.2.2.jar:/usr/local/hadoop-3.3.4/share/hadoop/hdfs/lib/commons-daemon-1.0.13.jar:/usr/local/hadoop-3.3.4/share/hadoop/hdfs/lib/commons-logging-1.1.3.jar:/usr/local/hadoop-3.3.4/share/hadoop/hdfs/lib/jakarta.activation-api-1.2.1.jar:/usr/local/hadoop-3.3.4/share/hadoop/hdfs/lib/netty-transport-sctp-4.1.77.Final.jar:/usr/local/hadoop-3.3.4/share/hadoop/hdfs/lib/jetty-io-9.4.43.v20210629.jar:/usr/local/hadoop-3.3.4/share/hadoop/hdfs/lib/netty-codec-smtp-4.1.77.Final.jar:/usr/local/hadoop-3.3.4/share/hadoop/hdfs/lib/httpclient-4.5.13.jar:/usr/local/hadoop-3.3.4/share/hadoop/hdfs/lib/commons-beanutils-1.9.4.jar:/usr/local/hadoop-3.3.4/share/hadoop/hdfs/lib/netty-buffer-4.1.77.Final.jar:/usr/local/hadoop-3.3.4/share/hadoop/hdfs/lib/netty-handler-4.1.77.Final.jar:/usr/local/hadoop-3.3.4/share/hadoop/hdfs/lib/jcip-annotations-1.0-1.jar:/usr/local/hadoop-3.3.4/share/hadoop/hdfs/lib/jackson-core-2.12.7.jar:/usr/local/hadoop-3.3.4/share/hadoop/hdfs/lib/jetty-server-9.4.43.v20210629.jar:/usr/local/hadoop-3.3.4/share/hadoop/hdfs/lib/jetty-servlet-9.4.43.v20210629.jar:/usr/local/hadoop-3.3.4/share/hadoop/hdfs/lib/kotlin-stdlib-1.4.10.jar:/usr/local/hadoop-3.3.4/share/hadoop/hdfs/lib/kerb-identity-1.0.1.jar:/usr/local/hadoop-3.3.4/share/hadoop/hdfs/lib/jetty-http-9.4.43.v20210629.jar:/usr/local/hadoop-3.3.4/share/hadoop/hdfs/lib/netty-codec-redis-4.1.77.Final.jar:/usr/local/hadoop-3.3.4/share/hadoop/hdfs/lib/netty-transport-rxtx-4.1.77.Final.jar:/usr/local/hadoop-3.3.4/share/hadoop/hdfs/lib/netty-codec-mqtt-4.1.77.Final.jar:/usr/local/hadoop-3.3.4/share/hadoop/hdfs/lib/reload4j-1.2.22.jar:/usr/local/hadoop-3.3.4/share/hadoop/hdfs/lib/netty-codec-xml-4.1.77.Final.jar:/usr/local/hadoop-3.3.4/share/hadoop/hdfs/lib/animal-sniffer-annotations-1.17.jar:/usr/local/hadoop-3.3.4/share/hadoop/hdfs/lib/jersey-server-1.19.jar:/usr/local/hadoop-3.3.4/share/hadoop/hdfs/lib/kerb-server-1.0.1.jar:/usr/local/hadoop-3.3.4/share/hadoop/hdfs/lib/jersey-json-1.19.jar:/usr/local/hadoop-3.3.4/share/hadoop/hdfs/lib/kerb-common-1.0.1.jar:/usr/local/hadoop-3.3.4/share/hadoop/hdfs/lib/commons-compress-1.21.jar:/usr/local/hadoop-3.3.4/share/hadoop/hdfs/lib/commons-net-3.6.jar:/usr/local/hadoop-3.3.4/share/hadoop/hdfs/lib/kerb-util-1.0.1.jar:/usr/local/hadoop-3.3.4/share/hadoop/hdfs/lib/woodstox-core-5.3.0.jar:/usr/local/hadoop-3.3.4/share/hadoop/hdfs/lib/jaxb-impl-2.2.3-1.jar:/usr/local/hadoop-3.3.4/share/hadoop/hdfs/lib/j2objc-annotations-1.1.jar:/usr/local/hadoop-3.3.4/share/hadoop/hdfs/lib/netty-resolver-dns-native-macos-4.1.77.Final-osx-x86_64.jar:/usr/local/hadoop-3.3.4/share/hadoop/hdfs/lib/jetty-webapp-9.4.43.v20210629.jar:/usr/local/hadoop-3.3.4/share/hadoop/hdfs/lib/netty-codec-memcache-4.1.77.Final.jar:/usr/local/hadoop-3.3.4/share/hadoop/hdfs/lib/zookeeper-jute-3.5.6.jar:/usr/local/hadoop-3.3.4/share/hadoop/hdfs/lib/kerb-admin-1.0.1.jar:/usr/local/hadoop-3.3.4/share/hadoop/hdfs/lib/netty-transport-native-unix-common-4.1.77.Final.jar:/usr/local/hadoop-3.3.4/share/hadoop/hdfs/lib/jackson-xc-1.9.13.jar:/usr/local/hadoop-3.3.4/share/hadoop/hdfs/lib/netty-all-4.1.77.Final.jar:/usr/local/hadoop-3.3.4/share/hadoop/hdfs/lib/hadoop-shaded-protobuf_3_7-1.1.1.jar:/usr/local/hadoop-3.3.4/share/hadoop/hdfs/lib/avro-1.7.7.jar:/usr/local/hadoop-3.3.4/share/hadoop/hdfs/lib/okhttp-4.9.3.jar:/usr/local/hadoop-3.3.4/share/hadoop/hdfs/lib/commons-math3-3.1.1.jar:/usr/local/hadoop-3.3.4/share/hadoop/hdfs/lib/jackson-core-asl-1.9.13.jar:/usr/local/hadoop-3.3.4/share/hadoop/hdfs/lib/netty-resolver-dns-4.1.77.Final.jar:/usr/local/hadoop-3.3.4/share/hadoop/hdfs/lib/jettison-1.1.jar:/usr/local/hadoop-3.3.4/share/hadoop/hdfs/lib/jsr311-api-1.1.1.jar:/usr/local/hadoop-3.3.4/share/hadoop/hdfs/lib/dnsjava-2.1.7.jar:/usr/local/hadoop-3.3.4/share/hadoop/hdfs/lib/jsr305-3.0.2.jar:/usr/local/hadoop-3.3.4/share/hadoop/hdfs/lib/netty-codec-4.1.77.Final.jar:/usr/local/hadoop-3.3.4/share/hadoop/hdfs/lib/netty-common-4.1.77.Final.jar:/usr/local/hadoop-3.3.4/share/hadoop/hdfs/lib/kerby-util-1.0.1.jar:/usr/local/hadoop-3.3.4/share/hadoop/hdfs/lib/netty-codec-stomp-4.1.77.Final.jar:/usr/local/hadoop-3.3.4/share/hadoop/hdfs/lib/accessors-smart-2.4.7.jar:/usr/local/hadoop-3.3.4/share/hadoop/hdfs/lib/commons-text-1.4.jar:/usr/local/hadoop-3.3.4/share/hadoop/hdfs/lib/kerby-pkix-1.0.1.jar:/usr/local/hadoop-3.3.4/share/hadoop/hdfs/lib/commons-codec-1.15.jar:/usr/local/hadoop-3.3.4/share/hadoop/hdfs/hadoop-hdfs-rbf-3.3.4.jar:/usr/local/hadoop-3.3.4/share/hadoop/hdfs/hadoop-hdfs-client-3.3.4-tests.jar:/usr/local/hadoop-3.3.4/share/hadoop/hdfs/hadoop-hdfs-3.3.4-tests.jar:/usr/local/hadoop-3.3.4/share/hadoop/hdfs/hadoop-hdfs-httpfs-3.3.4.jar:/usr/local/hadoop-3.3.4/share/hadoop/hdfs/hadoop-hdfs-3.3.4.jar:/usr/local/hadoop-3.3.4/share/hadoop/hdfs/hadoop-hdfs-rbf-3.3.4-tests.jar:/usr/local/hadoop-3.3.4/share/hadoop/hdfs/hadoop-hdfs-native-client-3.3.4.jar:/usr/local/hadoop-3.3.4/share/hadoop/hdfs/hadoop-hdfs-nfs-3.3.4.jar:/usr/local/hadoop-3.3.4/share/hadoop/hdfs/hadoop-hdfs-native-client-3.3.4-tests.jar:/usr/local/hadoop-3.3.4/share/hadoop/hdfs/hadoop-hdfs-client-3.3.4.jar:/usr/local/hadoop-3.3.4/share/hadoop/mapreduce/hadoop-mapreduce-client-hs-3.3.4.jar:/usr/local/hadoop-3.3.4/share/hadoop/mapreduce/hadoop-mapreduce-client-uploader-3.3.4.jar:/usr/local/hadoop-3.3.4/share/hadoop/mapreduce/hadoop-mapreduce-client-app-3.3.4.jar:/usr/local/hadoop-3.3.4/share/hadoop/mapreduce/hadoop-mapreduce-client-common-3.3.4.jar:/usr/local/hadoop-3.3.4/share/hadoop/mapreduce/hadoop-mapreduce-client-jobclient-3.3.4.jar:/usr/local/hadoop-3.3.4/share/hadoop/mapreduce/hadoop-mapreduce-client-hs-plugins-3.3.4.jar:/usr/local/hadoop-3.3.4/share/hadoop/mapreduce/hadoop-mapreduce-client-jobclient-3.3.4-tests.jar:/usr/local/hadoop-3.3.4/share/hadoop/mapreduce/hadoop-mapreduce-client-shuffle-3.3.4.jar:/usr/local/hadoop-3.3.4/share/hadoop/mapreduce/hadoop-mapreduce-client-core-3.3.4.jar:/usr/local/hadoop-3.3.4/share/hadoop/mapreduce/hadoop-mapreduce-client-nativetask-3.3.4.jar:/usr/local/hadoop-3.3.4/share/hadoop/mapreduce/hadoop-mapreduce-examples-3.3.4.jar:/usr/local/hadoop-3.3.4/share/hadoop/yarn:/usr/local/hadoop-3.3.4/share/hadoop/yarn/lib/jetty-annotations-9.4.43.v20210629.jar:/usr/local/hadoop-3.3.4/share/hadoop/yarn/lib/jetty-jndi-9.4.43.v20210629.jar:/usr/local/hadoop-3.3.4/share/hadoop/yarn/lib/bcpkix-jdk15on-1.60.jar:/usr/local/hadoop-3.3.4/share/hadoop/yarn/lib/fst-2.50.jar:/usr/local/hadoop-3.3.4/share/hadoop/yarn/lib/mssql-jdbc-6.2.1.jre7.jar:/usr/local/hadoop-3.3.4/share/hadoop/yarn/lib/javax.websocket-client-api-1.0.jar:/usr/local/hadoop-3.3.4/share/hadoop/yarn/lib/websocket-client-9.4.43.v20210629.jar:/usr/local/hadoop-3.3.4/share/hadoop/yarn/lib/jersey-client-1.19.jar:/usr/local/hadoop-3.3.4/share/hadoop/yarn/lib/jackson-module-jaxb-annotations-2.12.7.jar:/usr/local/hadoop-3.3.4/share/hadoop/yarn/lib/javax-websocket-client-impl-9.4.43.v20210629.jar:/usr/local/hadoop-3.3.4/share/hadoop/yarn/lib/snakeyaml-1.26.jar:/usr/local/hadoop-3.3.4/share/hadoop/yarn/lib/guice-servlet-4.0.jar:/usr/local/hadoop-3.3.4/share/hadoop/yarn/lib/asm-analysis-9.1.jar:/usr/local/hadoop-3.3.4/share/hadoop/yarn/lib/websocket-server-9.4.43.v20210629.jar:/usr/local/hadoop-3.3.4/share/hadoop/yarn/lib/jackson-jaxrs-base-2.12.7.jar:/usr/local/hadoop-3.3.4/share/hadoop/yarn/lib/websocket-common-9.4.43.v20210629.jar:/usr/local/hadoop-3.3.4/share/hadoop/yarn/lib/HikariCP-java7-2.4.12.jar:/usr/local/hadoop-3.3.4/share/hadoop/yarn/lib/jetty-plus-9.4.43.v20210629.jar:/usr/local/hadoop-3.3.4/share/hadoop/yarn/lib/javax.inject-1.jar:/usr/local/hadoop-3.3.4/share/hadoop/yarn/lib/bcprov-jdk15on-1.60.jar:/usr/local/hadoop-3.3.4/share/hadoop/yarn/lib/objenesis-2.6.jar:/usr/local/hadoop-3.3.4/share/hadoop/yarn/lib/java-util-1.9.0.jar:/usr/local/hadoop-3.3.4/share/hadoop/yarn/lib/websocket-servlet-9.4.43.v20210629.jar:/usr/local/hadoop-3.3.4/share/hadoop/yarn/lib/ehcache-3.3.1.jar:/usr/local/hadoop-3.3.4/share/hadoop/yarn/lib/websocket-api-9.4.43.v20210629.jar:/usr/local/hadoop-3.3.4/share/hadoop/yarn/lib/json-io-2.5.1.jar:/usr/local/hadoop-3.3.4/share/hadoop/yarn/lib/metrics-core-3.2.4.jar:/usr/local/hadoop-3.3.4/share/hadoop/yarn/lib/aopalliance-1.0.jar:/usr/local/hadoop-3.3.4/share/hadoop/yarn/lib/javax.websocket-api-1.0.jar:/usr/local/hadoop-3.3.4/share/hadoop/yarn/lib/asm-commons-9.1.jar:/usr/local/hadoop-3.3.4/share/hadoop/yarn/lib/javax-websocket-server-impl-9.4.43.v20210629.jar:/usr/local/hadoop-3.3.4/share/hadoop/yarn/lib/guice-4.0.jar:/usr/local/hadoop-3.3.4/share/hadoop/yarn/lib/jakarta.xml.bind-api-2.3.2.jar:/usr/local/hadoop-3.3.4/share/hadoop/yarn/lib/jetty-client-9.4.43.v20210629.jar:/usr/local/hadoop-3.3.4/share/hadoop/yarn/lib/asm-tree-9.1.jar:/usr/local/hadoop-3.3.4/share/hadoop/yarn/lib/geronimo-jcache_1.0_spec-1.0-alpha-1.jar:/usr/local/hadoop-3.3.4/share/hadoop/yarn/lib/jersey-guice-1.19.jar:/usr/local/hadoop-3.3.4/share/hadoop/yarn/lib/jna-5.2.0.jar:/usr/local/hadoop-3.3.4/share/hadoop/yarn/lib/jline-3.9.0.jar:/usr/local/hadoop-3.3.4/share/hadoop/yarn/lib/swagger-annotations-1.5.4.jar:/usr/local/hadoop-3.3.4/share/hadoop/yarn/lib/jackson-jaxrs-json-provider-2.12.7.jar:/usr/local/hadoop-3.3.4/share/hadoop/yarn/hadoop-yarn-applications-unmanaged-am-launcher-3.3.4.jar:/usr/local/hadoop-3.3.4/share/hadoop/yarn/hadoop-yarn-server-nodemanager-3.3.4.jar:/usr/local/hadoop-3.3.4/share/hadoop/yarn/hadoop-yarn-client-3.3.4.jar:/usr/local/hadoop-3.3.4/share/hadoop/yarn/hadoop-yarn-server-sharedcachemanager-3.3.4.jar:/usr/local/hadoop-3.3.4/share/hadoop/yarn/hadoop-yarn-server-applicationhistoryservice-3.3.4.jar:/usr/local/hadoop-3.3.4/share/hadoop/yarn/hadoop-yarn-server-web-proxy-3.3.4.jar:/usr/local/hadoop-3.3.4/share/hadoop/yarn/hadoop-yarn-services-api-3.3.4.jar:/usr/local/hadoop-3.3.4/share/hadoop/yarn/hadoop-yarn-applications-mawo-core-3.3.4.jar:/usr/local/hadoop-3.3.4/share/hadoop/yarn/hadoop-yarn-server-timeline-pluginstorage-3.3.4.jar:/usr/local/hadoop-3.3.4/share/hadoop/yarn/hadoop-yarn-applications-distributedshell-3.3.4.jar:/usr/local/hadoop-3.3.4/share/hadoop/yarn/hadoop-yarn-services-core-3.3.4.jar:/usr/local/hadoop-3.3.4/share/hadoop/yarn/hadoop-yarn-registry-3.3.4.jar:/usr/local/hadoop-3.3.4/share/hadoop/yarn/hadoop-yarn-server-tests-3.3.4.jar:/usr/local/hadoop-3.3.4/share/hadoop/yarn/hadoop-yarn-server-common-3.3.4.jar:/usr/local/hadoop-3.3.4/share/hadoop/yarn/hadoop-yarn-server-router-3.3.4.jar:/usr/local/hadoop-3.3.4/share/hadoop/yarn/hadoop-yarn-server-resourcemanager-3.3.4.jar:/usr/local/hadoop-3.3.4/share/hadoop/yarn/hadoop-yarn-api-3.3.4.jar:/usr/local/hadoop-3.3.4/share/hadoop/yarn/hadoop-yarn-common-3.3.4.jar\n",
            "STARTUP_MSG:   build = https://github.com/apache/hadoop.git -r a585a73c3e02ac62350c136643a5e7f6095a3dbb; compiled by 'stevel' on 2022-07-29T12:32Z\n",
            "STARTUP_MSG:   java = 11.0.20.1\n",
            "************************************************************/\n",
            "2023-09-13 17:56:15,414 INFO namenode.NameNode: registered UNIX signal handlers for [TERM, HUP, INT]\n",
            "2023-09-13 17:56:15,643 INFO namenode.NameNode: createNameNode [-format]\n",
            "2023-09-13 17:56:16,775 INFO namenode.NameNode: Formatting using clusterid: CID-a98cb0ca-9b6a-46ab-97f5-a2166a5ee05a\n",
            "2023-09-13 17:56:16,838 INFO namenode.FSEditLog: Edit logging is async:true\n",
            "2023-09-13 17:56:16,896 INFO namenode.FSNamesystem: KeyProvider: null\n",
            "2023-09-13 17:56:16,899 INFO namenode.FSNamesystem: fsLock is fair: true\n",
            "2023-09-13 17:56:16,899 INFO namenode.FSNamesystem: Detailed lock hold time metrics enabled: false\n",
            "2023-09-13 17:56:16,949 INFO namenode.FSNamesystem: fsOwner                = root (auth:SIMPLE)\n",
            "2023-09-13 17:56:16,949 INFO namenode.FSNamesystem: supergroup             = supergroup\n",
            "2023-09-13 17:56:16,949 INFO namenode.FSNamesystem: isPermissionEnabled    = true\n",
            "2023-09-13 17:56:16,949 INFO namenode.FSNamesystem: isStoragePolicyEnabled = true\n",
            "2023-09-13 17:56:16,949 INFO namenode.FSNamesystem: HA Enabled: false\n",
            "2023-09-13 17:56:17,097 INFO common.Util: dfs.datanode.fileio.profiling.sampling.percentage set to 0. Disabling file IO profiling\n",
            "2023-09-13 17:56:17,141 INFO blockmanagement.DatanodeManager: dfs.block.invalidate.limit: configured=1000, counted=60, effected=1000\n",
            "2023-09-13 17:56:17,141 INFO blockmanagement.DatanodeManager: dfs.namenode.datanode.registration.ip-hostname-check=true\n",
            "2023-09-13 17:56:17,148 INFO blockmanagement.BlockManager: dfs.namenode.startup.delay.block.deletion.sec is set to 000:00:00:00.000\n",
            "2023-09-13 17:56:17,151 INFO blockmanagement.BlockManager: The block deletion will start around 2023 Sep 13 17:56:17\n",
            "2023-09-13 17:56:17,153 INFO util.GSet: Computing capacity for map BlocksMap\n",
            "2023-09-13 17:56:17,154 INFO util.GSet: VM type       = 64-bit\n",
            "2023-09-13 17:56:17,156 INFO util.GSet: 2.0% max memory 3.2 GB = 64.9 MB\n",
            "2023-09-13 17:56:17,156 INFO util.GSet: capacity      = 2^23 = 8388608 entries\n",
            "2023-09-13 17:56:17,229 INFO blockmanagement.BlockManager: Storage policy satisfier is disabled\n",
            "2023-09-13 17:56:17,229 INFO blockmanagement.BlockManager: dfs.block.access.token.enable = false\n",
            "2023-09-13 17:56:17,238 INFO blockmanagement.BlockManagerSafeMode: dfs.namenode.safemode.threshold-pct = 0.999\n",
            "2023-09-13 17:56:17,238 INFO blockmanagement.BlockManagerSafeMode: dfs.namenode.safemode.min.datanodes = 0\n",
            "2023-09-13 17:56:17,238 INFO blockmanagement.BlockManagerSafeMode: dfs.namenode.safemode.extension = 30000\n",
            "2023-09-13 17:56:17,240 INFO blockmanagement.BlockManager: defaultReplication         = 1\n",
            "2023-09-13 17:56:17,240 INFO blockmanagement.BlockManager: maxReplication             = 512\n",
            "2023-09-13 17:56:17,240 INFO blockmanagement.BlockManager: minReplication             = 1\n",
            "2023-09-13 17:56:17,242 INFO blockmanagement.BlockManager: maxReplicationStreams      = 2\n",
            "2023-09-13 17:56:17,243 INFO blockmanagement.BlockManager: redundancyRecheckInterval  = 3000ms\n",
            "2023-09-13 17:56:17,243 INFO blockmanagement.BlockManager: encryptDataTransfer        = false\n",
            "2023-09-13 17:56:17,243 INFO blockmanagement.BlockManager: maxNumBlocksToLog          = 1000\n",
            "2023-09-13 17:56:17,280 INFO namenode.FSDirectory: GLOBAL serial map: bits=29 maxEntries=536870911\n",
            "2023-09-13 17:56:17,280 INFO namenode.FSDirectory: USER serial map: bits=24 maxEntries=16777215\n",
            "2023-09-13 17:56:17,280 INFO namenode.FSDirectory: GROUP serial map: bits=24 maxEntries=16777215\n",
            "2023-09-13 17:56:17,280 INFO namenode.FSDirectory: XATTR serial map: bits=24 maxEntries=16777215\n",
            "2023-09-13 17:56:17,308 INFO util.GSet: Computing capacity for map INodeMap\n",
            "2023-09-13 17:56:17,308 INFO util.GSet: VM type       = 64-bit\n",
            "2023-09-13 17:56:17,309 INFO util.GSet: 1.0% max memory 3.2 GB = 32.5 MB\n",
            "2023-09-13 17:56:17,309 INFO util.GSet: capacity      = 2^22 = 4194304 entries\n",
            "2023-09-13 17:56:17,346 INFO namenode.FSDirectory: ACLs enabled? true\n",
            "2023-09-13 17:56:17,346 INFO namenode.FSDirectory: POSIX ACL inheritance enabled? true\n",
            "2023-09-13 17:56:17,346 INFO namenode.FSDirectory: XAttrs enabled? true\n",
            "2023-09-13 17:56:17,346 INFO namenode.NameNode: Caching file names occurring more than 10 times\n",
            "2023-09-13 17:56:17,354 INFO snapshot.SnapshotManager: Loaded config captureOpenFiles: false, skipCaptureAccessTimeOnlyChange: false, snapshotDiffAllowSnapRootDescendant: true, maxSnapshotLimit: 65536\n",
            "2023-09-13 17:56:17,357 INFO snapshot.SnapshotManager: SkipList is disabled\n",
            "2023-09-13 17:56:17,363 INFO util.GSet: Computing capacity for map cachedBlocks\n",
            "2023-09-13 17:56:17,363 INFO util.GSet: VM type       = 64-bit\n",
            "2023-09-13 17:56:17,364 INFO util.GSet: 0.25% max memory 3.2 GB = 8.1 MB\n",
            "2023-09-13 17:56:17,364 INFO util.GSet: capacity      = 2^20 = 1048576 entries\n",
            "2023-09-13 17:56:17,385 INFO metrics.TopMetrics: NNTop conf: dfs.namenode.top.window.num.buckets = 10\n",
            "2023-09-13 17:56:17,385 INFO metrics.TopMetrics: NNTop conf: dfs.namenode.top.num.users = 10\n",
            "2023-09-13 17:56:17,385 INFO metrics.TopMetrics: NNTop conf: dfs.namenode.top.windows.minutes = 1,5,25\n",
            "2023-09-13 17:56:17,390 INFO namenode.FSNamesystem: Retry cache on namenode is enabled\n",
            "2023-09-13 17:56:17,390 INFO namenode.FSNamesystem: Retry cache will use 0.03 of total heap and retry cache entry expiry time is 600000 millis\n",
            "2023-09-13 17:56:17,392 INFO util.GSet: Computing capacity for map NameNodeRetryCache\n",
            "2023-09-13 17:56:17,392 INFO util.GSet: VM type       = 64-bit\n",
            "2023-09-13 17:56:17,400 INFO util.GSet: 0.029999999329447746% max memory 3.2 GB = 997.2 KB\n",
            "2023-09-13 17:56:17,400 INFO util.GSet: capacity      = 2^17 = 131072 entries\n",
            "2023-09-13 17:56:17,466 INFO namenode.FSImage: Allocated new BlockPoolId: BP-1106809321-172.28.0.12-1694627777440\n",
            "2023-09-13 17:56:17,535 INFO common.Storage: Storage directory /tmp/hadoop-root/dfs/name has been successfully formatted.\n",
            "2023-09-13 17:56:17,652 INFO namenode.FSImageFormatProtobuf: Saving image file /tmp/hadoop-root/dfs/name/current/fsimage.ckpt_0000000000000000000 using no compression\n",
            "2023-09-13 17:56:17,905 INFO namenode.FSImageFormatProtobuf: Image file /tmp/hadoop-root/dfs/name/current/fsimage.ckpt_0000000000000000000 of size 399 bytes saved in 0 seconds .\n",
            "2023-09-13 17:56:17,964 INFO namenode.NNStorageRetentionManager: Going to retain 1 images with txid >= 0\n",
            "2023-09-13 17:56:18,075 INFO namenode.FSNamesystem: Stopping services started for active state\n",
            "2023-09-13 17:56:18,077 INFO namenode.FSNamesystem: Stopping services started for standby state\n",
            "2023-09-13 17:56:18,089 INFO namenode.FSImage: FSImageSaver clean checkpoint: txid=0 when meet shutdown.\n",
            "2023-09-13 17:56:18,092 INFO namenode.NameNode: SHUTDOWN_MSG: \n",
            "/************************************************************\n",
            "SHUTDOWN_MSG: Shutting down NameNode at 1326dc238f5b/172.28.0.12\n",
            "************************************************************/\n"
          ]
        }
      ]
    },
    {
      "cell_type": "markdown",
      "source": [
        "Hadoop scripts"
      ],
      "metadata": {
        "id": "bJYwmqrZN3Ql"
      }
    },
    {
      "cell_type": "markdown",
      "source": [
        "Hadoop comes with scripts for running commands, and starting and stopping daemons across the whole cluster. These scripts can be found in the bin and sbin directories"
      ],
      "metadata": {
        "id": "0frkp5aMV7n0"
      }
    },
    {
      "cell_type": "code",
      "source": [
        "#Exploring Hadoop scripts available in sbin directory\n",
        "!ls $HADOOP_HOME/sbin"
      ],
      "metadata": {
        "colab": {
          "base_uri": "https://localhost:8080/"
        },
        "id": "UPDf1gXRN2DH",
        "outputId": "c75440da-fdce-4829-d62c-19bfe981a228"
      },
      "execution_count": null,
      "outputs": [
        {
          "output_type": "stream",
          "name": "stdout",
          "text": [
            "distribute-exclude.sh\t start-all.sh\t      stop-balancer.sh\n",
            "FederationStateStore\t start-balancer.sh    stop-dfs.cmd\n",
            "hadoop-daemon.sh\t start-dfs.cmd\t      stop-dfs.sh\n",
            "hadoop-daemons.sh\t start-dfs.sh\t      stop-secure-dns.sh\n",
            "httpfs.sh\t\t start-secure-dns.sh  stop-yarn.cmd\n",
            "kms.sh\t\t\t start-yarn.cmd       stop-yarn.sh\n",
            "mr-jobhistory-daemon.sh  start-yarn.sh\t      workers.sh\n",
            "refresh-namenodes.sh\t stop-all.cmd\t      yarn-daemon.sh\n",
            "start-all.cmd\t\t stop-all.sh\t      yarn-daemons.sh\n"
          ]
        }
      ]
    },
    {
      "cell_type": "code",
      "source": [
        "#Creating other necessary enviroment variables before starting nodes\n",
        "os.environ[\"HDFS_NAMENODE_USER\"] = \"root\"\n",
        "os.environ[\"HDFS_DATANODE_USER\"] = \"root\"\n",
        "os.environ[\"HDFS_SECONDARYNAMENODE_USER\"] = \"root\"\n",
        "os.environ[\"YARN_RESOURCEMANAGER_USER\"] = \"root\"\n",
        "os.environ[\"YARN_NODEMANAGER_USER\"] = \"root\""
      ],
      "metadata": {
        "id": "oN-jeeavWFa5"
      },
      "execution_count": null,
      "outputs": []
    },
    {
      "cell_type": "code",
      "source": [
        "!$HADOOP_HOME/sbin/start-all.sh"
      ],
      "metadata": {
        "colab": {
          "base_uri": "https://localhost:8080/"
        },
        "id": "pHWVr8i6opWP",
        "outputId": "a806a622-d250-41eb-c911-c1b3141f77fc"
      },
      "execution_count": null,
      "outputs": [
        {
          "output_type": "stream",
          "name": "stdout",
          "text": [
            "Starting namenodes on [localhost]\n",
            "Starting datanodes\n",
            "Starting secondary namenodes [1326dc238f5b]\n",
            "1326dc238f5b: Warning: Permanently added '1326dc238f5b' (ED25519) to the list of known hosts.\n",
            "Starting resourcemanager\n",
            "Starting nodemanagers\n"
          ]
        }
      ]
    },
    {
      "cell_type": "code",
      "source": [
        "#Listing the running deamons\n",
        "!jps"
      ],
      "metadata": {
        "colab": {
          "base_uri": "https://localhost:8080/"
        },
        "id": "f39pJoLFpFpx",
        "outputId": "9fcf61c0-7239-43d7-c62d-7b8058123e02"
      },
      "execution_count": null,
      "outputs": [
        {
          "output_type": "stream",
          "name": "stdout",
          "text": [
            "3632 DataNode\n",
            "4246 NodeManager\n",
            "3512 NameNode\n",
            "4137 ResourceManager\n",
            "4365 Jps\n",
            "3839 SecondaryNameNode\n"
          ]
        }
      ]
    },
    {
      "cell_type": "code",
      "source": [],
      "metadata": {
        "id": "PSeN5BFNpJX8"
      },
      "execution_count": null,
      "outputs": []
    },
    {
      "cell_type": "markdown",
      "source": [
        "Tambien se pueden lanzar todos los procesos uno a uno"
      ],
      "metadata": {
        "id": "PwCLaAuipKba"
      }
    },
    {
      "cell_type": "code",
      "source": [
        "#Launching hdfs deamons\n",
        "!$HADOOP_HOME/sbin/start-dfs.sh"
      ],
      "metadata": {
        "id": "U6METYYLTQD4",
        "outputId": "f96644bf-aac7-423d-c86c-4ad24f4cd35b",
        "colab": {
          "base_uri": "https://localhost:8080/"
        }
      },
      "execution_count": null,
      "outputs": [
        {
          "output_type": "stream",
          "name": "stdout",
          "text": [
            "Starting namenodes on [localhost]\n",
            "localhost: namenode is running as process 3512.  Stop it first and ensure /tmp/hadoop-root-namenode.pid file is empty before retry.\n",
            "Starting datanodes\n",
            "localhost: datanode is running as process 3632.  Stop it first and ensure /tmp/hadoop-root-datanode.pid file is empty before retry.\n",
            "Starting secondary namenodes [1326dc238f5b]\n",
            "1326dc238f5b: secondarynamenode is running as process 3839.  Stop it first and ensure /tmp/hadoop-root-secondarynamenode.pid file is empty before retry.\n"
          ]
        }
      ]
    },
    {
      "cell_type": "code",
      "source": [
        "#Listing the running deamons\n",
        "!jps"
      ],
      "metadata": {
        "colab": {
          "base_uri": "https://localhost:8080/"
        },
        "id": "phffzEs0xiql",
        "outputId": "3c785423-2f03-40f8-f444-b756f1f4d8c5"
      },
      "execution_count": null,
      "outputs": [
        {
          "output_type": "stream",
          "name": "stdout",
          "text": [
            "3632 DataNode\n",
            "5108 Jps\n",
            "4246 NodeManager\n",
            "3512 NameNode\n",
            "4137 ResourceManager\n",
            "3839 SecondaryNameNode\n"
          ]
        }
      ]
    },
    {
      "cell_type": "code",
      "source": [
        "#Launching yarn deamons\n",
        "#nohup causes a process to ignore a SIGHUP signal\n",
        "!nohup $HADOOP_HOME/sbin/start-yarn.sh"
      ],
      "metadata": {
        "colab": {
          "base_uri": "https://localhost:8080/"
        },
        "id": "51Ytj29pLxeT",
        "outputId": "39b46dbb-adc8-4617-e56a-7f8d5cd2ef97"
      },
      "execution_count": null,
      "outputs": [
        {
          "output_type": "stream",
          "name": "stdout",
          "text": [
            "nohup: ignoring input and appending output to 'nohup.out'\n"
          ]
        }
      ]
    },
    {
      "cell_type": "code",
      "source": [
        "#Listing the running deamons\n",
        "!jps"
      ],
      "metadata": {
        "colab": {
          "base_uri": "https://localhost:8080/"
        },
        "id": "e8T7Q5OiUQ8R",
        "outputId": "35e95684-fd7b-4177-da86-d441f73fa436"
      },
      "execution_count": null,
      "outputs": [
        {
          "output_type": "stream",
          "name": "stdout",
          "text": [
            "3632 DataNode\n",
            "4246 NodeManager\n",
            "3512 NameNode\n",
            "4137 ResourceManager\n",
            "5353 Jps\n",
            "3839 SecondaryNameNode\n"
          ]
        }
      ]
    },
    {
      "cell_type": "markdown",
      "source": [
        "Monitoring Hadoop cluster with hadoop admin commands"
      ],
      "metadata": {
        "id": "NMHP25Pda5I0"
      }
    },
    {
      "cell_type": "code",
      "source": [
        "#Report the basic file system information and statistics\n",
        "!$HADOOP_HOME/bin/hdfs dfsadmin -report"
      ],
      "metadata": {
        "colab": {
          "base_uri": "https://localhost:8080/"
        },
        "id": "F4CeeemSl01c",
        "outputId": "dfca1749-69aa-450e-e9bd-e65c2d0b4296"
      },
      "execution_count": null,
      "outputs": [
        {
          "output_type": "stream",
          "name": "stdout",
          "text": [
            "Configured Capacity: 115658190848 (107.72 GB)\n",
            "Present Capacity: 83862347776 (78.10 GB)\n",
            "DFS Remaining: 83862323200 (78.10 GB)\n",
            "DFS Used: 24576 (24 KB)\n",
            "DFS Used%: 0.00%\n",
            "Replicated Blocks:\n",
            "\tUnder replicated blocks: 0\n",
            "\tBlocks with corrupt replicas: 0\n",
            "\tMissing blocks: 0\n",
            "\tMissing blocks (with replication factor 1): 0\n",
            "\tLow redundancy blocks with highest priority to recover: 0\n",
            "\tPending deletion blocks: 0\n",
            "Erasure Coded Block Groups: \n",
            "\tLow redundancy block groups: 0\n",
            "\tBlock groups with corrupt internal blocks: 0\n",
            "\tMissing block groups: 0\n",
            "\tLow redundancy blocks with highest priority to recover: 0\n",
            "\tPending deletion blocks: 0\n",
            "\n",
            "-------------------------------------------------\n",
            "Live datanodes (1):\n",
            "\n",
            "Name: 127.0.0.1:9866 (localhost)\n",
            "Hostname: 1326dc238f5b\n",
            "Decommission Status : Normal\n",
            "Configured Capacity: 115658190848 (107.72 GB)\n",
            "DFS Used: 24576 (24 KB)\n",
            "Non DFS Used: 31779065856 (29.60 GB)\n",
            "DFS Remaining: 83862323200 (78.10 GB)\n",
            "DFS Used%: 0.00%\n",
            "DFS Remaining%: 72.51%\n",
            "Configured Cache Capacity: 0 (0 B)\n",
            "Cache Used: 0 (0 B)\n",
            "Cache Remaining: 0 (0 B)\n",
            "Cache Used%: 100.00%\n",
            "Cache Remaining%: 0.00%\n",
            "Xceivers: 0\n",
            "Last contact: Wed Sep 13 17:57:20 UTC 2023\n",
            "Last Block Report: Wed Sep 13 17:56:39 UTC 2023\n",
            "Num of Blocks: 0\n",
            "\n",
            "\n"
          ]
        }
      ]
    },
    {
      "cell_type": "markdown",
      "source": [
        "#### TRAEMOS LOS DATOS DEL DRIVE A LA MAQUINA\n"
      ],
      "metadata": {
        "id": "hK-i-QXpK_-9"
      }
    },
    {
      "cell_type": "code",
      "source": [
        "# mount it\n",
        "from google.colab import drive\n",
        "drive.mount('/content/drive')"
      ],
      "metadata": {
        "colab": {
          "base_uri": "https://localhost:8080/"
        },
        "id": "JlZhF1dkk2rl",
        "outputId": "83fe6abb-01de-409e-b366-93c058445992"
      },
      "execution_count": null,
      "outputs": [
        {
          "output_type": "stream",
          "name": "stdout",
          "text": [
            "Drive already mounted at /content/drive; to attempt to forcibly remount, call drive.mount(\"/content/drive\", force_remount=True).\n"
          ]
        }
      ]
    },
    {
      "cell_type": "code",
      "source": [
        "!ls -lrta /content/drive/MyDrive/00_IMF/IMF/TEMARIO/3_Hadoop/FICHEROS"
      ],
      "metadata": {
        "colab": {
          "base_uri": "https://localhost:8080/"
        },
        "id": "8fLfyinolAQC",
        "outputId": "6a180206-ea22-49f8-b961-f7a8080ec347"
      },
      "execution_count": null,
      "outputs": [
        {
          "output_type": "stream",
          "name": "stdout",
          "text": [
            "total 15\n",
            "-rw------- 1 root root 12567 Sep 10 08:51 medidas.txt\n",
            "-rw------- 1 root root   171 Sep 10 10:36 input.txt\n",
            "-rw------- 1 root root   602 Sep 10 10:37 reducer.py\n",
            "-rw------- 1 root root   208 Sep 10 10:57 mapper.py\n"
          ]
        }
      ]
    },
    {
      "cell_type": "code",
      "source": [
        "# copy it there\n",
        "!cp /content/drive/MyDrive/00_IMF/IMF/TEMARIO/3_Hadoop/FICHEROS/* ."
      ],
      "metadata": {
        "id": "HfzwaF7Hk2oc"
      },
      "execution_count": null,
      "outputs": []
    },
    {
      "cell_type": "code",
      "source": [
        "!ls -lrta"
      ],
      "metadata": {
        "colab": {
          "base_uri": "https://localhost:8080/"
        },
        "id": "ucJKLOaGk2lF",
        "outputId": "e21d01db-ec9f-4c13-847f-19045337b0c5"
      },
      "execution_count": null,
      "outputs": [
        {
          "output_type": "stream",
          "name": "stdout",
          "text": [
            "total 679884\n",
            "-rw-r--r--  1 root root    678064 Feb  9  2012 101.txt\n",
            "drwxr-xr-x 10 1024 1024      4096 Jul 29  2022 hadoop-3.3.4\n",
            "-rw-r--r--  1 root root 695457782 Jul 29  2022 hadoop-3.3.4.tar.gz\n",
            "drwxr-xr-x  4 root root      4096 Sep 12 13:21 .config\n",
            "drwxr-xr-x  1 root root      4096 Sep 12 13:22 sample_data\n",
            "drwxr-xr-x  1 root root      4096 Sep 13 17:45 ..\n",
            "drwx------  5 root root      4096 Sep 13 17:50 drive\n",
            "drwxr-xr-x  1 root root      4096 Sep 13 17:57 .\n",
            "-rw-------  1 root root       320 Sep 13 17:57 nohup.out\n",
            "-rw-------  1 root root       171 Sep 13 17:57 input.txt\n",
            "-rw-------  1 root root       208 Sep 13 17:57 mapper.py\n",
            "-rw-------  1 root root     12567 Sep 13 17:57 medidas.txt\n",
            "-rw-------  1 root root       602 Sep 13 17:57 reducer.py\n"
          ]
        }
      ]
    },
    {
      "cell_type": "code",
      "source": [],
      "metadata": {
        "id": "55DBSVMIk2h3"
      },
      "execution_count": null,
      "outputs": []
    },
    {
      "cell_type": "markdown",
      "source": [
        "## Lo podemos lanzar a lo \"bruto\" para comprobar si funciona"
      ],
      "metadata": {
        "id": "2ud7cOHnpuVY"
      }
    },
    {
      "cell_type": "code",
      "source": [
        "cat input.txt | python3 mapper.py | sort | python3 reducer.py"
      ],
      "metadata": {
        "colab": {
          "base_uri": "https://localhost:8080/"
        },
        "id": "oqiRryxQk2ea",
        "outputId": "7f53f2c1-9a0e-46f9-a845-6069760bd773"
      },
      "execution_count": null,
      "outputs": [
        {
          "output_type": "stream",
          "name": "stdout",
          "text": [
            "Cada\t1\n",
            "de\t3\n",
            "documento\t2\n",
            "documento.\t1\n",
            "documentos.\t1\n",
            "ejemplo\t2\n",
            "en\t1\n",
            "es\t2\n",
            "Este\t2\n",
            "Las\t1\n",
            "los\t1\n",
            "otro\t1\n",
            "palabras\t1\n",
            "palabras.\t1\n",
            "pueden\t1\n",
            "repetirse\t1\n",
            "texto.\t1\n",
            "tiene\t1\n",
            "un\t2\n",
            "varias\t1\n"
          ]
        }
      ]
    },
    {
      "cell_type": "code",
      "source": [
        "#Creating directory in HDFS\n",
        "!$HADOOP_HOME/bin/hdfs dfs -mkdir /word_count\n",
        "#Coping file from local file system to HDFS\n",
        "!$HADOOP_HOME/bin/hdfs dfs -put /content/input.txt /word_count"
      ],
      "metadata": {
        "id": "fNpONnJ5k2bU"
      },
      "execution_count": null,
      "outputs": []
    },
    {
      "cell_type": "code",
      "source": [
        "#Exploring Hadoop folder\n",
        "!$HADOOP_HOME/bin/hdfs dfs -ls /word_count"
      ],
      "metadata": {
        "colab": {
          "base_uri": "https://localhost:8080/"
        },
        "id": "_cJyy92ok2Xu",
        "outputId": "45fa5fa3-a93e-424c-a62f-7d9fde375f6e"
      },
      "execution_count": null,
      "outputs": [
        {
          "output_type": "stream",
          "name": "stdout",
          "text": [
            "Found 1 items\n",
            "-rw-r--r--   1 root supergroup        171 2023-09-13 17:57 /word_count/input.txt\n"
          ]
        }
      ]
    },
    {
      "cell_type": "code",
      "source": [
        "!$HADOOP_HOME/bin/mapred streaming -files mapper.py,reducer.py -mapper \"python3 mapper.py\" -reducer \"python3 reducer.py\" -input hdfs:////word_count/input.txt -output hdfs:////word_count/salida"
      ],
      "metadata": {
        "colab": {
          "base_uri": "https://localhost:8080/"
        },
        "id": "c_mzYOslk2Up",
        "outputId": "1f624d90-f466-4142-b1c2-87effe7df2f6"
      },
      "execution_count": null,
      "outputs": [
        {
          "output_type": "stream",
          "name": "stdout",
          "text": [
            "packageJobJar: [] [/usr/local/hadoop-3.3.4/share/hadoop/tools/lib/hadoop-streaming-3.3.4.jar] /tmp/streamjob8435826653528261435.jar tmpDir=null\n",
            "2023-09-13 17:57:40,937 INFO client.DefaultNoHARMFailoverProxyProvider: Connecting to ResourceManager at localhost/127.0.0.1:8032\n",
            "2023-09-13 17:57:41,341 INFO client.DefaultNoHARMFailoverProxyProvider: Connecting to ResourceManager at localhost/127.0.0.1:8032\n",
            "2023-09-13 17:57:41,816 INFO mapreduce.JobResourceUploader: Disabling Erasure Coding for path: /tmp/hadoop-yarn/staging/root/.staging/job_1694627822238_0001\n",
            "2023-09-13 17:57:42,842 INFO mapred.FileInputFormat: Total input files to process : 1\n",
            "2023-09-13 17:57:43,015 INFO mapreduce.JobSubmitter: number of splits:2\n",
            "2023-09-13 17:57:43,565 INFO mapreduce.JobSubmitter: Submitting tokens for job: job_1694627822238_0001\n",
            "2023-09-13 17:57:43,565 INFO mapreduce.JobSubmitter: Executing with tokens: []\n",
            "2023-09-13 17:57:43,922 INFO conf.Configuration: resource-types.xml not found\n",
            "2023-09-13 17:57:43,922 INFO resource.ResourceUtils: Unable to find 'resource-types.xml'.\n",
            "2023-09-13 17:57:44,404 INFO impl.YarnClientImpl: Submitted application application_1694627822238_0001\n",
            "2023-09-13 17:57:44,583 INFO mapreduce.Job: The url to track the job: http://1326dc238f5b:8088/proxy/application_1694627822238_0001/\n",
            "2023-09-13 17:57:44,585 INFO mapreduce.Job: Running job: job_1694627822238_0001\n",
            "2023-09-13 17:57:58,950 INFO mapreduce.Job: Job job_1694627822238_0001 running in uber mode : false\n",
            "2023-09-13 17:57:58,952 INFO mapreduce.Job:  map 0% reduce 0%\n",
            "2023-09-13 17:58:13,167 INFO mapreduce.Job:  map 100% reduce 0%\n",
            "2023-09-13 17:58:20,259 INFO mapreduce.Job:  map 100% reduce 100%\n",
            "2023-09-13 17:58:22,291 INFO mapreduce.Job: Job job_1694627822238_0001 completed successfully\n",
            "2023-09-13 17:58:22,409 INFO mapreduce.Job: Counters: 54\n",
            "\tFile System Counters\n",
            "\t\tFILE: Number of bytes read=281\n",
            "\t\tFILE: Number of bytes written=838284\n",
            "\t\tFILE: Number of read operations=0\n",
            "\t\tFILE: Number of large read operations=0\n",
            "\t\tFILE: Number of write operations=0\n",
            "\t\tHDFS: Number of bytes read=445\n",
            "\t\tHDFS: Number of bytes written=172\n",
            "\t\tHDFS: Number of read operations=11\n",
            "\t\tHDFS: Number of large read operations=0\n",
            "\t\tHDFS: Number of write operations=2\n",
            "\t\tHDFS: Number of bytes read erasure-coded=0\n",
            "\tJob Counters \n",
            "\t\tLaunched map tasks=2\n",
            "\t\tLaunched reduce tasks=1\n",
            "\t\tData-local map tasks=2\n",
            "\t\tTotal time spent by all maps in occupied slots (ms)=22930\n",
            "\t\tTotal time spent by all reduces in occupied slots (ms)=5255\n",
            "\t\tTotal time spent by all map tasks (ms)=22930\n",
            "\t\tTotal time spent by all reduce tasks (ms)=5255\n",
            "\t\tTotal vcore-milliseconds taken by all map tasks=22930\n",
            "\t\tTotal vcore-milliseconds taken by all reduce tasks=5255\n",
            "\t\tTotal megabyte-milliseconds taken by all map tasks=23480320\n",
            "\t\tTotal megabyte-milliseconds taken by all reduce tasks=5381120\n",
            "\tMap-Reduce Framework\n",
            "\t\tMap input records=4\n",
            "\t\tMap output records=27\n",
            "\t\tMap output bytes=221\n",
            "\t\tMap output materialized bytes=287\n",
            "\t\tInput split bytes=188\n",
            "\t\tCombine input records=0\n",
            "\t\tCombine output records=0\n",
            "\t\tReduce input groups=20\n",
            "\t\tReduce shuffle bytes=287\n",
            "\t\tReduce input records=27\n",
            "\t\tReduce output records=20\n",
            "\t\tSpilled Records=54\n",
            "\t\tShuffled Maps =2\n",
            "\t\tFailed Shuffles=0\n",
            "\t\tMerged Map outputs=2\n",
            "\t\tGC time elapsed (ms)=188\n",
            "\t\tCPU time spent (ms)=3480\n",
            "\t\tPhysical memory (bytes) snapshot=823259136\n",
            "\t\tVirtual memory (bytes) snapshot=8166195200\n",
            "\t\tTotal committed heap usage (bytes)=799014912\n",
            "\t\tPeak Map Physical memory (bytes)=307617792\n",
            "\t\tPeak Map Virtual memory (bytes)=2724069376\n",
            "\t\tPeak Reduce Physical memory (bytes)=212971520\n",
            "\t\tPeak Reduce Virtual memory (bytes)=2728562688\n",
            "\tShuffle Errors\n",
            "\t\tBAD_ID=0\n",
            "\t\tCONNECTION=0\n",
            "\t\tIO_ERROR=0\n",
            "\t\tWRONG_LENGTH=0\n",
            "\t\tWRONG_MAP=0\n",
            "\t\tWRONG_REDUCE=0\n",
            "\tFile Input Format Counters \n",
            "\t\tBytes Read=257\n",
            "\tFile Output Format Counters \n",
            "\t\tBytes Written=172\n",
            "2023-09-13 17:58:22,410 INFO streaming.StreamJob: Output directory: hdfs:////word_count/salida\n"
          ]
        }
      ]
    },
    {
      "cell_type": "code",
      "source": [
        "#Exploring Hadoop folder\n",
        "!$HADOOP_HOME/bin/hdfs dfs -ls /word_count"
      ],
      "metadata": {
        "colab": {
          "base_uri": "https://localhost:8080/"
        },
        "id": "e_GzztPylx2F",
        "outputId": "0a591f83-b54d-4d45-bb7b-8bdec4483cef"
      },
      "execution_count": null,
      "outputs": [
        {
          "output_type": "stream",
          "name": "stdout",
          "text": [
            "Found 2 items\n",
            "-rw-r--r--   1 root supergroup        171 2023-09-13 17:57 /word_count/input.txt\n",
            "drwxr-xr-x   - root supergroup          0 2023-09-13 17:58 /word_count/salida\n"
          ]
        }
      ]
    },
    {
      "cell_type": "markdown",
      "source": [
        "### Comprobamos la SALIDA"
      ],
      "metadata": {
        "id": "_bLJnx4hqEBq"
      }
    },
    {
      "cell_type": "code",
      "source": [
        "!$HADOOP_HOME/bin/hdfs dfs -cat /word_count/salida/*"
      ],
      "metadata": {
        "colab": {
          "base_uri": "https://localhost:8080/"
        },
        "id": "5sKQTnFMlxyi",
        "outputId": "a668c28c-9238-4274-9b40-fbc0ecd75885"
      },
      "execution_count": null,
      "outputs": [
        {
          "output_type": "stream",
          "name": "stdout",
          "text": [
            "Cada\t1\n",
            "Este\t2\n",
            "Las\t1\n",
            "de\t3\n",
            "documento\t2\n",
            "documento.\t1\n",
            "documentos.\t1\n",
            "ejemplo\t2\n",
            "en\t1\n",
            "es\t2\n",
            "los\t1\n",
            "otro\t1\n",
            "palabras\t1\n",
            "palabras.\t1\n",
            "pueden\t1\n",
            "repetirse\t1\n",
            "texto.\t1\n",
            "tiene\t1\n",
            "un\t2\n",
            "varias\t1\n"
          ]
        }
      ]
    },
    {
      "cell_type": "markdown",
      "source": [
        "### El fichero del EJERCICIO"
      ],
      "metadata": {
        "id": "eXxEHrCiqvxx"
      }
    },
    {
      "cell_type": "code",
      "source": [
        "!head medidas.txt"
      ],
      "metadata": {
        "colab": {
          "base_uri": "https://localhost:8080/"
        },
        "id": "rBvXeEqUqr7u",
        "outputId": "e8cb5fc0-325d-4d70-9a70-ea30501358b9"
      },
      "execution_count": null,
      "outputs": [
        {
          "output_type": "stream",
          "name": "stdout",
          "text": [
            "2017\tEnero\t46\t\r\n",
            "2017\tEnero\t10\t\r\n",
            "2017\tEnero\t6\t\r\n",
            "2017\tEnero\t9\t\r\n",
            "2017\tEnero\t34\t\r\n",
            "2017\tEnero\t-3\t\r\n",
            "2017\tEnero\t48\t\r\n",
            "2017\tEnero\t20\t\r\n",
            "2017\tEnero\t-5\t\r\n",
            "2017\tEnero\t0\t\r\n"
          ]
        }
      ]
    },
    {
      "cell_type": "code",
      "source": [
        "!tail medidas.txt"
      ],
      "metadata": {
        "colab": {
          "base_uri": "https://localhost:8080/"
        },
        "id": "LwHwupipqufm",
        "outputId": "f7464429-148b-4258-c340-22a79e5f5274"
      },
      "execution_count": null,
      "outputs": [
        {
          "output_type": "stream",
          "name": "stdout",
          "text": [
            "2018\tDiciembre\t46\t\r\n",
            "2018\tDiciembre\t1\t\r\n",
            "2018\tDiciembre\t46\t\r\n",
            "2018\tDiciembre\t28\t\r\n",
            "2018\tDiciembre\t13\t\r\n",
            "2018\tDiciembre\t-1\t\r\n",
            "2018\tDiciembre\t4\t\r\n",
            "2018\tDiciembre\t38\t\r\n",
            "2018\tDiciembre\t29\t\r\n",
            "2018\tDiciembre\t2\t\r\n"
          ]
        }
      ]
    },
    {
      "cell_type": "code",
      "source": [
        "!wc -l medidas.txt"
      ],
      "metadata": {
        "colab": {
          "base_uri": "https://localhost:8080/"
        },
        "id": "muEqUcUCq5Cf",
        "outputId": "b8387534-408d-4393-81f5-a68105c5b14d"
      },
      "execution_count": null,
      "outputs": [
        {
          "output_type": "stream",
          "name": "stdout",
          "text": [
            "730 medidas.txt\n"
          ]
        }
      ]
    },
    {
      "cell_type": "code",
      "source": [
        "!jps"
      ],
      "metadata": {
        "colab": {
          "base_uri": "https://localhost:8080/"
        },
        "id": "OKKn0GReq8Tu",
        "outputId": "63714099-4b8f-485d-d560-8a91f7208094"
      },
      "execution_count": null,
      "outputs": [
        {
          "output_type": "stream",
          "name": "stdout",
          "text": [
            "3632 DataNode\n",
            "6482 Jps\n",
            "4246 NodeManager\n",
            "3512 NameNode\n",
            "4137 ResourceManager\n",
            "3839 SecondaryNameNode\n"
          ]
        }
      ]
    },
    {
      "cell_type": "code",
      "source": [],
      "metadata": {
        "id": "xOife0ZOsduN"
      },
      "execution_count": null,
      "outputs": []
    }
  ]
}