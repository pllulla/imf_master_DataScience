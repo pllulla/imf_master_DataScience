{
 "cells": [
  {
   "cell_type": "markdown",
   "metadata": {},
   "source": [
    "# Clasificación - Regresión Logística"
   ]
  },
  {
   "cell_type": "code",
   "execution_count": 1,
   "metadata": {},
   "outputs": [],
   "source": [
    "# Librerías\n",
    "import matplotlib.pyplot as plt\n",
    "import seaborn as sns\n",
    "\n",
    "import numpy as np\n",
    "import pandas as pd\n",
    "import seaborn as sns\n",
    "\n",
    "from sklearn.datasets import make_blobs\n",
    "from sklearn.linear_model import LogisticRegression\n",
    "from sklearn.model_selection import train_test_split\n",
    "from sklearn.metrics import f1_score, precision_score, recall_score, roc_auc_score, roc_curve, accuracy_score\n",
    "from sklearn.metrics import confusion_matrix\n",
    "\n",
    "from mglearn.plots import plot_2d_separator # pip install mglearn"
   ]
  },
  {
   "cell_type": "code",
   "execution_count": 2,
   "metadata": {},
   "outputs": [
    {
     "data": {
      "image/png": "[encoded data removed]",
      "text/plain": [
       "<Figure size 640x480 with 1 Axes>"
      ]
     },
     "metadata": {},
     "output_type": "display_data"
    }
   ],
   "source": [
    "# Genero un dataset sintético\n",
    "X, y = make_blobs(centers=2, random_state=0, n_samples=200)\n",
    "\n",
    "plt.scatter(X[y == 0, 0], X[y == 0, 1], s=40, label=\"Clase Y=0\", marker=\"^\")\n",
    "plt.scatter(X[y == 1, 0], X[y == 1, 1], s=40, label=\"Clase Y=1\", c=\"green\", marker=\"x\")\n",
    "plt.xlabel(\"X1\")\n",
    "plt.ylabel(\"X2\")\n",
    "plt.show()"
   ]
  },
  {
   "cell_type": "markdown",
   "metadata": {},
   "source": [
    "A continuación se dividen los datos en Train + Test y se entrena una regresión logística con los datos de Train. Posteriormente se predice Test. El modelo de regresión logística permite devolver probabilidades de cada clase (predict_proba) o la predicción de la clase como tal (predict). Suponiendo que una clase tenga Y=0 y la otra Y=1, puede devolver las probabilidades (probY0, probY1) o la predicción (Y0 o Y1). "
   ]
  },
  {
   "cell_type": "code",
   "execution_count": 3,
   "metadata": {},
   "outputs": [
    {
     "data": {
      "text/plain": [
       "(array([0, 1]), array([100, 100], dtype=int64))"
      ]
     },
     "execution_count": 3,
     "metadata": {},
     "output_type": "execute_result"
    }
   ],
   "source": [
    "np.unique(y, return_counts=True)"
   ]
  },
  {
   "cell_type": "code",
   "execution_count": 4,
   "metadata": {},
   "outputs": [
    {
     "name": "stdout",
     "output_type": "stream",
     "text": [
      "Dimensiones en train \n",
      "-X:(150, 2)\n",
      "-Y:(150,)\n",
      "Dimensiones en test \n",
      "-X:(50, 2)\n",
      "-Y:(50,)\n"
     ]
    }
   ],
   "source": [
    "# Divido el dataset en Train + Test\n",
    "X_train, X_test, y_train, y_test = train_test_split(X, y, \n",
    "                                                    test_size    = 0.25, \n",
    "                                                    random_state = 1234\n",
    "                                                   )\n",
    "\n",
    "print(u'Dimensiones en train \\n-X:{}\\n-Y:{}'.format(X_train.shape, y_train.shape))\n",
    "print(u'Dimensiones en test \\n-X:{}\\n-Y:{}'.format(X_test.shape, y_test.shape))"
   ]
  },
  {
   "cell_type": "code",
   "execution_count": 5,
   "metadata": {},
   "outputs": [],
   "source": [
    "# Ajusto una regresión logística a Train\n",
    "clf = LogisticRegression()"
   ]
  },
  {
   "cell_type": "code",
   "execution_count": 6,
   "metadata": {},
   "outputs": [
    {
     "data": {
      "text/html": [
       "<style>#sk-container-id-1 {color: black;background-color: white;}#sk-container-id-1 pre{padding: 0;}#sk-container-id-1 div.sk-toggleable {background-color: white;}#sk-container-id-1 label.sk-toggleable__label {cursor: pointer;display: block;width: 100%;margin-bottom: 0;padding: 0.3em;box-sizing: border-box;text-align: center;}#sk-container-id-1 label.sk-toggleable__label-arrow:before {content: \"▸\";float: left;margin-right: 0.25em;color: #696969;}#sk-container-id-1 label.sk-toggleable__label-arrow:hover:before {color: black;}#sk-container-id-1 div.sk-estimator:hover label.sk-toggleable__label-arrow:before {color: black;}#sk-container-id-1 div.sk-toggleable__content {max-height: 0;max-width: 0;overflow: hidden;text-align: left;background-color: #f0f8ff;}#sk-container-id-1 div.sk-toggleable__content pre {margin: 0.2em;color: black;border-radius: 0.25em;background-color: #f0f8ff;}#sk-container-id-1 input.sk-toggleable__control:checked~div.sk-toggleable__content {max-height: 200px;max-width: 100%;overflow: auto;}#sk-container-id-1 input.sk-toggleable__control:checked~label.sk-toggleable__label-arrow:before {content: \"▾\";}#sk-container-id-1 div.sk-estimator input.sk-toggleable__control:checked~label.sk-toggleable__label {background-color: #d4ebff;}#sk-container-id-1 div.sk-label input.sk-toggleable__control:checked~label.sk-toggleable__label {background-color: #d4ebff;}#sk-container-id-1 input.sk-hidden--visually {border: 0;clip: rect(1px 1px 1px 1px);clip: rect(1px, 1px, 1px, 1px);height: 1px;margin: -1px;overflow: hidden;padding: 0;position: absolute;width: 1px;}#sk-container-id-1 div.sk-estimator {font-family: monospace;background-color: #f0f8ff;border: 1px dotted black;border-radius: 0.25em;box-sizing: border-box;margin-bottom: 0.5em;}#sk-container-id-1 div.sk-estimator:hover {background-color: #d4ebff;}#sk-container-id-1 div.sk-parallel-item::after {content: \"\";width: 100%;border-bottom: 1px solid gray;flex-grow: 1;}#sk-container-id-1 div.sk-label:hover label.sk-toggleable__label {background-color: #d4ebff;}#sk-container-id-1 div.sk-serial::before {content: \"\";position: absolute;border-left: 1px solid gray;box-sizing: border-box;top: 0;bottom: 0;left: 50%;z-index: 0;}#sk-container-id-1 div.sk-serial {display: flex;flex-direction: column;align-items: center;background-color: white;padding-right: 0.2em;padding-left: 0.2em;position: relative;}#sk-container-id-1 div.sk-item {position: relative;z-index: 1;}#sk-container-id-1 div.sk-parallel {display: flex;align-items: stretch;justify-content: center;background-color: white;position: relative;}#sk-container-id-1 div.sk-item::before, #sk-container-id-1 div.sk-parallel-item::before {content: \"\";position: absolute;border-left: 1px solid gray;box-sizing: border-box;top: 0;bottom: 0;left: 50%;z-index: -1;}#sk-container-id-1 div.sk-parallel-item {display: flex;flex-direction: column;z-index: 1;position: relative;background-color: white;}#sk-container-id-1 div.sk-parallel-item:first-child::after {align-self: flex-end;width: 50%;}#sk-container-id-1 div.sk-parallel-item:last-child::after {align-self: flex-start;width: 50%;}#sk-container-id-1 div.sk-parallel-item:only-child::after {width: 0;}#sk-container-id-1 div.sk-dashed-wrapped {border: 1px dashed gray;margin: 0 0.4em 0.5em 0.4em;box-sizing: border-box;padding-bottom: 0.4em;background-color: white;}#sk-container-id-1 div.sk-label label {font-family: monospace;font-weight: bold;display: inline-block;line-height: 1.2em;}#sk-container-id-1 div.sk-label-container {text-align: center;}#sk-container-id-1 div.sk-container {/* jupyter's `normalize.less` sets `[hidden] { display: none; }` but bootstrap.min.css set `[hidden] { display: none !important; }` so we also need the `!important` here to be able to override the default hidden behavior on the sphinx rendered scikit-learn.org. See: https://github.com/scikit-learn/scikit-learn/issues/21755 */display: inline-block !important;position: relative;}#sk-container-id-1 div.sk-text-repr-fallback {display: none;}</style><div id=\"sk-container-id-1\" class=\"sk-top-container\"><div class=\"sk-text-repr-fallback\"><pre>LogisticRegression()</pre><b>In a Jupyter environment, please rerun this cell to show the HTML representation or trust the notebook. <br />On GitHub, the HTML representation is unable to render, please try loading this page with nbviewer.org.</b></div><div class=\"sk-container\" hidden><div class=\"sk-item\"><div class=\"sk-estimator sk-toggleable\"><input class=\"sk-toggleable__control sk-hidden--visually\" id=\"sk-estimator-id-1\" type=\"checkbox\" checked><label for=\"sk-estimator-id-1\" class=\"sk-toggleable__label sk-toggleable__label-arrow\">LogisticRegression</label><div class=\"sk-toggleable__content\"><pre>LogisticRegression()</pre></div></div></div></div></div>"
      ],
      "text/plain": [
       "LogisticRegression()"
      ]
     },
     "execution_count": 6,
     "metadata": {},
     "output_type": "execute_result"
    }
   ],
   "source": [
    "clf.fit(X_train, y_train)"
   ]
  },
  {
   "cell_type": "code",
   "execution_count": 7,
   "metadata": {},
   "outputs": [
    {
     "name": "stdout",
     "output_type": "stream",
     "text": [
      "Parámetros de la logística \n",
      "- Interceptor: [5.85826928]        \n",
      "- Coeficientes: [[ 0.71453739 -2.52585329]]\n"
     ]
    }
   ],
   "source": [
    "print(u'Parámetros de la logística \\n- Interceptor: {}\\\n",
    "        \\n- Coeficientes: {}'.format(clf.intercept_, clf.coef_))"
   ]
  },
  {
   "cell_type": "code",
   "execution_count": 8,
   "metadata": {},
   "outputs": [
    {
     "data": {
      "text/plain": [
       "array([[2.04324124, 0.07999003]])"
      ]
     },
     "execution_count": 8,
     "metadata": {},
     "output_type": "execute_result"
    }
   ],
   "source": [
    "np.exp(clf.coef_) # Log ODDS"
   ]
  },
  {
   "cell_type": "code",
   "execution_count": 9,
   "metadata": {},
   "outputs": [],
   "source": [
    "# Predigo el conjunto de Test\n",
    "y_test_pred = clf.predict(X_test)\n",
    "y_test_prob = clf.predict_proba(X_test)"
   ]
  },
  {
   "cell_type": "code",
   "execution_count": 10,
   "metadata": {},
   "outputs": [
    {
     "name": "stdout",
     "output_type": "stream",
     "text": [
      "Ejemplo de predicción: [[2.72801664e-01 7.27198336e-01]\n",
      " [2.94211551e-03 9.97057884e-01]\n",
      " [5.48540179e-04 9.99451460e-01]]\n"
     ]
    }
   ],
   "source": [
    "print(u'Ejemplo de predicción: {}'.format(y_test_prob[:3]))"
   ]
  },
  {
   "cell_type": "code",
   "execution_count": 11,
   "metadata": {},
   "outputs": [
    {
     "name": "stdout",
     "output_type": "stream",
     "text": [
      "Probabilidad  [0.27280166 0.72719834]\n",
      "Predicción  1\n"
     ]
    }
   ],
   "source": [
    "print(\"Probabilidad \", y_test_prob[0])\n",
    "\n",
    "#       0          1\n",
    "# array([0.27280166, 0.72719834])\n",
    "\n",
    "print(\"Predicción \", y_test_pred[0])"
   ]
  },
  {
   "cell_type": "code",
   "execution_count": 12,
   "metadata": {},
   "outputs": [
    {
     "name": "stdout",
     "output_type": "stream",
     "text": [
      "Ejemplo de predicción: [1 1 1]\n"
     ]
    }
   ],
   "source": [
    "print(u'Ejemplo de predicción: {}'.format(y_test_pred[:3]))"
   ]
  },
  {
   "cell_type": "markdown",
   "metadata": {},
   "source": [
    "A continuación se obtienen ciertas métricas utilizando las predicciones y los valores reales de y_test"
   ]
  },
  {
   "cell_type": "code",
   "execution_count": 13,
   "metadata": {},
   "outputs": [],
   "source": [
    "# Obtengo métricas\n",
    "auc = roc_auc_score(y_test, y_test_prob[:, 1])"
   ]
  },
  {
   "cell_type": "code",
   "execution_count": 14,
   "metadata": {},
   "outputs": [
    {
     "data": {
      "text/plain": [
       "1.0"
      ]
     },
     "execution_count": 14,
     "metadata": {},
     "output_type": "execute_result"
    }
   ],
   "source": [
    "auc"
   ]
  },
  {
   "cell_type": "code",
   "execution_count": 15,
   "metadata": {},
   "outputs": [
    {
     "name": "stdout",
     "output_type": "stream",
     "text": [
      "- Precision: 0.85\n",
      "- Recall: 1.0\n",
      "- Fscore: 0.92\n",
      "- AUC: 1.0\n",
      "- Accuracy  0.92\n"
     ]
    }
   ],
   "source": [
    "print(\"- Precision:\", round(precision_score(y_test, y_test_pred),2))\n",
    "print(\"- Recall:\", recall_score(y_test, y_test_pred))\n",
    "print(\"- Fscore:\", round(f1_score(y_test, y_test_pred),2))\n",
    "print(\"- AUC:\", round(auc,2))\n",
    "print(\"- Accuracy \", round(accuracy_score(y_test, y_test_pred), 2))"
   ]
  },
  {
   "cell_type": "code",
   "execution_count": 16,
   "metadata": {
    "scrolled": false
   },
   "outputs": [
    {
     "data": {
      "text/plain": [
       "array([[24,  4],\n",
       "       [ 0, 22]], dtype=int64)"
      ]
     },
     "execution_count": 16,
     "metadata": {},
     "output_type": "execute_result"
    }
   ],
   "source": [
    "confusion_matrix(y_test, y_test_pred)"
   ]
  },
  {
   "cell_type": "code",
   "execution_count": 17,
   "metadata": {},
   "outputs": [],
   "source": [
    "tp = 0\n",
    "fp = 0\n",
    "tn = 0\n",
    "fn = 0\n",
    "\n",
    "for i in range(len(y_test)):\n",
    "    if y_test[i] == 0 and y_test_pred[i] == 0:\n",
    "        # Verdaderos positivos\n",
    "        tp += 1\n",
    "        \n",
    "    elif y_test[i] == 0 and y_test_pred[i] == 1:\n",
    "        fp += 1\n",
    "        \n",
    "    elif y_test[i] == 1 and y_test_pred[i] == 1:\n",
    "        tn += 1\n",
    "        \n",
    "    elif y_test[i] == 1 and y_test_pred[i] == 0:\n",
    "        fn += 1        "
   ]
  },
  {
   "cell_type": "code",
   "execution_count": 18,
   "metadata": {},
   "outputs": [
    {
     "name": "stdout",
     "output_type": "stream",
     "text": [
      "Valor de tp 24\n",
      "Valor de fp 4\n",
      "Valor de tn 22\n",
      "Valor de fn 0\n"
     ]
    }
   ],
   "source": [
    "print(\"Valor de tp\", tp)\n",
    "print(\"Valor de fp\", fp)\n",
    "print(\"Valor de tn\", tn)\n",
    "print(\"Valor de fn\", fn)"
   ]
  },
  {
   "cell_type": "code",
   "execution_count": 19,
   "metadata": {},
   "outputs": [
    {
     "data": {
      "text/plain": [
       "array([[24,  4],\n",
       "       [ 0, 22]], dtype=int64)"
      ]
     },
     "execution_count": 19,
     "metadata": {},
     "output_type": "execute_result"
    }
   ],
   "source": [
    "confusion_matrix(y_test, y_test_pred)"
   ]
  },
  {
   "cell_type": "code",
   "execution_count": 20,
   "metadata": {},
   "outputs": [
    {
     "data": {
      "image/png": "[encoded data removed]",
      "text/plain": [
       "<Figure size 500x500 with 2 Axes>"
      ]
     },
     "metadata": {},
     "output_type": "display_data"
    }
   ],
   "source": [
    "plt.figure(figsize=(5,5))\n",
    "\n",
    "ax = sns.heatmap(\n",
    "            confusion_matrix(y_test, y_test_pred), \n",
    "            annot = True, \n",
    "            cmap = \"coolwarm\",\n",
    "            xticklabels = ['Positive', 'Negative'], \n",
    "            yticklabels = ['Positive', 'Negative']\n",
    "                )\n",
    "\n",
    "plt.xlabel('Predicted labels')\n",
    "plt.ylabel('True labels')\n",
    "plt.title('Confusion Matrix')\n",
    "\n",
    "plt.show()\n",
    "\n",
    "# https://medium.com/@dtuk81/confusion-matrix-visualization-fc31e3f30fea"
   ]
  },
  {
   "cell_type": "code",
   "execution_count": 21,
   "metadata": {},
   "outputs": [],
   "source": [
    "# Represento la ROC\n",
    "fpr, tpr, thrs = roc_curve(y_test, y_test_prob[:, 1])"
   ]
  },
  {
   "cell_type": "code",
   "execution_count": 22,
   "metadata": {},
   "outputs": [
    {
     "data": {
      "text/plain": [
       "array([[2.72801664e-01, 7.27198336e-01],\n",
       "       [2.94211551e-03, 9.97057884e-01],\n",
       "       [5.48540179e-04, 9.99451460e-01],\n",
       "       [9.86163928e-01, 1.38360723e-02],\n",
       "       [7.49303540e-01, 2.50696460e-01],\n",
       "       [6.55273239e-03, 9.93447268e-01],\n",
       "       [9.79909325e-01, 2.00906755e-02],\n",
       "       [4.86513140e-01, 5.13486860e-01],\n",
       "       [1.14140079e-03, 9.98858599e-01],\n",
       "       [4.08596706e-02, 9.59140329e-01],\n",
       "       [8.41947920e-02, 9.15805208e-01],\n",
       "       [1.01022589e-02, 9.89897741e-01],\n",
       "       [9.59815793e-01, 4.01842068e-02],\n",
       "       [7.80915599e-01, 2.19084401e-01],\n",
       "       [4.19543139e-04, 9.99580457e-01],\n",
       "       [9.99420079e-01, 5.79921045e-04],\n",
       "       [9.62547319e-01, 3.74526806e-02],\n",
       "       [1.64116062e-01, 8.35883938e-01],\n",
       "       [9.60668983e-02, 9.03933102e-01],\n",
       "       [2.08879261e-02, 9.79112074e-01],\n",
       "       [3.75543519e-03, 9.96244565e-01],\n",
       "       [3.31648918e-03, 9.96683511e-01],\n",
       "       [9.98859899e-01, 1.14010110e-03],\n",
       "       [9.66970179e-01, 3.30298205e-02],\n",
       "       [9.99941988e-01, 5.80117801e-05],\n",
       "       [9.98457537e-01, 1.54246312e-03],\n",
       "       [9.98705897e-01, 1.29410319e-03],\n",
       "       [9.99340416e-01, 6.59584183e-04],\n",
       "       [1.23021633e-03, 9.98769784e-01],\n",
       "       [9.98547869e-01, 1.45213065e-03],\n",
       "       [9.99623886e-01, 3.76114161e-04],\n",
       "       [4.04025862e-03, 9.95959741e-01],\n",
       "       [2.70531584e-03, 9.97294684e-01],\n",
       "       [4.55510669e-01, 5.44489331e-01],\n",
       "       [1.02165184e-01, 8.97834816e-01],\n",
       "       [3.92947658e-01, 6.07052342e-01],\n",
       "       [5.94295447e-01, 4.05704553e-01],\n",
       "       [6.86135248e-01, 3.13864752e-01],\n",
       "       [1.14822707e-04, 9.99885177e-01],\n",
       "       [1.00377907e-02, 9.89962209e-01],\n",
       "       [9.92438683e-01, 7.56131689e-03],\n",
       "       [7.32886881e-03, 9.92671131e-01],\n",
       "       [9.95578854e-01, 4.42114611e-03],\n",
       "       [2.90066866e-04, 9.99709933e-01],\n",
       "       [1.04967354e-02, 9.89503265e-01],\n",
       "       [9.93024806e-01, 6.97519443e-03],\n",
       "       [9.98465158e-01, 1.53484216e-03],\n",
       "       [9.40451967e-01, 5.95480333e-02],\n",
       "       [9.94725418e-01, 5.27458166e-03],\n",
       "       [9.79202395e-01, 2.07976049e-02]])"
      ]
     },
     "execution_count": 22,
     "metadata": {},
     "output_type": "execute_result"
    }
   ],
   "source": [
    "y_test_prob"
   ]
  },
  {
   "cell_type": "code",
   "execution_count": 23,
   "metadata": {},
   "outputs": [
    {
     "data": {
      "text/plain": [
       "array([0.27, 0.  , 0.  , 0.99, 0.75, 0.01, 0.98, 0.49, 0.  , 0.04, 0.08,\n",
       "       0.01, 0.96, 0.78, 0.  , 1.  , 0.96, 0.16, 0.1 , 0.02, 0.  , 0.  ,\n",
       "       1.  , 0.97, 1.  , 1.  , 1.  , 1.  , 0.  , 1.  , 1.  , 0.  , 0.  ,\n",
       "       0.46, 0.1 , 0.39, 0.59, 0.69, 0.  , 0.01, 0.99, 0.01, 1.  , 0.  ,\n",
       "       0.01, 0.99, 1.  , 0.94, 0.99, 0.98])"
      ]
     },
     "execution_count": 23,
     "metadata": {},
     "output_type": "execute_result"
    }
   ],
   "source": [
    "np.round(y_test_prob[:, 0],2)"
   ]
  },
  {
   "cell_type": "code",
   "execution_count": 24,
   "metadata": {},
   "outputs": [
    {
     "data": {
      "text/plain": [
       "array([0.73, 1.  , 1.  , 0.01, 0.25, 0.99, 0.02, 0.51, 1.  , 0.96, 0.92,\n",
       "       0.99, 0.04, 0.22, 1.  , 0.  , 0.04, 0.84, 0.9 , 0.98, 1.  , 1.  ,\n",
       "       0.  , 0.03, 0.  , 0.  , 0.  , 0.  , 1.  , 0.  , 0.  , 1.  , 1.  ,\n",
       "       0.54, 0.9 , 0.61, 0.41, 0.31, 1.  , 0.99, 0.01, 0.99, 0.  , 1.  ,\n",
       "       0.99, 0.01, 0.  , 0.06, 0.01, 0.02])"
      ]
     },
     "execution_count": 24,
     "metadata": {},
     "output_type": "execute_result"
    }
   ],
   "source": [
    "np.round(y_test_prob[:, 1],2)"
   ]
  },
  {
   "cell_type": "code",
   "execution_count": 25,
   "metadata": {},
   "outputs": [
    {
     "data": {
      "text/plain": [
       "array([0.        , 0.04545455, 1.        , 1.        ])"
      ]
     },
     "execution_count": 25,
     "metadata": {},
     "output_type": "execute_result"
    }
   ],
   "source": [
    "tpr"
   ]
  },
  {
   "cell_type": "code",
   "execution_count": 26,
   "metadata": {},
   "outputs": [
    {
     "data": {
      "text/plain": [
       "array([0., 0., 0., 1.])"
      ]
     },
     "execution_count": 26,
     "metadata": {},
     "output_type": "execute_result"
    }
   ],
   "source": [
    "fpr"
   ]
  },
  {
   "cell_type": "code",
   "execution_count": 27,
   "metadata": {},
   "outputs": [
    {
     "data": {
      "image/png": "[encoded data removed]",
      "text/plain": [
       "<Figure size 640x480 with 1 Axes>"
      ]
     },
     "metadata": {},
     "output_type": "display_data"
    }
   ],
   "source": [
    "plt.plot(fpr, tpr)\n",
    "plt.plot([0, 1], [0, 1], \"r--\")\n",
    "plt.title(\"ROC\")\n",
    "plt.xlabel(\"Falsos Positivos\")\n",
    "plt.ylabel(\"Verdaderos Positivos\")\n",
    "plt.show()"
   ]
  },
  {
   "cell_type": "markdown",
   "metadata": {},
   "source": [
    "La curva ROC es una representación gráfica de la sensibilidad frente a la especificidad para un sistema clasificador binario según se varía el umbral de discriminación. Otra forma de interpretarla es como la representación del ratio de verdaderos positivos frente al ratio de falsos positivos según se varía el umbral de discriminación, es decir el valor a partir del cual decidimos que un caso es un positivo"
   ]
  },
  {
   "cell_type": "code",
   "execution_count": 28,
   "metadata": {},
   "outputs": [
    {
     "data": {
      "image/png": "[encoded data removed]",
      "text/plain": [
       "<Figure size 640x480 with 1 Axes>"
      ]
     },
     "metadata": {},
     "output_type": "display_data"
    }
   ],
   "source": [
    "# Represento la frontera de decisión\n",
    "plt.scatter(X[y == 0, 0], X[y == 0, 1], s=40, label=\"Clase Y=0\", marker=\"^\")\n",
    "plt.scatter(X[y == 1, 0], X[y == 1, 1], s=40, label=\"Clase Y=1\", c=\"green\", marker=\"x\")\n",
    "plt.xlabel(\"X1\")\n",
    "plt.ylabel(\"X2\")\n",
    "plt.legend(loc=\"best\")\n",
    "plot_2d_separator(clf, X)\n",
    "plt.show()"
   ]
  }
 ],
 "metadata": {
  "kernelspec": {
   "display_name": "Python 3 (ipykernel)",
   "language": "python",
   "name": "python3"
  },
  "language_info": {
   "codemirror_mode": {
    "name": "ipython",
    "version": 3
   },
   "file_extension": ".py",
   "mimetype": "text/x-python",
   "name": "python",
   "nbconvert_exporter": "python",
   "pygments_lexer": "ipython3",
   "version": "3.10.9"
  }
 },
 "nbformat": 4,
 "nbformat_minor": 4
}
