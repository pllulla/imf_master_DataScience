{
 "cells": [
  {
   "cell_type": "markdown",
   "metadata": {},
   "source": [
    "# Ejercicio Regresión Lineal - Salarios\n",
    "\n",
    "En este caso, tenemos un dataset con información sobre salarios (https://www.kaggle.com/datasets/ravitejakotharu/salary-datacsv) disponible con las siguientes columnas:\n",
    "* YearsExperience\n",
    "* Salary\n",
    "\n",
    "Así que, nuestro objetivo es predecir, en base a *n* años de experiencia el salario. Realiza los siguientes pasos:\n",
    "* Cargar los datos \n",
    "* EDA\n",
    "* Obtener una visualización sobre YearsExperience ~ Salary\n",
    "* Construir los cojuntos X e Y\n",
    "* Obtener los cojuntos de Train y Test\n",
    "* Implementar un modelo de regresión lineal entre X_Train e Y_train\n",
    "* Mostrar las métricas de R2 y MSE\n",
    "* Visualizar las predicciones del modelo\n",
    "\n",
    "## Solución"
   ]
  },
  {
   "cell_type": "code",
   "execution_count": null,
   "metadata": {},
   "outputs": [],
   "source": []
  }
 ],
 "metadata": {
  "anaconda-cloud": {},
  "kernelspec": {
   "display_name": "Python 3 (ipykernel)",
   "language": "python",
   "name": "python3"
  },
  "language_info": {
   "codemirror_mode": {
    "name": "ipython",
    "version": 3
   },
   "file_extension": ".py",
   "mimetype": "text/x-python",
   "name": "python",
   "nbconvert_exporter": "python",
   "pygments_lexer": "ipython3",
   "version": "3.10.9"
  }
 },
 "nbformat": 4,
 "nbformat_minor": 2
}
