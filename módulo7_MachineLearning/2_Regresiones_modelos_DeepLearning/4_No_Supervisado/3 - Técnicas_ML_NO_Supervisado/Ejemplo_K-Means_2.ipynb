{
 "cells": [
  {
   "cell_type": "markdown",
   "metadata": {},
   "source": [
    "# Ejemplo K-Means\n",
    "\n",
    "Análisis de datos sobre usuarios de twitter y su personalidad\n",
    "\n",
    "## 1. Carga de librerías"
   ]
  },
  {
   "cell_type": "code",
   "execution_count": null,
   "metadata": {},
   "outputs": [],
   "source": [
    "import pandas as pd\n",
    "import numpy as np\n",
    "import matplotlib.pyplot as plt\n",
    "\n",
    "from sklearn.cluster import KMeans\n",
    "from sklearn.model_selection import cross_validate\n",
    "from sklearn.metrics import pairwise_distances_argmin_min\n",
    "import seaborn as sns\n",
    "\n",
    "%matplotlib inline"
   ]
  },
  {
   "cell_type": "markdown",
   "metadata": {},
   "source": [
    "## 2. Carga de datos"
   ]
  },
  {
   "cell_type": "code",
   "execution_count": null,
   "metadata": {},
   "outputs": [],
   "source": [
    "df = pd.read_csv(\"social_media.csv\")\n",
    "df.head()"
   ]
  },
  {
   "cell_type": "code",
   "execution_count": null,
   "metadata": {},
   "outputs": [],
   "source": [
    "df.categoria.value_counts()"
   ]
  },
  {
   "cell_type": "markdown",
   "metadata": {},
   "source": [
    "## 3. EDA"
   ]
  },
  {
   "cell_type": "code",
   "execution_count": null,
   "metadata": {},
   "outputs": [],
   "source": [
    "df.describe()"
   ]
  },
  {
   "cell_type": "code",
   "execution_count": null,
   "metadata": {},
   "outputs": [],
   "source": [
    "df.describe(include=\"object\")"
   ]
  },
  {
   "cell_type": "code",
   "execution_count": null,
   "metadata": {},
   "outputs": [],
   "source": [
    "df.info()"
   ]
  },
  {
   "cell_type": "markdown",
   "metadata": {},
   "source": [
    "Sobre las categorías disponibles nos encontramos los siguiente:\n",
    "* 1. Actor\n",
    "* 2. Cantante\n",
    "* 3. Modelo\n",
    "* 4. TV\n",
    "* 5. Radio\n",
    "* 6. Tecnología\n",
    "* 7. Deportes\n",
    "* 8. Política\n",
    "* 9. Escritor"
   ]
  },
  {
   "cell_type": "code",
   "execution_count": null,
   "metadata": {},
   "outputs": [],
   "source": [
    "# Vemos el número de categorías (usuarios)\n",
    "\n",
    "df.categoria.value_counts()"
   ]
  },
  {
   "cell_type": "code",
   "execution_count": null,
   "metadata": {},
   "outputs": [],
   "source": [
    "print(\"*CANTIDAD de datos nulos por columna en el dataframe\")\n",
    "print(df.isnull().sum())\n",
    "print(\"----------------------------------\")\n",
    "print(\"*PORCENTAJE de datos nulos por columna en el dataframe\")\n",
    "print(df.isnull().sum()/len(df)*100)"
   ]
  },
  {
   "cell_type": "code",
   "execution_count": null,
   "metadata": {},
   "outputs": [],
   "source": [
    "df.drop(['categoria'],1).hist()\n",
    "plt.show()"
   ]
  },
  {
   "cell_type": "code",
   "execution_count": null,
   "metadata": {},
   "outputs": [],
   "source": [
    "sns.pairplot(data=df, \n",
    "             hue=\"categoria\", \n",
    "             vars=df.columns[df.columns != \"categoria\"], \n",
    "             diag_kind=\"hist\")\n",
    "plt.show()"
   ]
  },
  {
   "cell_type": "code",
   "execution_count": null,
   "metadata": {},
   "outputs": [],
   "source": [
    "sns.pairplot(df, \n",
    "            hue='categoria',\n",
    "            size=4,\n",
    "            vars=[\"op\",\"ex\",\"ag\"],\n",
    "            kind='scatter', \n",
    "            diag_kind  = \"hist\")"
   ]
  },
  {
   "cell_type": "markdown",
   "metadata": {},
   "source": [
    "## Variables de entrada a K-Means"
   ]
  },
  {
   "cell_type": "code",
   "execution_count": null,
   "metadata": {},
   "outputs": [],
   "source": [
    "X = np.array(df[[\"op\",\"ex\",\"ag\",'ne', 'wordcount']])\n",
    "y = np.array(df['categoria'])\n",
    "X.shape"
   ]
  },
  {
   "cell_type": "markdown",
   "metadata": {},
   "source": [
    "Al clusterizar, trataremos de identificar si existen grandes diferencias entre las categorías de usuarios y, el número de clusters."
   ]
  },
  {
   "cell_type": "markdown",
   "metadata": {},
   "source": [
    "## Selección del parámetro K, método Elbow"
   ]
  },
  {
   "cell_type": "code",
   "execution_count": null,
   "metadata": {},
   "outputs": [],
   "source": [
    "# Calculo WSS (Within-Cluster-Sum of Squared Errors) en función del \n",
    "# número de clústers k\n",
    "wss = []\n",
    "for K in range(2, 15):\n",
    "    clf = KMeans(init=\"random\", random_state=0, n_clusters=K)\n",
    "    resultados = cross_validate(clf, X, cv=4)\n",
    "    wss.append(np.mean(resultados[\"test_score\"]) * -1)"
   ]
  },
  {
   "cell_type": "code",
   "execution_count": null,
   "metadata": {},
   "outputs": [],
   "source": [
    "# Represento el método del codo\n",
    "plt.plot(np.arange(2, 15), wss)\n",
    "plt.xlabel(\"K\")\n",
    "plt.ylabel(\"WSS\")\n",
    "plt.title(\"Método del codo para obtener el K óptimo\")\n",
    "plt.show()"
   ]
  },
  {
   "cell_type": "markdown",
   "metadata": {},
   "source": [
    "Parece que 6 clusters es un buen número"
   ]
  },
  {
   "cell_type": "markdown",
   "metadata": {},
   "source": [
    "## Realización de K-Means con K-óptimo"
   ]
  },
  {
   "cell_type": "code",
   "execution_count": null,
   "metadata": {},
   "outputs": [],
   "source": [
    "# Ajusto el modelo con el mejor parámetro k=5\n",
    "clf = KMeans(init=\"random\", random_state=0, n_clusters=6)\n",
    "clf.fit(X)\n",
    "clusters = clf.predict(X)"
   ]
  },
  {
   "cell_type": "code",
   "execution_count": null,
   "metadata": {},
   "outputs": [],
   "source": [
    "clusters"
   ]
  },
  {
   "cell_type": "markdown",
   "metadata": {},
   "source": [
    "Mostramos los centroides"
   ]
  },
  {
   "cell_type": "code",
   "execution_count": null,
   "metadata": {},
   "outputs": [],
   "source": [
    "centroids = clf.cluster_centers_\n",
    "print(centroids)"
   ]
  },
  {
   "cell_type": "code",
   "execution_count": null,
   "metadata": {},
   "outputs": [],
   "source": [
    "cluster, conteo = np.unique(clusters, return_counts=True)\n",
    "\n",
    "print(np.asarray((cluster, conteo)).T)"
   ]
  },
  {
   "cell_type": "markdown",
   "metadata": {},
   "source": [
    "## Obtención de métricas"
   ]
  },
  {
   "cell_type": "code",
   "execution_count": null,
   "metadata": {},
   "outputs": [],
   "source": [
    "df[\"asignacion_cluster\"] = clusters"
   ]
  },
  {
   "cell_type": "code",
   "execution_count": null,
   "metadata": {},
   "outputs": [],
   "source": [
    "df.head()"
   ]
  },
  {
   "cell_type": "code",
   "execution_count": null,
   "metadata": {},
   "outputs": [],
   "source": [
    "df[(df[\"asignacion_cluster\"]) == 1].describe()"
   ]
  },
  {
   "cell_type": "code",
   "execution_count": null,
   "metadata": {},
   "outputs": [],
   "source": [
    "df[(df[\"asignacion_cluster\"]) == 5].describe()"
   ]
  },
  {
   "cell_type": "code",
   "execution_count": null,
   "metadata": {},
   "outputs": [],
   "source": [
    "colores=['red','green','blue','cyan','yellow', \"pink\"]\n",
    "asignar=[]\n",
    "for row in clusters:\n",
    "    asignar.append(colores[row])"
   ]
  },
  {
   "cell_type": "code",
   "execution_count": null,
   "metadata": {},
   "outputs": [],
   "source": [
    "# Mostramos las dos primeras variables y sus asignaciones\n",
    "f1 = df['op']\n",
    "f2 = df['ex']\n",
    "\n",
    "plt.scatter(f1, f2, c=asignar, s=70)\n",
    "plt.scatter(clf.cluster_centers_[:, 0], \n",
    "            clf.cluster_centers_[:, 1], \n",
    "            marker='*', c=colores, \n",
    "            s=1000)\n",
    "plt.show()"
   ]
  },
  {
   "cell_type": "code",
   "execution_count": null,
   "metadata": {},
   "outputs": [],
   "source": []
  }
 ],
 "metadata": {
  "kernelspec": {
   "display_name": "Python 3 (ipykernel)",
   "language": "python",
   "name": "python3"
  },
  "language_info": {
   "codemirror_mode": {
    "name": "ipython",
    "version": 3
   },
   "file_extension": ".py",
   "mimetype": "text/x-python",
   "name": "python",
   "nbconvert_exporter": "python",
   "pygments_lexer": "ipython3",
   "version": "3.10.9"
  }
 },
 "nbformat": 4,
 "nbformat_minor": 4
}
