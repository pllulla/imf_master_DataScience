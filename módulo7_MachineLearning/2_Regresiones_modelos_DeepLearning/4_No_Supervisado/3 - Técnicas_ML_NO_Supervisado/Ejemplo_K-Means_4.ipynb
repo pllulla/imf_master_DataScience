{
 "cells": [
  {
   "cell_type": "code",
   "execution_count": null,
   "metadata": {},
   "outputs": [],
   "source": [
    "import pandas as pd\n",
    "from sklearn.cluster import KMeans\n",
    "\n",
    "%pylab\n",
    "%matplotlib inline\n",
    "\n",
    "%config InlineBackend.figure_format = 'retina'"
   ]
  },
  {
   "cell_type": "markdown",
   "metadata": {},
   "source": [
    "En el archivo “crime_data.csv” se encuentran el número de crímenes por cada 100.000 habitantes en cada uno de los estados de Estados Unidos y el porcentaje de la población que es urbana. Los crímenes se han agrupado en: asalto, asesinato y violación\n",
    "\n",
    "Segmentar este conjunto de datos utilizando k-means y obtener los centroides de cada clúster y el listado de los estados en cada uno de los clúster. Para esto se ha de encontrar el número óptimo de clúster en el que se divide el conjunto de datos\n",
    "\n",
    "### Solución\n",
    "En primer lugar se han de importar los datos"
   ]
  },
  {
   "cell_type": "code",
   "execution_count": null,
   "metadata": {},
   "outputs": [],
   "source": [
    "def plot_dispersion(x, figure_name, max_k = 25, n_init = 10):\n",
    "    inertia = []\n",
    "\n",
    "    for k in range(2, max_k):\n",
    "        kmeans = KMeans(n_clusters = k, n_init = n_init).fit(x)\n",
    "        inertia.append(kmeans.inertia_)\n",
    "\n",
    "    plot(range(2, max_k), inertia, 'bx-')\n",
    "    xlabel('k')\n",
    "    ylabel(u'Dispersión')\n",
    "    title(figure_name)"
   ]
  },
  {
   "cell_type": "code",
   "execution_count": null,
   "metadata": {},
   "outputs": [],
   "source": [
    "crime = pd.read_csv('crime_data.csv', sep = ',')\n",
    "crime.head()"
   ]
  },
  {
   "cell_type": "markdown",
   "metadata": {},
   "source": [
    "Por un lado, se han de separar el listado de estados y por otro se ha de seleccionar el conjunto de datos para ser utilizados en la segmentación"
   ]
  },
  {
   "cell_type": "code",
   "execution_count": null,
   "metadata": {},
   "outputs": [],
   "source": [
    "state = crime['State']\n",
    "crime = crime.drop('State', axis = 1)"
   ]
  },
  {
   "cell_type": "markdown",
   "metadata": {},
   "source": [
    "Ahora se cargar los métodos para la selección de la cantidad optima de clúster y seleccionar el número de clusters en base a los."
   ]
  },
  {
   "cell_type": "code",
   "execution_count": null,
   "metadata": {},
   "outputs": [],
   "source": [
    "plot_dispersion(crime, 'Crimen')"
   ]
  },
  {
   "cell_type": "markdown",
   "metadata": {},
   "source": [
    "Ahora se ha de selección el número de clústeres óptimos que en base a la curva de la distorsión parecen ser 3. Los centroides se puede obtener utilizando `KMeans`:"
   ]
  },
  {
   "cell_type": "code",
   "execution_count": null,
   "metadata": {},
   "outputs": [],
   "source": [
    "kmeans = KMeans(n_clusters = 5, n_init = 10).fit(crime)\n",
    "\n",
    "print('Los centroides son:')\n",
    "print(kmeans.cluster_centers_)"
   ]
  },
  {
   "cell_type": "markdown",
   "metadata": {},
   "source": [
    "Finalmente, se puede obtener a que grupo pertenece cada estado"
   ]
  },
  {
   "cell_type": "code",
   "execution_count": null,
   "metadata": {},
   "outputs": [],
   "source": [
    "cluster = kmeans.predict(crime)\n",
    "\n",
    "print('Primer grupo de estados')\n",
    "print(state[cluster == 0])\n",
    "print()\n",
    "print('Segundo grupo de estados')\n",
    "print(state[cluster == 1])\n",
    "print()\n",
    "print('Tercer grupo de estados')\n",
    "print(state[cluster == 2])\n",
    "print('4 grupo de estados')\n",
    "print(state[cluster == 3])\n",
    "print('5 grupo de estados')\n",
    "print(state[cluster == 4])"
   ]
  }
 ],
 "metadata": {
  "kernelspec": {
   "display_name": "Python 3 (ipykernel)",
   "language": "python",
   "name": "python3"
  },
  "language_info": {
   "codemirror_mode": {
    "name": "ipython",
    "version": 3
   },
   "file_extension": ".py",
   "mimetype": "text/x-python",
   "name": "python",
   "nbconvert_exporter": "python",
   "pygments_lexer": "ipython3",
   "version": "3.10.9"
  }
 },
 "nbformat": 4,
 "nbformat_minor": 2
}
