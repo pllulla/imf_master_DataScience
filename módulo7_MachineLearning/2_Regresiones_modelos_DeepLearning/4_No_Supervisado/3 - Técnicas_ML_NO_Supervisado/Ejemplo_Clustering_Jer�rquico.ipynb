{
 "cells": [
  {
   "cell_type": "markdown",
   "metadata": {},
   "source": [
    "# Ejemplo clustering jerárquico"
   ]
  },
  {
   "cell_type": "code",
   "execution_count": null,
   "metadata": {},
   "outputs": [],
   "source": [
    "# Importo librerías\n",
    "from sklearn.datasets import make_blobs\n",
    "from sklearn.cluster import AgglomerativeClustering\n",
    "from scipy.cluster.hierarchy import dendrogram\n",
    "from matplotlib import pyplot as plt\n",
    "import pandas as pd\n",
    "import numpy as np"
   ]
  },
  {
   "cell_type": "code",
   "execution_count": null,
   "metadata": {},
   "outputs": [],
   "source": [
    "# Defino una función para representar el dendograma\n",
    "def plot_dendrogram(model, **kwargs):\n",
    "    # Create linkage matrix and then plot the dendrogram\n",
    "    # create the counts of samples under each node\n",
    "    fig = plt.figure(figsize=(20,3))\n",
    "    counts = np.zeros(model.children_.shape[0])\n",
    "    n_samples = len(model.labels_)\n",
    "    for i, merge in enumerate(model.children_):\n",
    "        current_count = 0\n",
    "        for child_idx in merge:\n",
    "            if child_idx < n_samples:\n",
    "                current_count += 1  # leaf node\n",
    "            else:\n",
    "                current_count += counts[child_idx - n_samples]\n",
    "        counts[i] = current_count\n",
    "    linkage_matrix = np.column_stack([model.children_, model.distances_, counts]).astype(float)\n",
    "    # Plot the corresponding dendrogram\n",
    "    dendrogram(linkage_matrix, **kwargs)"
   ]
  },
  {
   "cell_type": "code",
   "execution_count": null,
   "metadata": {},
   "outputs": [],
   "source": [
    "# Generación de datos sintéticos\n",
    "X, y = make_blobs(centers=3, random_state=2, n_samples=200)"
   ]
  },
  {
   "cell_type": "code",
   "execution_count": null,
   "metadata": {},
   "outputs": [],
   "source": [
    "plt.scatter(X[y == 0, 0], X[y == 0, 1], s=40, label=\"Clase Y=0\", marker=\"^\") \n",
    "plt.scatter(X[y == 1, 0], X[y == 1, 1], s=40, label=\"Clase Y=1\", c=\"green\", marker=\"x\")\n",
    "plt.scatter(X[y == 2, 0], X[y == 2, 1], s=40, label=\"Clase Y=2\", c=\"orange\", marker=\"x\")\n",
    "plt.xlabel(\"X1\") \n",
    "plt.ylabel(\"X2\") \n",
    "plt.show()"
   ]
  },
  {
   "cell_type": "code",
   "execution_count": null,
   "metadata": {},
   "outputs": [],
   "source": [
    "# Ajusto el clustering sólamente a los datos X\n",
    "dfX = pd.DataFrame(X, columns=['X1', 'X2'])"
   ]
  },
  {
   "cell_type": "code",
   "execution_count": null,
   "metadata": {},
   "outputs": [],
   "source": [
    "dfX.describe()"
   ]
  },
  {
   "cell_type": "code",
   "execution_count": null,
   "metadata": {},
   "outputs": [],
   "source": [
    "copy_data = dfX.copy()"
   ]
  },
  {
   "cell_type": "code",
   "execution_count": null,
   "metadata": {},
   "outputs": [],
   "source": [
    "copy_data[\"clusters\"] = np.ones(len(copy_data))"
   ]
  },
  {
   "cell_type": "code",
   "execution_count": null,
   "metadata": {},
   "outputs": [],
   "source": [
    "copy_data"
   ]
  },
  {
   "cell_type": "code",
   "execution_count": null,
   "metadata": {},
   "outputs": [],
   "source": [
    "_ = AgglomerativeClustering(n_clusters=None, \n",
    "                            affinity='euclidean', \n",
    "                            linkage='single', \n",
    "                            distance_threshold=0)\n",
    "\n",
    "_.fit(dfX)\n",
    "\n",
    "# Represento el dendograma\n",
    "plot_dendrogram(_, truncate_mode='level')\n",
    "plt.xlabel(u\"Número de puntos en cada nodo\")\n",
    "plt.show()\n"
   ]
  },
  {
   "cell_type": "code",
   "execution_count": null,
   "metadata": {},
   "outputs": [],
   "source": [
    "_.labels_"
   ]
  },
  {
   "cell_type": "code",
   "execution_count": null,
   "metadata": {},
   "outputs": [],
   "source": [
    "cluster = AgglomerativeClustering(n_clusters=None, \n",
    "                                  affinity='euclidean', \n",
    "                                  linkage='ward', distance_threshold=0)"
   ]
  },
  {
   "cell_type": "code",
   "execution_count": null,
   "metadata": {},
   "outputs": [],
   "source": [
    "cluster"
   ]
  },
  {
   "cell_type": "code",
   "execution_count": null,
   "metadata": {},
   "outputs": [],
   "source": [
    "cluster.fit(dfX)"
   ]
  },
  {
   "cell_type": "code",
   "execution_count": null,
   "metadata": {},
   "outputs": [],
   "source": [
    "# Represento el dendograma\n",
    "plot_dendrogram(cluster, truncate_mode='level')\n",
    "plt.xlabel(u\"Número de puntos en cada nodo\")\n",
    "plt.show()\n"
   ]
  },
  {
   "cell_type": "code",
   "execution_count": null,
   "metadata": {},
   "outputs": [],
   "source": [
    "# Represento el dendograma\n",
    "plot_dendrogram(cluster, truncate_mode='level', p=3)\n",
    "plt.xlabel(u\"Número de puntos en cada nodo\")\n",
    "plt.show()\n"
   ]
  },
  {
   "cell_type": "code",
   "execution_count": null,
   "metadata": {},
   "outputs": [],
   "source": [
    "# Fuerzo a que haya 3 clústers\n",
    "# dfX = pd.DataFrame(X, columns=['X1', 'X2'])\n",
    "cluster = AgglomerativeClustering(n_clusters=3, \n",
    "                                  affinity='euclidean', \n",
    "                                  linkage='ward', \n",
    "                                  distance_threshold=None)\n",
    "cluster.fit(dfX)"
   ]
  },
  {
   "cell_type": "code",
   "execution_count": null,
   "metadata": {},
   "outputs": [],
   "source": [
    "# Representaciones\n",
    "plt.figure(figsize=(10, 5))\n",
    "# Represento las clases reales\n",
    "plt.subplot(121)\n",
    "plt.scatter(X[y == 0, 0], X[y == 0, 1], s=40, label=\"Clase Y=0\", marker=\"^\") \n",
    "plt.scatter(X[y == 1, 0], X[y == 1, 1], s=40, label=\"Clase Y=1\", c=\"green\", marker=\"x\")\n",
    "plt.scatter(X[y == 2, 0], X[y == 2, 1], s=40, label=\"Clase Y=2\", c=\"orange\", marker=\"x\")\n",
    "plt.xlabel(\"X1\") \n",
    "plt.ylabel(\"X2\")\n",
    "plt.title(\"Clases reales\")\n",
    "\n",
    "# Represento el resultado del clústering con k=3\n",
    "plt.subplot(122)\n",
    "plt.scatter(X[:,0],X[:,1], c=cluster.labels_, cmap='rainbow')\n",
    "plt.xlabel('X1')\n",
    "plt.ylabel('X2')\n",
    "plt.title(u\"Asignación del clustering\")\n",
    "plt.tight_layout()\n",
    "plt.show()"
   ]
  },
  {
   "cell_type": "code",
   "execution_count": null,
   "metadata": {},
   "outputs": [],
   "source": [
    "cluster.labels_"
   ]
  },
  {
   "cell_type": "code",
   "execution_count": null,
   "metadata": {},
   "outputs": [],
   "source": [
    "dfX[\"cluster\"] = cluster.labels_"
   ]
  },
  {
   "cell_type": "code",
   "execution_count": null,
   "metadata": {},
   "outputs": [],
   "source": [
    "dfX"
   ]
  },
  {
   "cell_type": "code",
   "execution_count": null,
   "metadata": {},
   "outputs": [],
   "source": [
    "import seaborn as sns\n",
    "\n",
    "sns.pairplot(data=dfX, hue=\"cluster\")"
   ]
  }
 ],
 "metadata": {
  "kernelspec": {
   "display_name": "Python 3 (ipykernel)",
   "language": "python",
   "name": "python3"
  },
  "language_info": {
   "codemirror_mode": {
    "name": "ipython",
    "version": 3
   },
   "file_extension": ".py",
   "mimetype": "text/x-python",
   "name": "python",
   "nbconvert_exporter": "python",
   "pygments_lexer": "ipython3",
   "version": "3.10.9"
  }
 },
 "nbformat": 4,
 "nbformat_minor": 4
}
