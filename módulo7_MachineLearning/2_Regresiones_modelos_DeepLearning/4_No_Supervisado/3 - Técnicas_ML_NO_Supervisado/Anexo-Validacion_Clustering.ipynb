{
 "cells": [
  {
   "cell_type": "markdown",
   "id": "458e0800",
   "metadata": {},
   "source": [
    "# Anexo - Validación Clustering"
   ]
  },
  {
   "cell_type": "code",
   "execution_count": 1,
   "id": "d63bc853",
   "metadata": {},
   "outputs": [
    {
     "name": "stdout",
     "output_type": "stream",
     "text": [
      "\tX\n",
      " [[-6.39232195 -5.80817973]\n",
      " [-2.46538615  8.86728413]\n",
      " [-3.87607632  8.78952073]]\n",
      "\ty\n",
      " [2 0 0]\n"
     ]
    }
   ],
   "source": [
    "import os\n",
    "os.environ[\"OMP_NUM_THREADS\"] = \"1\"\n",
    "\n",
    "from sklearn.cluster import KMeans, AgglomerativeClustering\n",
    "from sklearn.metrics import silhouette_score, adjusted_rand_score, normalized_mutual_info_score\n",
    "import numpy as np\n",
    "import pandas as pd\n",
    "\n",
    "# Genera datos de ejemplo\n",
    "from sklearn.datasets import make_blobs\n",
    "X, y = make_blobs(n_samples=3000, centers=3, random_state=42)\n",
    "\n",
    "print(\"\\tX\\n\",X[:3])\n",
    "print(\"\\ty\\n\",y[:3])"
   ]
  },
  {
   "cell_type": "markdown",
   "id": "67a2fcc8",
   "metadata": {},
   "source": [
    "## K-Means 3 clústers"
   ]
  },
  {
   "cell_type": "code",
   "execution_count": 2,
   "id": "91c1f79e",
   "metadata": {},
   "outputs": [],
   "source": [
    "# Crea y ajusta el modelo K-Means\n",
    "kmeans = KMeans(n_clusters=3, n_init=\"auto\")\n",
    "kmeans_labels = kmeans.fit_predict(X)"
   ]
  },
  {
   "cell_type": "markdown",
   "id": "5045f38e",
   "metadata": {},
   "source": [
    "## Clustering Jerárquico 3 clústers"
   ]
  },
  {
   "cell_type": "code",
   "execution_count": 3,
   "id": "0ebc353f",
   "metadata": {},
   "outputs": [],
   "source": [
    "# Crea y ajusta el modelo Agglomerative Clustering\n",
    "agg_clustering = AgglomerativeClustering(n_clusters = 3, \n",
    "                                         metric     = \"manhattan\", \n",
    "                                         linkage    = \"complete\")\n",
    "\n",
    "agg_labels     = agg_clustering.fit_predict(X)"
   ]
  },
  {
   "cell_type": "markdown",
   "id": "5adacd37",
   "metadata": {},
   "source": [
    "# Métricas de validación clustering.\n",
    "\n",
    "### Silhouette"
   ]
  },
  {
   "cell_type": "code",
   "execution_count": 4,
   "id": "64e3abae",
   "metadata": {},
   "outputs": [],
   "source": [
    "# Calcula las métricas de validación\n",
    "silhouette_kmeans = silhouette_score(X, kmeans_labels)\n",
    "silhouette_agg    = silhouette_score(X, agg_labels)"
   ]
  },
  {
   "cell_type": "markdown",
   "id": "eb668996",
   "metadata": {},
   "source": [
    "### Rand Index"
   ]
  },
  {
   "cell_type": "code",
   "execution_count": 5,
   "id": "246a568a",
   "metadata": {},
   "outputs": [],
   "source": [
    "rand_index_kmeans = adjusted_rand_score(y, kmeans_labels)\n",
    "rand_index_agg    = adjusted_rand_score(y, agg_labels)"
   ]
  },
  {
   "cell_type": "markdown",
   "id": "e1c7b615",
   "metadata": {},
   "source": [
    "### Mutual Information"
   ]
  },
  {
   "cell_type": "code",
   "execution_count": 6,
   "id": "e6bd889e",
   "metadata": {},
   "outputs": [],
   "source": [
    "mutual_info_kmeans = normalized_mutual_info_score(y, kmeans_labels)\n",
    "mutual_info_agg    = normalized_mutual_info_score(y, agg_labels)"
   ]
  },
  {
   "cell_type": "markdown",
   "id": "6289cbe7",
   "metadata": {},
   "source": [
    "### Resultados métricas"
   ]
  },
  {
   "cell_type": "code",
   "execution_count": 7,
   "id": "a06df7d3",
   "metadata": {},
   "outputs": [
    {
     "name": "stdout",
     "output_type": "stream",
     "text": [
      "K-Means Silhouette Score: 0.8422938197385735\n",
      "Agglomerative Clustering Silhouette Score: 0.8422938197385735\n",
      "Adjusted Rand Index (K-Means): 1.0\n",
      "Adjusted Rand Index (Agglomerative): 1.0\n",
      "Normalized Mutual Information (K-Means): 1.0\n",
      "Normalized Mutual Information (Agglomerative): 1.0\n"
     ]
    }
   ],
   "source": [
    "# Muestra los resultados\n",
    "print(\"K-Means Silhouette Score:\", silhouette_kmeans)\n",
    "print(\"Agglomerative Clustering Silhouette Score:\", silhouette_agg)\n",
    "\n",
    "print(\"Adjusted Rand Index (K-Means):\", rand_index_kmeans)\n",
    "print(\"Adjusted Rand Index (Agglomerative):\", rand_index_agg)\n",
    "\n",
    "print(\"Normalized Mutual Information (K-Means):\", mutual_info_kmeans)\n",
    "print(\"Normalized Mutual Information (Agglomerative):\", mutual_info_agg)"
   ]
  },
  {
   "cell_type": "markdown",
   "id": "8f3d3330",
   "metadata": {},
   "source": [
    "## Ejemplo social media"
   ]
  },
  {
   "cell_type": "code",
   "execution_count": 8,
   "id": "478901a8",
   "metadata": {},
   "outputs": [
    {
     "name": "stdout",
     "output_type": "stream",
     "text": [
      "K-Means Silhouette Score: 0.470472208728775\n",
      "Agglomerative Clustering Silhouette Score: 0.45791794000067226\n"
     ]
    }
   ],
   "source": [
    "df = pd.read_csv(\"social_media.csv\")\n",
    "\n",
    "X = np.array(df[[\"op\", \"co\", \"ex\",\"ag\",'ne', 'wordcount']])\n",
    "y = np.array(df['categoria'])\n",
    "\n",
    "agg_clustering = AgglomerativeClustering(n_clusters = 3, \n",
    "                                         metric     = \"manhattan\", \n",
    "                                         linkage    = \"complete\")\n",
    "\n",
    "agg_labels     = agg_clustering.fit_predict(X)\n",
    "\n",
    "kmeans = KMeans(n_clusters=3, n_init=\"auto\")\n",
    "kmeans_labels = kmeans.fit_predict(X)\n",
    "\n",
    "silhouette_kmeans = silhouette_score(X, kmeans_labels)\n",
    "silhouette_agg    = silhouette_score(X, agg_labels)\n",
    "\n",
    "print(\"K-Means Silhouette Score:\", silhouette_kmeans)\n",
    "print(\"Agglomerative Clustering Silhouette Score:\", silhouette_agg)"
   ]
  }
 ],
 "metadata": {
  "kernelspec": {
   "display_name": "Python 3 (ipykernel)",
   "language": "python",
   "name": "python3"
  },
  "language_info": {
   "codemirror_mode": {
    "name": "ipython",
    "version": 3
   },
   "file_extension": ".py",
   "mimetype": "text/x-python",
   "name": "python",
   "nbconvert_exporter": "python",
   "pygments_lexer": "ipython3",
   "version": "3.10.9"
  }
 },
 "nbformat": 4,
 "nbformat_minor": 5
}
