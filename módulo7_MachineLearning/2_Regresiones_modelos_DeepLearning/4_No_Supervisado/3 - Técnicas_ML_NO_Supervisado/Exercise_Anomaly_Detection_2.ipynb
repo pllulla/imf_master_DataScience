{
 "cells": [
  {
   "cell_type": "markdown",
   "id": "4fed956e",
   "metadata": {},
   "source": [
    "# Exercise Anomaly Detection\n",
    "\n",
    "Take the data from https://www.kaggle.com/mlg-ulb/creditcardfraud\n",
    "\n",
    "Apply the LOF model (you can use same code than Live Coding), note that LOF doesn't train with Y set.\n",
    "\n",
    "Then try to compare the results of the confussion Matrix against Logistic Regression and Random Forest, what are the difference in the results ?\n",
    "\n",
    "## SOLUTION"
   ]
  },
  {
   "cell_type": "code",
   "execution_count": null,
   "id": "2aa5929b",
   "metadata": {},
   "outputs": [],
   "source": [
    "import pandas as pd\n",
    "import numpy as np\n",
    "import seaborn as sns\n",
    "import matplotlib.pyplot as plt\n",
    "new_style = {'grid': False}\n",
    "plt.rc('axes', **new_style)\n",
    "\n",
    "from sklearn.preprocessing import StandardScaler\n",
    "from sklearn.neighbors import LocalOutlierFactor\n",
    "from sklearn.ensemble import RandomForestClassifier\n",
    "from sklearn.linear_model import LogisticRegression\n",
    "import sklearn.metrics as metrics\n",
    "from sklearn.model_selection import train_test_split\n"
   ]
  },
  {
   "cell_type": "code",
   "execution_count": null,
   "id": "b401b75c",
   "metadata": {},
   "outputs": [],
   "source": [
    "def plot_confussion_matrix(matrix):\n",
    "    df_confussion_matrix = pd.DataFrame(matrix,\n",
    "                     ['True Normal','True Fraud'],\n",
    "                     ['Pred Normal','Pred Fraud'])\n",
    "    plt.figure(figsize = (8,4))\n",
    "    sns.set(font_scale=1.4)\n",
    "    plt.title('Confussion Matrix')\n",
    "    _ = sns.heatmap(df_confussion_matrix, annot=True, annot_kws={\"size\": 16}, fmt='g')\n",
    "    \n",
    "def model_reporting(y_real, y_pred):\n",
    "    confussion_matrix = metrics.confusion_matrix(y_real, y_pred)\n",
    "    roc_auc = metrics.roc_auc_score(y_real, y_pred)\n",
    "    metrica_f1 = metrics.f1_score(y_real, y_pred)\n",
    "    print('\\tAUC of ROC Curve is: {}'.format(round(roc_auc,2)))\n",
    "    print('\\tF1 Score: {}'.format(round(metrica_f1,2)))\n",
    "    print(\"\\tAccuracy: {}\".format(round(metrics.accuracy_score(y_real, y_pred),3)))  \n",
    "    print(\"\\tSensitivity:{}\".format(round(metrics.recall_score(y_real, y_pred),3)))\n",
    "    print(\"\\tPrecission: {}\".format(round(metrics.precision_score(y_real, y_pred),3)))   \n",
    "    plot_confussion_matrix(confussion_matrix)"
   ]
  },
  {
   "cell_type": "markdown",
   "id": "ab12b533",
   "metadata": {},
   "source": [
    "## EDA & Pre-Processing"
   ]
  },
  {
   "cell_type": "code",
   "execution_count": null,
   "id": "40542604",
   "metadata": {},
   "outputs": [],
   "source": [
    "XY = pd.read_csv('creditcard.csv')\n",
    "\n",
    "XY['Class'].value_counts().plot(kind='pie', figsize=(7,7))\n",
    "_ = plt.title('Distribution of transactions', fontsize=20)"
   ]
  },
  {
   "cell_type": "code",
   "execution_count": null,
   "id": "7250f48f",
   "metadata": {},
   "outputs": [],
   "source": [
    "XY['Class'].value_counts()\n",
    "\n",
    "X = XY.drop('Class', axis=1)\n",
    "Y = XY['Class']"
   ]
  },
  {
   "cell_type": "markdown",
   "id": "6dbdb860",
   "metadata": {},
   "source": [
    "## LOF MODEL"
   ]
  },
  {
   "cell_type": "code",
   "execution_count": null,
   "id": "ad030c62",
   "metadata": {},
   "outputs": [],
   "source": [
    "%%time\n",
    "clf=LocalOutlierFactor(n_neighbors=10, \n",
    "                        algorithm='auto', \n",
    "                        leaf_size=30,\n",
    "                        metric='minkowski', \n",
    "                        p=2, \n",
    "                        metric_params=None, \n",
    "                        n_jobs=-1,\n",
    "                        novelty=False)\n",
    "\n",
    "clf.fit(X)"
   ]
  },
  {
   "cell_type": "code",
   "execution_count": null,
   "id": "73606889",
   "metadata": {},
   "outputs": [],
   "source": [
    "lof_factors = clf.negative_outlier_factor_\n",
    "Y_pred_clase = lof_factors.copy()\n",
    "Y_pred_clase[lof_factors>=np.percentile(lof_factors,2.)] = 0\n",
    "Y_pred_clase[lof_factors<np.percentile(lof_factors,2.)] = 1\n",
    "model_reporting(Y, Y_pred_clase) "
   ]
  },
  {
   "cell_type": "markdown",
   "id": "f044f29d",
   "metadata": {},
   "source": [
    "## Logistic Regression"
   ]
  },
  {
   "cell_type": "code",
   "execution_count": null,
   "id": "d0f1f6cc",
   "metadata": {},
   "outputs": [],
   "source": [
    "sc = StandardScaler()\n",
    "X_norm = sc.fit_transform(X)"
   ]
  },
  {
   "cell_type": "code",
   "execution_count": null,
   "id": "5167e85c",
   "metadata": {},
   "outputs": [],
   "source": [
    "%%time\n",
    "lgr_model = LogisticRegression(n_jobs = -1).fit(X_norm, Y)\n",
    "y_pred_lgr = lgr_model.predict(X_norm)\n",
    "model_reporting(Y, y_pred_lgr) "
   ]
  },
  {
   "cell_type": "markdown",
   "id": "9684537f",
   "metadata": {},
   "source": [
    "# Random Forest"
   ]
  },
  {
   "cell_type": "code",
   "execution_count": null,
   "id": "d84db3b7",
   "metadata": {},
   "outputs": [],
   "source": [
    "%%time\n",
    "rf_model = RandomForestClassifier(n_jobs = -1).fit(X_norm, Y)\n",
    "y_pred_rf = rf_model.predict(X_norm)\n",
    "model_reporting(Y, y_pred_rf) "
   ]
  },
  {
   "cell_type": "markdown",
   "id": "1261bf3a",
   "metadata": {},
   "source": [
    "As we can see, when we've labeled data supervised models works correctly but, in first phase we can find outliers with LOF and the use a supervised model to predict new data"
   ]
  }
 ],
 "metadata": {
  "kernelspec": {
   "display_name": "Python 3 (ipykernel)",
   "language": "python",
   "name": "python3"
  },
  "language_info": {
   "codemirror_mode": {
    "name": "ipython",
    "version": 3
   },
   "file_extension": ".py",
   "mimetype": "text/x-python",
   "name": "python",
   "nbconvert_exporter": "python",
   "pygments_lexer": "ipython3",
   "version": "3.10.9"
  }
 },
 "nbformat": 4,
 "nbformat_minor": 5
}
