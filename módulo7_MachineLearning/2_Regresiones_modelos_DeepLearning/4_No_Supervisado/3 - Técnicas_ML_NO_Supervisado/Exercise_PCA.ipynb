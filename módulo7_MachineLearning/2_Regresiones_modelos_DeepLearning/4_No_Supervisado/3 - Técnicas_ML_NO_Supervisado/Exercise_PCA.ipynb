{
 "cells": [
  {
   "cell_type": "markdown",
   "id": "e722a790",
   "metadata": {},
   "source": [
    "# Exercise PCA\n",
    "\n",
    "Take the digits dataset and apply a PCA model.\n",
    "\n",
    "* With how many components can we explain more than 80% of the variance?\n",
    "* Try to show the reduced digits accessing to the attribute of a PCA model with a heatmap to refresent the digit, for instance: sns.heatmap(pca.components_[i].reshape(8,8))\n",
    "\n",
    "## SOLUTION"
   ]
  },
  {
   "cell_type": "code",
   "execution_count": null,
   "id": "08c5c8ab",
   "metadata": {},
   "outputs": [],
   "source": [
    "# Packages\n",
    "from sklearn.datasets import load_iris\n",
    "from sklearn.preprocessing import StandardScaler\n",
    "from sklearn.datasets import load_digits\n",
    "import pandas as pd\n",
    "import numpy as np\n",
    "import seaborn as sns\n",
    "import matplotlib.pyplot as plt\n",
    "from sklearn.decomposition import PCA"
   ]
  },
  {
   "cell_type": "code",
   "execution_count": null,
   "id": "a92725a6",
   "metadata": {},
   "outputs": [],
   "source": [
    "digits = load_digits()\n",
    "\n",
    "X = digits.data\n",
    "y = digits.target"
   ]
  },
  {
   "cell_type": "code",
   "execution_count": null,
   "id": "a47134a3",
   "metadata": {},
   "outputs": [],
   "source": [
    "len(digits.feature_names)"
   ]
  },
  {
   "cell_type": "code",
   "execution_count": null,
   "id": "1e7b837d",
   "metadata": {},
   "outputs": [],
   "source": [
    "# Create a PCA model\n",
    "pca = PCA()\n",
    "pca"
   ]
  },
  {
   "cell_type": "code",
   "execution_count": null,
   "id": "4daa5ed8",
   "metadata": {},
   "outputs": [],
   "source": [
    "pca.fit(X)"
   ]
  },
  {
   "cell_type": "code",
   "execution_count": null,
   "id": "ba8e8ec8",
   "metadata": {},
   "outputs": [],
   "source": [
    "pca.explained_variance_ratio_"
   ]
  },
  {
   "cell_type": "code",
   "execution_count": null,
   "id": "44cc8c0a",
   "metadata": {},
   "outputs": [],
   "source": [
    "np.cumsum(pca.explained_variance_ratio_)"
   ]
  },
  {
   "cell_type": "code",
   "execution_count": null,
   "id": "b7d4670d",
   "metadata": {},
   "outputs": [],
   "source": [
    "# We have 64 componentes one by pixel\n",
    "len(digits.feature_names)"
   ]
  },
  {
   "cell_type": "code",
   "execution_count": null,
   "id": "5d462a94",
   "metadata": {},
   "outputs": [],
   "source": [
    "# Represent the cumulative explained variance\n",
    "plt.plot(range(len(pca.explained_variance_ratio_)), \n",
    "         pca.explained_variance_ratio_, c=\"orange\")\n",
    "plt.bar(range(len(pca.explained_variance_ratio_)), \n",
    "        np.cumsum(pca.explained_variance_ratio_))\n",
    "plt.xlabel(\"Principal Component\")\n",
    "plt.ylabel(\"Cumulative explained variance\")\n",
    "plt.ylim(0, 1)\n",
    "plt.axhline(0.80, c=\"black\") # Threshold on 0.8\n",
    "plt.show()"
   ]
  },
  {
   "cell_type": "markdown",
   "id": "4104bf25",
   "metadata": {},
   "source": [
    "We can reduce the image to 12 pixels"
   ]
  },
  {
   "cell_type": "code",
   "execution_count": null,
   "id": "3313e009",
   "metadata": {},
   "outputs": [],
   "source": [
    "np.cumsum(pca.explained_variance_ratio_) <= 0.8"
   ]
  },
  {
   "cell_type": "markdown",
   "id": "ad9108d5",
   "metadata": {},
   "source": [
    "Train again a PCA with 12 factors"
   ]
  },
  {
   "cell_type": "code",
   "execution_count": null,
   "id": "ed719677",
   "metadata": {},
   "outputs": [],
   "source": [
    "# PCA of 2 componentes\n",
    "pca = PCA(n_components=12)\n",
    "pca.fit(X)"
   ]
  },
  {
   "cell_type": "code",
   "execution_count": null,
   "id": "9911bdce",
   "metadata": {},
   "outputs": [],
   "source": [
    "pr_comp = pca.transform(X)\n",
    "pr_comp[:3]"
   ]
  },
  {
   "cell_type": "code",
   "execution_count": null,
   "id": "5ee41a87",
   "metadata": {},
   "outputs": [],
   "source": [
    "plt.scatter(pr_comp[:, 1], pr_comp[:, 4], c=y)\n",
    "plt.title('Two first components')\n",
    "plt.xlabel(\"Component 1\")\n",
    "plt.ylabel(\"Component 2\")\n",
    "plt.show()"
   ]
  },
  {
   "cell_type": "code",
   "execution_count": null,
   "id": "7a41a404",
   "metadata": {},
   "outputs": [],
   "source": [
    "fig = plt.figure(figsize=(10,8))\n",
    "axes = [fig.add_subplot(220+i+1) for i in range(4)]\n",
    "\n",
    "for i,ax in enumerate(axes):\n",
    "    sns.heatmap(pca.components_[i].reshape(8,8), \n",
    "                square=True, ax=ax, \n",
    "                vmax = 0.30, vmin=-0.30, cmap = \"Blues\")\n",
    "    ax.set_title('Principal Component '+str(i))\n",
    "    \n",
    "plt.show()"
   ]
  },
  {
   "cell_type": "code",
   "execution_count": null,
   "id": "e05b413c",
   "metadata": {},
   "outputs": [],
   "source": []
  }
 ],
 "metadata": {
  "kernelspec": {
   "display_name": "Python 3 (ipykernel)",
   "language": "python",
   "name": "python3"
  },
  "language_info": {
   "codemirror_mode": {
    "name": "ipython",
    "version": 3
   },
   "file_extension": ".py",
   "mimetype": "text/x-python",
   "name": "python",
   "nbconvert_exporter": "python",
   "pygments_lexer": "ipython3",
   "version": "3.10.9"
  }
 },
 "nbformat": 4,
 "nbformat_minor": 5
}
