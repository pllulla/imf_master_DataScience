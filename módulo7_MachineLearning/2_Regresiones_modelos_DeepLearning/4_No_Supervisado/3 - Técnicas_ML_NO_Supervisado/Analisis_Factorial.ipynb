{
 "cells": [
  {
   "cell_type": "markdown",
   "metadata": {},
   "source": [
    "# Análisis Factorial"
   ]
  },
  {
   "cell_type": "code",
   "execution_count": null,
   "metadata": {},
   "outputs": [],
   "source": [
    "# Importo librerías\n",
    "import pandas as pd\n",
    "from factor_analyzer import FactorAnalyzer # pip install factor_analyzer\n",
    "from factor_analyzer.factor_analyzer import calculate_kmo\n",
    "import matplotlib.pyplot as plt"
   ]
  },
  {
   "cell_type": "code",
   "execution_count": null,
   "metadata": {},
   "outputs": [],
   "source": [
    "# Cargo el dataset\n",
    "df= pd.read_csv(\"bfi.csv\") # https://osf.io/s87kd/"
   ]
  },
  {
   "cell_type": "code",
   "execution_count": null,
   "metadata": {},
   "outputs": [],
   "source": [
    "df.head()"
   ]
  },
  {
   "cell_type": "markdown",
   "metadata": {},
   "source": [
    "* A: Agradable\n",
    "* E: Extraversión\n",
    "* N: Neuroticismo\n",
    "* C: Conciencia\n",
    "* O: Open Mind"
   ]
  },
  {
   "cell_type": "code",
   "execution_count": null,
   "metadata": {},
   "outputs": [],
   "source": [
    "# Elimino columnas innecesarias\n",
    "df.drop(['gender', 'education', 'age'],axis=1,inplace=True)"
   ]
  },
  {
   "cell_type": "code",
   "execution_count": null,
   "metadata": {},
   "outputs": [],
   "source": [
    "df.isnull().sum()"
   ]
  },
  {
   "cell_type": "code",
   "execution_count": null,
   "metadata": {},
   "outputs": [],
   "source": [
    "# Elimino filas con valores missings\n",
    "df.dropna(inplace=True)\n",
    "df[:2]"
   ]
  },
  {
   "cell_type": "code",
   "execution_count": null,
   "metadata": {},
   "outputs": [],
   "source": [
    "df.isnull().sum()"
   ]
  },
  {
   "cell_type": "code",
   "execution_count": null,
   "metadata": {},
   "outputs": [],
   "source": [
    "df.shape"
   ]
  },
  {
   "cell_type": "markdown",
   "metadata": {},
   "source": [
    "Se realiza KMO el test de Kaiser-Meyer-Olkin (KMO) para ver cómo de indicados son los datos para realizar un análisis factorial. Posteriormente se ajustan los datos a un modelo de análisis factorial con 25 factores. "
   ]
  },
  {
   "cell_type": "code",
   "execution_count": null,
   "metadata": {},
   "outputs": [],
   "source": [
    "# Realizo el test de Kaiser-Meyer-Olkin\n",
    "# Indica cómo de adecuada es la muestra a hacer un análisis factorial\n",
    "# Los valores entre 0.5 y 1 indican que es apropiado aplicarlo\n",
    "kmo_all,kmo_model=calculate_kmo(df)\n",
    "print('El valor KMO es: {}\\n[0.5-1] -> Valores adecuados para análisis factorial'.format(round(kmo_model,2)))"
   ]
  },
  {
   "cell_type": "code",
   "execution_count": null,
   "metadata": {},
   "outputs": [],
   "source": [
    "# Ajusto un modelo de análisis factorial a los datos\n",
    "fa = FactorAnalyzer(n_factors=df.shape[1], \n",
    "                    rotation=None)\n",
    "fa.fit(df)"
   ]
  },
  {
   "cell_type": "code",
   "execution_count": null,
   "metadata": {},
   "outputs": [],
   "source": [
    "# Criterio 1: Kaiser Criterion\n",
    "# Compruebo los autovalores > 1\n",
    "ev, v = fa.get_eigenvalues()\n",
    "print('--- Criterio 1: Kaiser Criterion')\n",
    "print(u'El número de factores adecuado según el criterio de Kaiser (autovalor>1) es {}'.format(sum(ev>1)))"
   ]
  },
  {
   "cell_type": "code",
   "execution_count": null,
   "metadata": {},
   "outputs": [],
   "source": [
    "# Criterio 2: gráfica de sedimentación\n",
    "# Compruebo un codo en la gráfica, punto en el que está el\n",
    "# número de factores\n",
    "print('\\n--- Criterio 2: gráfica de sedimentación')\n",
    "plt.scatter(range(1,df.shape[1]+1),ev)\n",
    "plt.plot(range(1,df.shape[1]+1),ev)\n",
    "plt.title(u'Gráfica de sedimentación')\n",
    "plt.xlabel('Factor')\n",
    "plt.ylabel('Autovalor')\n",
    "plt.axhline(1, c=\"green\")\n",
    "plt.grid()\n",
    "plt.show()"
   ]
  },
  {
   "cell_type": "markdown",
   "metadata": {},
   "source": [
    "Llegados a este punto, se genera un análisis factorial con el número de factores calculados como el óptimo en el punto anterior, en la gráfica anterior 5, 6 y 7 parecen óptimos."
   ]
  },
  {
   "cell_type": "code",
   "execution_count": null,
   "metadata": {},
   "outputs": [],
   "source": [
    "# Creo el análisis factorial con 6 factores y analizo los factores\n",
    "fa = FactorAnalyzer(n_factors=6, \n",
    "                    rotation=\"varimax\")\n",
    "fa.fit(df)"
   ]
  },
  {
   "cell_type": "code",
   "execution_count": null,
   "metadata": {},
   "outputs": [],
   "source": [
    "fa.loadings_"
   ]
  },
  {
   "cell_type": "code",
   "execution_count": null,
   "metadata": {},
   "outputs": [],
   "source": [
    "columnas_factores = ['Factor 1', 'Factor 2', 'Factor 3', 'Factor 4', 'Factor 5', 'Factor 6']\n",
    "\n",
    "rasgos_personalidad = pd.DataFrame(fa.loadings_, \n",
    "                                   index=df.columns, \n",
    "                                   columns=columnas_factores)"
   ]
  },
  {
   "cell_type": "code",
   "execution_count": null,
   "metadata": {},
   "outputs": [],
   "source": [
    "rasgos_personalidad"
   ]
  },
  {
   "cell_type": "code",
   "execution_count": null,
   "metadata": {},
   "outputs": [],
   "source": [
    "rasgos_personalidad[\"Factor 1\"].sort_values(ascending=False)"
   ]
  },
  {
   "cell_type": "code",
   "execution_count": null,
   "metadata": {},
   "outputs": [],
   "source": [
    "rasgos_personalidad[\"Factor 2\"].sort_values(ascending=False)"
   ]
  },
  {
   "cell_type": "code",
   "execution_count": null,
   "metadata": {},
   "outputs": [],
   "source": [
    "# Obtengo las varianzas de los factores\n",
    "nombres_varianzas = ['Varianza del factor', 'Proporción de varianza', 'Varianza acumulada']\n",
    "pd.DataFrame(fa.get_factor_variance(), columns=columnas_factores, index=nombres_varianzas)"
   ]
  },
  {
   "cell_type": "code",
   "execution_count": null,
   "metadata": {},
   "outputs": [],
   "source": []
  }
 ],
 "metadata": {
  "kernelspec": {
   "display_name": "Python 3 (ipykernel)",
   "language": "python",
   "name": "python3"
  },
  "language_info": {
   "codemirror_mode": {
    "name": "ipython",
    "version": 3
   },
   "file_extension": ".py",
   "mimetype": "text/x-python",
   "name": "python",
   "nbconvert_exporter": "python",
   "pygments_lexer": "ipython3",
   "version": "3.10.9"
  }
 },
 "nbformat": 4,
 "nbformat_minor": 4
}
