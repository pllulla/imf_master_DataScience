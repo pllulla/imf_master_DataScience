{
 "cells": [
  {
   "cell_type": "markdown",
   "metadata": {},
   "source": [
    "# Ejemplo regresión lineal (SGD) con Keras "
   ]
  },
  {
   "cell_type": "code",
   "execution_count": 1,
   "metadata": {},
   "outputs": [],
   "source": [
    "# Librerías generales\n",
    "import pandas as pd\n",
    "import numpy as np\n",
    "\n",
    "# Librerías para visualización\n",
    "import matplotlib.pyplot as plt\n",
    "from pandas.plotting import scatter_matrix\n",
    "\n",
    "# Librerías Keras\n",
    "from keras.models import Sequential\n",
    "from keras.layers import Dense\n",
    "from keras.optimizers import SGD"
   ]
  },
  {
   "cell_type": "code",
   "execution_count": 2,
   "metadata": {},
   "outputs": [],
   "source": [
    "data = pd.read_csv('systolic_blood.csv')"
   ]
  },
  {
   "cell_type": "markdown",
   "metadata": {},
   "source": [
    "## EDA"
   ]
  },
  {
   "cell_type": "code",
   "execution_count": 3,
   "metadata": {},
   "outputs": [
    {
     "data": {
      "text/html": [
       "<div>\n",
       "<style scoped>\n",
       "    .dataframe tbody tr th:only-of-type {\n",
       "        vertical-align: middle;\n",
       "    }\n",
       "\n",
       "    .dataframe tbody tr th {\n",
       "        vertical-align: top;\n",
       "    }\n",
       "\n",
       "    .dataframe thead th {\n",
       "        text-align: right;\n",
       "    }\n",
       "</style>\n",
       "<table border=\"1\" class=\"dataframe\">\n",
       "  <thead>\n",
       "    <tr style=\"text-align: right;\">\n",
       "      <th></th>\n",
       "      <th>Age</th>\n",
       "      <th>Systolic_blood_pressure</th>\n",
       "    </tr>\n",
       "  </thead>\n",
       "  <tbody>\n",
       "    <tr>\n",
       "      <th>0</th>\n",
       "      <td>39</td>\n",
       "      <td>144</td>\n",
       "    </tr>\n",
       "    <tr>\n",
       "      <th>1</th>\n",
       "      <td>45</td>\n",
       "      <td>138</td>\n",
       "    </tr>\n",
       "    <tr>\n",
       "      <th>2</th>\n",
       "      <td>47</td>\n",
       "      <td>145</td>\n",
       "    </tr>\n",
       "    <tr>\n",
       "      <th>3</th>\n",
       "      <td>65</td>\n",
       "      <td>162</td>\n",
       "    </tr>\n",
       "    <tr>\n",
       "      <th>4</th>\n",
       "      <td>46</td>\n",
       "      <td>142</td>\n",
       "    </tr>\n",
       "  </tbody>\n",
       "</table>\n",
       "</div>"
      ],
      "text/plain": [
       "   Age  Systolic_blood_pressure\n",
       "0   39                      144\n",
       "1   45                      138\n",
       "2   47                      145\n",
       "3   65                      162\n",
       "4   46                      142"
      ]
     },
     "execution_count": 3,
     "metadata": {},
     "output_type": "execute_result"
    }
   ],
   "source": [
    "data.head()"
   ]
  },
  {
   "cell_type": "code",
   "execution_count": 4,
   "metadata": {},
   "outputs": [
    {
     "data": {
      "text/html": [
       "<div>\n",
       "<style scoped>\n",
       "    .dataframe tbody tr th:only-of-type {\n",
       "        vertical-align: middle;\n",
       "    }\n",
       "\n",
       "    .dataframe tbody tr th {\n",
       "        vertical-align: top;\n",
       "    }\n",
       "\n",
       "    .dataframe thead th {\n",
       "        text-align: right;\n",
       "    }\n",
       "</style>\n",
       "<table border=\"1\" class=\"dataframe\">\n",
       "  <thead>\n",
       "    <tr style=\"text-align: right;\">\n",
       "      <th></th>\n",
       "      <th>Age</th>\n",
       "      <th>Systolic_blood_pressure</th>\n",
       "    </tr>\n",
       "  </thead>\n",
       "  <tbody>\n",
       "    <tr>\n",
       "      <th>count</th>\n",
       "      <td>29.000000</td>\n",
       "      <td>29.000000</td>\n",
       "    </tr>\n",
       "    <tr>\n",
       "      <th>mean</th>\n",
       "      <td>45.068966</td>\n",
       "      <td>139.862069</td>\n",
       "    </tr>\n",
       "    <tr>\n",
       "      <th>std</th>\n",
       "      <td>15.560782</td>\n",
       "      <td>17.504538</td>\n",
       "    </tr>\n",
       "    <tr>\n",
       "      <th>min</th>\n",
       "      <td>17.000000</td>\n",
       "      <td>110.000000</td>\n",
       "    </tr>\n",
       "    <tr>\n",
       "      <th>25%</th>\n",
       "      <td>36.000000</td>\n",
       "      <td>125.000000</td>\n",
       "    </tr>\n",
       "    <tr>\n",
       "      <th>50%</th>\n",
       "      <td>45.000000</td>\n",
       "      <td>140.000000</td>\n",
       "    </tr>\n",
       "    <tr>\n",
       "      <th>75%</th>\n",
       "      <td>56.000000</td>\n",
       "      <td>154.000000</td>\n",
       "    </tr>\n",
       "    <tr>\n",
       "      <th>max</th>\n",
       "      <td>69.000000</td>\n",
       "      <td>175.000000</td>\n",
       "    </tr>\n",
       "  </tbody>\n",
       "</table>\n",
       "</div>"
      ],
      "text/plain": [
       "             Age  Systolic_blood_pressure\n",
       "count  29.000000                29.000000\n",
       "mean   45.068966               139.862069\n",
       "std    15.560782                17.504538\n",
       "min    17.000000               110.000000\n",
       "25%    36.000000               125.000000\n",
       "50%    45.000000               140.000000\n",
       "75%    56.000000               154.000000\n",
       "max    69.000000               175.000000"
      ]
     },
     "execution_count": 4,
     "metadata": {},
     "output_type": "execute_result"
    }
   ],
   "source": [
    "data.describe()"
   ]
  },
  {
   "cell_type": "code",
   "execution_count": 5,
   "metadata": {},
   "outputs": [
    {
     "data": {
      "text/plain": [
       "array([[<Axes: xlabel='Age', ylabel='Age'>,\n",
       "        <Axes: xlabel='Systolic_blood_pressure', ylabel='Age'>],\n",
       "       [<Axes: xlabel='Age', ylabel='Systolic_blood_pressure'>,\n",
       "        <Axes: xlabel='Systolic_blood_pressure', ylabel='Systolic_blood_pressure'>]],\n",
       "      dtype=object)"
      ]
     },
     "execution_count": 5,
     "metadata": {},
     "output_type": "execute_result"
    },
    {
     "data": {
      "image/png": "[encoded data removed]",
      "text/plain": [
       "<Figure size 200x200 with 4 Axes>"
      ]
     },
     "metadata": {},
     "output_type": "display_data"
    }
   ],
   "source": [
    "scatter_matrix(data, \n",
    "               figsize=(len(data.columns),\n",
    "                              len(data.columns)),\n",
    "               diagonal = 'kde')"
   ]
  },
  {
   "cell_type": "markdown",
   "metadata": {},
   "source": [
    "Al ser solamente dos variables, mostramos el diagrama de dispersión"
   ]
  },
  {
   "cell_type": "code",
   "execution_count": 6,
   "metadata": {},
   "outputs": [
    {
     "data": {
      "image/png": "[encoded data removed]",
      "text/plain": [
       "<Figure size 640x480 with 1 Axes>"
      ]
     },
     "metadata": {},
     "output_type": "display_data"
    }
   ],
   "source": [
    "# Al graficar los datos se observa una tendencia lineal\n",
    "data.plot.scatter(x='Age', y='Systolic_blood_pressure')\n",
    "plt.xlabel('Edad')\n",
    "plt.ylabel('Presión sistólica en sangre')\n",
    "plt.show()"
   ]
  },
  {
   "cell_type": "code",
   "execution_count": 7,
   "metadata": {},
   "outputs": [],
   "source": [
    "X = data['Age'].values\n",
    "Y = data['Systolic_blood_pressure'].values"
   ]
  },
  {
   "cell_type": "markdown",
   "metadata": {},
   "source": [
    "### 1 - Definición del modelo"
   ]
  },
  {
   "cell_type": "code",
   "execution_count": 8,
   "metadata": {},
   "outputs": [],
   "source": [
    "input_dim  = 1\n",
    "output_dim = 1\n",
    "\n",
    "model = Sequential()\n",
    "model.add(Dense(output_dim, input_dim=input_dim, activation='linear'))"
   ]
  },
  {
   "cell_type": "markdown",
   "metadata": {},
   "source": [
    "### 2- Compilación del modelo"
   ]
  },
  {
   "cell_type": "markdown",
   "metadata": {},
   "source": [
    "En este caso, vamos a definir un optimizador que a diferencia de otros optimizadores como 'adam' o 'RMSProp', necesita que configuremos ciertos parámetros."
   ]
  },
  {
   "cell_type": "code",
   "execution_count": 9,
   "metadata": {},
   "outputs": [
    {
     "name": "stderr",
     "output_type": "stream",
     "text": [
      "WARNING:absl:`lr` is deprecated in Keras optimizer, please use `learning_rate` or use the legacy optimizer, e.g.,tf.keras.optimizers.legacy.SGD.\n"
     ]
    }
   ],
   "source": [
    "sgd = SGD(lr=0.0004)\n",
    "model.compile(loss='mse', optimizer=sgd)"
   ]
  },
  {
   "cell_type": "code",
   "execution_count": 10,
   "metadata": {},
   "outputs": [
    {
     "name": "stdout",
     "output_type": "stream",
     "text": [
      "Model: \"sequential\"\n",
      "_________________________________________________________________\n",
      " Layer (type)                Output Shape              Param #   \n",
      "=================================================================\n",
      " dense (Dense)               (None, 1)                 2         \n",
      "                                                                 \n",
      "=================================================================\n",
      "Total params: 2 (8.00 Byte)\n",
      "Trainable params: 2 (8.00 Byte)\n",
      "Non-trainable params: 0 (0.00 Byte)\n",
      "_________________________________________________________________\n"
     ]
    }
   ],
   "source": [
    "model.summary()"
   ]
  },
  {
   "cell_type": "markdown",
   "metadata": {},
   "source": [
    "### 3- Ajuste del modelo"
   ]
  },
  {
   "cell_type": "code",
   "execution_count": 11,
   "metadata": {},
   "outputs": [
    {
     "name": "stdout",
     "output_type": "stream",
     "text": [
      "Epoch 1/200\n",
      "15/15 - 0s - loss: inf - 240ms/epoch - 16ms/step\n",
      "Epoch 2/200\n",
      "15/15 - 0s - loss: nan - 10ms/epoch - 686us/step\n",
      "Epoch 3/200\n",
      "15/15 - 0s - loss: nan - 10ms/epoch - 662us/step\n",
      "Epoch 4/200\n",
      "15/15 - 0s - loss: nan - 12ms/epoch - 773us/step\n",
      "Epoch 5/200\n",
      "15/15 - 0s - loss: nan - 16ms/epoch - 1ms/step\n",
      "Epoch 6/200\n",
      "15/15 - 0s - loss: nan - 13ms/epoch - 854us/step\n",
      "Epoch 7/200\n",
      "15/15 - 0s - loss: nan - 10ms/epoch - 669us/step\n",
      "Epoch 8/200\n",
      "15/15 - 0s - loss: nan - 10ms/epoch - 649us/step\n",
      "Epoch 9/200\n",
      "15/15 - 0s - loss: nan - 15ms/epoch - 987us/step\n",
      "Epoch 10/200\n",
      "15/15 - 0s - loss: nan - 5ms/epoch - 334us/step\n",
      "Epoch 11/200\n",
      "15/15 - 0s - loss: nan - 20ms/epoch - 1ms/step\n",
      "Epoch 12/200\n",
      "15/15 - 0s - loss: nan - 10ms/epoch - 648us/step\n",
      "Epoch 13/200\n",
      "15/15 - 0s - loss: nan - 12ms/epoch - 792us/step\n",
      "Epoch 14/200\n",
      "15/15 - 0s - loss: nan - 16ms/epoch - 1ms/step\n",
      "Epoch 15/200\n",
      "15/15 - 0s - loss: nan - 10ms/epoch - 686us/step\n",
      "Epoch 16/200\n",
      "15/15 - 0s - loss: nan - 10ms/epoch - 670us/step\n",
      "Epoch 17/200\n",
      "15/15 - 0s - loss: nan - 10ms/epoch - 644us/step\n",
      "Epoch 18/200\n",
      "15/15 - 0s - loss: nan - 16ms/epoch - 1ms/step\n",
      "Epoch 19/200\n",
      "15/15 - 0s - loss: nan - 4ms/epoch - 267us/step\n",
      "Epoch 20/200\n",
      "15/15 - 0s - loss: nan - 10ms/epoch - 669us/step\n",
      "Epoch 21/200\n",
      "15/15 - 0s - loss: nan - 10ms/epoch - 667us/step\n",
      "Epoch 22/200\n",
      "15/15 - 0s - loss: nan - 14ms/epoch - 905us/step\n",
      "Epoch 23/200\n",
      "15/15 - 0s - loss: nan - 11ms/epoch - 735us/step\n",
      "Epoch 24/200\n",
      "15/15 - 0s - loss: nan - 13ms/epoch - 888us/step\n",
      "Epoch 25/200\n",
      "15/15 - 0s - loss: nan - 10ms/epoch - 649us/step\n",
      "Epoch 26/200\n",
      "15/15 - 0s - loss: nan - 12ms/epoch - 806us/step\n",
      "Epoch 27/200\n",
      "15/15 - 0s - loss: nan - 8ms/epoch - 534us/step\n",
      "Epoch 28/200\n",
      "15/15 - 0s - loss: nan - 12ms/epoch - 806us/step\n",
      "Epoch 29/200\n",
      "15/15 - 0s - loss: nan - 10ms/epoch - 668us/step\n",
      "Epoch 30/200\n",
      "15/15 - 0s - loss: nan - 10ms/epoch - 675us/step\n",
      "Epoch 31/200\n",
      "15/15 - 0s - loss: nan - 10ms/epoch - 671us/step\n",
      "Epoch 32/200\n",
      "15/15 - 0s - loss: nan - 4ms/epoch - 267us/step\n",
      "Epoch 33/200\n",
      "15/15 - 0s - loss: nan - 4ms/epoch - 236us/step\n",
      "Epoch 34/200\n",
      "15/15 - 0s - loss: nan - 10ms/epoch - 636us/step\n",
      "Epoch 35/200\n",
      "15/15 - 0s - loss: nan - 10ms/epoch - 696us/step\n",
      "Epoch 36/200\n",
      "15/15 - 0s - loss: nan - 6ms/epoch - 400us/step\n",
      "Epoch 37/200\n",
      "15/15 - 0s - loss: nan - 10ms/epoch - 672us/step\n",
      "Epoch 38/200\n",
      "15/15 - 0s - loss: nan - 16ms/epoch - 1ms/step\n",
      "Epoch 39/200\n",
      "15/15 - 0s - loss: nan - 11ms/epoch - 743us/step\n",
      "Epoch 40/200\n",
      "15/15 - 0s - loss: nan - 9ms/epoch - 601us/step\n",
      "Epoch 41/200\n",
      "15/15 - 0s - loss: nan - 10ms/epoch - 653us/step\n",
      "Epoch 42/200\n",
      "15/15 - 0s - loss: nan - 13ms/epoch - 846us/step\n",
      "Epoch 43/200\n",
      "15/15 - 0s - loss: nan - 18ms/epoch - 1ms/step\n",
      "Epoch 44/200\n",
      "15/15 - 0s - loss: nan - 10ms/epoch - 658us/step\n",
      "Epoch 45/200\n",
      "15/15 - 0s - loss: nan - 10ms/epoch - 670us/step\n",
      "Epoch 46/200\n",
      "15/15 - 0s - loss: nan - 11ms/epoch - 715us/step\n",
      "Epoch 47/200\n",
      "15/15 - 0s - loss: nan - 16ms/epoch - 1ms/step\n",
      "Epoch 48/200\n",
      "15/15 - 0s - loss: nan - 13ms/epoch - 868us/step\n",
      "Epoch 49/200\n",
      "15/15 - 0s - loss: nan - 10ms/epoch - 670us/step\n",
      "Epoch 50/200\n",
      "15/15 - 0s - loss: nan - 10ms/epoch - 663us/step\n",
      "Epoch 51/200\n",
      "15/15 - 0s - loss: nan - 10ms/epoch - 667us/step\n",
      "Epoch 52/200\n",
      "15/15 - 0s - loss: nan - 5ms/epoch - 334us/step\n",
      "Epoch 53/200\n",
      "15/15 - 0s - loss: nan - 11ms/epoch - 730us/step\n",
      "Epoch 54/200\n",
      "15/15 - 0s - loss: nan - 10ms/epoch - 647us/step\n",
      "Epoch 55/200\n",
      "15/15 - 0s - loss: nan - 10ms/epoch - 666us/step\n",
      "Epoch 56/200\n",
      "15/15 - 0s - loss: nan - 7ms/epoch - 467us/step\n",
      "Epoch 57/200\n",
      "15/15 - 0s - loss: nan - 10ms/epoch - 667us/step\n",
      "Epoch 58/200\n",
      "15/15 - 0s - loss: nan - 15ms/epoch - 978us/step\n",
      "Epoch 59/200\n",
      "15/15 - 0s - loss: nan - 6ms/epoch - 367us/step\n",
      "Epoch 60/200\n",
      "15/15 - 0s - loss: nan - 10ms/epoch - 675us/step\n",
      "Epoch 61/200\n",
      "15/15 - 0s - loss: nan - 10ms/epoch - 659us/step\n",
      "Epoch 62/200\n",
      "15/15 - 0s - loss: nan - 12ms/epoch - 781us/step\n",
      "Epoch 63/200\n",
      "15/15 - 0s - loss: nan - 9ms/epoch - 567us/step\n",
      "Epoch 64/200\n",
      "15/15 - 0s - loss: nan - 10ms/epoch - 644us/step\n",
      "Epoch 65/200\n",
      "15/15 - 0s - loss: nan - 14ms/epoch - 903us/step\n",
      "Epoch 66/200\n",
      "15/15 - 0s - loss: nan - 7ms/epoch - 434us/step\n",
      "Epoch 67/200\n",
      "15/15 - 0s - loss: nan - 10ms/epoch - 669us/step\n",
      "Epoch 68/200\n",
      "15/15 - 0s - loss: nan - 15ms/epoch - 1ms/step\n",
      "Epoch 69/200\n",
      "15/15 - 0s - loss: nan - 10ms/epoch - 669us/step\n",
      "Epoch 70/200\n",
      "15/15 - 0s - loss: nan - 6ms/epoch - 402us/step\n",
      "Epoch 71/200\n",
      "15/15 - 0s - loss: nan - 19ms/epoch - 1ms/step\n",
      "Epoch 72/200\n",
      "15/15 - 0s - loss: nan - 10ms/epoch - 668us/step\n",
      "Epoch 73/200\n",
      "15/15 - 0s - loss: nan - 10ms/epoch - 635us/step\n",
      "Epoch 74/200\n",
      "15/15 - 0s - loss: nan - 10ms/epoch - 691us/step\n",
      "Epoch 75/200\n",
      "15/15 - 0s - loss: nan - 10ms/epoch - 648us/step\n",
      "Epoch 76/200\n",
      "15/15 - 0s - loss: nan - 5ms/epoch - 335us/step\n",
      "Epoch 77/200\n",
      "15/15 - 0s - loss: nan - 10ms/epoch - 679us/step\n",
      "Epoch 78/200\n",
      "15/15 - 0s - loss: nan - 16ms/epoch - 1ms/step\n",
      "Epoch 79/200\n",
      "15/15 - 0s - loss: nan - 10ms/epoch - 649us/step\n",
      "Epoch 80/200\n",
      "15/15 - 0s - loss: nan - 10ms/epoch - 668us/step\n",
      "Epoch 81/200\n",
      "15/15 - 0s - loss: nan - 10ms/epoch - 670us/step\n",
      "Epoch 82/200\n",
      "15/15 - 0s - loss: nan - 14ms/epoch - 909us/step\n",
      "Epoch 83/200\n",
      "15/15 - 0s - loss: nan - 7ms/epoch - 434us/step\n",
      "Epoch 84/200\n",
      "15/15 - 0s - loss: nan - 10ms/epoch - 667us/step\n",
      "Epoch 85/200\n",
      "15/15 - 0s - loss: nan - 15ms/epoch - 1ms/step\n",
      "Epoch 86/200\n",
      "15/15 - 0s - loss: nan - 5ms/epoch - 300us/step\n",
      "Epoch 87/200\n",
      "15/15 - 0s - loss: nan - 20ms/epoch - 1ms/step\n",
      "Epoch 88/200\n",
      "15/15 - 0s - loss: nan - 10ms/epoch - 654us/step\n",
      "Epoch 89/200\n",
      "15/15 - 0s - loss: nan - 10ms/epoch - 689us/step\n",
      "Epoch 90/200\n",
      "15/15 - 0s - loss: nan - 10ms/epoch - 668us/step\n",
      "Epoch 91/200\n",
      "15/15 - 0s - loss: nan - 10ms/epoch - 664us/step\n",
      "Epoch 92/200\n",
      "15/15 - 0s - loss: nan - 10ms/epoch - 637us/step\n",
      "Epoch 93/200\n",
      "15/15 - 0s - loss: nan - 5ms/epoch - 334us/step\n",
      "Epoch 94/200\n",
      "15/15 - 0s - loss: nan - 11ms/epoch - 729us/step\n",
      "Epoch 95/200\n",
      "15/15 - 0s - loss: nan - 9ms/epoch - 596us/step\n",
      "Epoch 96/200\n",
      "15/15 - 0s - loss: nan - 10ms/epoch - 667us/step\n",
      "Epoch 97/200\n",
      "15/15 - 0s - loss: nan - 13ms/epoch - 842us/step\n",
      "Epoch 98/200\n",
      "15/15 - 0s - loss: nan - 8ms/epoch - 501us/step\n",
      "Epoch 99/200\n",
      "15/15 - 0s - loss: nan - 2ms/epoch - 101us/step\n",
      "Epoch 100/200\n",
      "15/15 - 0s - loss: nan - 10ms/epoch - 668us/step\n",
      "Epoch 101/200\n",
      "15/15 - 0s - loss: nan - 10ms/epoch - 678us/step\n",
      "Epoch 102/200\n",
      "15/15 - 0s - loss: nan - 10ms/epoch - 661us/step\n",
      "Epoch 103/200\n",
      "15/15 - 0s - loss: nan - 10ms/epoch - 676us/step\n",
      "Epoch 104/200\n",
      "15/15 - 0s - loss: nan - 12ms/epoch - 788us/step\n",
      "Epoch 105/200\n",
      "15/15 - 0s - loss: nan - 8ms/epoch - 534us/step\n",
      "Epoch 106/200\n",
      "15/15 - 0s - loss: nan - 10ms/epoch - 671us/step\n",
      "Epoch 107/200\n",
      "15/15 - 0s - loss: nan - 14ms/epoch - 935us/step\n",
      "Epoch 108/200\n",
      "15/15 - 0s - loss: nan - 6ms/epoch - 400us/step\n",
      "Epoch 109/200\n",
      "15/15 - 0s - loss: nan - 10ms/epoch - 662us/step\n",
      "Epoch 110/200\n",
      "15/15 - 0s - loss: nan - 16ms/epoch - 1ms/step\n",
      "Epoch 111/200\n",
      "15/15 - 0s - loss: nan - 4ms/epoch - 267us/step\n",
      "Epoch 112/200\n",
      "15/15 - 0s - loss: nan - 19ms/epoch - 1ms/step\n",
      "Epoch 113/200\n",
      "15/15 - 0s - loss: nan - 11ms/epoch - 765us/step\n",
      "Epoch 114/200\n",
      "15/15 - 0s - loss: nan - 10ms/epoch - 648us/step\n",
      "Epoch 115/200\n",
      "15/15 - 0s - loss: nan - 10ms/epoch - 668us/step\n",
      "Epoch 116/200\n",
      "15/15 - 0s - loss: nan - 10ms/epoch - 685us/step\n",
      "Epoch 117/200\n",
      "15/15 - 0s - loss: nan - 10ms/epoch - 646us/step\n",
      "Epoch 118/200\n",
      "15/15 - 0s - loss: nan - 10ms/epoch - 668us/step\n",
      "Epoch 119/200\n",
      "15/15 - 0s - loss: nan - 11ms/epoch - 732us/step\n",
      "Epoch 120/200\n",
      "15/15 - 0s - loss: nan - 9ms/epoch - 625us/step\n",
      "Epoch 121/200\n",
      "15/15 - 0s - loss: nan - 10ms/epoch - 649us/step\n",
      "Epoch 122/200\n",
      "15/15 - 0s - loss: nan - 13ms/epoch - 871us/step\n",
      "Epoch 123/200\n",
      "15/15 - 0s - loss: nan - 7ms/epoch - 467us/step\n",
      "Epoch 124/200\n",
      "15/15 - 0s - loss: nan - 1ms/epoch - 67us/step\n",
      "Epoch 125/200\n",
      "15/15 - 0s - loss: nan - 10ms/epoch - 661us/step\n",
      "Epoch 126/200\n",
      "15/15 - 0s - loss: nan - 11ms/epoch - 729us/step\n",
      "Epoch 127/200\n",
      "15/15 - 0s - loss: nan - 9ms/epoch - 600us/step\n",
      "Epoch 128/200\n",
      "15/15 - 0s - loss: nan - 10ms/epoch - 661us/step\n",
      "Epoch 129/200\n",
      "15/15 - 0s - loss: nan - 13ms/epoch - 858us/step\n",
      "Epoch 130/200\n",
      "15/15 - 0s - loss: nan - 7ms/epoch - 467us/step\n",
      "Epoch 131/200\n",
      "15/15 - 0s - loss: nan - 10ms/epoch - 671us/step\n",
      "Epoch 132/200\n",
      "15/15 - 0s - loss: nan - 14ms/epoch - 964us/step\n",
      "Epoch 133/200\n",
      "15/15 - 0s - loss: nan - 11ms/epoch - 702us/step\n"
     ]
    },
    {
     "name": "stdout",
     "output_type": "stream",
     "text": [
      "Epoch 134/200\n",
      "15/15 - 0s - loss: nan - 10ms/epoch - 670us/step\n",
      "Epoch 135/200\n",
      "15/15 - 0s - loss: nan - 10ms/epoch - 671us/step\n",
      "Epoch 136/200\n",
      "15/15 - 0s - loss: nan - 10ms/epoch - 668us/step\n",
      "Epoch 137/200\n",
      "15/15 - 0s - loss: nan - 8ms/epoch - 534us/step\n",
      "Epoch 138/200\n",
      "15/15 - 0s - loss: nan - 15ms/epoch - 985us/step\n",
      "Epoch 139/200\n",
      "15/15 - 0s - loss: nan - 9ms/epoch - 601us/step\n",
      "Epoch 140/200\n",
      "15/15 - 0s - loss: nan - 6ms/epoch - 402us/step\n",
      "Epoch 141/200\n",
      "15/15 - 0s - loss: nan - 10ms/epoch - 685us/step\n",
      "Epoch 142/200\n",
      "15/15 - 0s - loss: nan - 16ms/epoch - 1ms/step\n",
      "Epoch 143/200\n",
      "15/15 - 0s - loss: nan - 4ms/epoch - 267us/step\n",
      "Epoch 144/200\n",
      "15/15 - 0s - loss: nan - 10ms/epoch - 668us/step\n",
      "Epoch 145/200\n",
      "15/15 - 0s - loss: nan - 10ms/epoch - 677us/step\n",
      "Epoch 146/200\n",
      "15/15 - 0s - loss: nan - 10ms/epoch - 656us/step\n",
      "Epoch 147/200\n",
      "15/15 - 0s - loss: nan - 10ms/epoch - 668us/step\n",
      "Epoch 148/200\n",
      "15/15 - 0s - loss: nan - 10ms/epoch - 657us/step\n",
      "Epoch 149/200\n",
      "15/15 - 0s - loss: nan - 10ms/epoch - 686us/step\n",
      "Epoch 150/200\n",
      "15/15 - 0s - loss: nan - 5ms/epoch - 334us/step\n",
      "Epoch 151/200\n",
      "15/15 - 0s - loss: nan - 11ms/epoch - 709us/step\n",
      "Epoch 152/200\n",
      "15/15 - 0s - loss: nan - 16ms/epoch - 1ms/step\n",
      "Epoch 153/200\n",
      "15/15 - 0s - loss: nan - 4ms/epoch - 234us/step\n",
      "Epoch 154/200\n",
      "15/15 - 0s - loss: nan - 12ms/epoch - 813us/step\n",
      "Epoch 155/200\n",
      "15/15 - 0s - loss: nan - 10ms/epoch - 636us/step\n",
      "Epoch 156/200\n",
      "15/15 - 0s - loss: nan - 10ms/epoch - 697us/step\n",
      "Epoch 157/200\n",
      "15/15 - 0s - loss: nan - 10ms/epoch - 668us/step\n",
      "Epoch 158/200\n",
      "15/15 - 0s - loss: nan - 10ms/epoch - 656us/step\n",
      "Epoch 159/200\n",
      "15/15 - 0s - loss: nan - 10ms/epoch - 677us/step\n",
      "Epoch 160/200\n",
      "15/15 - 0s - loss: nan - 4ms/epoch - 267us/step\n",
      "Epoch 161/200\n",
      "15/15 - 0s - loss: nan - 12ms/epoch - 792us/step\n",
      "Epoch 162/200\n",
      "15/15 - 0s - loss: nan - 13ms/epoch - 868us/step\n",
      "Epoch 163/200\n",
      "15/15 - 0s - loss: nan - 7ms/epoch - 468us/step\n",
      "Epoch 164/200\n",
      "15/15 - 0s - loss: nan - 9ms/epoch - 602us/step\n",
      "Epoch 165/200\n",
      "15/15 - 0s - loss: nan - 6ms/epoch - 400us/step\n",
      "Epoch 166/200\n",
      "15/15 - 0s - loss: nan - 10ms/epoch - 673us/step\n",
      "Epoch 167/200\n",
      "15/15 - 0s - loss: nan - 10ms/epoch - 659us/step\n",
      "Epoch 168/200\n",
      "15/15 - 0s - loss: nan - 12ms/epoch - 785us/step\n",
      "Epoch 169/200\n",
      "15/15 - 0s - loss: nan - 8ms/epoch - 534us/step\n",
      "Epoch 170/200\n",
      "15/15 - 0s - loss: nan - 15ms/epoch - 1ms/step\n",
      "Epoch 171/200\n",
      "15/15 - 0s - loss: nan - 9ms/epoch - 601us/step\n",
      "Epoch 172/200\n",
      "15/15 - 0s - loss: nan - 6ms/epoch - 400us/step\n",
      "Epoch 173/200\n",
      "15/15 - 0s - loss: nan - 10ms/epoch - 688us/step\n",
      "Epoch 174/200\n",
      "15/15 - 0s - loss: nan - 10ms/epoch - 650us/step\n",
      "Epoch 175/200\n",
      "15/15 - 0s - loss: nan - 12ms/epoch - 784us/step\n",
      "Epoch 176/200\n",
      "15/15 - 0s - loss: nan - 9ms/epoch - 568us/step\n",
      "Epoch 177/200\n",
      "15/15 - 0s - loss: nan - 10ms/epoch - 664us/step\n",
      "Epoch 178/200\n",
      "15/15 - 0s - loss: nan - 14ms/epoch - 905us/step\n",
      "Epoch 179/200\n",
      "15/15 - 0s - loss: nan - 7ms/epoch - 434us/step\n",
      "Epoch 180/200\n",
      "15/15 - 0s - loss: nan - 10ms/epoch - 645us/step\n",
      "Epoch 181/200\n",
      "15/15 - 0s - loss: nan - 16ms/epoch - 1ms/step\n",
      "Epoch 182/200\n",
      "15/15 - 0s - loss: nan - 5ms/epoch - 300us/step\n",
      "Epoch 183/200\n",
      "15/15 - 0s - loss: nan - 20ms/epoch - 1ms/step\n",
      "Epoch 184/200\n",
      "15/15 - 0s - loss: nan - 10ms/epoch - 672us/step\n",
      "Epoch 185/200\n",
      "15/15 - 0s - loss: nan - 10ms/epoch - 669us/step\n",
      "Epoch 186/200\n",
      "15/15 - 0s - loss: nan - 7ms/epoch - 434us/step\n",
      "Epoch 187/200\n",
      "15/15 - 0s - loss: nan - 10ms/epoch - 656us/step\n",
      "Epoch 188/200\n",
      "15/15 - 0s - loss: nan - 15ms/epoch - 1ms/step\n",
      "Epoch 189/200\n",
      "15/15 - 0s - loss: nan - 5ms/epoch - 334us/step\n",
      "Epoch 190/200\n",
      "15/15 - 0s - loss: nan - 11ms/epoch - 719us/step\n",
      "Epoch 191/200\n",
      "15/15 - 0s - loss: nan - 16ms/epoch - 1ms/step\n",
      "Epoch 192/200\n",
      "15/15 - 0s - loss: nan - 4ms/epoch - 234us/step\n",
      "Epoch 193/200\n",
      "15/15 - 0s - loss: nan - 20ms/epoch - 1ms/step\n",
      "Epoch 194/200\n",
      "15/15 - 0s - loss: nan - 10ms/epoch - 650us/step\n",
      "Epoch 195/200\n",
      "15/15 - 0s - loss: nan - 10ms/epoch - 669us/step\n",
      "Epoch 196/200\n",
      "15/15 - 0s - loss: nan - 10ms/epoch - 668us/step\n",
      "Epoch 197/200\n",
      "15/15 - 0s - loss: nan - 10ms/epoch - 659us/step\n",
      "Epoch 198/200\n",
      "15/15 - 0s - loss: nan - 10ms/epoch - 677us/step\n",
      "Epoch 199/200\n",
      "15/15 - 0s - loss: nan - 5ms/epoch - 300us/step\n",
      "Epoch 200/200\n",
      "15/15 - 0s - loss: nan - 11ms/epoch - 763us/step\n"
     ]
    }
   ],
   "source": [
    "num_epochs = 200\n",
    "batch_size = 2\n",
    "history = model.fit(X, Y, \n",
    "              epochs=num_epochs, \n",
    "              batch_size=batch_size, \n",
    "              verbose=2)"
   ]
  },
  {
   "cell_type": "markdown",
   "metadata": {},
   "source": [
    "### 4 - Obtención de métricas y resultados."
   ]
  },
  {
   "cell_type": "markdown",
   "metadata": {},
   "source": [
    "En un modelo de regresión lineal al utilizar una función de pérdida de gradiente descendente, lo que obtenemos en 'loss' es el valor del error cuadrático medio."
   ]
  },
  {
   "cell_type": "code",
   "execution_count": 12,
   "metadata": {},
   "outputs": [
    {
     "name": "stdout",
     "output_type": "stream",
     "text": [
      "1/1 [==============================] - 0s 55ms/step\n"
     ]
    },
    {
     "data": {
      "image/png": "[encoded data removed]",
      "text/plain": [
       "<Figure size 640x480 with 2 Axes>"
      ]
     },
     "metadata": {},
     "output_type": "display_data"
    }
   ],
   "source": [
    "# Graficar el error vs epochs y el resultado de la regresión\n",
    "# superpuesto a los datos originales\n",
    "plt.subplot(1,2,1)\n",
    "plt.plot(history.history['loss'])\n",
    "plt.xlabel('epoch')\n",
    "plt.ylabel('Error cuadrático medio')\n",
    "\n",
    "# Realizamos las predicciones sobre el conjunto X\n",
    "predicciones_regression = model.predict(X)\n",
    "\n",
    "plt.subplot(1, 2, 2)\n",
    "plt.scatter(X,Y)\n",
    "plt.plot(X, predicciones_regression,'r')\n",
    "plt.xlabel('X')\n",
    "plt.ylabel('Y')\n",
    "plt.title('Regresión lineal')\n",
    "plt.show()"
   ]
  },
  {
   "cell_type": "markdown",
   "metadata": {},
   "source": [
    "### 5 - Predicciones"
   ]
  },
  {
   "cell_type": "code",
   "execution_count": 13,
   "metadata": {},
   "outputs": [],
   "source": [
    "# predicciones = model.predict_classes(X_tra)"
   ]
  },
  {
   "cell_type": "code",
   "execution_count": 14,
   "metadata": {},
   "outputs": [
    {
     "name": "stdout",
     "output_type": "stream",
     "text": [
      "1/1 [==============================] - 0s 30ms/step\n",
      "La presión sanguínea será de -->  nan  para una persona de:  85  años\n"
     ]
    }
   ],
   "source": [
    "# Predicción\n",
    "x_pred = np.array([85])\n",
    "y_pred = model.predict(x_pred)\n",
    "print(\"La presión sanguínea será de --> \", y_pred[0][0], \" para una persona de: \", x_pred[0], \" años\")"
   ]
  },
  {
   "cell_type": "code",
   "execution_count": 15,
   "metadata": {},
   "outputs": [
    {
     "name": "stdout",
     "output_type": "stream",
     "text": [
      "1/1 [==============================] - 0s 10ms/step\n",
      "La presión sanguínea será de -->  nan  para una persona de:  20  años\n"
     ]
    }
   ],
   "source": [
    "x_pred = np.array([20])\n",
    "y_pred = model.predict(x_pred)\n",
    "print(\"La presión sanguínea será de --> \", y_pred[0][0], \" para una persona de: \", x_pred[0], \" años\")"
   ]
  },
  {
   "cell_type": "code",
   "execution_count": 16,
   "metadata": {},
   "outputs": [
    {
     "name": "stdout",
     "output_type": "stream",
     "text": [
      "1/1 [==============================] - 0s 12ms/step\n",
      "La presión sanguínea será de -->  nan  para una persona de:  110  años\n"
     ]
    }
   ],
   "source": [
    "x_pred = np.array([110])\n",
    "y_pred = model.predict(x_pred)\n",
    "print(\"La presión sanguínea será de --> \", y_pred[0][0], \" para una persona de: \", x_pred[0], \" años\")"
   ]
  },
  {
   "cell_type": "code",
   "execution_count": 17,
   "metadata": {},
   "outputs": [
    {
     "name": "stdout",
     "output_type": "stream",
     "text": [
      "1/1 [==============================] - 0s 7ms/step\n",
      "La presión sanguínea será de -->  nan  para una persona de:  30  años\n"
     ]
    }
   ],
   "source": [
    "x_pred = np.array([30])\n",
    "y_pred = model.predict(x_pred)\n",
    "print(\"La presión sanguínea será de --> \", y_pred[0][0], \" para una persona de: \", x_pred[0], \" años\")"
   ]
  },
  {
   "cell_type": "code",
   "execution_count": null,
   "metadata": {},
   "outputs": [],
   "source": []
  }
 ],
 "metadata": {
  "kernelspec": {
   "display_name": "Python 3 (ipykernel)",
   "language": "python",
   "name": "python3"
  },
  "language_info": {
   "codemirror_mode": {
    "name": "ipython",
    "version": 3
   },
   "file_extension": ".py",
   "mimetype": "text/x-python",
   "name": "python",
   "nbconvert_exporter": "python",
   "pygments_lexer": "ipython3",
   "version": "3.10.9"
  }
 },
 "nbformat": 4,
 "nbformat_minor": 2
}
