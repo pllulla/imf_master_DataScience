{
 "cells": [
  {
   "cell_type": "code",
   "execution_count": 1,
   "metadata": {},
   "outputs": [],
   "source": [
    "import speech_recognition as sr"
   ]
  },
  {
   "cell_type": "code",
   "execution_count": 2,
   "metadata": {},
   "outputs": [],
   "source": [
    "instance = sr.Recognizer()"
   ]
  },
  {
   "cell_type": "code",
   "execution_count": 3,
   "metadata": {},
   "outputs": [],
   "source": [
    "file = sr.AudioFile('example.wav')"
   ]
  },
  {
   "cell_type": "code",
   "execution_count": 4,
   "metadata": {},
   "outputs": [],
   "source": [
    "def audio_conversion(_file):\n",
    "    with _file as source:\n",
    "        \n",
    "        instance.adjust_for_ambient_noise(source)\n",
    "        audio = instance.record(source)\n",
    "        \n",
    "        transcript = instance.recognize_google(audio, language='es-ES', show_all=True)\n",
    "        print(transcript)\n",
    "        \n",
    "        return transcript['alternative'][1]['transcript']"
   ]
  },
  {
   "cell_type": "code",
   "execution_count": 5,
   "metadata": {},
   "outputs": [
    {
     "name": "stdout",
     "output_type": "stream",
     "text": [
      "{'alternative': [{'transcript': 'ha finalizado y la implantación de esta nueva versión del DNI y desde hoy únicamente se expedirá este DNI europeo para todos los ciudadanos españoles', 'confidence': 0.95097524}, {'transcript': 'ha finalizado hoy la implantación de esta nueva versión del DNI y desde hoy únicamente se expedirá este DNI europeo para todos los ciudadanos españoles'}, {'transcript': 'dial ha finalizado y la implantación de esta nueva versión del DNI y desde hoy únicamente se expedirá este DNI europeo para todos los ciudadanos españoles'}], 'final': True}\n"
     ]
    },
    {
     "data": {
      "text/plain": [
       "'ha finalizado hoy la implantación de esta nueva versión del DNI y desde hoy únicamente se expedirá este DNI europeo para todos los ciudadanos españoles'"
      ]
     },
     "execution_count": 5,
     "metadata": {},
     "output_type": "execute_result"
    }
   ],
   "source": [
    "audio_conversion(file)"
   ]
  },
  {
   "cell_type": "code",
   "execution_count": 7,
   "metadata": {},
   "outputs": [
    {
     "name": "stdout",
     "output_type": "stream",
     "text": [
      "{'alternative': [{'transcript': 'ha finalizado y la implantación de esta nueva versión del DNI y desde hoy únicamente se expedirá este DNI europeo para todos los ciudadanos españoles', 'confidence': 0.95097524}, {'transcript': 'ha finalizado hoy la implantación de esta nueva versión del DNI y desde hoy únicamente se expedirá este DNI europeo para todos los ciudadanos españoles'}, {'transcript': 'dial ha finalizado y la implantación de esta nueva versión del DNI y desde hoy únicamente se expedirá este DNI europeo para todos los ciudadanos españoles'}], 'final': True}\n"
     ]
    },
    {
     "data": {
      "text/plain": [
       "'ha finalizado hoy la implantación de esta nueva versión del DNI y desde hoy únicamente se expedirá este DNI europeo para todos los ciudadanos españoles'"
      ]
     },
     "execution_count": 7,
     "metadata": {},
     "output_type": "execute_result"
    }
   ],
   "source": [
    "result = audio_conversion(file)\n",
    "result"
   ]
  },
  {
   "cell_type": "code",
   "execution_count": null,
   "metadata": {},
   "outputs": [],
   "source": []
  }
 ],
 "metadata": {
  "kernelspec": {
   "display_name": "Python 3 (ipykernel)",
   "language": "python",
   "name": "python3"
  },
  "language_info": {
   "codemirror_mode": {
    "name": "ipython",
    "version": 3
   },
   "file_extension": ".py",
   "mimetype": "text/x-python",
   "name": "python",
   "nbconvert_exporter": "python",
   "pygments_lexer": "ipython3",
   "version": "3.10.9"
  }
 },
 "nbformat": 4,
 "nbformat_minor": 2
}
