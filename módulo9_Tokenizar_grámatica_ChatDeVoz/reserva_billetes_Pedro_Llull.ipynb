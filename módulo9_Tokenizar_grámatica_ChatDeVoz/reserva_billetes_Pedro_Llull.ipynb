{
 "cells": [
  {
   "cell_type": "markdown",
   "id": "def241d2",
   "metadata": {},
   "source": [
    "### Ejercicio reserva billetes Pedro Llull"
   ]
  },
  {
   "cell_type": "code",
   "execution_count": 1,
   "id": "321100b9",
   "metadata": {},
   "outputs": [],
   "source": [
    "import nltk\n",
    "from nltk.tokenize import word_tokenize\n",
    "from nltk.tag.hmm import HiddenMarkovModelTagger\n",
    "\n",
    "# Regex Parser\n",
    "from nltk.chunk.regexp import *\n",
    "\n",
    "# Corpus CESS en español\n",
    "from nltk.corpus import cess_esp"
   ]
  },
  {
   "cell_type": "code",
   "execution_count": 2,
   "id": "cf27e83a",
   "metadata": {},
   "outputs": [],
   "source": [
    "corpus = [\n",
    "    [('Quiero', 'vmip1s0'), ('2', 'z'), ('billetes', 'ncfp000'), ('de', 'sps00'), ('Madrid', 'np000g0'), ('a', 'sps00'), ('Frankfurt', 'np000g0'), ('en', 'sps00'), ('Septiembre', 'w')], \n",
    "    [('Necesito', 'vmip1s0'), ('comprar', 'vmip1s0'), ('un', 'di0ms0'), ('billete', 'ncms000'), ('a', 'sps00'), ('Madrid', 'np000g0'), ('el', 'da0ms0'), ('5', 'w'), ('de', 'sps00'), ('Agosto', 'w')], \n",
    "    [('Comprar', 'vmn0000'), ('billete', 'ncms000'), ('Barcelona', 'ncms000'), ('a', 'sps00'), ('Roma', 'np000g0'), ('para', 'di0ms0'), ('el', 'da0ms0'), ('25', 'w'), ('de', 'sps00'), ('Agosto', 'w'), ('con', 'sps00'), ('Iberia', 'npcso00')], \n",
    "    [('Billete', 'ncms000'), ('barato', 'aq0ms0'), ('AirEuropa', 'npcso00'), ('de', 'sps00'), ('Madrid', 'np000g0'), ('a', 'sps00'), ('Sevilla', 'np000g0')],\n",
    "    [('Quiero', 'vmip1s0'), ('ir', 'vmip1s0'), ('a', 'sps00'), ('Roma', 'np000g0'), ('con', 'sps00'), ('Lufthansa', 'npcso00')]\n",
    "]"
   ]
  },
  {
   "cell_type": "code",
   "execution_count": 3,
   "id": "80db80a5",
   "metadata": {},
   "outputs": [],
   "source": [
    "hmm = HiddenMarkovModelTagger.train(corpus)"
   ]
  },
  {
   "cell_type": "code",
   "execution_count": 4,
   "id": "46807773",
   "metadata": {},
   "outputs": [],
   "source": [
    "hmm = hmm.train(cess_esp.tagged_sents())"
   ]
  },
  {
   "cell_type": "code",
   "execution_count": 5,
   "id": "16d11195",
   "metadata": {},
   "outputs": [],
   "source": [
    "def taggear(_frase, _tagger):\n",
    "    \n",
    "    tokens = word_tokenize(_frase)\n",
    "\n",
    "    if _tagger == 'hmm':\n",
    "        return hmm.tag(tokens)"
   ]
  },
  {
   "cell_type": "code",
   "execution_count": 6,
   "id": "6f4aaaf6",
   "metadata": {},
   "outputs": [],
   "source": [
    "reglas = '''\n",
    "cantidad: {<z0>|<dn0cp0>}\n",
    "fecha: {<sp.*><W>|<ncms000><sp.*><W>} \n",
    "aerolinea: <sp.*>{<np.*>}<sp.*>\n",
    "destino: <np.*><sp.*>{<np.*>}\n",
    "origen: <sp.*>{<np.*>}\n",
    "'''\n",
    "parser = nltk.RegexpParser(reglas)"
   ]
  },
  {
   "cell_type": "code",
   "execution_count": 7,
   "id": "1eafa8a2",
   "metadata": {},
   "outputs": [
    {
     "name": "stdout",
     "output_type": "stream",
     "text": [
      "(S\n",
      "  Comprar/da0mp0\n",
      "  (cantidad tres/dn0cp0)\n",
      "  billetes/ncmp000\n",
      "  para/sps00\n",
      "  el/da0ms0\n",
      "  (fecha 15/ncms000 de/sps00 octubre/W)\n",
      "  con/sps00\n",
      "  (aerolinea Iberia/np0000o)\n",
      "  de/sps00\n",
      "  (origen Madrid/np0000l)\n",
      "  a/sps00\n",
      "  (destino Bilbao/np0000l))\n"
     ]
    }
   ],
   "source": [
    "frase_tag = parser.parse(taggear('Comprar tres billetes para el 15 de octubre con Iberia de Madrid a Bilbao', 'hmm'))\n",
    "print(frase_tag)"
   ]
  },
  {
   "cell_type": "code",
   "execution_count": 8,
   "id": "bb9fa15b",
   "metadata": {},
   "outputs": [],
   "source": [
    "def extrae_info(_frase):\n",
    "    \n",
    "    tags = taggear(_frase, 'hmm')\n",
    "    parseo = parser.parse(tags)\n",
    "    temp_result = {}\n",
    "\n",
    "    for nodo in parseo:\n",
    "        if type(nodo) != tuple:\n",
    "            label = nodo.label()\n",
    "            info = ''\n",
    "            for elm in nodo:\n",
    "                palabra, tag = elm\n",
    "                info += palabra + ' '\n",
    "            temp_result[label] = info.strip()\n",
    "    \n",
    "    # Ordenar las claves, así coincide con la salida del ejercicio\n",
    "    orden = ['origen', 'destino', 'fecha', 'cantidad', 'aerolinea']\n",
    "    result = {k: temp_result[k] for k in orden if k in temp_result}\n",
    "\n",
    "    return result\n"
   ]
  },
  {
   "cell_type": "code",
   "execution_count": 9,
   "id": "9f476df7",
   "metadata": {},
   "outputs": [
    {
     "data": {
      "text/plain": [
       "{'origen': 'Madrid',\n",
       " 'destino': 'Bilbao',\n",
       " 'fecha': '15 de octubre',\n",
       " 'cantidad': 'tres',\n",
       " 'aerolinea': 'Iberia'}"
      ]
     },
     "execution_count": 9,
     "metadata": {},
     "output_type": "execute_result"
    }
   ],
   "source": [
    "extrae_info(\"Comprar tres billetes para el 15 de octubre con Iberia de Madrid a Bilbao\")"
   ]
  },
  {
   "cell_type": "markdown",
   "id": "1b59e5b1",
   "metadata": {},
   "source": [
    "#### Segunda parte"
   ]
  },
  {
   "cell_type": "code",
   "execution_count": 10,
   "id": "3e1e7ebc",
   "metadata": {},
   "outputs": [],
   "source": [
    "reglas2 = '''\n",
    "cantidad: {<z>}\n",
    "fecha: {<w>|<z>|<di0ms0>}\n",
    "destino: <np.*><sp.*>{<np.*>}<sp.*>\n",
    "origen: {<np.*>}<sp.*>\n",
    "aerolinea: <sp.*>{<np.*>}\n",
    "'''\n",
    "\n",
    "parser2 = nltk.RegexpParser(reglas2)"
   ]
  },
  {
   "cell_type": "code",
   "execution_count": 11,
   "id": "b978b20c",
   "metadata": {},
   "outputs": [
    {
     "name": "stdout",
     "output_type": "stream",
     "text": [
      "(S\n",
      "  Billete/rg\n",
      "  de/sps00\n",
      "  (origen Berlín/np0000l)\n",
      "  a/sps00\n",
      "  (destino Madrid/np0000l)\n",
      "  con/sps00\n",
      "  (aerolinea Lufthansa/np0000o))\n"
     ]
    }
   ],
   "source": [
    "frase_tag2 = parser2.parse(taggear('Billete de Berlín a Madrid con Lufthansa', 'hmm'))\n",
    "print(frase_tag2)"
   ]
  },
  {
   "cell_type": "code",
   "execution_count": 12,
   "id": "9d75b97d",
   "metadata": {},
   "outputs": [],
   "source": [
    "def extrae_info2(_frase):\n",
    "    \n",
    "    tags = taggear(_frase, 'hmm')\n",
    "    parseo = parser2.parse(tags)\n",
    "    temp_result = {}\n",
    "\n",
    "    for nodo in parseo:\n",
    "        if type(nodo) != tuple:\n",
    "            label = nodo.label()\n",
    "            info = ''\n",
    "            for elm in nodo:\n",
    "                palabra, tag = elm\n",
    "                info += palabra + ' '\n",
    "            temp_result[label] = info.strip()\n",
    "\n",
    "    # Asignar None si falta alguna información o 1 predeterminado a cantidad (seguro se puede apurar más)\n",
    "    # No me escondo, ChatGPT me ayudó con esta parte para asignar valores\n",
    "    result = {\n",
    "        'origen': temp_result.get('origen', None),\n",
    "        'destino': temp_result.get('destino', None),\n",
    "        'fecha': temp_result.get('fecha', None),\n",
    "        'cantidad': temp_result.get('cantidad', 1),\n",
    "        'aerolinea': temp_result.get('aerolinea', None),\n",
    "    }\n",
    "\n",
    "    return result"
   ]
  },
  {
   "cell_type": "code",
   "execution_count": 13,
   "id": "a07f9588",
   "metadata": {},
   "outputs": [
    {
     "data": {
      "text/plain": [
       "{'origen': 'Berlín',\n",
       " 'destino': 'Madrid',\n",
       " 'fecha': None,\n",
       " 'cantidad': 1,\n",
       " 'aerolinea': 'Lufthansa'}"
      ]
     },
     "execution_count": 13,
     "metadata": {},
     "output_type": "execute_result"
    }
   ],
   "source": [
    "extrae_info2(\"Billete de Berlín a Madrid con Lufthansa\")"
   ]
  },
  {
   "cell_type": "code",
   "execution_count": null,
   "id": "dcbce676",
   "metadata": {},
   "outputs": [],
   "source": []
  }
 ],
 "metadata": {
  "kernelspec": {
   "display_name": "Python 3 (ipykernel)",
   "language": "python",
   "name": "python3"
  },
  "language_info": {
   "codemirror_mode": {
    "name": "ipython",
    "version": 3
   },
   "file_extension": ".py",
   "mimetype": "text/x-python",
   "name": "python",
   "nbconvert_exporter": "python",
   "pygments_lexer": "ipython3",
   "version": "3.10.9"
  }
 },
 "nbformat": 4,
 "nbformat_minor": 5
}
