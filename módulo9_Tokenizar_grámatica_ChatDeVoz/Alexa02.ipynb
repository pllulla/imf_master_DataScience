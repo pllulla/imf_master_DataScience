{
 "cells": [
  {
   "cell_type": "code",
   "execution_count": 1,
   "metadata": {},
   "outputs": [],
   "source": [
    "import speech_recognition as sr\n",
    "\n",
    "import pandas as pd\n",
    "\n",
    "import nltk\n",
    "from nltk.tokenize import word_tokenize\n",
    "from nltk.corpus import cess_esp\n",
    "from nltk.tag.hmm import HiddenMarkovModelTagger\n",
    "\n",
    "from nltk.chunk.regexp import *\n",
    "\n",
    "from datetime import datetime\n",
    "import wikipedia\n",
    "\n",
    "from urllib.request import Request, urlopen\n",
    "from bs4 import BeautifulSoup\n",
    "from lat_lon_parser import parse\n",
    "\n",
    "import requests, pyttsx3, openai, geopy\n",
    "\n",
    "from deep_translator import GoogleTranslator\n",
    "\n",
    "from datetime import timedelta"
   ]
  },
  {
   "cell_type": "code",
   "execution_count": 2,
   "metadata": {},
   "outputs": [],
   "source": [
    "traductor_es = GoogleTranslator(source='en', target='es')\n",
    "traductor_en = GoogleTranslator(source='es', target='en')"
   ]
  },
  {
   "cell_type": "code",
   "execution_count": 3,
   "metadata": {},
   "outputs": [],
   "source": [
    "hmm = HiddenMarkovModelTagger.train(cess_esp.tagged_sents())"
   ]
  },
  {
   "cell_type": "code",
   "execution_count": 4,
   "metadata": {},
   "outputs": [],
   "source": [
    "def tokenizar(_frase):\n",
    "    return word_tokenize(_frase)\n",
    "\n",
    "def taggear(_tokens):\n",
    "    return hmm.tag(_tokens)"
   ]
  },
  {
   "cell_type": "code",
   "execution_count": 5,
   "metadata": {},
   "outputs": [
    {
     "data": {
      "text/plain": [
       "[('Alexa', 'sn.e-SUJ'),\n",
       " ('dime', 'vmis3s0'),\n",
       " ('el', 'da0ms0'),\n",
       " ('tiempo', 'ncms000'),\n",
       " ('el', 'da0ms0'),\n",
       " ('miercoles', 'ncms000'),\n",
       " ('en', 'sps00'),\n",
       " ('madrid', 'da0fs0')]"
      ]
     },
     "execution_count": 5,
     "metadata": {},
     "output_type": "execute_result"
    }
   ],
   "source": [
    "taggear(tokenizar('Alexa dime el tiempo el miercoles en madrid'))"
   ]
  },
  {
   "cell_type": "code",
   "execution_count": 6,
   "metadata": {},
   "outputs": [],
   "source": [
    "reglas_weather = \"\"\"\n",
    "Lugar: {<np.*>}\n",
    "Lugar: <sps.*> { <da0.* | vmn.*> }\n",
    "Fecha: { <ncf.*> } <sp.*> <Lugar>\n",
    "Fecha: <Lugar> { <ncf.*>}\n",
    "Fecha: { <rg> }\n",
    "\"\"\"\n",
    "parser_weather = nltk.RegexpParser(reglas_weather)\n"
   ]
  },
  {
   "cell_type": "code",
   "execution_count": 7,
   "metadata": {},
   "outputs": [],
   "source": [
    "def extrae_weather(_tree):\n",
    "    \n",
    "    result = {}\n",
    "    \n",
    "    for nodo in _tree:\n",
    "        \n",
    "        if type(nodo) != tuple:\n",
    "            \n",
    "            if nodo.label() == 'Lugar':\n",
    "                lugar = ' '.join([ hoja[0] for hoja in nodo.leaves() ])\n",
    "                result['lugar'] = lugar\n",
    "                \n",
    "                \n",
    "            if nodo.label() == 'Fecha':\n",
    "                fecha = ' '.join([ hoja[0] for hoja in nodo.leaves() ])\n",
    "                result['fecha'] = fecha\n",
    "                \n",
    "    if result['fecha'] == 'hoy':\n",
    "        result['fecha'] = datetime.now().strftime('%Y-%m-%d')\n",
    "        result['fecha_texto'] = 'mañana'\n",
    "    elif result['fecha'] == 'mañana':\n",
    "        result['fecha'] = (datetime.now() + timedelta(days=1)).strftime('%Y-%m-%d')\n",
    "        result['fecha_texto'] = 'mañana'\n",
    "        \n",
    "    latitude, logitude = geopy.geocoders.Nominatim(user_agent=\"Alexa\").geocode(result['lugar'])[1]\n",
    "    result['latitud'] = latitude\n",
    "    result['longitud'] = logitude\n",
    "                \n",
    "    return result"
   ]
  },
  {
   "cell_type": "code",
   "execution_count": 8,
   "metadata": {},
   "outputs": [
    {
     "data": {
      "image/svg+xml": [
       "<svg baseProfile=\"full\" height=\"168px\" preserveAspectRatio=\"xMidYMid meet\" style=\"font-family: times, serif; font-weight: normal; font-style: normal; font-size: 16px;\" version=\"1.1\" viewBox=\"0,0,536.0,168.0\" width=\"536px\" xmlns=\"http://www.w3.org/2000/svg\" xmlns:ev=\"http://www.w3.org/2001/xml-events\" xmlns:xlink=\"http://www.w3.org/1999/xlink\"><defs /><svg width=\"100%\" x=\"0\" y=\"0px\"><defs /><text text-anchor=\"middle\" x=\"50%\" y=\"16px\">S</text></svg><svg width=\"14.9254%\" x=\"0%\" y=\"48px\"><defs /><svg width=\"100%\" x=\"0\" y=\"0px\"><defs /><text text-anchor=\"middle\" x=\"50%\" y=\"16px\">Alexa</text></svg><svg width=\"100%\" x=\"0%\" y=\"48px\"><defs /><svg width=\"100%\" x=\"0\" y=\"0px\"><defs /><text text-anchor=\"middle\" x=\"50%\" y=\"16px\">sn.e-SUJ</text></svg></svg><line stroke=\"black\" x1=\"50%\" x2=\"50%\" y1=\"19.2px\" y2=\"48px\" /></svg><line stroke=\"black\" x1=\"50%\" x2=\"7.46269%\" y1=\"19.2px\" y2=\"48px\" /><svg width=\"13.4328%\" x=\"14.9254%\" y=\"48px\"><defs /><svg width=\"100%\" x=\"0\" y=\"0px\"><defs /><text text-anchor=\"middle\" x=\"50%\" y=\"16px\">dime</text></svg><svg width=\"100%\" x=\"0%\" y=\"48px\"><defs /><svg width=\"100%\" x=\"0\" y=\"0px\"><defs /><text text-anchor=\"middle\" x=\"50%\" y=\"16px\">vmis3s0</text></svg></svg><line stroke=\"black\" x1=\"50%\" x2=\"50%\" y1=\"19.2px\" y2=\"48px\" /></svg><line stroke=\"black\" x1=\"50%\" x2=\"21.6418%\" y1=\"19.2px\" y2=\"48px\" /><svg width=\"11.9403%\" x=\"28.3582%\" y=\"48px\"><defs /><svg width=\"100%\" x=\"0\" y=\"0px\"><defs /><text text-anchor=\"middle\" x=\"50%\" y=\"16px\">el</text></svg><svg width=\"100%\" x=\"0%\" y=\"48px\"><defs /><svg width=\"100%\" x=\"0\" y=\"0px\"><defs /><text text-anchor=\"middle\" x=\"50%\" y=\"16px\">da0ms0</text></svg></svg><line stroke=\"black\" x1=\"50%\" x2=\"50%\" y1=\"19.2px\" y2=\"48px\" /></svg><line stroke=\"black\" x1=\"50%\" x2=\"34.3284%\" y1=\"19.2px\" y2=\"48px\" /><svg width=\"13.4328%\" x=\"40.2985%\" y=\"48px\"><defs /><svg width=\"100%\" x=\"0\" y=\"0px\"><defs /><text text-anchor=\"middle\" x=\"50%\" y=\"16px\">tiempo</text></svg><svg width=\"100%\" x=\"0%\" y=\"48px\"><defs /><svg width=\"100%\" x=\"0\" y=\"0px\"><defs /><text text-anchor=\"middle\" x=\"50%\" y=\"16px\">ncms000</text></svg></svg><line stroke=\"black\" x1=\"50%\" x2=\"50%\" y1=\"19.2px\" y2=\"48px\" /></svg><line stroke=\"black\" x1=\"50%\" x2=\"47.0149%\" y1=\"19.2px\" y2=\"48px\" /><svg width=\"10.4478%\" x=\"53.7313%\" y=\"48px\"><defs /><svg width=\"100%\" x=\"0\" y=\"0px\"><defs /><text text-anchor=\"middle\" x=\"50%\" y=\"16px\">para</text></svg><svg width=\"100%\" x=\"0%\" y=\"48px\"><defs /><svg width=\"100%\" x=\"0\" y=\"0px\"><defs /><text text-anchor=\"middle\" x=\"50%\" y=\"16px\">sps00</text></svg></svg><line stroke=\"black\" x1=\"50%\" x2=\"50%\" y1=\"19.2px\" y2=\"48px\" /></svg><line stroke=\"black\" x1=\"50%\" x2=\"58.9552%\" y1=\"19.2px\" y2=\"48px\" /><svg width=\"13.4328%\" x=\"64.1791%\" y=\"48px\"><defs /><svg width=\"100%\" x=\"0\" y=\"0px\"><defs /><text text-anchor=\"middle\" x=\"50%\" y=\"16px\">Fecha</text></svg><svg width=\"100%\" x=\"0%\" y=\"48px\"><defs /><svg width=\"100%\" x=\"0\" y=\"0px\"><defs /><text text-anchor=\"middle\" x=\"50%\" y=\"16px\">mañana</text></svg><svg width=\"100%\" x=\"0%\" y=\"48px\"><defs /><svg width=\"100%\" x=\"0\" y=\"0px\"><defs /><text text-anchor=\"middle\" x=\"50%\" y=\"16px\">ncfs000</text></svg></svg><line stroke=\"black\" x1=\"50%\" x2=\"50%\" y1=\"19.2px\" y2=\"48px\" /></svg><line stroke=\"black\" x1=\"50%\" x2=\"50%\" y1=\"19.2px\" y2=\"48px\" /></svg><line stroke=\"black\" x1=\"50%\" x2=\"70.8955%\" y1=\"19.2px\" y2=\"48px\" /><svg width=\"10.4478%\" x=\"77.6119%\" y=\"48px\"><defs /><svg width=\"100%\" x=\"0\" y=\"0px\"><defs /><text text-anchor=\"middle\" x=\"50%\" y=\"16px\">en</text></svg><svg width=\"100%\" x=\"0%\" y=\"48px\"><defs /><svg width=\"100%\" x=\"0\" y=\"0px\"><defs /><text text-anchor=\"middle\" x=\"50%\" y=\"16px\">sps00</text></svg></svg><line stroke=\"black\" x1=\"50%\" x2=\"50%\" y1=\"19.2px\" y2=\"48px\" /></svg><line stroke=\"black\" x1=\"50%\" x2=\"82.8358%\" y1=\"19.2px\" y2=\"48px\" /><svg width=\"11.9403%\" x=\"88.0597%\" y=\"48px\"><defs /><svg width=\"100%\" x=\"0\" y=\"0px\"><defs /><text text-anchor=\"middle\" x=\"50%\" y=\"16px\">Lugar</text></svg><svg width=\"100%\" x=\"0%\" y=\"48px\"><defs /><svg width=\"100%\" x=\"0\" y=\"0px\"><defs /><text text-anchor=\"middle\" x=\"50%\" y=\"16px\">madrid</text></svg><svg width=\"100%\" x=\"0%\" y=\"48px\"><defs /><svg width=\"100%\" x=\"0\" y=\"0px\"><defs /><text text-anchor=\"middle\" x=\"50%\" y=\"16px\">da0fs0</text></svg></svg><line stroke=\"black\" x1=\"50%\" x2=\"50%\" y1=\"19.2px\" y2=\"48px\" /></svg><line stroke=\"black\" x1=\"50%\" x2=\"50%\" y1=\"19.2px\" y2=\"48px\" /></svg><line stroke=\"black\" x1=\"50%\" x2=\"94.0299%\" y1=\"19.2px\" y2=\"48px\" /></svg>"
      ],
      "text/plain": [
       "Tree('S', [('Alexa', 'sn.e-SUJ'), ('dime', 'vmis3s0'), ('el', 'da0ms0'), ('tiempo', 'ncms000'), ('para', 'sps00'), Tree('Fecha', [('mañana', 'ncfs000')]), ('en', 'sps00'), Tree('Lugar', [('madrid', 'da0fs0')])])"
      ]
     },
     "execution_count": 8,
     "metadata": {},
     "output_type": "execute_result"
    }
   ],
   "source": [
    "parser_weather.parse(taggear(tokenizar('Alexa dime el tiempo para mañana en madrid')))"
   ]
  },
  {
   "cell_type": "code",
   "execution_count": 9,
   "metadata": {},
   "outputs": [
    {
     "data": {
      "text/plain": [
       "{'fecha': '2023-11-29',\n",
       " 'lugar': 'madrid',\n",
       " 'fecha_texto': 'mañana',\n",
       " 'latitud': 40.4167047,\n",
       " 'longitud': -3.7035825}"
      ]
     },
     "execution_count": 9,
     "metadata": {},
     "output_type": "execute_result"
    }
   ],
   "source": [
    "weather_extraction = extrae_weather(parser_weather.parse(taggear(tokenizar('Alexa dime el tiempo para mañana en madrid'))))\n",
    "weather_extraction"
   ]
  },
  {
   "cell_type": "code",
   "execution_count": 10,
   "metadata": {},
   "outputs": [],
   "source": [
    "def get_openMeteo(_data):\n",
    "    \n",
    "    api_url = 'https://api.open-meteo.com/v1/forecast'\n",
    "    api_params = {\n",
    "        'latitude': _data['latitud'],\n",
    "        'longitude': _data['longitud'],\n",
    "        \"daily\": ['temperature_2m_max', \"temperature_2m_min\", \"rain_sum\", \"windspeed_10m_max\"],\n",
    "        \"timezone\": \"Europe/Berlin\",\n",
    "    }\n",
    "    \n",
    "    req = requests.get(api_url, params=api_params).json()\n",
    "    \n",
    "    pos = 0\n",
    "    for i in range(len(req['daily'])):\n",
    "        if req['daily']['time'][i] == _data['fecha']:\n",
    "            pos = i\n",
    "    \n",
    "    result = {\"temp_max\": req['daily']['temperature_2m_max'][pos], \"temp_min\": req['daily']['temperature_2m_min'][pos] }\n",
    "    \n",
    "    return result"
   ]
  },
  {
   "cell_type": "code",
   "execution_count": 11,
   "metadata": {},
   "outputs": [
    {
     "data": {
      "text/plain": [
       "{'temp_max': 12.6, 'temp_min': 9.7}"
      ]
     },
     "execution_count": 11,
     "metadata": {},
     "output_type": "execute_result"
    }
   ],
   "source": [
    "get_openMeteo(weather_extraction)"
   ]
  },
  {
   "cell_type": "code",
   "execution_count": 12,
   "metadata": {},
   "outputs": [],
   "source": [
    "def procesa_weather(_frase):\n",
    "    tokens = tokenizar(_frase)\n",
    "    tags = taggear(tokens)\n",
    "    tree = parser_weather.parse(tags)\n",
    "    tree_info = extrae_weather(tree)\n",
    "    meteo_info = get_openMeteo(tree_info)\n",
    "    \n",
    "    frase = f\"\"\"\n",
    "    El tiempo previso para {tree_info['lugar']} {tree_info['fecha_texto']} es de {meteo_info['temp_max']} grados de máxima y {meteo_info['temp_min']} grados de mínima.\n",
    "    \"\"\"\n",
    "    \n",
    "    return frase"
   ]
  },
  {
   "cell_type": "code",
   "execution_count": 13,
   "metadata": {},
   "outputs": [
    {
     "data": {
      "text/plain": [
       "'\\n    El tiempo previso para madrid mañana es de 12.6 grados de máxima y 9.7 grados de mínima.\\n    '"
      ]
     },
     "execution_count": 13,
     "metadata": {},
     "output_type": "execute_result"
    }
   ],
   "source": [
    "procesa_weather(\"Alexa dime el tiempo para mañana en madrid\")"
   ]
  }
 ],
 "metadata": {
  "kernelspec": {
   "display_name": "Python 3 (ipykernel)",
   "language": "python",
   "name": "python3"
  },
  "language_info": {
   "codemirror_mode": {
    "name": "ipython",
    "version": 3
   },
   "file_extension": ".py",
   "mimetype": "text/x-python",
   "name": "python",
   "nbconvert_exporter": "python",
   "pygments_lexer": "ipython3",
   "version": "3.10.9"
  }
 },
 "nbformat": 4,
 "nbformat_minor": 2
}
