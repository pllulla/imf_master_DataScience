{
 "cells": [
  {
   "cell_type": "code",
   "execution_count": 1,
   "metadata": {},
   "outputs": [],
   "source": [
    "import nltk\n",
    "\n",
    "from nltk.tokenize import word_tokenize\n",
    "from nltk.chunk.regexp import *"
   ]
  },
  {
   "cell_type": "code",
   "execution_count": 4,
   "metadata": {},
   "outputs": [
    {
     "name": "stdout",
     "output_type": "stream",
     "text": [
      "['I', 'want', 'a', 'dress', 'for', 'a', 'wedding']\n"
     ]
    }
   ],
   "source": [
    "ejemplo = \"I want a dress for a wedding\"\n",
    "tokens = word_tokenize(ejemplo)\n",
    "print(tokens)"
   ]
  },
  {
   "cell_type": "code",
   "execution_count": 5,
   "metadata": {},
   "outputs": [],
   "source": [
    "tokens_min = [w.lower() for w in tokens]"
   ]
  },
  {
   "cell_type": "code",
   "execution_count": 8,
   "metadata": {},
   "outputs": [
    {
     "data": {
      "text/plain": [
       "[('i', 'NN'),\n",
       " ('want', 'VBP'),\n",
       " ('a', 'DT'),\n",
       " ('dress', 'NN'),\n",
       " ('for', 'IN'),\n",
       " ('a', 'DT'),\n",
       " ('wedding', 'NN')]"
      ]
     },
     "execution_count": 8,
     "metadata": {},
     "output_type": "execute_result"
    }
   ],
   "source": [
    "nltk.pos_tag(tokens_min)"
   ]
  },
  {
   "cell_type": "code",
   "execution_count": 7,
   "metadata": {},
   "outputs": [
    {
     "name": "stderr",
     "output_type": "stream",
     "text": [
      "[nltk_data] Downloading package averaged_perceptron_tagger to\n",
      "[nltk_data]     /Users/A066509/nltk_data...\n",
      "[nltk_data]   Unzipping taggers/averaged_perceptron_tagger.zip.\n"
     ]
    },
    {
     "data": {
      "text/plain": [
       "True"
      ]
     },
     "execution_count": 7,
     "metadata": {},
     "output_type": "execute_result"
    }
   ],
   "source": [
    "nltk.download('averaged_perceptron_tagger')"
   ]
  },
  {
   "cell_type": "code",
   "execution_count": 15,
   "metadata": {},
   "outputs": [
    {
     "data": {
      "image/svg+xml": [
       "<svg baseProfile=\"full\" height=\"120px\" preserveAspectRatio=\"xMidYMid meet\" style=\"font-family: times, serif; font-weight: normal; font-style: normal; font-size: 16px;\" version=\"1.1\" viewBox=\"0,0,312.0,120.0\" width=\"312px\" xmlns=\"http://www.w3.org/2000/svg\" xmlns:ev=\"http://www.w3.org/2001/xml-events\" xmlns:xlink=\"http://www.w3.org/1999/xlink\"><defs /><svg width=\"100%\" x=\"0\" y=\"0px\"><defs /><text text-anchor=\"middle\" x=\"50%\" y=\"16px\">S</text></svg><svg width=\"10.2564%\" x=\"0%\" y=\"48px\"><defs /><svg width=\"100%\" x=\"0\" y=\"0px\"><defs /><text text-anchor=\"middle\" x=\"50%\" y=\"16px\">i</text></svg><svg width=\"100%\" x=\"0%\" y=\"48px\"><defs /><svg width=\"100%\" x=\"0\" y=\"0px\"><defs /><text text-anchor=\"middle\" x=\"50%\" y=\"16px\">NN</text></svg></svg><line stroke=\"black\" x1=\"50%\" x2=\"50%\" y1=\"19.2px\" y2=\"48px\" /></svg><line stroke=\"black\" x1=\"50%\" x2=\"5.12821%\" y1=\"19.2px\" y2=\"48px\" /><svg width=\"15.3846%\" x=\"10.2564%\" y=\"48px\"><defs /><svg width=\"100%\" x=\"0\" y=\"0px\"><defs /><text text-anchor=\"middle\" x=\"50%\" y=\"16px\">want</text></svg><svg width=\"100%\" x=\"0%\" y=\"48px\"><defs /><svg width=\"100%\" x=\"0\" y=\"0px\"><defs /><text text-anchor=\"middle\" x=\"50%\" y=\"16px\">VBP</text></svg></svg><line stroke=\"black\" x1=\"50%\" x2=\"50%\" y1=\"19.2px\" y2=\"48px\" /></svg><line stroke=\"black\" x1=\"50%\" x2=\"17.9487%\" y1=\"19.2px\" y2=\"48px\" /><svg width=\"10.2564%\" x=\"25.641%\" y=\"48px\"><defs /><svg width=\"100%\" x=\"0\" y=\"0px\"><defs /><text text-anchor=\"middle\" x=\"50%\" y=\"16px\">a</text></svg><svg width=\"100%\" x=\"0%\" y=\"48px\"><defs /><svg width=\"100%\" x=\"0\" y=\"0px\"><defs /><text text-anchor=\"middle\" x=\"50%\" y=\"16px\">DT</text></svg></svg><line stroke=\"black\" x1=\"50%\" x2=\"50%\" y1=\"19.2px\" y2=\"48px\" /></svg><line stroke=\"black\" x1=\"50%\" x2=\"30.7692%\" y1=\"19.2px\" y2=\"48px\" /><svg width=\"17.9487%\" x=\"35.8974%\" y=\"48px\"><defs /><svg width=\"100%\" x=\"0\" y=\"0px\"><defs /><text text-anchor=\"middle\" x=\"50%\" y=\"16px\">dress</text></svg><svg width=\"100%\" x=\"0%\" y=\"48px\"><defs /><svg width=\"100%\" x=\"0\" y=\"0px\"><defs /><text text-anchor=\"middle\" x=\"50%\" y=\"16px\">NN</text></svg></svg><line stroke=\"black\" x1=\"50%\" x2=\"50%\" y1=\"19.2px\" y2=\"48px\" /></svg><line stroke=\"black\" x1=\"50%\" x2=\"44.8718%\" y1=\"19.2px\" y2=\"48px\" /><svg width=\"12.8205%\" x=\"53.8462%\" y=\"48px\"><defs /><svg width=\"100%\" x=\"0\" y=\"0px\"><defs /><text text-anchor=\"middle\" x=\"50%\" y=\"16px\">for</text></svg><svg width=\"100%\" x=\"0%\" y=\"48px\"><defs /><svg width=\"100%\" x=\"0\" y=\"0px\"><defs /><text text-anchor=\"middle\" x=\"50%\" y=\"16px\">IN</text></svg></svg><line stroke=\"black\" x1=\"50%\" x2=\"50%\" y1=\"19.2px\" y2=\"48px\" /></svg><line stroke=\"black\" x1=\"50%\" x2=\"60.2564%\" y1=\"19.2px\" y2=\"48px\" /><svg width=\"10.2564%\" x=\"66.6667%\" y=\"48px\"><defs /><svg width=\"100%\" x=\"0\" y=\"0px\"><defs /><text text-anchor=\"middle\" x=\"50%\" y=\"16px\">a</text></svg><svg width=\"100%\" x=\"0%\" y=\"48px\"><defs /><svg width=\"100%\" x=\"0\" y=\"0px\"><defs /><text text-anchor=\"middle\" x=\"50%\" y=\"16px\">DT</text></svg></svg><line stroke=\"black\" x1=\"50%\" x2=\"50%\" y1=\"19.2px\" y2=\"48px\" /></svg><line stroke=\"black\" x1=\"50%\" x2=\"71.7949%\" y1=\"19.2px\" y2=\"48px\" /><svg width=\"23.0769%\" x=\"76.9231%\" y=\"48px\"><defs /><svg width=\"100%\" x=\"0\" y=\"0px\"><defs /><text text-anchor=\"middle\" x=\"50%\" y=\"16px\">wedding</text></svg><svg width=\"100%\" x=\"0%\" y=\"48px\"><defs /><svg width=\"100%\" x=\"0\" y=\"0px\"><defs /><text text-anchor=\"middle\" x=\"50%\" y=\"16px\">NN</text></svg></svg><line stroke=\"black\" x1=\"50%\" x2=\"50%\" y1=\"19.2px\" y2=\"48px\" /></svg><line stroke=\"black\" x1=\"50%\" x2=\"88.4615%\" y1=\"19.2px\" y2=\"48px\" /></svg>"
      ],
      "text/plain": [
       "Tree('S', [('i', 'NN'), ('want', 'VBP'), ('a', 'DT'), ('dress', 'NN'), ('for', 'IN'), ('a', 'DT'), ('wedding', 'NN')])"
      ]
     },
     "execution_count": 15,
     "metadata": {},
     "output_type": "execute_result"
    }
   ],
   "source": [
    "entities = nltk.chunk.ne_chunk(nltk.pos_tag(tokens_min))\n",
    "entities"
   ]
  },
  {
   "cell_type": "code",
   "execution_count": 16,
   "metadata": {},
   "outputs": [],
   "source": [
    "grammar = nltk.CFG.fromstring(\"\"\"\n",
    "S -> NP VP\n",
    "PP -> P NP\n",
    "NP -> Det N | Det N PP | 'i'\n",
    "VP -> V NP | VP PP\n",
    "Det -> 'a'\n",
    "N -> 'dress' | 'wedding'\n",
    "V -> 'want'\n",
    "P -> 'for'                            \n",
    "\"\"\")"
   ]
  },
  {
   "cell_type": "code",
   "execution_count": 18,
   "metadata": {},
   "outputs": [],
   "source": [
    "parser = nltk.ChartParser(grammar)\n",
    "\n",
    "def parsear(_tokens):\n",
    "    return parser.parse(_tokens)"
   ]
  },
  {
   "cell_type": "code",
   "execution_count": 22,
   "metadata": {},
   "outputs": [
    {
     "name": "stdout",
     "output_type": "stream",
     "text": [
      "(S\n",
      "  (NP i)\n",
      "  (VP\n",
      "    (VP (V want) (NP (Det a) (N dress)))\n",
      "    (PP (P for) (NP (Det a) (N wedding))))) \n",
      "\n",
      "     S                                    \n",
      "  ___|_____________                        \n",
      " |                 VP                     \n",
      " |         ________|________               \n",
      " |        VP                PP            \n",
      " |    ____|___           ___|___           \n",
      " |   |        NP        |       NP        \n",
      " |   |     ___|____     |    ___|_____     \n",
      " NP  V   Det       N    P  Det        N   \n",
      " |   |    |        |    |   |         |    \n",
      " i  want  a      dress for  a      wedding\n",
      "\n",
      "(S\n",
      "  (NP i)\n",
      "  (VP\n",
      "    (V want)\n",
      "    (NP (Det a) (N dress) (PP (P for) (NP (Det a) (N wedding)))))) \n",
      "\n",
      "     S                                \n",
      "  ___|_________                        \n",
      " |             VP                     \n",
      " |    _________|____                   \n",
      " |   |              NP                \n",
      " |   |     _________|___               \n",
      " |   |    |    |        PP            \n",
      " |   |    |    |     ___|___           \n",
      " |   |    |    |    |       NP        \n",
      " |   |    |    |    |    ___|_____     \n",
      " NP  V   Det   N    P  Det        N   \n",
      " |   |    |    |    |   |         |    \n",
      " i  want  a  dress for  a      wedding\n",
      "\n"
     ]
    }
   ],
   "source": [
    "for tree in parsear(tokens_min):\n",
    "    print(tree, '\\n')\n",
    "    tree.pretty_print()"
   ]
  },
  {
   "cell_type": "code",
   "execution_count": 24,
   "metadata": {},
   "outputs": [
    {
     "name": "stdout",
     "output_type": "stream",
     "text": [
      "['me', 'gusta', 'llegar', 'puntual', 'a', 'clase']\n"
     ]
    }
   ],
   "source": [
    "ejemplo2 = \"Me gusta llegar puntual a clase\"\n",
    "tokens2 = word_tokenize(ejemplo2)\n",
    "tokens2_min = [w.lower() for w in tokens2]\n",
    "print(tokens2_min)"
   ]
  },
  {
   "cell_type": "code",
   "execution_count": 25,
   "metadata": {},
   "outputs": [],
   "source": [
    "grammar2 = nltk.CFG.fromstring(\"\"\"\n",
    "S -> VP\n",
    "VP -> 'me' V INF\n",
    "INF -> V ADV PP\n",
    "V -> 'gusta' | 'llegar'\n",
    "ADV -> 'puntual'\n",
    "PP -> 'a' NP\n",
    "NP -> 'clase'\n",
    "\"\"\")"
   ]
  },
  {
   "cell_type": "code",
   "execution_count": 28,
   "metadata": {},
   "outputs": [],
   "source": [
    "parser2 = nltk.ChartParser(grammar2)\n",
    "\n",
    "def parsear2(_tokens):\n",
    "    return parser2.parse(_tokens)"
   ]
  },
  {
   "cell_type": "code",
   "execution_count": 29,
   "metadata": {},
   "outputs": [
    {
     "name": "stdout",
     "output_type": "stream",
     "text": [
      "(S\n",
      "  (VP me (V gusta) (INF (V llegar) (ADV puntual) (PP a (NP clase))))) \n",
      "\n",
      "            S                         \n",
      "            |                          \n",
      "            VP                        \n",
      "  __________|_______                   \n",
      " |    |            INF                \n",
      " |    |      _______|_________         \n",
      " |    |     |       |         PP      \n",
      " |    |     |       |      ___|____    \n",
      " |    V     V      ADV    |        NP \n",
      " |    |     |       |     |        |   \n",
      " me gusta llegar puntual  a      clase\n",
      "\n"
     ]
    }
   ],
   "source": [
    "for tree in parsear2(tokens2_min):\n",
    "    print(tree, '\\n')\n",
    "    tree.pretty_print()"
   ]
  },
  {
   "cell_type": "code",
   "execution_count": 47,
   "metadata": {},
   "outputs": [
    {
     "name": "stdout",
     "output_type": "stream",
     "text": [
      "['pepe', 'y', 'maría', 'cocinan', 'brownies']\n"
     ]
    }
   ],
   "source": [
    "frase3 = \"Pepe y María cocinan brownies\"\n",
    "tokens3 = word_tokenize(frase3)\n",
    "tokens3_min = [w.lower() for w in tokens3]\n",
    "print(tokens3_min)"
   ]
  },
  {
   "cell_type": "code",
   "execution_count": 50,
   "metadata": {},
   "outputs": [],
   "source": [
    "grammar3 = nltk.CFG.fromstring(\"\"\"\n",
    "S -> Otros Suj Accion Otros Accion | Otros Suj Accion | Suj Accion\n",
    "Suj -> Persona | Persona Otros Persona\n",
    "Accion -> V N | V Otros N\n",
    "Persona -> 'abuela' | 'mujer' | 'pepe' | 'maría'\n",
    "V -> 'bebe' | 'fuma' | 'compra' | 'cocinan'\n",
    "N -> 'vodka' | 'porros' | 'coche' | 'brownies'\n",
    "Otros -> 'y' | 'la' | 'La' | 'un'\n",
    "\"\"\")\n",
    "\n",
    "parser = nltk.ChartParser(grammar3)"
   ]
  },
  {
   "cell_type": "code",
   "execution_count": 51,
   "metadata": {},
   "outputs": [
    {
     "name": "stdout",
     "output_type": "stream",
     "text": [
      "(S\n",
      "  (Suj (Persona pepe) (Otros y) (Persona maría))\n",
      "  (Accion (V cocinan) (N brownies))) \n",
      "\n",
      "                 S                           \n",
      "           ______|______________              \n",
      "         Suj                  Accion         \n",
      "    ______|______         ______|_______      \n",
      "Persona Otros Persona    V              N    \n",
      "   |      |      |       |              |     \n",
      "  pepe    y    maría  cocinan        brownies\n",
      "\n"
     ]
    }
   ],
   "source": [
    "for tree in parser.parse(tokens3_min):\n",
    "    print(tree, '\\n')\n",
    "    tree.pretty_print()"
   ]
  }
 ],
 "metadata": {
  "kernelspec": {
   "display_name": "Python 3",
   "language": "python",
   "name": "python3"
  },
  "language_info": {
   "codemirror_mode": {
    "name": "ipython",
    "version": 3
   },
   "file_extension": ".py",
   "mimetype": "text/x-python",
   "name": "python",
   "nbconvert_exporter": "python",
   "pygments_lexer": "ipython3",
   "version": "3.9.6"
  }
 },
 "nbformat": 4,
 "nbformat_minor": 2
}
