{
 "cells": [
  {
   "cell_type": "code",
   "execution_count": 1,
   "id": "70194f16",
   "metadata": {},
   "outputs": [],
   "source": [
    "import nltk, string\n",
    "from sklearn.feature_extraction.text import TfidfVectorizer, CountVectorizer\n",
    "from sklearn.decomposition import NMF, LatentDirichletAllocation\n",
    "import numpy as np"
   ]
  },
  {
   "cell_type": "code",
   "execution_count": 2,
   "id": "91d03754",
   "metadata": {},
   "outputs": [],
   "source": [
    "trainCorpus = [\n",
    "    \"Me gustan las vacas\",\n",
    "    \"Me gustan los caballos\",\n",
    "    \"odio los perros\",\n",
    "    \"odio los caballos\",\n",
    "    \"me gustan las ranas\",\n",
    "    \"me gusta el helado\",\n",
    "    \"no quiero comer\",\n",
    "    \"los helados son cremosos\"\n",
    "]"
   ]
  },
  {
   "cell_type": "code",
   "execution_count": 3,
   "id": "71544fd7",
   "metadata": {},
   "outputs": [],
   "source": [
    "puncts = [ c for c in string.punctuation ]\n",
    "spanish_stopwords = nltk.corpus.stopwords.words('spanish') + puncts\n",
    "vectorizer = CountVectorizer(stop_words=spanish_stopwords)\n",
    "#print(spanish_stopwords)"
   ]
  },
  {
   "cell_type": "code",
   "execution_count": 4,
   "id": "65493241",
   "metadata": {},
   "outputs": [
    {
     "data": {
      "text/html": [
       "<style>#sk-container-id-1 {color: black;background-color: white;}#sk-container-id-1 pre{padding: 0;}#sk-container-id-1 div.sk-toggleable {background-color: white;}#sk-container-id-1 label.sk-toggleable__label {cursor: pointer;display: block;width: 100%;margin-bottom: 0;padding: 0.3em;box-sizing: border-box;text-align: center;}#sk-container-id-1 label.sk-toggleable__label-arrow:before {content: \"▸\";float: left;margin-right: 0.25em;color: #696969;}#sk-container-id-1 label.sk-toggleable__label-arrow:hover:before {color: black;}#sk-container-id-1 div.sk-estimator:hover label.sk-toggleable__label-arrow:before {color: black;}#sk-container-id-1 div.sk-toggleable__content {max-height: 0;max-width: 0;overflow: hidden;text-align: left;background-color: #f0f8ff;}#sk-container-id-1 div.sk-toggleable__content pre {margin: 0.2em;color: black;border-radius: 0.25em;background-color: #f0f8ff;}#sk-container-id-1 input.sk-toggleable__control:checked~div.sk-toggleable__content {max-height: 200px;max-width: 100%;overflow: auto;}#sk-container-id-1 input.sk-toggleable__control:checked~label.sk-toggleable__label-arrow:before {content: \"▾\";}#sk-container-id-1 div.sk-estimator input.sk-toggleable__control:checked~label.sk-toggleable__label {background-color: #d4ebff;}#sk-container-id-1 div.sk-label input.sk-toggleable__control:checked~label.sk-toggleable__label {background-color: #d4ebff;}#sk-container-id-1 input.sk-hidden--visually {border: 0;clip: rect(1px 1px 1px 1px);clip: rect(1px, 1px, 1px, 1px);height: 1px;margin: -1px;overflow: hidden;padding: 0;position: absolute;width: 1px;}#sk-container-id-1 div.sk-estimator {font-family: monospace;background-color: #f0f8ff;border: 1px dotted black;border-radius: 0.25em;box-sizing: border-box;margin-bottom: 0.5em;}#sk-container-id-1 div.sk-estimator:hover {background-color: #d4ebff;}#sk-container-id-1 div.sk-parallel-item::after {content: \"\";width: 100%;border-bottom: 1px solid gray;flex-grow: 1;}#sk-container-id-1 div.sk-label:hover label.sk-toggleable__label {background-color: #d4ebff;}#sk-container-id-1 div.sk-serial::before {content: \"\";position: absolute;border-left: 1px solid gray;box-sizing: border-box;top: 0;bottom: 0;left: 50%;z-index: 0;}#sk-container-id-1 div.sk-serial {display: flex;flex-direction: column;align-items: center;background-color: white;padding-right: 0.2em;padding-left: 0.2em;position: relative;}#sk-container-id-1 div.sk-item {position: relative;z-index: 1;}#sk-container-id-1 div.sk-parallel {display: flex;align-items: stretch;justify-content: center;background-color: white;position: relative;}#sk-container-id-1 div.sk-item::before, #sk-container-id-1 div.sk-parallel-item::before {content: \"\";position: absolute;border-left: 1px solid gray;box-sizing: border-box;top: 0;bottom: 0;left: 50%;z-index: -1;}#sk-container-id-1 div.sk-parallel-item {display: flex;flex-direction: column;z-index: 1;position: relative;background-color: white;}#sk-container-id-1 div.sk-parallel-item:first-child::after {align-self: flex-end;width: 50%;}#sk-container-id-1 div.sk-parallel-item:last-child::after {align-self: flex-start;width: 50%;}#sk-container-id-1 div.sk-parallel-item:only-child::after {width: 0;}#sk-container-id-1 div.sk-dashed-wrapped {border: 1px dashed gray;margin: 0 0.4em 0.5em 0.4em;box-sizing: border-box;padding-bottom: 0.4em;background-color: white;}#sk-container-id-1 div.sk-label label {font-family: monospace;font-weight: bold;display: inline-block;line-height: 1.2em;}#sk-container-id-1 div.sk-label-container {text-align: center;}#sk-container-id-1 div.sk-container {/* jupyter's `normalize.less` sets `[hidden] { display: none; }` but bootstrap.min.css set `[hidden] { display: none !important; }` so we also need the `!important` here to be able to override the default hidden behavior on the sphinx rendered scikit-learn.org. See: https://github.com/scikit-learn/scikit-learn/issues/21755 */display: inline-block !important;position: relative;}#sk-container-id-1 div.sk-text-repr-fallback {display: none;}</style><div id=\"sk-container-id-1\" class=\"sk-top-container\"><div class=\"sk-text-repr-fallback\"><pre>CountVectorizer(stop_words=[&#x27;de&#x27;, &#x27;la&#x27;, &#x27;que&#x27;, &#x27;el&#x27;, &#x27;en&#x27;, &#x27;y&#x27;, &#x27;a&#x27;, &#x27;los&#x27;,\n",
       "                            &#x27;del&#x27;, &#x27;se&#x27;, &#x27;las&#x27;, &#x27;por&#x27;, &#x27;un&#x27;, &#x27;para&#x27;, &#x27;con&#x27;,\n",
       "                            &#x27;no&#x27;, &#x27;una&#x27;, &#x27;su&#x27;, &#x27;al&#x27;, &#x27;lo&#x27;, &#x27;como&#x27;, &#x27;más&#x27;,\n",
       "                            &#x27;pero&#x27;, &#x27;sus&#x27;, &#x27;le&#x27;, &#x27;ya&#x27;, &#x27;o&#x27;, &#x27;este&#x27;, &#x27;sí&#x27;,\n",
       "                            &#x27;porque&#x27;, ...])</pre><b>In a Jupyter environment, please rerun this cell to show the HTML representation or trust the notebook. <br />On GitHub, the HTML representation is unable to render, please try loading this page with nbviewer.org.</b></div><div class=\"sk-container\" hidden><div class=\"sk-item\"><div class=\"sk-estimator sk-toggleable\"><input class=\"sk-toggleable__control sk-hidden--visually\" id=\"sk-estimator-id-1\" type=\"checkbox\" checked><label for=\"sk-estimator-id-1\" class=\"sk-toggleable__label sk-toggleable__label-arrow\">CountVectorizer</label><div class=\"sk-toggleable__content\"><pre>CountVectorizer(stop_words=[&#x27;de&#x27;, &#x27;la&#x27;, &#x27;que&#x27;, &#x27;el&#x27;, &#x27;en&#x27;, &#x27;y&#x27;, &#x27;a&#x27;, &#x27;los&#x27;,\n",
       "                            &#x27;del&#x27;, &#x27;se&#x27;, &#x27;las&#x27;, &#x27;por&#x27;, &#x27;un&#x27;, &#x27;para&#x27;, &#x27;con&#x27;,\n",
       "                            &#x27;no&#x27;, &#x27;una&#x27;, &#x27;su&#x27;, &#x27;al&#x27;, &#x27;lo&#x27;, &#x27;como&#x27;, &#x27;más&#x27;,\n",
       "                            &#x27;pero&#x27;, &#x27;sus&#x27;, &#x27;le&#x27;, &#x27;ya&#x27;, &#x27;o&#x27;, &#x27;este&#x27;, &#x27;sí&#x27;,\n",
       "                            &#x27;porque&#x27;, ...])</pre></div></div></div></div></div>"
      ],
      "text/plain": [
       "CountVectorizer(stop_words=['de', 'la', 'que', 'el', 'en', 'y', 'a', 'los',\n",
       "                            'del', 'se', 'las', 'por', 'un', 'para', 'con',\n",
       "                            'no', 'una', 'su', 'al', 'lo', 'como', 'más',\n",
       "                            'pero', 'sus', 'le', 'ya', 'o', 'este', 'sí',\n",
       "                            'porque', ...])"
      ]
     },
     "execution_count": 4,
     "metadata": {},
     "output_type": "execute_result"
    }
   ],
   "source": [
    "vectorizer.fit(trainCorpus)"
   ]
  },
  {
   "cell_type": "code",
   "execution_count": 5,
   "id": "7a715ee9",
   "metadata": {},
   "outputs": [],
   "source": [
    "# Lo ideal sería hacer un STEAMMING para agrupar las palabras que son iguales o en plural\n",
    "features_names = vectorizer.get_feature_names_out()"
   ]
  },
  {
   "cell_type": "code",
   "execution_count": 6,
   "id": "731ed0ec",
   "metadata": {},
   "outputs": [],
   "source": [
    "tfMatrix = vectorizer.transform(trainCorpus)"
   ]
  },
  {
   "cell_type": "code",
   "execution_count": 7,
   "id": "8b89a3fa",
   "metadata": {},
   "outputs": [
    {
     "data": {
      "text/plain": [
       "array([[0, 0, 0, 0, 1, 0, 0, 0, 0, 0, 0, 1],\n",
       "       [1, 0, 0, 0, 1, 0, 0, 0, 0, 0, 0, 0],\n",
       "       [0, 0, 0, 0, 0, 0, 0, 1, 1, 0, 0, 0],\n",
       "       [1, 0, 0, 0, 0, 0, 0, 1, 0, 0, 0, 0],\n",
       "       [0, 0, 0, 0, 1, 0, 0, 0, 0, 0, 1, 0],\n",
       "       [0, 0, 0, 1, 0, 1, 0, 0, 0, 0, 0, 0],\n",
       "       [0, 1, 0, 0, 0, 0, 0, 0, 0, 1, 0, 0],\n",
       "       [0, 0, 1, 0, 0, 0, 1, 0, 0, 0, 0, 0]], dtype=int64)"
      ]
     },
     "execution_count": 7,
     "metadata": {},
     "output_type": "execute_result"
    }
   ],
   "source": [
    "#Marcará 1 en donde salen en las frases las palabras de la lista anterior en el orden\n",
    "#De la lista\n",
    "tfMatrix.toarray()"
   ]
  },
  {
   "cell_type": "code",
   "execution_count": 8,
   "id": "bfee65c9",
   "metadata": {},
   "outputs": [
    {
     "name": "stdout",
     "output_type": "stream",
     "text": [
      "Frases:  8 Atributos:  12\n"
     ]
    }
   ],
   "source": [
    "print('Frases: ', tfMatrix.shape[0], 'Atributos: ', tfMatrix.shape[1])"
   ]
  },
  {
   "cell_type": "markdown",
   "id": "a279d06a",
   "metadata": {},
   "source": [
    "Tenemos 8 frases y 12 palabras"
   ]
  },
  {
   "cell_type": "code",
   "execution_count": 9,
   "id": "4ee001eb",
   "metadata": {},
   "outputs": [],
   "source": [
    "#Funcion que crea matriz y topics\n",
    "def display_topics(H, W, feature_names, documents, no_top_words, no_top_documents):\n",
    "    for topic_idx, topic in enumerate(H):\n",
    "        print(\"Topic: \", topic_idx)\n",
    "        \n",
    "        for i in topic.argsort()[:-no_top_words - 1:-1]:\n",
    "            print(\" \", feature_names[i])\n",
    "            \n",
    "        top_doc_indices = np.argsort( W[:, topic_idx])[::-1][0:no_top_documents]\n",
    "        for doc_index in top_doc_indices:\n",
    "            print(documents[doc_index])\n",
    "                \n",
    "        print(\"-----------------------\")"
   ]
  },
  {
   "cell_type": "code",
   "execution_count": 10,
   "id": "4cee2f86",
   "metadata": {},
   "outputs": [],
   "source": [
    "topics = 2 #Cuantos clusters o topics\n",
    "lda_model = LatentDirichletAllocation(n_components = topics,#Cuantos componentes queremos\n",
    "                                      max_iter=5,\n",
    "                                      learning_method='online',\n",
    "                                      learning_offset=50,\n",
    "                                      random_state=0).fit(tfMatrix)\n",
    "H = lda_model.components_\n",
    "W = lda_model.transform(tfMatrix)"
   ]
  },
  {
   "cell_type": "code",
   "execution_count": 11,
   "id": "15cd7aa6",
   "metadata": {},
   "outputs": [
    {
     "name": "stdout",
     "output_type": "stream",
     "text": [
      "Topic:  0\n",
      "  caballos\n",
      "  odio\n",
      "odio los caballos\n",
      "odio los perros\n",
      "Me gustan los caballos\n",
      "-----------------------\n",
      "Topic:  1\n",
      "  gustan\n",
      "  helado\n",
      "no quiero comer\n",
      "me gusta el helado\n",
      "Me gustan las vacas\n",
      "-----------------------\n"
     ]
    }
   ],
   "source": [
    "#Se muestran 2 topic pq le hemos dicho dos\n",
    "display_topics(H, W, features_names, trainCorpus, 2, 3)"
   ]
  },
  {
   "cell_type": "code",
   "execution_count": 12,
   "id": "39745ea4",
   "metadata": {},
   "outputs": [
    {
     "name": "stdout",
     "output_type": "stream",
     "text": [
      "Topic:  0\n",
      "  caballos\n",
      "odio los caballos\n",
      "odio los perros\n",
      "Me gustan los caballos\n",
      "los helados son cremosos\n",
      "me gustan las ranas\n",
      "-----------------------\n",
      "Topic:  1\n",
      "  gustan\n",
      "no quiero comer\n",
      "me gusta el helado\n",
      "Me gustan las vacas\n",
      "me gustan las ranas\n",
      "los helados son cremosos\n",
      "-----------------------\n"
     ]
    }
   ],
   "source": [
    "display_topics(H, W, features_names, trainCorpus, 1, 5)"
   ]
  },
  {
   "cell_type": "markdown",
   "id": "72025a1e",
   "metadata": {},
   "source": [
    "Tenemos pocas frases y las tiene que meter aunque no sea la palabra topic\n",
    "Se separan las frases por temáica"
   ]
  },
  {
   "cell_type": "code",
   "execution_count": null,
   "id": "175c2ca4",
   "metadata": {},
   "outputs": [],
   "source": []
  },
  {
   "cell_type": "markdown",
   "id": "ec7f3256",
   "metadata": {},
   "source": [
    "## VAMOS A PASAR VOZ A TEXTO"
   ]
  },
  {
   "cell_type": "markdown",
   "id": "f62fa101",
   "metadata": {},
   "source": [
    "Tenemos un archivo de voz descargado en la carpeta example.wav"
   ]
  },
  {
   "cell_type": "code",
   "execution_count": 13,
   "id": "d0385eb6",
   "metadata": {},
   "outputs": [],
   "source": [
    "#pip install SpeechRecognition\n",
    "#conda install pyaudioy\n",
    "#conda install -c anaconda portaudio\n",
    "#pip install pyttsx3\n",
    "import speech_recognition as sr\n"
   ]
  },
  {
   "cell_type": "code",
   "execution_count": 14,
   "id": "6ce2b4e8",
   "metadata": {},
   "outputs": [],
   "source": [
    "instance = sr.Recognizer()"
   ]
  },
  {
   "cell_type": "code",
   "execution_count": 15,
   "id": "e6d894e0",
   "metadata": {},
   "outputs": [],
   "source": [
    "file = sr.AudioFile('example.wav')"
   ]
  },
  {
   "cell_type": "code",
   "execution_count": 16,
   "id": "7d2af2d1",
   "metadata": {},
   "outputs": [],
   "source": [
    "#metemos y abrimos el file, hacemos ajuste para quitar el ruido de fondo\n",
    "#creamos la instancia y la pasamos a google, la pasa en ESPAÑOL y que nos\n",
    "#de todo lo que interprete\n",
    "\n",
    "def audio_conversion(_file):\n",
    "    with _file as source:\n",
    "        instance.adjust_for_ambient_noise(source)\n",
    "        audio = instance.record(source)\n",
    "        \n",
    "        transcript = instance.recognize_google(audio, language='es-ES', show_all=True)\n",
    "        print(transcript)\n",
    "        #Nos quedamos con transcript que esta en la posición 3 y tiene el texto transcrito\n",
    "        return transcript['alternative'][0]['transcript']"
   ]
  },
  {
   "cell_type": "code",
   "execution_count": 17,
   "id": "d018f23f",
   "metadata": {},
   "outputs": [
    {
     "name": "stdout",
     "output_type": "stream",
     "text": [
      "{'alternative': [{'transcript': 'ha finalizado y la implantación de esta nueva versión del DNI y desde hoy únicamente se expedirá este DNI europeo para todos los ciudadanos españoles', 'confidence': 0.95097524}, {'transcript': 'ha finalizado hoy la implantación de esta nueva versión del DNI y desde hoy únicamente se expedirá este DNI europeo para todos los ciudadanos españoles'}, {'transcript': 'dial ha finalizado y la implantación de esta nueva versión del DNI y desde hoy únicamente se expedirá este DNI europeo para todos los ciudadanos españoles'}], 'final': True}\n"
     ]
    },
    {
     "data": {
      "text/plain": [
       "'ha finalizado y la implantación de esta nueva versión del DNI y desde hoy únicamente se expedirá este DNI europeo para todos los ciudadanos españoles'"
      ]
     },
     "execution_count": 17,
     "metadata": {},
     "output_type": "execute_result"
    }
   ],
   "source": [
    "#Con esta librería, el primer segundo o 2, no lo interpreta,\n",
    "#que mejor esperar 1 seg antes de hablar\n",
    "audio_conversion(file)"
   ]
  },
  {
   "cell_type": "code",
   "execution_count": 18,
   "id": "bc9ae264",
   "metadata": {},
   "outputs": [
    {
     "name": "stdout",
     "output_type": "stream",
     "text": [
      "{'alternative': [{'transcript': 'ha finalizado y la implantación de esta nueva versión del DNI y desde hoy únicamente se expedirá este DNI europeo para todos los ciudadanos españoles', 'confidence': 0.95097524}, {'transcript': 'ha finalizado hoy la implantación de esta nueva versión del DNI y desde hoy únicamente se expedirá este DNI europeo para todos los ciudadanos españoles'}, {'transcript': 'dial ha finalizado y la implantación de esta nueva versión del DNI y desde hoy únicamente se expedirá este DNI europeo para todos los ciudadanos españoles'}], 'final': True}\n"
     ]
    }
   ],
   "source": [
    "result = audio_conversion(file)"
   ]
  },
  {
   "cell_type": "code",
   "execution_count": 19,
   "id": "3ea0c99a",
   "metadata": {},
   "outputs": [
    {
     "data": {
      "text/plain": [
       "149"
      ]
     },
     "execution_count": 19,
     "metadata": {},
     "output_type": "execute_result"
    }
   ],
   "source": [
    "len(result)"
   ]
  },
  {
   "cell_type": "code",
   "execution_count": 20,
   "id": "71350d50",
   "metadata": {},
   "outputs": [
    {
     "data": {
      "text/plain": [
       "'a'"
      ]
     },
     "execution_count": 20,
     "metadata": {},
     "output_type": "execute_result"
    }
   ],
   "source": [
    "result[1]"
   ]
  },
  {
   "cell_type": "code",
   "execution_count": null,
   "id": "4f97a10e",
   "metadata": {},
   "outputs": [],
   "source": []
  }
 ],
 "metadata": {
  "kernelspec": {
   "display_name": "Python 3 (ipykernel)",
   "language": "python",
   "name": "python3"
  },
  "language_info": {
   "codemirror_mode": {
    "name": "ipython",
    "version": 3
   },
   "file_extension": ".py",
   "mimetype": "text/x-python",
   "name": "python",
   "nbconvert_exporter": "python",
   "pygments_lexer": "ipython3",
   "version": "3.10.9"
  }
 },
 "nbformat": 4,
 "nbformat_minor": 5
}
