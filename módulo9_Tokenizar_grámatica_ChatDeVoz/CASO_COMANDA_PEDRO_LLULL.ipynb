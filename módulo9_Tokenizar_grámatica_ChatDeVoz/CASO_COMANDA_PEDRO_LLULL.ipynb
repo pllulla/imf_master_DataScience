{
 "cells": [
  {
   "cell_type": "markdown",
   "id": "c4db12bc",
   "metadata": {},
   "source": [
    "Caso práctico: Extractor de comandas Una importante cadena de restaurantes quiere implantar un sistema de comandas por chat, de esta forma los clientes simplemente tendrán que escribir su comanda por una tablet en la mesa y el asistente virtual se encargará de gestionar el pedido con la cocina y los camareros. El restaurante necesita tener un listado de los platos y las bebidas por separado junto con el número de unidades que se piden de cada elemento."
   ]
  },
  {
   "cell_type": "code",
   "execution_count": 1,
   "id": "981f753d",
   "metadata": {},
   "outputs": [],
   "source": [
    "import nltk\n",
    "from nltk.tokenize import word_tokenize\n",
    "from nltk import UnigramTagger, BigramTagger, TrigramTagger\n",
    "from nltk.tag.hmm import HiddenMarkovModelTagger\n",
    "\n",
    "# Regex Parser\n",
    "from nltk.chunk.regexp import *\n",
    "\n",
    "# Corpus CESS en español\n",
    "from nltk.corpus import cess_esp"
   ]
  },
  {
   "cell_type": "code",
   "execution_count": 2,
   "id": "0b702560",
   "metadata": {},
   "outputs": [],
   "source": [
    "hmm = HiddenMarkovModelTagger.train(cess_esp.tagged_sents())\n",
    "\n",
    "def taggear(_frase, _tagger):\n",
    "    \n",
    "    tokens = word_tokenize(_frase)\n",
    "    if _tagger == 'hmm':\n",
    "        return hmm.tag(tokens)"
   ]
  },
  {
   "cell_type": "code",
   "execution_count": 3,
   "id": "d116478f",
   "metadata": {},
   "outputs": [],
   "source": [
    "# Reglas para Comandas\n",
    "reglas_comandas = '''\n",
    "    Item: {<nc.*>|<np.*>}\n",
    "    Tipo: {<nc.*>|<aq.*>|<Fpa>}\n",
    "    Cantidad: {<Z>}\n",
    "    Comanda: {<Item><Tipo>?<Cantidad>}\n",
    "'''\n",
    "\n",
    "parser_comandas = nltk.RegexpParser(reglas_comandas)\n",
    "\n",
    "def extrae_comanda(_frase):\n",
    "    tags = taggear(_frase, 'hmm')\n",
    "    print(\"Etiquetas POS:\", tags)\n",
    "    parseo = parser_comandas.parse(tags)\n",
    "    print(\"Árbol de análisis:\", parseo)\n",
    "    resultado = []\n",
    "\n",
    "    for nodo in parseo:\n",
    "        if isinstance(nodo, nltk.Tree) and nodo.label() == 'Comanda':\n",
    "            comanda = {'item': '', 'tipo': '', 'cantidad': ''}\n",
    "            for elm in nodo:\n",
    "                \n",
    "                if isinstance(elm, tuple) and len(elm) == 2:\n",
    "                    palabra, tag = elm\n",
    "                elif isinstance(elm, nltk.Tree):\n",
    "                    for sub_elm in elm:\n",
    "                        if isinstance(sub_elm, tuple) and len(sub_elm) == 2:\n",
    "                            sub_palabra, sub_tag = sub_elm\n",
    "                            if elm.label() == 'Item' and ('nc' in sub_tag or 'np' in sub_tag):\n",
    "                                comanda['item'] = sub_palabra\n",
    "                            elif elm.label() == 'Tipo' and ('aq' in sub_tag or 'Fpa' in sub_tag):\n",
    "                                comanda['tipo'] = sub_palabra\n",
    "                            elif elm.label() == 'Cantidad' and 'Z' in sub_tag:\n",
    "                                comanda['cantidad'] = sub_palabra\n",
    "            resultado.append(comanda)\n",
    "\n",
    "    return resultado\n"
   ]
  },
  {
   "cell_type": "code",
   "execution_count": 4,
   "id": "48a626e5",
   "metadata": {},
   "outputs": [
    {
     "name": "stdout",
     "output_type": "stream",
     "text": [
      "Etiquetas POS: [('hamburguesa', 'np0000p'), ('queso', 'Fpa'), ('2', 'Z')]\n",
      "Árbol de análisis: (S\n",
      "  (Comanda\n",
      "    (Item hamburguesa/np0000p)\n",
      "    (Tipo queso/Fpa)\n",
      "    (Cantidad 2/Z)))\n",
      "[{'item': 'hamburguesa', 'tipo': 'queso', 'cantidad': '2'}]\n"
     ]
    }
   ],
   "source": [
    "print(extrae_comanda('hamburguesa queso 2'))"
   ]
  },
  {
   "cell_type": "code",
   "execution_count": 5,
   "id": "f0fadceb",
   "metadata": {},
   "outputs": [
    {
     "name": "stdout",
     "output_type": "stream",
     "text": [
      "[('1', 'Z'), ('hamburguesa', 'ncmp000'), ('queso', 'aq0mp0')]\n"
     ]
    }
   ],
   "source": [
    "def imprimir_tags(_frase):\n",
    "    tags = taggear(_frase, 'hmm')\n",
    "    print(tags)\n",
    "\n",
    "imprimir_tags('1 hamburguesa queso')\n"
   ]
  },
  {
   "cell_type": "markdown",
   "id": "a5a33f44",
   "metadata": {},
   "source": [
    "No entiendo por qué si cambio la cantidad (1) al principio, el tipo:queso tiene una etiqueta diferente"
   ]
  },
  {
   "cell_type": "code",
   "execution_count": 6,
   "id": "9db9a996",
   "metadata": {},
   "outputs": [],
   "source": [
    "# Para más de una comanda\n",
    "reglas_comandas2 = '''\n",
    "    Item: {<nc.*>|<np.*>}\n",
    "    Tipo: {<nc.*>|<aq.*>|<Fpa>}\n",
    "    Cantidad: {<Z>}\n",
    "    Comanda: {<Item><Tipo>?<Cantidad>}\n",
    "    Comandas: {<Comanda>(<,><Comanda>)*}\n",
    "'''\n",
    "parser_comandas2 = nltk.RegexpParser(reglas_comandas2)\n",
    "\n",
    "def extrae_comanda2(_frase):\n",
    "    tags = taggear(_frase, 'hmm')\n",
    "    parseo = parser_comandas2.parse(tags)\n",
    "    resultado = []\n",
    "\n",
    "    for comandas in parseo:\n",
    "        if isinstance(comandas, nltk.Tree) and comandas.label() == 'Comandas':\n",
    "            for nodo in comandas:\n",
    "                if isinstance(nodo, nltk.Tree) and nodo.label() == 'Comanda':\n",
    "                    comanda = {'item': '', 'tipo': '', 'cantidad': ''}\n",
    "                    for elm in nodo:\n",
    "                        if isinstance(elm, tuple) and len(elm) == 2:\n",
    "                            palabra, tag = elm\n",
    "                            \n",
    "                        elif isinstance(elm, nltk.Tree):\n",
    "                            for sub_elm in elm:\n",
    "                                if isinstance(sub_elm, tuple) and len(sub_elm) == 2:\n",
    "                                    sub_palabra, sub_tag = sub_elm\n",
    "                                    if elm.label() == 'Item' and ('nc' in sub_tag or 'np' in sub_tag):\n",
    "                                        comanda['item'] = sub_palabra\n",
    "                                    elif elm.label() == 'Tipo' and ('aq' in sub_tag or 'Fpa' in sub_tag):\n",
    "                                        comanda['tipo'] = sub_palabra\n",
    "                                    elif elm.label() == 'Cantidad' and 'Z' in sub_tag:\n",
    "                                        comanda['cantidad'] = sub_palabra\n",
    "                    resultado.append(comanda)\n",
    "\n",
    "    return resultado\n"
   ]
  },
  {
   "cell_type": "code",
   "execution_count": 7,
   "id": "faa5f291",
   "metadata": {},
   "outputs": [
    {
     "data": {
      "text/plain": [
       "[{'item': 'hamburguesa', 'tipo': 'queso', 'cantidad': '3'},\n",
       " {'item': 'patatas', 'tipo': 'bravas', 'cantidad': '1'},\n",
       " {'item': 'cocacola', 'tipo': 'zero', 'cantidad': '2'}]"
      ]
     },
     "execution_count": 7,
     "metadata": {},
     "output_type": "execute_result"
    }
   ],
   "source": [
    "extrae_comanda2('hamburguesa queso 3,patatas bravas 1,cocacola zero 2')"
   ]
  },
  {
   "cell_type": "code",
   "execution_count": null,
   "id": "dbed11bc",
   "metadata": {},
   "outputs": [],
   "source": []
  }
 ],
 "metadata": {
  "kernelspec": {
   "display_name": "Python 3 (ipykernel)",
   "language": "python",
   "name": "python3"
  },
  "language_info": {
   "codemirror_mode": {
    "name": "ipython",
    "version": 3
   },
   "file_extension": ".py",
   "mimetype": "text/x-python",
   "name": "python",
   "nbconvert_exporter": "python",
   "pygments_lexer": "ipython3",
   "version": "3.10.9"
  }
 },
 "nbformat": 4,
 "nbformat_minor": 5
}
