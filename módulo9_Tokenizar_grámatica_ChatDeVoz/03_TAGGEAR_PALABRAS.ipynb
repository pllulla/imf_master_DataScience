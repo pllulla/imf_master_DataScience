{
 "cells": [
  {
   "cell_type": "code",
   "execution_count": 1,
   "id": "534ff77e",
   "metadata": {},
   "outputs": [],
   "source": [
    "import nltk\n",
    "from nltk.tokenize import word_tokenize"
   ]
  },
  {
   "cell_type": "code",
   "execution_count": 2,
   "id": "c8ad07ee",
   "metadata": {},
   "outputs": [
    {
     "name": "stdout",
     "output_type": "stream",
     "text": [
      "['maría', 'ha', 'robado', 'un', 'huevo', 'de', 'avestruz', 'del', 'zoo']\n"
     ]
    }
   ],
   "source": [
    "frasesita2 = \"María ha robado un huevo de avestruz del zoo\"\n",
    "tokens2 = word_tokenize(frasesita2)\n",
    "tokens_min = [w.lower() for w in tokens2]\n",
    "print(tokens_min)"
   ]
  },
  {
   "cell_type": "code",
   "execution_count": 3,
   "id": "829dd5d2",
   "metadata": {},
   "outputs": [],
   "source": [
    "corpus = [\n",
    "    [('maría', 'NP00000'), ('ha', 'VAIS3S0'), ('robado', 'VMIS3S0'), ('un', 'MCMS00'), ('huevo', 'NMCS000'), ('de', 'SP000'), ('avestruz', 'NCMS000'), ('del', 'SPCMS'), ('zoo', 'NCCS000')],\n",
    "    [('la', 'PP3FSA00'), ('abuela', 'NCFS00'), ('bebe', 'VMIP3S0'), ('vodka', 'NCMS00'), ('y', 'CC00'), ('fuma', 'VMIP3S0'), ('porros', 'NCMP000')],\n",
    "    [('manolito', 'NP00000'), ('tira', 'VMIP3S0'), ('piedras', 'NCMP000'), ('al', 'SPCMS'), ('tejado', 'NCMS000'), ('de', 'SP000'), ('su', 'DP3CS00'), ('prima', 'NCFS000')]\n",
    "]"
   ]
  },
  {
   "cell_type": "code",
   "execution_count": 4,
   "id": "b4aeac23",
   "metadata": {},
   "outputs": [],
   "source": [
    "# NGRAMAS token a token y token que conocemos\n",
    "# HIDDEN es que no se conocen y las etiqueta\n",
    "from nltk import UnigramTagger, BigramTagger, TrigramTagger\n",
    "from nltk.tag.hmm import HiddenMarkovModelTagger\n",
    "\n",
    "# Regex Parser\n",
    "from nltk.chunk.regexp import *\n",
    "\n",
    "# Corpus CESS en español\n",
    "from nltk.corpus import cess_esp"
   ]
  },
  {
   "cell_type": "code",
   "execution_count": 5,
   "id": "556783bc",
   "metadata": {},
   "outputs": [
    {
     "data": {
      "text/plain": [
       "[[('El', 'da0ms0'), ('grupo', 'ncms000'), ('estatal', 'aq0cs0'), ('Electricité_de_France', 'np00000'), ('-Fpa-', 'Fpa'), ('EDF', 'np00000'), ('-Fpt-', 'Fpt'), ('anunció', 'vmis3s0'), ('hoy', 'rg'), (',', 'Fc'), ('jueves', 'W'), (',', 'Fc'), ('la', 'da0fs0'), ('compra', 'ncfs000'), ('del', 'spcms'), ('51_por_ciento', 'Zp'), ('de', 'sps00'), ('la', 'da0fs0'), ('empresa', 'ncfs000'), ('mexicana', 'aq0fs0'), ('Electricidad_Águila_de_Altamira', 'np00000'), ('-Fpa-', 'Fpa'), ('EAA', 'np00000'), ('-Fpt-', 'Fpt'), (',', 'Fc'), ('creada', 'aq0fsp'), ('por', 'sps00'), ('el', 'da0ms0'), ('japonés', 'aq0ms0'), ('Mitsubishi_Corporation', 'np00000'), ('para', 'sps00'), ('poner_en_marcha', 'vmn0000'), ('una', 'di0fs0'), ('central', 'ncfs000'), ('de', 'sps00'), ('gas', 'ncms000'), ('de', 'sps00'), ('495', 'Z'), ('megavatios', 'ncmp000'), ('.', 'Fp')], [('Una', 'di0fs0'), ('portavoz', 'nccs000'), ('de', 'sps00'), ('EDF', 'np00000'), ('explicó', 'vmis3s0'), ('a', 'sps00'), ('EFE', 'np00000'), ('que', 'cs'), ('el', 'da0ms0'), ('proyecto', 'ncms000'), ('para', 'sps00'), ('la', 'da0fs0'), ('construcción', 'ncfs000'), ('de', 'sps00'), ('Altamira_2', 'np00000'), (',', 'Fc'), ('al', 'spcms'), ('norte', 'ncms000'), ('de', 'sps00'), ('Tampico', 'np00000'), (',', 'Fc'), ('prevé', 'vmm02s0'), ('la', 'da0fs0'), ('utilización', 'ncfs000'), ('de', 'sps00'), ('gas', 'ncms000'), ('natural', 'aq0cs0'), ('como', 'cs'), ('combustible', 'ncms000'), ('principal', 'aq0cs0'), ('en', 'sps00'), ('una', 'di0fs0'), ('central', 'ncfs000'), ('de', 'sps00'), ('ciclo', 'ncms000'), ('combinado', 'aq0msp'), ('que', 'pr0cn000'), ('debe', 'vmip3s0'), ('empezar', 'vmn0000'), ('a', 'sps00'), ('funcionar', 'vmn0000'), ('en', 'sps00'), ('mayo_del_2002', 'W'), ('.', 'Fp')], ...]"
      ]
     },
     "execution_count": 5,
     "metadata": {},
     "output_type": "execute_result"
    }
   ],
   "source": [
    "import nltk\n",
    "#nltk.download('cess_esp')\n",
    "\n",
    "cess_esp.tagged_sents()"
   ]
  },
  {
   "cell_type": "code",
   "execution_count": 6,
   "id": "38f6a2a3",
   "metadata": {},
   "outputs": [
    {
     "name": "stdout",
     "output_type": "stream",
     "text": [
      "['El', 'grupo', 'estatal', 'Electricité_de_France', '-Fpa-', 'EDF', '-Fpt-', 'anunció', 'hoy', ',', 'jueves', ',', 'la', 'compra', 'del', '51_por_ciento', 'de', 'la', 'empresa', 'mexicana', 'Electricidad_Águila_de_Altamira', '-Fpa-', 'EAA', '-Fpt-', ',', 'creada', 'por', 'el', 'japonés', 'Mitsubishi_Corporation', 'para', 'poner_en_marcha', 'una', 'central', 'de', 'gas', 'de', '495', 'megavatios', '.']\n",
      "['Una', 'portavoz', 'de', 'EDF', 'explicó', 'a', 'EFE', 'que', 'el', 'proyecto', 'para', 'la', 'construcción', 'de', 'Altamira_2', ',', 'al', 'norte', 'de', 'Tampico', ',', 'prevé', 'la', 'utilización', 'de', 'gas', 'natural', 'como', 'combustible', 'principal', 'en', 'una', 'central', 'de', 'ciclo', 'combinado', 'que', 'debe', 'empezar', 'a', 'funcionar', 'en', 'mayo_del_2002', '.']\n",
      "['La', 'electricidad', 'producida', 'pasará', 'a', 'la', 'red', 'eléctrica', 'pública', 'de', 'México', 'en_virtud_de', 'un', 'acuerdo', 'de', 'venta', 'de', 'energía', 'de', 'EAA', 'con', 'la', 'Comisión_Federal_de_Electricidad', '-Fpa-', 'CFE', '-Fpt-', 'por', 'una', 'duración', 'de', '25', 'años', '.']\n"
     ]
    }
   ],
   "source": [
    "for frase in cess_esp.sents()[:3]:\n",
    "    print(frase)"
   ]
  },
  {
   "cell_type": "code",
   "execution_count": 7,
   "id": "1f48accf",
   "metadata": {},
   "outputs": [],
   "source": [
    "uni = UnigramTagger(corpus)\n",
    "big = BigramTagger(corpus)\n",
    "tri = TrigramTagger(corpus)\n",
    "hmm = HiddenMarkovModelTagger.train(corpus)"
   ]
  },
  {
   "cell_type": "code",
   "execution_count": 8,
   "id": "f29dc476",
   "metadata": {},
   "outputs": [],
   "source": [
    "def taggear(_frase, _tagger):\n",
    "    \n",
    "    tokens = word_tokenize(_frase)\n",
    "    \n",
    "    if _tagger == 'uni':\n",
    "        return uni.tag(tokens)\n",
    "    elif _tagger == 'big':\n",
    "        return big.tag(tokens)\n",
    "    elif _tagger == 'tri':\n",
    "        return tri.tag(tokens)\n",
    "    elif _tagger == 'hmm':\n",
    "        return hmm.tag(tokens)"
   ]
  },
  {
   "cell_type": "code",
   "execution_count": 9,
   "id": "6f61ee84",
   "metadata": {},
   "outputs": [
    {
     "data": {
      "text/plain": [
       "[('Pepito', None),\n",
       " ('come', None),\n",
       " ('brownies', None),\n",
       " ('de', 'SP000'),\n",
       " ('nueces', None)]"
      ]
     },
     "execution_count": 9,
     "metadata": {},
     "output_type": "execute_result"
    }
   ],
   "source": [
    "# Token a token\n",
    "# Da NONE salvo el DE, pq está entrenado con el corpus de antes y tiene DE\n",
    "taggear('Pepito come brownies de nueces', 'uni')"
   ]
  },
  {
   "cell_type": "code",
   "execution_count": 10,
   "id": "4f60e1cd",
   "metadata": {},
   "outputs": [
    {
     "data": {
      "text/plain": [
       "[('Pepito', None),\n",
       " ('come', None),\n",
       " ('brownies', None),\n",
       " ('de', None),\n",
       " ('nueces', None)]"
      ]
     },
     "execution_count": 10,
     "metadata": {},
     "output_type": "execute_result"
    }
   ],
   "source": [
    "# Cada dos, el que estamos viendo y el anterior\n",
    "# No etiqueta ningúna pq no conoce la combinacion de palabras\n",
    "taggear('Pepito come brownies de nueces', 'big')"
   ]
  },
  {
   "cell_type": "code",
   "execution_count": 11,
   "id": "6d0ccc66",
   "metadata": {},
   "outputs": [
    {
     "data": {
      "text/plain": [
       "[('Pepito', None),\n",
       " ('come', None),\n",
       " ('brownies', None),\n",
       " ('de', None),\n",
       " ('nueces', None)]"
      ]
     },
     "execution_count": 11,
     "metadata": {},
     "output_type": "execute_result"
    }
   ],
   "source": [
    "# El de el medio y los de los lados\n",
    "# No etiqueta ningúna pq no conoce la combinacion de palabras\n",
    "taggear('Pepito come brownies de nueces', 'tri')"
   ]
  },
  {
   "cell_type": "code",
   "execution_count": 12,
   "id": "9017d400",
   "metadata": {},
   "outputs": [
    {
     "data": {
      "text/plain": [
       "[('Pepito', 'NP00000'),\n",
       " ('come', 'VAIS3S0'),\n",
       " ('brownies', 'VMIS3S0'),\n",
       " ('de', 'SP000'),\n",
       " ('nueces', 'DP3CS00')]"
      ]
     },
     "execution_count": 12,
     "metadata": {},
     "output_type": "execute_result"
    }
   ],
   "source": [
    "# Lo intenta etiquetar, pero se equivoca a veces\n",
    "taggear('Pepito come brownies de nueces', 'hmm')"
   ]
  },
  {
   "cell_type": "code",
   "execution_count": 13,
   "id": "abb4b69e",
   "metadata": {},
   "outputs": [
    {
     "data": {
      "text/plain": [
       "[('maría', 'NP00000'),\n",
       " ('tiene', 'VAIS3S0'),\n",
       " ('una', 'VMIS3S0'),\n",
       " ('jaula', 'NMCS000'),\n",
       " ('de', 'SP000'),\n",
       " ('niños', 'DP3CS00')]"
      ]
     },
     "execution_count": 13,
     "metadata": {},
     "output_type": "execute_result"
    }
   ],
   "source": [
    "taggear('maría tiene una jaula de niños', 'hmm')"
   ]
  },
  {
   "cell_type": "code",
   "execution_count": 14,
   "id": "5324ca6d",
   "metadata": {},
   "outputs": [],
   "source": [
    "# Entrenamos manualmente el corpus corrigiendo los tags\n",
    "corpus_fix = [\n",
    "   [('maría', 'PP3FSA00'),\n",
    "   ('tiene', 'VMIP3S0'),\n",
    "   ('una', 'MCFS00'),\n",
    "   ('jaula', 'NCFS00'),\n",
    "   ('de', 'SP000'),\n",
    "   ('niños', 'NCMP000')] \n",
    "]"
   ]
  },
  {
   "cell_type": "code",
   "execution_count": 15,
   "id": "a62fec0f",
   "metadata": {},
   "outputs": [],
   "source": [
    "hmm = hmm.train(corpus_fix)"
   ]
  },
  {
   "cell_type": "code",
   "execution_count": 16,
   "id": "96caf531",
   "metadata": {},
   "outputs": [
    {
     "data": {
      "text/plain": [
       "[('Pepe', 'PP3FSA00'),\n",
       " ('come', 'VMIP3S0'),\n",
       " ('macarrones', 'MCFS00'),\n",
       " ('con', 'NCFS00'),\n",
       " ('chocolate', 'SP000')]"
      ]
     },
     "execution_count": 16,
     "metadata": {},
     "output_type": "execute_result"
    }
   ],
   "source": [
    "taggear('Pepe come macarrones con chocolate', 'hmm')"
   ]
  },
  {
   "cell_type": "code",
   "execution_count": 17,
   "id": "3d5c9f0e",
   "metadata": {},
   "outputs": [
    {
     "data": {
      "text/plain": [
       "[('Eustaquio', 'PP3FSA00'),\n",
       " ('roba', 'VMIP3S0'),\n",
       " ('gallinas', 'MCFS00'),\n",
       " ('en', 'NCFS00'),\n",
       " ('el', 'SP000'),\n",
       " ('monte', 'NCMP000')]"
      ]
     },
     "execution_count": 17,
     "metadata": {},
     "output_type": "execute_result"
    }
   ],
   "source": [
    "taggear('Eustaquio roba gallinas en el monte', 'hmm')"
   ]
  },
  {
   "cell_type": "code",
   "execution_count": 18,
   "id": "90a66444",
   "metadata": {},
   "outputs": [
    {
     "data": {
      "text/plain": [
       "[('Hermenegilda', 'PP3FSA00'),\n",
       " ('huele', 'VMIP3S0'),\n",
       " ('galletas', 'MCFS00'),\n",
       " ('en', 'NCFS00'),\n",
       " ('el', 'SP000'),\n",
       " ('coche', 'NCMP000')]"
      ]
     },
     "execution_count": 18,
     "metadata": {},
     "output_type": "execute_result"
    }
   ],
   "source": [
    "taggear('Hermenegilda huele galletas en el coche', 'hmm')"
   ]
  },
  {
   "cell_type": "code",
   "execution_count": 19,
   "id": "6cd96f52",
   "metadata": {},
   "outputs": [],
   "source": [
    "# Lo entrenamos con el CSS ESP de arriba\n",
    "hmm = hmm.train(cess_esp.tagged_sents())"
   ]
  },
  {
   "cell_type": "code",
   "execution_count": 20,
   "id": "8586b8bb",
   "metadata": {},
   "outputs": [
    {
     "data": {
      "text/plain": [
       "[('El', 'da0ms0'),\n",
       " ('niño', 'ncms000'),\n",
       " ('tiene', 'vmip3s0'),\n",
       " ('unos', 'di0mp0'),\n",
       " ('zapatos', 'ncmp000'),\n",
       " ('rojos', 'aq0mp0')]"
      ]
     },
     "execution_count": 20,
     "metadata": {},
     "output_type": "execute_result"
    }
   ],
   "source": [
    "# Ahora los tagguea con el corpus de la información de CSS_ESP\n",
    "taggear('El niño tiene unos zapatos rojos', 'hmm')"
   ]
  },
  {
   "cell_type": "code",
   "execution_count": 21,
   "id": "c218b2bb",
   "metadata": {},
   "outputs": [],
   "source": [
    "# TAGGER para ver que pesona tiene QUÉ objeto (QUIEN, ACCION Y QUE)\n",
    "reglas = '''\n",
    "Quien: { <sn.e-SUJ> | <np.*> }\n",
    "Accion: <Quien> { <vm.*> }\n",
    "Que: <Accion> <di.*> { <nc.*> <aq0.*> }\n",
    "Que: { <nc.*> }\n",
    "'''\n",
    "\n",
    "parser = nltk.RegexpParser(reglas)"
   ]
  },
  {
   "cell_type": "code",
   "execution_count": 22,
   "id": "a30d3691",
   "metadata": {},
   "outputs": [
    {
     "data": {
      "image/svg+xml": [
       "<svg baseProfile=\"full\" height=\"168px\" preserveAspectRatio=\"xMidYMid meet\" style=\"font-family: times, serif; font-weight: normal; font-style: normal; font-size: 16px;\" version=\"1.1\" viewBox=\"0,0,352.0,168.0\" width=\"352px\" xmlns=\"http://www.w3.org/2000/svg\" xmlns:ev=\"http://www.w3.org/2001/xml-events\" xmlns:xlink=\"http://www.w3.org/1999/xlink\"><defs /><svg width=\"100%\" x=\"0\" y=\"0px\"><defs /><text text-anchor=\"middle\" x=\"50%\" y=\"16px\">S</text></svg><svg width=\"22.7273%\" x=\"0%\" y=\"48px\"><defs /><svg width=\"100%\" x=\"0\" y=\"0px\"><defs /><text text-anchor=\"middle\" x=\"50%\" y=\"16px\">Quien</text></svg><svg width=\"100%\" x=\"0%\" y=\"48px\"><defs /><svg width=\"100%\" x=\"0\" y=\"0px\"><defs /><text text-anchor=\"middle\" x=\"50%\" y=\"16px\">Maria</text></svg><svg width=\"100%\" x=\"0%\" y=\"48px\"><defs /><svg width=\"100%\" x=\"0\" y=\"0px\"><defs /><text text-anchor=\"middle\" x=\"50%\" y=\"16px\">sn.e-SUJ</text></svg></svg><line stroke=\"black\" x1=\"50%\" x2=\"50%\" y1=\"19.2px\" y2=\"48px\" /></svg><line stroke=\"black\" x1=\"50%\" x2=\"50%\" y1=\"19.2px\" y2=\"48px\" /></svg><line stroke=\"black\" x1=\"50%\" x2=\"11.3636%\" y1=\"19.2px\" y2=\"48px\" /><svg width=\"20.4545%\" x=\"22.7273%\" y=\"48px\"><defs /><svg width=\"100%\" x=\"0\" y=\"0px\"><defs /><text text-anchor=\"middle\" x=\"50%\" y=\"16px\">Accion</text></svg><svg width=\"100%\" x=\"0%\" y=\"48px\"><defs /><svg width=\"100%\" x=\"0\" y=\"0px\"><defs /><text text-anchor=\"middle\" x=\"50%\" y=\"16px\">tiene</text></svg><svg width=\"100%\" x=\"0%\" y=\"48px\"><defs /><svg width=\"100%\" x=\"0\" y=\"0px\"><defs /><text text-anchor=\"middle\" x=\"50%\" y=\"16px\">vmip3s0</text></svg></svg><line stroke=\"black\" x1=\"50%\" x2=\"50%\" y1=\"19.2px\" y2=\"48px\" /></svg><line stroke=\"black\" x1=\"50%\" x2=\"50%\" y1=\"19.2px\" y2=\"48px\" /></svg><line stroke=\"black\" x1=\"50%\" x2=\"32.9545%\" y1=\"19.2px\" y2=\"48px\" /><svg width=\"18.1818%\" x=\"43.1818%\" y=\"48px\"><defs /><svg width=\"100%\" x=\"0\" y=\"0px\"><defs /><text text-anchor=\"middle\" x=\"50%\" y=\"16px\">unos</text></svg><svg width=\"100%\" x=\"0%\" y=\"48px\"><defs /><svg width=\"100%\" x=\"0\" y=\"0px\"><defs /><text text-anchor=\"middle\" x=\"50%\" y=\"16px\">di0mp0</text></svg></svg><line stroke=\"black\" x1=\"50%\" x2=\"50%\" y1=\"19.2px\" y2=\"48px\" /></svg><line stroke=\"black\" x1=\"50%\" x2=\"52.2727%\" y1=\"19.2px\" y2=\"48px\" /><svg width=\"38.6364%\" x=\"61.3636%\" y=\"48px\"><defs /><svg width=\"100%\" x=\"0\" y=\"0px\"><defs /><text text-anchor=\"middle\" x=\"50%\" y=\"16px\">Que</text></svg><svg width=\"52.9412%\" x=\"0%\" y=\"48px\"><defs /><svg width=\"100%\" x=\"0\" y=\"0px\"><defs /><text text-anchor=\"middle\" x=\"50%\" y=\"16px\">zapatos</text></svg><svg width=\"100%\" x=\"0%\" y=\"48px\"><defs /><svg width=\"100%\" x=\"0\" y=\"0px\"><defs /><text text-anchor=\"middle\" x=\"50%\" y=\"16px\">ncmp000</text></svg></svg><line stroke=\"black\" x1=\"50%\" x2=\"50%\" y1=\"19.2px\" y2=\"48px\" /></svg><line stroke=\"black\" x1=\"50%\" x2=\"26.4706%\" y1=\"19.2px\" y2=\"48px\" /><svg width=\"47.0588%\" x=\"52.9412%\" y=\"48px\"><defs /><svg width=\"100%\" x=\"0\" y=\"0px\"><defs /><text text-anchor=\"middle\" x=\"50%\" y=\"16px\">rojos</text></svg><svg width=\"100%\" x=\"0%\" y=\"48px\"><defs /><svg width=\"100%\" x=\"0\" y=\"0px\"><defs /><text text-anchor=\"middle\" x=\"50%\" y=\"16px\">aq0mp0</text></svg></svg><line stroke=\"black\" x1=\"50%\" x2=\"50%\" y1=\"19.2px\" y2=\"48px\" /></svg><line stroke=\"black\" x1=\"50%\" x2=\"76.4706%\" y1=\"19.2px\" y2=\"48px\" /></svg><line stroke=\"black\" x1=\"50%\" x2=\"80.6818%\" y1=\"19.2px\" y2=\"48px\" /></svg>"
      ],
      "text/plain": [
       "Tree('S', [Tree('Quien', [('Maria', 'sn.e-SUJ')]), Tree('Accion', [('tiene', 'vmip3s0')]), ('unos', 'di0mp0'), Tree('Que', [('zapatos', 'ncmp000'), ('rojos', 'aq0mp0')])])"
      ]
     },
     "execution_count": 22,
     "metadata": {},
     "output_type": "execute_result"
    }
   ],
   "source": [
    "frase_test = parser.parse(taggear('Maria tiene unos zapatos rojos', 'hmm'))\n",
    "frase_test"
   ]
  },
  {
   "cell_type": "code",
   "execution_count": 23,
   "id": "e87573f5",
   "metadata": {
    "scrolled": true
   },
   "outputs": [
    {
     "name": "stdout",
     "output_type": "stream",
     "text": [
      "(S\n",
      "  (Quien Maria/sn.e-SUJ)\n",
      "  (Accion tiene/vmip3s0)\n",
      "  unos/di0mp0\n",
      "  (Que zapatos/ncmp000 rojos/aq0mp0))\n"
     ]
    }
   ],
   "source": [
    "print(frase_test)"
   ]
  },
  {
   "cell_type": "code",
   "execution_count": 24,
   "id": "2dcb7d54",
   "metadata": {},
   "outputs": [],
   "source": [
    "def extrae_info(_frase):\n",
    "    \n",
    "    tags = taggear(_frase, 'hmm')\n",
    "    parseo = parser.parse(tags)\n",
    "    \n",
    "    result = {}\n",
    "    \n",
    "    for nodo in parseo:\n",
    "        if type(nodo) != tuple:\n",
    "            #print('NODO', nodo, 'Tipo', type(nodo))\n",
    "            \n",
    "            label = nodo.label()\n",
    "            \n",
    "            info = ''\n",
    "            for elm in nodo:\n",
    "                palabra, tag = elm\n",
    "                info += palabra + ' '\n",
    "                \n",
    "                result[label] = info.strip()\n",
    "            #print('LABEL', label, 'ELEMENTS', elements)\n",
    "    \n",
    "    return result"
   ]
  },
  {
   "cell_type": "code",
   "execution_count": 25,
   "id": "d1dc2f0e",
   "metadata": {},
   "outputs": [
    {
     "data": {
      "text/plain": [
       "{'Quien': 'María', 'Accion': 'tiene', 'Que': 'coche rojo'}"
      ]
     },
     "execution_count": 25,
     "metadata": {},
     "output_type": "execute_result"
    }
   ],
   "source": [
    "extrae_info('María tiene un coche rojo')"
   ]
  },
  {
   "cell_type": "markdown",
   "id": "77494a22",
   "metadata": {},
   "source": [
    "Caso práctico: Una importante cadena de restaurantes quiere integrar un  chat de pedidos, asi los clientes solo tendran que escribir lo que quieren y se realiza el pedido.\n",
    "- 1 array que contenga elemento y cantidad pedida. Este sría un posible resultado:\n",
    "\n",
    "[\n",
    "{item: pizza, tipo: barbacoa, cantidad:1},\n",
    "{item: cocacola, tipo: zero, cantidad:2}\n",
    "]"
   ]
  },
  {
   "cell_type": "code",
   "execution_count": null,
   "id": "90359b8a",
   "metadata": {},
   "outputs": [],
   "source": []
  }
 ],
 "metadata": {
  "kernelspec": {
   "display_name": "Python 3 (ipykernel)",
   "language": "python",
   "name": "python3"
  },
  "language_info": {
   "codemirror_mode": {
    "name": "ipython",
    "version": 3
   },
   "file_extension": ".py",
   "mimetype": "text/x-python",
   "name": "python",
   "nbconvert_exporter": "python",
   "pygments_lexer": "ipython3",
   "version": "3.10.9"
  }
 },
 "nbformat": 4,
 "nbformat_minor": 5
}
