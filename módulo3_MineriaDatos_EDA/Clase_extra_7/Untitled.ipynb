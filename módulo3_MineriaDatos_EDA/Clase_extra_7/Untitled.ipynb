{
 "cells": [
  {
   "cell_type": "code",
   "execution_count": 3,
   "id": "b8e869f1",
   "metadata": {},
   "outputs": [
    {
     "name": "stdout",
     "output_type": "stream",
     "text": [
      "Ciutadella, Menorca, Illes Balears, España\n",
      "Latitude =  40.0004404 \n",
      "\n",
      "Longitude =  3.8352372\n"
     ]
    }
   ],
   "source": [
    "# importing geopy library\n",
    "from geopy.geocoders import Nominatim\n",
    " \n",
    "# calling the Nominatim tool\n",
    "loc = Nominatim(user_agent=\"GetLoc\")\n",
    " \n",
    "# entering the location name\n",
    "getLoc = loc.geocode(\"Ciudadela de Menorca\")\n",
    " \n",
    "# printing address\n",
    "print(getLoc.address)\n",
    " \n",
    "# printing latitude and longitude\n",
    "print(\"Latitude = \", getLoc.latitude, \"\\n\")\n",
    "print(\"Longitude = \", getLoc.longitude)"
   ]
  },
  {
   "cell_type": "code",
   "execution_count": null,
   "id": "6dc891a1",
   "metadata": {},
   "outputs": [],
   "source": []
  }
 ],
 "metadata": {
  "kernelspec": {
   "display_name": "Python 3 (ipykernel)",
   "language": "python",
   "name": "python3"
  },
  "language_info": {
   "codemirror_mode": {
    "name": "ipython",
    "version": 3
   },
   "file_extension": ".py",
   "mimetype": "text/x-python",
   "name": "python",
   "nbconvert_exporter": "python",
   "pygments_lexer": "ipython3",
   "version": "3.10.9"
  }
 },
 "nbformat": 4,
 "nbformat_minor": 5
}
