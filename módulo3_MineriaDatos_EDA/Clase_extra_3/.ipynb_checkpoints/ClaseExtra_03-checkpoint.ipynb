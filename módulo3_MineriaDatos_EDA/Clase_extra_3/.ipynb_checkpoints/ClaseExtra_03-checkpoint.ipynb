{
 "cells": [
  {
   "cell_type": "markdown",
   "id": "5d2ad8d0",
   "metadata": {},
   "source": [
    "De el enlace, es un JSON muy grande:\n",
    "* https://servicios.ine.es/wstempus/js/es/DATOS_TABLA/33791?tip=AM\n",
    "* Descargar la información\n",
    "* Exponerla en un DataFrame"
   ]
  },
  {
   "cell_type": "code",
   "execution_count": 1,
   "id": "da30a006",
   "metadata": {},
   "outputs": [
    {
     "name": "stdout",
     "output_type": "stream",
     "text": [
      "              COD                                             Nombre  \\\n",
      "0       PC5694998                  Dato base. Total. Girona. Total.    \n",
      "1       PC5694997                 Dato base. Total. Girona. España.    \n",
      "2       PC5694996             Dato base. Total. Girona. Extranjero.    \n",
      "3       PC5694967    Dato base. Total. Girona. Europa (sin España).    \n",
      "4       PC5694966        Dato base. Total. Girona. UE28 sin España.    \n",
      "...           ...                                                ...   \n",
      "26635   PC4743757              Mujeres. Vilopriu. China. Dato base.    \n",
      "26636   PC4743756           Mujeres. Vilopriu. Pakistán. Dato base.    \n",
      "26637  PC22759807  Mujeres. Vilopriu. UE27_2020 sin España. Dato ...   \n",
      "26638   PC4743749            Mujeres. Vilopriu. Oceanía. Dato base.    \n",
      "26639  PC22759806  Mujeres. Vilopriu. Europa menos UE27_2020. Dat...   \n",
      "\n",
      "      T3_Unidad T3_Escala                                           MetaData  \\\n",
      "0      Personas            [{'Id': 72, 'Variable': {'Id': 3, 'Nombre': 'T...   \n",
      "1      Personas            [{'Id': 72, 'Variable': {'Id': 3, 'Nombre': 'T...   \n",
      "2      Personas            [{'Id': 72, 'Variable': {'Id': 3, 'Nombre': 'T...   \n",
      "3      Personas            [{'Id': 72, 'Variable': {'Id': 3, 'Nombre': 'T...   \n",
      "4      Personas            [{'Id': 72, 'Variable': {'Id': 3, 'Nombre': 'T...   \n",
      "...         ...       ...                                                ...   \n",
      "26635  Personas            [{'Id': 453, 'Variable': {'Id': 18, 'Nombre': ...   \n",
      "26636  Personas            [{'Id': 453, 'Variable': {'Id': 18, 'Nombre': ...   \n",
      "26637  Personas            [{'Id': 453, 'Variable': {'Id': 18, 'Nombre': ...   \n",
      "26638  Personas            [{'Id': 453, 'Variable': {'Id': 18, 'Nombre': ...   \n",
      "26639  Personas            [{'Id': 453, 'Variable': {'Id': 18, 'Nombre': ...   \n",
      "\n",
      "                                                    Data  \n",
      "0      [{'Fecha': '2022-01-01T00:00:00.000+01:00', 'T...  \n",
      "1      [{'Fecha': '2022-01-01T00:00:00.000+01:00', 'T...  \n",
      "2      [{'Fecha': '2022-01-01T00:00:00.000+01:00', 'T...  \n",
      "3      [{'Fecha': '2022-01-01T00:00:00.000+01:00', 'T...  \n",
      "4      [{'Fecha': '2020-01-01T00:00:00.000+01:00', 'T...  \n",
      "...                                                  ...  \n",
      "26635  [{'Fecha': '2022-01-01T00:00:00.000+01:00', 'T...  \n",
      "26636  [{'Fecha': '2022-01-01T00:00:00.000+01:00', 'T...  \n",
      "26637  [{'Fecha': '2022-01-01T00:00:00.000+01:00', 'T...  \n",
      "26638  [{'Fecha': '2022-01-01T00:00:00.000+01:00', 'T...  \n",
      "26639  [{'Fecha': '2022-01-01T00:00:00.000+01:00', 'T...  \n",
      "\n",
      "[26640 rows x 6 columns]\n"
     ]
    }
   ],
   "source": [
    "import requests\n",
    "import pandas as pd\n",
    "import mysql.connector\n",
    "\n",
    "url = \"https://servicios.ine.es/wstempus/js/es/DATOS_TABLA/33791?tip=AM\"\n",
    "\n",
    "# Realizar la solicitud GET a la API\n",
    "response = requests.get(url)\n",
    "\n",
    "# Obtener los datos de la respuesta en formato JSON\n",
    "data = response.json()\n",
    "\n",
    "# Convertir los datos en un dataframe\n",
    "df = pd.DataFrame.from_records(data, columns=data[0].keys())\n",
    "\n",
    "# Mostrar el dataframe\n",
    "print(df)"
   ]
  },
  {
   "cell_type": "markdown",
   "id": "586c36bc",
   "metadata": {},
   "source": [
    "__NUEVO EJERCICIO__\n",
    "* Registrarse en http://www.air-port-codes.com\n",
    "* Sacar dataframe con la información"
   ]
  },
  {
   "cell_type": "code",
   "execution_count": null,
   "id": "38b0febb",
   "metadata": {},
   "outputs": [],
   "source": [
    "import requests\n",
    "import pandas as pd\n",
    "\n",
    "url = \"https://www.air-port-codes.com/api/v1/multi?term=Spain\"\n",
    "auth = \"9e2c0cd874\"\n",
    "secret = \"29ec10f2ebc9f5d\"\n",
    "\n",
    "headers = {\n",
    "    \"APC-Auth\": auth,\n",
    "    \"APC-Auth-Secret\": secret\n",
    "}\n",
    "\n",
    "response = requests.post(url, headers=headers)\n",
    "\n",
    "data = response.json()\n",
    "df = pd.DataFrame(data['airports'])\n",
    "df"
   ]
  },
  {
   "cell_type": "code",
   "execution_count": null,
   "id": "c25f677d",
   "metadata": {},
   "outputs": [],
   "source": [
    "data['airports']"
   ]
  },
  {
   "cell_type": "code",
   "execution_count": null,
   "id": "6dbd57ed",
   "metadata": {},
   "outputs": [],
   "source": [
    "url2 = \"https://www.air-port-codes.com/api/v1/countries\"\n",
    "\n",
    "headers2 = {\n",
    "    \"APC-Auth\": auth,\n",
    "    \"APC-Auth-Secret\": secret\n",
    "}\n",
    "\n",
    "response = requests.get(url2, headers=headers2)\n",
    "\n",
    "data2 = response.json()\n",
    "df2 = pd.DataFrame(data2['countries'])\n",
    "df2"
   ]
  },
  {
   "cell_type": "code",
   "execution_count": null,
   "id": "1e5999c3",
   "metadata": {},
   "outputs": [],
   "source": [
    "data2"
   ]
  },
  {
   "cell_type": "code",
   "execution_count": null,
   "id": "0a060b6c",
   "metadata": {},
   "outputs": [],
   "source": [
    "nombre = data2['countries']\n",
    "nombre[1]['name']"
   ]
  },
  {
   "cell_type": "code",
   "execution_count": null,
   "id": "dbed3eb3",
   "metadata": {},
   "outputs": [],
   "source": [
    "nombres_paises = []\n",
    "for pais in data2['countries']:\n",
    "    nombres = pais['name']\n",
    "    nombres_paises.append(nombres)\n",
    "    \n",
    "nombres_paises"
   ]
  },
  {
   "cell_type": "code",
   "execution_count": null,
   "id": "e40d91d9",
   "metadata": {},
   "outputs": [
    {
     "name": "stdout",
     "output_type": "stream",
     "text": [
      "Expecting value: line 1 column 1 (char 0)\n",
      "Expecting value: line 1 column 1 (char 0)\n",
      "Expecting value: line 1 column 1 (char 0)\n",
      "Expecting value: line 1 column 1 (char 0)\n",
      "Expecting value: line 1 column 1 (char 0)\n",
      "Expecting value: line 1 column 1 (char 0)\n",
      "Expecting value: line 1 column 1 (char 0)\n",
      "Expecting value: line 1 column 1 (char 0)\n",
      "Expecting value: line 1 column 1 (char 0)\n"
     ]
    }
   ],
   "source": [
    "dataframes_paises = []\n",
    "for pais in nombres_paises:\n",
    "    try:\n",
    "        url = f\"https://www.air-port-codes.com/api/v1/multi?term={pais}\"\n",
    "        response = requests.get(url, headers=headers)\n",
    "        data3 = response.json()\n",
    "    \n",
    "        if 'airports' in data3:\n",
    "            df_pais = pd.DataFrame(data3['airports'])\n",
    "            dataframes_paises.append(df_pais)\n",
    "    except Exception as e:\n",
    "         print(e)\n",
    "    \n",
    "#Combinar los DataFrames de todos los países en uno solo\n",
    "#df_completo = pd.concat(dataframes_paises)"
   ]
  },
  {
   "cell_type": "code",
   "execution_count": null,
   "id": "56094b1c",
   "metadata": {},
   "outputs": [],
   "source": [
    "#df_completo"
   ]
  },
  {
   "cell_type": "code",
   "execution_count": null,
   "id": "b90a8971",
   "metadata": {},
   "outputs": [],
   "source": [
    "#MÉTODO NO EFICAZ\n",
    "\"\"\"nom_state = []\n",
    "\n",
    "for state in df_completo['state']:\n",
    "    state_name = state['name']\n",
    "    nom_state.append(state_name) \"\"\""
   ]
  },
  {
   "cell_type": "code",
   "execution_count": null,
   "id": "bbfc7ef7",
   "metadata": {},
   "outputs": [],
   "source": [
    "\"\"\" nom_country = []\n",
    "\n",
    "for country in df_completo['country']:\n",
    "    country_name = country['name']\n",
    "    nom_country.append(country_name) \"\"\""
   ]
  },
  {
   "cell_type": "code",
   "execution_count": null,
   "id": "8158f801",
   "metadata": {},
   "outputs": [],
   "source": [
    "\"\"\"df_completo['country'] = nom_country\n",
    "df_completo['state'] = nom_state \"\"\""
   ]
  },
  {
   "cell_type": "code",
   "execution_count": null,
   "id": "3455c138",
   "metadata": {},
   "outputs": [],
   "source": [
    "#df_completo"
   ]
  },
  {
   "cell_type": "code",
   "execution_count": null,
   "id": "618b08a3",
   "metadata": {},
   "outputs": [],
   "source": [
    "dataframes_paises[0]['country'][0]['name']"
   ]
  },
  {
   "cell_type": "code",
   "execution_count": null,
   "id": "c3651f1e",
   "metadata": {},
   "outputs": [],
   "source": [
    "#MÉTODO EFICAZ\n",
    "airports_clean = []\n",
    "\n",
    "for airport in dataframes_paises:\n",
    "    \n",
    "    airport['country_name'] = airport['country'][0]['name']\n",
    "    airport['country_code'] = airport['country'][0]['iso']\n",
    "    airport['state'] = airport['state'][0]['name']\n",
    "    del airport['country']\n",
    "    \n",
    "    airports_clean.append(airport)\n",
    "    \n",
    "airports_clean"
   ]
  },
  {
   "cell_type": "code",
   "execution_count": null,
   "id": "9ec72841",
   "metadata": {},
   "outputs": [],
   "source": [
    "df_airports = pd.concat(airports_clean, ignore_index=True)\n",
    "df_airports"
   ]
  },
  {
   "cell_type": "code",
   "execution_count": null,
   "id": "fe2aa859",
   "metadata": {},
   "outputs": [],
   "source": [
    "db = mysql.connector.connect(\n",
    "    host=\"localhost\",\n",
    "    user=\"root\",\n",
    "    password=\"Pepito.08\")"
   ]
  },
  {
   "cell_type": "code",
   "execution_count": null,
   "id": "1db54dff",
   "metadata": {},
   "outputs": [],
   "source": [
    "cursor = db.cursor()"
   ]
  },
  {
   "cell_type": "code",
   "execution_count": null,
   "id": "b8a9b901",
   "metadata": {},
   "outputs": [],
   "source": [
    "cursor.execute(\"CREATE DATABASE aeropuertos\")\n",
    "cursor.execute(\"USE aeropuertos\")\n",
    "cursor.execute(\"\"\"\n",
    "    CREATE TABLE airports (\n",
    "    name varchar(60),\n",
    "    city varchar(60),\n",
    "    iata char(3),\n",
    "    latitude varchar(11),\n",
    "    longitude varchar(11),\n",
    "    state varchar(60),\n",
    "    country_name varchar(60),\n",
    "    country_code char(2)\n",
    "    );\n",
    "\"\"\")\n"
   ]
  },
  {
   "cell_type": "code",
   "execution_count": null,
   "id": "12d51f25",
   "metadata": {},
   "outputs": [],
   "source": [
    "df_airports.keys()"
   ]
  },
  {
   "cell_type": "code",
   "execution_count": null,
   "id": "4c62694a",
   "metadata": {},
   "outputs": [],
   "source": [
    "df_airports['city']"
   ]
  },
  {
   "cell_type": "code",
   "execution_count": null,
   "id": "4670c9e4",
   "metadata": {},
   "outputs": [],
   "source": [
    "for airport in df_airports:\n",
    "    \n",
    "    #Limpiamos los nombres de las columnas\n",
    "    cols = ''\n",
    "    \n",
    "    #Recorremos las keys del objeto airport para obtener las columnas\n",
    "    for col in df_completo.keys():\n",
    "        #Para cada columna la guardamos en cols\n",
    "        #concatenando los valores y separando por ,\n",
    "        cols = cols + col + ', '\n",
    "        print(cols)\n",
    "    \n",
    "    # Borramos el espacio final y la última ,\n",
    "    cols = cols.strip()[:-1]\n",
    "        \n",
    "    vals = ''\n",
    "    \n",
    "    # Se repite el proceso de las columnas con los valores\n",
    "    for val in df_airports:\n",
    "        vals = vals + \"'\" + val + \"', \"\n",
    "    vals = vals.strip()[:-1]\n",
    "        \n",
    "    \n",
    "    # Se insertan las columnas y los valores en la query SQL\n",
    "    query = f\"\"\"\n",
    "        INSERT INTO \n",
    "            airports ({cols})\n",
    "        VALUES ({vals})\n",
    "            \"\"\"\n",
    "    \n",
    "    #Se ejecuta la query y se guarda la BDD\n",
    "    cursor.execute(query)\n",
    "    db.commit()"
   ]
  },
  {
   "cell_type": "code",
   "execution_count": null,
   "id": "c44d8bf7",
   "metadata": {},
   "outputs": [],
   "source": []
  }
 ],
 "metadata": {
  "kernelspec": {
   "display_name": "Python 3 (ipykernel)",
   "language": "python",
   "name": "python3"
  },
  "language_info": {
   "codemirror_mode": {
    "name": "ipython",
    "version": 3
   },
   "file_extension": ".py",
   "mimetype": "text/x-python",
   "name": "python",
   "nbconvert_exporter": "python",
   "pygments_lexer": "ipython3",
   "version": "3.10.9"
  }
 },
 "nbformat": 4,
 "nbformat_minor": 5
}
