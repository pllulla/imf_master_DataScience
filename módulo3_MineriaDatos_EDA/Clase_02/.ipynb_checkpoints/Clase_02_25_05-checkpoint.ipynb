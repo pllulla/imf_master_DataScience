{
 "cells": [
  {
   "cell_type": "code",
   "execution_count": 1,
   "id": "df9f3de4",
   "metadata": {},
   "outputs": [],
   "source": [
    "file = open('texto.txt')"
   ]
  },
  {
   "cell_type": "code",
   "execution_count": 2,
   "id": "b6f2b716",
   "metadata": {},
   "outputs": [],
   "source": [
    "#No enseñar nunca un archivo usando PRINT"
   ]
  },
  {
   "cell_type": "code",
   "execution_count": 3,
   "id": "488ab3ee",
   "metadata": {},
   "outputs": [],
   "source": [
    "file_txt = file.read()"
   ]
  },
  {
   "cell_type": "code",
   "execution_count": 4,
   "id": "c7f80def",
   "metadata": {},
   "outputs": [
    {
     "data": {
      "text/plain": [
       "['Lorem ipsum dolor sit amet, consectetur adipiscing elit. Nunc ac sapien sed neque imperdiet placerat. Maecenas hendrerit orci eget sodales tristique. Curabitur vehicula ante convallis, dapibus mauris id, tempor odio. Ut pulvinar, ex vel accumsan finibus, ante mi pulvinar nisl, quis varius tellus neque a nibh. Sed ut imperdiet ipsum. In sit amet sapien ac lorem semper vestibulum imperdiet imperdiet leo. Morbi aliquam eleifend gravida. Suspendisse potenti. Etiam vitae risus imperdiet nunc malesuada gravida. Praesent et rhoncus risus. In mollis nibh dapibus quam dictum rutrum.',\n",
       " '',\n",
       " 'Vivamus pellentesque efficitur urna aliquet euismod. Vivamus finibus purus et eros semper, et mollis velit aliquam. Donec pellentesque, felis at consectetur scelerisque, magna odio lacinia sem, non iaculis libero felis id metus. Curabitur ut dui in lorem porta lobortis et vel dui. Curabitur in dolor sit amet ligula aliquet molestie. Aenean laoreet ipsum non ante pulvinar consectetur in ut nisi. Etiam mattis scelerisque sollicitudin.',\n",
       " '',\n",
       " 'Ut sit amet est nunc. Suspendisse commodo metus vel odio ornare faucibus. Vestibulum laoreet sagittis rhoncus. In fermentum elit lacus, ac porttitor lacus lobortis sit amet. Duis vitae ipsum semper orci bibendum tincidunt. Nam neque lacus, tristique vitae bibendum vitae, tincidunt quis felis. Fusce sit amet imperdiet mi.',\n",
       " '',\n",
       " 'Phasellus faucibus scelerisque mi ut viverra. Morbi quam tellus, pharetra ut tortor eget, feugiat sodales urna. Suspendisse id nulla eget turpis scelerisque ultrices ut eget quam. Donec est nunc, feugiat porttitor nisl vitae, tincidunt suscipit ligula. Donec porttitor felis quis elit finibus feugiat. Maecenas dictum consectetur leo, at hendrerit tortor egestas at. Morbi nisl justo, ultrices id auctor eget, gravida dictum ex. Quisque sed molestie justo. Donec ornare lacus at ligula lobortis, a facilisis odio dictum.',\n",
       " '',\n",
       " 'Cras urna sapien, fringilla id enim sed, rhoncus vestibulum purus. In nisi dolor, sagittis eget massa et, finibus varius metus. Sed volutpat sapien quis enim bibendum dignissim. Maecenas leo augue, ornare nec consectetur sit amet, pulvinar in orci. Vestibulum in est metus. Ut volutpat bibendum dapibus. Sed convallis urna nisl, eget pellentesque lacus eleifend at. Suspendisse sit amet egestas nisl. Duis consequat sollicitudin leo, sed pretium orci iaculis et. Proin vitae libero sed ipsum blandit pretium. Morbi non suscipit felis. Aenean ligula eros, luctus sit amet sodales a, tristique in dui. Ut quis magna eget elit dictum rutrum pretium vel nulla. Vivamus gravida arcu ut tellus interdum dictum. Etiam feugiat mauris id est efficitur, ut laoreet quam luctus. ']"
      ]
     },
     "execution_count": 4,
     "metadata": {},
     "output_type": "execute_result"
    }
   ],
   "source": [
    "file_txt.split(\"\\n\")"
   ]
  },
  {
   "cell_type": "code",
   "execution_count": 5,
   "id": "96935ee8",
   "metadata": {},
   "outputs": [
    {
     "data": {
      "text/plain": [
       "['Lorem ipsum dolor sit amet, consectetur adipiscing elit. Nunc ac sapien sed neque imperdiet placerat. Maecenas hendrerit orci eget sodales tristique. Curabitur vehicula ante convallis, dapibus mauris id, tempor odio. Ut pulvinar, ex vel accumsan finibus, ante mi pulvinar nisl, quis varius tellus neque a nibh. Sed ut imperdiet ipsum. In sit amet sapien ac lorem semper vestibulum imperdiet imperdiet leo. Morbi aliquam eleifend gravida. Suspendisse potenti. Etiam vitae risus imperdiet nunc malesuada gravida. Praesent et rhoncus risus. In mollis nibh dapibus quam dictum rutrum.',\n",
       " 'Vivamus pellentesque efficitur urna aliquet euismod. Vivamus finibus purus et eros semper, et mollis velit aliquam. Donec pellentesque, felis at consectetur scelerisque, magna odio lacinia sem, non iaculis libero felis id metus. Curabitur ut dui in lorem porta lobortis et vel dui. Curabitur in dolor sit amet ligula aliquet molestie. Aenean laoreet ipsum non ante pulvinar consectetur in ut nisi. Etiam mattis scelerisque sollicitudin.',\n",
       " 'Ut sit amet est nunc. Suspendisse commodo metus vel odio ornare faucibus. Vestibulum laoreet sagittis rhoncus. In fermentum elit lacus, ac porttitor lacus lobortis sit amet. Duis vitae ipsum semper orci bibendum tincidunt. Nam neque lacus, tristique vitae bibendum vitae, tincidunt quis felis. Fusce sit amet imperdiet mi.',\n",
       " 'Phasellus faucibus scelerisque mi ut viverra. Morbi quam tellus, pharetra ut tortor eget, feugiat sodales urna. Suspendisse id nulla eget turpis scelerisque ultrices ut eget quam. Donec est nunc, feugiat porttitor nisl vitae, tincidunt suscipit ligula. Donec porttitor felis quis elit finibus feugiat. Maecenas dictum consectetur leo, at hendrerit tortor egestas at. Morbi nisl justo, ultrices id auctor eget, gravida dictum ex. Quisque sed molestie justo. Donec ornare lacus at ligula lobortis, a facilisis odio dictum.',\n",
       " 'Cras urna sapien, fringilla id enim sed, rhoncus vestibulum purus. In nisi dolor, sagittis eget massa et, finibus varius metus. Sed volutpat sapien quis enim bibendum dignissim. Maecenas leo augue, ornare nec consectetur sit amet, pulvinar in orci. Vestibulum in est metus. Ut volutpat bibendum dapibus. Sed convallis urna nisl, eget pellentesque lacus eleifend at. Suspendisse sit amet egestas nisl. Duis consequat sollicitudin leo, sed pretium orci iaculis et. Proin vitae libero sed ipsum blandit pretium. Morbi non suscipit felis. Aenean ligula eros, luctus sit amet sodales a, tristique in dui. Ut quis magna eget elit dictum rutrum pretium vel nulla. Vivamus gravida arcu ut tellus interdum dictum. Etiam feugiat mauris id est efficitur, ut laoreet quam luctus. ']"
      ]
     },
     "execution_count": 5,
     "metadata": {},
     "output_type": "execute_result"
    }
   ],
   "source": [
    "file_txt.split(\"\\n\\n\")"
   ]
  },
  {
   "cell_type": "code",
   "execution_count": 6,
   "id": "3c41f08f",
   "metadata": {},
   "outputs": [],
   "source": [
    "parrafos = file_txt.split(\"\\n\\n\")"
   ]
  },
  {
   "cell_type": "code",
   "execution_count": 7,
   "id": "987f3479",
   "metadata": {},
   "outputs": [
    {
     "data": {
      "text/plain": [
       "'Vivamus pellentesque efficitur urna aliquet euismod. Vivamus finibus purus et eros semper, et mollis velit aliquam. Donec pellentesque, felis at consectetur scelerisque, magna odio lacinia sem, non iaculis libero felis id metus. Curabitur ut dui in lorem porta lobortis et vel dui. Curabitur in dolor sit amet ligula aliquet molestie. Aenean laoreet ipsum non ante pulvinar consectetur in ut nisi. Etiam mattis scelerisque sollicitudin.'"
      ]
     },
     "execution_count": 7,
     "metadata": {},
     "output_type": "execute_result"
    }
   ],
   "source": [
    "parrafos[1]"
   ]
  },
  {
   "cell_type": "code",
   "execution_count": 8,
   "id": "01657ef8",
   "metadata": {},
   "outputs": [],
   "source": [
    "#Abrir CSV y leerlo\n",
    "csv = open('alumnos.csv', encoding='utf-8').read()"
   ]
  },
  {
   "cell_type": "code",
   "execution_count": 9,
   "id": "2eb48be5",
   "metadata": {},
   "outputs": [
    {
     "data": {
      "text/plain": [
       "'Nombre;Apellidos;Edad\\nPepito;Pérez;10\\nMaría;García;9\\nPablo;Picapiedra;11\\nHermenegilda;Villamor;11'"
      ]
     },
     "execution_count": 9,
     "metadata": {},
     "output_type": "execute_result"
    }
   ],
   "source": [
    "csv"
   ]
  },
  {
   "cell_type": "code",
   "execution_count": 10,
   "id": "60f81624",
   "metadata": {},
   "outputs": [],
   "source": [
    "#Necesitamos primero ver las filas y después las columnas\n",
    "csv_raw = csv.split('\\n')"
   ]
  },
  {
   "cell_type": "code",
   "execution_count": 11,
   "id": "146f3e9b",
   "metadata": {},
   "outputs": [
    {
     "data": {
      "text/plain": [
       "['Nombre;Apellidos;Edad',\n",
       " 'Pepito;Pérez;10',\n",
       " 'María;García;9',\n",
       " 'Pablo;Picapiedra;11',\n",
       " 'Hermenegilda;Villamor;11']"
      ]
     },
     "execution_count": 11,
     "metadata": {},
     "output_type": "execute_result"
    }
   ],
   "source": [
    "csv_raw"
   ]
  },
  {
   "cell_type": "code",
   "execution_count": 12,
   "id": "af579c6b",
   "metadata": {},
   "outputs": [],
   "source": [
    "#El csv en array\n",
    "csv_array = []\n",
    "\n",
    "for fila in csv_raw:\n",
    "    csv_array.append(fila.split(';'))"
   ]
  },
  {
   "cell_type": "code",
   "execution_count": 13,
   "id": "1b4239ef",
   "metadata": {},
   "outputs": [
    {
     "data": {
      "text/plain": [
       "[['Nombre', 'Apellidos', 'Edad'],\n",
       " ['Pepito', 'Pérez', '10'],\n",
       " ['María', 'García', '9'],\n",
       " ['Pablo', 'Picapiedra', '11'],\n",
       " ['Hermenegilda', 'Villamor', '11']]"
      ]
     },
     "execution_count": 13,
     "metadata": {},
     "output_type": "execute_result"
    }
   ],
   "source": [
    "csv_array"
   ]
  },
  {
   "cell_type": "code",
   "execution_count": 14,
   "id": "90f8794c",
   "metadata": {},
   "outputs": [
    {
     "data": {
      "text/html": [
       "<div>\n",
       "<style scoped>\n",
       "    .dataframe tbody tr th:only-of-type {\n",
       "        vertical-align: middle;\n",
       "    }\n",
       "\n",
       "    .dataframe tbody tr th {\n",
       "        vertical-align: top;\n",
       "    }\n",
       "\n",
       "    .dataframe thead th {\n",
       "        text-align: right;\n",
       "    }\n",
       "</style>\n",
       "<table border=\"1\" class=\"dataframe\">\n",
       "  <thead>\n",
       "    <tr style=\"text-align: right;\">\n",
       "      <th></th>\n",
       "      <th>Nombre</th>\n",
       "      <th>Apellidos</th>\n",
       "      <th>Edad</th>\n",
       "    </tr>\n",
       "  </thead>\n",
       "  <tbody>\n",
       "    <tr>\n",
       "      <th>0</th>\n",
       "      <td>Pepito</td>\n",
       "      <td>Pérez</td>\n",
       "      <td>10</td>\n",
       "    </tr>\n",
       "    <tr>\n",
       "      <th>1</th>\n",
       "      <td>María</td>\n",
       "      <td>García</td>\n",
       "      <td>9</td>\n",
       "    </tr>\n",
       "    <tr>\n",
       "      <th>2</th>\n",
       "      <td>Pablo</td>\n",
       "      <td>Picapiedra</td>\n",
       "      <td>11</td>\n",
       "    </tr>\n",
       "    <tr>\n",
       "      <th>3</th>\n",
       "      <td>Hermenegilda</td>\n",
       "      <td>Villamor</td>\n",
       "      <td>11</td>\n",
       "    </tr>\n",
       "  </tbody>\n",
       "</table>\n",
       "</div>"
      ],
      "text/plain": [
       "         Nombre   Apellidos Edad\n",
       "0        Pepito       Pérez   10\n",
       "1         María      García    9\n",
       "2         Pablo  Picapiedra   11\n",
       "3  Hermenegilda    Villamor   11"
      ]
     },
     "execution_count": 14,
     "metadata": {},
     "output_type": "execute_result"
    }
   ],
   "source": [
    "#Coger el array y mostrarlo como dataframe FORMA COMPLICADA!\n",
    "#del 1 al final como valores y la segunda indica que la 0 sea la columna (nombre, apellido, edad)\n",
    "import pandas as pd\n",
    "\n",
    "pd.DataFrame(csv_array[1:], columns=csv_array[0])"
   ]
  },
  {
   "cell_type": "code",
   "execution_count": 15,
   "id": "87f773d2",
   "metadata": {},
   "outputs": [
    {
     "data": {
      "text/html": [
       "<div>\n",
       "<style scoped>\n",
       "    .dataframe tbody tr th:only-of-type {\n",
       "        vertical-align: middle;\n",
       "    }\n",
       "\n",
       "    .dataframe tbody tr th {\n",
       "        vertical-align: top;\n",
       "    }\n",
       "\n",
       "    .dataframe thead th {\n",
       "        text-align: right;\n",
       "    }\n",
       "</style>\n",
       "<table border=\"1\" class=\"dataframe\">\n",
       "  <thead>\n",
       "    <tr style=\"text-align: right;\">\n",
       "      <th></th>\n",
       "      <th>Nombre</th>\n",
       "      <th>Apellidos</th>\n",
       "      <th>Edad</th>\n",
       "    </tr>\n",
       "  </thead>\n",
       "  <tbody>\n",
       "    <tr>\n",
       "      <th>0</th>\n",
       "      <td>Pepito</td>\n",
       "      <td>Pérez</td>\n",
       "      <td>10</td>\n",
       "    </tr>\n",
       "    <tr>\n",
       "      <th>1</th>\n",
       "      <td>María</td>\n",
       "      <td>García</td>\n",
       "      <td>9</td>\n",
       "    </tr>\n",
       "    <tr>\n",
       "      <th>2</th>\n",
       "      <td>Pablo</td>\n",
       "      <td>Picapiedra</td>\n",
       "      <td>11</td>\n",
       "    </tr>\n",
       "    <tr>\n",
       "      <th>3</th>\n",
       "      <td>Hermenegilda</td>\n",
       "      <td>Villamor</td>\n",
       "      <td>11</td>\n",
       "    </tr>\n",
       "  </tbody>\n",
       "</table>\n",
       "</div>"
      ],
      "text/plain": [
       "         Nombre   Apellidos  Edad\n",
       "0        Pepito       Pérez    10\n",
       "1         María      García     9\n",
       "2         Pablo  Picapiedra    11\n",
       "3  Hermenegilda    Villamor    11"
      ]
     },
     "execution_count": 15,
     "metadata": {},
     "output_type": "execute_result"
    }
   ],
   "source": [
    "#Forma RÁPIDA de abrir el csv como DataFrame\n",
    "pd.read_csv('./alumnos.csv', sep= ';')"
   ]
  },
  {
   "cell_type": "code",
   "execution_count": null,
   "id": "aecab25e",
   "metadata": {},
   "outputs": [],
   "source": []
  }
 ],
 "metadata": {
  "kernelspec": {
   "display_name": "Python 3 (ipykernel)",
   "language": "python",
   "name": "python3"
  },
  "language_info": {
   "codemirror_mode": {
    "name": "ipython",
    "version": 3
   },
   "file_extension": ".py",
   "mimetype": "text/x-python",
   "name": "python",
   "nbconvert_exporter": "python",
   "pygments_lexer": "ipython3",
   "version": "3.10.9"
  }
 },
 "nbformat": 4,
 "nbformat_minor": 5
}
