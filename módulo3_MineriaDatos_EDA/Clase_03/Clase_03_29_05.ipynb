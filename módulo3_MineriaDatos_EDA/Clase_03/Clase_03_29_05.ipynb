{
 "cells": [
  {
   "cell_type": "code",
   "execution_count": 1,
   "id": "09f173b7",
   "metadata": {},
   "outputs": [],
   "source": [
    "import docx2txt"
   ]
  },
  {
   "cell_type": "code",
   "execution_count": 2,
   "id": "4e516e21",
   "metadata": {},
   "outputs": [
    {
     "data": {
      "text/plain": [
       "'Lorem ipsum dolor sit amet, consectetur adipiscing elit. Nunc ac sapien sed neque imperdiet placerat. Maecenas hendrerit orci eget sodales tristique. Curabitur vehicula ante convallis, dapibus mauris id, tempor odio. Ut pulvinar, ex vel accumsan finibus, ante mi pulvinar nisl, quis varius tellus neque a nibh. Sed ut imperdiet ipsum. In sit amet sapien ac lorem semper vestibulum imperdiet imperdiet leo. Morbi aliquam eleifend gravida. Suspendisse potenti. Etiam vitae risus imperdiet nunc malesuada gravida. Praesent et rhoncus risus. In mollis nibh dapibus quam dictum rutrum. \\n\\nVivamus pellentesque efficitur urna aliquet euismod. Vivamus finibus purus et eros semper, et mollis velit aliquam. Donec pellentesque, felis at consectetur scelerisque, magna odio lacinia sem, non iaculis libero felis id metus. Curabitur ut dui in lorem porta lobortis et vel dui. Curabitur in dolor sit amet ligula aliquet molestie. Aenean laoreet ipsum non ante pulvinar consectetur in ut nisi. Etiam mattis scelerisque sollicitudin. \\n\\nUt sit amet est nunc. Suspendisse commodo metus vel odio ornare faucibus. Vestibulum laoreet sagittis rhoncus. In fermentum elit lacus, ac porttitor lacus lobortis sit amet. Duis vitae ipsum semper orci bibendum tincidunt. Nam neque lacus, tristique vitae bibendum vitae, tincidunt quis felis. Fusce sit amet imperdiet mi.'"
      ]
     },
     "execution_count": 2,
     "metadata": {},
     "output_type": "execute_result"
    }
   ],
   "source": [
    "docx2txt.process('./prueba1.docx')"
   ]
  },
  {
   "cell_type": "code",
   "execution_count": 3,
   "id": "9119aca1",
   "metadata": {},
   "outputs": [],
   "source": [
    "import requests"
   ]
  },
  {
   "cell_type": "code",
   "execution_count": 4,
   "id": "f083d390",
   "metadata": {},
   "outputs": [],
   "source": [
    "req = requests.get('https://www.thecocktaildb.com/api/json/v1/1/random.php')"
   ]
  },
  {
   "cell_type": "code",
   "execution_count": 5,
   "id": "6ae13f39",
   "metadata": {},
   "outputs": [
    {
     "data": {
      "text/plain": [
       "{'drinks': [{'idDrink': '178340',\n",
       "   'strDrink': 'Garibaldi Negroni',\n",
       "   'strDrinkAlternate': None,\n",
       "   'strTags': 'Orange',\n",
       "   'strVideo': None,\n",
       "   'strCategory': 'Cocktail',\n",
       "   'strIBA': None,\n",
       "   'strAlcoholic': 'Alcoholic',\n",
       "   'strGlass': 'Highball glass',\n",
       "   'strInstructions': 'Mix together in a shaker and garnish with a simple orange slice. Fill your vitamin C and cocktail fix at the same time!',\n",
       "   'strInstructionsES': None,\n",
       "   'strInstructionsDE': None,\n",
       "   'strInstructionsFR': None,\n",
       "   'strInstructionsIT': \"Mescolare in uno shaker e guarnire con una semplice fetta d'arancia. Riempi la tua dose di vitamina C e cocktail allo stesso tempo!\",\n",
       "   'strInstructionsZH-HANS': None,\n",
       "   'strInstructionsZH-HANT': None,\n",
       "   'strDrinkThumb': 'https://www.thecocktaildb.com/images/media/drink/kb4bjg1604179771.jpg',\n",
       "   'strIngredient1': 'Gin',\n",
       "   'strIngredient2': 'Campari',\n",
       "   'strIngredient3': 'Orange Juice',\n",
       "   'strIngredient4': 'Orange Peel',\n",
       "   'strIngredient5': None,\n",
       "   'strIngredient6': None,\n",
       "   'strIngredient7': None,\n",
       "   'strIngredient8': None,\n",
       "   'strIngredient9': None,\n",
       "   'strIngredient10': None,\n",
       "   'strIngredient11': None,\n",
       "   'strIngredient12': None,\n",
       "   'strIngredient13': None,\n",
       "   'strIngredient14': None,\n",
       "   'strIngredient15': None,\n",
       "   'strMeasure1': '30 ml',\n",
       "   'strMeasure2': '30 ml',\n",
       "   'strMeasure3': '90 ml',\n",
       "   'strMeasure4': 'Garnish with',\n",
       "   'strMeasure5': '',\n",
       "   'strMeasure6': '',\n",
       "   'strMeasure7': '',\n",
       "   'strMeasure8': None,\n",
       "   'strMeasure9': None,\n",
       "   'strMeasure10': None,\n",
       "   'strMeasure11': None,\n",
       "   'strMeasure12': None,\n",
       "   'strMeasure13': None,\n",
       "   'strMeasure14': None,\n",
       "   'strMeasure15': None,\n",
       "   'strImageSource': None,\n",
       "   'strImageAttribution': None,\n",
       "   'strCreativeCommonsConfirmed': 'No',\n",
       "   'dateModified': None}]}"
      ]
     },
     "execution_count": 5,
     "metadata": {},
     "output_type": "execute_result"
    }
   ],
   "source": [
    "req.json()"
   ]
  },
  {
   "cell_type": "code",
   "execution_count": 6,
   "id": "4280510f",
   "metadata": {},
   "outputs": [
    {
     "data": {
      "text/plain": [
       "200"
      ]
     },
     "execution_count": 6,
     "metadata": {},
     "output_type": "execute_result"
    }
   ],
   "source": [
    "req.status_code"
   ]
  },
  {
   "cell_type": "code",
   "execution_count": 7,
   "id": "50e83a2f",
   "metadata": {},
   "outputs": [
    {
     "data": {
      "text/plain": [
       "'{\"drinks\":[{\"idDrink\":\"178340\",\"strDrink\":\"Garibaldi Negroni\",\"strDrinkAlternate\":null,\"strTags\":\"Orange\",\"strVideo\":null,\"strCategory\":\"Cocktail\",\"strIBA\":null,\"strAlcoholic\":\"Alcoholic\",\"strGlass\":\"Highball glass\",\"strInstructions\":\"Mix together in a shaker and garnish with a simple orange slice. Fill your vitamin C and cocktail fix at the same time!\",\"strInstructionsES\":null,\"strInstructionsDE\":null,\"strInstructionsFR\":null,\"strInstructionsIT\":\"Mescolare in uno shaker e guarnire con una semplice fetta d\\'arancia. Riempi la tua dose di vitamina C e cocktail allo stesso tempo!\",\"strInstructionsZH-HANS\":null,\"strInstructionsZH-HANT\":null,\"strDrinkThumb\":\"https:\\\\/\\\\/www.thecocktaildb.com\\\\/images\\\\/media\\\\/drink\\\\/kb4bjg1604179771.jpg\",\"strIngredient1\":\"Gin\",\"strIngredient2\":\"Campari\",\"strIngredient3\":\"Orange Juice\",\"strIngredient4\":\"Orange Peel\",\"strIngredient5\":null,\"strIngredient6\":null,\"strIngredient7\":null,\"strIngredient8\":null,\"strIngredient9\":null,\"strIngredient10\":null,\"strIngredient11\":null,\"strIngredient12\":null,\"strIngredient13\":null,\"strIngredient14\":null,\"strIngredient15\":null,\"strMeasure1\":\"30 ml\",\"strMeasure2\":\"30 ml\",\"strMeasure3\":\"90 ml\",\"strMeasure4\":\"Garnish with\",\"strMeasure5\":\"\",\"strMeasure6\":\"\",\"strMeasure7\":\"\",\"strMeasure8\":null,\"strMeasure9\":null,\"strMeasure10\":null,\"strMeasure11\":null,\"strMeasure12\":null,\"strMeasure13\":null,\"strMeasure14\":null,\"strMeasure15\":null,\"strImageSource\":null,\"strImageAttribution\":null,\"strCreativeCommonsConfirmed\":\"No\",\"dateModified\":null}]}'"
      ]
     },
     "execution_count": 7,
     "metadata": {},
     "output_type": "execute_result"
    }
   ],
   "source": [
    "req.text"
   ]
  },
  {
   "cell_type": "code",
   "execution_count": 8,
   "id": "370841c7",
   "metadata": {},
   "outputs": [
    {
     "data": {
      "text/plain": [
       "{'drinks': [{'idDrink': '178340',\n",
       "   'strDrink': 'Garibaldi Negroni',\n",
       "   'strDrinkAlternate': None,\n",
       "   'strTags': 'Orange',\n",
       "   'strVideo': None,\n",
       "   'strCategory': 'Cocktail',\n",
       "   'strIBA': None,\n",
       "   'strAlcoholic': 'Alcoholic',\n",
       "   'strGlass': 'Highball glass',\n",
       "   'strInstructions': 'Mix together in a shaker and garnish with a simple orange slice. Fill your vitamin C and cocktail fix at the same time!',\n",
       "   'strInstructionsES': None,\n",
       "   'strInstructionsDE': None,\n",
       "   'strInstructionsFR': None,\n",
       "   'strInstructionsIT': \"Mescolare in uno shaker e guarnire con una semplice fetta d'arancia. Riempi la tua dose di vitamina C e cocktail allo stesso tempo!\",\n",
       "   'strInstructionsZH-HANS': None,\n",
       "   'strInstructionsZH-HANT': None,\n",
       "   'strDrinkThumb': 'https://www.thecocktaildb.com/images/media/drink/kb4bjg1604179771.jpg',\n",
       "   'strIngredient1': 'Gin',\n",
       "   'strIngredient2': 'Campari',\n",
       "   'strIngredient3': 'Orange Juice',\n",
       "   'strIngredient4': 'Orange Peel',\n",
       "   'strIngredient5': None,\n",
       "   'strIngredient6': None,\n",
       "   'strIngredient7': None,\n",
       "   'strIngredient8': None,\n",
       "   'strIngredient9': None,\n",
       "   'strIngredient10': None,\n",
       "   'strIngredient11': None,\n",
       "   'strIngredient12': None,\n",
       "   'strIngredient13': None,\n",
       "   'strIngredient14': None,\n",
       "   'strIngredient15': None,\n",
       "   'strMeasure1': '30 ml',\n",
       "   'strMeasure2': '30 ml',\n",
       "   'strMeasure3': '90 ml',\n",
       "   'strMeasure4': 'Garnish with',\n",
       "   'strMeasure5': '',\n",
       "   'strMeasure6': '',\n",
       "   'strMeasure7': '',\n",
       "   'strMeasure8': None,\n",
       "   'strMeasure9': None,\n",
       "   'strMeasure10': None,\n",
       "   'strMeasure11': None,\n",
       "   'strMeasure12': None,\n",
       "   'strMeasure13': None,\n",
       "   'strMeasure14': None,\n",
       "   'strMeasure15': None,\n",
       "   'strImageSource': None,\n",
       "   'strImageAttribution': None,\n",
       "   'strCreativeCommonsConfirmed': 'No',\n",
       "   'dateModified': None}]}"
      ]
     },
     "execution_count": 8,
     "metadata": {},
     "output_type": "execute_result"
    }
   ],
   "source": [
    "req.json()"
   ]
  },
  {
   "cell_type": "code",
   "execution_count": 9,
   "id": "da5c4e17",
   "metadata": {},
   "outputs": [],
   "source": [
    "req_json = req.json()"
   ]
  },
  {
   "cell_type": "code",
   "execution_count": 10,
   "id": "8a0d5459",
   "metadata": {},
   "outputs": [
    {
     "data": {
      "text/html": [
       "<div>\n",
       "<style scoped>\n",
       "    .dataframe tbody tr th:only-of-type {\n",
       "        vertical-align: middle;\n",
       "    }\n",
       "\n",
       "    .dataframe tbody tr th {\n",
       "        vertical-align: top;\n",
       "    }\n",
       "\n",
       "    .dataframe thead th {\n",
       "        text-align: right;\n",
       "    }\n",
       "</style>\n",
       "<table border=\"1\" class=\"dataframe\">\n",
       "  <thead>\n",
       "    <tr style=\"text-align: right;\">\n",
       "      <th></th>\n",
       "      <th>drinks</th>\n",
       "    </tr>\n",
       "  </thead>\n",
       "  <tbody>\n",
       "    <tr>\n",
       "      <th>0</th>\n",
       "      <td>{'idDrink': '178340', 'strDrink': 'Garibaldi N...</td>\n",
       "    </tr>\n",
       "  </tbody>\n",
       "</table>\n",
       "</div>"
      ],
      "text/plain": [
       "                                              drinks\n",
       "0  {'idDrink': '178340', 'strDrink': 'Garibaldi N..."
      ]
     },
     "execution_count": 10,
     "metadata": {},
     "output_type": "execute_result"
    }
   ],
   "source": [
    "import pandas as pd\n",
    "#nombre del coctail\n",
    "#categoria\n",
    "#vaso\n",
    "pd.DataFrame(req_json)"
   ]
  },
  {
   "cell_type": "code",
   "execution_count": 11,
   "id": "82da6ac7",
   "metadata": {},
   "outputs": [
    {
     "data": {
      "text/plain": [
       "Index(['drinks'], dtype='object')"
      ]
     },
     "execution_count": 11,
     "metadata": {},
     "output_type": "execute_result"
    }
   ],
   "source": [
    "cocktail = pd.DataFrame(req_json)\n",
    "cocktail.columns"
   ]
  },
  {
   "cell_type": "code",
   "execution_count": 12,
   "id": "bce5cd0c",
   "metadata": {},
   "outputs": [],
   "source": [
    "#El \n",
    "json_array = []\n",
    "\n",
    "for fila in req_json:\n",
    "    json_array.append(fila.split(';'))"
   ]
  },
  {
   "cell_type": "code",
   "execution_count": 20,
   "id": "19ae9c6c",
   "metadata": {},
   "outputs": [],
   "source": [
    "cocktail2 = []\n",
    "\n",
    "for i in range(0, 10):\n",
    "    req1 = requests.get('https://www.thecocktaildb.com/api/json/v1/1/random.php')\n",
    "    data = req1.json()\n",
    "    \n",
    "    template = {\n",
    "                \"nombre\": data['drinks'][0]['strDrink'],\n",
    "                \"categoria\": data['drinks'][0]['strCategory'],\n",
    "                \"vaso\": data['drinks'][0]['strGlass']\n",
    "    }\n",
    "    \n",
    "    cocktail2.append(template)"
   ]
  },
  {
   "cell_type": "code",
   "execution_count": 21,
   "id": "2d61f0b1",
   "metadata": {},
   "outputs": [
    {
     "data": {
      "text/html": [
       "<div>\n",
       "<style scoped>\n",
       "    .dataframe tbody tr th:only-of-type {\n",
       "        vertical-align: middle;\n",
       "    }\n",
       "\n",
       "    .dataframe tbody tr th {\n",
       "        vertical-align: top;\n",
       "    }\n",
       "\n",
       "    .dataframe thead th {\n",
       "        text-align: right;\n",
       "    }\n",
       "</style>\n",
       "<table border=\"1\" class=\"dataframe\">\n",
       "  <thead>\n",
       "    <tr style=\"text-align: right;\">\n",
       "      <th></th>\n",
       "      <th>nombre</th>\n",
       "      <th>categoria</th>\n",
       "      <th>vaso</th>\n",
       "    </tr>\n",
       "  </thead>\n",
       "  <tbody>\n",
       "    <tr>\n",
       "      <th>0</th>\n",
       "      <td>Death in the Afternoon</td>\n",
       "      <td>Cocktail</td>\n",
       "      <td>Margarita glass</td>\n",
       "    </tr>\n",
       "    <tr>\n",
       "      <th>1</th>\n",
       "      <td>Danbooka</td>\n",
       "      <td>Coffee / Tea</td>\n",
       "      <td>Coffee Mug</td>\n",
       "    </tr>\n",
       "    <tr>\n",
       "      <th>2</th>\n",
       "      <td>Absolutely Cranberry Smash</td>\n",
       "      <td>Ordinary Drink</td>\n",
       "      <td>Cocktail glass</td>\n",
       "    </tr>\n",
       "    <tr>\n",
       "      <th>3</th>\n",
       "      <td>Sherry Flip</td>\n",
       "      <td>Ordinary Drink</td>\n",
       "      <td>Nick and Nora Glass</td>\n",
       "    </tr>\n",
       "    <tr>\n",
       "      <th>4</th>\n",
       "      <td>Freddy Kruger</td>\n",
       "      <td>Shot</td>\n",
       "      <td>Shot glass</td>\n",
       "    </tr>\n",
       "    <tr>\n",
       "      <th>5</th>\n",
       "      <td>Banana Strawberry Shake</td>\n",
       "      <td>Shake</td>\n",
       "      <td>Highball Glass</td>\n",
       "    </tr>\n",
       "    <tr>\n",
       "      <th>6</th>\n",
       "      <td>Dubonnet Cocktail</td>\n",
       "      <td>Ordinary Drink</td>\n",
       "      <td>Cocktail glass</td>\n",
       "    </tr>\n",
       "    <tr>\n",
       "      <th>7</th>\n",
       "      <td>Dark Caipirinha</td>\n",
       "      <td>Cocktail</td>\n",
       "      <td>Highball glass</td>\n",
       "    </tr>\n",
       "    <tr>\n",
       "      <th>8</th>\n",
       "      <td>Bellini Martini</td>\n",
       "      <td>Ordinary Drink</td>\n",
       "      <td>Cocktail glass</td>\n",
       "    </tr>\n",
       "    <tr>\n",
       "      <th>9</th>\n",
       "      <td>Black and Brown</td>\n",
       "      <td>Beer</td>\n",
       "      <td>Beer pilsner</td>\n",
       "    </tr>\n",
       "  </tbody>\n",
       "</table>\n",
       "</div>"
      ],
      "text/plain": [
       "                       nombre       categoria                 vaso\n",
       "0      Death in the Afternoon        Cocktail      Margarita glass\n",
       "1                    Danbooka    Coffee / Tea           Coffee Mug\n",
       "2  Absolutely Cranberry Smash  Ordinary Drink       Cocktail glass\n",
       "3                 Sherry Flip  Ordinary Drink  Nick and Nora Glass\n",
       "4               Freddy Kruger            Shot           Shot glass\n",
       "5     Banana Strawberry Shake           Shake       Highball Glass\n",
       "6           Dubonnet Cocktail  Ordinary Drink       Cocktail glass\n",
       "7             Dark Caipirinha        Cocktail       Highball glass\n",
       "8             Bellini Martini  Ordinary Drink       Cocktail glass\n",
       "9             Black and Brown            Beer         Beer pilsner"
      ]
     },
     "execution_count": 21,
     "metadata": {},
     "output_type": "execute_result"
    }
   ],
   "source": [
    "pd.DataFrame(cocktail2)"
   ]
  },
  {
   "cell_type": "code",
   "execution_count": 22,
   "id": "79fceb60",
   "metadata": {},
   "outputs": [
    {
     "data": {
      "text/plain": [
       "dict_keys(['nombre', 'categoria', 'vaso'])"
      ]
     },
     "execution_count": 22,
     "metadata": {},
     "output_type": "execute_result"
    }
   ],
   "source": [
    "cocktail2[0].keys()"
   ]
  },
  {
   "cell_type": "code",
   "execution_count": 23,
   "id": "ffeaa61c",
   "metadata": {},
   "outputs": [
    {
     "data": {
      "text/plain": [
       "dict_keys(['idDrink', 'strDrink', 'strDrinkAlternate', 'strTags', 'strVideo', 'strCategory', 'strIBA', 'strAlcoholic', 'strGlass', 'strInstructions', 'strInstructionsES', 'strInstructionsDE', 'strInstructionsFR', 'strInstructionsIT', 'strInstructionsZH-HANS', 'strInstructionsZH-HANT', 'strDrinkThumb', 'strIngredient1', 'strIngredient2', 'strIngredient3', 'strIngredient4', 'strIngredient5', 'strIngredient6', 'strIngredient7', 'strIngredient8', 'strIngredient9', 'strIngredient10', 'strIngredient11', 'strIngredient12', 'strIngredient13', 'strIngredient14', 'strIngredient15', 'strMeasure1', 'strMeasure2', 'strMeasure3', 'strMeasure4', 'strMeasure5', 'strMeasure6', 'strMeasure7', 'strMeasure8', 'strMeasure9', 'strMeasure10', 'strMeasure11', 'strMeasure12', 'strMeasure13', 'strMeasure14', 'strMeasure15', 'strImageSource', 'strImageAttribution', 'strCreativeCommonsConfirmed', 'dateModified'])"
      ]
     },
     "execution_count": 23,
     "metadata": {},
     "output_type": "execute_result"
    }
   ],
   "source": [
    "data['drinks'][0].keys()"
   ]
  },
  {
   "cell_type": "code",
   "execution_count": 26,
   "id": "2e1bfba5",
   "metadata": {
    "scrolled": true
   },
   "outputs": [],
   "source": [
    "#Teneis que poniendo el nombre de la ciudad, dar la previsión del tiempo de 7 días de rainsum, maxtemp y mintemp\n",
    "#convertir longitud y latitud en ciuda o viceversa, buscar en pipy una librería para eso\n",
    "#almacenar con la libreria la ciudad en una variable y meterla en la URL para llamar la API\n",
    "req3 = requests.get('https://api.open-meteo.com/v1/forecast?latitude=40.42&longitude=-3.70&daily=temperature_2m_max,temperature_2m_min,rain_sum&current_weather=true&timezone=Europe%2FBerlin')\n",
    "meteo = req3.json()"
   ]
  },
  {
   "cell_type": "code",
   "execution_count": 27,
   "id": "733c17cb",
   "metadata": {},
   "outputs": [
    {
     "data": {
      "text/plain": [
       "dict_keys(['latitude', 'longitude', 'generationtime_ms', 'utc_offset_seconds', 'timezone', 'timezone_abbreviation', 'elevation', 'current_weather', 'daily_units', 'daily'])"
      ]
     },
     "execution_count": 27,
     "metadata": {},
     "output_type": "execute_result"
    }
   ],
   "source": [
    "meteo.keys()"
   ]
  },
  {
   "cell_type": "code",
   "execution_count": 28,
   "id": "ba2ded04",
   "metadata": {},
   "outputs": [
    {
     "data": {
      "text/html": [
       "<div>\n",
       "<style scoped>\n",
       "    .dataframe tbody tr th:only-of-type {\n",
       "        vertical-align: middle;\n",
       "    }\n",
       "\n",
       "    .dataframe tbody tr th {\n",
       "        vertical-align: top;\n",
       "    }\n",
       "\n",
       "    .dataframe thead th {\n",
       "        text-align: right;\n",
       "    }\n",
       "</style>\n",
       "<table border=\"1\" class=\"dataframe\">\n",
       "  <thead>\n",
       "    <tr style=\"text-align: right;\">\n",
       "      <th></th>\n",
       "      <th>latitude</th>\n",
       "      <th>longitude</th>\n",
       "      <th>generationtime_ms</th>\n",
       "      <th>utc_offset_seconds</th>\n",
       "      <th>timezone</th>\n",
       "      <th>timezone_abbreviation</th>\n",
       "      <th>elevation</th>\n",
       "      <th>current_weather</th>\n",
       "      <th>daily_units</th>\n",
       "      <th>daily</th>\n",
       "    </tr>\n",
       "  </thead>\n",
       "  <tbody>\n",
       "    <tr>\n",
       "      <th>temperature</th>\n",
       "      <td>40.42</td>\n",
       "      <td>-3.7</td>\n",
       "      <td>0.470996</td>\n",
       "      <td>7200</td>\n",
       "      <td>Europe/Berlin</td>\n",
       "      <td>CEST</td>\n",
       "      <td>667.0</td>\n",
       "      <td>21.9</td>\n",
       "      <td>NaN</td>\n",
       "      <td>NaN</td>\n",
       "    </tr>\n",
       "    <tr>\n",
       "      <th>windspeed</th>\n",
       "      <td>40.42</td>\n",
       "      <td>-3.7</td>\n",
       "      <td>0.470996</td>\n",
       "      <td>7200</td>\n",
       "      <td>Europe/Berlin</td>\n",
       "      <td>CEST</td>\n",
       "      <td>667.0</td>\n",
       "      <td>4.6</td>\n",
       "      <td>NaN</td>\n",
       "      <td>NaN</td>\n",
       "    </tr>\n",
       "    <tr>\n",
       "      <th>winddirection</th>\n",
       "      <td>40.42</td>\n",
       "      <td>-3.7</td>\n",
       "      <td>0.470996</td>\n",
       "      <td>7200</td>\n",
       "      <td>Europe/Berlin</td>\n",
       "      <td>CEST</td>\n",
       "      <td>667.0</td>\n",
       "      <td>162.0</td>\n",
       "      <td>NaN</td>\n",
       "      <td>NaN</td>\n",
       "    </tr>\n",
       "    <tr>\n",
       "      <th>weathercode</th>\n",
       "      <td>40.42</td>\n",
       "      <td>-3.7</td>\n",
       "      <td>0.470996</td>\n",
       "      <td>7200</td>\n",
       "      <td>Europe/Berlin</td>\n",
       "      <td>CEST</td>\n",
       "      <td>667.0</td>\n",
       "      <td>2</td>\n",
       "      <td>NaN</td>\n",
       "      <td>NaN</td>\n",
       "    </tr>\n",
       "    <tr>\n",
       "      <th>is_day</th>\n",
       "      <td>40.42</td>\n",
       "      <td>-3.7</td>\n",
       "      <td>0.470996</td>\n",
       "      <td>7200</td>\n",
       "      <td>Europe/Berlin</td>\n",
       "      <td>CEST</td>\n",
       "      <td>667.0</td>\n",
       "      <td>1</td>\n",
       "      <td>NaN</td>\n",
       "      <td>NaN</td>\n",
       "    </tr>\n",
       "    <tr>\n",
       "      <th>time</th>\n",
       "      <td>40.42</td>\n",
       "      <td>-3.7</td>\n",
       "      <td>0.470996</td>\n",
       "      <td>7200</td>\n",
       "      <td>Europe/Berlin</td>\n",
       "      <td>CEST</td>\n",
       "      <td>667.0</td>\n",
       "      <td>2023-05-30T13:00</td>\n",
       "      <td>iso8601</td>\n",
       "      <td>[2023-05-30, 2023-05-31, 2023-06-01, 2023-06-0...</td>\n",
       "    </tr>\n",
       "    <tr>\n",
       "      <th>temperature_2m_max</th>\n",
       "      <td>40.42</td>\n",
       "      <td>-3.7</td>\n",
       "      <td>0.470996</td>\n",
       "      <td>7200</td>\n",
       "      <td>Europe/Berlin</td>\n",
       "      <td>CEST</td>\n",
       "      <td>667.0</td>\n",
       "      <td>NaN</td>\n",
       "      <td>°C</td>\n",
       "      <td>[22.0, 24.2, 21.1, 22.1, 23.5, 25.6, 24.2]</td>\n",
       "    </tr>\n",
       "    <tr>\n",
       "      <th>temperature_2m_min</th>\n",
       "      <td>40.42</td>\n",
       "      <td>-3.7</td>\n",
       "      <td>0.470996</td>\n",
       "      <td>7200</td>\n",
       "      <td>Europe/Berlin</td>\n",
       "      <td>CEST</td>\n",
       "      <td>667.0</td>\n",
       "      <td>NaN</td>\n",
       "      <td>°C</td>\n",
       "      <td>[13.8, 14.0, 13.6, 14.2, 14.2, 15.6, 15.7]</td>\n",
       "    </tr>\n",
       "    <tr>\n",
       "      <th>rain_sum</th>\n",
       "      <td>40.42</td>\n",
       "      <td>-3.7</td>\n",
       "      <td>0.470996</td>\n",
       "      <td>7200</td>\n",
       "      <td>Europe/Berlin</td>\n",
       "      <td>CEST</td>\n",
       "      <td>667.0</td>\n",
       "      <td>NaN</td>\n",
       "      <td>mm</td>\n",
       "      <td>[0.0, 0.0, 0.0, 0.0, 0.0, 0.0, 0.0]</td>\n",
       "    </tr>\n",
       "  </tbody>\n",
       "</table>\n",
       "</div>"
      ],
      "text/plain": [
       "                    latitude  longitude  generationtime_ms  \\\n",
       "temperature            40.42       -3.7           0.470996   \n",
       "windspeed              40.42       -3.7           0.470996   \n",
       "winddirection          40.42       -3.7           0.470996   \n",
       "weathercode            40.42       -3.7           0.470996   \n",
       "is_day                 40.42       -3.7           0.470996   \n",
       "time                   40.42       -3.7           0.470996   \n",
       "temperature_2m_max     40.42       -3.7           0.470996   \n",
       "temperature_2m_min     40.42       -3.7           0.470996   \n",
       "rain_sum               40.42       -3.7           0.470996   \n",
       "\n",
       "                    utc_offset_seconds       timezone timezone_abbreviation  \\\n",
       "temperature                       7200  Europe/Berlin                  CEST   \n",
       "windspeed                         7200  Europe/Berlin                  CEST   \n",
       "winddirection                     7200  Europe/Berlin                  CEST   \n",
       "weathercode                       7200  Europe/Berlin                  CEST   \n",
       "is_day                            7200  Europe/Berlin                  CEST   \n",
       "time                              7200  Europe/Berlin                  CEST   \n",
       "temperature_2m_max                7200  Europe/Berlin                  CEST   \n",
       "temperature_2m_min                7200  Europe/Berlin                  CEST   \n",
       "rain_sum                          7200  Europe/Berlin                  CEST   \n",
       "\n",
       "                    elevation   current_weather daily_units  \\\n",
       "temperature             667.0              21.9         NaN   \n",
       "windspeed               667.0               4.6         NaN   \n",
       "winddirection           667.0             162.0         NaN   \n",
       "weathercode             667.0                 2         NaN   \n",
       "is_day                  667.0                 1         NaN   \n",
       "time                    667.0  2023-05-30T13:00     iso8601   \n",
       "temperature_2m_max      667.0               NaN          °C   \n",
       "temperature_2m_min      667.0               NaN          °C   \n",
       "rain_sum                667.0               NaN          mm   \n",
       "\n",
       "                                                                daily  \n",
       "temperature                                                       NaN  \n",
       "windspeed                                                         NaN  \n",
       "winddirection                                                     NaN  \n",
       "weathercode                                                       NaN  \n",
       "is_day                                                            NaN  \n",
       "time                [2023-05-30, 2023-05-31, 2023-06-01, 2023-06-0...  \n",
       "temperature_2m_max         [22.0, 24.2, 21.1, 22.1, 23.5, 25.6, 24.2]  \n",
       "temperature_2m_min         [13.8, 14.0, 13.6, 14.2, 14.2, 15.6, 15.7]  \n",
       "rain_sum                          [0.0, 0.0, 0.0, 0.0, 0.0, 0.0, 0.0]  "
      ]
     },
     "execution_count": 28,
     "metadata": {},
     "output_type": "execute_result"
    }
   ],
   "source": [
    "pd.DataFrame(meteo)"
   ]
  },
  {
   "cell_type": "code",
   "execution_count": 73,
   "id": "1517d50e",
   "metadata": {},
   "outputs": [],
   "source": [
    "meteo_results = []\n",
    "\n",
    "for i in range(0, 8):\n",
    "    req3 = requests.get('https://api.open-meteo.com/v1/forecast?latitude=40.42&longitude=-3.70&daily=temperature_2m_max,temperature_2m_min,rain_sum&current_weather=true&timezone=Europe%2FBerlin')\n",
    "    meteo = req3.json()\n",
    "    \n",
    "    temp = {\n",
    "                \"Dia\": meteo['daily']['time'][0:],\n",
    "                \"Temperatura max\": meteo['daily']['temperature_2m_max'][0:],\n",
    "                \"Temperatura min\": meteo['daily']['temperature_2m_min'][0:],\n",
    "                \"Lluvia\": meteo['daily']['rain_sum'][0:]\n",
    "    }\n",
    "    \n",
    "    meteo_results.append(temp)"
   ]
  },
  {
   "cell_type": "code",
   "execution_count": 75,
   "id": "1043ba58",
   "metadata": {},
   "outputs": [
    {
     "data": {
      "text/plain": [
       "['2023-05-30',\n",
       " '2023-05-31',\n",
       " '2023-06-01',\n",
       " '2023-06-02',\n",
       " '2023-06-03',\n",
       " '2023-06-04',\n",
       " '2023-06-05']"
      ]
     },
     "execution_count": 75,
     "metadata": {},
     "output_type": "execute_result"
    }
   ],
   "source": [
    "meteo_results[0]['Dia'][0:]"
   ]
  },
  {
   "cell_type": "code",
   "execution_count": 82,
   "id": "6bbff192",
   "metadata": {},
   "outputs": [],
   "source": [
    "meteo_filas = [meteo_results[0]['Dia'][0:],\n",
    "               meteo_results[0]['Temperatura max'][0:],\n",
    "               meteo_results[0]['Temperatura min'][0:],\n",
    "               meteo_results[0]['Lluvia'][0:],\n",
    "              ]"
   ]
  },
  {
   "cell_type": "code",
   "execution_count": 83,
   "id": "9fa0571e",
   "metadata": {},
   "outputs": [
    {
     "data": {
      "text/html": [
       "<div>\n",
       "<style scoped>\n",
       "    .dataframe tbody tr th:only-of-type {\n",
       "        vertical-align: middle;\n",
       "    }\n",
       "\n",
       "    .dataframe tbody tr th {\n",
       "        vertical-align: top;\n",
       "    }\n",
       "\n",
       "    .dataframe thead th {\n",
       "        text-align: right;\n",
       "    }\n",
       "</style>\n",
       "<table border=\"1\" class=\"dataframe\">\n",
       "  <thead>\n",
       "    <tr style=\"text-align: right;\">\n",
       "      <th></th>\n",
       "      <th>0</th>\n",
       "      <th>1</th>\n",
       "      <th>2</th>\n",
       "      <th>3</th>\n",
       "      <th>4</th>\n",
       "      <th>5</th>\n",
       "      <th>6</th>\n",
       "    </tr>\n",
       "  </thead>\n",
       "  <tbody>\n",
       "    <tr>\n",
       "      <th>0</th>\n",
       "      <td>2023-05-30</td>\n",
       "      <td>2023-05-31</td>\n",
       "      <td>2023-06-01</td>\n",
       "      <td>2023-06-02</td>\n",
       "      <td>2023-06-03</td>\n",
       "      <td>2023-06-04</td>\n",
       "      <td>2023-06-05</td>\n",
       "    </tr>\n",
       "    <tr>\n",
       "      <th>1</th>\n",
       "      <td>22.0</td>\n",
       "      <td>24.2</td>\n",
       "      <td>21.1</td>\n",
       "      <td>22.1</td>\n",
       "      <td>23.5</td>\n",
       "      <td>25.6</td>\n",
       "      <td>24.2</td>\n",
       "    </tr>\n",
       "    <tr>\n",
       "      <th>2</th>\n",
       "      <td>13.8</td>\n",
       "      <td>14.0</td>\n",
       "      <td>13.6</td>\n",
       "      <td>14.2</td>\n",
       "      <td>14.2</td>\n",
       "      <td>15.6</td>\n",
       "      <td>15.7</td>\n",
       "    </tr>\n",
       "    <tr>\n",
       "      <th>3</th>\n",
       "      <td>0.0</td>\n",
       "      <td>0.0</td>\n",
       "      <td>0.0</td>\n",
       "      <td>0.0</td>\n",
       "      <td>0.0</td>\n",
       "      <td>0.0</td>\n",
       "      <td>0.0</td>\n",
       "    </tr>\n",
       "  </tbody>\n",
       "</table>\n",
       "</div>"
      ],
      "text/plain": [
       "            0           1           2           3           4           5  \\\n",
       "0  2023-05-30  2023-05-31  2023-06-01  2023-06-02  2023-06-03  2023-06-04   \n",
       "1        22.0        24.2        21.1        22.1        23.5        25.6   \n",
       "2        13.8        14.0        13.6        14.2        14.2        15.6   \n",
       "3         0.0         0.0         0.0         0.0         0.0         0.0   \n",
       "\n",
       "            6  \n",
       "0  2023-06-05  \n",
       "1        24.2  \n",
       "2        15.7  \n",
       "3         0.0  "
      ]
     },
     "execution_count": 83,
     "metadata": {},
     "output_type": "execute_result"
    }
   ],
   "source": [
    "pd.DataFrame(meteo_filas)"
   ]
  },
  {
   "cell_type": "code",
   "execution_count": 84,
   "id": "af7d2a69",
   "metadata": {},
   "outputs": [
    {
     "data": {
      "text/html": [
       "<div>\n",
       "<style scoped>\n",
       "    .dataframe tbody tr th:only-of-type {\n",
       "        vertical-align: middle;\n",
       "    }\n",
       "\n",
       "    .dataframe tbody tr th {\n",
       "        vertical-align: top;\n",
       "    }\n",
       "\n",
       "    .dataframe thead th {\n",
       "        text-align: right;\n",
       "    }\n",
       "</style>\n",
       "<table border=\"1\" class=\"dataframe\">\n",
       "  <thead>\n",
       "    <tr style=\"text-align: right;\">\n",
       "      <th></th>\n",
       "      <th>0</th>\n",
       "      <th>1</th>\n",
       "      <th>2</th>\n",
       "      <th>3</th>\n",
       "    </tr>\n",
       "  </thead>\n",
       "  <tbody>\n",
       "    <tr>\n",
       "      <th>0</th>\n",
       "      <td>2023-05-30</td>\n",
       "      <td>22.0</td>\n",
       "      <td>13.8</td>\n",
       "      <td>0.0</td>\n",
       "    </tr>\n",
       "    <tr>\n",
       "      <th>1</th>\n",
       "      <td>2023-05-31</td>\n",
       "      <td>24.2</td>\n",
       "      <td>14.0</td>\n",
       "      <td>0.0</td>\n",
       "    </tr>\n",
       "    <tr>\n",
       "      <th>2</th>\n",
       "      <td>2023-06-01</td>\n",
       "      <td>21.1</td>\n",
       "      <td>13.6</td>\n",
       "      <td>0.0</td>\n",
       "    </tr>\n",
       "    <tr>\n",
       "      <th>3</th>\n",
       "      <td>2023-06-02</td>\n",
       "      <td>22.1</td>\n",
       "      <td>14.2</td>\n",
       "      <td>0.0</td>\n",
       "    </tr>\n",
       "    <tr>\n",
       "      <th>4</th>\n",
       "      <td>2023-06-03</td>\n",
       "      <td>23.5</td>\n",
       "      <td>14.2</td>\n",
       "      <td>0.0</td>\n",
       "    </tr>\n",
       "    <tr>\n",
       "      <th>5</th>\n",
       "      <td>2023-06-04</td>\n",
       "      <td>25.6</td>\n",
       "      <td>15.6</td>\n",
       "      <td>0.0</td>\n",
       "    </tr>\n",
       "    <tr>\n",
       "      <th>6</th>\n",
       "      <td>2023-06-05</td>\n",
       "      <td>24.2</td>\n",
       "      <td>15.7</td>\n",
       "      <td>0.0</td>\n",
       "    </tr>\n",
       "  </tbody>\n",
       "</table>\n",
       "</div>"
      ],
      "text/plain": [
       "            0     1     2    3\n",
       "0  2023-05-30  22.0  13.8  0.0\n",
       "1  2023-05-31  24.2  14.0  0.0\n",
       "2  2023-06-01  21.1  13.6  0.0\n",
       "3  2023-06-02  22.1  14.2  0.0\n",
       "4  2023-06-03  23.5  14.2  0.0\n",
       "5  2023-06-04  25.6  15.6  0.0\n",
       "6  2023-06-05  24.2  15.7  0.0"
      ]
     },
     "execution_count": 84,
     "metadata": {},
     "output_type": "execute_result"
    }
   ],
   "source": [
    "df = pd.DataFrame(meteo_filas)\n",
    "df_trans = df.transpose()\n",
    "df_trans"
   ]
  },
  {
   "cell_type": "code",
   "execution_count": 85,
   "id": "c280b9d4",
   "metadata": {},
   "outputs": [
    {
     "data": {
      "text/html": [
       "<div>\n",
       "<style scoped>\n",
       "    .dataframe tbody tr th:only-of-type {\n",
       "        vertical-align: middle;\n",
       "    }\n",
       "\n",
       "    .dataframe tbody tr th {\n",
       "        vertical-align: top;\n",
       "    }\n",
       "\n",
       "    .dataframe thead th {\n",
       "        text-align: right;\n",
       "    }\n",
       "</style>\n",
       "<table border=\"1\" class=\"dataframe\">\n",
       "  <thead>\n",
       "    <tr style=\"text-align: right;\">\n",
       "      <th></th>\n",
       "      <th>Fecha</th>\n",
       "      <th>Temperatura_max</th>\n",
       "      <th>Temperatura_min</th>\n",
       "      <th>Lluvia</th>\n",
       "    </tr>\n",
       "  </thead>\n",
       "  <tbody>\n",
       "    <tr>\n",
       "      <th>0</th>\n",
       "      <td>2023-05-30</td>\n",
       "      <td>22.0</td>\n",
       "      <td>13.8</td>\n",
       "      <td>0.0</td>\n",
       "    </tr>\n",
       "    <tr>\n",
       "      <th>1</th>\n",
       "      <td>2023-05-31</td>\n",
       "      <td>24.2</td>\n",
       "      <td>14.0</td>\n",
       "      <td>0.0</td>\n",
       "    </tr>\n",
       "    <tr>\n",
       "      <th>2</th>\n",
       "      <td>2023-06-01</td>\n",
       "      <td>21.1</td>\n",
       "      <td>13.6</td>\n",
       "      <td>0.0</td>\n",
       "    </tr>\n",
       "    <tr>\n",
       "      <th>3</th>\n",
       "      <td>2023-06-02</td>\n",
       "      <td>22.1</td>\n",
       "      <td>14.2</td>\n",
       "      <td>0.0</td>\n",
       "    </tr>\n",
       "    <tr>\n",
       "      <th>4</th>\n",
       "      <td>2023-06-03</td>\n",
       "      <td>23.5</td>\n",
       "      <td>14.2</td>\n",
       "      <td>0.0</td>\n",
       "    </tr>\n",
       "    <tr>\n",
       "      <th>5</th>\n",
       "      <td>2023-06-04</td>\n",
       "      <td>25.6</td>\n",
       "      <td>15.6</td>\n",
       "      <td>0.0</td>\n",
       "    </tr>\n",
       "    <tr>\n",
       "      <th>6</th>\n",
       "      <td>2023-06-05</td>\n",
       "      <td>24.2</td>\n",
       "      <td>15.7</td>\n",
       "      <td>0.0</td>\n",
       "    </tr>\n",
       "  </tbody>\n",
       "</table>\n",
       "</div>"
      ],
      "text/plain": [
       "        Fecha Temperatura_max Temperatura_min Lluvia\n",
       "0  2023-05-30            22.0            13.8    0.0\n",
       "1  2023-05-31            24.2            14.0    0.0\n",
       "2  2023-06-01            21.1            13.6    0.0\n",
       "3  2023-06-02            22.1            14.2    0.0\n",
       "4  2023-06-03            23.5            14.2    0.0\n",
       "5  2023-06-04            25.6            15.6    0.0\n",
       "6  2023-06-05            24.2            15.7    0.0"
      ]
     },
     "execution_count": 85,
     "metadata": {},
     "output_type": "execute_result"
    }
   ],
   "source": [
    "column_names = ['Fecha', 'Temperatura_max', 'Temperatura_min', 'Lluvia']\n",
    "df_trans.columns = column_names\n",
    "df_trans"
   ]
  },
  {
   "cell_type": "code",
   "execution_count": null,
   "id": "4fefb23f",
   "metadata": {},
   "outputs": [],
   "source": []
  },
  {
   "cell_type": "code",
   "execution_count": null,
   "id": "e296a619",
   "metadata": {},
   "outputs": [],
   "source": []
  }
 ],
 "metadata": {
  "kernelspec": {
   "display_name": "Python 3 (ipykernel)",
   "language": "python",
   "name": "python3"
  },
  "language_info": {
   "codemirror_mode": {
    "name": "ipython",
    "version": 3
   },
   "file_extension": ".py",
   "mimetype": "text/x-python",
   "name": "python",
   "nbconvert_exporter": "python",
   "pygments_lexer": "ipython3",
   "version": "3.10.9"
  }
 },
 "nbformat": 4,
 "nbformat_minor": 5
}
